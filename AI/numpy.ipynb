{
 "cells": [
  {
   "cell_type": "code",
   "execution_count": 2,
   "metadata": {},
   "outputs": [
    {
     "data": {
      "text/plain": [
       "'/opt/conda/lib/python3.11/site-packages/numpy/__init__.py'"
      ]
     },
     "execution_count": 2,
     "metadata": {},
     "output_type": "execute_result"
    }
   ],
   "source": [
    "import numpy as np\n",
    "\n",
    "# モジュールがどこにあるか\n",
    "np.__file__"
   ]
  },
  {
   "cell_type": "markdown",
   "metadata": {},
   "source": [
    "## Numpy Arrays"
   ]
  },
  {
   "cell_type": "code",
   "execution_count": 19,
   "metadata": {},
   "outputs": [
    {
     "data": {
      "text/plain": [
       "[1, 2, 3]"
      ]
     },
     "execution_count": 19,
     "metadata": {},
     "output_type": "execute_result"
    }
   ],
   "source": [
    "## 普通のPythonのリスト\n",
    "python_list = [1, 2, 3]\n",
    "python_list\n"
   ]
  },
  {
   "cell_type": "code",
   "execution_count": 20,
   "metadata": {},
   "outputs": [
    {
     "data": {
      "text/plain": [
       "array([1, 2, 3])"
      ]
     },
     "execution_count": 20,
     "metadata": {},
     "output_type": "execute_result"
    }
   ],
   "source": [
    "## np.array()でNumpyArrayを作成できる\n",
    "np_list = np.array([1, 2, 3])\n",
    "np_list\n"
   ]
  },
  {
   "cell_type": "code",
   "execution_count": 21,
   "metadata": {},
   "outputs": [
    {
     "name": "stdout",
     "output_type": "stream",
     "text": [
      "[[1, 2, 3], [4, 5, 6]]\n"
     ]
    }
   ],
   "source": [
    "## 入れ子\n",
    "python_list_in_list = [[1, 2, 3], [4, 5, 6]]\n",
    "print(python_list_in_list)"
   ]
  },
  {
   "cell_type": "code",
   "execution_count": 24,
   "metadata": {},
   "outputs": [
    {
     "data": {
      "text/plain": [
       "array([[1, 2, 3],\n",
       "       [4, 5, 6]])"
      ]
     },
     "execution_count": 24,
     "metadata": {},
     "output_type": "execute_result"
    }
   ],
   "source": [
    "## 入れ子にすると、行列になる\n",
    "np_list_in_list = np.array([[1, 2, 3], [4, 5, 6]])\n",
    "np_list_in_list"
   ]
  },
  {
   "cell_type": "code",
   "execution_count": 25,
   "metadata": {},
   "outputs": [
    {
     "name": "stdout",
     "output_type": "stream",
     "text": [
      "[['a', 2, 3], [4, 5, 6]]\n"
     ]
    }
   ],
   "source": [
    "## データ型\n",
    "python_list_in_list[0][0] = \"a\"\n",
    "python_list_in_list"
   ]
  },
  {
   "cell_type": "code",
   "execution_count": 26,
   "metadata": {},
   "outputs": [
    {
     "ename": "ValueError",
     "evalue": "invalid literal for int() with base 10: 'a'",
     "output_type": "error",
     "traceback": [
      "\u001b[0;31m---------------------------------------------------------------------------\u001b[0m",
      "\u001b[0;31mValueError\u001b[0m                                Traceback (most recent call last)",
      "Cell \u001b[0;32mIn[26], line 2\u001b[0m\n\u001b[1;32m      1\u001b[0m \u001b[38;5;66;03m## データ型は揃えないとエラーになる\u001b[39;00m\n\u001b[0;32m----> 2\u001b[0m \u001b[43mnp_list_in_list\u001b[49m\u001b[43m[\u001b[49m\u001b[38;5;241;43m0\u001b[39;49m\u001b[43m]\u001b[49m\u001b[43m[\u001b[49m\u001b[38;5;241;43m0\u001b[39;49m\u001b[43m]\u001b[49m \u001b[38;5;241m=\u001b[39m \u001b[38;5;124m\"\u001b[39m\u001b[38;5;124ma\u001b[39m\u001b[38;5;124m\"\u001b[39m\n\u001b[1;32m      3\u001b[0m np_list_in_list\n",
      "\u001b[0;31mValueError\u001b[0m: invalid literal for int() with base 10: 'a'"
     ]
    }
   ],
   "source": [
    "## データ型は揃えないとエラーになる\n",
    "np_list_in_list[0][0] = \"a\"\n",
    "np_list_in_list"
   ]
  },
  {
   "cell_type": "markdown",
   "metadata": {},
   "source": [
    "### Numpy Arrayの演算"
   ]
  },
  {
   "cell_type": "code",
   "execution_count": 60,
   "metadata": {},
   "outputs": [
    {
     "data": {
      "text/plain": [
       "array([[ 5,  7,  9],\n",
       "       [11, 13, 15],\n",
       "       [17, 19, 21]])"
      ]
     },
     "execution_count": 60,
     "metadata": {},
     "output_type": "execute_result"
    }
   ],
   "source": [
    "array1 = np.array([[1, 2, 3], [4, 5, 6], [7, 8, 9]])\n",
    "array2 = np.array([[4, 5, 6], [7, 8, 9], [10, 11, 12]])\n",
    "\n",
    "array1 + array2"
   ]
  },
  {
   "cell_type": "code",
   "execution_count": 61,
   "metadata": {},
   "outputs": [
    {
     "data": {
      "text/plain": [
       "array([[-3, -3, -3],\n",
       "       [-3, -3, -3],\n",
       "       [-3, -3, -3]])"
      ]
     },
     "execution_count": 61,
     "metadata": {},
     "output_type": "execute_result"
    }
   ],
   "source": [
    "array1 - array2"
   ]
  },
  {
   "cell_type": "code",
   "execution_count": 62,
   "metadata": {},
   "outputs": [
    {
     "data": {
      "text/plain": [
       "array([[  4,  10,  18],\n",
       "       [ 28,  40,  54],\n",
       "       [ 70,  88, 108]])"
      ]
     },
     "execution_count": 62,
     "metadata": {},
     "output_type": "execute_result"
    }
   ],
   "source": [
    "array1 * array2"
   ]
  },
  {
   "cell_type": "code",
   "execution_count": 63,
   "metadata": {},
   "outputs": [
    {
     "data": {
      "text/plain": [
       "array([[0.25      , 0.4       , 0.5       ],\n",
       "       [0.57142857, 0.625     , 0.66666667],\n",
       "       [0.7       , 0.72727273, 0.75      ]])"
      ]
     },
     "execution_count": 63,
     "metadata": {},
     "output_type": "execute_result"
    }
   ],
   "source": [
    "array1 / array2"
   ]
  },
  {
   "cell_type": "code",
   "execution_count": 64,
   "metadata": {},
   "outputs": [
    {
     "data": {
      "text/plain": [
       "array([[ 2,  4,  6],\n",
       "       [ 5,  7,  9],\n",
       "       [ 8, 10, 12]])"
      ]
     },
     "execution_count": 64,
     "metadata": {},
     "output_type": "execute_result"
    }
   ],
   "source": [
    "# サイズが異なるとブロードキャストされる\n",
    "array3 = np.array([[1, 2, 3]])\n",
    "# 上記は以下と同じ\n",
    "# array3 = np.arrya([[1, 2, 3], [1, 2, 3], [1, 2, 3]])\n",
    "array1 + array3"
   ]
  },
  {
   "cell_type": "code",
   "execution_count": 65,
   "metadata": {},
   "outputs": [
    {
     "ename": "ValueError",
     "evalue": "operands could not be broadcast together with shapes (3,3) (2,3) ",
     "output_type": "error",
     "traceback": [
      "\u001b[0;31m---------------------------------------------------------------------------\u001b[0m",
      "\u001b[0;31mValueError\u001b[0m                                Traceback (most recent call last)",
      "Cell \u001b[0;32mIn[65], line 5\u001b[0m\n\u001b[1;32m      1\u001b[0m \u001b[38;5;66;03m# ブロードキャストできない場合もある\u001b[39;00m\n\u001b[1;32m      2\u001b[0m \u001b[38;5;66;03m# 以下はエラーになる\u001b[39;00m\n\u001b[1;32m      3\u001b[0m \u001b[38;5;66;03m# くわしくはこちらを参照(https://www.tutorialspoint.com/numpy/numpy_broadcasting.htm)\u001b[39;00m\n\u001b[1;32m      4\u001b[0m array4 \u001b[38;5;241m=\u001b[39m np\u001b[38;5;241m.\u001b[39marray([[\u001b[38;5;241m1\u001b[39m, \u001b[38;5;241m2\u001b[39m, \u001b[38;5;241m3\u001b[39m], [\u001b[38;5;241m4\u001b[39m, \u001b[38;5;241m5\u001b[39m, \u001b[38;5;241m6\u001b[39m]])\n\u001b[0;32m----> 5\u001b[0m \u001b[43marray1\u001b[49m\u001b[43m \u001b[49m\u001b[38;5;241;43m+\u001b[39;49m\u001b[43m \u001b[49m\u001b[43marray4\u001b[49m\n",
      "\u001b[0;31mValueError\u001b[0m: operands could not be broadcast together with shapes (3,3) (2,3) "
     ]
    }
   ],
   "source": [
    "# ブロードキャストできない場合もある\n",
    "# 以下はエラーになる\n",
    "# くわしくはこちらを参照(https://www.tutorialspoint.com/numpy/numpy_broadcasting.htm)\n",
    "array4 = np.array([[1, 2, 3], [4, 5, 6]])\n",
    "array1 + array4\n"
   ]
  },
  {
   "cell_type": "markdown",
   "metadata": {},
   "source": [
    "## 様々な多次元配列"
   ]
  },
  {
   "cell_type": "code",
   "execution_count": 66,
   "metadata": {},
   "outputs": [
    {
     "data": {
      "text/plain": [
       "array([0, 2, 4])"
      ]
     },
     "execution_count": 66,
     "metadata": {},
     "output_type": "execute_result"
    }
   ],
   "source": [
    "# .array([start,] stop, [step])\n",
    "# 0から5まで2ずつ増やす\n",
    "np.arange(0, 5, 2)\n"
   ]
  },
  {
   "cell_type": "code",
   "execution_count": 67,
   "metadata": {},
   "outputs": [
    {
     "data": {
      "text/plain": [
       "array([0.        , 0.10204082, 0.20408163, 0.30612245, 0.40816327,\n",
       "       0.51020408, 0.6122449 , 0.71428571, 0.81632653, 0.91836735,\n",
       "       1.02040816, 1.12244898, 1.2244898 , 1.32653061, 1.42857143,\n",
       "       1.53061224, 1.63265306, 1.73469388, 1.83673469, 1.93877551,\n",
       "       2.04081633, 2.14285714, 2.24489796, 2.34693878, 2.44897959,\n",
       "       2.55102041, 2.65306122, 2.75510204, 2.85714286, 2.95918367,\n",
       "       3.06122449, 3.16326531, 3.26530612, 3.36734694, 3.46938776,\n",
       "       3.57142857, 3.67346939, 3.7755102 , 3.87755102, 3.97959184,\n",
       "       4.08163265, 4.18367347, 4.28571429, 4.3877551 , 4.48979592,\n",
       "       4.59183673, 4.69387755, 4.79591837, 4.89795918, 5.        ])"
      ]
     },
     "execution_count": 67,
     "metadata": {},
     "output_type": "execute_result"
    }
   ],
   "source": [
    "# np.linspace(start, stop, num=50)\n",
    "# 0から5まで50個の要素に分割\n",
    "np.linspace(0, 5, 50)"
   ]
  },
  {
   "cell_type": "code",
   "execution_count": 68,
   "metadata": {},
   "outputs": [
    {
     "name": "stdout",
     "output_type": "stream",
     "text": [
      "original array'id is 276773945040\n",
      "copied array'id is 274977024656\n",
      "[100   1   2   3   4]\n",
      "[0 1 2 3 4]\n"
     ]
    }
   ],
   "source": [
    "# .copy()\n",
    "# Pythonは基本、参照渡し\n",
    "# .copyを使用することで、値渡しができる\n",
    "ndarray = np.arange(0, 5)\n",
    "ndarray_copy = ndarray.copy()\n",
    "print(\"original array'id is {}\".format(id(ndarray)))\n",
    "print(\"copied array'id is {}\".format(id(ndarray_copy)))\n",
    "\n",
    "ndarray_copy[0] = 100\n",
    "print(ndarray_copy)\n",
    "print(ndarray)\n",
    "\n",
    "\n"
   ]
  },
  {
   "cell_type": "code",
   "execution_count": 69,
   "metadata": {},
   "outputs": [
    {
     "name": "stdout",
     "output_type": "stream",
     "text": [
      "output_str: hello world\n",
      "output_list: ['h', 'e', 'l', 'l', 'o', ' ', 'w', 'o', 'r', 'l', 'd']\n",
      "h_str: hello\n",
      "h_list: ['h', 'e', 'l', 'l', 'o', ' ', 'w', 'o', 'r', 'l', 'd']\n"
     ]
    },
    {
     "data": {
      "text/plain": [
       "'\\nNumpy Arrayで、コピーをする時は、.copy()を使用しないと、値を上書きしてしまうので、注意\\n'"
      ]
     },
     "execution_count": 69,
     "metadata": {},
     "output_type": "execute_result"
    }
   ],
   "source": [
    "## pythonで、参照渡しされるものと値渡しされるもの\n",
    "# 参照渡し\n",
    "# リスト、辞書、集合、配列、データフレームなど\n",
    "# 値渡し\n",
    "# 整数、浮動小数点数、文字列、タプルなど\n",
    "\n",
    "def add_world(hello):\n",
    "    hello += ' world'\n",
    "    return hello\n",
    " \n",
    "h_str = 'hello'\n",
    "h_list = ['h', 'e', 'l', 'l', 'o']\n",
    "output_str = add_world(h_str)\n",
    "output_list = add_world(h_list)\n",
    " \n",
    "print('output_str: {}'.format(output_str))\n",
    "print('output_list: {}'.format(output_list))\n",
    " \n",
    "print('h_str: {}'.format(h_str)) # これは値渡し(helloのまま)\n",
    "print('h_list: {}'.format(h_list)) # これは参照渡し(hello worldになる)\n",
    "\n",
    "\"\"\"\n",
    "Numpy Arrayで、コピーをする時は、.copy()を使用しないと、値を上書きしてしまうので、注意\n",
    "\"\"\"\n"
   ]
  },
  {
   "cell_type": "code",
   "execution_count": 70,
   "metadata": {},
   "outputs": [
    {
     "data": {
      "text/plain": [
       "array([[0., 0., 0.],\n",
       "       [0., 0., 0.]])"
      ]
     },
     "execution_count": 70,
     "metadata": {},
     "output_type": "execute_result"
    }
   ],
   "source": [
    "# np.zero(shape)\n",
    "shape = (2, 3)\n",
    "zero = np.zeros(shape)\n",
    "zero"
   ]
  },
  {
   "cell_type": "code",
   "execution_count": 71,
   "metadata": {},
   "outputs": [
    {
     "data": {
      "text/plain": [
       "array([[1., 1., 1.],\n",
       "       [1., 1., 1.]])"
      ]
     },
     "execution_count": 71,
     "metadata": {},
     "output_type": "execute_result"
    }
   ],
   "source": [
    "# np.ones(shape)\n",
    "shape = (2, 3)\n",
    "ones = np.ones(shape)\n",
    "ones"
   ]
  },
  {
   "cell_type": "code",
   "execution_count": 72,
   "metadata": {},
   "outputs": [
    {
     "data": {
      "text/plain": [
       "'\\n単位行列とは\\n1 0 0\\n0 1 0\\n0 0 1\\nのような行列で、対角成分が1で、それ以外が0の行列\\n'"
      ]
     },
     "execution_count": 72,
     "metadata": {},
     "output_type": "execute_result"
    }
   ],
   "source": [
    "# np.eye(N): 単位行列を作成\n",
    "np.eye(3)\n",
    "\n",
    "\"\"\"\n",
    "単位行列とは\n",
    "1 0 0\n",
    "0 1 0\n",
    "0 0 1\n",
    "のような行列で、対角成分が1で、それ以外が0の行列\n",
    "\"\"\"\n"
   ]
  },
  {
   "cell_type": "code",
   "execution_count": 73,
   "metadata": {},
   "outputs": [
    {
     "name": "stdout",
     "output_type": "stream",
     "text": [
      "0.7916545239566264\n",
      "[0.53955216 0.3772692  0.36035597]\n",
      "[[0.05504014 0.35280088 0.02934669]\n",
      " [0.89688319 0.23450385 0.09029586]]\n"
     ]
    }
   ],
   "source": [
    "# np.random_rand(d0, d1, ..., dn): ランダムな数字で行列を作れる\n",
    "random_float = np.random.rand()\n",
    "random_1d  = np.random.rand(3)\n",
    "random_2d = np.random.rand(2, 3)\n",
    "\n",
    "print(random_float)\n",
    "print(random_1d)\n",
    "print(random_2d)"
   ]
  },
  {
   "cell_type": "code",
   "execution_count": 74,
   "metadata": {},
   "outputs": [
    {
     "name": "stdout",
     "output_type": "stream",
     "text": [
      "1.8670902266834177\n",
      "[ 1.26922193  1.10316067 -0.0290321 ]\n",
      "[[-0.84613911  0.68000643  0.56480925]\n",
      " [ 0.71642749  1.37809683 -0.59888309]]\n"
     ]
    }
   ],
   "source": [
    "# np.random.randn(d0, d1, ..., dn): 正規分布のランダムな数字で行列を作れる\n",
    "random_normal = np.random.randn()\n",
    "random_1d  = np.random.randn(3)\n",
    "random_2d = np.random.randn(2, 3)\n",
    "\n",
    "print(random_normal)\n",
    "print(random_1d)\n",
    "print(random_2d)\n",
    "\n"
   ]
  },
  {
   "cell_type": "code",
   "execution_count": 75,
   "metadata": {},
   "outputs": [
    {
     "name": "stdout",
     "output_type": "stream",
     "text": [
      "3\n",
      "[3 4 6]\n",
      "[[8 0 1]\n",
      " [0 5 4]]\n"
     ]
    }
   ],
   "source": [
    "# np.random.randint(low, high, size): lowからhighまでの範囲でランダムな整数を生成\n",
    "random_int = np.random.randint(0, 10)\n",
    "random_1d_int = np.random.randint(0, 10, 3)\n",
    "random_2d_int = np.random.randint(0, 10, (2, 3))\n",
    "\n",
    "print(random_int)\n",
    "print(random_1d_int)\n",
    "print(random_2d_int)"
   ]
  },
  {
   "cell_type": "code",
   "execution_count": 77,
   "metadata": {},
   "outputs": [
    {
     "name": "stdout",
     "output_type": "stream",
     "text": [
      "reshaped: [[0 1 2 3 4]\n",
      " [5 6 7 8 9]]\n",
      "shape: (2, 5)\n",
      "original array: [0 1 2 3 4 5 6 7 8 9]\n"
     ]
    }
   ],
   "source": [
    "# reshape: 行列の形状を変更できる\n",
    "array = np.arange(0, 10)\n",
    "reshaped_array = array.reshape(2, 5)\n",
    "print('reshaped: {}'.format(reshaped_array))\n",
    "# 行列の形状を確認\n",
    "print('shape: {}'.format(reshaped_array.shape))\n",
    "print('original array: {}'.format(array))"
   ]
  },
  {
   "cell_type": "markdown",
   "metadata": {},
   "source": [
    "## 便利な関数"
   ]
  },
  {
   "cell_type": "code",
   "execution_count": 78,
   "metadata": {},
   "outputs": [
    {
     "data": {
      "text/plain": [
       "array([[ 0.28837825,  1.67089116, -0.28186871,  0.94635028,  1.2447674 ],\n",
       "       [ 0.0186546 , -0.48487155,  0.10900986, -0.0950413 ,  1.08756974],\n",
       "       [-0.95706732,  0.38360349,  1.64727573, -0.73678603, -0.20896289],\n",
       "       [ 0.70023816,  1.08837069, -0.84686488, -1.42008482,  0.95646113],\n",
       "       [ 0.57343725, -0.73645965, -0.38778633,  0.13583679,  1.34940527]])"
      ]
     },
     "execution_count": 78,
     "metadata": {},
     "output_type": "execute_result"
    }
   ],
   "source": [
    "# ランダムな正規分布を作成\n",
    "normal_dist_mat = np.random.randn(5, 5)\n",
    "normal_dist_mat"
   ]
  },
  {
   "cell_type": "code",
   "execution_count": 79,
   "metadata": {},
   "outputs": [
    {
     "name": "stdout",
     "output_type": "stream",
     "text": [
      "max: 1.6708911562997535\n"
     ]
    }
   ],
   "source": [
    "# 最大値を取得\n",
    "print('max: {}'.format(normal_dist_mat.max()))"
   ]
  },
  {
   "cell_type": "code",
   "execution_count": 80,
   "metadata": {},
   "outputs": [
    {
     "name": "stdout",
     "output_type": "stream",
     "text": [
      "max index: 1\n"
     ]
    }
   ],
   "source": [
    "# 最大値のインデックスを求める\n",
    "print('max index: {}'.format(normal_dist_mat.argmax()))"
   ]
  },
  {
   "cell_type": "code",
   "execution_count": 83,
   "metadata": {},
   "outputs": [
    {
     "data": {
      "text/plain": [
       "np.float64(-0.09504129785250225)"
      ]
     },
     "execution_count": 83,
     "metadata": {},
     "output_type": "execute_result"
    }
   ],
   "source": [
    "# 次元を1次元に変換\n",
    "normal_dist_mat.flatten()[8]"
   ]
  },
  {
   "cell_type": "code",
   "execution_count": 84,
   "metadata": {},
   "outputs": [
    {
     "name": "stdout",
     "output_type": "stream",
     "text": [
      "min: -1.420084816572892\n",
      "min index: 18\n"
     ]
    }
   ],
   "source": [
    "# 最小値\n",
    "print('min: {}'.format(normal_dist_mat.min()))\n",
    "\n",
    "# 最小値のインデックス\n",
    "print('min index: {}'.format(normal_dist_mat.argmin()))"
   ]
  },
  {
   "cell_type": "code",
   "execution_count": 85,
   "metadata": {},
   "outputs": [
    {
     "name": "stdout",
     "output_type": "stream",
     "text": [
      "mean: 0.24177825208287124\n",
      "median: 0.1358367867209207\n",
      "std: 0.846755806909933\n",
      "var: 0.7169953965356918\n"
     ]
    }
   ],
   "source": [
    "# 平均値を取得\n",
    "print('mean: {}'.format(normal_dist_mat.mean()))\n",
    "# 中央値を取得\n",
    "print('median: {}'.format(np.median(normal_dist_mat)))\n",
    "# 標準偏差を取得\n",
    "print('std: {}'.format(normal_dist_mat.std()))\n",
    "# 分散を取得\n",
    "print('var: {}'.format(normal_dist_mat.var()))"
   ]
  },
  {
   "cell_type": "code",
   "execution_count": 91,
   "metadata": {},
   "outputs": [
    {
     "name": "stdout",
     "output_type": "stream",
     "text": [
      "original matrix: [[ 0.28837825  1.67089116 -0.28186871  0.94635028  1.2447674 ]\n",
      " [ 0.0186546  -0.48487155  0.10900986 -0.0950413   1.08756974]\n",
      " [-0.95706732  0.38360349  1.64727573 -0.73678603 -0.20896289]\n",
      " [ 0.70023816  1.08837069 -0.84686488 -1.42008482  0.95646113]\n",
      " [ 0.57343725 -0.73645965 -0.38778633  0.13583679  1.34940527]]\n",
      "axis=0 列(縦): [0.70023816 1.67089116 1.64727573 0.94635028 1.34940527]\n",
      "axis=1 行(横): [1.67089116 1.08756974 1.64727573 1.08837069 1.34940527]\n"
     ]
    }
   ],
   "source": [
    "# 引数でaxisを指定することで、次元ごとに計算できる\n",
    "# axis=0: 列ごとに計算\n",
    "# axis=1: 行ごとに計算\n",
    "print('original matrix: {}'.format(normal_dist_mat))\n",
    "print('axis=0 列(縦): {}'.format(normal_dist_mat.max(axis=0)))\n",
    "print('axis=1 行(横): {}'.format(normal_dist_mat.max(axis=1)))"
   ]
  },
  {
   "cell_type": "markdown",
   "metadata": {},
   "source": [
    "## Numpy　Arrayの読み込み・保存"
   ]
  },
  {
   "cell_type": "code",
   "execution_count": 93,
   "metadata": {},
   "outputs": [],
   "source": [
    "ndarray = np.array([[1, 2, 3], [4, 5, 6]])\n",
    "# 保存\n",
    "# 第一引数：ファイル名\n",
    "# 第二引数：保存する配列\n",
    "np.save('saved_numpy', ndarray)"
   ]
  },
  {
   "cell_type": "code",
   "execution_count": 94,
   "metadata": {},
   "outputs": [
    {
     "name": "stdout",
     "output_type": "stream",
     "text": [
      "loaded_numpy: [[1 2 3]\n",
      " [4 5 6]]\n",
      "-rw-r--r-- 1 jovyan users 176 Mar 23 09:33 saved_numpy.npy\n",
      "-rw-r--r-- 1 jovyan users 176 Mar 23 09:33 saved_numpy.npy\n"
     ]
    }
   ],
   "source": [
    "loaded_numpy = np.load('saved_numpy.npy')\n",
    "print('loaded_numpy: {}'.format(loaded_numpy))\n",
    "# 保存したファイルを確認\n",
    "!ls -l saved_numpy.npy\n",
    "# 保存したファイルを確認\n",
    "!ls -l saved_numpy.npy\n"
   ]
  },
  {
   "cell_type": "code",
   "execution_count": null,
   "metadata": {},
   "outputs": [],
   "source": []
  }
 ],
 "metadata": {
  "kernelspec": {
   "display_name": "Python 3 (ipykernel)",
   "language": "python",
   "name": "python3"
  },
  "language_info": {
   "codemirror_mode": {
    "name": "ipython",
    "version": 3
   },
   "file_extension": ".py",
   "mimetype": "text/x-python",
   "name": "python",
   "nbconvert_exporter": "python",
   "pygments_lexer": "ipython3",
   "version": "3.11.6"
  }
 },
 "nbformat": 4,
 "nbformat_minor": 2
}
