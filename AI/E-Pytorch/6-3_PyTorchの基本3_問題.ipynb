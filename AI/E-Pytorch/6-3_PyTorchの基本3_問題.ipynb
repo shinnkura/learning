{
 "cells": [
  {
   "cell_type": "markdown",
   "metadata": {
    "colab_type": "text",
    "id": "TGEladYqJNtE"
   },
   "source": [
    "# Tensorとは？\n",
    "---\n",
    "前単元まで`Tensor`の特徴を学んだ。  \n",
    "この単元ではTensorを利用する上で利用頻度が高い、関数などを学んでいこう！\n",
    "\n",
    "\n",
    "## この単元の目標\n",
    "\n",
    "* transposeの利用方法を学ぶ\n",
    "* reshapeの利用方法を学ぶ\n",
    "* zero_の利用方法を学ぶ\n",
    "\n",
    "  → **Tensor型でよく利用する関数について勉強していこう**"
   ]
  },
  {
   "cell_type": "code",
   "execution_count": null,
   "metadata": {
    "colab": {},
    "colab_type": "code",
    "id": "l4QbFw0EJNtF"
   },
   "outputs": [],
   "source": [
    "# pytorchライブラリのインポート\n",
    "import torch"
   ]
  },
  {
   "cell_type": "markdown",
   "metadata": {
    "colab_type": "text",
    "id": "kXYKBp6XJNtI"
   },
   "source": [
    "## Tensorを操作する関数 transposeとreshape\n",
    "---\n",
    "PyTorchでTensorを扱う際に利用頻度が高い、`transpose`と`reshape`の使い方を見ていこう\n",
    "\n",
    "それぞれの関数の働きは\n",
    "* `transpose`：**行列の転置**\n",
    "* `reshape`：**行列の形（サイズ）の変更**\n",
    "\n",
    "一つずつ体験していこう。\n",
    "\n",
    "【例題1】プログラムを実行して実行結果から挙動を確かめよう。"
   ]
  },
  {
   "cell_type": "code",
   "execution_count": null,
   "metadata": {
    "colab": {},
    "colab_type": "code",
    "id": "LPueLGPYJNtI",
    "outputId": "0b44065c-b7a5-471e-fdbb-0e56ec5559a4"
   },
   "outputs": [],
   "source": [
    "x = torch.rand((4, 3))\n",
    "print(x)\n",
    "print(x.transpose(0, 1))"
   ]
  },
  {
   "cell_type": "markdown",
   "metadata": {
    "colab_type": "text",
    "id": "4Orpgz1VJNtL"
   },
   "source": [
    "4行3列の行列から3行4列の行列へ転置をすることができた。\n",
    "\n",
    "* `Tensor名.transpose(0, 1)`で転置することができる\n",
    "    * `torch.t(Tensor名)`でも同様の動作となる\n",
    "    \n",
    "**注意**\n",
    "* NumPyのtransposeとは処理が違うので混同しないように注意が必要\n",
    "\n",
    "【例題2】プログラムを実行して実行結果から挙動を確かめよう。"
   ]
  },
  {
   "cell_type": "code",
   "execution_count": null,
   "metadata": {
    "colab": {},
    "colab_type": "code",
    "id": "QNKl1_W2JNtM",
    "outputId": "0cfe7a5a-d3d5-465b-b3a9-029d122dd79e"
   },
   "outputs": [],
   "source": [
    "x = torch.ones(16)\n",
    "print(x)\n",
    "print(x.reshape(2, 8))\n",
    "print(x.reshape(4, -1))"
   ]
  },
  {
   "cell_type": "markdown",
   "metadata": {
    "colab_type": "text",
    "id": "9tgDQASjJNtO"
   },
   "source": [
    "要素を変えずに形状だけ変えることができた。\n",
    "\n",
    "* `Tensor名.reshape(行, 列)`で形状を指定できる\n",
    "    * 行や列の引数に`-1`を指定することで他方の次元の長さに合わせて自動で形状変換が可能。\n",
    "    \n",
    "【問題】Tensor`[[1,1,1], [1,2,2], [2,2,3], [3,3,3]]`を宣言した後，3行に形状変換して表示しよう。"
   ]
  },
  {
   "cell_type": "code",
   "execution_count": null,
   "metadata": {
    "colab": {},
    "colab_type": "code",
    "id": "8UbJKbFAJNtO",
    "outputId": "193aaecf-2371-4d6d-d26b-f7b7b669266f"
   },
   "outputs": [],
   "source": []
  },
  {
   "cell_type": "markdown",
   "metadata": {
    "colab_type": "text",
    "id": "H6PccTTfJNtR"
   },
   "source": [
    "- ```\n",
    "tensor([[1, 1, 1, 1],\n",
    "        [2, 2, 2, 2],\n",
    "        [3, 3, 3, 3]])\n",
    "```\n",
    "と表示されていれば成功だ。"
   ]
  },
  {
   "cell_type": "markdown",
   "metadata": {
    "colab_type": "text",
    "id": "YLvGsaK_JNtS"
   },
   "source": [
    "## Tensorを操作する関数 zero_()\n",
    "---\n",
    "次は`zero_()`を紹介する。\n",
    "\n",
    "関数の働きは\n",
    "* `zero_()`：**行列の全ての要素を0にする**\n",
    "\n",
    "\n",
    "【例題】プログラムを実行して実行結果から挙動を確かめよう。"
   ]
  },
  {
   "cell_type": "code",
   "execution_count": null,
   "metadata": {
    "colab": {},
    "colab_type": "code",
    "id": "lcx7tUC5JNtS",
    "outputId": "b5cabbdf-7e28-47b6-b4df-f72eefcd023a"
   },
   "outputs": [],
   "source": [
    "a = torch.tensor([[1,2,3],[4,5,6]]) # 手動作成\n",
    "print(a)\n",
    "a.zero_()# 中身をゼロ埋めにする\n",
    "print(a)"
   ]
  },
  {
   "cell_type": "markdown",
   "metadata": {
    "colab_type": "text",
    "id": "z6Qz3XQOJNtU"
   },
   "source": [
    "上記のプログラムのように、変数の値を残さず変更することを**インプレース(破壊的メソッド)**と呼ぶ。\n",
    "* PyTorchではインプレースで変更する関数には**_**が利用されているので注意して利用しよう。\n",
    "\n",
    "【問題】Tensor`[[1,1,1], [1,2,2], [2,2,3], [3,3,3]]`を宣言した後、zero_()を利用して要素を全て0にして表示しよう。"
   ]
  },
  {
   "cell_type": "code",
   "execution_count": null,
   "metadata": {
    "colab": {
     "base_uri": "https://localhost:8080/",
     "height": 85
    },
    "colab_type": "code",
    "executionInfo": {
     "elapsed": 805,
     "status": "ok",
     "timestamp": 1590600463946,
     "user": {
      "displayName": "Kurusu Yuugo",
      "photoUrl": "",
      "userId": "00117977046560544733"
     },
     "user_tz": -540
    },
    "id": "tkN8LBbLJNtV",
    "outputId": "0f83d9a2-679e-437d-bef5-ba4f34d29c73"
   },
   "outputs": [],
   "source": []
  },
  {
   "cell_type": "markdown",
   "metadata": {
    "colab_type": "text",
    "id": "PElf4KTBLPLp"
   },
   "source": [
    "- ```\n",
    "tensor([[0, 0, 0],\n",
    "        [0, 0, 0],\n",
    "        [0, 0, 0],\n",
    "        [0, 0, 0]])\n",
    "```\n",
    "と表示されていれば成功だ．"
   ]
  },
  {
   "cell_type": "markdown",
   "metadata": {
    "colab_type": "text",
    "id": "JzIBejbHEFmq"
   },
   "source": [
    "## まとめ\n",
    "ディープラーニング実装のために、Tensorを学んだ。\n",
    "\n",
    "* Tensor型の宣言・確認方法を学ぶ\n",
    "* Tensor型とArray型の変換方法を学ぶ\n",
    "* TensorのGPU演算について知る\n",
    "* Tensorの自動微分機能を学ぶ\n",
    "\n",
    "等の体験を経て、Tensorのイメージを掴んだ。\n",
    "\n",
    "また、Tensorと共に利用する機会が多い、\n",
    "* transpose\n",
    "* reshape\n",
    "* zero_\n",
    "\n",
    "等の関数の使い方を学んだ。\n",
    "\n",
    "## 次単元からの内容\n",
    "ディープラーニングの実装に必要な知識\n",
    "\n",
    "プログラム基本技術\n",
    "* Pythonの基本操作\n",
    "* NumPyの基本操作\n",
    "* Tensorの基本操作\n",
    "\n",
    "機械学習の手順\n",
    "1. アルゴリズムの選択\n",
    "2. 前処理\n",
    "3. モデルの学習\n",
    "4. 評価・検証\n",
    "\n",
    "ディープラーニングの仕組み\n",
    "1. 順伝播：モデルに対してデータを入力して出力を計算\n",
    "2. 損失関数：予測結果と理想の結果の差を比較して、モデルがどの程度間違っているか計算\n",
    "3. 逆伝播：パラメータをどう変化させれば損失が小さくなるか計算\n",
    "4. 最適化：パラメータを更新してモデルをより良くする\n",
    "\n",
    "の内容を学び終えた！\n",
    "\n",
    "次単元からは、ディープラーニングの実装をしていくぞ！"
   ]
  },
  {
   "cell_type": "code",
   "execution_count": null,
   "metadata": {
    "colab": {},
    "colab_type": "code",
    "id": "zyxM1mGqLXbD"
   },
   "outputs": [],
   "source": []
  }
 ],
 "metadata": {
  "colab": {
   "collapsed_sections": [],
   "name": "5_Tensor3.ipynb",
   "provenance": []
  },
  "kernelspec": {
   "display_name": "Python 3",
   "language": "python",
   "name": "python3"
  },
  "language_info": {
   "codemirror_mode": {
    "name": "ipython",
    "version": 3
   },
   "file_extension": ".py",
   "mimetype": "text/x-python",
   "name": "python",
   "nbconvert_exporter": "python",
   "pygments_lexer": "ipython3",
   "version": "3.6.9"
  }
 },
 "nbformat": 4,
 "nbformat_minor": 1
}
