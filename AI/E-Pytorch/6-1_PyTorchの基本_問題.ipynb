{
 "cells": [
  {
   "cell_type": "markdown",
   "metadata": {
    "colab_type": "text",
    "id": "1H2uQaKkVVNi"
   },
   "source": [
    "# Tensorとは？\n",
    "---\n",
    "Pytorchでは、ディープラーニングを実装する際に必要になる基本技術に\n",
    "* Pythonの基本操作\n",
    "* NumPyの基本操作\n",
    "* Tensorの基本操作\n",
    "\n",
    "以上の3つが挙げられる。\n",
    "\n",
    "3つ目に当たる、Tensorの基本操作をこの単元から学んでいくぞ。\n",
    "\n",
    "PyTorchでは、`torch.Tensor`(テンソル)という型にデータを格納しディープラーニングを行う。  \n",
    "そのため、Tensor型の理解・操作をできるとディープラーニングの理解・操作が容易になるぞ！\n",
    "\n",
    "Tensor型の特徴を先に紹介する。\n",
    "\n",
    "1. TensorはNumPyのndarrayに似ている\n",
    "2. GPUを使って演算を行うことが可能\n",
    "3. 自動微分という機能がある\n",
    "\n",
    "この単元では、特徴**1**について学んでいくぞ！  \n",
    "\n",
    "\n",
    "## この単元の目標\n",
    "\n",
    "* Tensor型のイメージを掴む\n",
    "* Tensor型の宣言・確認方法を学ぶ\n",
    "* Tensor型とArray型の変換方法を学ぶ\n",
    "\n",
    "  → **Tensor型の基礎を勉強していこう**\n"
   ]
  },
  {
   "cell_type": "code",
   "execution_count": null,
   "metadata": {
    "colab": {},
    "colab_type": "code",
    "id": "3-N1lTJ_VVNm"
   },
   "outputs": [],
   "source": [
    "# 前準備\n",
    "# pytorchライブラリのインポート\n",
    "import torch\n",
    "# numpyライブラリのインポート\n",
    "import numpy as np "
   ]
  },
  {
   "cell_type": "markdown",
   "metadata": {
    "colab_type": "text",
    "id": "0UotEBiZVVNw"
   },
   "source": [
    "## Tensorの基礎 宣言の仕方\n",
    "---\n",
    "まずはTensorのイメージを掴んでいこう。「Tensorとは？」\n",
    "\n",
    "特徴1：**TensorはNumPyのndarrayに似ている**\n",
    "* n次元行列の演算を行うことでDLを可能にしている  \n",
    "\n",
    "実際にプログラムを実行してTensor型のデータを作成しイメージを掴もう！\n",
    "\n",
    "【例題】NumPyとPyTorchの関数を利用して、行列内の要素が全て0のarray型とTensor型データを生成してみよう。"
   ]
  },
  {
   "cell_type": "code",
   "execution_count": null,
   "metadata": {
    "colab": {
     "base_uri": "https://localhost:8080/",
     "height": 51
    },
    "colab_type": "code",
    "executionInfo": {
     "elapsed": 1185,
     "status": "ok",
     "timestamp": 1590799973943,
     "user": {
      "displayName": "Kurusu Yuugo",
      "photoUrl": "",
      "userId": "00117977046560544733"
     },
     "user_tz": -540
    },
    "id": "ZNoa7fnAVVN1",
    "outputId": "68e4f707-e947-43f8-d241-579ca0ccfc0b"
   },
   "outputs": [],
   "source": [
    "np.zeros((2, 3))"
   ]
  },
  {
   "cell_type": "code",
   "execution_count": null,
   "metadata": {
    "colab": {
     "base_uri": "https://localhost:8080/",
     "height": 51
    },
    "colab_type": "code",
    "executionInfo": {
     "elapsed": 682,
     "status": "ok",
     "timestamp": 1590799981681,
     "user": {
      "displayName": "Kurusu Yuugo",
      "photoUrl": "",
      "userId": "00117977046560544733"
     },
     "user_tz": -540
    },
    "id": "IQfdKe4BVVN9",
    "outputId": "ac6c8331-7fe3-45b1-ef0a-bfae52327b6c"
   },
   "outputs": [],
   "source": [
    "torch.zeros((2, 3))"
   ]
  },
  {
   "cell_type": "markdown",
   "metadata": {
    "colab_type": "text",
    "id": "huAy5wTpVVOF"
   },
   "source": [
    "上記を見ても分かる通り、NumPyとPyTorchは関数名や関数の処理が非常に似ているものが多い。  \n",
    "データを生成する関数だと、\n",
    "\n",
    "* zeros()：行列内の要素が全て「0」\n",
    "* ones()：行列内の要素が全て「1」\n",
    "* rand()：行列内の要素が0~1のランダム\n",
    "\n",
    "等はNumPyと同様に使用することが可能だ！\n",
    "\n",
    "NumPyには、任意の要素を持つ行列を作成する関数に`array()`があったが  \n",
    "PyTorchでは、\n",
    "\n",
    "* tensor()：行列内の要素を一つずつ任意で指定\n",
    "\n",
    "が代替にあたると言えるだろう。関数名は変わったが使用感は変わらないぞ！\n",
    "\n",
    "\n",
    "【問題】2次元の行列`[[0,1,2], [3,4,5]]`を関数`array()`と`tensor()`を使って宣言して出力しよう。"
   ]
  },
  {
   "cell_type": "code",
   "execution_count": null,
   "metadata": {
    "colab": {
     "base_uri": "https://localhost:8080/",
     "height": 86
    },
    "colab_type": "code",
    "executionInfo": {
     "elapsed": 829,
     "status": "ok",
     "timestamp": 1590228939940,
     "user": {
      "displayName": "Kurusu Yuugo",
      "photoUrl": "",
      "userId": "00117977046560544733"
     },
     "user_tz": -540
    },
    "id": "O9ZdQWuyVVOG",
    "outputId": "0474a7bb-afe3-4806-e5be-385356d762ed"
   },
   "outputs": [],
   "source": [
    "print(np.array([[0,1,2], [3,4,5]]))\n",
    "print(torch.tensor([[0,1,2], [3,4,5]]))"
   ]
  },
  {
   "cell_type": "markdown",
   "metadata": {
    "colab_type": "text",
    "id": "IRxgIRCDVVOO"
   },
   "source": [
    "* \n",
    "```\n",
    "[[0 1 2]\n",
    " [3 4 5]]\n",
    "tensor([[0, 1, 2],\n",
    "        [3, 4, 5]])\n",
    "```\n",
    "\n",
    "と表示できれば成功だ。"
   ]
  },
  {
   "cell_type": "markdown",
   "metadata": {
    "colab_type": "text",
    "id": "6vy33OaOVVOP"
   },
   "source": [
    "## Tensorの基礎 中身の確認と型\n",
    "---\n",
    "\n",
    "続いて、作成したTensorの確認を行ってみよう！\n",
    "\n",
    "【例題1】下記のプログラムを実行して結果を確認してみよう。"
   ]
  },
  {
   "cell_type": "code",
   "execution_count": null,
   "metadata": {
    "colab": {
     "base_uri": "https://localhost:8080/",
     "height": 68
    },
    "colab_type": "code",
    "executionInfo": {
     "elapsed": 645,
     "status": "ok",
     "timestamp": 1590801691628,
     "user": {
      "displayName": "Kurusu Yuugo",
      "photoUrl": "",
      "userId": "00117977046560544733"
     },
     "user_tz": -540
    },
    "id": "2Y4nEk9jVVOX",
    "outputId": "7a3dca70-9212-4f34-f2a6-6d69e4c8b0f2"
   },
   "outputs": [],
   "source": [
    "num1 = np.zeros((2, 3))\n",
    "ten1 = torch.zeros((2, 3))\n",
    "print(f\"num1：{num1.shape} / {num1.dtype}\")\n",
    "print(f\"ten1：{ten1.shape} / {ten1.dtype}\")\n",
    "print(type(ten1))"
   ]
  },
  {
   "cell_type": "markdown",
   "metadata": {
    "colab_type": "text",
    "id": "-x3aqq-KVVOn"
   },
   "source": [
    "実行結果から、どちらも2行3列で実数型を扱うことが読み取れる。\n",
    "\n",
    "* .shape：データの形を確認\n",
    "* .dtype：要素の型を確認\n",
    "\n",
    "等の変数はNumPyと同様に使用することが可能だ！\n",
    "\n",
    "**注意**\n",
    "* NumPyとPyTorchではデフォルトの数値の型が微妙に違う\n",
    "    * よく見ると`float64`と`float32`で扱う桁数が異なる\n",
    "\n",
    "|    |  整数  |  実数  |\n",
    "| :-: | :-: | :-: |\n",
    "|  NumPy  |  int32  |  float64  |\n",
    "|  PyTorch  |  int64  |  float32  |\n",
    "\n",
    "また、実数と整数、デフォルトとデフォルト以外で出力に差が生まれる。知っておくと便利だ！  \n",
    "\n",
    "【例題2】下記のプログラムを実行して結果を確認してみよう。"
   ]
  },
  {
   "cell_type": "code",
   "execution_count": null,
   "metadata": {
    "colab": {
     "base_uri": "https://localhost:8080/",
     "height": 86
    },
    "colab_type": "code",
    "executionInfo": {
     "elapsed": 861,
     "status": "ok",
     "timestamp": 1590229141186,
     "user": {
      "displayName": "Kurusu Yuugo",
      "photoUrl": "",
      "userId": "00117977046560544733"
     },
     "user_tz": -540
    },
    "id": "fL4lyftoVVOo",
    "outputId": "379d64a4-22d9-402d-e270-e7281dbe6cbd"
   },
   "outputs": [],
   "source": [
    "print(torch.zeros((2, 3)))\n",
    "print(torch.zeros((2, 3), dtype=torch.int32))"
   ]
  },
  {
   "cell_type": "markdown",
   "metadata": {
    "colab_type": "text",
    "id": "w-IgTf5zVVPb"
   },
   "source": [
    "実数の場合、数字の後ろに 「*.*」 があることがわかる。  \n",
    "また、デフォルト以外の型を扱うと`dtype`も出力される。（PyTorchの整数のデフォルトは`int64`）\n",
    "\n",
    "テンソルの数値の型を指定したい場合はオプション`dtype`を指定する\n",
    "* `dtype=torch.指定したい型`    \n",
    "* https://pytorch.org/docs/stable/tensors.html (詳細は公式HPを参照)\n",
    "\n",
    "\n",
    "【問題】行列内の要素が全て「1」な2行3列のTensorを宣言して出力しよう。なお、要素は`int64`型とする。"
   ]
  },
  {
   "cell_type": "code",
   "execution_count": null,
   "metadata": {
    "colab": {
     "base_uri": "https://localhost:8080/",
     "height": 52
    },
    "colab_type": "code",
    "executionInfo": {
     "elapsed": 859,
     "status": "ok",
     "timestamp": 1590229320917,
     "user": {
      "displayName": "Kurusu Yuugo",
      "photoUrl": "",
      "userId": "00117977046560544733"
     },
     "user_tz": -540
    },
    "id": "MH6mapJBVVPe",
    "outputId": "d268e684-4e24-41e3-e05d-4e2d934038c7"
   },
   "outputs": [],
   "source": []
  },
  {
   "cell_type": "markdown",
   "metadata": {
    "colab_type": "text",
    "id": "OJy9clrvVVPq"
   },
   "source": [
    "* \n",
    "```\n",
    "tensor([[1, 1, 1],\n",
    "        [1, 1, 1]])\n",
    "```\n",
    "\n",
    "と表示できれば成功だ。"
   ]
  },
  {
   "cell_type": "markdown",
   "metadata": {
    "colab_type": "text",
    "id": "KLhGru_xVVPq"
   },
   "source": [
    "## Tensorの基礎 array との変換\n",
    "---\n",
    "`Tensor`と`Array`を互いに変換し合う方法を覚えよう。\n",
    "\n",
    "【例題1】TensorからArrayへ変換した後、再度Tensorへ変換してみよう。"
   ]
  },
  {
   "cell_type": "code",
   "execution_count": null,
   "metadata": {
    "colab": {
     "base_uri": "https://localhost:8080/",
     "height": 69
    },
    "colab_type": "code",
    "executionInfo": {
     "elapsed": 998,
     "status": "ok",
     "timestamp": 1590229339193,
     "user": {
      "displayName": "Kurusu Yuugo",
      "photoUrl": "",
      "userId": "00117977046560544733"
     },
     "user_tz": -540
    },
    "id": "UDinJphnVVPw",
    "outputId": "a3e1baba-74ea-4162-bf22-b3cd4f2c4841"
   },
   "outputs": [],
   "source": [
    "before = torch.zeros(3)\n",
    "print(f\"変換前：{before}\")\n",
    "after = before.numpy()\n",
    "print(f\"変換後：{after}\")\n",
    "data = torch.from_numpy(after)\n",
    "print(f\"再変換後：{data}\")"
   ]
  },
  {
   "cell_type": "markdown",
   "metadata": {
    "colab_type": "text",
    "id": "TyHa0x_SVVQB"
   },
   "source": [
    "Tensorのデータが生成され、Arrayに変換された後、再度Tensorへ変換したことを確認できた。\n",
    "\n",
    "* Tensor→Arrayの変換方法：`変換したいTensor名.numpy()`\n",
    "* Array→Tensorの変換方法：`torch.from_numpy(変換したいArray名)`\n",
    "\n",
    "**注意**\n",
    "* 上記のような変換を行った場合、**メモリを共有している**ことを念頭に置くこと\n",
    "\n",
    "例えば、すべての要素にある値を加える.add_()メソッドを利用して、例題1のbeforeに変更を加えてみる。\n",
    "\n",
    "【例題2】下記のプログラムを実行して結果を確認してみよう。"
   ]
  },
  {
   "cell_type": "code",
   "execution_count": null,
   "metadata": {
    "colab": {
     "base_uri": "https://localhost:8080/",
     "height": 69
    },
    "colab_type": "code",
    "executionInfo": {
     "elapsed": 840,
     "status": "ok",
     "timestamp": 1590229442003,
     "user": {
      "displayName": "Kurusu Yuugo",
      "photoUrl": "",
      "userId": "00117977046560544733"
     },
     "user_tz": -540
    },
    "id": "qJNstprfVVQD",
    "outputId": "4f5a9904-9b20-45eb-f800-46d522aecf66"
   },
   "outputs": [],
   "source": [
    "before.add_(1)\n",
    "print(f\"変換前：{before}\")\n",
    "print(f\"変換後：{after}\")\n",
    "print(f\"再変換後：{data}\")"
   ]
  },
  {
   "cell_type": "markdown",
   "metadata": {
    "colab_type": "text",
    "id": "dK5QEUlMVVQS"
   },
   "source": [
    "すると上記の出力結果の通り、全ての変数の値が変更される。\n",
    "\n",
    "この挙動を忘れずにプログラムすると良い。\n",
    "\n",
    "【問題】`ones()`を利用して2行3列のArrayデータを作成した後、Tensorデータへ変換して出力しよう。"
   ]
  },
  {
   "cell_type": "code",
   "execution_count": null,
   "metadata": {
    "colab": {
     "base_uri": "https://localhost:8080/",
     "height": 52
    },
    "colab_type": "code",
    "executionInfo": {
     "elapsed": 850,
     "status": "ok",
     "timestamp": 1590229585665,
     "user": {
      "displayName": "Kurusu Yuugo",
      "photoUrl": "",
      "userId": "00117977046560544733"
     },
     "user_tz": -540
    },
    "id": "UnPFIUHBVVQc",
    "outputId": "1faf2f39-5c5a-45c1-bfdd-77e80edf4a06"
   },
   "outputs": [],
   "source": []
  },
  {
   "cell_type": "markdown",
   "metadata": {
    "colab_type": "text",
    "id": "VsvpSEJrVVQo"
   },
   "source": [
    "* \n",
    "```\n",
    "tensor([[1., 1., 1.],\n",
    "        [1., 1., 1.]], dtype=torch.float64)\n",
    "```\n",
    "と表示できれば成功だ。  \n",
    "NumPyで生成したデータをTensorへ変換したとき要素の型が原因でエラーが起こることがあるぞ！"
   ]
  },
  {
   "cell_type": "code",
   "execution_count": null,
   "metadata": {
    "colab": {},
    "colab_type": "code",
    "id": "Qy3TV1aoVVQp"
   },
   "outputs": [],
   "source": []
  }
 ],
 "metadata": {
  "colab": {
   "collapsed_sections": [],
   "name": "3_Tensor1.ipynb",
   "provenance": []
  },
  "kernelspec": {
   "display_name": "Python 3",
   "language": "python",
   "name": "python3"
  },
  "language_info": {
   "codemirror_mode": {
    "name": "ipython",
    "version": 3
   },
   "file_extension": ".py",
   "mimetype": "text/x-python",
   "name": "python",
   "nbconvert_exporter": "python",
   "pygments_lexer": "ipython3",
   "version": "3.6.9"
  }
 },
 "nbformat": 4,
 "nbformat_minor": 1
}
