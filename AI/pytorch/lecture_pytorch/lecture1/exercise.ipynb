{
  "nbformat": 4,
  "nbformat_minor": 0,
  "metadata": {
    "colab": {
      "name": "exercise.ipynb",
      "provenance": [],
      "authorship_tag": "ABX9TyNCQ+l/BAGr/ETeRri0AyU6",
      "include_colab_link": true
    },
    "kernelspec": {
      "name": "python3",
      "display_name": "Python 3"
    }
  },
  "cells": [
    {
      "cell_type": "markdown",
      "metadata": {
        "id": "view-in-github",
        "colab_type": "text"
      },
      "source": [
        "<a href=\"https://colab.research.google.com/github/yukinaga/lecture_pytorch/blob/master/lecture1/exercise.ipynb\" target=\"_parent\"><img src=\"https://colab.research.google.com/assets/colab-badge.svg\" alt=\"Open In Colab\"/></a>"
      ]
    },
    {
      "cell_type": "markdown",
      "metadata": {
        "id": "Gyk0pYx-GOTG",
        "colab_type": "text"
      },
      "source": [
        "# 演習\n",
        "第1講の演習です。"
      ]
    },
    {
      "cell_type": "markdown",
      "metadata": {
        "id": "l1iDDDhCGdRk",
        "colab_type": "text"
      },
      "source": [
        "## Tensor同士の演算\n",
        "以下のTensor`a`と`b`の間で、以下の演算子を使って演算を行い、結果を表示しましょう。  \n",
        "和: +  \n",
        "差: -  \n",
        "積: *  \n",
        "商（小数）: /  \n",
        "商（整数）: //  \n",
        "余り: %  \n",
        "`a`は行列で`b`はベクトルなので、ブロードキャストが必要になります。"
      ]
    },
    {
      "cell_type": "code",
      "metadata": {
        "id": "vQjm5IIwFzfQ",
        "colab_type": "code",
        "colab": {}
      },
      "source": [
        "import torch\n",
        "\n",
        "a = torch.tensor([[1, 2, 3],\n",
        "                  [4, 5, 6.]])\n",
        "b = torch.tensor([1, 2, 3.]) \n",
        "\n",
        "# 和\n",
        "\n",
        "\n",
        "# 差\n",
        "\n",
        "\n",
        "# 積\n",
        "\n",
        "\n",
        "# 商（小数）\n",
        "\n",
        "\n",
        "# 商（整数）\n",
        "\n",
        "\n",
        "# 余り\n"
      ],
      "execution_count": 0,
      "outputs": []
    },
    {
      "cell_type": "markdown",
      "metadata": {
        "id": "BEW_lUs3PJCQ",
        "colab_type": "text"
      },
      "source": [
        "## 解答例\n",
        "以下は、どうしても手がかりがないときのみ参考にしましょう。"
      ]
    },
    {
      "cell_type": "code",
      "metadata": {
        "id": "imyJ_CUEPNgW",
        "colab_type": "code",
        "colab": {}
      },
      "source": [
        "import torch\n",
        "\n",
        "a = torch.tensor([[1, 2, 3],\n",
        "                  [4, 5, 6.]])\n",
        "b = torch.tensor([1, 2, 3.]) \n",
        "\n",
        "# 和\n",
        "print(a + b)\n",
        "\n",
        "# 差\n",
        "print(a - b)\n",
        "\n",
        "# 積\n",
        "print(a * b)\n",
        "\n",
        "# 商（小数）\n",
        "print(a / b)\n",
        "\n",
        "# 商（整数）\n",
        "print(a // b)\n",
        "\n",
        "# 余り\n",
        "print(a % b)"
      ],
      "execution_count": 0,
      "outputs": []
    }
  ]
}