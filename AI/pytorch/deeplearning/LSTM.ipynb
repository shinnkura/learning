{
  "nbformat": 4,
  "nbformat_minor": 0,
  "metadata": {
    "colab": {
      "provenance": []
    },
    "kernelspec": {
      "name": "python3",
      "display_name": "Python 3"
    }
  },
  "cells": [
    {
      "cell_type": "code",
      "metadata": {
        "id": "Vv3Y_1AbNSmp"
      },
      "source": [
        "import torch\n",
        "import torch.nn as nn\n",
        "import torch.optim as optim\n",
        "import matplotlib.pyplot as plt\n",
        "import numpy as np\n",
        "plt.style.use(\"ggplot\")\n",
        "%matplotlib inline"
      ],
      "execution_count": null,
      "outputs": []
    },
    {
      "cell_type": "code",
      "metadata": {
        "id": "Ec4qpj0kSd_9"
      },
      "source": [
        "x = np.linspace(0, 499, 500)\n",
        "y = np.sin(x * 2 * np.pi / 50)"
      ],
      "execution_count": null,
      "outputs": []
    },
    {
      "cell_type": "code",
      "metadata": {
        "id": "QObIn6JJSnKz",
        "colab": {
          "base_uri": "https://localhost:8080/",
          "height": 283
        },
        "outputId": "75433405-0256-46bc-a5b0-f2008aa395c1"
      },
      "source": [
        "plt.plot(x, y)"
      ],
      "execution_count": null,
      "outputs": [
        {
          "output_type": "execute_result",
          "data": {
            "text/plain": [
              "[<matplotlib.lines.Line2D at 0x7f3bec1a3c88>]"
            ]
          },
          "metadata": {
            "tags": []
          },
          "execution_count": 3
        },
        {
          "output_type": "display_data",
          "data": {
            "image/png": "[encoded data removed]",
            "text/plain": [
              "<Figure size 432x288 with 1 Axes>"
            ]
          },
          "metadata": {
            "tags": [],
            "needs_background": "light"
          }
        }
      ]
    },
    {
      "cell_type": "code",
      "metadata": {
        "id": "x3gfKQE2SpAX"
      },
      "source": [
        "def make_sequence_data(y, num_sequence):\n",
        "    num_data = len(y)\n",
        "    seq_data = []\n",
        "    target_data = []\n",
        "    for i in range(num_data - num_sequence):\n",
        "        seq_data.append(y[i:i+num_sequence])\n",
        "        target_data.append(y[i+num_sequence:i+num_sequence+1])\n",
        "    seq_arr = np.array(seq_data)\n",
        "    target_arr = np.array(target_data)\n",
        "    return seq_arr, target_arr"
      ],
      "execution_count": null,
      "outputs": []
    },
    {
      "cell_type": "code",
      "metadata": {
        "id": "NDskciXVTdyh"
      },
      "source": [
        "seq_length = 40\n",
        "y_seq, y_target = make_sequence_data(y, seq_length)"
      ],
      "execution_count": null,
      "outputs": []
    },
    {
      "cell_type": "code",
      "metadata": {
        "id": "6Lg1e7DOTugS",
        "colab": {
          "base_uri": "https://localhost:8080/",
          "height": 35
        },
        "outputId": "c381e598-917f-4e8f-dcdc-2a93b621cc35"
      },
      "source": [
        "y_seq.shape"
      ],
      "execution_count": null,
      "outputs": [
        {
          "output_type": "execute_result",
          "data": {
            "text/plain": [
              "(460, 40)"
            ]
          },
          "metadata": {
            "tags": []
          },
          "execution_count": 7
        }
      ]
    },
    {
      "cell_type": "code",
      "metadata": {
        "id": "TiCtFULNTwrS",
        "colab": {
          "base_uri": "https://localhost:8080/",
          "height": 35
        },
        "outputId": "6acf2317-8225-4a61-bd40-bce64f729a76"
      },
      "source": [
        "y_target.shape"
      ],
      "execution_count": null,
      "outputs": [
        {
          "output_type": "execute_result",
          "data": {
            "text/plain": [
              "(460, 1)"
            ]
          },
          "metadata": {
            "tags": []
          },
          "execution_count": 8
        }
      ]
    },
    {
      "cell_type": "code",
      "metadata": {
        "id": "9t2YlmrcT70B"
      },
      "source": [
        "num_test = 10\n",
        "y_seq_train = y_seq[:-num_test]\n",
        "y_seq_test = y_seq[-num_test:]\n",
        "y_target_train = y_target[:-num_test]\n",
        "y_target_test = y_target[-num_test:]"
      ],
      "execution_count": null,
      "outputs": []
    },
    {
      "cell_type": "code",
      "metadata": {
        "id": "ges-qrxOUUew",
        "colab": {
          "base_uri": "https://localhost:8080/",
          "height": 251
        },
        "outputId": "aa1f5fd6-f55c-4227-e973-fc1aa8393162"
      },
      "source": [
        "y_seq_train"
      ],
      "execution_count": null,
      "outputs": [
        {
          "output_type": "execute_result",
          "data": {
            "text/plain": [
              "array([[ 0.00000000e+00,  1.25333234e-01,  2.48689887e-01, ...,\n",
              "        -9.98026728e-01, -9.98026728e-01, -9.82287251e-01],\n",
              "       [ 1.25333234e-01,  2.48689887e-01,  3.68124553e-01, ...,\n",
              "        -9.98026728e-01, -9.82287251e-01, -9.51056516e-01],\n",
              "       [ 2.48689887e-01,  3.68124553e-01,  4.81753674e-01, ...,\n",
              "        -9.82287251e-01, -9.51056516e-01, -9.04827052e-01],\n",
              "       ...,\n",
              "       [-3.68124553e-01, -2.48689887e-01, -1.25333234e-01, ...,\n",
              "        -9.04827052e-01, -9.51056516e-01, -9.82287251e-01],\n",
              "       [-2.48689887e-01, -1.25333234e-01, -2.20436424e-15, ...,\n",
              "        -9.51056516e-01, -9.82287251e-01, -9.98026728e-01],\n",
              "       [-1.25333234e-01, -2.20436424e-15,  1.25333234e-01, ...,\n",
              "        -9.82287251e-01, -9.98026728e-01, -9.98026728e-01]])"
            ]
          },
          "metadata": {
            "tags": []
          },
          "execution_count": 10
        }
      ]
    },
    {
      "cell_type": "code",
      "metadata": {
        "id": "C90W9HfnUXlS",
        "colab": {
          "base_uri": "https://localhost:8080/",
          "height": 35
        },
        "outputId": "f447fcd2-468f-44ca-8365-65ed1125557a"
      },
      "source": [
        "y_seq_train.shape"
      ],
      "execution_count": null,
      "outputs": [
        {
          "output_type": "execute_result",
          "data": {
            "text/plain": [
              "(450, 40)"
            ]
          },
          "metadata": {
            "tags": []
          },
          "execution_count": 11
        }
      ]
    },
    {
      "cell_type": "code",
      "metadata": {
        "id": "hrBOpFK_Uah5"
      },
      "source": [
        "y_seq_t = torch.FloatTensor(y_seq_train)\n",
        "y_target_t = torch.FloatTensor(y_target_train)"
      ],
      "execution_count": null,
      "outputs": []
    },
    {
      "cell_type": "code",
      "metadata": {
        "id": "a9BMdDdrUoji"
      },
      "source": [
        "class LSTM(nn.Module):\n",
        "    def __init__(self, hidden_size):\n",
        "        super().__init__()\n",
        "        self.hidden_size = hidden_size\n",
        "        self.lstm = nn.LSTM(input_size=1, hidden_size=self.hidden_size)\n",
        "        self.linear = nn.Linear(self.hidden_size, 1)\n",
        "    def forward(self, x):\n",
        "        x, _ = self.lstm(x)\n",
        "        x_last = x[-1]\n",
        "        x = self.linear(x_last)\n",
        "        return x"
      ],
      "execution_count": null,
      "outputs": []
    },
    {
      "cell_type": "code",
      "metadata": {
        "id": "L9lE_iTnVmp2"
      },
      "source": [
        "model = LSTM(100)"
      ],
      "execution_count": null,
      "outputs": []
    },
    {
      "cell_type": "code",
      "metadata": {
        "id": "Mt206f2bVpuB"
      },
      "source": [
        "criterion = nn.MSELoss()\n",
        "optimizer = optim.Adam(model.parameters(), lr=0.001)"
      ],
      "execution_count": null,
      "outputs": []
    },
    {
      "cell_type": "code",
      "metadata": {
        "id": "cYhRwhm7Vx2i",
        "colab": {
          "base_uri": "https://localhost:8080/",
          "height": 35
        },
        "outputId": "82c2e339-1a39-433f-c070-1da56cd4d3e9"
      },
      "source": [
        "y_seq_t.size()"
      ],
      "execution_count": null,
      "outputs": [
        {
          "output_type": "execute_result",
          "data": {
            "text/plain": [
              "torch.Size([450, 40])"
            ]
          },
          "metadata": {
            "tags": []
          },
          "execution_count": 16
        }
      ]
    },
    {
      "cell_type": "code",
      "metadata": {
        "id": "YZ3CvwayV2Da"
      },
      "source": [
        "y_seq_t = y_seq_t.permute(1, 0)\n",
        "y_target_t = y_target_t.permute(1, 0)"
      ],
      "execution_count": null,
      "outputs": []
    },
    {
      "cell_type": "code",
      "metadata": {
        "id": "fe1N001pWJFC",
        "colab": {
          "base_uri": "https://localhost:8080/",
          "height": 35
        },
        "outputId": "f725cb0f-2c36-47dd-a42b-e709c262d966"
      },
      "source": [
        "y_seq_t.size()"
      ],
      "execution_count": null,
      "outputs": [
        {
          "output_type": "execute_result",
          "data": {
            "text/plain": [
              "torch.Size([40, 450])"
            ]
          },
          "metadata": {
            "tags": []
          },
          "execution_count": 18
        }
      ]
    },
    {
      "cell_type": "code",
      "metadata": {
        "id": "4-0dZsuhWMRJ"
      },
      "source": [
        "y_seq_t = y_seq_t.unsqueeze(dim=-1)\n",
        "y_target_t = y_target_t.unsqueeze(dim=-1)"
      ],
      "execution_count": null,
      "outputs": []
    },
    {
      "cell_type": "code",
      "metadata": {
        "id": "T18mUJxDWg9R",
        "colab": {
          "base_uri": "https://localhost:8080/",
          "height": 35
        },
        "outputId": "294a29b9-ec68-4468-c247-cf8e90f394cf"
      },
      "source": [
        "y_seq_t.size()"
      ],
      "execution_count": null,
      "outputs": [
        {
          "output_type": "execute_result",
          "data": {
            "text/plain": [
              "torch.Size([40, 450, 1])"
            ]
          },
          "metadata": {
            "tags": []
          },
          "execution_count": 20
        }
      ]
    },
    {
      "cell_type": "code",
      "metadata": {
        "id": "9ZoEzlz7WjKq",
        "colab": {
          "base_uri": "https://localhost:8080/",
          "height": 217
        },
        "outputId": "12562ff1-4570-4dbf-f1ff-bb2201ee051c"
      },
      "source": [
        "num_epochs = 80\n",
        "losses = []\n",
        "for epoch in range(num_epochs):\n",
        "    optimizer.zero_grad()\n",
        "    output = model(y_seq_t)\n",
        "    loss = criterion(output, y_target_t)\n",
        "    loss.backward()\n",
        "    losses.append(loss.item())\n",
        "    optimizer.step()\n",
        "    if epoch % 10 == 0:\n",
        "        print(\"epoch: {}, loss: {}\".format(epoch, loss.item()))"
      ],
      "execution_count": null,
      "outputs": [
        {
          "output_type": "stream",
          "text": [
            "/usr/local/lib/python3.6/dist-packages/torch/nn/modules/loss.py:432: UserWarning: Using a target size (torch.Size([1, 450, 1])) that is different to the input size (torch.Size([450, 1])). This will likely lead to incorrect results due to broadcasting. Please ensure they have the same size.\n",
            "  return F.mse_loss(input, target, reduction=self.reduction)\n"
          ],
          "name": "stderr"
        },
        {
          "output_type": "stream",
          "text": [
            "epoch: 0, loss: 0.5093941688537598\n",
            "epoch: 10, loss: 0.4036681354045868\n",
            "epoch: 20, loss: 0.25430575013160706\n",
            "epoch: 30, loss: 0.08256971091032028\n",
            "epoch: 40, loss: 0.009677250869572163\n",
            "epoch: 50, loss: 0.004739707801491022\n",
            "epoch: 60, loss: 0.001487448695115745\n",
            "epoch: 70, loss: 0.0007603259873576462\n"
          ],
          "name": "stdout"
        }
      ]
    },
    {
      "cell_type": "code",
      "metadata": {
        "id": "KJ5pd7BCXLvN",
        "colab": {
          "base_uri": "https://localhost:8080/",
          "height": 283
        },
        "outputId": "d5464a7e-aeea-4489-894b-d79479526d85"
      },
      "source": [
        "plt.plot(losses)"
      ],
      "execution_count": null,
      "outputs": [
        {
          "output_type": "execute_result",
          "data": {
            "text/plain": [
              "[<matplotlib.lines.Line2D at 0x7f3beabdfef0>]"
            ]
          },
          "metadata": {
            "tags": []
          },
          "execution_count": 22
        },
        {
          "output_type": "display_data",
          "data": {
            "image/png": "[encoded data removed]",
            "text/plain": [
              "<Figure size 432x288 with 1 Axes>"
            ]
          },
          "metadata": {
            "tags": [],
            "needs_background": "light"
          }
        }
      ]
    },
    {
      "cell_type": "code",
      "metadata": {
        "id": "pqpd_QIlXTLq"
      },
      "source": [
        "y_seq_test_t = torch.FloatTensor(y_seq_test)\n",
        "y_seq_test_t = y_seq_test_t.permute(1, 0)\n",
        "y_seq_test_t = y_seq_test_t.unsqueeze(dim=-1)"
      ],
      "execution_count": null,
      "outputs": []
    },
    {
      "cell_type": "code",
      "metadata": {
        "id": "eFsu3QKyXrtR",
        "colab": {
          "base_uri": "https://localhost:8080/",
          "height": 35
        },
        "outputId": "df4fbd5b-80d0-47af-8a09-bf5c0f1e3b4f"
      },
      "source": [
        "y_seq_test_t.size()"
      ],
      "execution_count": null,
      "outputs": [
        {
          "output_type": "execute_result",
          "data": {
            "text/plain": [
              "torch.Size([40, 10, 1])"
            ]
          },
          "metadata": {
            "tags": []
          },
          "execution_count": 26
        }
      ]
    },
    {
      "cell_type": "code",
      "metadata": {
        "id": "HwkgeHNVX0qb"
      },
      "source": [
        "y_pred = model(y_seq_test_t)"
      ],
      "execution_count": null,
      "outputs": []
    },
    {
      "cell_type": "code",
      "metadata": {
        "id": "SLxqKUELX6B8",
        "colab": {
          "base_uri": "https://localhost:8080/",
          "height": 35
        },
        "outputId": "4beaf7d6-adaa-4d11-bbb8-c2c2072fef0a"
      },
      "source": [
        "y_pred.size()"
      ],
      "execution_count": null,
      "outputs": [
        {
          "output_type": "execute_result",
          "data": {
            "text/plain": [
              "torch.Size([10, 1])"
            ]
          },
          "metadata": {
            "tags": []
          },
          "execution_count": 29
        }
      ]
    },
    {
      "cell_type": "code",
      "metadata": {
        "id": "tzUFTFdjX-Vx",
        "colab": {
          "base_uri": "https://localhost:8080/",
          "height": 283
        },
        "outputId": "4a14b3c1-092f-400b-8863-5cbd773513f7"
      },
      "source": [
        "plt.plot(x, y)\n",
        "plt.plot(np.arange(490, 500), y_pred.detach())\n",
        "plt.xlim([450, 500])"
      ],
      "execution_count": null,
      "outputs": [
        {
          "output_type": "execute_result",
          "data": {
            "text/plain": [
              "(450.0, 500.0)"
            ]
          },
          "metadata": {
            "tags": []
          },
          "execution_count": 30
        },
        {
          "output_type": "display_data",
          "data": {
            "image/png": "[encoded data removed]",
            "text/plain": [
              "<Figure size 432x288 with 1 Axes>"
            ]
          },
          "metadata": {
            "tags": [],
            "needs_background": "light"
          }
        }
      ]
    },
    {
      "cell_type": "code",
      "metadata": {
        "id": "Z_v9SGs1YOcj"
      },
      "source": [],
      "execution_count": null,
      "outputs": []
    }
  ]
}