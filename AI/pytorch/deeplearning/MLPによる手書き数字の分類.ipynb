{
  "nbformat": 4,
  "nbformat_minor": 0,
  "metadata": {
    "colab": {
      "provenance": []
    },
    "kernelspec": {
      "name": "python3",
      "display_name": "Python 3"
    }
  },
  "cells": [
    {
      "cell_type": "code",
      "metadata": {
        "id": "qTfKR8SGO-L5"
      },
      "source": [
        "import torch\n",
        "import torch.nn as nn\n",
        "import torch.optim as optim\n",
        "import numpy as np\n",
        "import matplotlib.pyplot as plt\n",
        "import seaborn as sns\n",
        "from torchvision import datasets, transforms\n",
        "from torch.utils.data import DataLoader"
      ],
      "execution_count": 1,
      "outputs": []
    },
    {
      "cell_type": "code",
      "metadata": {
        "id": "KBFjA-GLP0uZ"
      },
      "source": [
        "device = \"cuda\" if torch.cuda.is_available() else \"cpu\""
      ],
      "execution_count": 2,
      "outputs": []
    },
    {
      "cell_type": "code",
      "metadata": {
        "id": "awMhmTh-P_3A",
        "colab": {
          "base_uri": "https://localhost:8080/",
          "height": 36
        },
        "outputId": "69fd8129-9ff1-4727-e52b-30aa252e2594"
      },
      "source": [
        "device"
      ],
      "execution_count": 3,
      "outputs": [
        {
          "output_type": "execute_result",
          "data": {
            "text/plain": [
              "'cpu'"
            ],
            "application/vnd.google.colaboratory.intrinsic+json": {
              "type": "string"
            }
          },
          "metadata": {},
          "execution_count": 3
        }
      ]
    },
    {
      "cell_type": "code",
      "metadata": {
        "id": "9PQeRUMuQBg6",
        "colab": {
          "base_uri": "https://localhost:8080/"
        },
        "outputId": "9c32525c-3af8-487e-fac1-4f5ce48f2c21"
      },
      "source": [
        "transform = transforms.Compose([\n",
        "    transforms.ToTensor(),                                \n",
        "])\n",
        "train_dataset = datasets.MNIST(root=\"./data\", train=True, download=True, transform=transform)"
      ],
      "execution_count": 4,
      "outputs": [
        {
          "output_type": "stream",
          "name": "stdout",
          "text": [
            "Downloading http://yann.lecun.com/exdb/mnist/train-images-idx3-ubyte.gz\n",
            "Downloading http://yann.lecun.com/exdb/mnist/train-images-idx3-ubyte.gz to ./data/MNIST/raw/train-images-idx3-ubyte.gz\n"
          ]
        },
        {
          "output_type": "stream",
          "name": "stderr",
          "text": [
            "100%|██████████| 9912422/9912422 [00:00<00:00, 135258348.77it/s]\n"
          ]
        },
        {
          "output_type": "stream",
          "name": "stdout",
          "text": [
            "Extracting ./data/MNIST/raw/train-images-idx3-ubyte.gz to ./data/MNIST/raw\n",
            "\n",
            "Downloading http://yann.lecun.com/exdb/mnist/train-labels-idx1-ubyte.gz\n",
            "Downloading http://yann.lecun.com/exdb/mnist/train-labels-idx1-ubyte.gz to ./data/MNIST/raw/train-labels-idx1-ubyte.gz\n"
          ]
        },
        {
          "output_type": "stream",
          "name": "stderr",
          "text": [
            "100%|██████████| 28881/28881 [00:00<00:00, 80595937.34it/s]\n"
          ]
        },
        {
          "output_type": "stream",
          "name": "stdout",
          "text": [
            "Extracting ./data/MNIST/raw/train-labels-idx1-ubyte.gz to ./data/MNIST/raw\n",
            "\n",
            "Downloading http://yann.lecun.com/exdb/mnist/t10k-images-idx3-ubyte.gz\n",
            "Downloading http://yann.lecun.com/exdb/mnist/t10k-images-idx3-ubyte.gz to ./data/MNIST/raw/t10k-images-idx3-ubyte.gz\n"
          ]
        },
        {
          "output_type": "stream",
          "name": "stderr",
          "text": [
            "100%|██████████| 1648877/1648877 [00:00<00:00, 61631270.58it/s]"
          ]
        },
        {
          "output_type": "stream",
          "name": "stdout",
          "text": [
            "Extracting ./data/MNIST/raw/t10k-images-idx3-ubyte.gz to ./data/MNIST/raw\n"
          ]
        },
        {
          "output_type": "stream",
          "name": "stderr",
          "text": [
            "\n"
          ]
        },
        {
          "output_type": "stream",
          "name": "stdout",
          "text": [
            "\n",
            "Downloading http://yann.lecun.com/exdb/mnist/t10k-labels-idx1-ubyte.gz\n",
            "Downloading http://yann.lecun.com/exdb/mnist/t10k-labels-idx1-ubyte.gz to ./data/MNIST/raw/t10k-labels-idx1-ubyte.gz\n"
          ]
        },
        {
          "output_type": "stream",
          "name": "stderr",
          "text": [
            "100%|██████████| 4542/4542 [00:00<00:00, 11795993.05it/s]"
          ]
        },
        {
          "output_type": "stream",
          "name": "stdout",
          "text": [
            "Extracting ./data/MNIST/raw/t10k-labels-idx1-ubyte.gz to ./data/MNIST/raw\n",
            "\n"
          ]
        },
        {
          "output_type": "stream",
          "name": "stderr",
          "text": [
            "\n"
          ]
        }
      ]
    },
    {
      "cell_type": "code",
      "metadata": {
        "id": "OieUhli6QgfS"
      },
      "source": [
        "num_batches = 100"
      ],
      "execution_count": 5,
      "outputs": []
    },
    {
      "cell_type": "code",
      "metadata": {
        "id": "jzhvYStMQlCi"
      },
      "source": [
        "train_dataloader = DataLoader(train_dataset, batch_size=num_batches, shuffle=True)"
      ],
      "execution_count": 6,
      "outputs": []
    },
    {
      "cell_type": "code",
      "metadata": {
        "id": "9snBABOSQvyB"
      },
      "source": [
        "train_iter = iter(train_dataloader)"
      ],
      "execution_count": 7,
      "outputs": []
    },
    {
      "cell_type": "code",
      "metadata": {
        "id": "B8XET2VZQ1Gv"
      },
      "source": [
        "# imgs, labels = train_iter.next()\n",
        "imgs, labels = next(train_iter)"
      ],
      "execution_count": 9,
      "outputs": []
    },
    {
      "cell_type": "code",
      "metadata": {
        "id": "_Sq1RIlcQ_aS",
        "colab": {
          "base_uri": "https://localhost:8080/"
        },
        "outputId": "e8e235fd-8a8e-41ac-cdc1-5be8c0117f10"
      },
      "source": [
        "imgs.size()"
      ],
      "execution_count": 10,
      "outputs": [
        {
          "output_type": "execute_result",
          "data": {
            "text/plain": [
              "torch.Size([100, 1, 28, 28])"
            ]
          },
          "metadata": {},
          "execution_count": 10
        }
      ]
    },
    {
      "cell_type": "code",
      "metadata": {
        "id": "1YNCiYMRRCw6"
      },
      "source": [
        "img = imgs[0]"
      ],
      "execution_count": 11,
      "outputs": []
    },
    {
      "cell_type": "code",
      "metadata": {
        "id": "D_T-_PJkRMaY"
      },
      "source": [
        "img_arr = img.permute(1, 2, 0).numpy()"
      ],
      "execution_count": 12,
      "outputs": []
    },
    {
      "cell_type": "code",
      "metadata": {
        "id": "8pj8FAVSRd_C",
        "colab": {
          "base_uri": "https://localhost:8080/"
        },
        "outputId": "dce921b2-15e4-4014-f033-8a4347f8e7d9"
      },
      "source": [
        "img_arr.shape"
      ],
      "execution_count": 13,
      "outputs": [
        {
          "output_type": "execute_result",
          "data": {
            "text/plain": [
              "(28, 28, 1)"
            ]
          },
          "metadata": {},
          "execution_count": 13
        }
      ]
    },
    {
      "cell_type": "code",
      "metadata": {
        "id": "6MibR2F2Rgbo",
        "colab": {
          "base_uri": "https://localhost:8080/",
          "height": 454
        },
        "outputId": "bd07cb19-906e-427b-a866-5a3983bc2a05"
      },
      "source": [
        "sns.heatmap(img_arr[:, :, 0])"
      ],
      "execution_count": 14,
      "outputs": [
        {
          "output_type": "execute_result",
          "data": {
            "text/plain": [
              "<Axes: >"
            ]
          },
          "metadata": {},
          "execution_count": 14
        },
        {
          "output_type": "display_data",
          "data": {
            "text/plain": [
              "<Figure size 640x480 with 2 Axes>"
            ],
            "image/png": "[encoded data removed]"
          },
          "metadata": {}
        }
      ]
    },
    {
      "cell_type": "code",
      "metadata": {
        "id": "_kjgONl1Rl2Y"
      },
      "source": [
        "class MLP(nn.Module):\n",
        "    def __init__(self):\n",
        "        super().__init__()\n",
        "        self.classifier = nn.Sequential(\n",
        "            nn.Linear(28 * 28, 400),\n",
        "            nn.ReLU(inplace=True),\n",
        "            nn.Linear(400, 200),\n",
        "            nn.ReLU(inplace=True),\n",
        "            nn.Linear(200, 100),\n",
        "            nn.ReLU(inplace=True),\n",
        "            nn.Linear(100, 10)\n",
        "        )\n",
        "    def forward(self, x):\n",
        "        output = self.classifier(x)\n",
        "        return output"
      ],
      "execution_count": 15,
      "outputs": []
    },
    {
      "cell_type": "code",
      "metadata": {
        "id": "M-l9RVg0Sjg2",
        "colab": {
          "base_uri": "https://localhost:8080/"
        },
        "outputId": "242cb061-bcc3-46a3-b1b8-556dbebb4c81"
      },
      "source": [
        "model = MLP()\n",
        "model.to(device)"
      ],
      "execution_count": 16,
      "outputs": [
        {
          "output_type": "execute_result",
          "data": {
            "text/plain": [
              "MLP(\n",
              "  (classifier): Sequential(\n",
              "    (0): Linear(in_features=784, out_features=400, bias=True)\n",
              "    (1): ReLU(inplace=True)\n",
              "    (2): Linear(in_features=400, out_features=200, bias=True)\n",
              "    (3): ReLU(inplace=True)\n",
              "    (4): Linear(in_features=200, out_features=100, bias=True)\n",
              "    (5): ReLU(inplace=True)\n",
              "    (6): Linear(in_features=100, out_features=10, bias=True)\n",
              "  )\n",
              ")"
            ]
          },
          "metadata": {},
          "execution_count": 16
        }
      ]
    },
    {
      "cell_type": "code",
      "metadata": {
        "id": "yeX70ZtiSyqS"
      },
      "source": [
        "criterion = nn.CrossEntropyLoss()\n",
        "optimizer = optim.Adam(model.parameters(), lr=0.001)"
      ],
      "execution_count": 17,
      "outputs": []
    },
    {
      "cell_type": "code",
      "metadata": {
        "id": "LV7dGql6TDTI",
        "colab": {
          "base_uri": "https://localhost:8080/"
        },
        "outputId": "498907bd-6d56-4e5a-b0c6-f7cbf1525c41"
      },
      "source": [
        "num_epochs = 15\n",
        "losses = []\n",
        "accs = []\n",
        "for epoch in range(num_epochs):\n",
        "    running_loss = 0.0\n",
        "    running_acc = 0.0\n",
        "    for imgs, labels in train_dataloader:\n",
        "        imgs = imgs.view(num_batches, -1)\n",
        "        imgs = imgs.to(device)\n",
        "        labels = labels.to(device)\n",
        "        optimizer.zero_grad()\n",
        "        output = model(imgs)\n",
        "        loss = criterion(output, labels)\n",
        "        running_loss += loss.item()\n",
        "        pred = torch.argmax(output, dim=1)\n",
        "        running_acc += torch.mean(pred.eq(labels).float())\n",
        "        loss.backward()\n",
        "        optimizer.step()\n",
        "    running_loss /= len(train_dataloader)\n",
        "    running_acc /= len(train_dataloader)\n",
        "    print(\"epoch: {}, loss: {}, acc: {}\".format(epoch, running_loss, running_acc))\n",
        "    losses.append(running_loss)\n",
        "    # accs.append(running_acc)\n",
        "    accs.append(running_acc.cpu())"
      ],
      "execution_count": 18,
      "outputs": [
        {
          "output_type": "stream",
          "name": "stdout",
          "text": [
            "epoch: 0, loss: 0.31178668851032854, acc: 0.9062836766242981\n",
            "epoch: 1, loss: 0.11198233558796346, acc: 0.9656330347061157\n",
            "epoch: 2, loss: 0.07024257950096702, acc: 0.9781652092933655\n",
            "epoch: 3, loss: 0.05232145684751837, acc: 0.9831986427307129\n",
            "epoch: 4, loss: 0.03779370278042431, acc: 0.9879651069641113\n",
            "epoch: 5, loss: 0.03173856112989597, acc: 0.9900988936424255\n",
            "epoch: 6, loss: 0.024989354139494633, acc: 0.9917320609092712\n",
            "epoch: 7, loss: 0.022501674317706298, acc: 0.9926649928092957\n",
            "epoch: 8, loss: 0.01858428032535206, acc: 0.9940990209579468\n",
            "epoch: 9, loss: 0.01603207677218355, acc: 0.9946317672729492\n",
            "epoch: 10, loss: 0.017866621992228222, acc: 0.9938154220581055\n",
            "epoch: 11, loss: 0.010701766134431334, acc: 0.9965152740478516\n",
            "epoch: 12, loss: 0.012346334067230296, acc: 0.9958152174949646\n",
            "epoch: 13, loss: 0.01398572985796515, acc: 0.9954318404197693\n",
            "epoch: 14, loss: 0.008632548522997847, acc: 0.9971322417259216\n"
          ]
        }
      ]
    },
    {
      "cell_type": "code",
      "metadata": {
        "id": "wJ2yZ8WkU_e-",
        "colab": {
          "base_uri": "https://localhost:8080/",
          "height": 449
        },
        "outputId": "bd38c57f-c38a-4229-e780-f9df8dd01f9b"
      },
      "source": [
        "plt.plot(losses)"
      ],
      "execution_count": 19,
      "outputs": [
        {
          "output_type": "execute_result",
          "data": {
            "text/plain": [
              "[<matplotlib.lines.Line2D at 0x7f5c6b35dca0>]"
            ]
          },
          "metadata": {},
          "execution_count": 19
        },
        {
          "output_type": "display_data",
          "data": {
            "text/plain": [
              "<Figure size 640x480 with 1 Axes>"
            ],
            "image/png": "[encoded data removed]"
          },
          "metadata": {}
        }
      ]
    },
    {
      "cell_type": "code",
      "metadata": {
        "id": "97hNvly8VvxM",
        "colab": {
          "base_uri": "https://localhost:8080/",
          "height": 449
        },
        "outputId": "10cb06c3-9b68-4848-a9ff-83442d27d03c"
      },
      "source": [
        "plt.plot(accs)"
      ],
      "execution_count": 20,
      "outputs": [
        {
          "output_type": "execute_result",
          "data": {
            "text/plain": [
              "[<matplotlib.lines.Line2D at 0x7f5c6b3f4df0>]"
            ]
          },
          "metadata": {},
          "execution_count": 20
        },
        {
          "output_type": "display_data",
          "data": {
            "text/plain": [
              "<Figure size 640x480 with 1 Axes>"
            ],
            "image/png": "[encoded data removed]"
          },
          "metadata": {}
        }
      ]
    },
    {
      "cell_type": "code",
      "metadata": {
        "id": "xrKGF0xBVzlB"
      },
      "source": [
        "train_iter = iter(train_dataloader)"
      ],
      "execution_count": 21,
      "outputs": []
    },
    {
      "cell_type": "code",
      "metadata": {
        "id": "AKCrBK1zV6vw"
      },
      "source": [
        "# imgs, labels = train_iter.next()\n",
        "imgs, labels = next(train_iter)"
      ],
      "execution_count": 22,
      "outputs": []
    },
    {
      "cell_type": "code",
      "metadata": {
        "id": "otsjG6xvV97a",
        "colab": {
          "base_uri": "https://localhost:8080/"
        },
        "outputId": "f14d7fb0-5ec0-43f1-8824-b164d887fd84"
      },
      "source": [
        "labels"
      ],
      "execution_count": 23,
      "outputs": [
        {
          "output_type": "execute_result",
          "data": {
            "text/plain": [
              "tensor([5, 4, 0, 8, 1, 4, 6, 8, 1, 7, 5, 9, 2, 0, 7, 6, 7, 1, 6, 5, 5, 0, 0, 5,\n",
              "        9, 9, 0, 8, 2, 3, 5, 1, 8, 6, 6, 1, 9, 5, 6, 4, 7, 8, 7, 5, 8, 7, 5, 3,\n",
              "        9, 2, 0, 9, 2, 2, 6, 4, 0, 3, 3, 0, 2, 3, 2, 8, 9, 2, 6, 9, 2, 5, 8, 8,\n",
              "        1, 2, 0, 9, 3, 9, 2, 4, 4, 8, 9, 4, 1, 2, 2, 3, 6, 7, 9, 1, 1, 5, 4, 8,\n",
              "        3, 5, 6, 4])"
            ]
          },
          "metadata": {},
          "execution_count": 23
        }
      ]
    },
    {
      "cell_type": "code",
      "metadata": {
        "id": "s4mq71qmV_EQ"
      },
      "source": [
        "img_gpu = imgs.view(100, -1).to(device)"
      ],
      "execution_count": 24,
      "outputs": []
    },
    {
      "cell_type": "code",
      "metadata": {
        "id": "widD3hDGWPAQ"
      },
      "source": [
        "output = model(img_gpu)"
      ],
      "execution_count": 25,
      "outputs": []
    },
    {
      "cell_type": "code",
      "metadata": {
        "id": "EpbCxGcZWR0x",
        "colab": {
          "base_uri": "https://localhost:8080/"
        },
        "outputId": "00cae404-e275-40c0-9e34-f635b179abde"
      },
      "source": [
        "torch.argmax(output, dim=1)"
      ],
      "execution_count": 26,
      "outputs": [
        {
          "output_type": "execute_result",
          "data": {
            "text/plain": [
              "tensor([5, 4, 0, 8, 1, 4, 6, 8, 1, 7, 5, 9, 2, 0, 7, 6, 7, 1, 6, 5, 5, 0, 0, 5,\n",
              "        9, 9, 0, 8, 2, 3, 5, 1, 8, 6, 6, 1, 9, 5, 6, 4, 7, 8, 7, 5, 8, 7, 5, 3,\n",
              "        9, 2, 0, 9, 2, 2, 6, 4, 0, 3, 3, 0, 2, 3, 2, 8, 9, 2, 6, 9, 2, 5, 8, 8,\n",
              "        1, 2, 0, 9, 3, 9, 2, 4, 4, 8, 9, 4, 1, 2, 2, 3, 6, 7, 9, 1, 1, 5, 4, 8,\n",
              "        3, 5, 6, 4])"
            ]
          },
          "metadata": {},
          "execution_count": 26
        }
      ]
    },
    {
      "cell_type": "code",
      "metadata": {
        "id": "2-f6gEzrWaPk",
        "colab": {
          "base_uri": "https://localhost:8080/"
        },
        "outputId": "b36bcc40-b1c3-4a67-b1ce-1c30dae8e991"
      },
      "source": [
        "model.to(\"cpu\")"
      ],
      "execution_count": 27,
      "outputs": [
        {
          "output_type": "execute_result",
          "data": {
            "text/plain": [
              "MLP(\n",
              "  (classifier): Sequential(\n",
              "    (0): Linear(in_features=784, out_features=400, bias=True)\n",
              "    (1): ReLU(inplace=True)\n",
              "    (2): Linear(in_features=400, out_features=200, bias=True)\n",
              "    (3): ReLU(inplace=True)\n",
              "    (4): Linear(in_features=200, out_features=100, bias=True)\n",
              "    (5): ReLU(inplace=True)\n",
              "    (6): Linear(in_features=100, out_features=10, bias=True)\n",
              "  )\n",
              ")"
            ]
          },
          "metadata": {},
          "execution_count": 27
        }
      ]
    },
    {
      "cell_type": "code",
      "metadata": {
        "id": "8BrVl7JvYCeD"
      },
      "source": [
        "params = model.state_dict()"
      ],
      "execution_count": 28,
      "outputs": []
    },
    {
      "cell_type": "code",
      "metadata": {
        "id": "J3bXNJ-1YK5j"
      },
      "source": [
        "torch.save(params, \"model.prm\")"
      ],
      "execution_count": 29,
      "outputs": []
    },
    {
      "cell_type": "code",
      "metadata": {
        "id": "nvS9MB1cYRFb",
        "colab": {
          "base_uri": "https://localhost:8080/",
          "height": 35
        },
        "outputId": "c6ed939c-8c32-4f37-f145-d4a06bb46a13"
      },
      "source": [
        "!ls"
      ],
      "execution_count": null,
      "outputs": [
        {
          "output_type": "stream",
          "text": [
            "data  model.prm  sample_data\n"
          ],
          "name": "stdout"
        }
      ]
    },
    {
      "cell_type": "code",
      "metadata": {
        "id": "HDWeqcWaYUuD"
      },
      "source": [
        "params_load = torch.load(\"model.prm\")"
      ],
      "execution_count": null,
      "outputs": []
    },
    {
      "cell_type": "code",
      "metadata": {
        "id": "BKh5JdbiYdTx",
        "colab": {
          "base_uri": "https://localhost:8080/",
          "height": 35
        },
        "outputId": "f31faf90-77fe-4b66-ee34-0028f704abda"
      },
      "source": [
        "model.load_state_dict(params_load)"
      ],
      "execution_count": null,
      "outputs": [
        {
          "output_type": "execute_result",
          "data": {
            "text/plain": [
              "<All keys matched successfully>"
            ]
          },
          "metadata": {
            "tags": []
          },
          "execution_count": 37
        }
      ]
    },
    {
      "cell_type": "code",
      "metadata": {
        "id": "39ZNHZTkYid5"
      },
      "source": [],
      "execution_count": null,
      "outputs": []
    }
  ]
}