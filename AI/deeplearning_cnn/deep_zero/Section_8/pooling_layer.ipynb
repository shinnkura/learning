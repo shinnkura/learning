{
 "cells": [
  {
   "cell_type": "markdown",
   "metadata": {},
   "source": [
    "# プーリング層の実装\n",
    "プーリング層の具体的な実装方法を解説します。  \n",
    "順伝播、逆伝播の実装をそれぞれコードを交えて解説します。"
   ]
  },
  {
   "cell_type": "markdown",
   "metadata": {},
   "source": [
    "## ●プーリング層のクラス\n",
    "今回はMAXプーリングを行います。  \n",
    "小さく区切られた各領域から最大値を取り出し、サイズが小さくなった新たな画像を作ります。  \n",
    "\n",
    "プーリング層は、以下のようにクラスとして実装します。  "
   ]
  },
  {
   "cell_type": "code",
   "execution_count": null,
   "metadata": {
    "collapsed": true
   },
   "outputs": [],
   "source": [
    "# -- プーリング層 --\n",
    "class PoolingLayer:\n",
    "    \n",
    "    # n_bt:バッチサイズ, x_ch:入力チャンネル数, x_h:入力画像高さ, x_w:入力画像幅\n",
    "    # pool:プーリング領域のサイズ, pad:パディング幅\n",
    "    # y_ch:出力チャンネル数, y_h:出力高さ, y_w:出力幅\n",
    "    \n",
    "    def __init__(self, x_ch, x_h, x_w, pool, pad):\n",
    "        \n",
    "        # パラメータをまとめる\n",
    "        self.params = (x_ch, x_h, x_w, pool, pad)\n",
    "        \n",
    "        # 出力画像のサイズ\n",
    "        self.y_ch = x_ch  # 出力チャンネル数\n",
    "        self.y_h = x_h//pool if x_h%pool==0 else x_h//pool+1  # 出力高さ\n",
    "        self.y_w = x_w//pool if x_w%pool==0 else x_w//pool+1  # 出力幅\n",
    "\n",
    "        ..."
   ]
  },
  {
   "cell_type": "markdown",
   "metadata": {},
   "source": [
    "__init__メソッドでは、変更したり外部からアクセスしたりする必要のないパラメータを`self.params`にまとめています。  \n",
    "また、出力画像のチャンネル数、高さ、幅は、外部からアクセス可能にするために`self`が付けられています。  \n",
    "このクラスに、順伝播と逆伝播のメソッドを記述します。"
   ]
  },
  {
   "cell_type": "markdown",
   "metadata": {},
   "source": [
    "## ●プーリング層の順伝播\n",
    "プーリング層における順伝播ではまず、im2colにより画像を行列に変換します。  \n",
    "そして、この行列の各列の最大値から画像を再構成します。  \n",
    "これを以下の図に示します。\n",
    "\n",
    "<img src=\"images/pooling_forward_image.png\">\n",
    "\n",
    "\n",
    "これにより、各領域の最大値が抽出された画像が生成されます。  \n",
    "\n",
    "この流れを別の図で表すと、以下のようになります。\n",
    "\n",
    "<img src=\"images/pooling_forward.png\">\n",
    "\n",
    "この図を踏まえて、プーリング層における順伝播を以下のようにメソッドとして実装します。"
   ]
  },
  {
   "cell_type": "code",
   "execution_count": null,
   "metadata": {
    "collapsed": true
   },
   "outputs": [],
   "source": [
    "    def forward(self, x):\n",
    "        n_bt = x.shape[0] \n",
    "        x_ch, x_h, x_w, pool, pad = self.params\n",
    "        y_ch, y_h, y_w = self.y_ch, self.y_h, self.y_w\n",
    "        \n",
    "        # 入力画像を行列に変換\n",
    "        cols = im2col(x, pool, pool, y_h, y_w, pool, pad)\n",
    "        cols = cols.T.reshape(n_bt*y_h*y_w*x_ch, pool*pool)\n",
    "        \n",
    "        # 出力の計算: Maxプーリング\n",
    "        y = np.max(cols, axis=1)\n",
    "        self.y = y.reshape(n_bt, y_h, y_w, x_ch).transpose(0, 3, 1, 2)\n",
    "        \n",
    "        # 最大値のインデックスを保存\n",
    "        self.max_index = np.argmax(cols, axis=1)"
   ]
  },
  {
   "cell_type": "markdown",
   "metadata": {},
   "source": [
    "入力画像の形式は、畳み込み層のものと同じです。  \n",
    "まずは、im2colにより入力画像を行列に変換します。  \n",
    "\n",
    "フィルタの幅と高さ、ストライドの幅にはプーリング領域のサイズを指定します。  \n",
    "これにより、入力画像を正方形の領域に区切り、それを行列の各列にすることができます。  \n",
    "得られた行列`cols`は、転置と`reshape`により最大値をとるための形状に変換します。\n",
    "  \n",
    "次に、NumPyのmax関数を使って、行列`cols`の各行で最大値を求めます。  \n",
    "これによりもとめた`y`は、`cols`から次元が1つ減ることになります。  \n",
    "`y`は、形状が整えられた上で出力`self.y`となります。  \n",
    "\n",
    "最後に、各列の最大値のインデックスを、後に逆伝播で利用するため`self.max_index`に保存しておきます。  \n",
    "NumPyのargmax関数は、最大値そのもではなくて最大値のインデックスを取得します。  "
   ]
  },
  {
   "cell_type": "markdown",
   "metadata": {},
   "source": [
    "## ●プーリング層の逆伝播\n",
    "プーリング層でも、逆伝播では入力の勾配を伝播させます。  \n",
    "プーリング層の逆伝播では、各領域の最大値のピクセルのみで誤差が伝播します。  \n",
    "そのため、順伝播の際に保存しておいた、各領域における最大値のインデックスを利用した少々トリッキーなアルゴリズムが必要になります。  \n",
    "\n",
    "このアルゴリズムではまず、順伝播の際に各列の最大値を取得した行列と、同じ形状の行列を作ります。  \n",
    "そして、この行列における各列の、最大値があった要素に、出力の勾配を格納します。  \n",
    "これを以下図に示します。\n",
    "\n",
    "<img src=\"images/pooling_backward_image_1.png\">\n",
    "\n",
    "各列の最大値であった要素に出力の勾配を入れて、残りは0にします。\n",
    "\n",
    "そして、これをcol2imにより画像に復元し、入力の勾配とします。 \n",
    "これを以下の図に示します。  \n",
    "\n",
    "<img src=\"images/pooling_backward_image_2.png\">\n",
    "\n",
    "プーリング層では学習は行われないので、重みやバイアスのようなものはありません。  \n",
    "従って、逆伝播で求める必要があるのは入力の勾配のみです。    \n",
    "\n",
    "プーリング層の逆伝播を図で表すと、以下の図のようになります。\n",
    "\n",
    "<img src=\"images/pooling_backward.png\">\n",
    "\n",
    "この図を踏まえて、プーリング層における逆伝播を以下のようにメソッドして実装します。"
   ]
  },
  {
   "cell_type": "code",
   "execution_count": null,
   "metadata": {
    "collapsed": true
   },
   "outputs": [],
   "source": [
    "    def backward(self, grad_y):\n",
    "        n_bt = grad_y.shape[0] \n",
    "        x_ch, x_h, x_w, pool, pad = self.params\n",
    "        y_ch, y_h, y_w = self.y_ch, self.y_h, self.y_w\n",
    "        \n",
    "        # 出力の勾配の軸を入れ替え\n",
    "        grad_y = grad_y.transpose(0, 2, 3, 1)\n",
    "        \n",
    "        # 行列を作成し、各列の最大値であった要素にのみ出力の勾配を入れる\n",
    "        grad_cols = np.zeros((pool*pool, grad_y.size))\n",
    "        grad_cols[self.max_index.reshape(-1), np.arange(grad_y.size)] = grad_y.reshape(-1) \n",
    "        grad_cols = grad_cols.reshape(pool, pool, n_bt, y_h, y_w, y_ch)\n",
    "        grad_cols = grad_cols.transpose(5,0,1,2,3,4) \n",
    "        grad_cols = grad_cols.reshape( y_ch*pool*pool, n_bt*y_h*y_w)\n",
    "\n",
    "        # 入力の勾配\n",
    "        x_shape = (n_bt, x_ch, x_h, x_w)\n",
    "        self.grad_x = col2im(grad_cols, x_shape, pool, pool, y_h, y_w, pool, pad)"
   ]
  },
  {
   "cell_type": "markdown",
   "metadata": {},
   "source": [
    "引数として出力の勾配`grad_y`を受け取りますが、この軸をまず`transpose`で入れ替えます。  \n",
    "そして、Numpyのzeros関数により、全ての要素が0の行列`grad_cols`を作成します。\n",
    " \n",
    "行列`grad_cols`の行数は、`pool*pool,`、すなわちプーリング領域の全要素数とします。  \n",
    "また、列数は`grad_y.size`、すなわち`grad_y`の全要素数になります。\n",
    "\n",
    "次に、この行列に`grad_y`を当てはめます。  \n",
    "当てはめる位置は、順伝播の際に保存した`self.max_index`の位置とします。  \n",
    "\n",
    "`self.max_index.reshape(-1)`ではまず、`rehape(-1)`により一次元配列に変換します。  \n",
    "これを、当てはめる位置のインデックスとします。\n",
    "`np.arange(grad_y.size)`で0から`grad_y.size-1`までの列のインデックスを指定します。  \n",
    "指定された各インデックスに、出力の勾配を1次元配列にしたもの`grad_y.reshape(-1)`を当てはめます。  \n",
    "そして、`grad_cols`の形状をtransposeとreshapeで整えて、一つの行列にします。\n",
    "\n",
    "以上により、col2imで変換が可能な形状の行列を得ることができました。  \n",
    "これを先ほど図で示したようにcol2imで画像に戻して、入力の勾配`self.grad_x`とします。\n",
    "\n",
    "プーリング層における逆伝播では、重みの勾配とバイアスの勾配を求める必要が無いので、逆伝播における処理は以上になります。"
   ]
  }
 ],
 "metadata": {
  "kernelspec": {
   "display_name": "Python 3",
   "language": "python",
   "name": "python3"
  },
  "language_info": {
   "codemirror_mode": {
    "name": "ipython",
    "version": 3
   },
   "file_extension": ".py",
   "mimetype": "text/x-python",
   "name": "python",
   "nbconvert_exporter": "python",
   "pygments_lexer": "ipython3",
   "version": "3.5.4"
  }
 },
 "nbformat": 4,
 "nbformat_minor": 2
}
