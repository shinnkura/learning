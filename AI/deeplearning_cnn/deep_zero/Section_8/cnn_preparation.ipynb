{
 "cells": [
  {
   "cell_type": "markdown",
   "metadata": {},
   "source": [
    "# 学習の準備\n",
    "本セクションではCNNを使って手書き文字の認識を行いますが、今回はそのための準備を行います。  \n",
    "使用する手書き文字のデータセット、および構築するネットワークについて解説します。"
   ]
  },
  {
   "cell_type": "markdown",
   "metadata": {},
   "source": [
    "## ●手書き文字のデータセット\n",
    "手書き文字のデータセットですが、前のセクションと同じくscikit-learnのdatasetsから入手します。  \n",
    "このデータセットには、0から9までの手書き数字の画像が多数含まれています。  \n",
    "また、それらの画像がどの数値を表しているのか示す正解値も一緒になっています。    \n",
    "\n",
    "以下は、scikit-learnのdatasetsから手書き文字のデータセットを取得し、画像データの形状及び最初の画像を表示するコードです。"
   ]
  },
  {
   "cell_type": "code",
   "execution_count": null,
   "metadata": {},
   "outputs": [],
   "source": [
    "import matplotlib.pyplot as plt \n",
    "from sklearn import datasets\n",
    "\n",
    "digits = datasets.load_digits()\n",
    "print(digits.data.shape)\n",
    "\n",
    "plt.imshow(digits.data[0].reshape(8, 8), cmap=\"gray\")\n",
    "plt.show() "
   ]
  },
  {
   "cell_type": "markdown",
   "metadata": {},
   "source": [
    "datasetsの`load_digits()`により手書き文字画像のデータセットが読み込まれます。  \n",
    "画像データの形状は`digits.data.shape`により取得できます。  \n",
    "この形状をprintします。  \n",
    "\n",
    "画像データは64個のピクセルが直線上に格納されています。  \n",
    "画像のサイズは8x8ピクセルなので、`reshape(8, 8)`した上でmatplotlibにより表示します。  \n",
    "\n",
    "このコードを実行すると、64個のピクセルが1797個格納されていることが分かります。   \n",
    "また、8x8ピクセルのモノクロで、手書き数字の0が描かれた画像が表示されました。  \n",
    "データセットにはこのような画像データが1797個格納されています。  \n",
    "\n",
    "また、`digits.target`には各画像に対応する数値が用意されています。  \n",
    "以下のコードは、`digits.target`の形状と、最初の50個の数値を表示します。"
   ]
  },
  {
   "cell_type": "code",
   "execution_count": null,
   "metadata": {},
   "outputs": [],
   "source": [
    "print(digits.target.shape)\n",
    "print(digits.target[:50])"
   ]
  },
  {
   "cell_type": "markdown",
   "metadata": {},
   "source": [
    "数値の数は1797個で、対応する画像の数と同じですね。  \n",
    "また、`digits.target`には0から9までの数値が含まれていることが分かります。  \n",
    "\n",
    "それでは、他の画像を見てみましょう。  \n",
    "以下の図はデータセットに含まれる0から9までの画像です。  \n",
    "画像の上には対応する数値が表示されています。\n",
    "\n",
    "<img src=\"images/mnist.png\">\n",
    "\n",
    "\n",
    "このような画像と数値のセットを用いてCNNを訓練し、CNNが手書き数字を認識できるようにします。"
   ]
  },
  {
   "cell_type": "markdown",
   "metadata": {},
   "source": [
    "## ●構築するネットワーク\n",
    "今回は、以下に図でで示すCNNを構築します。\n",
    "\n",
    "<img src=\"images/cnn_network.png\">\n",
    "\n",
    "入力層の後に畳み込み層が続き、プーリング層、中間層を経て出力層につながります。   \n",
    "出力層には10個の出力があり、それぞれの出力は対応する数値に分類される確率となります。  \n",
    "\n",
    "その他の主なネットワークと学習の設定は以下の通りです。\n",
    "\n",
    "|||\n",
    "|:-:|:-:|\n",
    "| 畳み込み層の活性化関数 | ReLU |\n",
    "| 中間層の活性化関数 | ReLU |\n",
    "| 出力層の活性化関数 | ソフトマックス関数 |\n",
    "| 損失関数 | 交差エントロピー誤差 |\n",
    "| 最適化アルゴリズム | AdaGrad |\n",
    "| バッチサイズ | 8 |\n",
    "|||"
   ]
  }
 ],
 "metadata": {
  "kernelspec": {
   "display_name": "Python 3",
   "language": "python",
   "name": "python3"
  },
  "language_info": {
   "codemirror_mode": {
    "name": "ipython",
    "version": 3
   },
   "file_extension": ".py",
   "mimetype": "text/x-python",
   "name": "python",
   "nbconvert_exporter": "python",
   "pygments_lexer": "ipython3",
   "version": "3.5.4"
  }
 },
 "nbformat": 4,
 "nbformat_minor": 2
}
