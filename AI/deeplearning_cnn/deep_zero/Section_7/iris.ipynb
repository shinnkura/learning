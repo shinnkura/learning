{
 "cells": [
  {
   "cell_type": "markdown",
   "metadata": {},
   "source": [
    "# Irisデータセット\n",
    "Irisはアヤメ属の花のことです。  \n",
    "本セクションでは、最小限の実装によるディープラーニングの例として、4層のニューラルネットワークによるIrisの品種分類を行います。"
   ]
  },
  {
   "cell_type": "markdown",
   "metadata": {},
   "source": [
    "## ●Irisデータセットとは？\n",
    "今回は訓練データ、テストデータとして、有名なIrisデータセットを使用します。  \n",
    "Irisデータセットは、1936年に統計、生物学者であるRonald Fisherの論文に掲載されたデータセットです。  \n",
    "\n",
    "使い勝手の良さから機械学習の練習・実験用によく使われており、インターネットから無料でダウンロードすることができます。  \n",
    "Irisデータセットは3つの花の品種を含んでいます。セトサ（Setosa）、バージカラー（Vesicolor）とバージニカ（Versinica）です。  \n",
    "各品種の花を以下の図に示します。  \n",
    "\n",
    "<img src=\"images/iris_images.png\">\n",
    "\n",
    "Irisデータセットには、これらの花150輪の測定値及び品種データが含まれています。  \n",
    "花の測定値には、がくの長さ（Sepal length）、がくの幅（Sepal width）、花びらの長さ（Petal length）、花びらの幅（Petal width）の4つがあります。  \n",
    "花の各測定箇所を以下の図に示します。  \n",
    "\n",
    "<img src=\"images/petal_sepal.png\">\n",
    "\n",
    "この4つの測定値と、花の品種を表すインデックスが、Irisデータセットには含まれています。  "
   ]
  },
  {
   "cell_type": "markdown",
   "metadata": {},
   "source": [
    "## ●Irisのデータ\n",
    "以下は、各測定値をNumpyの配列に格納し表示したものです。  \n",
    "配列には、個々の花に対応する4つの測定値のセットが150個含まれています。  \n",
    "\n",
    "```\n",
    "[[ 5.1  3.5  1.4  0.2]\n",
    " [ 4.9  3.   1.4  0.2]\n",
    " [ 4.7  3.2  1.3  0.2]\n",
    " ・・・\n",
    " （中略）\n",
    " ・・・\n",
    " [ 5.9  3.   5.1  1.8]]\n",
    "```\n",
    "\n",
    "これに対応する品種のインデックスは次の配列で表されます。  \n",
    "配列には同じく150個の値が含まれており、0、1、2の値がそれぞれの品種を表します。\n",
    "\n",
    "```\n",
    "[0 0 ...（中略）... 0 0 1 1 ...（中略）... 1 1 2 2 ...（中略）...2 2]\n",
    "```\n",
    "\n",
    "これらのデータを散布図で表示したものが以下の図です。\n",
    "\n",
    "<img src=\"images/iris_data.png\">\n",
    "\n",
    "品種がグループを形成していることが視覚的に確認できますね。  \n",
    "しかしながら、グループの境界が曖昧な部分もあります。  \n",
    "このグループ分けをニューラルネットワークに学習させて、ある測定値のセットがどのグループ、すなわち品種に属するかを判定させます。"
   ]
  }
 ],
 "metadata": {
  "kernelspec": {
   "display_name": "Python 3",
   "language": "python",
   "name": "python3"
  },
  "language_info": {
   "codemirror_mode": {
    "name": "ipython",
    "version": 3
   },
   "file_extension": ".py",
   "mimetype": "text/x-python",
   "name": "python",
   "nbconvert_exporter": "python",
   "pygments_lexer": "ipython3",
   "version": "3.5.4"
  }
 },
 "nbformat": 4,
 "nbformat_minor": 2
}
