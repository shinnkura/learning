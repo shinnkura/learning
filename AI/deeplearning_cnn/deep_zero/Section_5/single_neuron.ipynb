{
 "cells": [
  {
   "cell_type": "markdown",
   "metadata": {},
   "source": [
    "# 単一ニューロンの実装\n",
    "以降は、シンプルなニューラルネットワークをPythonを用いて実装します。  \n",
    "まず単一のニューロンを実装してその特性を把握します。"
   ]
  },
  {
   "cell_type": "markdown",
   "metadata": {},
   "source": [
    "## ●各座標の用意\n",
    "それでは、単一のニューロンを実装しましょう。  \n",
    "今回はx座標、y座標の2つを入力として、単一のニューロンからの出力を計算します。  \n",
    "これを以下の図に示します。    \n",
    "\n",
    "<img src=\"images/single_neuron.png\">\n",
    "\n",
    "入力に用いるx、y座標ですが、Numpyのarange関数を用いて次の通りに設定します。"
   ]
  },
  {
   "cell_type": "code",
   "execution_count": null,
   "metadata": {
    "collapsed": true
   },
   "outputs": [],
   "source": [
    "X = np.arange(-1.0, 1.0, 0.2)  # 要素数は10個\n",
    "Y = np.arange(-1.0, 1.0, 0.2)"
   ]
  },
  {
   "cell_type": "markdown",
   "metadata": {},
   "source": [
    "x、y座標ともに、-1.0から1.0の手前まで、0.2刻みにそれぞれ10個の値を、入力データとしてNumpyの配列に格納します。  \n",
    "出力は、以下の図のようにグリッドで表示します。  \n",
    "各x座標、y座標の組み合わせごとの出力を、グリッドのマスの色で可視化します。\n",
    "\n",
    "<img src=\"images/grid.png\">\n",
    "\n",
    "出力を格納するグリッドは、Numpyのzeros関数を用いて次の通りに設定します。"
   ]
  },
  {
   "cell_type": "code",
   "execution_count": null,
   "metadata": {
    "collapsed": true
   },
   "outputs": [],
   "source": [
    "Z = np.zeros((10,10))"
   ]
  },
  {
   "cell_type": "markdown",
   "metadata": {},
   "source": [
    "zeros関数は、全ての要素が0で初期化された配列を作成します。  \n",
    "この場合は、10x10の2次元配列を作成します。  "
   ]
  },
  {
   "cell_type": "markdown",
   "metadata": {},
   "source": [
    "## ●単一ニューロンのコード\n",
    "以上を用いて、単一のニューロンによる処理のコードを次のように記述します。"
   ]
  },
  {
   "cell_type": "code",
   "execution_count": null,
   "metadata": {},
   "outputs": [],
   "source": [
    "import numpy as np\n",
    "import matplotlib.pyplot as plt\n",
    "\n",
    "# x、y座標\n",
    "X = np.arange(-1.0, 1.0, 0.2)  # 要素数は10個\n",
    "Y = np.arange(-1.0, 1.0, 0.2)\n",
    "\n",
    "# 出力を格納する10x10のグリッド\n",
    "Z = np.zeros((10,10))\n",
    "\n",
    "# x、y座標の入力の重み\n",
    "w_x = 2.5\n",
    "w_y = 3.0\n",
    "\n",
    "# バイアス\n",
    "bias = 0.1\n",
    "\n",
    "# グリッドの各マスでニューロンの演算\n",
    "for i in range(10):\n",
    "    for j in range(10):\n",
    "        \n",
    "        # 入力と重みの積の総和 + バイアス\n",
    "        u = X[i]*w_x + Y[j]*w_y + bias \n",
    "        \n",
    "        # グリッドに出力を格納\n",
    "        y = 1/(1+np.exp(-u)) # シグモイド関数\n",
    "        Z[j][i] = y\n",
    "\n",
    "# グリッドの表示\n",
    "plt.imshow(Z, \"gray\", vmin = 0.0, vmax = 1.0)\n",
    "plt.colorbar()  \n",
    "plt.show()"
   ]
  },
  {
   "cell_type": "markdown",
   "metadata": {},
   "source": [
    "このグリッドでは、10個のx座標と10個のy座標の、組み合わせごとの出力がグレースケールで表示されています。  \n",
    "黒が出力が0、すなわちニューロンが興奮していない状態、白が出力が1、すなわちニューロンが興奮している状態を表します。  \n",
    "\n",
    "左上の黒い領域、すなわち出力が0に近い領域から、右下の白い領域、すなわち出力が1に近い領域まで出力は連続的に変化しています。  \n",
    "これは、ニューロンの活性化関数にシグモイド関数を使用しているので、0と1の間が表現されているためです。  \n",
    "\n",
    "また、x軸方向、y軸方向ともに出力値が連続的に変化しており、x、y座標それぞれの入力の影響を受けていることが確認できます。  \n",
    "ニューロンの出力は入力に応じて変化しており、単一のニューロンにはシンプルな判別能力が備わっていることが分かります。\n",
    "\n",
    "上記のコードの重要なポイントを解説します。  \n",
    "ループ内の以下の箇所では、入力と重みの積の総和にバイアスを足したものを計算しています。\n",
    "\n",
    "```Python\n",
    "u = X[i]*w_x + Y[j]*w_y + bias\n",
    "```\n",
    "\n",
    "これは、以前に単一ニューロンで解説した以下の式に対応します。\n",
    "\n",
    "$$ u = \\sum_{k=1}^n(x_kw_k) + b $$\n",
    "\n",
    "また、次の箇所は活性化関数（シグモイド関数）により出力値を計算しています。\n",
    "\n",
    "```Python\n",
    "y = 1/(1+np.exp(-u)) # シグモイド関数\n",
    "```\n",
    "\n",
    "これは、同じく単一ニューロンで解説した以下の式に対応します。\n",
    "\n",
    "$$ y = f(u) = f(\\sum_{k=1}^n(x_kw_k)+b) $$\n",
    "\n",
    "重みやバイアスの値を変えると結果が変化しますので、様々な値を試してみましょう。  \n",
    "様々な値で実験をすると、重みとバイアスがニューロンにおいて果たす役割が明確に分かるようになります。  "
   ]
  }
 ],
 "metadata": {
  "kernelspec": {
   "display_name": "Python 3",
   "language": "python",
   "name": "python3"
  },
  "language_info": {
   "codemirror_mode": {
    "name": "ipython",
    "version": 3
   },
   "file_extension": ".py",
   "mimetype": "text/x-python",
   "name": "python",
   "nbconvert_exporter": "python",
   "pygments_lexer": "ipython3",
   "version": "3.5.4"
  }
 },
 "nbformat": 4,
 "nbformat_minor": 2
}
