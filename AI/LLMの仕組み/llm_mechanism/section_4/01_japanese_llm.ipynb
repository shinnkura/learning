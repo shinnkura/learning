{
  "cells": [
    {
      "cell_type": "markdown",
      "metadata": {
        "id": "view-in-github",
        "colab_type": "text"
      },
      "source": [
        "<a href=\"https://colab.research.google.com/github/yukinaga/llm_mechanism/blob/main/section_4/01_japanese_llm.ipynb\" target=\"_parent\"><img src=\"https://colab.research.google.com/assets/colab-badge.svg\" alt=\"Open In Colab\"/></a>"
      ]
    },
    {
      "cell_type": "markdown",
      "metadata": {
        "id": "dPkdg9jTjkTd"
      },
      "source": [
        "# 日本語LLMの利用\n",
        "2023年に公開された日本語LLM「OpenCALM」を使ってみましょう。"
      ]
    },
    {
      "cell_type": "markdown",
      "metadata": {
        "id": "oPKARfZNZ_EA"
      },
      "source": [
        "## ライブラリのインストール\n",
        "OpenCALMが含まれるライブラリtransformersをインストールします。"
      ]
    },
    {
      "cell_type": "code",
      "execution_count": null,
      "metadata": {
        "id": "PRTOCXhK9YAM"
      },
      "outputs": [],
      "source": [
        "!pip install transformers"
      ]
    },
    {
      "cell_type": "markdown",
      "metadata": {
        "id": "oLSgiA6Uktpm"
      },
      "source": [
        "## OpenCALMの設定\n",
        "\n",
        "形態素解析のために`AutoTokenizer`を、訓練済みモデルの読み込みのために`AutoModelForCausalLM`を設定します。\n",
        "今回は、パラメータ数が14億のモデル`cyberagent/open-calm-1b`を読み込みます。\n",
        "https://huggingface.co/cyberagent"
      ]
    },
    {
      "cell_type": "code",
      "execution_count": null,
      "metadata": {
        "id": "71dgCmmBli-s"
      },
      "outputs": [],
      "source": [
        "from transformers import AutoTokenizer, AutoModelForCausalLM\n",
        "\n",
        "tokenizer = AutoTokenizer.from_pretrained(\"cyberagent/open-calm-1b\")\n",
        "model = AutoModelForCausalLM.from_pretrained(\"cyberagent/open-calm-1b\")"
      ]
    },
    {
      "cell_type": "markdown",
      "metadata": {
        "id": "QhtRBNNf05CA"
      },
      "source": [
        "## 最初の文章を設定\n",
        "トークナイザーを使って、始まりの文章をモデルへの入力に変換します。\n"
      ]
    },
    {
      "cell_type": "code",
      "execution_count": null,
      "metadata": {
        "id": "EcmmAToP4WE3"
      },
      "outputs": [],
      "source": [
        "first_sentence = \"遠い昔、はるか彼方の銀河系で\"  # 始まりの文章\n",
        "x = tokenizer.encode(first_sentence, return_tensors=\"pt\", add_special_tokens=False)  # 入力"
      ]
    },
    {
      "cell_type": "markdown",
      "metadata": {
        "id": "X7EUJRa31Q9c"
      },
      "source": [
        "## 文章の生成\n",
        "訓練済みのモデルに入力を渡します。\n",
        "モデルの出力は、トークナイザーを使って文章に変換します。\n"
      ]
    },
    {
      "cell_type": "code",
      "source": [
        "y = model.generate(\n",
        "    x,\n",
        "    max_new_tokens=64,\n",
        "    do_sample=True,\n",
        "    temperature=1.2,\n",
        "    top_p=0.9,\n",
        "    repetition_penalty=1.05,\n",
        "    pad_token_id=tokenizer.pad_token_id,\n",
        ")\n",
        "\n",
        "generated_sentence = tokenizer.batch_decode(y)\n",
        "print(generated_sentence)"
      ],
      "metadata": {
        "id": "OHPJIvQoJ5Ze"
      },
      "execution_count": null,
      "outputs": []
    }
  ],
  "metadata": {
    "colab": {
      "provenance": [],
      "authorship_tag": "ABX9TyOsPWo8RkQW/jNP6fB1oLiy",
      "include_colab_link": true
    },
    "kernelspec": {
      "display_name": "Python 3",
      "name": "python3"
    },
    "language_info": {
      "name": "python"
    }
  },
  "nbformat": 4,
  "nbformat_minor": 0
}