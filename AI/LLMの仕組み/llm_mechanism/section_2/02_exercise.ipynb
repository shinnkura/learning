{
  "nbformat": 4,
  "nbformat_minor": 0,
  "metadata": {
    "colab": {
      "provenance": [],
      "authorship_tag": "ABX9TyOBImVrlkNTdxAZxM9Z2w7u",
      "include_colab_link": true
    },
    "kernelspec": {
      "name": "python3",
      "display_name": "Python 3"
    },
    "language_info": {
      "name": "python"
    }
  },
  "cells": [
    {
      "cell_type": "markdown",
      "metadata": {
        "id": "view-in-github",
        "colab_type": "text"
      },
      "source": [
        "<a href=\"https://colab.research.google.com/github/yukinaga/llm_mechanism/blob/main/section_2/02_exercise.ipynb\" target=\"_parent\"><img src=\"https://colab.research.google.com/assets/colab-badge.svg\" alt=\"Open In Colab\"/></a>"
      ]
    },
    {
      "cell_type": "markdown",
      "source": [
        "## 演習\n",
        "ChatGPTを使い、ディープラーニングのコードを生成し、実行してみましょう。"
      ],
      "metadata": {
        "id": "EgMiKhX764eO"
      }
    },
    {
      "cell_type": "markdown",
      "source": [
        "以下のセルに、ChatGPTを使って生成したディープラーニングのコードを貼り付けて、実行してみましょう。  \n",
        "うまくいかないときは、さらにプロンプトを追加して修正してください。"
      ],
      "metadata": {
        "id": "dtqPN0ze68Gg"
      }
    },
    {
      "cell_type": "code",
      "execution_count": null,
      "metadata": {
        "id": "8m2Y5w9J6j12"
      },
      "outputs": [],
      "source": []
    }
  ]
}