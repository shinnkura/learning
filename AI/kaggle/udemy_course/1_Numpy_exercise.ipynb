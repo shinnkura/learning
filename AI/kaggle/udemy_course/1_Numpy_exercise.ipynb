{
 "cells": [
  {
   "cell_type": "markdown",
   "id": "40d9c665",
   "metadata": {},
   "source": [
    "---\n",
    "# 1. Numpy Exercise\n",
    "---"
   ]
  },
  {
   "cell_type": "markdown",
   "id": "7c624520",
   "metadata": {},
   "source": [
    "Exercise_1 : Numpyライブラリを np というエイリアスでインポートしてください"
   ]
  },
  {
   "cell_type": "code",
   "execution_count": null,
   "id": "2fe04f33",
   "metadata": {},
   "outputs": [],
   "source": []
  },
  {
   "cell_type": "markdown",
   "id": "cb8b7c14",
   "metadata": {},
   "source": [
    "<details>\n",
    "    <summary><font color='red'>解答はここをクリック</font></summary>\n",
    "    <code>import numpy as np</code>\n",
    "</details>"
   ]
  },
  {
   "cell_type": "markdown",
   "id": "28d6b528",
   "metadata": {},
   "source": [
    "Exercise_2 :  [1, 3, 5, ..., 21, 23] の連続する値を持つ1次元のNumpy Array（変数名 arr1）を作成してください"
   ]
  },
  {
   "cell_type": "code",
   "execution_count": null,
   "id": "75eec315",
   "metadata": {},
   "outputs": [],
   "source": [
    "arr1 = "
   ]
  },
  {
   "cell_type": "markdown",
   "id": "1b4e0e97",
   "metadata": {},
   "source": [
    "<details>\n",
    "    <summary><font color='red'>解答はここをクリック</font></summary>\n",
    "    <code>arr1 = np.arange(1, 24, 2)</code>\n",
    "</details>"
   ]
  },
  {
   "cell_type": "code",
   "execution_count": null,
   "id": "8c671c2f",
   "metadata": {},
   "outputs": [],
   "source": [
    "# 実行して表示\n",
    "arr1"
   ]
  },
  {
   "cell_type": "markdown",
   "id": "4d1f6bf7",
   "metadata": {},
   "source": [
    "Exercise_3 : [0., 0.5, 1, ..., 5.5, 6.] （要素数は13）の連続する値を持つ1次元のNumpy Array（変数名 arr2）を作成してください"
   ]
  },
  {
   "cell_type": "code",
   "execution_count": null,
   "id": "4d45835a",
   "metadata": {},
   "outputs": [],
   "source": [
    "arr2 = "
   ]
  },
  {
   "cell_type": "markdown",
   "id": "5eb24fe7",
   "metadata": {},
   "source": [
    "<details>\n",
    "    <summary><font color='red'>解答はここをクリック</font></summary>\n",
    "    <code>arr2 = np.linspace(0, 6, 13)</code><br>\n",
    "    <code>np.arange(0, 6.1, 0.5)</code>などでも可\n",
    "</details>"
   ]
  },
  {
   "cell_type": "code",
   "execution_count": null,
   "id": "5a3a3f0e",
   "metadata": {},
   "outputs": [],
   "source": [
    "# 実行して表示\n",
    "arr2"
   ]
  },
  {
   "cell_type": "markdown",
   "id": "b2c30d92",
   "metadata": {},
   "source": [
    "Exercise_4 : arr1 を3行4列の配列に変換してください(arr1_reshaped)"
   ]
  },
  {
   "cell_type": "code",
   "execution_count": null,
   "id": "cbd423f9",
   "metadata": {},
   "outputs": [],
   "source": [
    "arr1_reshaped = "
   ]
  },
  {
   "cell_type": "markdown",
   "id": "fe9ffdad",
   "metadata": {},
   "source": [
    "<details>\n",
    "    <summary><font color='red'>解答はここをクリック</font></summary>\n",
    "    <code>arr1_reshaped = arr1.reshape(3, 4)</code>\n",
    "</details>"
   ]
  },
  {
   "cell_type": "code",
   "execution_count": null,
   "id": "b85002ac",
   "metadata": {},
   "outputs": [],
   "source": [
    "# 実行して表示\n",
    "arr1_reshaped"
   ]
  },
  {
   "cell_type": "markdown",
   "id": "f0713a2c",
   "metadata": {},
   "source": [
    "Exercise_5: arr1 を2次元で1列の配列に変換してください(arr1_1col)"
   ]
  },
  {
   "cell_type": "code",
   "execution_count": null,
   "id": "40c54c21",
   "metadata": {},
   "outputs": [],
   "source": [
    "arr1_1col = "
   ]
  },
  {
   "cell_type": "markdown",
   "id": "7cf92206",
   "metadata": {},
   "source": [
    "<details>\n",
    "    <summary><font color='red'>解答はここをクリック</font></summary>\n",
    "    <code>arr1_1col = arr1.reshape(-1, 1)</code>\n",
    "</details>"
   ]
  },
  {
   "cell_type": "code",
   "execution_count": null,
   "id": "a4bfecf3",
   "metadata": {
    "scrolled": true
   },
   "outputs": [],
   "source": [
    "# 実行して表示\n",
    "arr1_1col"
   ]
  },
  {
   "cell_type": "markdown",
   "id": "2c9b76c6",
   "metadata": {},
   "source": [
    "Exercise_6 : arr1 を1次元の配列に変換してください(arr1_1dim)。ただし、arr1を扱っていく一方で、arr1_1dimの値の更新を行っていくことを前提とします。（もとのarr1のデータが変更されない手法を用いる）"
   ]
  },
  {
   "cell_type": "code",
   "execution_count": null,
   "id": "942c134a",
   "metadata": {},
   "outputs": [],
   "source": [
    "arr1_1dim = "
   ]
  },
  {
   "cell_type": "markdown",
   "id": "245daf44",
   "metadata": {},
   "source": [
    "<details>\n",
    "    <summary><font color='red'>解答はここをクリック</font></summary>\n",
    "    <code>arr1_1dim = arr1.flatten()</code>\n",
    "    <p>※ ravel()の場合はarr1_1dimを更新するとarr1も更新されてしまうため</p>\n",
    "</details>"
   ]
  },
  {
   "cell_type": "code",
   "execution_count": null,
   "id": "70668362",
   "metadata": {},
   "outputs": [],
   "source": [
    "# 実行して表示\n",
    "arr1_1dim"
   ]
  },
  {
   "cell_type": "markdown",
   "id": "8f1ead72",
   "metadata": {},
   "source": [
    "Exercise_7 : arr1_reshaped の次元数とその形状を確認してください"
   ]
  },
  {
   "cell_type": "code",
   "execution_count": null,
   "id": "31672c94",
   "metadata": {},
   "outputs": [],
   "source": [
    "# 次元\n"
   ]
  },
  {
   "cell_type": "markdown",
   "id": "ca4f3c41",
   "metadata": {},
   "source": [
    "<details>\n",
    "    <summary><font color='red'>解答はここをクリック</font></summary>\n",
    "    <code>arr1_reshaped.ndim</code>\n",
    "</details>"
   ]
  },
  {
   "cell_type": "code",
   "execution_count": null,
   "id": "4108338f",
   "metadata": {},
   "outputs": [],
   "source": [
    "# 形状\n"
   ]
  },
  {
   "cell_type": "markdown",
   "id": "216aaaa7",
   "metadata": {},
   "source": [
    "<details>\n",
    "    <summary><font color='red'>解答はここをクリック</font></summary>\n",
    "    <code>arr1_reshaped.shape</code>\n",
    "</details>"
   ]
  },
  {
   "cell_type": "markdown",
   "id": "1a1ab977",
   "metadata": {},
   "source": [
    "Exercise_8: Numpy の random モジュールを使い、0以上1未満の乱数を5つ持つ一次元の配列を作成してください（arr3）"
   ]
  },
  {
   "cell_type": "code",
   "execution_count": null,
   "id": "0fbca9e7",
   "metadata": {},
   "outputs": [],
   "source": [
    "arr3 = "
   ]
  },
  {
   "cell_type": "markdown",
   "id": "9fedbc52",
   "metadata": {},
   "source": [
    "<details>\n",
    "    <summary><font color='red'>解答はここをクリック</font></summary>\n",
    "    <code>arr3 = np.random.rand(5)</code>\n",
    "</details>"
   ]
  },
  {
   "cell_type": "code",
   "execution_count": null,
   "id": "4bd5b02d",
   "metadata": {},
   "outputs": [],
   "source": [
    "# 実行して表示\n",
    "arr3"
   ]
  },
  {
   "cell_type": "markdown",
   "id": "5a7f657f",
   "metadata": {},
   "source": [
    "Exercise_9: 0以上1未満の乱数を持つ2行6列の配列を作成してください（arr4）"
   ]
  },
  {
   "cell_type": "code",
   "execution_count": null,
   "id": "49325506",
   "metadata": {},
   "outputs": [],
   "source": [
    "arr4 = "
   ]
  },
  {
   "cell_type": "markdown",
   "id": "5b1b2726",
   "metadata": {},
   "source": [
    "<details>\n",
    "    <summary><font color='red'>解答はここをクリック</font></summary>\n",
    "    <code>arr4 = np.random.rand(2, 6)</code>\n",
    "</details>"
   ]
  },
  {
   "cell_type": "code",
   "execution_count": null,
   "id": "c8e9021c",
   "metadata": {
    "scrolled": true
   },
   "outputs": [],
   "source": [
    "# 実行して表示\n",
    "arr4"
   ]
  },
  {
   "cell_type": "markdown",
   "id": "9a5af0b4",
   "metadata": {},
   "source": [
    "Exercise_10 : 平均が 0、標準偏差が 1 で、正規分布に従う値を持つ3行4列の配列を作成してください （arr5）"
   ]
  },
  {
   "cell_type": "code",
   "execution_count": null,
   "id": "06cc2179",
   "metadata": {},
   "outputs": [],
   "source": [
    "arr5 = "
   ]
  },
  {
   "cell_type": "markdown",
   "id": "24f50ec5",
   "metadata": {},
   "source": [
    "<details>\n",
    "    <summary><font color='red'>解答はここをクリック</font></summary>\n",
    "    <code>arr5 = np.random.randn(3, 4)</code>\n",
    "</details>"
   ]
  },
  {
   "cell_type": "code",
   "execution_count": null,
   "id": "8c6e5137",
   "metadata": {},
   "outputs": [],
   "source": [
    "# 実行して表示\n",
    "arr5"
   ]
  },
  {
   "cell_type": "markdown",
   "id": "bf221ee6",
   "metadata": {},
   "source": [
    "Exercise_11 : arr5 の全要素での、最大値、最小値、平均を確認してください（max_arr5, min_arr5, mean_arr5）"
   ]
  },
  {
   "cell_type": "code",
   "execution_count": null,
   "id": "820580ff",
   "metadata": {},
   "outputs": [],
   "source": [
    "max_arr5 = \n",
    "min_arr5 = \n",
    "mean_arr5 = \n",
    "print(f'max : {max_arr5}, min : {min_arr5}, mean : {mean_arr5}')\n",
    "# 各行ではなく、全体の最大などを取得していることに注意"
   ]
  },
  {
   "cell_type": "markdown",
   "id": "6ebb184d",
   "metadata": {},
   "source": [
    "<details>\n",
    "    <summary><font color='red'>解答はここをクリック</font></summary>\n",
    "    <code>max_arr5 = arr5.max()</code><br>\n",
    "    <code>min_arr5 = arr5.min()</code><br>\n",
    "    <code>mean_arr5 = arr5.mean()</code>\n",
    "</details>"
   ]
  },
  {
   "cell_type": "markdown",
   "id": "a199d105",
   "metadata": {},
   "source": [
    "Exercise_12: 平均が 100、標準偏差が 10 で、正規分布に従う値を持つ3行4列の配列を作成してください （arr6）"
   ]
  },
  {
   "cell_type": "code",
   "execution_count": null,
   "id": "82bbe7a7",
   "metadata": {},
   "outputs": [],
   "source": [
    "arr6 = "
   ]
  },
  {
   "cell_type": "markdown",
   "id": "153bd31f",
   "metadata": {},
   "source": [
    "<details>\n",
    "    <summary><font color='red'>解答はここをクリック</font></summary>\n",
    "    <code>arr6 = np.random.normal(100, 10, (3, 4))</code>\n",
    "</details>"
   ]
  },
  {
   "cell_type": "code",
   "execution_count": null,
   "id": "ee3f64ca",
   "metadata": {},
   "outputs": [],
   "source": [
    "# 実行して表示\n",
    "arr6"
   ]
  },
  {
   "cell_type": "markdown",
   "id": "8abf28a2",
   "metadata": {},
   "source": [
    "Exercise_13 : 10 以上 30 未満の値を持つ連続一様分布の3行4列の配列を作成してください （arr7）。また要素全体の平均値が20付近にあることを平均値を求めることで確認してください。"
   ]
  },
  {
   "cell_type": "code",
   "execution_count": null,
   "id": "dc9bd913",
   "metadata": {},
   "outputs": [],
   "source": [
    "arr7 = "
   ]
  },
  {
   "cell_type": "markdown",
   "id": "88422fea",
   "metadata": {},
   "source": [
    "<details>\n",
    "    <summary><font color='red'>解答はここをクリック</font></summary>\n",
    "    <code>arr7 = np.random.uniform(10, 30, (3, 4))</code>\n",
    "</details>"
   ]
  },
  {
   "cell_type": "code",
   "execution_count": null,
   "id": "4aaf911d",
   "metadata": {},
   "outputs": [],
   "source": [
    "# 実行して表示\n",
    "arr7"
   ]
  },
  {
   "cell_type": "code",
   "execution_count": null,
   "id": "d221c0e0",
   "metadata": {},
   "outputs": [],
   "source": [
    "# 平均値を求める\n",
    "\n",
    "# 20前後の値ならばOK"
   ]
  },
  {
   "cell_type": "markdown",
   "id": "7e9aec6d",
   "metadata": {},
   "source": [
    "<details>\n",
    "    <summary><font color='red'>解答はここをクリック</font></summary>\n",
    "    <code>arr7.mean()</code>\n",
    "</details>"
   ]
  },
  {
   "cell_type": "markdown",
   "id": "e57b450a",
   "metadata": {},
   "source": [
    "Exercise_14 : arr7 の数値をすべて小数第4位で四捨五入した小数3桁の値に変換してください(arr7_3decimal)"
   ]
  },
  {
   "cell_type": "code",
   "execution_count": null,
   "id": "0c47f000",
   "metadata": {},
   "outputs": [],
   "source": [
    "arr7_3decimal = "
   ]
  },
  {
   "cell_type": "markdown",
   "id": "a874e4dc",
   "metadata": {},
   "source": [
    "<details>\n",
    "    <summary><font color='red'>解答はここをクリック</font></summary>\n",
    "    <code>arr1_3decimal = np.round(arr7, 3)</code>\n",
    "</details>"
   ]
  },
  {
   "cell_type": "code",
   "execution_count": null,
   "id": "3fcecd15",
   "metadata": {},
   "outputs": [],
   "source": [
    "# 実行して表示\n",
    "arr7_3decimal"
   ]
  },
  {
   "cell_type": "markdown",
   "id": "57f0424d",
   "metadata": {},
   "source": [
    "Exercise_15: リスト lis の文字をランダムに10個持つ1次元の配列を作成し（arr8）、データタイプを object に変更してください"
   ]
  },
  {
   "cell_type": "code",
   "execution_count": null,
   "id": "b336af72",
   "metadata": {},
   "outputs": [],
   "source": [
    "# リストを作成\n",
    "lis = list('GOOD!')   # ['G', 'O', 'O', 'D', '!']\n",
    "arr8 = "
   ]
  },
  {
   "cell_type": "markdown",
   "id": "468ec8cc",
   "metadata": {},
   "source": [
    "<details>\n",
    "    <summary><font color='red'>解答はここをクリック</font></summary>\n",
    "    <code>arr8 = np.random.choice(lis, 10)</code>\n",
    "</details>"
   ]
  },
  {
   "cell_type": "code",
   "execution_count": null,
   "id": "ab2ff6a4",
   "metadata": {},
   "outputs": [],
   "source": [
    "# 実行して表示\n",
    "arr8"
   ]
  },
  {
   "cell_type": "code",
   "execution_count": null,
   "id": "3921a5c2",
   "metadata": {},
   "outputs": [],
   "source": [
    "# データタイプを変更\n",
    "arr8 = "
   ]
  },
  {
   "cell_type": "markdown",
   "id": "4329d941",
   "metadata": {},
   "source": [
    "<details>\n",
    "    <summary><font color='red'>解答はここをクリック</font></summary>\n",
    "    <code>arr8 = arr8.astype(object)</code>\n",
    "</details>"
   ]
  },
  {
   "cell_type": "code",
   "execution_count": null,
   "id": "bd91e8dc",
   "metadata": {},
   "outputs": [],
   "source": [
    "# 実行して表示\n",
    "arr8"
   ]
  },
  {
   "cell_type": "markdown",
   "id": "15c2c0f0",
   "metadata": {},
   "source": [
    "Exercise_16 : 次のarr9のデータタイプが 'int32' であることを確認し、その後データタイプを 'float' に変更してください"
   ]
  },
  {
   "cell_type": "code",
   "execution_count": null,
   "id": "0a9fbb94",
   "metadata": {},
   "outputs": [],
   "source": [
    "# dtypeの確認\n",
    "arr9 = np.array([1, 3, 5, 7, 9]) \n"
   ]
  },
  {
   "cell_type": "markdown",
   "id": "e17fe8ae",
   "metadata": {},
   "source": [
    "<details>\n",
    "    <summary><font color='red'>解答はここをクリック</font></summary>\n",
    "    <code>arr9.dtype</code>\n",
    "</details>"
   ]
  },
  {
   "cell_type": "code",
   "execution_count": null,
   "id": "00b5b07b",
   "metadata": {},
   "outputs": [],
   "source": [
    "# floatに変更\n",
    "arr9 = "
   ]
  },
  {
   "cell_type": "markdown",
   "id": "df29d022",
   "metadata": {},
   "source": [
    "<details>\n",
    "    <summary><font color='red'>解答はここをクリック</font></summary>\n",
    "    <code>arr9.astype(float)</code><br>\n",
    "</details>"
   ]
  },
  {
   "cell_type": "code",
   "execution_count": null,
   "id": "113a3834",
   "metadata": {},
   "outputs": [],
   "source": [
    "# 実行して表示\n",
    "arr9"
   ]
  },
  {
   "cell_type": "markdown",
   "id": "32c7c877",
   "metadata": {},
   "source": [
    "Exercise_17 : 配列arr10の分散と標準偏差を「計算して」求めてください。また、メソッドを用いてその値が正しいことを確認してください。"
   ]
  },
  {
   "cell_type": "code",
   "execution_count": null,
   "id": "11e9d1c1",
   "metadata": {},
   "outputs": [],
   "source": [
    "# 実行して表示\n",
    "np.random.seed(17)\n",
    "arr10 = np.random.randint(0, 10, 5)\n",
    "arr10"
   ]
  },
  {
   "cell_type": "code",
   "execution_count": null,
   "id": "3308c63d",
   "metadata": {},
   "outputs": [],
   "source": [
    "# 実行して表示\n",
    "mean = arr10.mean()\n",
    "mean"
   ]
  },
  {
   "cell_type": "code",
   "execution_count": null,
   "id": "c6bcb70f",
   "metadata": {},
   "outputs": [],
   "source": [
    "total = 0\n",
    "for i in arr10:\n",
    "    total += \n",
    "total"
   ]
  },
  {
   "cell_type": "markdown",
   "id": "8a520924",
   "metadata": {},
   "source": [
    "<details>\n",
    "    <summary><font color='red'>解答はここをクリック</font></summary>\n",
    "    <code>total += (i - mean)**2</code><br>\n",
    "</details>"
   ]
  },
  {
   "cell_type": "code",
   "execution_count": null,
   "id": "a0fa05f1",
   "metadata": {},
   "outputs": [],
   "source": [
    "variance = \n",
    "# 実行して表示\n",
    "variance"
   ]
  },
  {
   "cell_type": "markdown",
   "id": "587b30df",
   "metadata": {},
   "source": [
    "<details>\n",
    "    <summary><font color='red'>解答はここをクリック</font></summary>\n",
    "    <code>variance = total / len(arr10)</code><br>\n",
    "</details>"
   ]
  },
  {
   "cell_type": "code",
   "execution_count": null,
   "id": "47fd43f8",
   "metadata": {},
   "outputs": [],
   "source": [
    "standard_deviation = \n",
    "# 実行して表示\n",
    "standard_deviation"
   ]
  },
  {
   "cell_type": "markdown",
   "id": "70112c0e",
   "metadata": {},
   "source": [
    "<details>\n",
    "    <summary><font color='red'>解答はここをクリック</font></summary>\n",
    "    <code>standard_deviation = np.sqrt(variance)</code><br>\n",
    "</details>"
   ]
  },
  {
   "cell_type": "code",
   "execution_count": null,
   "id": "91cad85e",
   "metadata": {},
   "outputs": [],
   "source": [
    "# メソッドを使って分散を求める\n"
   ]
  },
  {
   "cell_type": "markdown",
   "id": "17f8a7c7",
   "metadata": {},
   "source": [
    "<details>\n",
    "    <summary><font color='red'>解答はここをクリック</font></summary>\n",
    "    <code>arr10.var()</code><br>\n",
    "</details>"
   ]
  },
  {
   "cell_type": "code",
   "execution_count": null,
   "id": "8180431a",
   "metadata": {},
   "outputs": [],
   "source": [
    "# メソッドを使って標準偏差を求める\n"
   ]
  },
  {
   "cell_type": "markdown",
   "id": "6d925bab",
   "metadata": {},
   "source": [
    "<details>\n",
    "    <summary><font color='red'>解答はここをクリック</font></summary>\n",
    "    <code>arr10.std()</code><br>\n",
    "</details>"
   ]
  },
  {
   "cell_type": "markdown",
   "id": "d740947c",
   "metadata": {},
   "source": [
    "## 以上"
   ]
  }
 ],
 "metadata": {
  "kernelspec": {
   "display_name": "Python 3",
   "language": "python",
   "name": "python3"
  },
  "language_info": {
   "codemirror_mode": {
    "name": "ipython",
    "version": 3
   },
   "file_extension": ".py",
   "mimetype": "text/x-python",
   "name": "python",
   "nbconvert_exporter": "python",
   "pygments_lexer": "ipython3",
   "version": "3.7.10"
  }
 },
 "nbformat": 4,
 "nbformat_minor": 5
}
