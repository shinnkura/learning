{
 "cells": [
  {
   "cell_type": "markdown",
   "id": "23c6d4cc",
   "metadata": {},
   "source": [
    "<a id=0></a>\n",
    "# 8.Numeric Features\n",
    "※　数値型特徴量の取り扱い"
   ]
  },
  {
   "cell_type": "markdown",
   "id": "cfd115fa",
   "metadata": {},
   "source": [
    "---\n",
    "### [1. スケーリング](#1)\n",
    "### [2. 非線形変換](#2)\n",
    "### [3.離散化（ビニング）](#3)\n",
    "---"
   ]
  },
  {
   "cell_type": "code",
   "execution_count": null,
   "id": "5f4b23d4",
   "metadata": {
    "scrolled": false
   },
   "outputs": [],
   "source": [
    "import numpy as np\n",
    "import pandas as pd\n",
    "import matplotlib.pyplot as plt\n",
    "import seaborn as sns\n",
    "sns.set_theme(context='talk', style='darkgrid', font='MS GOTHIC')"
   ]
  },
  {
   "cell_type": "markdown",
   "id": "51da6ec9",
   "metadata": {},
   "source": [
    "---\n",
    "<a id=1></a>\n",
    "[Topへ](#0)\n",
    "\n",
    "---\n",
    "## 1. スケーリング"
   ]
  },
  {
   "cell_type": "markdown",
   "id": "1f939f3c",
   "metadata": {},
   "source": [
    "* スケーリングの目的\n",
    "* 代表的な4つのスケーラー\n",
    "* サンプルアレイの作成\n",
    "* StandardScaler\n",
    "* MinMaxScaler\n",
    "* MaxAbsScaler\n",
    "* RobustScaler\n",
    "---"
   ]
  },
  {
   "cell_type": "markdown",
   "id": "b16bcb9a",
   "metadata": {},
   "source": [
    "スケーリングの目的"
   ]
  },
  {
   "cell_type": "code",
   "execution_count": null,
   "id": "413a8328",
   "metadata": {},
   "outputs": [],
   "source": [
    "x = np.array([1, 1, 2])\n",
    "y = np.array([1, 4, 1])\n",
    "X = x * 1000"
   ]
  },
  {
   "cell_type": "code",
   "execution_count": null,
   "id": "a8c060ad",
   "metadata": {},
   "outputs": [],
   "source": [
    "fig, axes = plt.subplots(1, 2, figsize=(12, 5), tight_layout=True)\n",
    "sns.scatterplot(x=x, y=y, ax=axes[0], hue=['A', 'B', 'C'], palette='Set1')\n",
    "axes[0].set_xlim(0.9, 4.1)\n",
    "sns.scatterplot(x=X, y=y, ax=axes[1], hue=['A', 'B', 'C'], palette='Set1')\n",
    "plt.show()\n",
    "# AB、ACの距離（ユークリッド距離）が変わり、CよりもBが近くなっている\n",
    "# スケールの差があるため、y軸方向の距離の差の重要度が下がってしまう"
   ]
  },
  {
   "cell_type": "markdown",
   "id": "f0db0c49",
   "metadata": {},
   "source": [
    "代表的な4つのスケーラー"
   ]
  },
  {
   "cell_type": "code",
   "execution_count": null,
   "id": "8fbc14fd",
   "metadata": {
    "scrolled": false
   },
   "outputs": [],
   "source": [
    "from sklearn.preprocessing import StandardScaler\n",
    "from sklearn.preprocessing import MinMaxScaler\n",
    "from sklearn.preprocessing import MaxAbsScaler\n",
    "from sklearn.preprocessing import RobustScaler"
   ]
  },
  {
   "cell_type": "code",
   "execution_count": null,
   "id": "525ddc9e",
   "metadata": {},
   "outputs": [],
   "source": [
    "sts = StandardScaler()\n",
    "mms = MinMaxScaler()\n",
    "mas = MaxAbsScaler()\n",
    "ros = RobustScaler()"
   ]
  },
  {
   "cell_type": "markdown",
   "id": "221ac216",
   "metadata": {},
   "source": [
    "サンプルアレイの作成"
   ]
  },
  {
   "cell_type": "code",
   "execution_count": null,
   "id": "260da7dd",
   "metadata": {},
   "outputs": [],
   "source": [
    "# 1のみを持つ配列を作る\n",
    "np.ones((10, 3))"
   ]
  },
  {
   "cell_type": "code",
   "execution_count": null,
   "id": "e09c7efd",
   "metadata": {},
   "outputs": [],
   "source": [
    "np.random.seed(17)\n",
    "random_arr = np.random.randn(300, 1)\n",
    "random_arr.min(), random_arr.max()"
   ]
  },
  {
   "cell_type": "code",
   "execution_count": null,
   "id": "745629b7",
   "metadata": {},
   "outputs": [],
   "source": [
    "# 1にrandom_arrを掛け、同じ3つの値を持つ300行の配列を作成\n",
    "# さらに1,100,100を掛けてスケールを変更\n",
    "# さらに3列目には外れ値を持たせる\n",
    "X = np.ones((300, 3)) * random_arr * [1, 100, 100] + 111\n",
    "X[:5]"
   ]
  },
  {
   "cell_type": "code",
   "execution_count": null,
   "id": "9e6589a6",
   "metadata": {},
   "outputs": [],
   "source": [
    "np.random.seed(17)\n",
    "# indexをランダムに抽出\n",
    "random_index = np.random.randint(0, 300,10)\n",
    "for i in random_index:\n",
    "    X[i, 2] = X[i, 2] * 10   # 10倍することで外れ値を作る\n",
    "    \n",
    "X[random_index]"
   ]
  },
  {
   "cell_type": "code",
   "execution_count": null,
   "id": "4f0b0d02",
   "metadata": {},
   "outputs": [],
   "source": [
    "X[:, 2].min(), X[:, 2].max()\n",
    "# 2列目は-339+111～334+111。3列目に外れ値を作ることができた"
   ]
  },
  {
   "cell_type": "code",
   "execution_count": null,
   "id": "9fdabe33",
   "metadata": {},
   "outputs": [],
   "source": [
    "fig, axes = plt.subplots(1, 3, figsize=(12, 4), tight_layout=True)\n",
    "sns.histplot(x=X[:, 0], ax=axes[0], bins=12, kde=True)\n",
    "sns.histplot(x=X[:, 1], ax=axes[1], bins=12, kde=True)\n",
    "sns.histplot(x=X[:, 2], ax=axes[2], bins=66, kde=True)\n",
    "plt.show()"
   ]
  },
  {
   "cell_type": "markdown",
   "id": "983e31b1",
   "metadata": {},
   "source": [
    "StandardScaler"
   ]
  },
  {
   "cell_type": "markdown",
   "id": "f694fc7a",
   "metadata": {},
   "source": [
    "https://scikit-learn.org/stable/modules/generated/sklearn.preprocessing.StandardScaler.html  \n",
    "+ 標準化\n",
    "+ X = (x - 平均値) / 標準偏差\n",
    "+ 平均0、標準偏差1の分布になるようスケーリング"
   ]
  },
  {
   "cell_type": "code",
   "execution_count": null,
   "id": "c8686635",
   "metadata": {},
   "outputs": [],
   "source": [
    "X[:, 1].reshape(-1 ,1).shape"
   ]
  },
  {
   "cell_type": "code",
   "execution_count": null,
   "id": "bf3dde7f",
   "metadata": {},
   "outputs": [],
   "source": [
    "# sts.fit_transform(X[:, 1].reshape(-1 ,1))\n",
    "# 二次元配列を引数として指定する必要がある"
   ]
  },
  {
   "cell_type": "code",
   "execution_count": null,
   "id": "6cddb6fc",
   "metadata": {
    "scrolled": true
   },
   "outputs": [],
   "source": [
    "fig, axes = plt.subplots(1, 3, figsize=(12, 4), tight_layout=True)\n",
    "sns.histplot(x=X[:, 1], ax=axes[0], bins=12, kde=True)\n",
    "sns.histplot(x=sts.fit_transform(X[:, 1].reshape(-1, 1)).flatten(), ax=axes[1], bins=12, kde=True)\n",
    "sns.histplot(x=sts.fit_transform(X[:, 2].reshape(-1, 1)).flatten(), ax=axes[2], bins=66, kde=True)\n",
    "plt.show()\n",
    "# ほぼスケーリングの際にはこのスケーラーを選択する\n",
    "# 外れ値に対してもMinMaxスケーラーほどの影響も受けにくい"
   ]
  },
  {
   "cell_type": "markdown",
   "id": "34d6a86c",
   "metadata": {},
   "source": [
    "MinMaxScaler"
   ]
  },
  {
   "cell_type": "markdown",
   "id": "ed53299e",
   "metadata": {},
   "source": [
    "https://scikit-learn.org/stable/modules/generated/sklearn.preprocessing.MinMaxScaler.html\n",
    "\n",
    "* 正規化\n",
    "* X = (x - 最小値) / (最大値 - 最小値)\n",
    "* 最小0、最大1の分布になるようスケーリング"
   ]
  },
  {
   "cell_type": "code",
   "execution_count": null,
   "id": "9f5e68ab",
   "metadata": {},
   "outputs": [],
   "source": [
    "fig, axes = plt.subplots(1, 3, figsize=(12, 4), tight_layout=True)\n",
    "sns.histplot(x=X[:, 1], ax=axes[0], bins=12, kde=True)\n",
    "sns.histplot(x=mms.fit_transform(X[:, 1].reshape(-1, 1)).flatten(), ax=axes[1], bins=12, kde=True)\n",
    "sns.histplot(x=mms.fit_transform(X[:, 2].reshape(-1, 1)).flatten(), ax=axes[2], bins=66, kde=True)\n",
    "plt.show()\n",
    "# 上限、下限のはっきりしたデータに対して使う、とされている"
   ]
  },
  {
   "cell_type": "markdown",
   "id": "df6230ea",
   "metadata": {},
   "source": [
    "MaxAbsScaler"
   ]
  },
  {
   "cell_type": "markdown",
   "id": "c9188660",
   "metadata": {},
   "source": [
    "https://scikit-learn.org/stable/modules/generated/sklearn.preprocessing.MaxAbsScaler.html\n",
    "\n",
    "* X = x / 最大絶対値\n",
    "* X = x / maxabs\n",
    "* -1～1の分布になるようスケーリング（少なくとも-1もしくは1の値を持つ）"
   ]
  },
  {
   "cell_type": "code",
   "execution_count": null,
   "id": "309c8ac2",
   "metadata": {},
   "outputs": [],
   "source": [
    "fig, axes = plt.subplots(1, 3, figsize=(12, 4), tight_layout=True)\n",
    "sns.histplot(x=X[:, 1], ax=axes[0], bins=12, kde=True)\n",
    "sns.histplot(x=mas.fit_transform(X[:, 1].reshape(-1, 1)).flatten(), ax=axes[1], bins=12, kde=True)\n",
    "sns.histplot(x=mas.fit_transform(X[:, 2].reshape(-1, 1)).flatten(), ax=axes[2], bins=66, kde=True)\n",
    "plt.show()\n",
    "# 現状では（本コース内では）使う場面はありません"
   ]
  },
  {
   "cell_type": "markdown",
   "id": "29c4c736",
   "metadata": {},
   "source": [
    "RobustScaler"
   ]
  },
  {
   "cell_type": "markdown",
   "id": "d35c9c41",
   "metadata": {},
   "source": [
    "https://scikit-learn.org/stable/modules/generated/sklearn.preprocessing.RobustScaler.html  \n",
    "\n",
    "* X = (x - 中央値) / 四分位範囲\n",
    "* X = (x - med) / IQR\n",
    "* 中央値0、外れ値を除く大部分を対象にスケーリング"
   ]
  },
  {
   "cell_type": "code",
   "execution_count": null,
   "id": "348c1cca",
   "metadata": {},
   "outputs": [],
   "source": [
    "fig, axes = plt.subplots(1, 3, figsize=(12, 4), tight_layout=True)\n",
    "sns.histplot(x=X[:, 1], ax=axes[0], bins=12, kde=True)\n",
    "sns.histplot(x=ros.fit_transform(X[:, 1].reshape(-1, 1)).flatten(), ax=axes[1], bins=12, kde=True)\n",
    "sns.histplot(x=ros.fit_transform(X[:, 2].reshape(-1, 1)).flatten(), ax=axes[2], bins=66, kde=True)\n",
    "plt.show()\n",
    "# データの大部分の収まる範囲は-2～2と変化していない。つまりスケーリングに関して、外れ値の影響をほとんど受けていない。"
   ]
  },
  {
   "cell_type": "markdown",
   "id": "cff153af",
   "metadata": {},
   "source": [
    "---\n",
    "<a id=2></a>\n",
    "[Topへ](#0)\n",
    "\n",
    "---\n",
    "## 2. 非線形変換"
   ]
  },
  {
   "attachments": {},
   "cell_type": "markdown",
   "id": "75b9359b",
   "metadata": {},
   "source": [
    "* ボストン住宅価格データセット\n",
    "  - Belsley, Kuh & Welsch, 'Regression diagnostics: Identifying Influential Data and Sources of Collinearity', Wiley, 1980. 244-261.\n",
    "  - Quinlan, R. (1993). Combining Instance-Based and Model-Based Learning. In Proceedings on the Tenth International Conference of Machine Learning, 236-243, University of Massachusetts, Amherst. Morgan Kaufmann.\n",
    "* QuantileTransformer  \n",
    "    n_quantiles=1000, output_distribution='uniform'('normal')  \n",
    "    https://scikit-learn.org/stable/modules/generated/sklearn.preprocessing.QuantileTransformer.html  \n",
    "  PowerTransformer  \n",
    "    https://scikit-learn.org/stable/modules/generated/sklearn.preprocessing.PowerTransformer.html"
   ]
  },
  {
   "cell_type": "code",
   "execution_count": null,
   "id": "db415eed",
   "metadata": {},
   "outputs": [],
   "source": [
    "# Toy datasetsのひとつ\n",
    "# https://scikit-learn.org/stable/datasets/toy_dataset.html\n",
    "from sklearn.datasets import load_boston\n",
    "boston = load_boston()\n",
    "# data, target, filename, DESCR, feature_names\n",
    "\n",
    "# scikit-learnのバージョンにより上記のデータセットが使用できない場合があります\n",
    "# その場合は下のセル内のコメントアウトを外し実行して学習をお進めください\n",
    "\n",
    "# 使用不可の理由には特徴量のひとつが不適切であることが挙げられています\n",
    "# https://scikit-learn.org/1.1/modules/generated/sklearn.datasets.load_boston.html\n",
    "# ここでは特徴量の意味には触れず、プロット用のデータとして利用するのみです\n",
    "# 学習用としてはこれまで通り使用可能となっておりますのでご安心ください"
   ]
  },
  {
   "cell_type": "code",
   "execution_count": null,
   "id": "078a4fb7",
   "metadata": {},
   "outputs": [],
   "source": [
    "# 上記のload_bostonが使用できない場合は以下を実行し、学習をお進めください\n",
    "\n",
    "# data_url = \"http://lib.stat.cmu.edu/datasets/boston\"\n",
    "# raw_df = pd.read_csv(data_url, sep=\"\\s+\", skiprows=22, header=None)\n",
    "# data = np.hstack([raw_df.values[::2, :], raw_df.values[1::2, :2]])\n",
    "# feature_names = ['CRIM', 'ZN', 'INDUS', 'CHAS', 'NOX', 'RM', 'AGE', 'DIS', 'RAD', 'TAX', 'PTRATIO', 'B', 'LSTAT']\n",
    "# df = pd.DataFrame(data, columns=feature_names)"
   ]
  },
  {
   "cell_type": "code",
   "execution_count": null,
   "id": "b6c1b772",
   "metadata": {},
   "outputs": [],
   "source": [
    "print(boston.DESCR)"
   ]
  },
  {
   "cell_type": "code",
   "execution_count": null,
   "id": "fd33d724",
   "metadata": {},
   "outputs": [],
   "source": [
    "boston.target"
   ]
  },
  {
   "cell_type": "code",
   "execution_count": null,
   "id": "ca28aaad",
   "metadata": {},
   "outputs": [],
   "source": [
    "df = pd.DataFrame(boston['data'], columns=boston['feature_names'])\n",
    "df.head()"
   ]
  },
  {
   "cell_type": "markdown",
   "id": "8a0309a1",
   "metadata": {},
   "source": [
    "QuantileTransformer / PowerTransformer"
   ]
  },
  {
   "cell_type": "code",
   "execution_count": null,
   "id": "8fb0302a",
   "metadata": {},
   "outputs": [],
   "source": [
    "# 分位数\n",
    "np.quantile(df['RM'], [0, 0.25, 0.5, 0.95, 1])"
   ]
  },
  {
   "cell_type": "code",
   "execution_count": null,
   "id": "a9a0750a",
   "metadata": {},
   "outputs": [],
   "source": [
    "# パーセント\n",
    "np.percentile(df['RM'], [0, 25, 50, 95, 100])"
   ]
  },
  {
   "cell_type": "code",
   "execution_count": null,
   "id": "ded0b875",
   "metadata": {},
   "outputs": [],
   "source": [
    "from sklearn.preprocessing import QuantileTransformer\n",
    "from sklearn.preprocessing import PowerTransformer\n",
    "\n",
    "qut_n = QuantileTransformer(output_distribution='normal', n_quantiles=506)\n",
    "qut_u = QuantileTransformer(output_distribution='uniform', n_quantiles=506)\n",
    "pot = PowerTransformer()\n",
    "# n_quantiles=1000がデフォルト。それより小さい場合はn_quantilewを指定"
   ]
  },
  {
   "cell_type": "code",
   "execution_count": null,
   "id": "3d9376bc",
   "metadata": {},
   "outputs": [],
   "source": [
    "def plots_transformed(feature):\n",
    "    # 変換したアレイ\n",
    "    qut_n_arr = qut_n.fit_transform(df[[feature]]).flatten()\n",
    "    qut_u_arr = qut_u.fit_transform(df[[feature]]).flatten()\n",
    "    pot_arr = pot.fit_transform(df[[feature]]).flatten()\n",
    "    # プロット\n",
    "    fig, axes = plt.subplots(1, 4, figsize=(18, 5), tight_layout=True)\n",
    "    sns.histplot(x=df[feature], kde=True, bins=12, ax=axes[0], shrink=0.9)\n",
    "    axes[0].set_title(feature)\n",
    "    axes[0].set_xlabel('')\n",
    "    \n",
    "    sns.histplot(x=qut_n_arr, kde=True, bins=12, ax=axes[1], shrink=0.9)\n",
    "    axes[1].set_title('Quantile_normal')\n",
    "    \n",
    "    sns.histplot(x=qut_u_arr, kde=True, bins=12, ax=axes[2], shrink=0.9)\n",
    "    axes[2].set_title('Quantile_uniform')\n",
    "    \n",
    "    sns.histplot(x=pot_arr, kde=True, bins=12, ax=axes[3], shrink=0.9)\n",
    "    axes[3].set_title('Power')\n",
    "    \n",
    "    plt.show()"
   ]
  },
  {
   "cell_type": "code",
   "execution_count": null,
   "id": "d40d7d3c",
   "metadata": {},
   "outputs": [],
   "source": [
    "for feature in df.columns:\n",
    "    plots_transformed(feature)\n",
    "    \n",
    "# パラメトリック、ノンパラメトリック\n",
    "# 変換が可能な分布とそうでない分布がある"
   ]
  },
  {
   "cell_type": "markdown",
   "id": "3a790073",
   "metadata": {},
   "source": [
    "---\n",
    "<a id=3></a>\n",
    "[Topへ](#0)\n",
    "\n",
    "---\n",
    "## 3. ビニング、離散化"
   ]
  },
  {
   "cell_type": "markdown",
   "id": "32c72d9c",
   "metadata": {},
   "source": [
    "* KBinsDiscretizer  \n",
    "https://scikit-learn.org/stable/modules/generated/sklearn.preprocessing.KBinsDiscretizer.html\n",
    "* pd.cut()"
   ]
  },
  {
   "cell_type": "markdown",
   "id": "13f79dcc",
   "metadata": {
    "scrolled": true
   },
   "source": [
    "KBinsDiscretizer  \n",
    "Keyword Arguments : n_bins=5, strategy='quantile'('uniform', 'kmeans'),  encode='onehot'('onehot-dense', 'ordinal')"
   ]
  },
  {
   "cell_type": "code",
   "execution_count": null,
   "id": "449da3cf",
   "metadata": {},
   "outputs": [],
   "source": [
    "x = df[['RM']].values\n",
    "x.max(), x.min()"
   ]
  },
  {
   "cell_type": "code",
   "execution_count": null,
   "id": "af959516",
   "metadata": {},
   "outputs": [],
   "source": [
    "from sklearn.preprocessing import KBinsDiscretizer\n",
    "\n",
    "discretizer_q = KBinsDiscretizer(n_bins=5, strategy='quantile', encode='ordinal')\n",
    "discretizer_u = KBinsDiscretizer(n_bins=5, strategy='uniform', encode='ordinal')\n",
    "# ordinalは0, 1, 2, ...のラベルを付ける"
   ]
  },
  {
   "cell_type": "code",
   "execution_count": null,
   "id": "2e1a6147",
   "metadata": {},
   "outputs": [],
   "source": [
    "discretizer_q.fit(x)\n",
    "discretizer_u.fit(x)"
   ]
  },
  {
   "cell_type": "code",
   "execution_count": null,
   "id": "e3fb40e5",
   "metadata": {},
   "outputs": [],
   "source": [
    "discretizer_q.transform(x)[:5]"
   ]
  },
  {
   "cell_type": "code",
   "execution_count": null,
   "id": "1ec2b3c7",
   "metadata": {},
   "outputs": [],
   "source": [
    "np.quantile(x, [0, 0.2, 0.4, 0.6, 0.8, 1])"
   ]
  },
  {
   "cell_type": "code",
   "execution_count": null,
   "id": "efe9e5ce",
   "metadata": {},
   "outputs": [],
   "source": [
    "# データの個数で分ける\n",
    "discretizer_q.transform([[3.6], [5.9], [6.1], [6.4], [6.8]])"
   ]
  },
  {
   "cell_type": "code",
   "execution_count": null,
   "id": "d712568d",
   "metadata": {},
   "outputs": [],
   "source": [
    "# defaultはonehot\n",
    "discretizer_o = KBinsDiscretizer(n_bins=5, strategy='quantile', encode='onehot')"
   ]
  },
  {
   "cell_type": "code",
   "execution_count": null,
   "id": "ede083c1",
   "metadata": {},
   "outputs": [],
   "source": [
    "discretizer_o.fit_transform(x).toarray()"
   ]
  },
  {
   "cell_type": "code",
   "execution_count": null,
   "id": "a78688c0",
   "metadata": {},
   "outputs": [],
   "source": [
    "# データの数値を同じ幅で分割し、クラス分けをする\n",
    "discretizer_u.transform([[3.6], [4.7], [5.7], [6.7], [7.8]])"
   ]
  },
  {
   "cell_type": "markdown",
   "id": "f3b6682b",
   "metadata": {},
   "source": [
    "pd.cut()"
   ]
  },
  {
   "cell_type": "code",
   "execution_count": null,
   "id": "3fd4ec38",
   "metadata": {},
   "outputs": [],
   "source": [
    "# 自身でラベル名を指定できる\n",
    "classes = pd.cut(x.flatten(), bins=[3.561, 5.837, 6.086, 6.376, 6.75 , 8.78], labels=['very low', 'low', 'medium', 'high', 'very high'])\n",
    "classes\n",
    "# rightを含み、leftを含まない"
   ]
  },
  {
   "cell_type": "code",
   "execution_count": null,
   "id": "53b60ecf",
   "metadata": {},
   "outputs": [],
   "source": [
    "# Categorical\n",
    "type(classes)"
   ]
  },
  {
   "cell_type": "code",
   "execution_count": null,
   "id": "3baa45ca",
   "metadata": {},
   "outputs": [],
   "source": [
    "classes.unique()\n",
    "# NaNは最小値3.561のこと。binsの中で3.561は含まれないため、3.560などにする必要があることに注意"
   ]
  },
  {
   "cell_type": "markdown",
   "id": "f0d952ab",
   "metadata": {},
   "source": [
    "---\n",
    " <a id=4></a>\n",
    "[Topへ](#0)\n",
    "\n",
    "---\n",
    "## 以上\n",
    "    \n",
    "---"
   ]
  }
 ],
 "metadata": {
  "kernelspec": {
   "display_name": "Python 3",
   "language": "python",
   "name": "python3"
  },
  "language_info": {
   "codemirror_mode": {
    "name": "ipython",
    "version": 3
   },
   "file_extension": ".py",
   "mimetype": "text/x-python",
   "name": "python",
   "nbconvert_exporter": "python",
   "pygments_lexer": "ipython3",
   "version": "3.7.10"
  }
 },
 "nbformat": 4,
 "nbformat_minor": 5
}
