{
 "cells": [
  {
   "cell_type": "markdown",
   "id": "40d9c665",
   "metadata": {},
   "source": [
    "---\n",
    "# 5.Distribution & Relational Plot Exercise\n",
    "---"
   ]
  },
  {
   "cell_type": "code",
   "execution_count": null,
   "id": "2fe04f33",
   "metadata": {
    "scrolled": false
   },
   "outputs": [],
   "source": [
    "import numpy as np\n",
    "import pandas as pd\n",
    "import matplotlib.pyplot as plt\n",
    "import seaborn as sns"
   ]
  },
  {
   "cell_type": "code",
   "execution_count": null,
   "id": "df81865f",
   "metadata": {
    "scrolled": false
   },
   "outputs": [],
   "source": [
    "# 実行\n",
    "df = sns.load_dataset('tips')\n",
    "df.head()"
   ]
  },
  {
   "cell_type": "markdown",
   "id": "44398992",
   "metadata": {},
   "source": [
    "total_bill:請求額  \n",
    "tip       :支払われたチップ  \n",
    "sex       :性別  \n",
    "smoker    :喫煙者  \n",
    "day       :曜日  \n",
    "time      :Lunch or Dinner  \n",
    "size      : 人数  "
   ]
  },
  {
   "cell_type": "code",
   "execution_count": null,
   "id": "0e5838d7",
   "metadata": {
    "scrolled": false
   },
   "outputs": [],
   "source": [
    "# 実行\n",
    "df.info()"
   ]
  },
  {
   "cell_type": "markdown",
   "id": "e11af675",
   "metadata": {},
   "source": [
    "Exercise_1 : Searbornのテーマを設定してください。(文字の大きさ'talk'、スタイル'darkgrid'、フォント'MS GOTHIC')"
   ]
  },
  {
   "cell_type": "code",
   "execution_count": null,
   "id": "cf920674",
   "metadata": {
    "scrolled": false
   },
   "outputs": [],
   "source": []
  },
  {
   "cell_type": "markdown",
   "id": "6f4287cf",
   "metadata": {},
   "source": [
    "<details>\n",
    "    <summary><font color='red'>解答はここをクリック</font></summary>\n",
    "    <code>sns.set_theme(context='talk', style='darkgrid', font='MS GOTHIC')</code>\n",
    "</details>"
   ]
  },
  {
   "cell_type": "markdown",
   "id": "1b3464c5",
   "metadata": {},
   "source": [
    "Exercise_2 : 'total_bill'の分布をヒストプロットで表示してください。その際、階級の数を20としてください。"
   ]
  },
  {
   "cell_type": "code",
   "execution_count": null,
   "id": "57af4b0b",
   "metadata": {
    "scrolled": false
   },
   "outputs": [],
   "source": [
    "\n",
    "plt.show()"
   ]
  },
  {
   "cell_type": "markdown",
   "id": "8f9f2b50",
   "metadata": {},
   "source": [
    "<details>\n",
    "    <summary><font color='red'>解答はここをクリック</font></summary>\n",
    "    <code>sns.histplot(data=df, x='total_bill', bins=20)</code>\n",
    "</details>"
   ]
  },
  {
   "cell_type": "markdown",
   "id": "2aed77d3",
   "metadata": {},
   "source": [
    "Exercise_3 : 同様のヒストプロットを、figsizeを(10, 5)、'time'で色分けし、バーが重ならないように独立させて表示してください"
   ]
  },
  {
   "cell_type": "code",
   "execution_count": null,
   "id": "a8396751",
   "metadata": {
    "scrolled": false
   },
   "outputs": [],
   "source": [
    "\n",
    "plt.show()"
   ]
  },
  {
   "cell_type": "markdown",
   "id": "230369d4",
   "metadata": {},
   "source": [
    "<details>\n",
    "    <summary><font color='red'>解答はここをクリック</font></summary>\n",
    "    <code>plt.figure(figsize=(10, 5))</code><br>\n",
    "    <code>sns.histplot(data=df, x='total_bill', bins=20, hue='time', multiple='dodge')</code>\n",
    "</details>"
   ]
  },
  {
   "cell_type": "markdown",
   "id": "15bac0af",
   "metadata": {},
   "source": [
    "Exercise_4 : 上記をさらに変化させます。ビンの幅を0.8倍に縮め、カーネル密度推定も表示してください。また、縦軸を確率分布にしてください。"
   ]
  },
  {
   "cell_type": "code",
   "execution_count": null,
   "id": "52efc44e",
   "metadata": {
    "scrolled": false
   },
   "outputs": [],
   "source": [
    "plt.figure(figsize=(10, 5))\n",
    "\n",
    "\n",
    "plt.show()"
   ]
  },
  {
   "cell_type": "markdown",
   "id": "a2289a2b",
   "metadata": {},
   "source": [
    "<details>\n",
    "    <summary><font color='red'>解答はここをクリック</font></summary>\n",
    "    <code>plt.figure(figsize=(10, 5))</code><br>\n",
    "    <code>sns.histplot(data=df, x='total_bill', bins=20, hue='time', multiple='dodge', shrink=0.8, stat='probability')</code>\n",
    "</details>"
   ]
  },
  {
   "cell_type": "markdown",
   "id": "7a1897c1",
   "metadata": {},
   "source": [
    "Exercise_5 : 上記をさらに変化させます。kdeを外し、multipleでfillを指定してください。"
   ]
  },
  {
   "cell_type": "code",
   "execution_count": null,
   "id": "ce70d6fc",
   "metadata": {
    "scrolled": false
   },
   "outputs": [],
   "source": [
    "plt.figure(figsize=(10, 5))\n",
    "\n",
    "plt.show()"
   ]
  },
  {
   "cell_type": "markdown",
   "id": "146351df",
   "metadata": {},
   "source": [
    "<details>\n",
    "    <summary><font color='red'>解答はここをクリック</font></summary>\n",
    "    <code>plt.figure(figsize=(10, 5))</code><br>\n",
    "    <code>sns.histplot(data=df, x='total_bill', bins=20, hue='time', multiple='fill', shrink=0.8, stat='probability')</code>\n",
    "</details>"
   ]
  },
  {
   "cell_type": "markdown",
   "id": "7cc4ac51",
   "metadata": {},
   "source": [
    "Exercise_6 : LunchとDinnerを別々のDataFrameとして、それらのヒストプロットをひとつのaxes上に重ねて比較を行います。df_lunchにはcolor='orange' を設定してください。ヒント　直前のExerciseので使用した hue='time', multiple='dodge', shrink=0.8 は不要となります。"
   ]
  },
  {
   "cell_type": "code",
   "execution_count": null,
   "id": "cd68013d",
   "metadata": {
    "scrolled": false
   },
   "outputs": [],
   "source": [
    "# 実行\n",
    "df_lunch = df[df['time'] == 'Lunch']\n",
    "df_dinner = df[df['time'] == 'Dinner']"
   ]
  },
  {
   "cell_type": "code",
   "execution_count": null,
   "id": "4b0c365f",
   "metadata": {
    "scrolled": false
   },
   "outputs": [],
   "source": [
    "plt.figure(figsize=(10, 5))\n",
    "\n",
    "plt.show()"
   ]
  },
  {
   "cell_type": "markdown",
   "id": "75f671d7",
   "metadata": {},
   "source": [
    "<details>\n",
    "    <summary><font color='red'>解答はここをクリック</font></summary>\n",
    "    <code>sns.histplot(data=df_lunch, x='total_bill', bins=20, color='orange')</code><br>\n",
    "    <code>sns.histplot(data=df_dinner, x='total_bill', bins=20)</code>\n",
    "</details>"
   ]
  },
  {
   "cell_type": "markdown",
   "id": "4b17cd07",
   "metadata": {},
   "source": [
    "Exercise_7 : 'total_bill'と'tip'の関係をジョイントプロットで表示してください。その際に'time'で色分けを行い、figureのサイズ、プロットの透明度を好みで調整してください。"
   ]
  },
  {
   "cell_type": "code",
   "execution_count": null,
   "id": "aa9d4680",
   "metadata": {
    "scrolled": false
   },
   "outputs": [],
   "source": [
    "\n",
    "plt.show()"
   ]
  },
  {
   "cell_type": "markdown",
   "id": "5f6997d7",
   "metadata": {},
   "source": [
    "<details>\n",
    "    <summary><font color='red'>解答はここをクリック</font></summary>\n",
    "    <code>sns.jointplot(data=df, x='total_bill', y='tip', hue='time', height=7, alpha=0.5)</code>\n",
    "</details>"
   ]
  },
  {
   "cell_type": "markdown",
   "id": "a0f7b2de",
   "metadata": {},
   "source": [
    "Exercise_8 :  'total_bill'と'tip'の関係を人数で色分けし('Blues')、スキャッタープロットで表示してください。"
   ]
  },
  {
   "cell_type": "code",
   "execution_count": null,
   "id": "8ade1246",
   "metadata": {
    "scrolled": false
   },
   "outputs": [],
   "source": [
    "plt.figure(figsize=(10, 6))\n",
    "\n",
    "plt.show()"
   ]
  },
  {
   "cell_type": "markdown",
   "id": "ee97c6cc",
   "metadata": {},
   "source": [
    "<details>\n",
    "    <summary><font color='red'>解答はここをクリック</font></summary>\n",
    "    <code>sns.scatterplot(data=df, x='total_bill', y='tip', hue='size', palette='Blues')</code>\n",
    "</details>"
   ]
  },
  {
   "cell_type": "markdown",
   "id": "3d5fa0e1",
   "metadata": {},
   "source": [
    "Exercise_9 :  上記を変化させます。hueを'time'にし、プロットのサイズを'size'に指定してください。またそのサイズを最小10、最大300の大きさでの表示にしてください。また'Lunch'のマーカーを■、'Dinner'のマーカーを●にしてください。さらにレジェンドをAxesの外に配置してください。"
   ]
  },
  {
   "cell_type": "code",
   "execution_count": null,
   "id": "ed095213",
   "metadata": {
    "scrolled": false
   },
   "outputs": [],
   "source": [
    "plt.figure(figsize=(10, 6))\n",
    "\n",
    "plt.show()"
   ]
  },
  {
   "cell_type": "markdown",
   "id": "9f7c8786",
   "metadata": {},
   "source": [
    "<details>\n",
    "    <summary><font color='red'>解答はここをクリック</font></summary>\n",
    "    <code>sns.scatterplot(data=df, x='total_bill', y='tip', hue='time', palette='Blues', size='size', sizes=(10, 300), style='time', markers=['s', 'o'])</code><br>\n",
    "    <code>plt.legend(bbox_to_anchor=(1,1))</code>\n",
    "</details>"
   ]
  },
  {
   "cell_type": "markdown",
   "id": "24035e8d",
   "metadata": {},
   "source": [
    "Exercise_10 :  'total_bill'と'tip'の関係を'smoker'で色分けし（'viridis'）、行では'time'、列では'sex'でクラス分けした2行2列のRELプロットを作成してください。"
   ]
  },
  {
   "cell_type": "code",
   "execution_count": null,
   "id": "f3315ac1",
   "metadata": {
    "scrolled": false
   },
   "outputs": [],
   "source": [
    "\n",
    "plt.show()"
   ]
  },
  {
   "cell_type": "markdown",
   "id": "102366d7",
   "metadata": {},
   "source": [
    "<details>\n",
    "    <summary><font color='red'>解答はここをクリック</font></summary>\n",
    "    <code>sns.relplot(data=df, x='total_bill', y='tip', col='sex', row='time', hue='smoker', palette='viridis')</code>\n",
    "</details>"
   ]
  },
  {
   "cell_type": "markdown",
   "id": "e6c94281",
   "metadata": {},
   "source": [
    "Exercise_11 : REGプロットでは引数 hue が使用できません。そこでdf_luncn、df_dinnerのREGプロットをひとつのfigureに重ねて表示します。x軸を'total_bill'、y軸を'tip'、また、「点」の透明度を0.5にし、レジェンドも表示してください。　ヒント　scatter_kws、プロットの中でlabel='Lunch'などを指定"
   ]
  },
  {
   "cell_type": "code",
   "execution_count": null,
   "id": "98b5ce63",
   "metadata": {
    "scrolled": false
   },
   "outputs": [],
   "source": [
    "plt.figure(figsize=(8, 8))\n",
    "\n",
    "plt.xlim((0, 60))   # 参考まで\n",
    "plt.show()"
   ]
  },
  {
   "cell_type": "markdown",
   "id": "f42b52e8",
   "metadata": {},
   "source": [
    "<details>\n",
    "    <summary><font color='red'>解答はここをクリック</font></summary>\n",
    "    <code>sns.regplot(data=df_lunch, x='total_bill', y='tip', scatter_kws={'alpha':0.5}, label='Lunch')</code><br>\n",
    "    <code>sns.regplot(data=df_dinner, x='total_bill', y='tip', scatter_kws={'alpha':0.5}, label='Dinner')</code><br>\n",
    "    <code>plt.legendt(title='time')<code>\n",
    "</details>"
   ]
  },
  {
   "cell_type": "markdown",
   "id": "cd3d1041",
   "metadata": {},
   "source": [
    "Exercise_12: LMプロットでは行と列でクラス分けをしたグラフを表現できます。'total_bill'と'tip'の関係を、行においては'sex'で、列においては'time'でクラス分けを行ってください。また'smoker'での色分けも行ってください。"
   ]
  },
  {
   "cell_type": "code",
   "execution_count": null,
   "id": "2b185b02",
   "metadata": {
    "scrolled": false
   },
   "outputs": [],
   "source": [
    "\n",
    "plt.show()"
   ]
  },
  {
   "cell_type": "markdown",
   "id": "2c3b2bd0",
   "metadata": {},
   "source": [
    "<details>\n",
    "    <summary><font color='red'>解答はここをクリック</font></summary>\n",
    "    <code>sns.lmplot(data=df, x='total_bill', y='tip', col='time', row='sex', hue='smoker')</code>\n",
    "</details>"
   ]
  },
  {
   "cell_type": "markdown",
   "id": "03064872",
   "metadata": {},
   "source": [
    "Exercise_13: 上記のプロットの点を全て非表示にし、また回帰直線の両端を軸の幅まで伸ばしてください。"
   ]
  },
  {
   "cell_type": "code",
   "execution_count": null,
   "id": "238bb545",
   "metadata": {
    "scrolled": false
   },
   "outputs": [],
   "source": [
    "\n",
    "plt.show()"
   ]
  },
  {
   "cell_type": "markdown",
   "id": "7c8cdb49",
   "metadata": {},
   "source": [
    "<details>\n",
    "    <summary><font color='red'>解答はここをクリック</font></summary>\n",
    "    <code>sns.lmplot(data=df, x='total_bill', y='tip', col='time', row='sex', hue='smoker', scatter=False, truncate=False)</code>\n",
    "</details>"
   ]
  },
  {
   "cell_type": "markdown",
   "id": "03d4a3d6",
   "metadata": {},
   "source": [
    "Exercise_14 : 'time'で色分けをし、df全体をペアプロットで表示してください。その際に、対角線上のプロットを積み上げ型('stack')のヒストグラムとし、height=4も指定してください。palette='Set1'"
   ]
  },
  {
   "cell_type": "code",
   "execution_count": null,
   "id": "4e352980",
   "metadata": {
    "scrolled": false
   },
   "outputs": [],
   "source": [
    "\n",
    "plt.show()"
   ]
  },
  {
   "cell_type": "markdown",
   "id": "ddc5bdce",
   "metadata": {},
   "source": [
    "<details>\n",
    "    <summary><font color='red'>解答はここをクリック</font></summary>\n",
    "    <code>sns.pairplot(df, hue=\"time\", palette=\"Set1\", diag_kind=\"hist\", height=4, diag_kws={'multiple':'stack'})</code>\n",
    "</details>"
   ]
  },
  {
   "cell_type": "markdown",
   "id": "cadeedf5",
   "metadata": {},
   "source": [
    "---"
   ]
  },
  {
   "cell_type": "code",
   "execution_count": null,
   "id": "3ee14538",
   "metadata": {
    "scrolled": true
   },
   "outputs": [],
   "source": [
    "# 新しいデータフレームの読み込み\n",
    "# 実行して表示\n",
    "df = sns.load_dataset('seaice')\n",
    "df.head()"
   ]
  },
  {
   "cell_type": "markdown",
   "id": "365c8162",
   "metadata": {},
   "source": [
    "Extent : 海氷の表面積（10の6乗平方キロメートル）"
   ]
  },
  {
   "cell_type": "code",
   "execution_count": null,
   "id": "d8994832",
   "metadata": {
    "scrolled": false
   },
   "outputs": [],
   "source": [
    "# 実行して表示\n",
    "df.shape"
   ]
  },
  {
   "cell_type": "markdown",
   "id": "7d6cb891",
   "metadata": {},
   "source": [
    "Exercise_15 : レコード数が13175と多いため、年度でグループ化します。まずは'Date'をDatetime型にして下さい"
   ]
  },
  {
   "cell_type": "code",
   "execution_count": null,
   "id": "c174a81d",
   "metadata": {},
   "outputs": [],
   "source": [
    "df['Date'] = "
   ]
  },
  {
   "cell_type": "markdown",
   "id": "ce464873",
   "metadata": {},
   "source": [
    "<details>\n",
    "    <summary><font color='red'>解答はここをクリック</font></summary>\n",
    "    <code>df['Date'] = pd.to_datetime(df['Date'])</code>\n",
    "</details>"
   ]
  },
  {
   "cell_type": "code",
   "execution_count": null,
   "id": "b845392e",
   "metadata": {},
   "outputs": [],
   "source": [
    "# 実行して表示\n",
    "df.dtypes"
   ]
  },
  {
   "cell_type": "markdown",
   "id": "7a1ddee8",
   "metadata": {},
   "source": [
    "Exercise_16 : 'Date'をインデックスにして、その後、年でリサンプリング、年度ごとの平均値を取得してください。(df_new)"
   ]
  },
  {
   "cell_type": "code",
   "execution_count": null,
   "id": "1a2f42a0",
   "metadata": {},
   "outputs": [],
   "source": []
  },
  {
   "cell_type": "markdown",
   "id": "8ad8fb4c",
   "metadata": {},
   "source": [
    "<details>\n",
    "    <summary><font color='red'>解答はここをクリック</font></summary>\n",
    "    <code>df.set_index('Date', inplace=True)</code>\n",
    "</details>"
   ]
  },
  {
   "cell_type": "code",
   "execution_count": null,
   "id": "6f658d4d",
   "metadata": {},
   "outputs": [],
   "source": [
    "# 実行して表示\n",
    "df.index"
   ]
  },
  {
   "cell_type": "code",
   "execution_count": null,
   "id": "51b3a62e",
   "metadata": {},
   "outputs": [],
   "source": [
    "# 実行して表示\n",
    "df.head(3)"
   ]
  },
  {
   "cell_type": "code",
   "execution_count": null,
   "id": "8b396963",
   "metadata": {},
   "outputs": [],
   "source": [
    "df_new = \n",
    "# DataFrame型にしてください"
   ]
  },
  {
   "cell_type": "markdown",
   "id": "9d743bdd",
   "metadata": {},
   "source": [
    "<details>\n",
    "    <summary><font color='red'>解答はここをクリック</font></summary>\n",
    "    <code>df_new = df.resample('Y')[['Extent']].mean()</code>\n",
    "</details>"
   ]
  },
  {
   "cell_type": "code",
   "execution_count": null,
   "id": "7f3be7a0",
   "metadata": {},
   "outputs": [],
   "source": [
    "# 実行して表示\n",
    "df_new.head(3)"
   ]
  },
  {
   "cell_type": "markdown",
   "id": "0b72bbc2",
   "metadata": {},
   "source": [
    "Exercise_17 : 横軸に年度(index)、縦軸に'Extent'として折れ線グラフでその推移を表してください。"
   ]
  },
  {
   "cell_type": "code",
   "execution_count": null,
   "id": "b4f2a13a",
   "metadata": {
    "scrolled": false
   },
   "outputs": [],
   "source": [
    "plt.figure(figsize=(12,6))\n",
    "\n",
    "\n",
    "\n",
    "plt.show()"
   ]
  },
  {
   "cell_type": "markdown",
   "id": "1ef53640",
   "metadata": {},
   "source": [
    "<details>\n",
    "    <summary><font color='red'>解答はここをクリック</font></summary>\n",
    "    <code>sns.lineplot(data=df_new, x=df_new.index, y='Extent')</code><br>\n",
    "</details>"
   ]
  },
  {
   "cell_type": "markdown",
   "id": "b4253604",
   "metadata": {},
   "source": [
    "Exercise_18 : 上記でマーカーを✖にし、その色を赤にして下さい。またXラベルを'Year'にしてください"
   ]
  },
  {
   "cell_type": "code",
   "execution_count": null,
   "id": "028fb52a",
   "metadata": {
    "scrolled": false
   },
   "outputs": [],
   "source": [
    "plt.figure(figsize=(12,6))\n",
    "\n",
    "\n",
    "plt.show()"
   ]
  },
  {
   "cell_type": "markdown",
   "id": "2dd16eef",
   "metadata": {},
   "source": [
    "<details>\n",
    "    <summary><font color='red'>解答はここをクリック</font></summary>\n",
    "    <code>sns.lineplot(data=df_new, x=df_new.index, y='Extent', marker='X', markerfacecolor='red')</code><br>\n",
    "    <code>plt.xlabel('Year')</code>\n",
    "</details>"
   ]
  },
  {
   "cell_type": "code",
   "execution_count": null,
   "id": "2d57faaa",
   "metadata": {},
   "outputs": [],
   "source": [
    "# 実行して表示\n",
    "# ランダムな値を掛けて新規のDataFrameを作成\n",
    "df_random = df_new * np.random.rand(len(df_new)).reshape(-1, 1)\n",
    "df_random.head(3)"
   ]
  },
  {
   "cell_type": "markdown",
   "id": "0b37445b",
   "metadata": {},
   "source": [
    "Exercise_19 : オブジェクト指向型の書き方で、1行2列のAxesを作成し、上記でと同じ形式で、df_new、df_randomの二つの'Extent'をラインプロットで表示してください。figsize=(14,6)"
   ]
  },
  {
   "cell_type": "code",
   "execution_count": null,
   "id": "af3f357d",
   "metadata": {
    "scrolled": false
   },
   "outputs": [],
   "source": [
    "fig, axes = \n",
    "\n",
    "plt.show()"
   ]
  },
  {
   "cell_type": "markdown",
   "id": "0c1ec7ad",
   "metadata": {},
   "source": [
    "<details>\n",
    "    <summary><font color='red'>解答はここをクリック</font></summary>\n",
    "    <code>fig, axes = plt.subplots(1, 2, figsize=(12,6), tight_layout=True)</code><br>\n",
    "    <code>sns.lineplot(data=df_new, x=df_new.index, y='Extent', marker='X', markerfacecolor='red', ax=axes[0])</code><br>\n",
    "    <code>axes[0].set_xlabel('Year')</code><br>\n",
    "    <code>sns.lineplot(data=df_random, x=df_new.index, y='Extent', marker='X', markerfacecolor='red', ax=axes[1])</code><br>\n",
    "    <code>axes[1].set_xlabel('Year')</code>\n",
    "</details>"
   ]
  },
  {
   "cell_type": "markdown",
   "id": "d740947c",
   "metadata": {},
   "source": [
    "## 以上"
   ]
  }
 ],
 "metadata": {
  "kernelspec": {
   "display_name": "Python 3",
   "language": "python",
   "name": "python3"
  },
  "language_info": {
   "codemirror_mode": {
    "name": "ipython",
    "version": 3
   },
   "file_extension": ".py",
   "mimetype": "text/x-python",
   "name": "python",
   "nbconvert_exporter": "python",
   "pygments_lexer": "ipython3",
   "version": "3.7.10"
  }
 },
 "nbformat": 4,
 "nbformat_minor": 5
}
