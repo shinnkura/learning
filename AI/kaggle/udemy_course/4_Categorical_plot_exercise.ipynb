{
 "cells": [
  {
   "cell_type": "markdown",
   "id": "40d9c665",
   "metadata": {},
   "source": [
    "---\n",
    "# Categorical Plot Exercise\n",
    "---"
   ]
  },
  {
   "cell_type": "code",
   "execution_count": null,
   "id": "2fe04f33",
   "metadata": {},
   "outputs": [],
   "source": [
    "# 実行\n",
    "import numpy as np\n",
    "import pandas as pd\n",
    "import matplotlib.pyplot as plt\n",
    "import seaborn as sns"
   ]
  },
  {
   "cell_type": "markdown",
   "id": "1435a988",
   "metadata": {},
   "source": [
    "Exercise_1 : Seabornのデータセット（'taxis'）をdfとして読み込んでください"
   ]
  },
  {
   "cell_type": "code",
   "execution_count": null,
   "id": "b33f7dc0",
   "metadata": {},
   "outputs": [],
   "source": [
    "df = "
   ]
  },
  {
   "cell_type": "markdown",
   "id": "8ab71701",
   "metadata": {},
   "source": [
    "<details>\n",
    "    <summary><font color='red'>解答はここをクリック</font></summary>\n",
    "    <code>df = sns.load_dataset('taxis')</code>\n",
    "</details>"
   ]
  },
  {
   "cell_type": "code",
   "execution_count": null,
   "id": "ef04b9a1",
   "metadata": {},
   "outputs": [],
   "source": [
    "# 実行して表示\n",
    "df.shape"
   ]
  },
  {
   "cell_type": "markdown",
   "id": "a374bd27",
   "metadata": {},
   "source": [
    "Exercise_2 : dfのカラム毎の欠損値の合計を表示してください"
   ]
  },
  {
   "cell_type": "code",
   "execution_count": null,
   "id": "2a9950d7",
   "metadata": {
    "scrolled": true
   },
   "outputs": [],
   "source": []
  },
  {
   "cell_type": "markdown",
   "id": "1d0b0a69",
   "metadata": {},
   "source": [
    "<details>\n",
    "    <summary><font color='red'>解答はここをクリック</font></summary>\n",
    "    <code>df.isnull().sum()</code>\n",
    "</details>"
   ]
  },
  {
   "cell_type": "markdown",
   "id": "2c63e030",
   "metadata": {},
   "source": [
    "Exercise_3 : 'payment'カラムが欠損していないレコードをランダムに(sample()を利用して）５つ表示してください。　ヒント　レクチャーでは出てきませんでしたがisnull()ではなくnotnull()というメソッドもあります。　"
   ]
  },
  {
   "cell_type": "code",
   "execution_count": null,
   "id": "e6f65c07",
   "metadata": {},
   "outputs": [],
   "source": []
  },
  {
   "cell_type": "markdown",
   "id": "11aaa1fe",
   "metadata": {},
   "source": [
    "<details>\n",
    "    <summary><font color='red'>解答はここをクリック</font></summary>\n",
    "    <code>df[df['payment'].notnull()].sample(5)</code>\n",
    "</details>"
   ]
  },
  {
   "cell_type": "markdown",
   "id": "3f807908",
   "metadata": {},
   "source": [
    "Exercise_4 : 欠損値を持つレコードの先頭５つを表示してください"
   ]
  },
  {
   "cell_type": "code",
   "execution_count": null,
   "id": "afd72595",
   "metadata": {},
   "outputs": [],
   "source": []
  },
  {
   "cell_type": "markdown",
   "id": "abb3cba1",
   "metadata": {},
   "source": [
    "<details>\n",
    "    <summary><font color='red'>解答はここをクリック</font></summary>\n",
    "    <code>df[df.isnull().sum(axis=1) > 0].head()</code>\n",
    "</details>"
   ]
  },
  {
   "cell_type": "markdown",
   "id": "46b812f2",
   "metadata": {},
   "source": [
    "Exercise_5 : 欠損値を持つレコードの合計数を表示してください"
   ]
  },
  {
   "cell_type": "code",
   "execution_count": null,
   "id": "30f3a637",
   "metadata": {},
   "outputs": [],
   "source": []
  },
  {
   "cell_type": "markdown",
   "id": "932e6f52",
   "metadata": {},
   "source": [
    "<details>\n",
    "    <summary><font color='red'>解答はここをクリック</font></summary>\n",
    "    <code>len(df[df.isnull().sum(axis=1) > 0])</code>\n",
    "</details>"
   ]
  },
  {
   "cell_type": "markdown",
   "id": "508423b6",
   "metadata": {},
   "source": [
    "Exercise_6 : 欠損値を持つレコードをdfからすべて削除してください"
   ]
  },
  {
   "cell_type": "code",
   "execution_count": null,
   "id": "22b83f52",
   "metadata": {},
   "outputs": [],
   "source": []
  },
  {
   "cell_type": "markdown",
   "id": "33b02018",
   "metadata": {},
   "source": [
    "<details>\n",
    "    <summary><font color='red'>解答はここをクリック</font></summary>\n",
    "    <code>df.dropna(axis=0, inplace=True)</code>\n",
    "</details>"
   ]
  },
  {
   "cell_type": "code",
   "execution_count": null,
   "id": "65ec4c3c",
   "metadata": {},
   "outputs": [],
   "source": [
    "# 実行して表示\n",
    "df.shape\n",
    "# (6341, 14)であればOK"
   ]
  },
  {
   "cell_type": "markdown",
   "id": "7511d54b",
   "metadata": {},
   "source": [
    "Exercise_7 : dfのカラムのうちデータタイプがfloat'型のものを抽出しdf_numericとしてください"
   ]
  },
  {
   "cell_type": "code",
   "execution_count": null,
   "id": "9d6a0369",
   "metadata": {},
   "outputs": [],
   "source": [
    "df_numeric = "
   ]
  },
  {
   "cell_type": "markdown",
   "id": "4ce0e6de",
   "metadata": {},
   "source": [
    "<details>\n",
    "    <summary><font color='red'>解答はここをクリック</font></summary>\n",
    "    <code>df_numeric = df.select_dtypes('float')</code>\n",
    "</details>"
   ]
  },
  {
   "cell_type": "code",
   "execution_count": null,
   "id": "278d5287",
   "metadata": {},
   "outputs": [],
   "source": [
    "# 実行して表示\n",
    "df_numeric"
   ]
  },
  {
   "cell_type": "markdown",
   "id": "a1629e65",
   "metadata": {},
   "source": [
    "Exercise_8 : df_numericの相関係数（相関行列）を表示してください"
   ]
  },
  {
   "cell_type": "code",
   "execution_count": null,
   "id": "0a7fa229",
   "metadata": {},
   "outputs": [],
   "source": []
  },
  {
   "cell_type": "markdown",
   "id": "55df2e69",
   "metadata": {},
   "source": [
    "<details>\n",
    "    <summary><font color='red'>解答はここをクリック</font></summary>\n",
    "    <code>df_numeric.corr()</code>\n",
    "</details>"
   ]
  },
  {
   "cell_type": "markdown",
   "id": "f3e9a7fe",
   "metadata": {},
   "source": [
    "Exercise_9 : 上記の相関行列をヒートマップとして表示してください。その際には横縦を6インチ、 4インチとして、相関係数の表示(annot=True)、cmap='coolwarm'の指定も行ってください(詳しくは別のセクションで説明します)"
   ]
  },
  {
   "cell_type": "code",
   "execution_count": null,
   "id": "b8334e1e",
   "metadata": {},
   "outputs": [],
   "source": [
    "plt.figure(figsize=(6,4))\n"
   ]
  },
  {
   "cell_type": "markdown",
   "id": "e42a361a",
   "metadata": {},
   "source": [
    "<details>\n",
    "    <summary><font color='red'>解答はここをクリック</font></summary>\n",
    "    <code>sns.heatmap(df_numeric.corr(), annot=True, cmap='coolwarm')</code>\n",
    "</details>"
   ]
  },
  {
   "cell_type": "markdown",
   "id": "67c18c2a",
   "metadata": {},
   "source": [
    "Exercise_10 : レクチャーで保存した'titanic_for_seaborn.csv'(index=Falseで保存)をdfとして読み込んでください。"
   ]
  },
  {
   "cell_type": "code",
   "execution_count": null,
   "id": "cf35bbf8",
   "metadata": {},
   "outputs": [],
   "source": [
    "df = "
   ]
  },
  {
   "cell_type": "markdown",
   "id": "2278fd7e",
   "metadata": {},
   "source": [
    "<details>\n",
    "    <summary><font color='red'>解答はここをクリック</font></summary>\n",
    "    <code>df = pd.read_csv('titanic_for_seaborn.csv')</code>\n",
    "</details>"
   ]
  },
  {
   "cell_type": "code",
   "execution_count": null,
   "id": "cc84071d",
   "metadata": {},
   "outputs": [],
   "source": [
    "# 実行して表示\n",
    "df.head()"
   ]
  },
  {
   "cell_type": "markdown",
   "id": "b6ad592b",
   "metadata": {},
   "source": [
    "Exercise_11 : Seabornのテーマ設定を行ってください。(テキストのサイズは'talk'、スタイルは'darkgrid'、フォントは'Meiryo')"
   ]
  },
  {
   "cell_type": "code",
   "execution_count": null,
   "id": "33ab2242",
   "metadata": {},
   "outputs": [],
   "source": []
  },
  {
   "cell_type": "markdown",
   "id": "588fa7ad",
   "metadata": {},
   "source": [
    "<details>\n",
    "    <summary><font color='red'>解答はここをクリック</font></summary>\n",
    "    <code>sns.set_theme(context='talk', style='darkgrid', font='Meiryo')</code>\n",
    "</details>"
   ]
  },
  {
   "cell_type": "markdown",
   "id": "8a5cb48c",
   "metadata": {},
   "source": [
    "Exercise_12 : dfにおいて'sex'別の'fare'をストリッププロットで表示してください"
   ]
  },
  {
   "cell_type": "code",
   "execution_count": null,
   "id": "e8a09320",
   "metadata": {},
   "outputs": [],
   "source": [
    "\n",
    "plt.show()"
   ]
  },
  {
   "cell_type": "markdown",
   "id": "0101a1c2",
   "metadata": {},
   "source": [
    "<details>\n",
    "    <summary><font color='red'>解答はここをクリック</font></summary>\n",
    "    <code>sns.stripplot(data=df, x='sex', y='fare')</code>\n",
    "</details>"
   ]
  },
  {
   "cell_type": "markdown",
   "id": "85a17d6a",
   "metadata": {},
   "source": [
    "Exercise_13 : 同様のストリッププロットで、'embarked'による色分けを行ってください。その際には三種類の'embarked'のプロットを混在させずに独立して表示し、パレットを'prism'としてください。"
   ]
  },
  {
   "cell_type": "code",
   "execution_count": null,
   "id": "e81c5823",
   "metadata": {},
   "outputs": [],
   "source": [
    "plt.figure(figsize=(10, 5))\n",
    "\n",
    "\n",
    "\n",
    "plt.show()"
   ]
  },
  {
   "cell_type": "markdown",
   "id": "cb941eda",
   "metadata": {},
   "source": [
    "<details>\n",
    "    <summary><font color='red'>解答はここをクリック</font></summary>\n",
    "    <code>sns.stripplot(data=df, x='sex', y='fare', hue='embarked', dodge=True, palette='prism')</code>\n",
    "</details>"
   ]
  },
  {
   "cell_type": "markdown",
   "id": "dffe905f",
   "metadata": {},
   "source": [
    "Exercise_14 : 'embarked'別のレコードの数をカウントプロットで表示してください(カラーパレットは'Set1')"
   ]
  },
  {
   "cell_type": "code",
   "execution_count": null,
   "id": "8bb3519f",
   "metadata": {},
   "outputs": [],
   "source": [
    "\n",
    "plt.show()"
   ]
  },
  {
   "cell_type": "markdown",
   "id": "229983db",
   "metadata": {},
   "source": [
    "<details>\n",
    "    <summary><font color='red'>解答はここをクリック</font></summary>\n",
    "    <code>sns.countplot(data=df, x='embarked', palette='Set1')</code>\n",
    "</details>"
   ]
  },
  {
   "cell_type": "markdown",
   "id": "6f20963e",
   "metadata": {},
   "source": [
    "Exercise_15 : 上記のカウントプロットを性別ごとに色分けしてください（カラーパレットは'Set2'）"
   ]
  },
  {
   "cell_type": "code",
   "execution_count": null,
   "id": "274d090e",
   "metadata": {},
   "outputs": [],
   "source": [
    "\n",
    "plt.show()"
   ]
  },
  {
   "cell_type": "markdown",
   "id": "d605fa59",
   "metadata": {},
   "source": [
    "<details>\n",
    "    <summary><font color='red'>解答はここをクリック</font></summary>\n",
    "    <code>sns.countplot(data=df, x='embarked', palette='Set2', hue='sex')</code>\n",
    "</details>"
   ]
  },
  {
   "cell_type": "markdown",
   "id": "27ff48b4",
   "metadata": {},
   "source": [
    "Exercise_16 : 性別で分けた年齢の平均値を、出航地別に色分けしてバープロットで表示してください（カラーパレット'hsv'）。さらにレジェンドの位置を「下寄りの中央」にし、そのタイトルを'embarked'にしてください"
   ]
  },
  {
   "cell_type": "code",
   "execution_count": null,
   "id": "e526a720",
   "metadata": {},
   "outputs": [],
   "source": [
    "\n",
    "\n",
    "\n",
    "plt.show()"
   ]
  },
  {
   "cell_type": "markdown",
   "id": "470a01d2",
   "metadata": {},
   "source": [
    "<details>\n",
    "    <summary><font color='red'>解答はここをクリック</font></summary>\n",
    "    <code>sns.barplot(data=df, x='sex', y='age', palette='hsv', hue='embarked', estimator=np.median)</code>\n",
    "    <code>plt.legend(loc=\"lower center\", title='embarked')</code>\n",
    "</details>"
   ]
  },
  {
   "cell_type": "markdown",
   "id": "be3e8fee",
   "metadata": {},
   "source": [
    "Exercise_17 : 'who'別の'fare'をボックスプロットで表示してください。その際にカラーパレットを'Set3’、ボックスの幅を0.5に指定してください"
   ]
  },
  {
   "cell_type": "code",
   "execution_count": null,
   "id": "d05b9b89",
   "metadata": {},
   "outputs": [],
   "source": []
  },
  {
   "cell_type": "markdown",
   "id": "1a53dcfe",
   "metadata": {},
   "source": [
    "<details>\n",
    "    <summary><font color='red'>解答はここをクリック</font></summary>\n",
    "    <code>sns.boxplot(data=df, x='who', y='fare', palette='Set3', width=0.5)</code>\n",
    "</details>"
   ]
  },
  {
   "cell_type": "markdown",
   "id": "925f6fb2",
   "metadata": {},
   "source": [
    "Exercise_18 : 上記では大きな外れ値があるため比較が困難です。外れ値を非表示として、あらためてボックスプロットを表示してください"
   ]
  },
  {
   "cell_type": "code",
   "execution_count": null,
   "id": "2548db40",
   "metadata": {},
   "outputs": [],
   "source": []
  },
  {
   "cell_type": "markdown",
   "id": "f3e44bea",
   "metadata": {},
   "source": [
    "<details>\n",
    "    <summary><font color='red'>解答はここをクリック</font></summary>\n",
    "    <code>sns.boxplot(data=df, x='who', y='fare', palette='Set3', width=0.5, sym=\"\")</code>\n",
    "</details>"
   ]
  },
  {
   "cell_type": "markdown",
   "id": "508638eb",
   "metadata": {},
   "source": [
    "Exercise_19 : 'who'別の'age'をバイオリンプロットで表示してください。その際にカラーパレットは'spring'、色分けを'survived'で行い、さらにバイオリンの左右に分けて表示してください。"
   ]
  },
  {
   "cell_type": "code",
   "execution_count": null,
   "id": "8b823b4b",
   "metadata": {},
   "outputs": [],
   "source": [
    "plt.figure(figsize=(8, 6))\n",
    "\n",
    "\n",
    "\n",
    "plt.show()"
   ]
  },
  {
   "cell_type": "markdown",
   "id": "5ae63376",
   "metadata": {},
   "source": [
    "<details>\n",
    "    <summary><font color='red'>解答はここをクリック</font></summary>\n",
    "    <code>sns.violinplot(data=df, x='who', y='age', palette='spring', hue='survived', split=True)</code>\n",
    "</details>"
   ]
  },
  {
   "cell_type": "markdown",
   "id": "3d6aded5",
   "metadata": {},
   "source": [
    "Exercise_20 : 性別ごとの年齢を'survived'で色分けし、また、プロットを混在させず分離してスウォームプロットで表示してください。（カラーパレットは'prism'）さらに、x軸ラベルを\"男性\"、\"女性\"にしてください"
   ]
  },
  {
   "cell_type": "code",
   "execution_count": null,
   "id": "bdece975",
   "metadata": {},
   "outputs": [],
   "source": [
    "plt.figure(figsize=(12, 6))\n",
    "\n",
    "\n",
    "\n",
    "plt.legend(loc=\"upper center\", title='Survived')\n",
    "plt.show()"
   ]
  },
  {
   "cell_type": "markdown",
   "id": "ac47958c",
   "metadata": {},
   "source": [
    "<details>\n",
    "    <summary><font color='red'>解答はここをクリック</font></summary>\n",
    "    <code>sns.swarmplot(data=df, x='sex', y='age', hue='survived', palette='prism', dodge=True)</code>\n",
    "    <code>plt.xticks([0, 1] ,['男性', '女性'])</code>\n",
    "</details>"
   ]
  },
  {
   "cell_type": "markdown",
   "id": "b03e4daa",
   "metadata": {},
   "source": [
    "Exercise_21 : 生存・死亡をX軸にして、年齢をスウォームプロットで表示してください。ただし、2行3列のグリッド表示とし、行では'sex'での分類、列では'pclass'の分類となるようにしてください。さらにheightを4とし、それに対するwidthの比率を1.5としてください。　ヒント　catplot, row, col"
   ]
  },
  {
   "cell_type": "code",
   "execution_count": null,
   "id": "a9d0c5cb",
   "metadata": {},
   "outputs": [],
   "source": [
    "\n",
    "\n",
    "\n",
    "plt.show()"
   ]
  },
  {
   "cell_type": "markdown",
   "id": "23bc6b5e",
   "metadata": {},
   "source": [
    "<details>\n",
    "    <summary><font color='red'>解答はここをクリック</font></summary>\n",
    "    <code>sns.catplot(data=df, x='survived', y='age', height=4, aspect=1.5, row='sex', col='pclass', kind='swarm')</code>\n",
    "</details>"
   ]
  },
  {
   "cell_type": "markdown",
   "id": "d740947c",
   "metadata": {},
   "source": [
    "## 以上"
   ]
  }
 ],
 "metadata": {
  "kernelspec": {
   "display_name": "Python 3",
   "language": "python",
   "name": "python3"
  },
  "language_info": {
   "codemirror_mode": {
    "name": "ipython",
    "version": 3
   },
   "file_extension": ".py",
   "mimetype": "text/x-python",
   "name": "python",
   "nbconvert_exporter": "python",
   "pygments_lexer": "ipython3",
   "version": "3.7.10"
  }
 },
 "nbformat": 4,
 "nbformat_minor": 5
}
