{
 "cells": [
  {
   "cell_type": "markdown",
   "id": "23c6d4cc",
   "metadata": {},
   "source": [
    "<a id=0></a>\n",
    "# 2. DataFrameを理解する"
   ]
  },
  {
   "cell_type": "markdown",
   "id": "cfd115fa",
   "metadata": {},
   "source": [
    "---\n",
    "### [1.Arrayの作成、SeriesとDataFrameの作成 ](#1)\n",
    "### [2.SeriesとDataFrame](#2)\n",
    "### [3.DataFrameの基礎データとaxisの理解](#3)\n",
    "### [4.IndexとColumnについて](#4)\n",
    "### [5.欠損値](#5)\n",
    "### [6.DataFrameを別のファイルとして保存](#6)\n",
    "---"
   ]
  },
  {
   "cell_type": "code",
   "execution_count": null,
   "id": "5f4b23d4",
   "metadata": {},
   "outputs": [],
   "source": [
    "import numpy as np\n",
    "import pandas as pd\n",
    "import matplotlib.pyplot as plt\n",
    "import seaborn as sns"
   ]
  },
  {
   "cell_type": "markdown",
   "id": "0b658499",
   "metadata": {},
   "source": [
    "---\n",
    "<a id=1></a>\n",
    "[Topへ](#0)\n",
    "\n",
    "---\n",
    "## 1.Arrayの作成、SeriesとDataFrameの作成 "
   ]
  },
  {
   "cell_type": "markdown",
   "id": "39c9d4cc",
   "metadata": {},
   "source": [
    "* 100 - 10000の整数データ (100,)からSeriesを作成\n",
    "* Series と ndarry\n",
    "* Seriesに名前を付ける\n",
    "* 10 - 100の整数データ (100,)からSeriesを作成\n",
    "* 0 - 10の小数データ (100, 2)からDataFrameを作成\n",
    "* 40 - 60の範囲の一様分布の小数データ (100, 1)からDataFrameを作成\n",
    "* 平均 0、標準偏差 1の正規分布に従う小数データ (100, 1)からDataFrameを作成\n",
    "* 平均50、標準偏差10の正規分布に従う小数データ (100, 1)からDataFrameを作成\n",
    "* ['red', 'green', 'blue'] (100, 1)、 ['circle', 'square', 'triangle'] (100, 1)、ndarrayを合しDataFrameを作成\n",
    "* datetime 1997/7/5から1日刻み (100, 1)からDatetimeIndex、Seriesを作成\n",
    "* Series, DataFrameを結合\n",
    "* DataFrameのサンプル（レコード）の一部を抽出する\n",
    "---"
   ]
  },
  {
   "cell_type": "markdown",
   "id": "12f6c3df",
   "metadata": {},
   "source": [
    "100 - 10000の整数データ (100,)からSeriesを作成"
   ]
  },
  {
   "cell_type": "code",
   "execution_count": null,
   "id": "1152c769",
   "metadata": {
    "scrolled": true
   },
   "outputs": [],
   "source": []
  },
  {
   "cell_type": "markdown",
   "id": "2a9575e4",
   "metadata": {},
   "source": [
    "Series と ndarry"
   ]
  },
  {
   "cell_type": "code",
   "execution_count": null,
   "id": "2ade9796",
   "metadata": {},
   "outputs": [],
   "source": []
  },
  {
   "cell_type": "markdown",
   "id": "d4344159",
   "metadata": {},
   "source": [
    "Seriesに名前を付ける"
   ]
  },
  {
   "cell_type": "code",
   "execution_count": null,
   "id": "70bdf0ef",
   "metadata": {},
   "outputs": [],
   "source": []
  },
  {
   "cell_type": "markdown",
   "id": "8141d5ba",
   "metadata": {},
   "source": [
    "10 - 100の整数データ (100,)からSeriesを作成"
   ]
  },
  {
   "cell_type": "code",
   "execution_count": null,
   "id": "7c6a375f",
   "metadata": {},
   "outputs": [],
   "source": []
  },
  {
   "cell_type": "markdown",
   "id": "7cb44e85",
   "metadata": {},
   "source": [
    "0 - 10の小数データ (100, 2)からDataFrameを作成"
   ]
  },
  {
   "cell_type": "code",
   "execution_count": null,
   "id": "f6335148",
   "metadata": {},
   "outputs": [],
   "source": []
  },
  {
   "cell_type": "markdown",
   "id": "eb23916f",
   "metadata": {},
   "source": [
    "40 - 60の範囲の一様分布の小数データ (100, 1)からDataFrameを作成"
   ]
  },
  {
   "cell_type": "code",
   "execution_count": null,
   "id": "99902c60",
   "metadata": {},
   "outputs": [],
   "source": []
  },
  {
   "cell_type": "markdown",
   "id": "bdcdddfb",
   "metadata": {},
   "source": [
    "平均 0、標準偏差 1の正規分布に従う小数データ (100, 1)からDataFrameを作成"
   ]
  },
  {
   "cell_type": "code",
   "execution_count": null,
   "id": "62f5ee56",
   "metadata": {},
   "outputs": [],
   "source": []
  },
  {
   "cell_type": "markdown",
   "id": "43c9224d",
   "metadata": {},
   "source": [
    "平均50、標準偏差10の正規分布に従う小数データ (100, 1)からDataFrameを作成"
   ]
  },
  {
   "cell_type": "code",
   "execution_count": null,
   "id": "c3bc39bd",
   "metadata": {},
   "outputs": [],
   "source": []
  },
  {
   "cell_type": "markdown",
   "id": "47ad1fe0",
   "metadata": {},
   "source": [
    "['red', 'green', 'blue'] (100, 1)、 ['circle', 'square', 'triangle'] (100, 1)、ndarrayを結合しDataFrameを作成"
   ]
  },
  {
   "cell_type": "code",
   "execution_count": null,
   "id": "4cfeb29d",
   "metadata": {},
   "outputs": [],
   "source": []
  },
  {
   "cell_type": "markdown",
   "id": "958718f5",
   "metadata": {},
   "source": [
    "datetime 1997/7/5から1日刻み (100, 1)からDatetimeIndex、Seriesを作成"
   ]
  },
  {
   "cell_type": "code",
   "execution_count": null,
   "id": "09d08503",
   "metadata": {},
   "outputs": [],
   "source": []
  },
  {
   "cell_type": "markdown",
   "id": "7eff40d1",
   "metadata": {},
   "source": [
    "Series, DataFrameを結合"
   ]
  },
  {
   "cell_type": "code",
   "execution_count": null,
   "id": "cd7743f6",
   "metadata": {
    "scrolled": true
   },
   "outputs": [],
   "source": []
  },
  {
   "cell_type": "markdown",
   "id": "174ef27d",
   "metadata": {},
   "source": [
    "DataFrameのサンプル（レコード）の一部を抽出する"
   ]
  },
  {
   "cell_type": "code",
   "execution_count": null,
   "id": "fc3053fa",
   "metadata": {
    "scrolled": true
   },
   "outputs": [],
   "source": []
  },
  {
   "cell_type": "markdown",
   "id": "9b716def",
   "metadata": {},
   "source": [
    "---\n",
    "<a id=2></a>\n",
    "[Topへ](#0)\n",
    "\n",
    "---\n",
    "## 2.SeriesとDataFrame"
   ]
  },
  {
   "cell_type": "markdown",
   "id": "3a0b885a",
   "metadata": {},
   "source": [
    "* SeriesとDataFrameの関係性\n",
    "* Series、DataFrameをndarrayに変換\n",
    "* Series、DataFrameをlistに変換\n",
    "* Series、DataFrameをdictionaryに変換\n",
    "* Seriesの作成\n",
    "* DataFrameの作成\n",
    "---"
   ]
  },
  {
   "cell_type": "markdown",
   "id": "3a4878ac",
   "metadata": {},
   "source": [
    "SeriesとDataFrameの関係性"
   ]
  },
  {
   "cell_type": "code",
   "execution_count": null,
   "id": "93673e23",
   "metadata": {},
   "outputs": [],
   "source": []
  },
  {
   "cell_type": "markdown",
   "id": "efc68bab",
   "metadata": {},
   "source": [
    "Series、DataFrameをndarrayに変換"
   ]
  },
  {
   "cell_type": "code",
   "execution_count": null,
   "id": "df76f80a",
   "metadata": {},
   "outputs": [],
   "source": []
  },
  {
   "cell_type": "markdown",
   "id": "e377093a",
   "metadata": {},
   "source": [
    "Series、DataFrameをlistに変換"
   ]
  },
  {
   "cell_type": "code",
   "execution_count": null,
   "id": "95b91e63",
   "metadata": {},
   "outputs": [],
   "source": []
  },
  {
   "cell_type": "markdown",
   "id": "2472015d",
   "metadata": {},
   "source": [
    "Series、DataFrameをdictionaryに変換"
   ]
  },
  {
   "cell_type": "code",
   "execution_count": null,
   "id": "d07a55dc",
   "metadata": {
    "scrolled": true
   },
   "outputs": [],
   "source": []
  },
  {
   "cell_type": "markdown",
   "id": "d2951ede",
   "metadata": {},
   "source": [
    "Seriesの作成"
   ]
  },
  {
   "cell_type": "code",
   "execution_count": null,
   "id": "6a4459eb",
   "metadata": {},
   "outputs": [],
   "source": []
  },
  {
   "cell_type": "markdown",
   "id": "21e391e4",
   "metadata": {},
   "source": [
    "DataFrameの作成"
   ]
  },
  {
   "cell_type": "code",
   "execution_count": null,
   "id": "c6ec9798",
   "metadata": {},
   "outputs": [],
   "source": []
  },
  {
   "cell_type": "markdown",
   "id": "7fcaac03",
   "metadata": {},
   "source": [
    "---\n",
    "<a id=3></a>\n",
    "[Topへ](#0)\n",
    "\n",
    "---\n",
    "## 3.DataFrameの基礎データとaxisの理解"
   ]
  },
  {
   "cell_type": "markdown",
   "id": "c7a44bed",
   "metadata": {},
   "source": [
    "* len(df) : レコード数\n",
    "* df.info() : null, dtypeなど\n",
    "* df.size : 要素数\n",
    "* df.shape : index * columns\n",
    "* df.count : 個数（要素の数）\n",
    "* df.sum() : 合計（要素の値の合計）\n",
    "* axisの理解\n",
    "---"
   ]
  },
  {
   "cell_type": "markdown",
   "id": "e0821cfe",
   "metadata": {},
   "source": [
    "len(df) : レコード数"
   ]
  },
  {
   "cell_type": "code",
   "execution_count": null,
   "id": "a577dff9",
   "metadata": {},
   "outputs": [],
   "source": []
  },
  {
   "cell_type": "markdown",
   "id": "9c19cadc",
   "metadata": {},
   "source": [
    "df.info() : null, dtypeなど"
   ]
  },
  {
   "cell_type": "code",
   "execution_count": null,
   "id": "a5ede561",
   "metadata": {
    "scrolled": true
   },
   "outputs": [],
   "source": []
  },
  {
   "cell_type": "markdown",
   "id": "1661cc32",
   "metadata": {},
   "source": [
    "df.size : 要素数"
   ]
  },
  {
   "cell_type": "code",
   "execution_count": null,
   "id": "8ec49949",
   "metadata": {},
   "outputs": [],
   "source": []
  },
  {
   "cell_type": "markdown",
   "id": "b7a2c4c8",
   "metadata": {},
   "source": [
    "df.shape : index * columns"
   ]
  },
  {
   "cell_type": "code",
   "execution_count": null,
   "id": "f3c926e7",
   "metadata": {},
   "outputs": [],
   "source": []
  },
  {
   "cell_type": "markdown",
   "id": "188eefc8",
   "metadata": {},
   "source": [
    "df.count : 個数（要素の数）"
   ]
  },
  {
   "cell_type": "code",
   "execution_count": null,
   "id": "05b6655b",
   "metadata": {},
   "outputs": [],
   "source": []
  },
  {
   "cell_type": "markdown",
   "id": "ddbbb4c5",
   "metadata": {},
   "source": [
    "df.sum() : 合計（要素の値の合計）"
   ]
  },
  {
   "cell_type": "code",
   "execution_count": null,
   "id": "4b4262d8",
   "metadata": {},
   "outputs": [],
   "source": [
    "# TypeErrorが発生する可能性があります。\n",
    "# デフォルトがnumeric_only = Falseに変更されているのがその原因です\n",
    "# エラーが出た場合はこのセルは無視して次に説明をするnumeric_only = Trueを利用して合計値を算出してください"
   ]
  },
  {
   "cell_type": "markdown",
   "id": "b2b2ebd1",
   "metadata": {},
   "source": [
    "axisの理解"
   ]
  },
  {
   "cell_type": "code",
   "execution_count": null,
   "id": "2e966e5c",
   "metadata": {
    "scrolled": true
   },
   "outputs": [],
   "source": []
  },
  {
   "cell_type": "markdown",
   "id": "0007a8fe",
   "metadata": {},
   "source": [
    "---\n",
    "<a id=4></a>\n",
    "[Topへ](#0)\n",
    "\n",
    "---\n",
    "## 4.IndexとColumnについて"
   ]
  },
  {
   "cell_type": "markdown",
   "id": "cb82e767",
   "metadata": {},
   "source": [
    "* indexとcolumnsの取得\n",
    "* indexの設定とリセット\n",
    "* indexラベル、columnラベルの変更\n",
    "---"
   ]
  },
  {
   "cell_type": "markdown",
   "id": "fdacedbc",
   "metadata": {},
   "source": [
    "indexとcolumnsの取得"
   ]
  },
  {
   "cell_type": "code",
   "execution_count": null,
   "id": "d6f378e5",
   "metadata": {
    "scrolled": true
   },
   "outputs": [],
   "source": []
  },
  {
   "cell_type": "markdown",
   "id": "288f110d",
   "metadata": {},
   "source": [
    "indexの設定とリセット"
   ]
  },
  {
   "cell_type": "code",
   "execution_count": null,
   "id": "a55dfbf7",
   "metadata": {
    "scrolled": true
   },
   "outputs": [],
   "source": []
  },
  {
   "cell_type": "markdown",
   "id": "3fc836da",
   "metadata": {},
   "source": [
    "indexラベル、columnラベルの変更"
   ]
  },
  {
   "cell_type": "code",
   "execution_count": null,
   "id": "21bb7ee6",
   "metadata": {},
   "outputs": [],
   "source": []
  },
  {
   "cell_type": "markdown",
   "id": "cb604e7b",
   "metadata": {},
   "source": [
    "---\n",
    "<a id=5></a>\n",
    "[Topへ](#0)\n",
    "\n",
    "---\n",
    "## 5.欠損値"
   ]
  },
  {
   "cell_type": "markdown",
   "id": "608d2bdf",
   "metadata": {},
   "source": [
    "* None, null, np.nanを確認\n",
    "* DataFrameの欠損値はNoneもしくはnp.nanで置き換える\n",
    "* df.isnull()の使い方\n",
    "* 欠損値のある行を表示\n",
    "* nullは平均値の計算などに影響するか\n",
    "* 欠損値を視覚化\n",
    "---"
   ]
  },
  {
   "cell_type": "markdown",
   "id": "1a69e05a",
   "metadata": {},
   "source": [
    "None, null, np.nanを確認"
   ]
  },
  {
   "cell_type": "code",
   "execution_count": null,
   "id": "fd1ca400",
   "metadata": {},
   "outputs": [],
   "source": []
  },
  {
   "cell_type": "markdown",
   "id": "063e6357",
   "metadata": {},
   "source": [
    "DataFrameの欠損値はNoneもしくはnp.nanで置き換える"
   ]
  },
  {
   "cell_type": "code",
   "execution_count": null,
   "id": "62da6db6",
   "metadata": {},
   "outputs": [],
   "source": []
  },
  {
   "cell_type": "markdown",
   "id": "1259d5ba",
   "metadata": {},
   "source": [
    "df.isnull()の使い方"
   ]
  },
  {
   "cell_type": "code",
   "execution_count": null,
   "id": "70cbcb99",
   "metadata": {
    "scrolled": true
   },
   "outputs": [],
   "source": []
  },
  {
   "cell_type": "markdown",
   "id": "07acea96",
   "metadata": {},
   "source": [
    "欠損値のある行を表示"
   ]
  },
  {
   "cell_type": "code",
   "execution_count": null,
   "id": "7643c09a",
   "metadata": {
    "scrolled": true
   },
   "outputs": [],
   "source": []
  },
  {
   "cell_type": "markdown",
   "id": "002ab684",
   "metadata": {},
   "source": [
    "nullは平均値の計算などに影響するか"
   ]
  },
  {
   "cell_type": "code",
   "execution_count": null,
   "id": "9fb55b9d",
   "metadata": {},
   "outputs": [],
   "source": []
  },
  {
   "cell_type": "markdown",
   "id": "c956a442",
   "metadata": {},
   "source": [
    "欠損値の有無を視覚化  \n",
    "※ seabornやグラフについての詳細は別のレクチャーで解説します"
   ]
  },
  {
   "cell_type": "code",
   "execution_count": null,
   "id": "2bfde741",
   "metadata": {},
   "outputs": [],
   "source": []
  },
  {
   "cell_type": "markdown",
   "id": "3d0e4b43",
   "metadata": {},
   "source": [
    "---\n",
    "<a id=6></a>\n",
    "[Topへ](#0)\n",
    "\n",
    "---\n",
    "## 6.DataFrameを別のファイルとして保存\n",
    "---"
   ]
  },
  {
   "cell_type": "code",
   "execution_count": null,
   "id": "0a27631b",
   "metadata": {},
   "outputs": [],
   "source": []
  },
  {
   "cell_type": "markdown",
   "id": "ea75d049",
   "metadata": {},
   "source": [
    "---\n",
    "[Topへ](#0)\n",
    "\n",
    "---\n",
    "## 以上\n",
    "---"
   ]
  }
 ],
 "metadata": {
  "kernelspec": {
   "display_name": "Python 3",
   "language": "python",
   "name": "python3"
  },
  "language_info": {
   "codemirror_mode": {
    "name": "ipython",
    "version": 3
   },
   "file_extension": ".py",
   "mimetype": "text/x-python",
   "name": "python",
   "nbconvert_exporter": "python",
   "pygments_lexer": "ipython3",
   "version": "3.7.10"
  }
 },
 "nbformat": 4,
 "nbformat_minor": 5
}
