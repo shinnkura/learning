{
 "cells": [
  {
   "attachments": {},
   "cell_type": "markdown",
   "id": "23c6d4cc",
   "metadata": {},
   "source": [
    "<a id=0></a>\n",
    "# 8.Numeric Features\n",
    "※　数値型特徴量の取り扱い"
   ]
  },
  {
   "attachments": {},
   "cell_type": "markdown",
   "id": "cfd115fa",
   "metadata": {},
   "source": [
    "---\n",
    "### [1. スケーリング](#1)\n",
    "### [2. 非線形変換](#2)\n",
    "### [3.ビニング、離散化](#3)\n",
    "---"
   ]
  },
  {
   "cell_type": "code",
   "execution_count": null,
   "id": "5f4b23d4",
   "metadata": {
    "scrolled": false
   },
   "outputs": [],
   "source": [
    "import numpy as np\n",
    "import pandas as pd\n",
    "import matplotlib.pyplot as plt\n",
    "import seaborn as sns\n",
    "sns.set_theme(context='talk', style='darkgrid', font='MS GOTHIC')"
   ]
  },
  {
   "attachments": {},
   "cell_type": "markdown",
   "id": "51da6ec9",
   "metadata": {},
   "source": [
    "---\n",
    "<a id=1></a>\n",
    "[Topへ](#0)\n",
    "\n",
    "---\n",
    "## 1. スケーリング"
   ]
  },
  {
   "attachments": {},
   "cell_type": "markdown",
   "id": "1f939f3c",
   "metadata": {},
   "source": [
    "* スケーリングの目的\n",
    "* 代表的な4つのスケーラー\n",
    "* サンプルアレイの作成\n",
    "* StandardScaler\n",
    "* MinMaxScaler\n",
    "* MaxAbsScaler\n",
    "* RobustScaler\n",
    "---"
   ]
  },
  {
   "attachments": {},
   "cell_type": "markdown",
   "id": "b16bcb9a",
   "metadata": {},
   "source": [
    "スケーリングの目的"
   ]
  },
  {
   "cell_type": "code",
   "execution_count": null,
   "id": "413a8328",
   "metadata": {},
   "outputs": [],
   "source": [
    "x = np.array([1, 1, 2])\n",
    "y = np.array([1, 4, 1])\n",
    "X = x * 1000"
   ]
  },
  {
   "cell_type": "code",
   "execution_count": null,
   "id": "a8c060ad",
   "metadata": {},
   "outputs": [],
   "source": [
    "fig, axes = plt.subplots(1, 2, figsize=(12, 5), tight_layout=True)\n",
    "sns.scatterplot(x=x, y=y, ax=axes[0], hue=['A', 'B', 'C'], palette='Set1')\n",
    "axes[0].set_xlim(0.9, 4.1)\n",
    "sns.scatterplot(x=X, y=y, ax=axes[1], hue=['A', 'B', 'C'], palette='Set1')\n",
    "plt.show()"
   ]
  },
  {
   "attachments": {},
   "cell_type": "markdown",
   "id": "f0db0c49",
   "metadata": {},
   "source": [
    "代表的な4つのスケーラー"
   ]
  },
  {
   "cell_type": "code",
   "execution_count": null,
   "id": "8fbc14fd",
   "metadata": {
    "scrolled": false
   },
   "outputs": [],
   "source": []
  },
  {
   "attachments": {},
   "cell_type": "markdown",
   "id": "221ac216",
   "metadata": {},
   "source": [
    "サンプルアレイの作成"
   ]
  },
  {
   "cell_type": "code",
   "execution_count": null,
   "id": "260da7dd",
   "metadata": {},
   "outputs": [],
   "source": []
  },
  {
   "attachments": {},
   "cell_type": "markdown",
   "id": "983e31b1",
   "metadata": {},
   "source": [
    "StandardScaler"
   ]
  },
  {
   "attachments": {},
   "cell_type": "markdown",
   "id": "f694fc7a",
   "metadata": {},
   "source": [
    "https://scikit-learn.org/stable/modules/generated/sklearn.preprocessing.StandardScaler.html  \n",
    "+ 標準化\n",
    "+ X = (x - 平均値) / 標準偏差\n",
    "+ 平均0、標準偏差1の分布になるようスケーリング"
   ]
  },
  {
   "cell_type": "code",
   "execution_count": null,
   "id": "bf3dde7f",
   "metadata": {},
   "outputs": [],
   "source": []
  },
  {
   "attachments": {},
   "cell_type": "markdown",
   "id": "34d6a86c",
   "metadata": {},
   "source": [
    "MinMaxScaler"
   ]
  },
  {
   "attachments": {},
   "cell_type": "markdown",
   "id": "ed53299e",
   "metadata": {},
   "source": [
    "https://scikit-learn.org/stable/modules/generated/sklearn.preprocessing.MinMaxScaler.html\n",
    "\n",
    "* 正規化\n",
    "* X = (x - 最小値) / (最大値 - 最小値)\n",
    "* 最小0、最大1の分布になるようスケーリング"
   ]
  },
  {
   "cell_type": "code",
   "execution_count": null,
   "id": "9f5e68ab",
   "metadata": {},
   "outputs": [],
   "source": []
  },
  {
   "attachments": {},
   "cell_type": "markdown",
   "id": "df6230ea",
   "metadata": {},
   "source": [
    "MaxAbsScaler"
   ]
  },
  {
   "attachments": {},
   "cell_type": "markdown",
   "id": "c9188660",
   "metadata": {},
   "source": [
    "https://scikit-learn.org/stable/modules/generated/sklearn.preprocessing.MaxAbsScaler.html\n",
    "\n",
    "* X = x / 最大絶対値\n",
    "* X = x / maxabs\n",
    "* -1～1の分布になるようスケーリング（少なくとも-1もしくは1の値を持つ）"
   ]
  },
  {
   "cell_type": "code",
   "execution_count": null,
   "id": "309c8ac2",
   "metadata": {},
   "outputs": [],
   "source": []
  },
  {
   "attachments": {},
   "cell_type": "markdown",
   "id": "29c4c736",
   "metadata": {},
   "source": [
    "RobustScaler"
   ]
  },
  {
   "attachments": {},
   "cell_type": "markdown",
   "id": "d35c9c41",
   "metadata": {},
   "source": [
    "https://scikit-learn.org/stable/modules/generated/sklearn.preprocessing.RobustScaler.html  \n",
    "\n",
    "* X = x - 中央値 / 四分位範囲\n",
    "* X = x - med / IQR\n",
    "* 中央値0、外れ値を除く大部分を対象にスケーリング"
   ]
  },
  {
   "cell_type": "code",
   "execution_count": null,
   "id": "348c1cca",
   "metadata": {},
   "outputs": [],
   "source": []
  },
  {
   "attachments": {},
   "cell_type": "markdown",
   "id": "cff153af",
   "metadata": {},
   "source": [
    "---\n",
    "<a id=2></a>\n",
    "[Topへ](#0)\n",
    "\n",
    "---\n",
    "## 2. 非線形変換"
   ]
  },
  {
   "attachments": {},
   "cell_type": "markdown",
   "id": "75b9359b",
   "metadata": {},
   "source": [
    "* ボストン住宅価格データセット\n",
    "  - Belsley, Kuh & Welsch, 'Regression diagnostics: Identifying Influential Data and Sources of Collinearity', Wiley, 1980. 244-261.\n",
    "  - Quinlan, R. (1993). Combining Instance-Based and Model-Based Learning. In Proceedings on the Tenth International Conference of Machine Learning, 236-243, University of Massachusetts, Amherst. Morgan Kaufmann.\n",
    "* QuantileTransformer  \n",
    "    n_quantiles=1000, output_distribution='uniform'('normal')  \n",
    "    https://scikit-learn.org/stable/modules/generated/sklearn.preprocessing.QuantileTransformer.html  \n",
    "  PowerTransformer  \n",
    "    https://scikit-learn.org/stable/modules/generated/sklearn.preprocessing.PowerTransformer.html"
   ]
  },
  {
   "cell_type": "code",
   "execution_count": null,
   "id": "db415eed",
   "metadata": {},
   "outputs": [],
   "source": [
    "# Toy datasetsのひとつ\n",
    "# https://scikit-learn.org/stable/datasets/toy_dataset.html\n",
    "from sklearn.datasets import load_boston\n",
    "boston = load_boston()\n",
    "# data, target, filename, DESCR, feature_names\n",
    "\n",
    "# scikit-learnのバージョンにより上記のデータセットが使用できない場合があります\n",
    "# その場合は下のセル内のコメントアウトを外し実行して学習をお進めください\n",
    "\n",
    "# 使用不可の理由には特徴量のひとつが不適切であることが挙げられています\n",
    "# https://scikit-learn.org/1.1/modules/generated/sklearn.datasets.load_boston.html\n",
    "# ここでは特徴量の意味には触れず、プロット用のデータとして利用するのみです\n",
    "# 学習用としてはこれまで通り使用可能となっておりますのでご安心ください"
   ]
  },
  {
   "cell_type": "code",
   "execution_count": null,
   "id": "acfdf50a",
   "metadata": {},
   "outputs": [],
   "source": [
    "# 上記のload_bostonが使用できない場合は以下を実行し、学習をお進めください\n",
    "\n",
    "# data_url = \"http://lib.stat.cmu.edu/datasets/boston\"\n",
    "# raw_df = pd.read_csv(data_url, sep=\"\\s+\", skiprows=22, header=None)\n",
    "# data = np.hstack([raw_df.values[::2, :], raw_df.values[1::2, :2]])\n",
    "# feature_names = ['CRIM', 'ZN', 'INDUS', 'CHAS', 'NOX', 'RM', 'AGE', 'DIS', 'RAD', 'TAX', 'PTRATIO', 'B', 'LSTAT']\n",
    "# df = pd.DataFrame(data, columns=feature_names)\n"
   ]
  },
  {
   "cell_type": "code",
   "execution_count": null,
   "id": "ab711326",
   "metadata": {},
   "outputs": [],
   "source": []
  },
  {
   "attachments": {},
   "cell_type": "markdown",
   "id": "8a0309a1",
   "metadata": {},
   "source": [
    "QuantileTransformer / PowerTransformer"
   ]
  },
  {
   "cell_type": "code",
   "execution_count": null,
   "id": "8fb0302a",
   "metadata": {},
   "outputs": [],
   "source": []
  },
  {
   "attachments": {},
   "cell_type": "markdown",
   "id": "3a790073",
   "metadata": {},
   "source": [
    "---\n",
    "<a id=3></a>\n",
    "[Topへ](#0)\n",
    "\n",
    "---\n",
    "## 3. ビニング、離散化"
   ]
  },
  {
   "attachments": {},
   "cell_type": "markdown",
   "id": "32c72d9c",
   "metadata": {},
   "source": [
    "* KBinsDiscretizer  \n",
    "https://scikit-learn.org/stable/modules/generated/sklearn.preprocessing.KBinsDiscretizer.html\n",
    "* pd.cut()"
   ]
  },
  {
   "attachments": {},
   "cell_type": "markdown",
   "id": "13f79dcc",
   "metadata": {
    "scrolled": true
   },
   "source": [
    "KBinsDiscretizer  \n",
    "Keyword Arguments : n_bins=5, strategy='quantile'('uniform', 'kmeans'),  encode='onehot'('onehot-dense', 'ordinal')"
   ]
  },
  {
   "cell_type": "code",
   "execution_count": null,
   "id": "449da3cf",
   "metadata": {},
   "outputs": [],
   "source": []
  },
  {
   "attachments": {},
   "cell_type": "markdown",
   "id": "f3b6682b",
   "metadata": {},
   "source": [
    "pd.cut()"
   ]
  },
  {
   "cell_type": "code",
   "execution_count": null,
   "id": "3fd4ec38",
   "metadata": {},
   "outputs": [],
   "source": []
  },
  {
   "attachments": {},
   "cell_type": "markdown",
   "id": "f0d952ab",
   "metadata": {},
   "source": [
    "---\n",
    " <a id=4></a>\n",
    "[Topへ](#0)\n",
    "\n",
    "---\n",
    "## 以上\n",
    "    \n",
    "---"
   ]
  }
 ],
 "metadata": {
  "kernelspec": {
   "display_name": "Python 3",
   "language": "python",
   "name": "python3"
  },
  "language_info": {
   "codemirror_mode": {
    "name": "ipython",
    "version": 3
   },
   "file_extension": ".py",
   "mimetype": "text/x-python",
   "name": "python",
   "nbconvert_exporter": "python",
   "pygments_lexer": "ipython3",
   "version": "3.7.10"
  }
 },
 "nbformat": 4,
 "nbformat_minor": 5
}
