{
 "cells": [
  {
   "cell_type": "markdown",
   "id": "40d9c665",
   "metadata": {},
   "source": [
    "---\n",
    "# 3.DataFrame Exercise\n",
    "---"
   ]
  },
  {
   "cell_type": "code",
   "execution_count": null,
   "id": "2fe04f33",
   "metadata": {},
   "outputs": [],
   "source": [
    "import numpy as np\n",
    "import pandas as pd\n",
    "import matplotlib.pyplot as plt\n",
    "import seaborn as sns"
   ]
  },
  {
   "cell_type": "markdown",
   "id": "7c624520",
   "metadata": {},
   "source": [
    "Exercise_1 : 'sample1_with_index.csv'を読み込んでデータフレーム（df）を作成して下さい。その際にindexにカラムインデックス0のデータを割り当ててください (google colaboratoryの場合は、ドライブのマウントを行ってください。ファイルパスは '/drive/My Drive/sample1_with_index.csv)"
   ]
  },
  {
   "cell_type": "code",
   "execution_count": null,
   "id": "3ee14538",
   "metadata": {},
   "outputs": [],
   "source": [
    "df = "
   ]
  },
  {
   "cell_type": "markdown",
   "id": "685b2c8d",
   "metadata": {},
   "source": [
    "<details>\n",
    "    <summary><font color='red'>解答はここをクリック</font></summary>\n",
    "    <code>df = pd.read_csv('sample1_with_index.csv', index_col=0)</code>\n",
    "</details>"
   ]
  },
  {
   "cell_type": "code",
   "execution_count": null,
   "id": "443ecdc8",
   "metadata": {
    "scrolled": true
   },
   "outputs": [],
   "source": [
    "# 実行して表示\n",
    "df.head(3)"
   ]
  },
  {
   "cell_type": "markdown",
   "id": "52417230",
   "metadata": {},
   "source": [
    "Exercise_2 : 重複行としてインデックス5,6,7,8のレコードをdfに追加してください。その後、インデックスをリセットしてください。"
   ]
  },
  {
   "cell_type": "code",
   "execution_count": null,
   "id": "ebdc0e4a",
   "metadata": {
    "scrolled": true
   },
   "outputs": [],
   "source": [
    "# 追加\n",
    "df = df.append(df.loc[5:8])"
   ]
  },
  {
   "cell_type": "markdown",
   "id": "d71981a5",
   "metadata": {},
   "source": [
    "<details>\n",
    "    <summary><font color='red'>解答はここをクリック</font></summary>\n",
    "    <code>df = df.append(df.loc[5:8])</code>\n",
    "</details>"
   ]
  },
  {
   "cell_type": "code",
   "execution_count": null,
   "id": "0e502a3e",
   "metadata": {
    "scrolled": true
   },
   "outputs": [],
   "source": [
    "# インデックスをリセット\n"
   ]
  },
  {
   "cell_type": "markdown",
   "id": "3a77f4ba",
   "metadata": {},
   "source": [
    "<details>\n",
    "    <summary><font color='red'>解答はここをクリック</font></summary>\n",
    "    <code>df.reset_index(drop=True, inplace=True)</code>\n",
    "</details>"
   ]
  },
  {
   "cell_type": "code",
   "execution_count": null,
   "id": "1b091f7b",
   "metadata": {},
   "outputs": [],
   "source": [
    "# 実行して表示\n",
    "df.tail()"
   ]
  },
  {
   "cell_type": "markdown",
   "id": "5dffaa02",
   "metadata": {},
   "source": [
    "Exercise_3 : 現在object型になっている'Date'をdatetime型に変換してください"
   ]
  },
  {
   "cell_type": "code",
   "execution_count": null,
   "id": "7844f4b6",
   "metadata": {},
   "outputs": [],
   "source": [
    "# 実行して表示\n",
    "df.info()"
   ]
  },
  {
   "cell_type": "code",
   "execution_count": null,
   "id": "4870aa4d",
   "metadata": {},
   "outputs": [],
   "source": [
    "df['Date'] = "
   ]
  },
  {
   "cell_type": "markdown",
   "id": "484f9add",
   "metadata": {},
   "source": [
    "<details>\n",
    "    <summary><font color='red'>解答はここをクリック</font></summary>\n",
    "    <code>df['Date'] = pd.to_datetime(df['Date'])</code>\n",
    "</details>"
   ]
  },
  {
   "cell_type": "code",
   "execution_count": null,
   "id": "26a5f5d0",
   "metadata": {},
   "outputs": [],
   "source": [
    "# 実行して表示\n",
    "df.info()"
   ]
  },
  {
   "cell_type": "markdown",
   "id": "28d6b528",
   "metadata": {},
   "source": [
    "Exercise_4 : 'Price'の先頭の5行をデータフレーム形式で表示してください。"
   ]
  },
  {
   "cell_type": "code",
   "execution_count": null,
   "id": "75eec315",
   "metadata": {},
   "outputs": [],
   "source": []
  },
  {
   "cell_type": "markdown",
   "id": "19a37008",
   "metadata": {},
   "source": [
    "<details>\n",
    "    <summary><font color='red'>解答はここをクリック</font></summary>\n",
    "    <code>df[['Price']].head()</code>\n",
    "</details>"
   ]
  },
  {
   "cell_type": "markdown",
   "id": "4d1f6bf7",
   "metadata": {},
   "source": [
    "Exercise_5 : locを用いてindex15～20、'Width'から'Difference'の値を表示してください"
   ]
  },
  {
   "cell_type": "code",
   "execution_count": null,
   "id": "329e81d8",
   "metadata": {},
   "outputs": [],
   "source": []
  },
  {
   "cell_type": "markdown",
   "id": "a9527247",
   "metadata": {},
   "source": [
    "<details>\n",
    "    <summary><font color='red'>解答はここをクリック</font></summary>\n",
    "    <code>df.loc[15:20, 'Width':'Difference']</code>\n",
    "</details>"
   ]
  },
  {
   "cell_type": "markdown",
   "id": "b2c30d92",
   "metadata": {},
   "source": [
    "Exercise_6 : インデックスが40～45、カラムのindexが 2,4,6 の値を表示してください"
   ]
  },
  {
   "cell_type": "code",
   "execution_count": null,
   "id": "cbd423f9",
   "metadata": {},
   "outputs": [],
   "source": [
    "df.iloc[40:46, [2, 4, 6]]"
   ]
  },
  {
   "cell_type": "markdown",
   "id": "906005a6",
   "metadata": {},
   "source": [
    "<details>\n",
    "    <summary><font color='red'>解答はここをクリック</font></summary>\n",
    "    <code>df.iloc[40:46, [2, 4, 6]]</code>\n",
    "</details>"
   ]
  },
  {
   "cell_type": "markdown",
   "id": "8f1ead72",
   "metadata": {},
   "source": [
    "Exercise_7 : 'Difference'の値が2より大きいか、もしくは-2より小さいもののレコードを表示してください"
   ]
  },
  {
   "cell_type": "code",
   "execution_count": null,
   "id": "31672c94",
   "metadata": {},
   "outputs": [],
   "source": []
  },
  {
   "cell_type": "markdown",
   "id": "d3eea65e",
   "metadata": {},
   "source": [
    "<details>\n",
    "    <summary><font color='red'>解答はここをクリック</font></summary>\n",
    "    <code>df[(df['Difference'] > 2) | (df['Difference'] < -2)]</code>\n",
    "</details>"
   ]
  },
  {
   "cell_type": "markdown",
   "id": "1a1ab977",
   "metadata": {},
   "source": [
    "Exercise_8: インデックスが17と19の'Color'の値をともに'purple'に、また'Difference'の値をそれぞれ0.111と0.888に更新してください"
   ]
  },
  {
   "cell_type": "code",
   "execution_count": null,
   "id": "0fbca9e7",
   "metadata": {
    "scrolled": false
   },
   "outputs": [],
   "source": []
  },
  {
   "cell_type": "markdown",
   "id": "af122c49",
   "metadata": {},
   "source": [
    "<details>\n",
    "    <summary><font color='red'>解答はここをクリック</font></summary>\n",
    "    <code>df.loc[[17, 19], ['Color', 'Difference']] = [['purple', 0.111], ['purple', 0.888]]</code>\n",
    "</details>"
   ]
  },
  {
   "cell_type": "code",
   "execution_count": null,
   "id": "9720860f",
   "metadata": {},
   "outputs": [],
   "source": [
    "# 実行して表示\n",
    "df.loc[[17, 19]]"
   ]
  },
  {
   "cell_type": "markdown",
   "id": "8a255fd3",
   "metadata": {},
   "source": [
    "Exercise_9 : カラム名に 'ty' を含むカラムのインデックス100の値を表示してください"
   ]
  },
  {
   "cell_type": "code",
   "execution_count": null,
   "id": "bc1e058a",
   "metadata": {},
   "outputs": [],
   "source": []
  },
  {
   "cell_type": "markdown",
   "id": "7f43b442",
   "metadata": {},
   "source": [
    "<details>\n",
    "    <summary><font color='red'>解答はここをクリック</font></summary>\n",
    "    <code>df.filter(like='ty', axis=1).loc[100]</code>\n",
    "</details>"
   ]
  },
  {
   "cell_type": "markdown",
   "id": "04d4b4ba",
   "metadata": {},
   "source": [
    "Exercise_10 : queryを使い、'Shape'が'circle'もしくは'triangle'、かつ'Score'が70以上のレコードを表示してください"
   ]
  },
  {
   "cell_type": "code",
   "execution_count": null,
   "id": "fef26a29",
   "metadata": {},
   "outputs": [],
   "source": []
  },
  {
   "cell_type": "markdown",
   "id": "5f9bcd19",
   "metadata": {},
   "source": [
    "<details>\n",
    "    <summary><font color='red'>解答はここをクリック</font></summary>\n",
    "    <code>df.query(\"Shape in ['circle', 'triangle'] & Score >=70\")</code>\n",
    "</details>"
   ]
  },
  {
   "cell_type": "markdown",
   "id": "5a7f657f",
   "metadata": {},
   "source": [
    "Exercise_11: 各カラムの基本統計量を表示してください"
   ]
  },
  {
   "cell_type": "code",
   "execution_count": null,
   "id": "49325506",
   "metadata": {},
   "outputs": [],
   "source": []
  },
  {
   "cell_type": "markdown",
   "id": "c8c49140",
   "metadata": {},
   "source": [
    "<details>\n",
    "    <summary><font color='red'>解答はここをクリック</font></summary>\n",
    "    <code>df.describe()</code>\n",
    "</details>"
   ]
  },
  {
   "cell_type": "markdown",
   "id": "9a5af0b4",
   "metadata": {},
   "source": [
    "Exercise_12 : 'Shape'に存在するユニークな値の数、その値を全て含むアレイ、またそれぞれの値のカウントを表示してください"
   ]
  },
  {
   "cell_type": "code",
   "execution_count": null,
   "id": "e042dba1",
   "metadata": {},
   "outputs": [],
   "source": [
    "# ユニークな値はいくつあるか\n",
    "\n",
    "\n",
    "# !!!\n",
    "# nunique()には nan は数として含まれません！！！\n",
    "# !!!"
   ]
  },
  {
   "cell_type": "markdown",
   "id": "83c22fc8",
   "metadata": {},
   "source": [
    "<details>\n",
    "    <summary><font color='red'>解答はここをクリック</font></summary>\n",
    "    <code>df['Shape'].nunique()</code>\n",
    "</details>"
   ]
  },
  {
   "cell_type": "code",
   "execution_count": null,
   "id": "738164e0",
   "metadata": {
    "scrolled": true
   },
   "outputs": [],
   "source": [
    "# ユニークな値のアレイ\n"
   ]
  },
  {
   "cell_type": "markdown",
   "id": "2b1a1ab9",
   "metadata": {},
   "source": [
    "<details>\n",
    "    <summary><font color='red'>解答はここをクリック</font></summary>\n",
    "    <code>df['Shape'].unique()</code>\n",
    "</details>"
   ]
  },
  {
   "cell_type": "code",
   "execution_count": null,
   "id": "06cc2179",
   "metadata": {},
   "outputs": [],
   "source": [
    "# それぞれの値の個数\n"
   ]
  },
  {
   "cell_type": "markdown",
   "id": "db6c914f",
   "metadata": {},
   "source": [
    "<details>\n",
    "    <summary><font color='red'>解答はここをクリック</font></summary>\n",
    "    <code>df['Shape'].value_counts()</code>\n",
    "</details>"
   ]
  },
  {
   "cell_type": "markdown",
   "id": "bf221ee6",
   "metadata": {},
   "source": [
    "Exercise_13 : 'Quality'の値の大きいもの3つのindexを取得し、それらの全データを表示してください"
   ]
  },
  {
   "cell_type": "code",
   "execution_count": null,
   "id": "ee3f64ca",
   "metadata": {},
   "outputs": [],
   "source": [
    "# 上位3つのindex\n",
    "idxs = "
   ]
  },
  {
   "cell_type": "markdown",
   "id": "a10cee2e",
   "metadata": {},
   "source": [
    "<details>\n",
    "    <summary><font color='red'>解答はここをクリック</font></summary>\n",
    "    <code>idxs = df['Quality'].nlargest(3).index</code>\n",
    "</details>"
   ]
  },
  {
   "cell_type": "code",
   "execution_count": null,
   "id": "8c21f01f",
   "metadata": {},
   "outputs": [],
   "source": [
    "# 実行して表示\n",
    "idxs\n",
    "# Int64Index([57, 42, 89], dtype='int64')が表示されればOK"
   ]
  },
  {
   "cell_type": "code",
   "execution_count": null,
   "id": "bd690302",
   "metadata": {},
   "outputs": [],
   "source": [
    "# 実行して表示\n",
    "df.iloc[idxs]"
   ]
  },
  {
   "cell_type": "markdown",
   "id": "a199d105",
   "metadata": {},
   "source": [
    "Exercise_14 : 'Color'でグループ化し、その中のグループ'green'に属するデータの先頭5行を表示してください"
   ]
  },
  {
   "cell_type": "code",
   "execution_count": null,
   "id": "bf34c179",
   "metadata": {},
   "outputs": [],
   "source": [
    "\n",
    "# index 0, 3, 5, 10, 12のレコードが表示されればOK"
   ]
  },
  {
   "cell_type": "markdown",
   "id": "3194ee40",
   "metadata": {},
   "source": [
    "<details>\n",
    "    <summary><font color='red'>解答はここをクリック</font></summary>\n",
    "    <code>df.groupby('Color').get_group('green').head()</code>\n",
    "</details>"
   ]
  },
  {
   "cell_type": "markdown",
   "id": "8abf28a2",
   "metadata": {},
   "source": [
    "Exercise_15 :  'Color'でグループ化した'Price'と'Quantity'の統計量（平均と中央値）を表示してください（aggを使って）"
   ]
  },
  {
   "cell_type": "code",
   "execution_count": null,
   "id": "08c9989f",
   "metadata": {},
   "outputs": [],
   "source": []
  },
  {
   "cell_type": "markdown",
   "id": "c8b60230",
   "metadata": {},
   "source": [
    "<details>\n",
    "    <summary><font color='red'>解答はここをクリック</font></summary>\n",
    "    <code>df.groupby('Color')[['Price', 'Quantity']].agg(['mean', 'median'])</code>\n",
    "</details>"
   ]
  },
  {
   "cell_type": "markdown",
   "id": "57f0424d",
   "metadata": {},
   "source": [
    "Exercise_16 : 'Color'と'Shape'のふたつのクラスでグループ化し、その中の'red'と'square'に属するグループのレコードを表示してください。"
   ]
  },
  {
   "cell_type": "code",
   "execution_count": null,
   "id": "b336af72",
   "metadata": {},
   "outputs": [],
   "source": [
    "# まずはグループを確認する\n"
   ]
  },
  {
   "cell_type": "markdown",
   "id": "d4094f63",
   "metadata": {},
   "source": [
    "<details>\n",
    "    <summary><font color='red'>解答はここをクリック</font></summary>\n",
    "    <code>df.groupby(['Color', 'Shape']).groups</code>\n",
    "</details>"
   ]
  },
  {
   "cell_type": "code",
   "execution_count": null,
   "id": "ae51f720",
   "metadata": {},
   "outputs": [],
   "source": [
    "# red, squareのグループを抽出する\n"
   ]
  },
  {
   "cell_type": "markdown",
   "id": "9c520e93",
   "metadata": {},
   "source": [
    "<details>\n",
    "    <summary><font color='red'>解答はここをクリック</font></summary>\n",
    "    <code>df.groupby(['Color', 'Shape']).get_group(('red','square'))</code>\n",
    "</details>"
   ]
  },
  {
   "cell_type": "markdown",
   "id": "15c2c0f0",
   "metadata": {},
   "source": [
    "Exercise_17 : 下記のdf_Dにおいて'Shape'が'triangle'である行だけを表示してください"
   ]
  },
  {
   "cell_type": "code",
   "execution_count": null,
   "id": "78d89e7b",
   "metadata": {
    "scrolled": false
   },
   "outputs": [],
   "source": [
    "# 実行して表示\n",
    "df_D = df.groupby(['Color', 'Shape']).describe()\n",
    "df_D"
   ]
  },
  {
   "cell_type": "code",
   "execution_count": null,
   "id": "ff4ff392",
   "metadata": {},
   "outputs": [],
   "source": [
    "# 実行して表示\n",
    "df_D.index"
   ]
  },
  {
   "cell_type": "code",
   "execution_count": null,
   "id": "22d18503",
   "metadata": {},
   "outputs": [],
   "source": [
    "# 回りくどいですが、条件をconditionに指定してください\n",
    "condition = "
   ]
  },
  {
   "cell_type": "markdown",
   "id": "a6f89116",
   "metadata": {},
   "source": [
    "<details>\n",
    "    <summary><font color='red'>解答はここをクリック</font></summary>\n",
    "    <code>condition = df_D.index.get_level_values('Shape') == 'triangle'</code>\n",
    "</details>"
   ]
  },
  {
   "cell_type": "code",
   "execution_count": null,
   "id": "51af4244",
   "metadata": {},
   "outputs": [],
   "source": [
    "# 実行して表示\n",
    "df_D[condition]"
   ]
  },
  {
   "cell_type": "markdown",
   "id": "049bd476",
   "metadata": {},
   "source": [
    "Exercise_18 : dfを'Color'に対して昇順、さらに'Quantity'に対して降順に並べ替えて表示してください。その際、nanを先頭に表示してください。  "
   ]
  },
  {
   "cell_type": "code",
   "execution_count": null,
   "id": "e94fd7c0",
   "metadata": {},
   "outputs": [],
   "source": [
    "df_sorted = "
   ]
  },
  {
   "cell_type": "markdown",
   "id": "1d433664",
   "metadata": {},
   "source": [
    "<details>\n",
    "    <summary><font color='red'>解答はここをクリック</font></summary>\n",
    "    <code>df_sorted = df.sort_values(by=['Color', 'Quantity'], ascending=[True, False], na_position='first')</code>\n",
    "</details>"
   ]
  },
  {
   "cell_type": "code",
   "execution_count": null,
   "id": "84950b09",
   "metadata": {},
   "outputs": [],
   "source": [
    "# 実行して表示\n",
    "df_sorted"
   ]
  },
  {
   "cell_type": "markdown",
   "id": "f47691e6",
   "metadata": {},
   "source": [
    "Exercise_19 : クロスセクション（xs）を使ってdf_Dの'Shape'が'triangle'であるレコードを抽出してください"
   ]
  },
  {
   "cell_type": "code",
   "execution_count": null,
   "id": "edfdb3da",
   "metadata": {},
   "outputs": [],
   "source": [
    "# 重複行の数（sum）を確認\n"
   ]
  },
  {
   "cell_type": "markdown",
   "id": "88decda2",
   "metadata": {},
   "source": [
    "<details>\n",
    "    <summary><font color='red'>解答はここをクリック</font></summary>\n",
    "    <code>df_D.xs('triangle', level='Shape')</code>\n",
    "</details>"
   ]
  },
  {
   "cell_type": "markdown",
   "id": "ddd390bb",
   "metadata": {},
   "source": [
    "Exercise_20 : dfの重複行の数を確認し、重複行を削除してください"
   ]
  },
  {
   "cell_type": "code",
   "execution_count": null,
   "id": "6e9cfd15",
   "metadata": {},
   "outputs": [],
   "source": [
    "# 重複行の数（sum）を確認\n"
   ]
  },
  {
   "cell_type": "markdown",
   "id": "215c53af",
   "metadata": {},
   "source": [
    "<details>\n",
    "    <summary><font color='red'>解答はここをクリック</font></summary>\n",
    "    <code>df.duplicated().sum()</code>\n",
    "</details>"
   ]
  },
  {
   "cell_type": "code",
   "execution_count": null,
   "id": "26b652ba",
   "metadata": {},
   "outputs": [],
   "source": [
    "# 削除\n"
   ]
  },
  {
   "cell_type": "markdown",
   "id": "54318950",
   "metadata": {},
   "source": [
    "<details>\n",
    "    <summary><font color='red'>解答はここをクリック</font></summary>\n",
    "    <code>df.drop_duplicates(inplace=True)</code>\n",
    "</details>"
   ]
  },
  {
   "cell_type": "code",
   "execution_count": null,
   "id": "57a9f6b4",
   "metadata": {},
   "outputs": [],
   "source": [
    "# 実行して確認.100が表示されればOK\n",
    "len(df)"
   ]
  },
  {
   "cell_type": "markdown",
   "id": "0e249207",
   "metadata": {},
   "source": [
    "Exercise_21 : 条件に従って欠損値の処理を行ってください（dictionaryを使った方法です）"
   ]
  },
  {
   "cell_type": "code",
   "execution_count": null,
   "id": "ae1ac287",
   "metadata": {},
   "outputs": [],
   "source": [
    "# 実行して表示\n",
    "# 'Date'がnullのレコードを表示\n",
    "df[df['Date'].isnull()]"
   ]
  },
  {
   "cell_type": "code",
   "execution_count": null,
   "id": "54595237",
   "metadata": {
    "scrolled": true
   },
   "outputs": [],
   "source": [
    "# 'Date'がNaTのレコードを削除。subsetを利用します\n"
   ]
  },
  {
   "cell_type": "markdown",
   "id": "e17e0dc6",
   "metadata": {},
   "source": [
    "<details>\n",
    "    <summary><font color='red'>解答はここをクリック</font></summary>\n",
    "    <code>df.dropna(subset=['Date'], inplace=True)</code><br>\n",
    "</details>"
   ]
  },
  {
   "cell_type": "code",
   "execution_count": null,
   "id": "d38d149c",
   "metadata": {},
   "outputs": [],
   "source": [
    "# 実行して表示\n",
    "df[df['Date'].isnull()]\n",
    "# レコードが表示されなければOK"
   ]
  },
  {
   "cell_type": "code",
   "execution_count": null,
   "id": "c5e41ae0",
   "metadata": {
    "scrolled": true
   },
   "outputs": [],
   "source": [
    "# 実行して表示\n",
    "# 'Color'は'white'で、'Shape'は'ellipse'で、その他は平均値で置き換えます。\n",
    "# そのためには置き換える値を指定するためのdictionaryが必要になります。\n",
    "# ひとまずnanを持つレコードを表示します\n",
    "df[df.isnull().sum(axis=1) > 0].style.highlight_null(null_color='#fcc')"
   ]
  },
  {
   "cell_type": "code",
   "execution_count": null,
   "id": "f353e6ca",
   "metadata": {},
   "outputs": [],
   "source": [
    "# 実行して表示\n",
    "hasnull_index = df[df.isnull().sum(axis=1) > 0].index\n",
    "hasnull_index"
   ]
  },
  {
   "cell_type": "code",
   "execution_count": null,
   "id": "ad4d2a98",
   "metadata": {},
   "outputs": [],
   "source": [
    "# 'Width'から'Score'までの平均値を表示してください('Difference'は除く)。iloc, mean()を使います\n"
   ]
  },
  {
   "cell_type": "markdown",
   "id": "a9b5747c",
   "metadata": {},
   "source": [
    "<details>\n",
    "    <summary><font color='red'>解答はここをクリック</font></summary>\n",
    "    <code>df.iloc[:, 3:8].mean()</code>\n",
    "</details>"
   ]
  },
  {
   "cell_type": "code",
   "execution_count": null,
   "id": "25a217cd",
   "metadata": {},
   "outputs": [],
   "source": [
    "# 上記のデータをdictionaryに変換します\n",
    "replace_dict = "
   ]
  },
  {
   "cell_type": "markdown",
   "id": "20bd4f3a",
   "metadata": {},
   "source": [
    "<details>\n",
    "    <summary><font color='red'>解答はここをクリック</font></summary>\n",
    "    <code>replace_dict = dict(df.iloc[:, 3:8].mean()) # もしくはdf.iloc[:, 3:8].mean().to_dict()</code>\n",
    "</details>"
   ]
  },
  {
   "cell_type": "code",
   "execution_count": null,
   "id": "890b57e0",
   "metadata": {
    "scrolled": true
   },
   "outputs": [],
   "source": [
    "# 実行して表示\n",
    "replace_dict"
   ]
  },
  {
   "cell_type": "code",
   "execution_count": null,
   "id": "1fcb1325",
   "metadata": {},
   "outputs": [],
   "source": [
    "# replace_dictに, 'Color:'white', 'Shape':'ellipse'を追加してください\n",
    "\n"
   ]
  },
  {
   "cell_type": "markdown",
   "id": "55f6e94c",
   "metadata": {},
   "source": [
    "<details>\n",
    "    <summary><font color='red'>解答はここをクリック</font></summary>\n",
    "    <code>replace_dict['Color'] = 'white'</code><br>\n",
    "    <code>replace_dict['Shape'] = 'ellipse'</code>\n",
    "</details>"
   ]
  },
  {
   "cell_type": "code",
   "execution_count": null,
   "id": "f89d0eef",
   "metadata": {},
   "outputs": [],
   "source": [
    "# 実行して表示\n",
    "replace_dict"
   ]
  },
  {
   "cell_type": "code",
   "execution_count": null,
   "id": "9a393c11",
   "metadata": {},
   "outputs": [],
   "source": [
    "# fillnaを実行してください\n"
   ]
  },
  {
   "cell_type": "markdown",
   "id": "d357cfdb",
   "metadata": {},
   "source": [
    "<details>\n",
    "    <summary><font color='red'>解答はここをクリック</font></summary>\n",
    "    <code>df.fillna(replace_dict, inplace=True)</code>\n",
    "</details>"
   ]
  },
  {
   "cell_type": "code",
   "execution_count": null,
   "id": "4b6a9d76",
   "metadata": {
    "scrolled": true
   },
   "outputs": [],
   "source": [
    "# 実行して表示\n",
    "df.loc[hasnull_index]"
   ]
  },
  {
   "cell_type": "code",
   "execution_count": null,
   "id": "4fb59acb",
   "metadata": {},
   "outputs": [],
   "source": [
    "# 実行して表示\n",
    "df.isnull().sum().sum()\n",
    "# 1が表示されればOK"
   ]
  },
  {
   "cell_type": "code",
   "execution_count": null,
   "id": "82d5ab7b",
   "metadata": {},
   "outputs": [],
   "source": [
    "# df['COL_NAME'].fillna(df['COL_NAME'].mean())を繰り返すという方法がもっともシンプルです"
   ]
  },
  {
   "cell_type": "markdown",
   "id": "40b2d496",
   "metadata": {},
   "source": [
    "Exercise_22 : SimpleImputerを使って'Difference'のNaN(index=46)を中央値で補間してください"
   ]
  },
  {
   "cell_type": "code",
   "execution_count": null,
   "id": "09559211",
   "metadata": {},
   "outputs": [],
   "source": [
    "from sklearn.impute import SimpleImputer"
   ]
  },
  {
   "cell_type": "code",
   "execution_count": null,
   "id": "647c820d",
   "metadata": {},
   "outputs": [],
   "source": [
    "# 実行して表示\n",
    "# 'Difference'のmedianを確認\n",
    "df.describe().loc['50%', 'Difference']\n",
    "# 上記が不明な場合はdf.describe()から確認してください"
   ]
  },
  {
   "cell_type": "code",
   "execution_count": null,
   "id": "4e72ed16",
   "metadata": {},
   "outputs": [],
   "source": [
    "# インスタンス（オブジェクトの作成）\n",
    "median_imputer = "
   ]
  },
  {
   "cell_type": "markdown",
   "id": "846f05a6",
   "metadata": {},
   "source": [
    "<details>\n",
    "    <summary><font color='red'>解答はここをクリック</font></summary>\n",
    "    <code>median_imputer = SimpleImputer(strategy='median')</code>\n",
    "</details>"
   ]
  },
  {
   "cell_type": "code",
   "execution_count": null,
   "id": "b0148e08",
   "metadata": {},
   "outputs": [],
   "source": [
    "# fitとtransformを同時に行って、新しいカラム'Dif_Imputed'にその値を入れる\n",
    "df['Dif_Imputed'] = "
   ]
  },
  {
   "cell_type": "markdown",
   "id": "285fef98",
   "metadata": {},
   "source": [
    "<details>\n",
    "    <summary><font color='red'>解答はここをクリック</font></summary>\n",
    "    <code>df['Dif_Imputed'] = median_imputer.fit_transform(df[['Difference']])</code>\n",
    "</details>"
   ]
  },
  {
   "cell_type": "code",
   "execution_count": null,
   "id": "c006638a",
   "metadata": {},
   "outputs": [],
   "source": [
    "# 実行して表示　0.13770...\n",
    "df.loc[46, 'Dif_Imputed']"
   ]
  },
  {
   "cell_type": "markdown",
   "id": "d740947c",
   "metadata": {},
   "source": [
    "## 以上"
   ]
  }
 ],
 "metadata": {
  "kernelspec": {
   "display_name": "Python 3",
   "language": "python",
   "name": "python3"
  },
  "language_info": {
   "codemirror_mode": {
    "name": "ipython",
    "version": 3
   },
   "file_extension": ".py",
   "mimetype": "text/x-python",
   "name": "python",
   "nbconvert_exporter": "python",
   "pygments_lexer": "ipython3",
   "version": "3.7.10"
  }
 },
 "nbformat": 4,
 "nbformat_minor": 5
}
