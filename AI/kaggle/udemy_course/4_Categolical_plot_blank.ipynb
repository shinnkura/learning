{
 "cells": [
  {
   "cell_type": "markdown",
   "id": "23c6d4cc",
   "metadata": {},
   "source": [
    "<a id=0></a>\n",
    "# 4.Categorical Plot"
   ]
  },
  {
   "cell_type": "markdown",
   "id": "cfd115fa",
   "metadata": {},
   "source": [
    "---\n",
    "### [1.SearbornのデータセットからDataFrameを作成 ](#1)\n",
    "### [2.欠損値の処理 ](#2)\n",
    "### [3.欠損した年齢を考えてみる（プロットの例を示す）](#3)\n",
    "### [4.カテゴリカルプロット](#4)\n",
    "---"
   ]
  },
  {
   "cell_type": "code",
   "execution_count": null,
   "id": "5f4b23d4",
   "metadata": {
    "scrolled": false
   },
   "outputs": [],
   "source": [
    "import numpy as np\n",
    "import pandas as pd\n",
    "import matplotlib.pyplot as plt\n",
    "import seaborn as sns"
   ]
  },
  {
   "cell_type": "markdown",
   "id": "cff153af",
   "metadata": {},
   "source": [
    "---\n",
    "<a id=1></a>\n",
    "[Topへ](#0)\n",
    "\n",
    "---\n",
    "## 1. SearbornのデータセットからDataFrameを作成"
   ]
  },
  {
   "cell_type": "markdown",
   "id": "75b9359b",
   "metadata": {},
   "source": [
    "* データセット(Titanic)を読み込む\n",
    "* データセットの理解と整理、Kaggleの紹介\n",
    "* 重複カラムの処理\n",
    "---"
   ]
  },
  {
   "cell_type": "markdown",
   "id": "68f0ca02",
   "metadata": {},
   "source": [
    "データセット(Titanic)を読み込む"
   ]
  },
  {
   "cell_type": "code",
   "execution_count": null,
   "id": "e3c0d5c1",
   "metadata": {},
   "outputs": [],
   "source": [
    "# sns.get_dataset_names()に対して\n",
    "# このような関数はないというエラー、もしくは空のリストがリターンされるかもしれません\n",
    "# その場合は続くセルのload_datasetもエラーになると思われます\n",
    "# ダウンロードいただいている\"sns_datasets\"内のcsvファイルを読み込んで学習を先へお進めください"
   ]
  },
  {
   "cell_type": "markdown",
   "id": "df5d2ffa",
   "metadata": {},
   "source": [
    "データセットの理解と整理、Kaggleの紹介"
   ]
  },
  {
   "cell_type": "markdown",
   "id": "918146ac",
   "metadata": {},
   "source": [
    "<p>\n",
    "    <a href=\"https://www.kaggle.com/competitions/titanic/data\" target=\"_blank\" rel=\"noreferrer noopener\">\n",
    "        Kaggle Dataset Titanic のページへ\n",
    "    </a>\n",
    "</p>\n",
    "\n",
    "    survival : Survival\t0 = No, 1 = Yes  \n",
    "    pclass   : Ticket class\t1 = 1st, 2 = 2nd, 3 = 3rd  \n",
    "    sex\t  : Sex\t  \n",
    "    age      : Age in years  \t\n",
    "    sibsp    : # of siblings / spouses aboard the Titanic  (兄弟姉妹 / 配偶者)  \n",
    "    parch    : # of parents / children aboard the Titanic\t(親 / 子)  \n",
    "    fare     : Passenger fare\t\n",
    "    embarked : Port of Embarkation\tC = Cherbourg, Q = Queenstown, S = Southampton  \n",
    "    who      : man or female or child\n",
    "    class, who, adult_male, deck, embark_town, alive, alone\n",
    "    ※ 一部変更しています"
   ]
  },
  {
   "cell_type": "code",
   "execution_count": null,
   "id": "259bf089",
   "metadata": {},
   "outputs": [],
   "source": []
  },
  {
   "cell_type": "markdown",
   "id": "999fafd8",
   "metadata": {},
   "source": [
    "重複カラムの処理（'alive', 'class', 'adult_male', 'embark_town', 'alone'）"
   ]
  },
  {
   "cell_type": "code",
   "execution_count": null,
   "id": "48894174",
   "metadata": {},
   "outputs": [],
   "source": []
  },
  {
   "cell_type": "markdown",
   "id": "45fd1ed5",
   "metadata": {},
   "source": [
    "<p style=\"background-color:#ffd\">\n",
    "    'alive', 'class', 'adult_male', 'embark_town', 'alone' のカラムを削除 \n",
    "    </p>"
   ]
  },
  {
   "cell_type": "code",
   "execution_count": null,
   "id": "b7de6c56",
   "metadata": {},
   "outputs": [],
   "source": []
  },
  {
   "cell_type": "markdown",
   "id": "ff7ea634",
   "metadata": {},
   "source": [
    "---\n",
    "<a id=2></a>\n",
    "[Topへ](#0)\n",
    "\n",
    "---\n",
    "## 2. 欠損値の処理"
   ]
  },
  {
   "cell_type": "markdown",
   "id": "efe28235",
   "metadata": {},
   "source": [
    "* 欠損値の確認\n",
    "* 欠損値の処理('deck')\n",
    "* 欠損値の処理('embarked')：予測を試みる\n",
    "---"
   ]
  },
  {
   "cell_type": "markdown",
   "id": "c81b3ef2",
   "metadata": {},
   "source": [
    "欠損値の確認"
   ]
  },
  {
   "cell_type": "code",
   "execution_count": null,
   "id": "5a65dfa6",
   "metadata": {},
   "outputs": [],
   "source": []
  },
  {
   "cell_type": "markdown",
   "id": "04fbf81e",
   "metadata": {},
   "source": [
    "欠損値の処理('deck')"
   ]
  },
  {
   "cell_type": "code",
   "execution_count": null,
   "id": "f097db24",
   "metadata": {},
   "outputs": [],
   "source": []
  },
  {
   "cell_type": "markdown",
   "id": "f22168c1",
   "metadata": {},
   "source": [
    "欠損値の処理('embarked')：予測を試みる"
   ]
  },
  {
   "cell_type": "code",
   "execution_count": null,
   "id": "b6a5412c",
   "metadata": {},
   "outputs": [],
   "source": []
  },
  {
   "cell_type": "markdown",
   "id": "63fdca23",
   "metadata": {},
   "source": [
    "---\n",
    "<a id=3></a>\n",
    "[Topへ](#0)\n",
    "\n",
    "---\n",
    "## 3. 欠損した年齢を考えてみる（プロットの例を示す）"
   ]
  },
  {
   "cell_type": "markdown",
   "id": "e0163a8b",
   "metadata": {},
   "source": [
    "* 年齢を確認\n",
    "* 年齢の分布\n",
    "    * **sns.histplot()**\n",
    "    <p>\n",
    "        <a href=\"https://seaborn.pydata.org/generated/seaborn.histplot.html\" target=\"_blank\" rel=\"noreferrer noopener\">\n",
    "            Seaborn.histplot のページへ\n",
    "        </a>\n",
    "    </p>\n",
    "\n",
    "\n",
    "* 'age'と'pclass'の関係\n",
    "* 'age'と'sex'の関係\n",
    "* 相関関係（correlation）\n",
    "    * **sns.heatmap()**\n",
    "    <p>\n",
    "        <a href=\"https://seaborn.pydata.org/generated/seaborn.heatmap.html\" target=\"_blank\" rel=\"noreferrer noopener\">\n",
    "            Seaborn.heatmap のページへ\n",
    "        </a>\n",
    "    </p>\n",
    "\n",
    "\n",
    "* 個別の予測は困難であり、Seabornの学習がメインのため、レコードをすべて削除する\n",
    "* CSVファイルとして保存する\n",
    "\n",
    "---"
   ]
  },
  {
   "cell_type": "markdown",
   "id": "f8efd7f4",
   "metadata": {},
   "source": [
    "年齢を確認"
   ]
  },
  {
   "cell_type": "code",
   "execution_count": null,
   "id": "067187b9",
   "metadata": {},
   "outputs": [],
   "source": []
  },
  {
   "cell_type": "markdown",
   "id": "b8f3a04d",
   "metadata": {},
   "source": [
    "年齢の分布"
   ]
  },
  {
   "cell_type": "code",
   "execution_count": null,
   "id": "6fd74841",
   "metadata": {},
   "outputs": [],
   "source": []
  },
  {
   "cell_type": "code",
   "execution_count": null,
   "id": "fbaae785",
   "metadata": {},
   "outputs": [],
   "source": [
    "# google colaboratoryの場合\n",
    "# !pip install japanize-matplotlib"
   ]
  },
  {
   "cell_type": "code",
   "execution_count": null,
   "id": "b59e40b4",
   "metadata": {},
   "outputs": [],
   "source": [
    "# google colaboratoryの場合\n",
    "# import japanize_matplotlib\n",
    "# japanize_matplotlib.japanize()"
   ]
  },
  {
   "cell_type": "markdown",
   "id": "f11eb76f",
   "metadata": {},
   "source": [
    "'age'と'pclass'の関係"
   ]
  },
  {
   "cell_type": "code",
   "execution_count": null,
   "id": "1be5b710",
   "metadata": {},
   "outputs": [],
   "source": []
  },
  {
   "cell_type": "markdown",
   "id": "3abaec10",
   "metadata": {},
   "source": [
    "'age'と'sex'の関係"
   ]
  },
  {
   "cell_type": "code",
   "execution_count": null,
   "id": "e9fe55c6",
   "metadata": {},
   "outputs": [],
   "source": []
  },
  {
   "cell_type": "markdown",
   "id": "6d0824a0",
   "metadata": {},
   "source": [
    "相関関係"
   ]
  },
  {
   "cell_type": "code",
   "execution_count": null,
   "id": "9d7b9906",
   "metadata": {},
   "outputs": [],
   "source": []
  },
  {
   "cell_type": "markdown",
   "id": "10afe66b",
   "metadata": {},
   "source": [
    "個別の予測は困難であり、Seabornの学習がメインのため、レコードをすべて削除する"
   ]
  },
  {
   "cell_type": "code",
   "execution_count": null,
   "id": "68cbcd06",
   "metadata": {},
   "outputs": [],
   "source": []
  },
  {
   "cell_type": "markdown",
   "id": "37b86c84",
   "metadata": {},
   "source": [
    "CSVファイルとして保存する"
   ]
  },
  {
   "cell_type": "code",
   "execution_count": null,
   "id": "fac92b66",
   "metadata": {},
   "outputs": [],
   "source": []
  },
  {
   "cell_type": "markdown",
   "id": "ba627da6",
   "metadata": {},
   "source": [
    "---\n",
    "<a id=4></a>\n",
    "[Topへ](#0)\n",
    "\n",
    "---\n",
    "## 4. カテゴリカルプロット"
   ]
  },
  {
   "cell_type": "markdown",
   "id": "22451491",
   "metadata": {},
   "source": [
    "* キャットプロットとストリッププロット\n",
    " * **sns.catplot()**\n",
    "    <p>\n",
    "        <a href=\"https://seaborn.pydata.org/generated/seaborn.catplot.html\" target=\"_blank\" rel=\"noreferrer noopener\">\n",
    "            Seaborn.catplot のページへ\n",
    "        </a>\n",
    "    </p>\n",
    "    \n",
    "\n",
    "* カウントプロット\n",
    "    * **sns.countplot()**\n",
    "    <p>\n",
    "        <a href=\"https://seaborn.pydata.org/generated/seaborn.countplot.html\" target=\"_blank\" rel=\"noreferrer noopener\">\n",
    "            Seaborn.countplot のページへ\n",
    "        </a>\n",
    "    </p>\n",
    "\n",
    "\n",
    "* バープロット\n",
    " * **sns.barplot()**\n",
    "    <p>\n",
    "        <a href=\"https://seaborn.pydata.org/generated/seaborn.barplot.html\" target=\"_blank\" rel=\"noreferrer noopener\">\n",
    "            Seaborn.barplot のページへ\n",
    "        </a>\n",
    "    </p>\n",
    "\n",
    "\n",
    "* ボックスプロット\n",
    " * **sns.boxplot()**\n",
    "    <p>\n",
    "        <a href=\"https://seaborn.pydata.org/generated/seaborn.boxplot.html\" target=\"_blank\" rel=\"noreferrer noopener\">\n",
    "            Seaborn.boxplot のページへ\n",
    "        </a>\n",
    "    </p>\n",
    "    \n",
    "\n",
    "* バイオリンプロット\n",
    " * **sns.violinplot()**\n",
    "    <p>\n",
    "        <a href=\"https://seaborn.pydata.org/generated/seaborn.violinplot.html\" target=\"_blank\" rel=\"noreferrer noopener\">\n",
    "            Seaborn.violinplot のページへ\n",
    "        </a>\n",
    "    </p>\n",
    "    \n",
    "    \n",
    "* スウォームプロット\n",
    " * **sns.swarmplot()**\n",
    "    <p>\n",
    "        <a href=\"https://seaborn.pydata.org/generated/seaborn.swarmplot.html\" target=\"_blank\" rel=\"noreferrer noopener\">\n",
    "            Seaborn.swarmplot のページへ\n",
    "        </a>\n",
    "    </p>\n",
    "    \n",
    "\n",
    "\n",
    "---"
   ]
  },
  {
   "cell_type": "markdown",
   "id": "e40c82d3",
   "metadata": {},
   "source": [
    "キャットプロットとストリッププロット"
   ]
  },
  {
   "cell_type": "code",
   "execution_count": null,
   "id": "a32a9a48",
   "metadata": {},
   "outputs": [],
   "source": []
  },
  {
   "cell_type": "markdown",
   "id": "67b4bac4",
   "metadata": {},
   "source": [
    "カウントプロット"
   ]
  },
  {
   "cell_type": "code",
   "execution_count": null,
   "id": "a6081ed9",
   "metadata": {},
   "outputs": [],
   "source": []
  },
  {
   "cell_type": "markdown",
   "id": "9b4180b8",
   "metadata": {},
   "source": [
    "バープロット"
   ]
  },
  {
   "cell_type": "code",
   "execution_count": null,
   "id": "bae163c3",
   "metadata": {},
   "outputs": [],
   "source": []
  },
  {
   "cell_type": "markdown",
   "id": "70893b90",
   "metadata": {},
   "source": [
    "ボックスプロット"
   ]
  },
  {
   "cell_type": "code",
   "execution_count": null,
   "id": "74a342b2",
   "metadata": {},
   "outputs": [],
   "source": []
  },
  {
   "cell_type": "markdown",
   "id": "91220b46",
   "metadata": {},
   "source": [
    "バイオリンプロット"
   ]
  },
  {
   "cell_type": "code",
   "execution_count": null,
   "id": "574a9653",
   "metadata": {},
   "outputs": [],
   "source": []
  },
  {
   "cell_type": "markdown",
   "id": "dd720504",
   "metadata": {},
   "source": [
    "スウォームプロット"
   ]
  },
  {
   "cell_type": "code",
   "execution_count": null,
   "id": "a9fbe372",
   "metadata": {},
   "outputs": [],
   "source": []
  },
  {
   "cell_type": "markdown",
   "id": "f0d952ab",
   "metadata": {},
   "source": [
    "---\n",
    " <a id=4></a>\n",
    "[Topへ](#0)\n",
    "\n",
    "---\n",
    "## 以上\n",
    "    \n",
    "---"
   ]
  },
  {
   "cell_type": "code",
   "execution_count": null,
   "id": "af56fa32",
   "metadata": {},
   "outputs": [],
   "source": []
  }
 ],
 "metadata": {
  "kernelspec": {
   "display_name": "Python 3",
   "language": "python",
   "name": "python3"
  },
  "language_info": {
   "codemirror_mode": {
    "name": "ipython",
    "version": 3
   },
   "file_extension": ".py",
   "mimetype": "text/x-python",
   "name": "python",
   "nbconvert_exporter": "python",
   "pygments_lexer": "ipython3",
   "version": "3.7.10"
  }
 },
 "nbformat": 4,
 "nbformat_minor": 5
}
