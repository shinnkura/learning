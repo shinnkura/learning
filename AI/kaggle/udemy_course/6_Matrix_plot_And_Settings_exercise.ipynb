{
 "cells": [
  {
   "attachments": {},
   "cell_type": "markdown",
   "id": "40d9c665",
   "metadata": {},
   "source": [
    "---\n",
    "# 6.Matrix Plot & Settings Exercise\n",
    "---"
   ]
  },
  {
   "cell_type": "code",
   "execution_count": null,
   "id": "2fe04f33",
   "metadata": {},
   "outputs": [],
   "source": [
    "import numpy as np\n",
    "import pandas as pd\n",
    "import matplotlib.pyplot as plt\n",
    "import seaborn as sns"
   ]
  },
  {
   "cell_type": "code",
   "execution_count": null,
   "id": "0fbca9e7",
   "metadata": {
    "scrolled": false
   },
   "outputs": [],
   "source": [
    "sns.set_theme(context=\"talk\", style=\"darkgrid\", font=\"MS GOTHIC\")"
   ]
  },
  {
   "attachments": {},
   "cell_type": "markdown",
   "id": "7c624520",
   "metadata": {},
   "source": [
    "Exercise_1 : Seabornのデータセット\"iris\"を読み込んでください"
   ]
  },
  {
   "cell_type": "code",
   "execution_count": null,
   "id": "3ee14538",
   "metadata": {},
   "outputs": [],
   "source": [
    "df = sns.load_dataset('iris')\n"
   ]
  },
  {
   "attachments": {},
   "cell_type": "markdown",
   "id": "2001ef75",
   "metadata": {},
   "source": [
    "<details>\n",
    "    <summary><font color='red'>解答はここをクリック</font></summary>\n",
    "    <code>df = sns.load_dataset('iris')</code>\n",
    "</details>"
   ]
  },
  {
   "cell_type": "code",
   "execution_count": null,
   "id": "443ecdc8",
   "metadata": {
    "scrolled": true
   },
   "outputs": [],
   "source": [
    "# 実行して表示\n",
    "df.sample(3)"
   ]
  },
  {
   "attachments": {},
   "cell_type": "markdown",
   "id": "28d6b528",
   "metadata": {},
   "source": [
    "Exercise_2 : np.where()を用いて以下の実行内容と同様の結果を取得してください"
   ]
  },
  {
   "cell_type": "code",
   "execution_count": null,
   "id": "8e0f6b44",
   "metadata": {},
   "outputs": [],
   "source": [
    "# 実行して表示\n",
    "df[df['petal_length'] > 6].index"
   ]
  },
  {
   "cell_type": "code",
   "execution_count": null,
   "id": "ebdc0e4a",
   "metadata": {},
   "outputs": [],
   "source": []
  },
  {
   "attachments": {},
   "cell_type": "markdown",
   "id": "51bea31d",
   "metadata": {},
   "source": [
    "<details>\n",
    "    <summary><font color='red'>解答はここをクリック</font></summary>\n",
    "    <code>np.where(df['petal_length'] > 6)</code>\n",
    "</details>"
   ]
  },
  {
   "attachments": {},
   "cell_type": "markdown",
   "id": "4d1f6bf7",
   "metadata": {},
   "source": [
    "Exercise_3 : 'petal_length'の分布をヒストグラムで表示してください。（bins=30）"
   ]
  },
  {
   "cell_type": "code",
   "execution_count": null,
   "id": "b7207a39",
   "metadata": {
    "scrolled": true
   },
   "outputs": [],
   "source": [
    "\n",
    "plt.show()"
   ]
  },
  {
   "attachments": {},
   "cell_type": "markdown",
   "id": "fe767619",
   "metadata": {},
   "source": [
    "<details>\n",
    "    <summary><font color='red'>解答はここをクリック</font></summary>\n",
    "    <code>sns.histplot(df['petal_length'], bins=30)</code>\n",
    "</details>"
   ]
  },
  {
   "attachments": {},
   "cell_type": "markdown",
   "id": "c7add416",
   "metadata": {},
   "source": [
    "Exercise_4 : 'petal_width'で2グループに分けられると考えて、1.3より小さいレコードには'narrow'、それ以上のもには'wide'というラベルを与えます。そのラベルを持つ'pw'というカラムをdfに追加してください"
   ]
  },
  {
   "cell_type": "code",
   "execution_count": null,
   "id": "d9c71c02",
   "metadata": {},
   "outputs": [],
   "source": [
    "df['pw'] = "
   ]
  },
  {
   "attachments": {},
   "cell_type": "markdown",
   "id": "4cfffd14",
   "metadata": {},
   "source": [
    "<details>\n",
    "    <summary><font color='red'>解答はここをクリック</font></summary>\n",
    "    <code>df['pw'] = np.where(df['petal_width'] < 1.3, 'narrow', 'wide')</code>\n",
    "</details>"
   ]
  },
  {
   "cell_type": "code",
   "execution_count": null,
   "id": "4bd5c03b",
   "metadata": {},
   "outputs": [],
   "source": [
    "# 実行して表示\n",
    "df['pw'].value_counts()"
   ]
  },
  {
   "attachments": {},
   "cell_type": "markdown",
   "id": "b2c30d92",
   "metadata": {},
   "source": [
    "Exercise_5: また、'petal_length'において、第一四分数より小さいものには'short'、第三四分位数より大きいものには'long'、その他には範'normal'というラベルを持つ'pl'というカラムも同様に追加してください。　ヒント　np.select(), 繰り返し使うSeriesは変数に格納して使うことができます"
   ]
  },
  {
   "cell_type": "code",
   "execution_count": null,
   "id": "d800b79a",
   "metadata": {},
   "outputs": [],
   "source": [
    "# 実行して表示\n",
    "# 四分位数を確認してください\n",
    "df['petal_length'].describe()"
   ]
  },
  {
   "cell_type": "code",
   "execution_count": null,
   "id": "4441c007",
   "metadata": {},
   "outputs": [],
   "source": [
    "# conditionsの中で、xという変数を使ってください\n",
    "x = df['petal_length']\n",
    "conditions = \n",
    "values = ['short', 'normal', 'long']"
   ]
  },
  {
   "attachments": {},
   "cell_type": "markdown",
   "id": "0e5f822a",
   "metadata": {},
   "source": [
    "<details>\n",
    "    <summary><font color='red'>解答はここをクリック</font></summary>\n",
    "    <code>conditions = [x < 1.6, (1.6 <= x) & (x <= 5.1), 5.1 < x]</code>\n",
    "</details>"
   ]
  },
  {
   "cell_type": "code",
   "execution_count": null,
   "id": "329e81d8",
   "metadata": {},
   "outputs": [],
   "source": [
    "df['pl'] = "
   ]
  },
  {
   "attachments": {},
   "cell_type": "markdown",
   "id": "d26cf6b7",
   "metadata": {},
   "source": [
    "<details>\n",
    "    <summary><font color='red'>解答はここをクリック</font></summary>\n",
    "    <code>df['pl'] = np.select(conditions, values)</code>\n",
    "</details>"
   ]
  },
  {
   "cell_type": "code",
   "execution_count": null,
   "id": "cbd423f9",
   "metadata": {},
   "outputs": [],
   "source": [
    "# 実行して表示\n",
    "df.sample(3)"
   ]
  },
  {
   "attachments": {},
   "cell_type": "markdown",
   "id": "5a7f657f",
   "metadata": {},
   "source": [
    "Exercise_7: 各特徴量（説明変数）の相関関係を Heatmap で表示してください  \n",
    "※ パラメータには data=df.corr() のみを指定してください"
   ]
  },
  {
   "cell_type": "code",
   "execution_count": null,
   "id": "49325506",
   "metadata": {},
   "outputs": [],
   "source": [
    "\n",
    "plt.show()"
   ]
  },
  {
   "attachments": {},
   "cell_type": "markdown",
   "id": "f5a8ca71",
   "metadata": {},
   "source": [
    "<details>\n",
    "    <summary><font color='red'>解答はここをクリック</font></summary>\n",
    "    <code>sns.heatmap(df.corr())</code>\n",
    "</details>"
   ]
  },
  {
   "attachments": {},
   "cell_type": "markdown",
   "id": "9a5af0b4",
   "metadata": {},
   "source": [
    "Exercise_8 : 上記の Heatmap に対して、相関係数の表示（小数3桁まで）、カラーマップの指定を Spectral、正方形での表示、カラーバーの最小値を -1 に設定してください"
   ]
  },
  {
   "cell_type": "code",
   "execution_count": null,
   "id": "e042dba1",
   "metadata": {},
   "outputs": [],
   "source": [
    "\n",
    "plt.show()"
   ]
  },
  {
   "attachments": {},
   "cell_type": "markdown",
   "id": "3932c444",
   "metadata": {},
   "source": [
    "<details>\n",
    "    <summary><font color='red'>解答はここをクリック</font></summary>\n",
    "    <code>sns.clustermap(df.corr(), annot=True, fmt='.3f', cmap='Spectral', vmin=-1, linewidth=1, figsize=(6, 6), annot_kws={'size':12})</code>\n",
    "</details>"
   ]
  },
  {
   "attachments": {},
   "cell_type": "markdown",
   "id": "bf221ee6",
   "metadata": {},
   "source": [
    "Exercise_9 : 上記のそのままの内容を Clustermap で表してください。一度表示させた後、 annotationの文字サイズを若干小さく調整し、枠線を引くことで各セルを分離してください。　※ square=Trueは不要, figsize=(6, 6)"
   ]
  },
  {
   "cell_type": "code",
   "execution_count": null,
   "id": "738164e0",
   "metadata": {
    "scrolled": true
   },
   "outputs": [],
   "source": [
    "\n",
    "plt.show()"
   ]
  },
  {
   "attachments": {},
   "cell_type": "markdown",
   "id": "df62f470",
   "metadata": {},
   "source": [
    "<details>\n",
    "    <summary><font color='red'>解答はここをクリック</font></summary>\n",
    "    <code>sns.clustermap(df.corr(), annot=True, fmt='.3f', cmap='Spectral', square=True, vmin=-1, linewidth=1, annot_kws={'size':12})</code>\n",
    "</details>"
   ]
  },
  {
   "cell_type": "code",
   "execution_count": null,
   "id": "06cc2179",
   "metadata": {},
   "outputs": [],
   "source": [
    "# 実行して表示\n",
    "df.head()"
   ]
  },
  {
   "attachments": {},
   "cell_type": "markdown",
   "id": "a199d105",
   "metadata": {},
   "source": [
    "Exercise_10 : データタイプが'float'の四つの特徴量の相関を４×４のペアプロットで表示してください。対角線上はヒストグラム、対角線より上にはKDEプロット、対角線より下にはREGプロットとして表示してください(height=2.5)"
   ]
  },
  {
   "cell_type": "code",
   "execution_count": null,
   "id": "ee3f64ca",
   "metadata": {},
   "outputs": [],
   "source": [
    "g = \n",
    "\n",
    "plt.show()"
   ]
  },
  {
   "attachments": {},
   "cell_type": "markdown",
   "id": "594ffcd3",
   "metadata": {},
   "source": [
    "<details>\n",
    "    <summary><font color='red'>解答はここをクリック</font></summary>\n",
    "    <code>g = sns.PairGrid(df, vars=df.select_dtypes(float).columns, height=2.5)</code><br>\n",
    "    <code>g.map_diag(sns.histplot)</code><br>\n",
    "    <code>g.map_upper(sns.kdeplot)</code><br>\n",
    "    <code>g.map_lower(sns.regplot)</code><br>\n",
    "</details>"
   ]
  },
  {
   "attachments": {},
   "cell_type": "markdown",
   "id": "8abf28a2",
   "metadata": {},
   "source": [
    "Exercise_11 : 上記のペアプロットにおいて、'species'で色分けを行い、その色分けの内訳を示すレジェンドも表示して下さい。また、ヒストグラムには multiple='fill'を指定してください"
   ]
  },
  {
   "cell_type": "code",
   "execution_count": null,
   "id": "82bbe7a7",
   "metadata": {
    "scrolled": true
   },
   "outputs": [],
   "source": [
    "g = \n",
    "\n",
    "plt.show()"
   ]
  },
  {
   "attachments": {},
   "cell_type": "markdown",
   "id": "16a5cdcd",
   "metadata": {},
   "source": [
    "<details>\n",
    "    <summary><font color='red'>解答はここをクリック</font></summary>\n",
    "    <code>g = sns.PairGrid(df, vars=df.select_dtypes(float).columns, height=2.5, hue='species')</code><br>\n",
    "    <code>g.map_diag(sns.histplot, multiple='fill')</code><br>\n",
    "    <code>g.map_upper(sns.kdeplot)</code><br>\n",
    "    <code>g.map_lower(sns.regplot)</code><br>\n",
    "    <code>g.add_legend()</code>  \n",
    "</details>"
   ]
  },
  {
   "attachments": {},
   "cell_type": "markdown",
   "id": "57f0424d",
   "metadata": {},
   "source": [
    "Exercise_12 : FacetGridを作成します。ひとまず、行方向が'pw'、列方向が'pl'のクラスでの分類となるグリッドを作成してください。axesの中は空白でかまいません（height=5）"
   ]
  },
  {
   "cell_type": "code",
   "execution_count": null,
   "id": "08c9989f",
   "metadata": {
    "scrolled": false
   },
   "outputs": [],
   "source": [
    "g = \n",
    "\n",
    "plt.show()"
   ]
  },
  {
   "attachments": {},
   "cell_type": "markdown",
   "id": "b7e13874",
   "metadata": {},
   "source": [
    "<details>\n",
    "    <summary><font color='red'>解答はここをクリック</font></summary>\n",
    "    <code>g = sns.FacetGrid(df, row='pw', col='pl', height=5)</code><br>\n",
    "</details>"
   ]
  },
  {
   "attachments": {},
   "cell_type": "markdown",
   "id": "3434bae4",
   "metadata": {},
   "source": [
    "Exercise_13 : 続いて、色分けを'species'、プロットの種類をREGプロットとし、'sepal_length'と'sepal_width'の関係を表示してください"
   ]
  },
  {
   "cell_type": "code",
   "execution_count": null,
   "id": "b336af72",
   "metadata": {},
   "outputs": [],
   "source": [
    "g = \n",
    "\n",
    "plt.show()"
   ]
  },
  {
   "attachments": {},
   "cell_type": "markdown",
   "id": "d0eb05a8",
   "metadata": {},
   "source": [
    "<details>\n",
    "    <summary><font color='red'>解答はここをクリック</font></summary>\n",
    "    <code>g = sns.FacetGrid(df, row='pw', col='pl', height=5, hue='species')</code><br>\n",
    "    <code>g.map(sns.scatterplot, 'sepal_length', 'sepal_width')</code><br>\n",
    "    <code>g.add_legend()</code>  \n",
    "</details>"
   ]
  },
  {
   "attachments": {},
   "cell_type": "markdown",
   "id": "15c2c0f0",
   "metadata": {},
   "source": [
    "Exercise_14 : 'pl'のカウント数を元に'short'、'normal'、'long'の占める割合を円グラフで表してください。パーセントの表示桁数は小数第一位まで、また、12時の地点から時計回りに並ぶように調整してください。"
   ]
  },
  {
   "cell_type": "code",
   "execution_count": null,
   "id": "85ffa178",
   "metadata": {},
   "outputs": [],
   "source": [
    "# 実行して表示\n",
    "df['pl'].value_counts()"
   ]
  },
  {
   "cell_type": "code",
   "execution_count": null,
   "id": "ae51f720",
   "metadata": {
    "scrolled": true
   },
   "outputs": [],
   "source": [
    "plt.figure(figsize=(8,6))\n",
    "\n",
    "plt.show()"
   ]
  },
  {
   "attachments": {},
   "cell_type": "markdown",
   "id": "07650dc5",
   "metadata": {},
   "source": [
    "<details>\n",
    "    <summary><font color='red'>解答はここをクリック</font></summary>\n",
    "    <code>plt.pie(df['pl'].value_counts(), labels=df['pl'].value_counts().index, autopct='%.1f%%', counterclock=False, startangle=90)</code><br>\n",
    "</details>"
   ]
  },
  {
   "attachments": {},
   "cell_type": "markdown",
   "id": "99816b3a",
   "metadata": {},
   "source": [
    "Exercise_15 : 以下の画像のようなグラフを作成します。ひとつずつ順に入力し完成させてください  \n",
    "※ #1などの下に適切なコードを記述してください"
   ]
  },
  {
   "attachments": {},
   "cell_type": "markdown",
   "id": "07182e70",
   "metadata": {},
   "source": [
    "<p><img src=\"./images/sepal_width.png\" alt=\"ここに画像が表示されていない場合はリソースファイルの ./images/sepal_width.png をご覧ください　ｍ(_ _)ｍ\" style='margin:0'/></p> "
   ]
  },
  {
   "cell_type": "code",
   "execution_count": null,
   "id": "012f0ef3",
   "metadata": {},
   "outputs": [],
   "source": [
    "# 実行して表示。このグラフを上記と同じになるよう変更します\n",
    "plt.figure(figsize=(8,6))\n",
    "sns.boxplot(data=df, x='pl', y='sepal_width', hue='species')\n",
    "plt.show()"
   ]
  },
  {
   "cell_type": "code",
   "execution_count": null,
   "id": "78d89e7b",
   "metadata": {},
   "outputs": [],
   "source": [
    "# 実行して表示\n",
    "plt.figure(figsize=(8,6))\n",
    "sns.boxplot(data=df, x='pl', y='sepal_width', hue='species')\n",
    "\n",
    "# 1.タイトル\n",
    "\n",
    "\n",
    "# 2.Yラベル\n",
    "\n",
    "\n",
    "# 3.Y軸の目盛り\n",
    "\n",
    "\n",
    "# 4.レジェンド\n",
    "\n",
    "\n",
    "# 5.平均値の水平線\n",
    "\n",
    "\n",
    "plt.show()"
   ]
  },
  {
   "attachments": {},
   "cell_type": "markdown",
   "id": "b3bfca91",
   "metadata": {},
   "source": [
    "<details>\n",
    "    <summary><font color='red'>解答はここをクリック　1</font></summary>\n",
    "    <code>plt.title('Title here', fontsize=30, pad=20, color='red')</code><br>\n",
    "</details>"
   ]
  },
  {
   "attachments": {},
   "cell_type": "markdown",
   "id": "c3c3e787",
   "metadata": {},
   "source": [
    "<details>\n",
    "    <summary><font color='red'>解答はここをクリック　2</font></summary>\n",
    "    <code>plt.ylabel('sepal_width', color='red', fontsize='large', labelpad=20)</code><br>\n",
    "</details>"
   ]
  },
  {
   "attachments": {},
   "cell_type": "markdown",
   "id": "8f4b1f8e",
   "metadata": {},
   "source": [
    "<details>\n",
    "    <summary><font color='red'>解答はここをクリック　3</font></summary>\n",
    "    <code>plt.yticks(ticks=[0, 2, 3, 4, 5])</code><br>\n",
    "</details>"
   ]
  },
  {
   "attachments": {},
   "cell_type": "markdown",
   "id": "b10c811b",
   "metadata": {},
   "source": [
    "<details>\n",
    "    <summary><font color='red'>解答はここをクリック　4</font></summary>\n",
    "    <code>plt.legend(loc='lower center')</code><br>\n",
    "</details>"
   ]
  },
  {
   "attachments": {},
   "cell_type": "markdown",
   "id": "e3578cdc",
   "metadata": {},
   "source": [
    "<details>\n",
    "    <summary><font color='red'>解答はここをクリック　5</font></summary>\n",
    "    <code>plt.axhline(df['sepal_width'].mean(), color='red', linewidth=1)</code><br>\n",
    "</details>"
   ]
  },
  {
   "attachments": {},
   "cell_type": "markdown",
   "id": "049bd476",
   "metadata": {},
   "source": [
    "Exercise_16 : 以下の画像のようなグラフを作成します。ひとつずつ順に入力し完成させてください  \n",
    "※ #1などの下に適切なコードを記述してください"
   ]
  },
  {
   "attachments": {},
   "cell_type": "markdown",
   "id": "35ed4987",
   "metadata": {},
   "source": [
    "<p><img src=\"./images/4_plots.png\" alt=\"ここに画像が表示されていない場合はリソースファイルの ./images/4plots.png をご覧ください　ｍ(_ _)ｍ\" style=\"margin:0\"/></p> "
   ]
  },
  {
   "cell_type": "code",
   "execution_count": null,
   "id": "ff4ff392",
   "metadata": {},
   "outputs": [],
   "source": [
    "# 実行して表示\n",
    "fig, axes = plt.subplots(2, 2, figsize=(12,8), tight_layout=True)"
   ]
  },
  {
   "cell_type": "code",
   "execution_count": null,
   "id": "d35db6e0",
   "metadata": {
    "scrolled": false
   },
   "outputs": [],
   "source": [
    "fig, axes = plt.subplots(2, 2, figsize=(12,8), tight_layout=True)\n",
    "\n",
    "# 1.(0, 0)にラインプロット\n",
    "\n",
    "\n",
    "# 2.(0, 1)にヒストプロット\n",
    "\n",
    "\n",
    "# 3.(1, 0)にバイオリンプロット\n",
    "\n",
    "\n",
    "# 4.(1, 1)にスウォームプロット, レジェンドの位置を右下に\n",
    "\n",
    "\n",
    "# 5.全体のタイトル\n",
    "\n",
    "\n",
    "# 6.プロットの間隔を少し空ける\n",
    "\n",
    "\n",
    "# 7.背景色の変更 \"#fdd\"\n",
    "\n",
    "\n",
    "# 8.X軸ラベルの設定 \"INDEX\"\n",
    "\n",
    "\n",
    "# 9.Y軸目盛の変更\n",
    "\n",
    "\n",
    "# 10.テキストの挿入（X軸の目盛りはそれぞれの中心軸が0,1,2）\n",
    "\n",
    "\n",
    "plt.show()"
   ]
  },
  {
   "attachments": {},
   "cell_type": "markdown",
   "id": "6aafde80",
   "metadata": {},
   "source": [
    "<details>\n",
    "    <summary><font color='red'>解答はここをクリック　1</font></summary>\n",
    "    <code>sns.lineplot(data=df, x=df.index, y='petal_length', hue='species', ax=axes[0, 0])</code><br>\n",
    "</details>"
   ]
  },
  {
   "attachments": {},
   "cell_type": "markdown",
   "id": "59fdeeae",
   "metadata": {},
   "source": [
    "<details>\n",
    "    <summary><font color='red'>解答はここをクリック　2</font></summary>\n",
    "    <code>sns.histplot(data=df, x='pl', ax=axes[0, 1], hue='species', multiple='dodge')</code><br>\n",
    "</details>"
   ]
  },
  {
   "attachments": {},
   "cell_type": "markdown",
   "id": "d6f863e2",
   "metadata": {},
   "source": [
    "<details>\n",
    "    <summary><font color='red'>解答はここをクリック　3</font></summary>\n",
    "    <code>sns.violinplot(data=df, x='species', y='petal_width', ax=axes[1, 0])</code><br>\n",
    "</details>"
   ]
  },
  {
   "attachments": {},
   "cell_type": "markdown",
   "id": "3824f144",
   "metadata": {},
   "source": [
    "<details>\n",
    "    <summary><font color='red'>解答はここをクリック　4</font></summary>\n",
    "    <code>sns.swarmplot(data=df, x='pw', y='petal_length', hue='species', ax=axes[1, 1])</code><br>\n",
    "    <code>axes[1, 1].legend(loc='lower right')</code><br>\n",
    "</details>"
   ]
  },
  {
   "attachments": {},
   "cell_type": "markdown",
   "id": "98e439d5",
   "metadata": {},
   "source": [
    "<details>\n",
    "    <summary><font color='red'>解答はここをクリック　5</font></summary>\n",
    "    <code>fig.suptitle(\"Title here\", size=40, color='red')</code><br>\n",
    "</details>"
   ]
  },
  {
   "attachments": {},
   "cell_type": "markdown",
   "id": "b2590a06",
   "metadata": {},
   "source": [
    "<details>\n",
    "    <summary><font color='red'>解答はここをクリック　6</font></summary>\n",
    "    <code>fig.subplots_adjust(wspace=2, hspace=1)</code><br>\n",
    "</details>"
   ]
  },
  {
   "attachments": {},
   "cell_type": "markdown",
   "id": "d284ccb2",
   "metadata": {},
   "source": [
    "<details>\n",
    "    <summary><font color='red'>解答はここをクリック　7</font></summary>\n",
    "    <code>axes[0, 0].set_facecolor(\"#fdd\")</code><br>\n",
    "</details>"
   ]
  },
  {
   "attachments": {},
   "cell_type": "markdown",
   "id": "4bda6444",
   "metadata": {},
   "source": [
    "<details>\n",
    "    <summary><font color='red'>解答はここをクリック　8</font></summary>\n",
    "    <code>axes[0, 0].set_xlabel('INDEX', color='red')</code><br>\n",
    "</details>"
   ]
  },
  {
   "attachments": {},
   "cell_type": "markdown",
   "id": "32cc0b2c",
   "metadata": {},
   "source": [
    "<details>\n",
    "    <summary><font color='red'>解答はここをクリック　9</font></summary>\n",
    "    <code>axes[1, 0].set_yticks(np.linspace(0, 3, 7))\n",
    "</code><br>\n",
    "</details>"
   ]
  },
  {
   "attachments": {},
   "cell_type": "markdown",
   "id": "0e99d453",
   "metadata": {},
   "source": [
    "<details>\n",
    "    <summary><font color='red'>解答はここをクリック　10</font></summary>\n",
    "    <code>axes[1, 0].text(1, 0.1, 'Good job!', size=30, c='red')</code><br>\n",
    "</details>"
   ]
  },
  {
   "attachments": {},
   "cell_type": "markdown",
   "id": "d740947c",
   "metadata": {},
   "source": [
    "## 以上"
   ]
  }
 ],
 "metadata": {
  "kernelspec": {
   "display_name": "Python 3",
   "language": "python",
   "name": "python3"
  },
  "language_info": {
   "codemirror_mode": {
    "name": "ipython",
    "version": 3
   },
   "file_extension": ".py",
   "mimetype": "text/x-python",
   "name": "python",
   "nbconvert_exporter": "python",
   "pygments_lexer": "ipython3",
   "version": "3.7.10"
  }
 },
 "nbformat": 4,
 "nbformat_minor": 5
}
