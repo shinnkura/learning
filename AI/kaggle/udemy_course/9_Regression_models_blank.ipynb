{
 "cells": [
  {
   "cell_type": "markdown",
   "id": "23c6d4cc",
   "metadata": {},
   "source": [
    "<a id=0></a>\n",
    "# 9.Regression Models\n",
    "※　代表的な回帰分析モデルの紹介  \n",
    "※　モデルの評価、交差検証、パラメータのグリッドサーチ"
   ]
  },
  {
   "cell_type": "markdown",
   "id": "cfd115fa",
   "metadata": {},
   "source": [
    "---\n",
    "### [1. 探索的データ分析（EDA）](#1)\n",
    "### [2. LinearRegression](#2)\n",
    "### [3. RandomForestRegressor](#3)\n",
    "### [4. KNeighborsRegressor](#4)\n",
    "### [5. モデルの評価](#5)\n",
    "### [6. クロスバリデーションとグリッドサーチ](#6)\n",
    "---"
   ]
  },
  {
   "cell_type": "code",
   "execution_count": null,
   "id": "5f4b23d4",
   "metadata": {
    "scrolled": false
   },
   "outputs": [],
   "source": [
    "import numpy as np\n",
    "import pandas as pd\n",
    "import matplotlib.pyplot as plt\n",
    "import seaborn as sns\n",
    "sns.set_theme(context='talk', style='darkgrid', font='MS GOTHIC')"
   ]
  },
  {
   "cell_type": "markdown",
   "id": "220db2a7",
   "metadata": {},
   "source": [
    "---\n",
    "<a id=1></a>\n",
    "[Topへ](#0)\n",
    "\n",
    "---\n",
    "## 1. 探索的データ分析（EDA）¶"
   ]
  },
  {
   "cell_type": "markdown",
   "id": "79cecc8b",
   "metadata": {},
   "source": [
    "* 糖尿病のデータセット\n",
    "* 分布の確認\n",
    "* 相関関係\n",
    "* トレインデータ、テストデータ"
   ]
  },
  {
   "cell_type": "markdown",
   "id": "b782230c",
   "metadata": {},
   "source": [
    "糖尿病のデータセット"
   ]
  },
  {
   "cell_type": "code",
   "execution_count": null,
   "id": "41b97944",
   "metadata": {},
   "outputs": [],
   "source": []
  },
  {
   "cell_type": "markdown",
   "id": "8581f60e",
   "metadata": {},
   "source": [
    "分布の確認"
   ]
  },
  {
   "cell_type": "code",
   "execution_count": null,
   "id": "e26f2853",
   "metadata": {},
   "outputs": [],
   "source": []
  },
  {
   "cell_type": "markdown",
   "id": "43224741",
   "metadata": {},
   "source": [
    "相関関係"
   ]
  },
  {
   "cell_type": "code",
   "execution_count": null,
   "id": "52a37eac",
   "metadata": {},
   "outputs": [],
   "source": []
  },
  {
   "cell_type": "markdown",
   "id": "3d8e65e8",
   "metadata": {},
   "source": [
    "性別で分けてみる"
   ]
  },
  {
   "cell_type": "code",
   "execution_count": null,
   "id": "5250c541",
   "metadata": {},
   "outputs": [],
   "source": []
  },
  {
   "cell_type": "markdown",
   "id": "29789276",
   "metadata": {},
   "source": [
    "トレインデータ、テストデータ"
   ]
  },
  {
   "cell_type": "code",
   "execution_count": null,
   "id": "abcac311",
   "metadata": {},
   "outputs": [],
   "source": []
  },
  {
   "cell_type": "markdown",
   "id": "51da6ec9",
   "metadata": {},
   "source": [
    "---\n",
    "<a id=2></a>\n",
    "[Topへ](#0)\n",
    "\n",
    "---\n",
    "## 2. LinearRegression"
   ]
  },
  {
   "cell_type": "markdown",
   "id": "1f939f3c",
   "metadata": {},
   "source": [
    "* モデルのインポート  \n",
    "    https://scikit-learn.org/stable/modules/generated/sklearn.linear_model.LinearRegression.html  \n",
    "* モデルインスタンスの作成\n",
    "* モデルの構築・属性・予測・スコア\n",
    "* モデルの構築・予測・属性\n",
    "* 実測値と予測値の比較\n",
    "* スコア\n",
    "* 性別ごとのデータで試してみる\n",
    "---"
   ]
  },
  {
   "cell_type": "markdown",
   "id": "b16bcb9a",
   "metadata": {},
   "source": [
    "モデルのインポート"
   ]
  },
  {
   "cell_type": "code",
   "execution_count": null,
   "id": "5a755836",
   "metadata": {},
   "outputs": [],
   "source": []
  },
  {
   "cell_type": "markdown",
   "id": "5a7b2379",
   "metadata": {},
   "source": [
    "モデルインスタンスの作成"
   ]
  },
  {
   "cell_type": "code",
   "execution_count": null,
   "id": "431239c9",
   "metadata": {},
   "outputs": [],
   "source": []
  },
  {
   "cell_type": "markdown",
   "id": "e1e84b07",
   "metadata": {},
   "source": [
    "モデルの構築・予測・属性"
   ]
  },
  {
   "cell_type": "code",
   "execution_count": null,
   "id": "c347cc44",
   "metadata": {},
   "outputs": [],
   "source": []
  },
  {
   "cell_type": "code",
   "execution_count": null,
   "id": "7468c36b",
   "metadata": {},
   "outputs": [],
   "source": [
    "test = np.array([ 0.7076875, -0.04464164, 0.01211685, 0.04252958, 0.07135654, 0.0534871 , 0.05232174, -0.00259226,  0.02539313, -0.0052198 ]).reshape(1, -1)\n"
   ]
  },
  {
   "cell_type": "markdown",
   "id": "e584036b",
   "metadata": {},
   "source": [
    "実測値と予測値の比較"
   ]
  },
  {
   "cell_type": "code",
   "execution_count": null,
   "id": "c2e4cccd",
   "metadata": {},
   "outputs": [],
   "source": []
  },
  {
   "cell_type": "markdown",
   "id": "d4b73b22",
   "metadata": {},
   "source": [
    "スコア"
   ]
  },
  {
   "cell_type": "code",
   "execution_count": null,
   "id": "4868ab4c",
   "metadata": {},
   "outputs": [],
   "source": []
  },
  {
   "cell_type": "markdown",
   "id": "fe4d5b45",
   "metadata": {},
   "source": [
    "性別ごとのデータで試してみる"
   ]
  },
  {
   "cell_type": "code",
   "execution_count": null,
   "id": "3b12cc35",
   "metadata": {},
   "outputs": [],
   "source": []
  },
  {
   "cell_type": "markdown",
   "id": "3d968c1a",
   "metadata": {},
   "source": [
    "---\n",
    "<a id=3></a>\n",
    "[Topへ](#0)\n",
    "\n",
    "---\n",
    "## 3. RandomForestRegressor"
   ]
  },
  {
   "cell_type": "markdown",
   "id": "bfaec4bf",
   "metadata": {},
   "source": [
    "* モデルのインポート  \n",
    "    https://scikit-learn.org/stable/modules/generated/sklearn.ensemble.RandomForestRegressor.html \n",
    "* モデルインスタンスの作成\n",
    "* モデルの構築・属性・予測・スコア\n",
    "* パラメータを変更してみる\n",
    "* Treeの可視化\n",
    "---"
   ]
  },
  {
   "cell_type": "markdown",
   "id": "33514094",
   "metadata": {},
   "source": [
    "モデルのインポート"
   ]
  },
  {
   "cell_type": "code",
   "execution_count": null,
   "id": "a863a507",
   "metadata": {},
   "outputs": [],
   "source": []
  },
  {
   "cell_type": "markdown",
   "id": "36819a06",
   "metadata": {},
   "source": [
    "モデルインスタンスの作成"
   ]
  },
  {
   "cell_type": "code",
   "execution_count": null,
   "id": "b6698d1e",
   "metadata": {},
   "outputs": [],
   "source": []
  },
  {
   "cell_type": "markdown",
   "id": "9412a6d2",
   "metadata": {},
   "source": [
    "モデルの構築・属性・予測・スコア"
   ]
  },
  {
   "cell_type": "code",
   "execution_count": null,
   "id": "a57c9162",
   "metadata": {},
   "outputs": [],
   "source": []
  },
  {
   "cell_type": "markdown",
   "id": "87e6948e",
   "metadata": {},
   "source": [
    "パラメータを変更してみる"
   ]
  },
  {
   "cell_type": "code",
   "execution_count": null,
   "id": "36c3afe1",
   "metadata": {},
   "outputs": [],
   "source": []
  },
  {
   "cell_type": "markdown",
   "id": "690977c3",
   "metadata": {},
   "source": [
    "Treeの可視化"
   ]
  },
  {
   "cell_type": "code",
   "execution_count": null,
   "id": "ba78a238",
   "metadata": {},
   "outputs": [],
   "source": []
  },
  {
   "cell_type": "markdown",
   "id": "93d5191c",
   "metadata": {},
   "source": [
    "---\n",
    "<a id=4></a>\n",
    "[Topへ](#0)\n",
    "\n",
    "---\n",
    "## 4. KNeighborsRegressor"
   ]
  },
  {
   "cell_type": "markdown",
   "id": "a06dcbc7",
   "metadata": {},
   "source": [
    "* モデルのインポート  \n",
    "     https://scikit-learn.org/stable/modules/generated/sklearn.neighbors.KNeighborsRegressor.html  \n",
    "* モデルインスタンスの作成・スコア\n",
    "* パラメータを変更してみる\n",
    "---"
   ]
  },
  {
   "cell_type": "markdown",
   "id": "b77e5e8f",
   "metadata": {},
   "source": [
    "モデルのインポート"
   ]
  },
  {
   "cell_type": "code",
   "execution_count": null,
   "id": "60369a99",
   "metadata": {},
   "outputs": [],
   "source": []
  },
  {
   "cell_type": "markdown",
   "id": "f0db0c49",
   "metadata": {},
   "source": [
    "モデルインスタンスの作成・スコア"
   ]
  },
  {
   "cell_type": "code",
   "execution_count": null,
   "id": "4b9fb70a",
   "metadata": {},
   "outputs": [],
   "source": []
  },
  {
   "cell_type": "markdown",
   "id": "221ac216",
   "metadata": {},
   "source": [
    "パラメータを変更してみる"
   ]
  },
  {
   "cell_type": "code",
   "execution_count": null,
   "id": "6e9b9910",
   "metadata": {},
   "outputs": [],
   "source": []
  },
  {
   "cell_type": "markdown",
   "id": "cff153af",
   "metadata": {},
   "source": [
    "---\n",
    "<a id=5></a>\n",
    "[Topへ](#0)\n",
    "\n",
    "---\n",
    "## 5. モデルの評価方法"
   ]
  },
  {
   "cell_type": "markdown",
   "id": "75b9359b",
   "metadata": {},
   "source": [
    "* 評価指標\n",
    "* モデルを評価する\n",
    "* R2スコア(決定係数)とは\n",
    "---"
   ]
  },
  {
   "cell_type": "markdown",
   "id": "3b9d2b53",
   "metadata": {},
   "source": [
    "評価指標  \n",
    "絶対平均誤差　/　二乗平均誤差　/　絶対パーセント誤差　/　R二乗値（決定係数）"
   ]
  },
  {
   "cell_type": "code",
   "execution_count": null,
   "id": "2f5ccdb6",
   "metadata": {},
   "outputs": [],
   "source": []
  },
  {
   "cell_type": "markdown",
   "id": "b3b801ca",
   "metadata": {},
   "source": [
    "モデルを評価する  "
   ]
  },
  {
   "cell_type": "code",
   "execution_count": null,
   "id": "5277e84d",
   "metadata": {},
   "outputs": [],
   "source": []
  },
  {
   "cell_type": "markdown",
   "id": "8a0309a1",
   "metadata": {},
   "source": [
    "R2スコア(決定係数)とは"
   ]
  },
  {
   "cell_type": "markdown",
   "id": "891e6811",
   "metadata": {},
   "source": [
    "* R2 = 1 - Σ{( true_value(i) - pred(i) ) ** 2} / Σ{( true_value(i) - true_value_mean ) ** 2}\n",
    "* 1に近いほど回帰式の精度が高い\n",
    "* もし、すべてを「平均」で予想した場合(最も安易な？予想)　=> R2 = 0\n",
    "* 0.5以上：予測精度がそれなりに高いと言える\n",
    "* 0.7以上：予測精度が高い\n",
    "* 0.9以上：精度が非常に高い。ただし、過学習でないかの検討も必要  \n",
    "※　絶対的な基準は存在しません。あくまでも目安として用いる指標です"
   ]
  },
  {
   "cell_type": "markdown",
   "id": "41692ceb",
   "metadata": {},
   "source": [
    "---\n",
    "<a id=6></a>\n",
    "[Topへ](#0)\n",
    "\n",
    "---\n",
    "## 6. クロスバリデーションとグリッドサーチ"
   ]
  },
  {
   "cell_type": "markdown",
   "id": "b256686a",
   "metadata": {},
   "source": [
    "* KFold  \n",
    "    https://scikit-learn.org/stable/modules/generated/sklearn.model_selection.KFold.html\n",
    "* cross_val_score  \n",
    "    https://scikit-learn.org/stable/modules/generated/sklearn.model_selection.cross_val_score.html\n",
    "* GridSearchCV  \n",
    "    https://scikit-learn.org/stable/modules/generated/sklearn.model_selection.GridSearchCV.html\n",
    "---"
   ]
  },
  {
   "cell_type": "markdown",
   "id": "3956c9e4",
   "metadata": {},
   "source": [
    "KFold"
   ]
  },
  {
   "cell_type": "code",
   "execution_count": null,
   "id": "4611bce3",
   "metadata": {},
   "outputs": [],
   "source": []
  },
  {
   "cell_type": "markdown",
   "id": "e4826579",
   "metadata": {},
   "source": [
    "cross_val_score"
   ]
  },
  {
   "cell_type": "code",
   "execution_count": null,
   "id": "fc28754d",
   "metadata": {},
   "outputs": [],
   "source": []
  },
  {
   "cell_type": "markdown",
   "id": "68f0ca02",
   "metadata": {},
   "source": [
    "GridSearchCV"
   ]
  },
  {
   "cell_type": "code",
   "execution_count": null,
   "id": "945f748e",
   "metadata": {},
   "outputs": [],
   "source": []
  },
  {
   "cell_type": "code",
   "execution_count": null,
   "id": "452532c1",
   "metadata": {},
   "outputs": [],
   "source": [
    "# rf_modelのパラメータを変更する\n",
    "# max_depth=4, min_samples_split=5, max_features=0.6, max_samples=0.7\n",
    "params = {\n",
    "    'max_depth':[2, 6, 10],\n",
    "    'max_features':[0.5, 0.9],\n",
    "    'max_samples':[0.5, 0.9],\n",
    "    'min_samples_split':[3, 6]\n",
    "}\n",
    "# 計２４の組み合わせで結果を取得できる"
   ]
  },
  {
   "cell_type": "markdown",
   "id": "f0d952ab",
   "metadata": {},
   "source": [
    "---\n",
    " <a id=4></a>\n",
    "[Topへ](#0)\n",
    "\n",
    "---\n",
    "## 以上\n",
    "    \n",
    "---"
   ]
  }
 ],
 "metadata": {
  "kernelspec": {
   "display_name": "Python 3",
   "language": "python",
   "name": "python3"
  },
  "language_info": {
   "codemirror_mode": {
    "name": "ipython",
    "version": 3
   },
   "file_extension": ".py",
   "mimetype": "text/x-python",
   "name": "python",
   "nbconvert_exporter": "python",
   "pygments_lexer": "ipython3",
   "version": "3.7.10"
  }
 },
 "nbformat": 4,
 "nbformat_minor": 5
}
