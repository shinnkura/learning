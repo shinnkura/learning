{
 "cells": [
  {
   "cell_type": "markdown",
   "id": "23c6d4cc",
   "metadata": {},
   "source": [
    "<a id=0></a>\n",
    "# 9.Regression Models\n",
    "※　代表的な回帰分析モデルの紹介  \n",
    "※　モデルの評価、交差検証、パラメータのグリッドサーチ"
   ]
  },
  {
   "cell_type": "markdown",
   "id": "cfd115fa",
   "metadata": {},
   "source": [
    "---\n",
    "### [1. 探索的データ分析（EDA）](#1)\n",
    "### [2. LinearRegression](#2)\n",
    "### [3. RandomForestRegressor](#3)\n",
    "### [4. KNeighborsRegressor](#4)\n",
    "### [5. モデルの評価](#5)\n",
    "### [6. クロスバリデーションとグリッドサーチ](#6)\n",
    "---"
   ]
  },
  {
   "cell_type": "code",
   "execution_count": null,
   "id": "5f4b23d4",
   "metadata": {
    "scrolled": false
   },
   "outputs": [],
   "source": [
    "import numpy as np\n",
    "import pandas as pd\n",
    "import matplotlib.pyplot as plt\n",
    "import seaborn as sns\n",
    "sns.set_theme(context='talk', style='darkgrid', font='MS GOTHIC')"
   ]
  },
  {
   "cell_type": "markdown",
   "id": "220db2a7",
   "metadata": {},
   "source": [
    "---\n",
    "<a id=1></a>\n",
    "[Topへ](#0)\n",
    "\n",
    "---\n",
    "## 1. 探索的データ分析（EDA）¶"
   ]
  },
  {
   "cell_type": "markdown",
   "id": "79cecc8b",
   "metadata": {},
   "source": [
    "* 糖尿病のデータセット\n",
    "* 分布の確認\n",
    "* 相関関係\n",
    "* トレインデータ、テストデータ"
   ]
  },
  {
   "cell_type": "markdown",
   "id": "b782230c",
   "metadata": {},
   "source": [
    "糖尿病のデータセット"
   ]
  },
  {
   "cell_type": "code",
   "execution_count": null,
   "id": "41b97944",
   "metadata": {},
   "outputs": [],
   "source": [
    "from sklearn.datasets import load_diabetes"
   ]
  },
  {
   "cell_type": "code",
   "execution_count": null,
   "id": "dd92310f",
   "metadata": {},
   "outputs": [],
   "source": [
    "diabetes = load_diabetes()"
   ]
  },
  {
   "cell_type": "code",
   "execution_count": null,
   "id": "9e612627",
   "metadata": {},
   "outputs": [],
   "source": [
    "# このようにndarrayとして取り出して使っていくこともできる\n",
    "X, y = load_diabetes(return_X_y=True)"
   ]
  },
  {
   "cell_type": "code",
   "execution_count": null,
   "id": "3bf271bc",
   "metadata": {},
   "outputs": [],
   "source": [
    "X[:5]"
   ]
  },
  {
   "cell_type": "code",
   "execution_count": null,
   "id": "4f65ca62",
   "metadata": {},
   "outputs": [],
   "source": [
    "Xy = np.concatenate([X, y.reshape(-1, 1)], axis=1)"
   ]
  },
  {
   "cell_type": "code",
   "execution_count": null,
   "id": "dd37bc68",
   "metadata": {},
   "outputs": [],
   "source": [
    "Xy.shape"
   ]
  },
  {
   "cell_type": "code",
   "execution_count": null,
   "id": "66839660",
   "metadata": {},
   "outputs": [],
   "source": [
    "type(diabetes['feature_names'])\n",
    "# listであるため、足し合わせで合成することができる"
   ]
  },
  {
   "cell_type": "code",
   "execution_count": null,
   "id": "7c265c6d",
   "metadata": {},
   "outputs": [],
   "source": [
    "df = pd.DataFrame(Xy, columns=diabetes['feature_names'] + ['target'])\n",
    "df.head()"
   ]
  },
  {
   "cell_type": "code",
   "execution_count": null,
   "id": "8d16cf61",
   "metadata": {},
   "outputs": [],
   "source": [
    "print(diabetes.DESCR)"
   ]
  },
  {
   "cell_type": "code",
   "execution_count": null,
   "id": "8879d22e",
   "metadata": {},
   "outputs": [],
   "source": [
    "df.info()"
   ]
  },
  {
   "cell_type": "code",
   "execution_count": null,
   "id": "ed4aa48f",
   "metadata": {},
   "outputs": [],
   "source": [
    "df.describe()\n",
    "# meanはほぼ０で揃っている"
   ]
  },
  {
   "cell_type": "code",
   "execution_count": null,
   "id": "15152240",
   "metadata": {},
   "outputs": [],
   "source": [
    "# カテゴリカルなsexを確認\n",
    "df['sex'].unique()"
   ]
  },
  {
   "cell_type": "markdown",
   "id": "8581f60e",
   "metadata": {},
   "source": [
    "分布の確認"
   ]
  },
  {
   "cell_type": "code",
   "execution_count": null,
   "id": "e26f2853",
   "metadata": {},
   "outputs": [],
   "source": [
    "def plot_data(feature):\n",
    "    fig, axes = plt.subplots(1, 3, figsize=(16, 4), tight_layout=True)\n",
    "    # sex別に分布を確認\n",
    "    sns.histplot(data=df, x=feature, hue='sex', multiple='dodge', ax=axes[0])\n",
    "    # 長いレジェンドを非表示に\n",
    "    axes[0].legend([], frameon=False)\n",
    "    # sex別に分布、外れ値を確認\n",
    "    sns.boxplot(data=df, x='sex', y=feature, width=0.5, ax=axes[1])\n",
    "    # 長いラベルを非表示に\n",
    "    axes[1].set_xticklabels([])\n",
    "    # targetとの関係を確認\n",
    "    sns.scatterplot(data=df, x=feature, y=y, hue='sex', alpha=0.7, ax=axes[2])\n",
    "    axes[2].legend([], frameon=False)\n",
    "    plt.suptitle(feature)\n",
    "    plt.show()"
   ]
  },
  {
   "cell_type": "code",
   "execution_count": null,
   "id": "e0e9bcaf",
   "metadata": {
    "scrolled": false
   },
   "outputs": [],
   "source": [
    "for feature in df.columns:\n",
    "    plot_data(feature)"
   ]
  },
  {
   "cell_type": "markdown",
   "id": "43224741",
   "metadata": {},
   "source": [
    "相関関係"
   ]
  },
  {
   "cell_type": "code",
   "execution_count": null,
   "id": "52a37eac",
   "metadata": {},
   "outputs": [],
   "source": [
    "plt.figure(figsize=(10, 9))\n",
    "sns.heatmap(df.corr(), annot=True, annot_kws={'size':14}, cmap='Greens', square=True, linewidth=1, vmin=-1)\n",
    "plt.show()"
   ]
  },
  {
   "cell_type": "markdown",
   "id": "3d8e65e8",
   "metadata": {},
   "source": [
    "性別で分けてみる"
   ]
  },
  {
   "cell_type": "code",
   "execution_count": null,
   "id": "5250c541",
   "metadata": {},
   "outputs": [],
   "source": [
    "df_s0 = df[df['sex'] > 0].drop(columns=['sex'])\n",
    "df_s1 = df[df['sex'] < 0].drop(columns=['sex'])\n",
    "# 動画の中でaxis=0を指定しているのは間違いです\n",
    "# axisを指定する場合は以下のような表現となります\n",
    "# df_s0 = df[df['sex'] > 0].drop('sex', axis=1)"
   ]
  },
  {
   "cell_type": "code",
   "execution_count": null,
   "id": "f74676ff",
   "metadata": {},
   "outputs": [],
   "source": [
    "df_s0.head()"
   ]
  },
  {
   "cell_type": "markdown",
   "id": "29789276",
   "metadata": {},
   "source": [
    "トレインデータ、テストデータ"
   ]
  },
  {
   "cell_type": "code",
   "execution_count": null,
   "id": "abcac311",
   "metadata": {},
   "outputs": [],
   "source": [
    "from sklearn.model_selection import train_test_split"
   ]
  },
  {
   "cell_type": "code",
   "execution_count": null,
   "id": "9062cb27",
   "metadata": {},
   "outputs": [],
   "source": [
    "X_train, X_test, y_train, y_test = train_test_split(X, y, test_size=0.3, random_state=17, shuffle=True)"
   ]
  },
  {
   "cell_type": "code",
   "execution_count": null,
   "id": "daeca92b",
   "metadata": {},
   "outputs": [],
   "source": [
    "X_train.shape, X_test.shape, y_train.shape, y_test.shape "
   ]
  },
  {
   "cell_type": "code",
   "execution_count": null,
   "id": "895f4f4a",
   "metadata": {},
   "outputs": [],
   "source": [
    "X0_train, X0_test, y0_train, y0_test = train_test_split(df_s0.iloc[:, :-1], df_s0.iloc[:, -1], test_size=0.3, random_state=17)"
   ]
  },
  {
   "cell_type": "code",
   "execution_count": null,
   "id": "90563a23",
   "metadata": {},
   "outputs": [],
   "source": [
    "X1_train, X1_test, y1_train, y1_test = train_test_split(df_s1.iloc[:, :-1], df_s1.iloc[:, -1], test_size=0.3, random_state=17)"
   ]
  },
  {
   "cell_type": "markdown",
   "id": "51da6ec9",
   "metadata": {},
   "source": [
    "---\n",
    "<a id=2></a>\n",
    "[Topへ](#0)\n",
    "\n",
    "---\n",
    "## 2. LinearRegression"
   ]
  },
  {
   "cell_type": "markdown",
   "id": "1f939f3c",
   "metadata": {},
   "source": [
    "* モデルのインポート  \n",
    "    https://scikit-learn.org/stable/modules/generated/sklearn.linear_model.LinearRegression.html  \n",
    "* モデルインスタンスの作成\n",
    "* モデルの構築・属性・予測・スコア\n",
    "* 性別ごとのデータで試してみる\n",
    "---"
   ]
  },
  {
   "cell_type": "markdown",
   "id": "b16bcb9a",
   "metadata": {},
   "source": [
    "モデルのインポート"
   ]
  },
  {
   "cell_type": "code",
   "execution_count": null,
   "id": "5a755836",
   "metadata": {},
   "outputs": [],
   "source": [
    "from sklearn.linear_model import LinearRegression"
   ]
  },
  {
   "cell_type": "markdown",
   "id": "5a7b2379",
   "metadata": {},
   "source": [
    "モデルインスタンスの作成"
   ]
  },
  {
   "cell_type": "code",
   "execution_count": null,
   "id": "431239c9",
   "metadata": {},
   "outputs": [],
   "source": [
    "# パラメータの変更はほぼ必要ない\n",
    "lr_model = LinearRegression()"
   ]
  },
  {
   "cell_type": "markdown",
   "id": "e1e84b07",
   "metadata": {},
   "source": [
    "モデルの構築・属性・予測・スコア"
   ]
  },
  {
   "cell_type": "code",
   "execution_count": null,
   "id": "7468c36b",
   "metadata": {},
   "outputs": [],
   "source": [
    "# 訓練データに対して適合、学習させる\n",
    "lr_model.fit(X_train, y_train)"
   ]
  },
  {
   "cell_type": "code",
   "execution_count": null,
   "id": "483850fa",
   "metadata": {},
   "outputs": [],
   "source": [
    "# 予測を行う\n",
    "lr_pred = lr_model.predict(X_test)\n",
    "lr_pred"
   ]
  },
  {
   "cell_type": "code",
   "execution_count": null,
   "id": "a996f8a4",
   "metadata": {},
   "outputs": [],
   "source": [
    "# 係数、傾き\n",
    "lr_model.coef_"
   ]
  },
  {
   "cell_type": "code",
   "execution_count": null,
   "id": "84721000",
   "metadata": {},
   "outputs": [],
   "source": [
    "# 切片\n",
    "lr_model.intercept_"
   ]
  },
  {
   "cell_type": "code",
   "execution_count": null,
   "id": "4096563d",
   "metadata": {},
   "outputs": [],
   "source": [
    "test = np.array([ 0.7076875, -0.04464164, 0.01211685, 0.04252958, 0.07135654, 0.0534871 , 0.05232174, -0.00259226,  0.02539313, -0.0052198 ]).reshape(1, -1)\n",
    "\n",
    "pred_0 = lr_model.predict(test)\n",
    "pred_0"
   ]
  },
  {
   "cell_type": "code",
   "execution_count": null,
   "id": "4b42ef4e",
   "metadata": {},
   "outputs": [],
   "source": [
    "# y = a1x1 + a2x2 + ... + a10x10 + b\n",
    "pred_1 = lr_model.intercept_  # 切片だけ\n",
    "\n",
    "# 係数＊値を足し合わせていく\n",
    "for i in range(10):\n",
    "    pred_1 += lr_model.coef_[i] * test[0, i]\n",
    "\n",
    "pred_1"
   ]
  },
  {
   "cell_type": "markdown",
   "id": "588202e5",
   "metadata": {},
   "source": [
    "実測値と予測値の比較"
   ]
  },
  {
   "cell_type": "code",
   "execution_count": null,
   "id": "ad31b242",
   "metadata": {},
   "outputs": [],
   "source": [
    "df_result = pd.DataFrame()\n",
    "df_result['true_value'] = y_test\n",
    "df_result['prediction'] = lr_pred\n",
    "df_result['residual'] = y_test - lr_pred\n",
    "# true_valueで昇順に並べ替え\n",
    "df_result_sorted = df_result.sort_values('true_value', ignore_index=True)"
   ]
  },
  {
   "cell_type": "code",
   "execution_count": null,
   "id": "b5d51433",
   "metadata": {
    "scrolled": false
   },
   "outputs": [],
   "source": [
    "plt.figure(figsize=(16, 6))\n",
    "sns.scatterplot(data=df_result_sorted, x=df_result_sorted.index, y='true_value', color='#c00')\n",
    "sns.scatterplot(data=df_result_sorted, x=df_result_sorted.index, y='prediction', color='#0c0')\n",
    "plt.show()"
   ]
  },
  {
   "cell_type": "code",
   "execution_count": null,
   "id": "a4ee062c",
   "metadata": {},
   "outputs": [],
   "source": [
    "plt.figure(figsize=(16, 6))\n",
    "sns.scatterplot(data=df_result_sorted, x=df_result_sorted.index, y='residual', color='#0c0')\n",
    "plt.axhline(0, color=\"#f00\")\n",
    "plt.show()"
   ]
  },
  {
   "cell_type": "code",
   "execution_count": null,
   "id": "c4f0b6bb",
   "metadata": {},
   "outputs": [],
   "source": [
    "# このスコアはR二乗値、R２スコア\n",
    "lr_model.score(X_test, y_test)"
   ]
  },
  {
   "cell_type": "code",
   "execution_count": null,
   "id": "6f4e07e9",
   "metadata": {},
   "outputs": [],
   "source": [
    "# fitに用いたデータに対しても過度に高い数値にはならなかった\n",
    "lr_model.score(X_train, y_train)"
   ]
  },
  {
   "cell_type": "markdown",
   "id": "fe4d5b45",
   "metadata": {},
   "source": [
    "性別ごとのデータで試してみる"
   ]
  },
  {
   "cell_type": "code",
   "execution_count": null,
   "id": "3b12cc35",
   "metadata": {},
   "outputs": [],
   "source": [
    "# こちらの性別ではテストでも0.547という結果を得ることができた\n",
    "lr_model_s0 = LinearRegression()\n",
    "lr_model_s0.fit(X0_train, y0_train)\n",
    "lr_model_s0.score(X0_test, y0_test), lr_model_s0.score(X0_train, y0_train)"
   ]
  },
  {
   "cell_type": "code",
   "execution_count": null,
   "id": "84346289",
   "metadata": {},
   "outputs": [],
   "source": [
    "lr_model_s1 = LinearRegression()\n",
    "lr_model_s1.fit(X1_train, y1_train)\n",
    "lr_model_s1.score(X1_test, y1_test), lr_model_s1.score(X1_train, y1_train)"
   ]
  },
  {
   "cell_type": "markdown",
   "id": "3d968c1a",
   "metadata": {},
   "source": [
    "---\n",
    "<a id=3></a>\n",
    "[Topへ](#0)\n",
    "\n",
    "---\n",
    "## 3. RandomForestRegressor"
   ]
  },
  {
   "cell_type": "markdown",
   "id": "bfaec4bf",
   "metadata": {},
   "source": [
    "* モデルのインポート  \n",
    "    https://scikit-learn.org/stable/modules/generated/sklearn.ensemble.RandomForestRegressor.html \n",
    "* モデルインスタンスの作成\n",
    "* モデルの構築・属性・予測・スコア\n",
    "* パラメータを変更してみる\n",
    "* Treeの可視化\n",
    "---"
   ]
  },
  {
   "cell_type": "markdown",
   "id": "33514094",
   "metadata": {},
   "source": [
    "モデルのインポート"
   ]
  },
  {
   "cell_type": "code",
   "execution_count": null,
   "id": "a863a507",
   "metadata": {},
   "outputs": [],
   "source": [
    "from sklearn.ensemble import RandomForestRegressor\n",
    "# アンサンブルとは複数人で演奏すること"
   ]
  },
  {
   "cell_type": "markdown",
   "id": "36819a06",
   "metadata": {},
   "source": [
    "モデルインスタンスの作成"
   ]
  },
  {
   "cell_type": "code",
   "execution_count": null,
   "id": "b6698d1e",
   "metadata": {},
   "outputs": [],
   "source": [
    "rf_model = RandomForestRegressor(\n",
    "    n_estimators=100,   # DecisionTreeRegressorの数\n",
    "    max_depth=None,   # 分岐を最大何回まで行うか\n",
    "    min_samples_split=2,    # サンプルが最小いくつまで分岐を行うか（最小であり、達する前に止まることもある）\n",
    "    min_samples_leaf=1,   # 末端での最小のサンプル数\n",
    "    max_features=1.0,   # 最大いくつの特徴量を使うか。「最大」なので1.0の場合はすべて使うことも1割を使うこともある\n",
    "    bootstrap=True,   # 多様性を増やすためのサンプルのランダムな割り当て\n",
    "    random_state=17,\n",
    "    max_samples=None   # bootstrap=Trueの場合のサンプルの最大数。0-1.0で指定すればよい\n",
    ")"
   ]
  },
  {
   "cell_type": "markdown",
   "id": "9412a6d2",
   "metadata": {},
   "source": [
    "モデルの構築・属性・予測・スコア"
   ]
  },
  {
   "cell_type": "code",
   "execution_count": null,
   "id": "a57c9162",
   "metadata": {},
   "outputs": [],
   "source": [
    "rf_model.fit(X_train, y_train)"
   ]
  },
  {
   "cell_type": "code",
   "execution_count": null,
   "id": "42c716f9",
   "metadata": {},
   "outputs": [],
   "source": [
    "rf_pred = rf_model.predict(X_test)\n",
    "rf_pred[:5]"
   ]
  },
  {
   "cell_type": "code",
   "execution_count": null,
   "id": "8a89be38",
   "metadata": {},
   "outputs": [],
   "source": [
    "# estimatorを確認\n",
    "rf_model.base_estimator_"
   ]
  },
  {
   "cell_type": "code",
   "execution_count": null,
   "id": "154b4cbc",
   "metadata": {},
   "outputs": [],
   "source": [
    "# 重要度の高さを取得\n",
    "# index=8, 's5'が最も重要のよう\n",
    "rf_model.feature_importances_"
   ]
  },
  {
   "cell_type": "code",
   "execution_count": null,
   "id": "5d6ebf97",
   "metadata": {},
   "outputs": [],
   "source": [
    "rf_model.score(X_test, y_test)"
   ]
  },
  {
   "cell_type": "code",
   "execution_count": null,
   "id": "d6ac27ed",
   "metadata": {},
   "outputs": [],
   "source": [
    "rf_model.score(X_train, y_train)\n",
    "# 訓練データに対しては過度に高い精度。新規、未知のデータには精度が低い => 過学習(overfitting)している\n",
    "# 汎化性能(新規のデータに対しても同程度の精度がある)が低い"
   ]
  },
  {
   "cell_type": "markdown",
   "id": "87e6948e",
   "metadata": {},
   "source": [
    "パラメータを変更してみる"
   ]
  },
  {
   "cell_type": "code",
   "execution_count": null,
   "id": "36c3afe1",
   "metadata": {},
   "outputs": [],
   "source": [
    "# 特に根拠があるわけではない変更です\n",
    "rf_model_new = RandomForestRegressor(\n",
    "    n_estimators=120,   # DecisionTreeRegressorの数\n",
    "    max_depth=4,   # 分岐を最大何回まで行うか\n",
    "    min_samples_split=5,    # サンプルが最小いくつまで分岐を行うか（最小であり、達する前に止まることもある）\n",
    "    min_samples_leaf=1,   # 末端での最小のサンプル数\n",
    "    max_features=0.6,   # 最大いくつの特徴量を使うか。「最大」なので1.0の場合はすべて使うことも1割を使うこともある\n",
    "    bootstrap=True,   # 多様性を増やすためのサンプルのランダムな割り当て\n",
    "    random_state=17,\n",
    "    max_samples=0.7   # bootstrap=Trueの場合のサンプルの最大数。0-1.0で指定すればよい\n",
    ")"
   ]
  },
  {
   "cell_type": "code",
   "execution_count": null,
   "id": "174aa8d1",
   "metadata": {},
   "outputs": [],
   "source": [
    "rf_model_new.fit(X_train, y_train)\n",
    "rf_pred_new = rf_model_new.predict(X_test)\n",
    "rf_pred_new[:5]"
   ]
  },
  {
   "cell_type": "code",
   "execution_count": null,
   "id": "94f61a3f",
   "metadata": {},
   "outputs": [],
   "source": [
    "rf_model_new.score(X_test, y_test)"
   ]
  },
  {
   "cell_type": "code",
   "execution_count": null,
   "id": "c4288581",
   "metadata": {},
   "outputs": [],
   "source": [
    "rf_model_new.score(X_train, y_train)\n",
    "# 過学習が抑えられ（？）、さらに汎化性能もわずかに向上したと考えられる"
   ]
  },
  {
   "cell_type": "markdown",
   "id": "690977c3",
   "metadata": {},
   "source": [
    "Treeの可視化"
   ]
  },
  {
   "cell_type": "code",
   "execution_count": null,
   "id": "ba78a238",
   "metadata": {},
   "outputs": [],
   "source": [
    "# ひとつ目のDecisionTreeRegressor\n",
    "rf_model.estimators_[0]"
   ]
  },
  {
   "cell_type": "code",
   "execution_count": null,
   "id": "9f3118bd",
   "metadata": {},
   "outputs": [],
   "source": [
    "from sklearn.tree import plot_tree"
   ]
  },
  {
   "cell_type": "code",
   "execution_count": null,
   "id": "51ed9ce5",
   "metadata": {},
   "outputs": [],
   "source": [
    "plt.figure(figsize=(18, 20))\n",
    "plot_tree(rf_model.estimators_[0], max_depth=2, fontsize=24, feature_names=diabetes['feature_names'], filled=True)\n",
    "# filled:色分け\n",
    "plt.show()"
   ]
  },
  {
   "cell_type": "markdown",
   "id": "93d5191c",
   "metadata": {},
   "source": [
    "---\n",
    "<a id=4></a>\n",
    "[Topへ](#0)\n",
    "\n",
    "---\n",
    "## 4. KNeighborsRegressor"
   ]
  },
  {
   "cell_type": "markdown",
   "id": "a06dcbc7",
   "metadata": {},
   "source": [
    "* モデルのインポート  \n",
    "     https://scikit-learn.org/stable/modules/generated/sklearn.neighbors.KNeighborsRegressor.html  \n",
    "* モデルインスタンスの作成・スコア\n",
    "* パラメータを変更してみる\n",
    "---"
   ]
  },
  {
   "cell_type": "markdown",
   "id": "b77e5e8f",
   "metadata": {},
   "source": [
    "モデルのインポート"
   ]
  },
  {
   "cell_type": "code",
   "execution_count": null,
   "id": "60369a99",
   "metadata": {},
   "outputs": [],
   "source": [
    "from sklearn.neighbors import KNeighborsRegressor"
   ]
  },
  {
   "cell_type": "markdown",
   "id": "f0db0c49",
   "metadata": {},
   "source": [
    "モデルインスタンスの作成・スコア"
   ]
  },
  {
   "cell_type": "code",
   "execution_count": null,
   "id": "4b9fb70a",
   "metadata": {},
   "outputs": [],
   "source": [
    "kn_model = KNeighborsRegressor(n_neighbors=5, weights='uniform')\n",
    "# 近傍、類似の5つのデータから数値を予測する\n",
    "# 'distance'は距離の近い、遠いで重みづけを変える"
   ]
  },
  {
   "cell_type": "code",
   "execution_count": null,
   "id": "f9eb7d49",
   "metadata": {},
   "outputs": [],
   "source": [
    "kn_model.fit(X_train, y_train)\n",
    "kn_pred = kn_model.predict(X_test)\n",
    "kn_pred[:5]"
   ]
  },
  {
   "cell_type": "code",
   "execution_count": null,
   "id": "42cebc8a",
   "metadata": {},
   "outputs": [],
   "source": [
    "kn_model.score(X_test, y_test)"
   ]
  },
  {
   "cell_type": "code",
   "execution_count": null,
   "id": "cf4c8f27",
   "metadata": {},
   "outputs": [],
   "source": [
    "kn_model.score(X_train, y_train)"
   ]
  },
  {
   "cell_type": "markdown",
   "id": "221ac216",
   "metadata": {},
   "source": [
    "パラメータを変更してみる"
   ]
  },
  {
   "cell_type": "code",
   "execution_count": null,
   "id": "6e9b9910",
   "metadata": {},
   "outputs": [],
   "source": [
    "kn_model_new = KNeighborsRegressor(n_neighbors=12, weights='uniform')"
   ]
  },
  {
   "cell_type": "code",
   "execution_count": null,
   "id": "40ed7950",
   "metadata": {},
   "outputs": [],
   "source": [
    "kn_model_new.fit(X_train, y_train)"
   ]
  },
  {
   "cell_type": "code",
   "execution_count": null,
   "id": "3a809940",
   "metadata": {},
   "outputs": [],
   "source": [
    "kn_model_new.score(X_test, y_test)"
   ]
  },
  {
   "cell_type": "code",
   "execution_count": null,
   "id": "23c582d8",
   "metadata": {},
   "outputs": [],
   "source": [
    "kn_model_new.score(X_train, y_train)"
   ]
  },
  {
   "cell_type": "markdown",
   "id": "cff153af",
   "metadata": {},
   "source": [
    "---\n",
    "<a id=5></a>\n",
    "[Topへ](#0)\n",
    "\n",
    "---\n",
    "## 5. モデルの評価方法"
   ]
  },
  {
   "cell_type": "markdown",
   "id": "75b9359b",
   "metadata": {},
   "source": [
    "* 評価指標\n",
    "* モデルを評価する\n",
    "* R2スコア(決定係数)とは\n",
    "---"
   ]
  },
  {
   "cell_type": "markdown",
   "id": "3b9d2b53",
   "metadata": {},
   "source": [
    "評価指標  \n",
    "絶対平均誤差　/　二乗平均誤差　/　絶対パーセント誤差　/　R二乗値（決定係数）"
   ]
  },
  {
   "cell_type": "code",
   "execution_count": null,
   "id": "2f5ccdb6",
   "metadata": {},
   "outputs": [],
   "source": [
    "from sklearn.metrics import accuracy_score, mean_absolute_error, mean_squared_error, mean_absolute_percentage_error, r2_score"
   ]
  },
  {
   "cell_type": "markdown",
   "id": "b3b801ca",
   "metadata": {},
   "source": [
    "モデルを評価する  "
   ]
  },
  {
   "cell_type": "code",
   "execution_count": null,
   "id": "5277e84d",
   "metadata": {},
   "outputs": [],
   "source": [
    "def eval_models(models, X_train, y_train, X_test, y_test):\n",
    "    for model in models:\n",
    "        model.fit(X_train, y_train)\n",
    "        pred = np.round(model.predict(X_test))\n",
    "        score = np.round(model.score(X_test, y_test), 4)\n",
    "        mae = np.round(mean_absolute_error(y_test, pred), 4)\n",
    "        mse = np.round(mean_squared_error(y_test, pred), 4)   # 2乗するため、誤差の大きさが目立つようになる\n",
    "        mape = np.round(mean_absolute_percentage_error(y_test, pred), 4)   # 予測値のスケールに寄らず、相対的に理解できる\n",
    "        r2 = np.round(r2_score(y_test, pred), 4)\n",
    "        print(f'{model}')\n",
    "        print(f'score : {score}, mae : {mae}, mse : {mse}, mape : {mape}, r2 : {r2}')\n",
    "        print('================================')\n",
    "        \n",
    "# model.score()とr2_score()は同じもの"
   ]
  },
  {
   "cell_type": "code",
   "execution_count": null,
   "id": "03a94450",
   "metadata": {},
   "outputs": [],
   "source": [
    "models = [lr_model, rf_model_new, kn_model_new]\n",
    "eval_models(models, X_train, y_train, X_test, y_test)"
   ]
  },
  {
   "cell_type": "markdown",
   "id": "8a0309a1",
   "metadata": {},
   "source": [
    "R2スコア(決定係数)とは"
   ]
  },
  {
   "cell_type": "markdown",
   "id": "891e6811",
   "metadata": {},
   "source": [
    "* R2 = 1 - Σ{( true_value(i) - pred(i) ) ** 2} / Σ{( true_value(i) - true_value_mean ) ** 2}\n",
    "* 1に近いほど回帰式の精度が高い\n",
    "* もし、すべてを「平均」で予想した場合(最も安易な？予想)　=> R2 = 0\n",
    "* 0.5以上：予測精度がそれなりに高いと言える\n",
    "* 0.7以上：予測精度が高い\n",
    "* 0.9以上：精度が非常に高い。ただし、過学習でないかの検討も必要  \n",
    "※　絶対的な基準は存在しません。あくまでも目安として用いる指標です"
   ]
  },
  {
   "cell_type": "markdown",
   "id": "41692ceb",
   "metadata": {},
   "source": [
    "---\n",
    "<a id=6></a>\n",
    "[Topへ](#0)\n",
    "\n",
    "---\n",
    "## 6. クロスバリデーションとグリッドサーチ"
   ]
  },
  {
   "cell_type": "markdown",
   "id": "b256686a",
   "metadata": {},
   "source": [
    "* KFold  \n",
    "    https://scikit-learn.org/stable/modules/generated/sklearn.model_selection.KFold.html\n",
    "* cross_val_score  \n",
    "    https://scikit-learn.org/stable/modules/generated/sklearn.model_selection.cross_val_score.html\n",
    "* GridSearchCV  \n",
    "    https://scikit-learn.org/stable/modules/generated/sklearn.model_selection.GridSearchCV.html\n",
    "---"
   ]
  },
  {
   "cell_type": "markdown",
   "id": "3956c9e4",
   "metadata": {},
   "source": [
    "KFold"
   ]
  },
  {
   "cell_type": "code",
   "execution_count": null,
   "id": "4611bce3",
   "metadata": {},
   "outputs": [],
   "source": [
    "from sklearn.model_selection import KFold, cross_val_score"
   ]
  },
  {
   "cell_type": "code",
   "execution_count": null,
   "id": "024f7a5b",
   "metadata": {},
   "outputs": [],
   "source": [
    "k = KFold(5, shuffle=True, random_state=17)"
   ]
  },
  {
   "cell_type": "code",
   "execution_count": null,
   "id": "cab0381d",
   "metadata": {},
   "outputs": [],
   "source": [
    "set1, set2, set3, set4, set5 = k.split(X)"
   ]
  },
  {
   "cell_type": "code",
   "execution_count": null,
   "id": "d75da035",
   "metadata": {},
   "outputs": [],
   "source": [
    "# トレイン、テスト\n",
    "set1"
   ]
  },
  {
   "cell_type": "code",
   "execution_count": null,
   "id": "c039d017",
   "metadata": {},
   "outputs": [],
   "source": [
    "len(set1[0]), len(set1[1])"
   ]
  },
  {
   "cell_type": "code",
   "execution_count": null,
   "id": "b4923f89",
   "metadata": {},
   "outputs": [],
   "source": [
    "# ８：２で分割される\n",
    "89 / 442"
   ]
  },
  {
   "cell_type": "markdown",
   "id": "e4826579",
   "metadata": {},
   "source": [
    "cross_val_score"
   ]
  },
  {
   "cell_type": "code",
   "execution_count": null,
   "id": "fc28754d",
   "metadata": {},
   "outputs": [],
   "source": [
    "# 5つの組の平均値で比較する\n",
    "for model in models:\n",
    "    scores = cross_val_score(model, X, y, cv=k)\n",
    "    print(f'{model} : {scores.mean()}')\n",
    "    print('\\n')"
   ]
  },
  {
   "cell_type": "markdown",
   "id": "68f0ca02",
   "metadata": {},
   "source": [
    "GridSearchCV"
   ]
  },
  {
   "cell_type": "code",
   "execution_count": null,
   "id": "945f748e",
   "metadata": {},
   "outputs": [],
   "source": [
    "from sklearn.model_selection import GridSearchCV"
   ]
  },
  {
   "cell_type": "code",
   "execution_count": null,
   "id": "e43169a8",
   "metadata": {},
   "outputs": [],
   "source": [
    "# rf_modelのパラメータを変更する\n",
    "# max_depth=4, min_samples_split=5, max_features=0.6, max_samples=0.7\n",
    "params = {\n",
    "    'max_depth':[2, 6, 10],\n",
    "    'max_features':[0.5, 0.9],\n",
    "    'max_samples':[0.5, 0.9],\n",
    "    'min_samples_split':[3, 6]\n",
    "}\n",
    "# 計２４の組み合わせで結果を取得できる"
   ]
  },
  {
   "cell_type": "code",
   "execution_count": null,
   "id": "cdb8672c",
   "metadata": {},
   "outputs": [],
   "source": [
    "grid = GridSearchCV(rf_model, param_grid=params)\n",
    "# return_train_score=Falseでトレインデータのスコアも確認できる"
   ]
  },
  {
   "cell_type": "code",
   "execution_count": null,
   "id": "fe9ca644",
   "metadata": {},
   "outputs": [],
   "source": [
    "grid.fit(X, y)"
   ]
  },
  {
   "cell_type": "code",
   "execution_count": null,
   "id": "41691def",
   "metadata": {},
   "outputs": [],
   "source": [
    "# データフレームで結果を表示\n",
    "pd.DataFrame(grid.cv_results_)"
   ]
  },
  {
   "cell_type": "code",
   "execution_count": null,
   "id": "a04e77cb",
   "metadata": {
    "scrolled": true
   },
   "outputs": [],
   "source": [
    "pd.DataFrame(grid.cv_results_).loc[:, 'params':].sort_values('rank_test_score', ascending=True)"
   ]
  },
  {
   "cell_type": "code",
   "execution_count": null,
   "id": "21af4b0f",
   "metadata": {},
   "outputs": [],
   "source": [
    "# 最適なパラメータ\n",
    "grid.best_params_"
   ]
  },
  {
   "cell_type": "markdown",
   "id": "f0d952ab",
   "metadata": {},
   "source": [
    "---\n",
    " <a id=4></a>\n",
    "[Topへ](#0)\n",
    "\n",
    "---\n",
    "## 以上\n",
    "    \n",
    "---"
   ]
  }
 ],
 "metadata": {
  "kernelspec": {
   "display_name": "Python 3",
   "language": "python",
   "name": "python3"
  },
  "language_info": {
   "codemirror_mode": {
    "name": "ipython",
    "version": 3
   },
   "file_extension": ".py",
   "mimetype": "text/x-python",
   "name": "python",
   "nbconvert_exporter": "python",
   "pygments_lexer": "ipython3",
   "version": "3.10.11"
  }
 },
 "nbformat": 4,
 "nbformat_minor": 5
}
