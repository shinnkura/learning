{
 "cells": [
  {
   "cell_type": "markdown",
   "id": "40d9c665",
   "metadata": {},
   "source": [
    "---\n",
    "# 7.Categorical Features Exercise\n",
    "\n",
    "---"
   ]
  },
  {
   "cell_type": "code",
   "execution_count": null,
   "id": "2fe04f33",
   "metadata": {},
   "outputs": [],
   "source": [
    "import numpy as np\n",
    "import pandas as pd\n",
    "import matplotlib.pyplot as plt\n",
    "import seaborn as sns"
   ]
  },
  {
   "cell_type": "markdown",
   "id": "7c624520",
   "metadata": {},
   "source": [
    "Exercise_1 : LabelEncoder、OneHotEncoderをインポートしてください"
   ]
  },
  {
   "cell_type": "code",
   "execution_count": null,
   "id": "3ee14538",
   "metadata": {},
   "outputs": [],
   "source": []
  },
  {
   "cell_type": "markdown",
   "id": "8ab71701",
   "metadata": {},
   "source": [
    "<details>\n",
    "    <summary><font color='red'>解答はここをクリック</font></summary>\n",
    "    <code>from sklearn.preprocessing import LabelEncoder</code><br>\n",
    "    <code>from sklearn.preprocessing import OneHotEncoder</code><br>\n",
    "</details>"
   ]
  },
  {
   "cell_type": "markdown",
   "id": "c6f6645b",
   "metadata": {},
   "source": [
    "Exercise_2:Seabornのデータセットから'diamonds'をデータフレームdfとして読み込んでください。その際に利用するカラムを['cut', 'color', 'clarity']としてください。　ヒント　usecolsを使う"
   ]
  },
  {
   "cell_type": "code",
   "execution_count": null,
   "id": "443ecdc8",
   "metadata": {
    "scrolled": false
   },
   "outputs": [],
   "source": [
    "df = "
   ]
  },
  {
   "cell_type": "markdown",
   "id": "42be5a30",
   "metadata": {},
   "source": [
    "<details>\n",
    "    <summary><font color='red'>解答はここをクリック</font></summary>\n",
    "    <code>df = sns.load_dataset('diamonds', usecols=['cut', 'color', 'clarity'])</code><br>\n",
    "</details>"
   ]
  },
  {
   "cell_type": "code",
   "execution_count": null,
   "id": "877f5b6b",
   "metadata": {},
   "outputs": [],
   "source": [
    "# 実行して表示\n",
    "df.head()"
   ]
  },
  {
   "cell_type": "code",
   "execution_count": null,
   "id": "d3c74948",
   "metadata": {
    "scrolled": true
   },
   "outputs": [],
   "source": [
    "# 実行して表示\n",
    "df['clarity'].value_counts()"
   ]
  },
  {
   "cell_type": "markdown",
   "id": "0fc61085",
   "metadata": {},
   "source": [
    "Exercise_3 :'clarity'の各要素の文字列の最後の一文字を削除してください（SI1 => SI, VS2 => VSなど。練習用に分類数を少なくするために）。"
   ]
  },
  {
   "cell_type": "code",
   "execution_count": null,
   "id": "08e4efb2",
   "metadata": {},
   "outputs": [],
   "source": [
    "df['clarity'] = "
   ]
  },
  {
   "cell_type": "markdown",
   "id": "590a867c",
   "metadata": {},
   "source": [
    "<details>\n",
    "    <summary><font color='red'>解答はここをクリック</font></summary>\n",
    "    <code>df['clality'] = df['clarity'].str[:-1]</code><br>\n",
    "</details>"
   ]
  },
  {
   "cell_type": "code",
   "execution_count": null,
   "id": "9d34b4bb",
   "metadata": {},
   "outputs": [],
   "source": [
    "# 実行して表示\n",
    "df['clarity'].value_counts()"
   ]
  },
  {
   "cell_type": "markdown",
   "id": "9d1515a6",
   "metadata": {},
   "source": [
    "Exercise_4 :'color'も分類が多いため、'D', 'E', 'F', 'G'の値を np.nan に置換してください。（練習用に分類数を少なくするために）。　ヒント　.loc, .isinを利用"
   ]
  },
  {
   "cell_type": "code",
   "execution_count": null,
   "id": "db5f2417",
   "metadata": {},
   "outputs": [],
   "source": []
  },
  {
   "cell_type": "markdown",
   "id": "08f4bcfc",
   "metadata": {},
   "source": [
    "<details>\n",
    "    <summary><font color='red'>解答はここをクリック</font></summary>\n",
    "    <code>df.loc[df['color'].isin(list('DEFG')), 'color' ] = np.nan</code><br>\n",
    "</details>"
   ]
  },
  {
   "cell_type": "code",
   "execution_count": null,
   "id": "5f8a1e17",
   "metadata": {},
   "outputs": [],
   "source": [
    "# 実行して表示\n",
    "df['color'].value_counts()"
   ]
  },
  {
   "cell_type": "markdown",
   "id": "fd9eaf78",
   "metadata": {},
   "source": [
    "Exercise_5 :上記で'D', 'E', 'F', 'G'が value として残っている原因はデータタイプにあります。データタイプを確認して、'D', 'E', 'F', 'G'のカラムを削除してください。"
   ]
  },
  {
   "cell_type": "code",
   "execution_count": null,
   "id": "a1b38555",
   "metadata": {
    "scrolled": true
   },
   "outputs": [],
   "source": [
    "# データタイプを確認してください\n",
    "df.info()"
   ]
  },
  {
   "cell_type": "markdown",
   "id": "02022ea5",
   "metadata": {},
   "source": [
    "<details>\n",
    "    <summary><font color='red'>解答はここをクリック</font></summary>\n",
    "    <code>df.info()</code><br>\n",
    "</details>"
   ]
  },
  {
   "cell_type": "code",
   "execution_count": null,
   "id": "e4f15204",
   "metadata": {},
   "outputs": [],
   "source": [
    "# 'cut', 'color'のデータタイプを変更してください\n",
    "df['cut'] = \n",
    "df['color'] = "
   ]
  },
  {
   "cell_type": "markdown",
   "id": "b9058963",
   "metadata": {},
   "source": [
    "<details>\n",
    "    <summary><font color='red'>解答はここをクリック</font></summary>\n",
    "    <code>df['cut'] = df['cut'].astype(object)</code><br>\n",
    "    <code>df['color'] = df['color'].astype(object)</code><br>\n",
    "</details>"
   ]
  },
  {
   "cell_type": "code",
   "execution_count": null,
   "id": "358f4919",
   "metadata": {},
   "outputs": [],
   "source": [
    "# 実行して表示。データタイプが変更されていることを確認\n",
    "df.info()"
   ]
  },
  {
   "cell_type": "code",
   "execution_count": null,
   "id": "aaa32db3",
   "metadata": {},
   "outputs": [],
   "source": [
    "# 実行してください\n",
    "# 他のカラムにも np.nan を配置しておきます。'I', 'Fair'を選択したことに特別な意味はありません。\n",
    "df.loc[df['clarity'] == 'I', 'clarity'] = np.nan\n",
    "df.loc[df['cut'] == 'Fair', 'cut'] = np.nan"
   ]
  },
  {
   "cell_type": "code",
   "execution_count": null,
   "id": "da7b76c1",
   "metadata": {},
   "outputs": [],
   "source": [
    "# 実行して表示\n",
    "df.head()"
   ]
  },
  {
   "cell_type": "markdown",
   "id": "aed635fe",
   "metadata": {},
   "source": [
    "Exercise_6 :LabelEncoderを使って'cut'カラムを数値ラベルに変換してください"
   ]
  },
  {
   "cell_type": "code",
   "execution_count": null,
   "id": "bf42927f",
   "metadata": {},
   "outputs": [],
   "source": [
    "# インスタンスの作成\n",
    "label_encoder = "
   ]
  },
  {
   "cell_type": "markdown",
   "id": "346c3b23",
   "metadata": {},
   "source": [
    "<details>\n",
    "    <summary><font color='red'>解答はここをクリック</font></summary>\n",
    "    <code>label_encoder = LabelEncoder()</code><br>\n",
    "</details>"
   ]
  },
  {
   "cell_type": "code",
   "execution_count": null,
   "id": "fb2a411d",
   "metadata": {},
   "outputs": [],
   "source": [
    "# フィット\n"
   ]
  },
  {
   "cell_type": "markdown",
   "id": "ddf6cfd3",
   "metadata": {},
   "source": [
    "<details>\n",
    "    <summary><font color='red'>解答はここをクリック</font></summary>\n",
    "    <code>label_encoder.fit(df['cut'])</code><br>\n",
    "</details>"
   ]
  },
  {
   "cell_type": "code",
   "execution_count": null,
   "id": "00614818",
   "metadata": {},
   "outputs": [],
   "source": [
    "# 変換したデータを新しいカラム'class'に代入\n",
    "df['class'] = "
   ]
  },
  {
   "cell_type": "markdown",
   "id": "2de10cdd",
   "metadata": {},
   "source": [
    "<details>\n",
    "    <summary><font color='red'>解答はここをクリック</font></summary>\n",
    "    <code>df['class'] = label_encoder.transform(df['cut'])</code><br>\n",
    "</details>"
   ]
  },
  {
   "cell_type": "code",
   "execution_count": null,
   "id": "cad7b3ca",
   "metadata": {},
   "outputs": [],
   "source": [
    "#実行して表示\n",
    "df.head()"
   ]
  },
  {
   "cell_type": "markdown",
   "id": "5c1ee7ab",
   "metadata": {},
   "source": [
    "Exercise_7 :label_encoderが学習し、記憶しているクラス('Good', 'Very Good'など)の一覧を表示してください"
   ]
  },
  {
   "cell_type": "code",
   "execution_count": null,
   "id": "25956ea0",
   "metadata": {},
   "outputs": [],
   "source": [
    "\n",
    "# アルファベット順になることに注意してください。"
   ]
  },
  {
   "cell_type": "markdown",
   "id": "54875220",
   "metadata": {},
   "source": [
    "<details>\n",
    "    <summary><font color='red'>解答はここをクリック</font></summary>\n",
    "    <code>label_encoder.classes_</code><br>\n",
    "</details>"
   ]
  },
  {
   "cell_type": "markdown",
   "id": "885992e1",
   "metadata": {},
   "source": [
    "Exercise_8 :label_encoderで[0, 2, 4]を逆変換し、その結果を表示してください"
   ]
  },
  {
   "cell_type": "code",
   "execution_count": null,
   "id": "d5c62cb7",
   "metadata": {},
   "outputs": [],
   "source": []
  },
  {
   "cell_type": "markdown",
   "id": "d1478cce",
   "metadata": {},
   "source": [
    "<details>\n",
    "    <summary><font color='red'>解答はここをクリック</font></summary>\n",
    "    <code>label_encoder.inverse_transform([0, 2, 4])</code><br>\n",
    "</details>"
   ]
  },
  {
   "cell_type": "markdown",
   "id": "96c4afe6",
   "metadata": {},
   "source": [
    "Exercise_9 :Pandasのget_dummies()を用いて np.nan であることも分かるようにカラム'color'をダミー変数化し、df_cdを作成してください"
   ]
  },
  {
   "cell_type": "code",
   "execution_count": null,
   "id": "5436c31e",
   "metadata": {},
   "outputs": [],
   "source": [
    "df_cd = "
   ]
  },
  {
   "cell_type": "markdown",
   "id": "93613847",
   "metadata": {},
   "source": [
    "<details>\n",
    "    <summary><font color='red'>解答はここをクリック</font></summary>\n",
    "    <code>df_cd = pd.get_dummies(df, columns=['color'], dummy_na=True)</code><br>\n",
    "</details>"
   ]
  },
  {
   "cell_type": "code",
   "execution_count": null,
   "id": "55a0ad62",
   "metadata": {},
   "outputs": [],
   "source": [
    "# 実行して表示\n",
    "df_cd.head()"
   ]
  },
  {
   "cell_type": "markdown",
   "id": "6a3b4fba",
   "metadata": {},
   "source": [
    "Exercise_10 :同様にPandasのget_dummies()を用いて np.nan であることも分かるようにカラム'color'をダミー変数化しますが、その際に先頭の'color_H'は余分な情報となっていますので、それを削除してdfを上書きしてください"
   ]
  },
  {
   "cell_type": "code",
   "execution_count": null,
   "id": "ef9a51bb",
   "metadata": {},
   "outputs": [],
   "source": [
    "df = "
   ]
  },
  {
   "cell_type": "markdown",
   "id": "c057acfc",
   "metadata": {},
   "source": [
    "<details>\n",
    "    <summary><font color='red'>解答はここをクリック</font></summary>\n",
    "    <code>df = pd.get_dummies(df, columns=['color'], dummy_na=True, drop_first=True))</code><br>\n",
    "</details>"
   ]
  },
  {
   "cell_type": "code",
   "execution_count": null,
   "id": "1de31516",
   "metadata": {
    "scrolled": true
   },
   "outputs": [],
   "source": [
    "# 実行して表示\n",
    "df.head()"
   ]
  },
  {
   "cell_type": "markdown",
   "id": "47cdcbe7",
   "metadata": {},
   "source": [
    "Exercise_11 :現在のdfから'color'が'H'であるレコード（I, J, nanがすべて0）を抽出し、先頭5行を表示してください（'H'が確かに区別されることを確認するため）"
   ]
  },
  {
   "cell_type": "code",
   "execution_count": null,
   "id": "747b1275",
   "metadata": {},
   "outputs": [],
   "source": [
    "# 様々な方法があります。解答は一例です\n",
    "\n",
    "# 7, 9, 22, 37, 44ならばOK"
   ]
  },
  {
   "cell_type": "markdown",
   "id": "fe2b8f62",
   "metadata": {},
   "source": [
    "<details>\n",
    "    <summary><font color='red'>解答はここをクリック</font></summary>\n",
    "    <code>df[df.iloc[:, 3:6].sum(axis=1) == 0].head()</code><br>\n",
    "</details>"
   ]
  },
  {
   "cell_type": "code",
   "execution_count": null,
   "id": "99923ac0",
   "metadata": {},
   "outputs": [],
   "source": [
    "# 実行して表示。handle_unknownの使用方法を確認するために以下で新規のDataFrameを作成します\n",
    "df.iloc[5:15, :2]"
   ]
  },
  {
   "cell_type": "code",
   "execution_count": null,
   "id": "812b6d6f",
   "metadata": {},
   "outputs": [],
   "source": [
    "# 実行して表示\n",
    "# df_train, df_testを新規作成します\n",
    "df_train = df.iloc[5:12, :2]\n",
    "df_test = df.iloc[12:16, :2]\n",
    "df_train"
   ]
  },
  {
   "cell_type": "code",
   "execution_count": null,
   "id": "12d6c9d3",
   "metadata": {},
   "outputs": [],
   "source": [
    "# 実行して表示\n",
    "df_test\n",
    "# df_testの'cut'にはdf_trainには存在しない'Premium'が含まれており、\n",
    "# 同様に'clarity'にはNaNが含まれています"
   ]
  },
  {
   "cell_type": "markdown",
   "id": "a393adec",
   "metadata": {},
   "source": [
    "Exercise_12 :OneHotEncoderを用いてdf_trainをダミー変数化してください。"
   ]
  },
  {
   "cell_type": "code",
   "execution_count": null,
   "id": "63f41fb7",
   "metadata": {},
   "outputs": [],
   "source": [
    "# インスタンス作成\n",
    "onehot_encoder = "
   ]
  },
  {
   "cell_type": "markdown",
   "id": "4cf10840",
   "metadata": {},
   "source": [
    "<details>\n",
    "    <summary><font color='red'>解答はここをクリック</font></summary>\n",
    "    <code>onehot_encoder = OneHotEncoder()</code><br>\n",
    "</details>"
   ]
  },
  {
   "cell_type": "code",
   "execution_count": null,
   "id": "75ad7538",
   "metadata": {},
   "outputs": [],
   "source": [
    "# トレインデータのフィットと変換を同時に実行\n"
   ]
  },
  {
   "cell_type": "markdown",
   "id": "b2cf8b19",
   "metadata": {},
   "source": [
    "<details>\n",
    "    <summary><font color='red'>解答はここをクリック</font></summary>\n",
    "    <code>onehot_encoder.fit_transform(df_train)</code><br>\n",
    "</details>"
   ]
  },
  {
   "cell_type": "code",
   "execution_count": null,
   "id": "5ab61fd4",
   "metadata": {
    "scrolled": false
   },
   "outputs": [],
   "source": [
    "# アレイに変換\n",
    "arr_train = \n",
    "arr_train\n",
    "# 'cut'に4列、'clarity'に3列"
   ]
  },
  {
   "cell_type": "markdown",
   "id": "aeb05975",
   "metadata": {},
   "source": [
    "<details>\n",
    "    <summary><font color='red'>解答はここをクリック</font></summary>\n",
    "    <code>arr = onehot_encoder.fit_transform(df_train).toarray()</code><br>\n",
    "</details>"
   ]
  },
  {
   "cell_type": "markdown",
   "id": "516eab1c",
   "metadata": {},
   "source": [
    "Exercise_13 :arr のそれぞれの列が表すカテゴリを確認してください"
   ]
  },
  {
   "cell_type": "code",
   "execution_count": null,
   "id": "1453f9ce",
   "metadata": {},
   "outputs": [],
   "source": [
    "# 実行して表示\n",
    "arr_train.shape"
   ]
  },
  {
   "cell_type": "code",
   "execution_count": null,
   "id": "8f03b649",
   "metadata": {},
   "outputs": [],
   "source": [
    "# カテゴリー名を表示してください\n"
   ]
  },
  {
   "cell_type": "markdown",
   "id": "368522b3",
   "metadata": {},
   "source": [
    "<details>\n",
    "    <summary><font color='red'>解答はここをクリック</font></summary>\n",
    "    <code>onehot_encoder.categories_</code><br>\n",
    "</details>"
   ]
  },
  {
   "cell_type": "markdown",
   "id": "b668b7a6",
   "metadata": {},
   "source": [
    "Exercise_14 :同様の操作を drop='first' を設定して行ってください"
   ]
  },
  {
   "cell_type": "code",
   "execution_count": null,
   "id": "c32c747c",
   "metadata": {},
   "outputs": [],
   "source": [
    "# インスタンス作成\n",
    "onehot_encoder_drop = "
   ]
  },
  {
   "cell_type": "markdown",
   "id": "d3195b1c",
   "metadata": {},
   "source": [
    "<details>\n",
    "    <summary><font color='red'>解答はここをクリック</font></summary>\n",
    "    <code>onehot_encoder_drop = OneHotEncoder(drop='first') </code><br>\n",
    "</details>"
   ]
  },
  {
   "cell_type": "code",
   "execution_count": null,
   "id": "9f9f5328",
   "metadata": {},
   "outputs": [],
   "source": [
    "# トレインデータのフィットと変換\n"
   ]
  },
  {
   "cell_type": "markdown",
   "id": "66829148",
   "metadata": {},
   "source": [
    "<details>\n",
    "    <summary><font color='red'>解答はここをクリック</font></summary>\n",
    "    <code>onehot_encoder_drop.fit_transform(df_train)</code><br>\n",
    "</details>"
   ]
  },
  {
   "cell_type": "code",
   "execution_count": null,
   "id": "ef78ff24",
   "metadata": {
    "scrolled": true
   },
   "outputs": [],
   "source": [
    "# アレイに変換\n",
    "arr_train_drop = \n",
    "arr_train_drop"
   ]
  },
  {
   "cell_type": "markdown",
   "id": "2ab6cac6",
   "metadata": {},
   "source": [
    "<details>\n",
    "    <summary><font color='red'>解答はここをクリック</font></summary>\n",
    "    <code>arr_train_drop = onehot_encoder_drop.fit_transform(df_train).toarray()</code><br>\n",
    "</details>"
   ]
  },
  {
   "cell_type": "code",
   "execution_count": null,
   "id": "4104ae1d",
   "metadata": {},
   "outputs": [],
   "source": [
    "# 実行して表示\n",
    "arr_train_drop.shape"
   ]
  },
  {
   "cell_type": "code",
   "execution_count": null,
   "id": "712ea255",
   "metadata": {},
   "outputs": [],
   "source": [
    "# 実行して表示。上記で列数が 5 に変化していますが全カテゴリが記憶されています\n",
    "onehot_encoder_drop.categories_\n",
    "# ドロップされたカテゴリはそれぞれの先頭の'Good'と'SI'です"
   ]
  },
  {
   "cell_type": "markdown",
   "id": "4e2cfaf5",
   "metadata": {},
   "source": [
    "Exercise_15 :onehot_encoder_dropを用いてdf_testを変換してください。df_trainにはない'Premium'が存在するため、ERRORが発生します。"
   ]
  },
  {
   "cell_type": "code",
   "execution_count": null,
   "id": "f30b289a",
   "metadata": {},
   "outputs": [],
   "source": [
    "arr_test = \n",
    "arr_test\n",
    "# ValueError: Found unknown categories ['Premium'] in column 0 during transform"
   ]
  },
  {
   "cell_type": "code",
   "execution_count": null,
   "id": "dd8eff0e",
   "metadata": {},
   "outputs": [],
   "source": [
    "# 実行して表示。パラメーター'handle_unknow'はデフェルトで'error'に設定されています\n",
    "onehot_encoder_drop.handle_unknown"
   ]
  },
  {
   "cell_type": "markdown",
   "id": "acb55700",
   "metadata": {},
   "source": [
    "Exercise_16 :handle_unknownに'ignore'を設定し、あらためてdf_trainにおいてfitを行ってください"
   ]
  },
  {
   "cell_type": "code",
   "execution_count": null,
   "id": "9c1fd1a1",
   "metadata": {},
   "outputs": [],
   "source": [
    "# インスタンス作成\n",
    "onehot_encoder = "
   ]
  },
  {
   "cell_type": "code",
   "execution_count": null,
   "id": "97d5fe1d",
   "metadata": {},
   "outputs": [],
   "source": [
    "# fit\n"
   ]
  },
  {
   "cell_type": "markdown",
   "id": "56df1162",
   "metadata": {},
   "source": [
    "Exercise_17:上記onehot_encoderでdf_testを変換し、ERRORが発生しないこととunknownである'Premium'がすべて 0 として表現されていることを確認してください"
   ]
  },
  {
   "cell_type": "code",
   "execution_count": null,
   "id": "081ce49b",
   "metadata": {},
   "outputs": [],
   "source": [
    "# 変換してアレイに\n",
    "arr_test = \n",
    "arr_test\n",
    "# 先頭の四つが'cut'を表す。すべて0はCategoriesにない未知の値"
   ]
  },
  {
   "cell_type": "markdown",
   "id": "d740947c",
   "metadata": {},
   "source": [
    "## 以上"
   ]
  }
 ],
 "metadata": {
  "kernelspec": {
   "display_name": "Python 3",
   "language": "python",
   "name": "python3"
  },
  "language_info": {
   "codemirror_mode": {
    "name": "ipython",
    "version": 3
   },
   "file_extension": ".py",
   "mimetype": "text/x-python",
   "name": "python",
   "nbconvert_exporter": "python",
   "pygments_lexer": "ipython3",
   "version": "3.7.10"
  }
 },
 "nbformat": 4,
 "nbformat_minor": 5
}
