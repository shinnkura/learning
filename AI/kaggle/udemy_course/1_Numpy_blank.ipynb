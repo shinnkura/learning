{
 "cells": [
  {
   "cell_type": "markdown",
   "id": "2346558a",
   "metadata": {},
   "source": [
    "<a id=0></a>  \n",
    "# 1. Numpy ndarrayを理解する\n",
    "### ※ Numpy : ”Numerical Python”、数値計算・配列計算を高速で実行できるパッケージ"
   ]
  },
  {
   "cell_type": "markdown",
   "id": "d42a05df",
   "metadata": {},
   "source": [
    "---\n",
    "### [1.Python ListとNumpy ndarray ](#1)\n",
    "### [2.Numpyの関数で連番、等差数列を作成](#2)\n",
    "### [3.Randomモジュールによる乱数Arrayの作成と次元の変換](#3)\n",
    "### [4.Numpy ndarrayの次元、形状、サイズ](#4)\n",
    "### [5.Numpy ndarrayの演算例](#5)\n",
    "---"
   ]
  },
  {
   "cell_type": "markdown",
   "id": "650acfd3",
   "metadata": {},
   "source": [
    "Numpyをnpというエイリアス（別名）でインポートする  "
   ]
  },
  {
   "cell_type": "code",
   "execution_count": null,
   "id": "972ba1da",
   "metadata": {},
   "outputs": [],
   "source": []
  },
  {
   "cell_type": "markdown",
   "id": "1279c566",
   "metadata": {},
   "source": [
    "---\n",
    "<a id=1></a>\n",
    "[Topへ](#0)\n",
    "\n",
    "---\n",
    "## 1.Python ListとNumpy ndarray      "
   ]
  },
  {
   "cell_type": "markdown",
   "id": "0e8bcf67",
   "metadata": {},
   "source": [
    "* ListとNumpy ndarrayを作成\n",
    "* 型（タイプ）を確認  \n",
    "* Numpy ndarrayのデータタイプ（Numpy ndarrayではすべての要素のデータタイプが統一される）\n",
    "* Numpy ndarrayの演算例\n",
    "* Numpy ndarrayの最大値、最小値、平均、合計\n",
    "* Numpy ndarrayは要素の形状を一定に\n",
    "* Numpy ndarrayのデータタイプ変換\n",
    "---"
   ]
  },
  {
   "cell_type": "markdown",
   "id": "1471a3cb",
   "metadata": {},
   "source": [
    "List と ndarrayを作成"
   ]
  },
  {
   "cell_type": "code",
   "execution_count": null,
   "id": "160306be",
   "metadata": {},
   "outputs": [],
   "source": []
  },
  {
   "cell_type": "markdown",
   "id": "5938050d",
   "metadata": {},
   "source": [
    "型（タイプ）を確認  \n",
    "※ ndarray : n dimentional array（多次元配列）"
   ]
  },
  {
   "cell_type": "code",
   "execution_count": null,
   "id": "69785e4b",
   "metadata": {
    "scrolled": true
   },
   "outputs": [],
   "source": []
  },
  {
   "cell_type": "markdown",
   "id": "732627d7",
   "metadata": {},
   "source": [
    "Numpy ndarrayのデータタイプ（Numpy ndarrayではすべての要素のデータタイプが統一される）"
   ]
  },
  {
   "cell_type": "code",
   "execution_count": null,
   "id": "5f213384",
   "metadata": {},
   "outputs": [],
   "source": []
  },
  {
   "cell_type": "markdown",
   "id": "85da2428",
   "metadata": {},
   "source": [
    "NumpyArrayの演算例"
   ]
  },
  {
   "cell_type": "code",
   "execution_count": null,
   "id": "e79e506b",
   "metadata": {},
   "outputs": [],
   "source": []
  },
  {
   "cell_type": "markdown",
   "id": "e3848cf8",
   "metadata": {},
   "source": [
    "Numpy ndarrayの最大値、最小値、平均、合計（全要素に対する）"
   ]
  },
  {
   "cell_type": "code",
   "execution_count": null,
   "id": "94ceca02",
   "metadata": {},
   "outputs": [],
   "source": []
  },
  {
   "cell_type": "markdown",
   "id": "a70bb654",
   "metadata": {},
   "source": [
    "ファンシーインデックス"
   ]
  },
  {
   "cell_type": "code",
   "execution_count": null,
   "id": "28a93237",
   "metadata": {},
   "outputs": [],
   "source": []
  },
  {
   "cell_type": "markdown",
   "id": "28c17db2",
   "metadata": {},
   "source": [
    "Numpy ndarrayは各次元の要素の形状を一定に"
   ]
  },
  {
   "cell_type": "code",
   "execution_count": null,
   "id": "e295a1d2",
   "metadata": {},
   "outputs": [],
   "source": []
  },
  {
   "cell_type": "markdown",
   "id": "0ab71d25",
   "metadata": {},
   "source": [
    "Numpy ndarrayのデータタイプ変換"
   ]
  },
  {
   "cell_type": "code",
   "execution_count": null,
   "id": "d287170d",
   "metadata": {},
   "outputs": [],
   "source": []
  },
  {
   "cell_type": "markdown",
   "id": "f3f21f22",
   "metadata": {},
   "source": [
    "---\n",
    "<a id=2></a>\n",
    "[Topへ](#0)\n",
    "\n",
    "---\n",
    "## 2.Numpyの関数で数列を作成"
   ]
  },
  {
   "cell_type": "markdown",
   "id": "6cb9efd3",
   "metadata": {},
   "source": [
    "* np.arange(start, stop, step) : 等差数列\n",
    "* np.linspace(start, stop, size) : 範囲と生成数から作成\n",
    "---"
   ]
  },
  {
   "cell_type": "markdown",
   "id": "76c20373",
   "metadata": {},
   "source": [
    "np.arange(start, stop, step) : 等差数列（正の値のみ）"
   ]
  },
  {
   "cell_type": "code",
   "execution_count": null,
   "id": "aa071ddd",
   "metadata": {},
   "outputs": [],
   "source": []
  },
  {
   "cell_type": "markdown",
   "id": "6a03f72a",
   "metadata": {},
   "source": [
    "np.linspace(start, stop, size) : 範囲と生成数から作成"
   ]
  },
  {
   "cell_type": "code",
   "execution_count": null,
   "id": "a8486767",
   "metadata": {},
   "outputs": [],
   "source": []
  },
  {
   "cell_type": "markdown",
   "id": "a96367d0",
   "metadata": {},
   "source": [
    "---\n",
    "<a id=3></a>\n",
    "[Topへ](#0)\n",
    "\n",
    "---\n",
    "## 3.Randomモジュールによる乱数Arrayの作成"
   ]
  },
  {
   "cell_type": "markdown",
   "id": "e5cf2532",
   "metadata": {},
   "source": [
    "* np.random.randint(low, high, size): 整数\n",
    "* 乱数シード\n",
    "* np.random.rand(size) : 0以上1未満 \n",
    "* np.random.randn(size) : 平均0、標準偏差1、正規分布に近づく数列  \n",
    "* np.random.normal(average, satandard_deviation, size) : 平均と標準偏差を指定、正規分布に近づく数列\n",
    "* np.random.uniform(low, high, size) : 範囲と生成数を指定\n",
    "* np.random.choice(array, size) : Listの値をランダムに選択\n",
    "---"
   ]
  },
  {
   "cell_type": "markdown",
   "id": "48445f81",
   "metadata": {},
   "source": [
    "np.random.randint(low, high, size): 整数"
   ]
  },
  {
   "cell_type": "code",
   "execution_count": null,
   "id": "0a93eff2",
   "metadata": {},
   "outputs": [],
   "source": []
  },
  {
   "cell_type": "markdown",
   "id": "54b11ddd",
   "metadata": {},
   "source": [
    "乱数シード"
   ]
  },
  {
   "cell_type": "code",
   "execution_count": null,
   "id": "a4396762",
   "metadata": {},
   "outputs": [],
   "source": []
  },
  {
   "cell_type": "markdown",
   "id": "da09e3da",
   "metadata": {},
   "source": [
    "np.random.rand(size) : 0以上1未満"
   ]
  },
  {
   "cell_type": "code",
   "execution_count": null,
   "id": "cc9ad4ce",
   "metadata": {},
   "outputs": [],
   "source": []
  },
  {
   "cell_type": "markdown",
   "id": "c91ed918",
   "metadata": {},
   "source": [
    "np.random.randn(size) : 平均0、標準偏差1、正規分布に近づく数列  \n",
    "\n",
    "    ※ 分散    ：「各数値の平均との差」を平方（2乗）した値の平均（平方するのはプラスの値で測るため）  \n",
    "    ※ 標準偏差：平均からのばらつき具合を示す指標。分散の正の平方根  \n",
    "    ※ 正規分布：平均値の度数を中心に、正負の値の度数が同程度に広がる分布      "
   ]
  },
  {
   "cell_type": "code",
   "execution_count": null,
   "id": "87affd40",
   "metadata": {},
   "outputs": [],
   "source": []
  },
  {
   "cell_type": "markdown",
   "id": "7b0efdd2",
   "metadata": {},
   "source": [
    " np.random.normal(average, satandard_deviation, size) : 平均と標準偏差を指定、正規分布に近づく数列"
   ]
  },
  {
   "cell_type": "code",
   "execution_count": null,
   "id": "b3416710",
   "metadata": {},
   "outputs": [],
   "source": []
  },
  {
   "cell_type": "markdown",
   "id": "bc7a7b91",
   "metadata": {},
   "source": [
    "np.random.uniform(low, high, size) : 範囲と生成数を指定"
   ]
  },
  {
   "cell_type": "code",
   "execution_count": null,
   "id": "3028fd18",
   "metadata": {
    "scrolled": true
   },
   "outputs": [],
   "source": []
  },
  {
   "cell_type": "markdown",
   "id": "04669a8c",
   "metadata": {},
   "source": [
    "np.random.choice(array, size) : Listの値をランダムに選択"
   ]
  },
  {
   "cell_type": "code",
   "execution_count": null,
   "id": "f02f5344",
   "metadata": {},
   "outputs": [],
   "source": []
  },
  {
   "cell_type": "markdown",
   "id": "a1d0ca59",
   "metadata": {},
   "source": [
    "---\n",
    "<a id=4></a>\n",
    "[Topへ](#0)\n",
    "\n",
    "---\n",
    "## 4.Numpy ndarrayの次元、形状、サイズ"
   ]
  },
  {
   "cell_type": "markdown",
   "id": "f4c4c4ba",
   "metadata": {},
   "source": [
    "* 次元\n",
    "* 形状\n",
    "* サイズ（要素数）\n",
    "* 形状の変換 \n",
    "---"
   ]
  },
  {
   "cell_type": "code",
   "execution_count": null,
   "id": "1d2318cb",
   "metadata": {
    "scrolled": true
   },
   "outputs": [],
   "source": []
  },
  {
   "cell_type": "markdown",
   "id": "e785d42b",
   "metadata": {},
   "source": [
    "次元"
   ]
  },
  {
   "cell_type": "code",
   "execution_count": null,
   "id": "7b720562",
   "metadata": {},
   "outputs": [],
   "source": []
  },
  {
   "cell_type": "markdown",
   "id": "ed920438",
   "metadata": {},
   "source": [
    "形状"
   ]
  },
  {
   "cell_type": "code",
   "execution_count": null,
   "id": "3ef3f27e",
   "metadata": {},
   "outputs": [],
   "source": []
  },
  {
   "cell_type": "markdown",
   "id": "fa9d12b8",
   "metadata": {},
   "source": [
    "サイズ（要素数）"
   ]
  },
  {
   "cell_type": "code",
   "execution_count": null,
   "id": "86673451",
   "metadata": {},
   "outputs": [],
   "source": []
  },
  {
   "cell_type": "markdown",
   "id": "1a559575",
   "metadata": {},
   "source": [
    "形状の変換"
   ]
  },
  {
   "cell_type": "code",
   "execution_count": null,
   "id": "560f55b7",
   "metadata": {
    "scrolled": true
   },
   "outputs": [],
   "source": []
  },
  {
   "cell_type": "markdown",
   "id": "731d265c",
   "metadata": {},
   "source": [
    "---\n",
    "<a id=5></a>\n",
    "[Topへ](#0)\n",
    "\n",
    "---\n",
    "## 5.Numpy ndarrayの演算例"
   ]
  },
  {
   "cell_type": "code",
   "execution_count": null,
   "id": "77cad46c",
   "metadata": {},
   "outputs": [],
   "source": []
  },
  {
   "cell_type": "markdown",
   "id": "a2345564",
   "metadata": {},
   "source": [
    "---\n",
    "[Topへ](#0)\n",
    "\n",
    "---\n",
    "## 以上\n",
    "    \n",
    "---"
   ]
  }
 ],
 "metadata": {
  "kernelspec": {
   "display_name": "Python 3",
   "language": "python",
   "name": "python3"
  },
  "language_info": {
   "codemirror_mode": {
    "name": "ipython",
    "version": 3
   },
   "file_extension": ".py",
   "mimetype": "text/x-python",
   "name": "python",
   "nbconvert_exporter": "python",
   "pygments_lexer": "ipython3",
   "version": "3.7.10"
  }
 },
 "nbformat": 4,
 "nbformat_minor": 5
}
