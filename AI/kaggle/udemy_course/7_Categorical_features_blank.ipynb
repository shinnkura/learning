{
 "cells": [
  {
   "cell_type": "markdown",
   "id": "97b76cad",
   "metadata": {},
   "source": [
    "<a id=0></a>\n",
    "# 7.Categorical Features\n",
    "カテゴリカル特徴量（変数）の取り扱い"
   ]
  },
  {
   "cell_type": "markdown",
   "id": "e0a39594",
   "metadata": {},
   "source": [
    "---\n",
    "### [1.LabelEncoder()](#1)\n",
    "### [2.get_dummies()](#2)\n",
    "### [3.OneHotEncoder()](#3)\n",
    "### [4.pd.get_dummies()とOneHotEncoder()の違い](#4)\n",
    "### [5.Seriesのstr属性を使う](#5)\n",
    "\n",
    "---"
   ]
  },
  {
   "cell_type": "markdown",
   "id": "be5b9ded",
   "metadata": {},
   "source": [
    "データセットとしてsample1_without_index.csvを使用する"
   ]
  },
  {
   "cell_type": "code",
   "execution_count": null,
   "id": "f14d74a7",
   "metadata": {},
   "outputs": [],
   "source": [
    "import pandas as pd\n",
    "import numpy as np\n",
    "import matplotlib.pyplot as plt\n",
    "import seaborn as sns"
   ]
  },
  {
   "cell_type": "code",
   "execution_count": null,
   "id": "07b49cde",
   "metadata": {
    "scrolled": true
   },
   "outputs": [],
   "source": [
    "df = pd.read_csv('./sample1_without_index.csv')\n",
    "df.head()"
   ]
  },
  {
   "cell_type": "code",
   "execution_count": null,
   "id": "b99b6f66",
   "metadata": {},
   "outputs": [],
   "source": [
    "df = df[['Color', 'Shape']]"
   ]
  },
  {
   "cell_type": "code",
   "execution_count": null,
   "id": "6814729e",
   "metadata": {},
   "outputs": [],
   "source": [
    "df.head()"
   ]
  },
  {
   "cell_type": "code",
   "execution_count": null,
   "id": "97dd9f23",
   "metadata": {},
   "outputs": [],
   "source": [
    "df.isnull().sum()"
   ]
  },
  {
   "cell_type": "code",
   "execution_count": null,
   "id": "74b2385c",
   "metadata": {},
   "outputs": [],
   "source": [
    "df[df['Color'].isnull()].index"
   ]
  },
  {
   "cell_type": "markdown",
   "id": "5fdbd1f0",
   "metadata": {},
   "source": [
    "---\n",
    "<a id=1></a>\n",
    "[Topへ](#0)\n",
    "\n",
    "---\n",
    "## 1. LabelEncoder()  \n",
    "https://scikit-learn.org/stable/modules/generated/sklearn.preprocessing.LabelEncoder.html  \n",
    "※ ラベルを数値(0, 1, 2, ...)で置換する"
   ]
  },
  {
   "cell_type": "code",
   "execution_count": null,
   "id": "44282cc7",
   "metadata": {},
   "outputs": [],
   "source": []
  },
  {
   "cell_type": "markdown",
   "id": "1eec7232",
   "metadata": {},
   "source": [
    "---\n",
    "<a id=2></a>\n",
    "[Topへ](#0)\n",
    "\n",
    "---\n",
    "## 2. get_dummies()  \n",
    "https://pandas.pydata.org/docs/reference/api/pandas.get_dummies.html  \n",
    "※　カテゴリー変数をダミー変数化（0 or 1）する"
   ]
  },
  {
   "cell_type": "markdown",
   "id": "c570a2cc",
   "metadata": {},
   "source": [
    "* ダミー変数化を実行\n",
    "* drop_first=Trueとは\n",
    "* np.nanはどうなるのか\n",
    "---"
   ]
  },
  {
   "cell_type": "markdown",
   "id": "d40834e8",
   "metadata": {},
   "source": [
    "ダミー変数化を実行"
   ]
  },
  {
   "cell_type": "code",
   "execution_count": null,
   "id": "7102732e",
   "metadata": {},
   "outputs": [],
   "source": []
  },
  {
   "cell_type": "markdown",
   "id": "e140d98f",
   "metadata": {},
   "source": [
    "drop_first=Trueとは  "
   ]
  },
  {
   "cell_type": "code",
   "execution_count": null,
   "id": "a94ca65c",
   "metadata": {},
   "outputs": [],
   "source": []
  },
  {
   "cell_type": "markdown",
   "id": "56acc15a",
   "metadata": {},
   "source": [
    "np.nanはどうなるのか"
   ]
  },
  {
   "cell_type": "code",
   "execution_count": null,
   "id": "3054384b",
   "metadata": {},
   "outputs": [],
   "source": []
  },
  {
   "cell_type": "markdown",
   "id": "c4431f0f",
   "metadata": {},
   "source": [
    "---\n",
    "<a id=3></a>\n",
    "[Topへ](#0)\n",
    "\n",
    "---\n",
    "## 3. OneHotEncoder()  \n",
    "※　One-hot : ひとつが1で他は0  \n",
    "※　pd.get_dummies()にはない機能を使ってダミー変数化を行う"
   ]
  },
  {
   "cell_type": "markdown",
   "id": "c192160c",
   "metadata": {},
   "source": [
    "https://scikit-learn.org/stable/modules/generated/sklearn.preprocessing.OneHotEncoder.html"
   ]
  },
  {
   "cell_type": "markdown",
   "id": "5c5f1fc7",
   "metadata": {},
   "source": [
    "デフォルトのKeyword Argument : drop=None, handle_unknown='error'"
   ]
  },
  {
   "cell_type": "markdown",
   "id": "5d9a1232",
   "metadata": {},
   "source": [
    "* OneHotEncoder()を使ってみる\n",
    "* 複数の特徴量を変換\n",
    "---"
   ]
  },
  {
   "cell_type": "markdown",
   "id": "4240098f",
   "metadata": {},
   "source": [
    "OneHotEncoder()を使ってみる"
   ]
  },
  {
   "cell_type": "code",
   "execution_count": null,
   "id": "37f5326b",
   "metadata": {},
   "outputs": [],
   "source": []
  },
  {
   "cell_type": "markdown",
   "id": "6efb98de",
   "metadata": {},
   "source": [
    "複数の特徴量を変換"
   ]
  },
  {
   "cell_type": "code",
   "execution_count": null,
   "id": "906e2e58",
   "metadata": {},
   "outputs": [],
   "source": []
  },
  {
   "cell_type": "markdown",
   "id": "819c116d",
   "metadata": {},
   "source": [
    "---\n",
    "<a id=4></a>\n",
    "[Topへ](#0)\n",
    "\n",
    "---\n",
    "## 4. pd.get_dummies()とOneHotEncoder()の違い"
   ]
  },
  {
   "cell_type": "markdown",
   "id": "31709161",
   "metadata": {},
   "source": [
    "* get_dummies()ではトレインセットとテストセットに差が生じる\n",
    "* OneHotEncoder(handle_unknown='error', drop='first')の場合\n",
    "* OneHotEncoder(handle_unknown='ignore')の場合\n",
    "---"
   ]
  },
  {
   "cell_type": "markdown",
   "id": "643cec70",
   "metadata": {},
   "source": [
    "get_dummies()ではトレインセットとテストセットに差が生じる"
   ]
  },
  {
   "cell_type": "code",
   "execution_count": null,
   "id": "f74d5747",
   "metadata": {},
   "outputs": [],
   "source": []
  },
  {
   "cell_type": "markdown",
   "id": "4ac054df",
   "metadata": {},
   "source": [
    "OneHotEncoder(handle_unknown='error', drop='first')の場合"
   ]
  },
  {
   "cell_type": "code",
   "execution_count": null,
   "id": "7996cc87",
   "metadata": {},
   "outputs": [],
   "source": []
  },
  {
   "cell_type": "markdown",
   "id": "4829a484",
   "metadata": {},
   "source": [
    "OneHotEncoder(handle_unknown='ignore')の場合"
   ]
  },
  {
   "cell_type": "code",
   "execution_count": null,
   "id": "60e4989a",
   "metadata": {},
   "outputs": [],
   "source": []
  },
  {
   "cell_type": "markdown",
   "id": "090e793e",
   "metadata": {},
   "source": [
    "#### 状況に応じて使い分ける（例）\n",
    "* 分類される値が少ない、レコード量が多い  \n",
    "    ＝＞　testデータに欠ける値はない　＝＞　get_dummies, OneHotEncoder(drop='first')\n",
    "* 分類される値が少ない、レコード量が少ない  \n",
    "    ＝＞　testデータに欠ける値があるかもしれない　＝＞　OneHotEncoder(handle_unknown='error', drop='first')\n",
    "* 分類される値が多い、レコード量が少ない  \n",
    "    ＝＞　testデータにtrainデータにない値が確実に入る　＝＞ OneHotEncoder, handle_unknown='ignore'"
   ]
  },
  {
   "cell_type": "markdown",
   "id": "7d0fb97a",
   "metadata": {},
   "source": [
    "---\n",
    "<a id=5></a>\n",
    "[Topへ](#0)\n",
    "\n",
    "---\n",
    "## 5.Seriesのstr属性を使う"
   ]
  },
  {
   "cell_type": "markdown",
   "id": "f91f05cf",
   "metadata": {},
   "source": [
    "* Series.strとは\n",
    "* メソッドを確認\n",
    "* 利用頻度の高い置換、抽出、分離\n",
    "---"
   ]
  },
  {
   "cell_type": "markdown",
   "id": "5d292a90",
   "metadata": {},
   "source": [
    "Series.strとは"
   ]
  },
  {
   "cell_type": "code",
   "execution_count": null,
   "id": "8628420c",
   "metadata": {},
   "outputs": [],
   "source": [
    "df = pd.DataFrame()\n",
    "df['ID'] = ['A-123', 'B-456', 'A-789', 'B-123']\n",
    "df['Color'] = ['py/white black', 'red green blue', 'py/yellow', 'purple white']\n",
    "df"
   ]
  },
  {
   "cell_type": "code",
   "execution_count": null,
   "id": "166ffb8b",
   "metadata": {},
   "outputs": [],
   "source": []
  },
  {
   "cell_type": "markdown",
   "id": "98a16179",
   "metadata": {},
   "source": [
    "メソッドを確認"
   ]
  },
  {
   "cell_type": "code",
   "execution_count": null,
   "id": "269b85cb",
   "metadata": {},
   "outputs": [],
   "source": []
  },
  {
   "cell_type": "markdown",
   "id": "a1e98417",
   "metadata": {},
   "source": [
    "利用頻度の高い置換、抽出、分離"
   ]
  },
  {
   "cell_type": "code",
   "execution_count": null,
   "id": "26a75c15",
   "metadata": {},
   "outputs": [],
   "source": []
  },
  {
   "cell_type": "markdown",
   "id": "bf2bba3d",
   "metadata": {},
   "source": [
    "---\n",
    "[Topへ](#0)\n",
    "\n",
    "---\n",
    "## 以上\n",
    "    \n",
    "---"
   ]
  }
 ],
 "metadata": {
  "kernelspec": {
   "display_name": "Python 3",
   "language": "python",
   "name": "python3"
  },
  "language_info": {
   "codemirror_mode": {
    "name": "ipython",
    "version": 3
   },
   "file_extension": ".py",
   "mimetype": "text/x-python",
   "name": "python",
   "nbconvert_exporter": "python",
   "pygments_lexer": "ipython3",
   "version": "3.7.10"
  }
 },
 "nbformat": 4,
 "nbformat_minor": 5
}
