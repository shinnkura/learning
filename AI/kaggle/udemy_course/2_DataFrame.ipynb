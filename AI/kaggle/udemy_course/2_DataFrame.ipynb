{
 "cells": [
  {
   "cell_type": "markdown",
   "id": "23c6d4cc",
   "metadata": {
    "id": "23c6d4cc"
   },
   "source": [
    "<a id=0></a>\n",
    "# 2. DataFrameを理解する"
   ]
  },
  {
   "cell_type": "markdown",
   "id": "cfd115fa",
   "metadata": {
    "id": "cfd115fa"
   },
   "source": [
    "---\n",
    "### [1.Arrayの作成、SeriesとDataFrameの作成 ](#1)\n",
    "### [2.SeriesとDataFrame](#2)\n",
    "### [3.DataFrameの基礎データとaxisの理解](#3)\n",
    "### [4.IndexとColumnについて](#4)\n",
    "### [5.欠損値](#5)\n",
    "### [6.DataFrameを別のファイルとして保存](#6)\n",
    "---"
   ]
  },
  {
   "cell_type": "code",
   "execution_count": null,
   "id": "5f4b23d4",
   "metadata": {
    "id": "5f4b23d4"
   },
   "outputs": [],
   "source": [
    "import numpy as np\n",
    "import pandas as pd\n",
    "import matplotlib.pyplot as plt\n",
    "import seaborn as sns"
   ]
  },
  {
   "cell_type": "markdown",
   "id": "0b658499",
   "metadata": {
    "id": "0b658499"
   },
   "source": [
    "---\n",
    "<a id=1></a>\n",
    "[Topへ](#0)\n",
    "\n",
    "---\n",
    "## 1.Arrayの作成、SeriesとDataFrameの作成 "
   ]
  },
  {
   "cell_type": "markdown",
   "id": "39c9d4cc",
   "metadata": {
    "id": "39c9d4cc"
   },
   "source": [
    "* 100 - 10000の整数データ (100,)からSeriesを作成\n",
    "* Series と ndarry\n",
    "* Seriesに名前を付ける\n",
    "* 10 - 100の整数データ (100,)からSeriesを作成\n",
    "* 0 - 10の小数データ (100, 2)からDataFrameを作成\n",
    "* 40 - 60の範囲の一様分布の小数データ (100, 1)からDataFrameを作成\n",
    "* 平均 0、標準偏差 1の正規分布に従う小数データ (100, 1)からDataFrameを作成\n",
    "* 平均50、標準偏差10の正規分布に従う小数データ (100, 1)からDataFrameを作成\n",
    "* ['red', 'green', 'blue'] (100, 1)、 ['circle', 'square', 'triangle'] (100, 1)、ndarrayを合しDataFrameを作成\n",
    "* datetime 1997/7/5から1日刻み (100, 1)からDatetimeIndex、Seriesを作成\n",
    "* Series, DataFrameを結合\n",
    "* DataFrameのサンプル（レコード）の一部を抽出する\n",
    "---"
   ]
  },
  {
   "cell_type": "markdown",
   "id": "12f6c3df",
   "metadata": {
    "id": "12f6c3df"
   },
   "source": [
    "100 - 10000の整数データ (100,)からSeriesを作成"
   ]
  },
  {
   "cell_type": "code",
   "execution_count": null,
   "id": "1152c769",
   "metadata": {
    "id": "1152c769",
    "scrolled": true
   },
   "outputs": [],
   "source": [
    "np.random.seed(17)\n",
    "arr_int1 = np.random.randint(100, 10000, 100)"
   ]
  },
  {
   "cell_type": "code",
   "execution_count": null,
   "id": "13Jl8j1fsBkI",
   "metadata": {
    "id": "13Jl8j1fsBkI"
   },
   "outputs": [],
   "source": [
    "arr_int1[:5]\n",
    "# arr_int1[10:15]"
   ]
  },
  {
   "cell_type": "code",
   "execution_count": null,
   "id": "R01XBw-Ws9kT",
   "metadata": {
    "id": "R01XBw-Ws9kT"
   },
   "outputs": [],
   "source": [
    "# Seriesの作成\n",
    "sr = pd.Series(arr_int1)\n",
    "sr"
   ]
  },
  {
   "cell_type": "markdown",
   "id": "2a9575e4",
   "metadata": {
    "id": "2a9575e4"
   },
   "source": [
    "Series と ndarry"
   ]
  },
  {
   "cell_type": "code",
   "execution_count": null,
   "id": "2ade9796",
   "metadata": {
    "id": "2ade9796"
   },
   "outputs": [],
   "source": [
    "type(sr)"
   ]
  },
  {
   "cell_type": "code",
   "execution_count": null,
   "id": "vqa4lO8BuhT5",
   "metadata": {
    "id": "vqa4lO8BuhT5"
   },
   "outputs": [],
   "source": [
    "# ndarrayのようにndim, shape, max()などを使用できる\n",
    "# Seriesとndarrayは類似している\n",
    "sr.ndim"
   ]
  },
  {
   "cell_type": "code",
   "execution_count": null,
   "id": "iZa5A7c0umlL",
   "metadata": {
    "id": "iZa5A7c0umlL"
   },
   "outputs": [],
   "source": [
    "sr.shape"
   ]
  },
  {
   "cell_type": "code",
   "execution_count": null,
   "id": "3PBRxyEPuovS",
   "metadata": {
    "id": "3PBRxyEPuovS"
   },
   "outputs": [],
   "source": [
    "sr.max()"
   ]
  },
  {
   "cell_type": "code",
   "execution_count": null,
   "id": "jLDajEN9uz02",
   "metadata": {
    "id": "jLDajEN9uz02"
   },
   "outputs": [],
   "source": [
    "# sr.reshape(2, 50)\n",
    "# 形状の変更はできない。Seriesは1次元"
   ]
  },
  {
   "cell_type": "markdown",
   "id": "d4344159",
   "metadata": {
    "id": "d4344159"
   },
   "source": [
    "Seriesに名前を付ける"
   ]
  },
  {
   "cell_type": "code",
   "execution_count": null,
   "id": "70bdf0ef",
   "metadata": {
    "id": "70bdf0ef"
   },
   "outputs": [],
   "source": [
    "sr.name = 'Price'"
   ]
  },
  {
   "cell_type": "code",
   "execution_count": null,
   "id": "lVcQgntrbber",
   "metadata": {
    "id": "lVcQgntrbber"
   },
   "outputs": [],
   "source": [
    "# Series作成時にnameを指定することもできる\n",
    "sr_price = pd.Series(arr_int1, name='Price')\n",
    "sr_price"
   ]
  },
  {
   "cell_type": "markdown",
   "id": "8141d5ba",
   "metadata": {
    "id": "8141d5ba"
   },
   "source": [
    "10 - 100の整数データ (100,)からSeriesを作成"
   ]
  },
  {
   "cell_type": "code",
   "execution_count": null,
   "id": "7c6a375f",
   "metadata": {
    "id": "7c6a375f"
   },
   "outputs": [],
   "source": [
    "np.random.seed(17)\n",
    "arr_int2 = np.random.randint(10, 100, 100)\n",
    "sr_quantity = pd.Series(arr_int2, name='Quantity')"
   ]
  },
  {
   "cell_type": "markdown",
   "id": "7cb44e85",
   "metadata": {
    "id": "7cb44e85"
   },
   "source": [
    "0 - 10の小数データ (100, 2)からDataFrameを作成"
   ]
  },
  {
   "cell_type": "code",
   "execution_count": null,
   "id": "E_A6f2JKT2FO",
   "metadata": {
    "id": "E_A6f2JKT2FO"
   },
   "outputs": [],
   "source": [
    "np.random.seed(17)\n",
    "arr_fl = np.random.rand(100, 2) * 10\n",
    "\n",
    "# sr = pd.Series(arr_fl)\n",
    "# ValueError: Data must be 1-dimensional　Seriesの場合は1次元リストでないといけない"
   ]
  },
  {
   "cell_type": "code",
   "execution_count": null,
   "id": "oiMQvZ-odnrb",
   "metadata": {
    "id": "oiMQvZ-odnrb"
   },
   "outputs": [],
   "source": [
    "# 2次元の場合はDataFrame\n",
    "df = pd.DataFrame(arr_fl)\n",
    "df"
   ]
  },
  {
   "cell_type": "code",
   "execution_count": null,
   "id": "ggx3v6vseRKo",
   "metadata": {
    "id": "ggx3v6vseRKo"
   },
   "outputs": [],
   "source": [
    "# columnsでカラム名を指定（リストで）\n",
    "df_wh = pd.DataFrame(arr_fl, columns=['Width', 'Height'])\n",
    "df_wh"
   ]
  },
  {
   "cell_type": "markdown",
   "id": "eb23916f",
   "metadata": {
    "id": "eb23916f"
   },
   "source": [
    "40 - 60の範囲の一様分布の小数データ (100, 1)からDataFrameを作成"
   ]
  },
  {
   "cell_type": "code",
   "execution_count": null,
   "id": "99902c60",
   "metadata": {
    "id": "99902c60"
   },
   "outputs": [],
   "source": [
    "np.random.seed(17)\n",
    "arr_uni = np.random.uniform(40, 60, (100, 1))\n",
    "\n",
    "df_quality = pd.DataFrame(arr_uni, columns=['Quality'])\n",
    "df_quality"
   ]
  },
  {
   "cell_type": "markdown",
   "id": "bdcdddfb",
   "metadata": {
    "id": "bdcdddfb"
   },
   "source": [
    "平均 0、標準偏差 1の正規分布に従う小数データ (100, 1)からDataFrameを作成"
   ]
  },
  {
   "cell_type": "code",
   "execution_count": null,
   "id": "62f5ee56",
   "metadata": {
    "id": "62f5ee56"
   },
   "outputs": [],
   "source": [
    "np.random.seed(17)\n",
    "# (100, 1)も2次元のためDataFrame\n",
    "arr_n = np.random.randn(100, 1)\n",
    "# カラム名がひとつの場合もリストで指定\n",
    "df_difference = pd.DataFrame(arr_n, columns=['Difference'])"
   ]
  },
  {
   "cell_type": "markdown",
   "id": "43c9224d",
   "metadata": {
    "id": "43c9224d"
   },
   "source": [
    "平均50、標準偏差10の正規分布に従う小数データ (100, 1)からDataFrameを作成"
   ]
  },
  {
   "cell_type": "code",
   "execution_count": null,
   "id": "c3bc39bd",
   "metadata": {
    "id": "c3bc39bd"
   },
   "outputs": [],
   "source": [
    "np.random.seed(17)\n",
    "arr_nor = np.random.normal(50, 10, (100, 1))\n",
    "\n",
    "df_score = pd.DataFrame(arr_nor, columns=['Score'])"
   ]
  },
  {
   "cell_type": "markdown",
   "id": "47ad1fe0",
   "metadata": {
    "id": "47ad1fe0"
   },
   "source": [
    "['red', 'green', 'blue'] (100, 1)、 ['circle', 'square', 'triangle'] (100, 1)、ndarrayを結合しDataFrameを作成"
   ]
  },
  {
   "cell_type": "code",
   "execution_count": null,
   "id": "4cfeb29d",
   "metadata": {
    "id": "4cfeb29d"
   },
   "outputs": [],
   "source": [
    "np.random.seed(17)\n",
    "colors = ['red', 'green', 'blue']\n",
    "shapes = ['circle', 'square', 'triangle']\n",
    "arr_colors = np.random.choice(colors, (100, 1))\n",
    "arr_shapes = np.random.choice(shapes, (100, 1))"
   ]
  },
  {
   "cell_type": "code",
   "execution_count": null,
   "id": "mAEkJkf5NVlY",
   "metadata": {
    "id": "mAEkJkf5NVlY"
   },
   "outputs": [],
   "source": [
    "# numpy arrayの結合\n",
    "# arr_cs = np.concatenate([arr_colors, arr_shapes])\n",
    "# arr_cs\n",
    "# axis=0がdefaultのため、行方向に結合してしまう"
   ]
  },
  {
   "cell_type": "code",
   "execution_count": null,
   "id": "1xAPKsEDOre5",
   "metadata": {
    "id": "1xAPKsEDOre5"
   },
   "outputs": [],
   "source": [
    "# axis=1で結合\n",
    "arr_cs = np.concatenate([arr_colors, arr_shapes], axis=1)\n",
    "arr_cs[:5]"
   ]
  },
  {
   "cell_type": "code",
   "execution_count": null,
   "id": "NVAS0q81PjmX",
   "metadata": {
    "id": "NVAS0q81PjmX"
   },
   "outputs": [],
   "source": [
    "# horizontally\n",
    "arr_cs_hstack = np.hstack([arr_colors, arr_shapes])\n",
    "arr_cs_hstack[:5]"
   ]
  },
  {
   "cell_type": "code",
   "execution_count": null,
   "id": "CiLoODuUP5fO",
   "metadata": {
    "id": "CiLoODuUP5fO"
   },
   "outputs": [],
   "source": [
    "# vertically\n",
    "arr_cs_vstack = np.vstack([arr_colors, arr_shapes])\n",
    "arr_cs_vstack[98:103]"
   ]
  },
  {
   "cell_type": "code",
   "execution_count": null,
   "id": "5gBW0dxIQg3W",
   "metadata": {
    "id": "5gBW0dxIQg3W"
   },
   "outputs": [],
   "source": [
    "df_cs = pd.DataFrame(arr_cs, columns=['Color', 'Shape'])"
   ]
  },
  {
   "cell_type": "markdown",
   "id": "958718f5",
   "metadata": {
    "id": "958718f5"
   },
   "source": [
    "datetime 1997/7/5から1日刻み (100, 1)からDatetimeIndex、Seriesを作成"
   ]
  },
  {
   "cell_type": "code",
   "execution_count": null,
   "id": "09d08503",
   "metadata": {
    "id": "09d08503"
   },
   "outputs": [],
   "source": [
    "dates = pd.date_range('1997/7/5', periods=100, freq='D')\n",
    "# D: 日, B: 月曜 - 金曜, W: 週（日曜から）,M: 月末, Y: 年末 \n",
    "# H: 時, T: 分, S: 秒、など\n",
    "# 2D, 12Hなどとして使用可\n",
    "dates[:10]\n",
    "dates[:5]"
   ]
  },
  {
   "cell_type": "code",
   "execution_count": null,
   "id": "ZImJju2oUss0",
   "metadata": {
    "id": "ZImJju2oUss0"
   },
   "outputs": [],
   "source": [
    "# 1カラムとして扱う場合はDatetimeIndexからSeriesに変更しておく\n",
    "sr_date = pd.Series(dates, name='Date')\n",
    "type(sr_date)"
   ]
  },
  {
   "cell_type": "markdown",
   "id": "7eff40d1",
   "metadata": {
    "id": "7eff40d1"
   },
   "source": [
    "Series, DataFrameを結合"
   ]
  },
  {
   "cell_type": "code",
   "execution_count": null,
   "id": "cd7743f6",
   "metadata": {
    "id": "cd7743f6",
    "scrolled": true
   },
   "outputs": [],
   "source": [
    "# Series, DataFrameの結合はpd.concat()\n",
    "df = pd.concat([sr_date, sr_price, sr_quantity, df_wh, df_quality, df_score, df_difference, df_cs], axis=1)\n",
    "df"
   ]
  },
  {
   "cell_type": "markdown",
   "id": "174ef27d",
   "metadata": {
    "id": "174ef27d"
   },
   "source": [
    "DataFrameのサンプル（レコード）の一部を抽出する"
   ]
  },
  {
   "cell_type": "code",
   "execution_count": null,
   "id": "fc3053fa",
   "metadata": {
    "id": "fc3053fa",
    "scrolled": true
   },
   "outputs": [],
   "source": [
    "df.head(3)"
   ]
  },
  {
   "cell_type": "code",
   "execution_count": null,
   "id": "WreF4jX6r4KI",
   "metadata": {
    "id": "WreF4jX6r4KI"
   },
   "outputs": [],
   "source": [
    "df.tail(3)"
   ]
  },
  {
   "cell_type": "code",
   "execution_count": null,
   "id": "KCsE8SHCr_b1",
   "metadata": {
    "id": "KCsE8SHCr_b1"
   },
   "outputs": [],
   "source": [
    "df.sample(3)"
   ]
  },
  {
   "cell_type": "code",
   "execution_count": null,
   "id": "mepPghYdsEUr",
   "metadata": {
    "id": "mepPghYdsEUr"
   },
   "outputs": [],
   "source": [
    "# サンプルをシャッフルすることもできる\n",
    "df.sample(frac=1, random_state=17)"
   ]
  },
  {
   "cell_type": "markdown",
   "id": "9b716def",
   "metadata": {
    "id": "9b716def"
   },
   "source": [
    "---\n",
    "<a id=2></a>\n",
    "[Topへ](#0)\n",
    "\n",
    "---\n",
    "## 2.SeriesとDataFrame"
   ]
  },
  {
   "cell_type": "markdown",
   "id": "3a0b885a",
   "metadata": {
    "id": "3a0b885a"
   },
   "source": [
    "* SeriesとDataFrameの関係性\n",
    "* Series、DataFrameをndarrayに変換\n",
    "* Series、DataFrameをlistに変換\n",
    "* Series、DataFrameをdictionaryに変換\n",
    "* Seriesの作成\n",
    "* DataFrameの作成\n",
    "---"
   ]
  },
  {
   "cell_type": "markdown",
   "id": "3a4878ac",
   "metadata": {
    "id": "3a4878ac"
   },
   "source": [
    "SeriesとDataFrameの関係性"
   ]
  },
  {
   "cell_type": "code",
   "execution_count": null,
   "id": "93673e23",
   "metadata": {
    "id": "93673e23"
   },
   "outputs": [],
   "source": [
    "sr_price.head()"
   ]
  },
  {
   "cell_type": "code",
   "execution_count": null,
   "id": "_krldENSuahN",
   "metadata": {
    "id": "_krldENSuahN"
   },
   "outputs": [],
   "source": [
    "# DataFrameの1カラムはSeriesに等しい\n",
    "df['Price'].head()"
   ]
  },
  {
   "cell_type": "code",
   "execution_count": null,
   "id": "xXybj0xLutsn",
   "metadata": {
    "id": "xXybj0xLutsn"
   },
   "outputs": [],
   "source": [
    "type(df['Price'])"
   ]
  },
  {
   "cell_type": "code",
   "execution_count": null,
   "id": "JAsKfEFevNTu",
   "metadata": {
    "id": "JAsKfEFevNTu"
   },
   "outputs": [],
   "source": [
    "df.Price.head()\n",
    "# メソッドと間違えることもあるため基本的には['Price']を用いる"
   ]
  },
  {
   "cell_type": "markdown",
   "id": "efc68bab",
   "metadata": {
    "id": "efc68bab"
   },
   "source": [
    "Series、DataFrameをndarrayに変換"
   ]
  },
  {
   "cell_type": "code",
   "execution_count": null,
   "id": "df76f80a",
   "metadata": {
    "id": "df76f80a"
   },
   "outputs": [],
   "source": [
    "df['Price'].values"
   ]
  },
  {
   "cell_type": "code",
   "execution_count": null,
   "id": "3E8tiVNUEP5-",
   "metadata": {
    "id": "3E8tiVNUEP5-"
   },
   "outputs": [],
   "source": [
    "df.values[:2]"
   ]
  },
  {
   "cell_type": "markdown",
   "id": "e377093a",
   "metadata": {
    "id": "e377093a"
   },
   "source": [
    "Series、DataFrameをlistに変換"
   ]
  },
  {
   "cell_type": "code",
   "execution_count": null,
   "id": "95b91e63",
   "metadata": {
    "id": "95b91e63"
   },
   "outputs": [],
   "source": [
    "df['Price'].tolist()[:5]"
   ]
  },
  {
   "cell_type": "code",
   "execution_count": null,
   "id": "_bt_8EbvEwfr",
   "metadata": {
    "id": "_bt_8EbvEwfr"
   },
   "outputs": [],
   "source": [
    "# DataFrameの場合は一度ndarrayにしてからリストへ\n",
    "df.values.tolist()[:3]"
   ]
  },
  {
   "cell_type": "markdown",
   "id": "2472015d",
   "metadata": {
    "id": "2472015d"
   },
   "source": [
    "Series、DataFrameをdictionaryに変換"
   ]
  },
  {
   "cell_type": "code",
   "execution_count": null,
   "id": "d07a55dc",
   "metadata": {
    "id": "d07a55dc",
    "scrolled": true
   },
   "outputs": [],
   "source": [
    "df['Price'].to_dict()"
   ]
  },
  {
   "cell_type": "code",
   "execution_count": null,
   "id": "cK6lwcBpFZAt",
   "metadata": {
    "id": "cK6lwcBpFZAt"
   },
   "outputs": [],
   "source": [
    "df.to_dict()\n",
    "df.to_dict(orient='records')\n",
    "# orient='records'でサンプルごとを取り出せる"
   ]
  },
  {
   "cell_type": "markdown",
   "id": "d2951ede",
   "metadata": {
    "id": "d2951ede"
   },
   "source": [
    "Seriesの作成"
   ]
  },
  {
   "cell_type": "code",
   "execution_count": null,
   "id": "6a4459eb",
   "metadata": {
    "id": "6a4459eb"
   },
   "outputs": [],
   "source": [
    "arr = np.random.randint(0, 100, 8)\n",
    "pd.Series(arr, name='sample', index=list('ABCDEFGH'))"
   ]
  },
  {
   "cell_type": "code",
   "execution_count": null,
   "id": "MDqQ4Y_oHeLH",
   "metadata": {
    "id": "MDqQ4Y_oHeLH"
   },
   "outputs": [],
   "source": [
    "pd.Series({\"A\":1, \"B\":2, \"C\":3}, name='sample')"
   ]
  },
  {
   "cell_type": "markdown",
   "id": "21e391e4",
   "metadata": {
    "id": "21e391e4"
   },
   "source": [
    "DataFrameの作成"
   ]
  },
  {
   "cell_type": "code",
   "execution_count": null,
   "id": "c6ec9798",
   "metadata": {
    "id": "c6ec9798"
   },
   "outputs": [],
   "source": [
    "pd.DataFrame([{\"A\":1, \"B\":2, \"C\":3}, {\"A\":10, \"C\":30, \"B\":20}], index=[\"x\", \"y\"])\n",
    "# キーがカラム名"
   ]
  },
  {
   "cell_type": "code",
   "execution_count": null,
   "id": "Fz0qa1U8KQdu",
   "metadata": {
    "id": "Fz0qa1U8KQdu"
   },
   "outputs": [],
   "source": [
    "arr1 = np.random.rand(10)\n",
    "arr2 = np.random.randn(10)\n",
    "pd.DataFrame([arr1, arr2])"
   ]
  },
  {
   "cell_type": "markdown",
   "id": "7fcaac03",
   "metadata": {
    "id": "7fcaac03"
   },
   "source": [
    "---\n",
    "<a id=3></a>\n",
    "[Topへ](#0)\n",
    "\n",
    "---\n",
    "## 3.DataFrameの基礎データとaxisの理解"
   ]
  },
  {
   "cell_type": "markdown",
   "id": "c7a44bed",
   "metadata": {
    "id": "c7a44bed"
   },
   "source": [
    "* len(df) : レコード数\n",
    "* df.info() : null, dtypeなど\n",
    "* df.size : 要素数\n",
    "* df.shape : index * columns\n",
    "* df.count : 個数（要素の数）\n",
    "* df.sum() : 合計（要素の値の合計）\n",
    "---"
   ]
  },
  {
   "cell_type": "markdown",
   "id": "e0821cfe",
   "metadata": {
    "id": "e0821cfe"
   },
   "source": [
    "len(df) : レコード数"
   ]
  },
  {
   "cell_type": "code",
   "execution_count": null,
   "id": "a577dff9",
   "metadata": {
    "id": "a577dff9"
   },
   "outputs": [],
   "source": [
    "len(df)"
   ]
  },
  {
   "cell_type": "markdown",
   "id": "9c19cadc",
   "metadata": {
    "id": "9c19cadc"
   },
   "source": [
    "df.info() : null, dtypeなど"
   ]
  },
  {
   "cell_type": "code",
   "execution_count": null,
   "id": "a5ede561",
   "metadata": {
    "id": "a5ede561",
    "scrolled": true
   },
   "outputs": [],
   "source": [
    "df.info()"
   ]
  },
  {
   "cell_type": "markdown",
   "id": "1661cc32",
   "metadata": {
    "id": "1661cc32"
   },
   "source": [
    "df.size : 要素数"
   ]
  },
  {
   "cell_type": "code",
   "execution_count": null,
   "id": "8ec49949",
   "metadata": {
    "id": "8ec49949"
   },
   "outputs": [],
   "source": [
    "# rows * columns\n",
    "df.size"
   ]
  },
  {
   "cell_type": "markdown",
   "id": "b7a2c4c8",
   "metadata": {
    "id": "b7a2c4c8"
   },
   "source": [
    "df.shape : index * columns"
   ]
  },
  {
   "cell_type": "code",
   "execution_count": null,
   "id": "f3c926e7",
   "metadata": {
    "id": "f3c926e7"
   },
   "outputs": [],
   "source": [
    "df.shape"
   ]
  },
  {
   "cell_type": "markdown",
   "id": "188eefc8",
   "metadata": {
    "id": "188eefc8"
   },
   "source": [
    "df.count() : 個数（要素の数）"
   ]
  },
  {
   "cell_type": "code",
   "execution_count": null,
   "id": "05b6655b",
   "metadata": {
    "id": "05b6655b"
   },
   "outputs": [],
   "source": [
    "df.count()"
   ]
  },
  {
   "cell_type": "code",
   "execution_count": null,
   "id": "gvZsYvZSjSSH",
   "metadata": {
    "id": "gvZsYvZSjSSH"
   },
   "outputs": [],
   "source": [
    "# df.count(axis=1)"
   ]
  },
  {
   "cell_type": "code",
   "execution_count": null,
   "id": "uLTfeSUHj0as",
   "metadata": {
    "id": "uLTfeSUHj0as"
   },
   "outputs": [],
   "source": [
    "df.count().count()\n",
    "# 数値の足し合わせではなく、あくまでも個数を数える"
   ]
  },
  {
   "cell_type": "code",
   "execution_count": null,
   "id": "6jyrwMz3ke96",
   "metadata": {
    "id": "6jyrwMz3ke96"
   },
   "outputs": [],
   "source": [
    "type(df.count())"
   ]
  },
  {
   "cell_type": "markdown",
   "id": "ddbbb4c5",
   "metadata": {
    "id": "ddbbb4c5"
   },
   "source": [
    "df.sum() : 合計（要素の値の合計）"
   ]
  },
  {
   "cell_type": "code",
   "execution_count": null,
   "id": "4b4262d8",
   "metadata": {
    "id": "4b4262d8"
   },
   "outputs": [],
   "source": [
    "df.sum()\n",
    "# デフォルトがnumeric_only = Falseに変更されているため、エラーが発生する可能性があります。\n",
    "# その場合はこのセルは無視してnumeric_only = Trueを利用して合計値を算出してください"
   ]
  },
  {
   "cell_type": "code",
   "execution_count": null,
   "id": "X8AiWDq8k8lV",
   "metadata": {
    "id": "X8AiWDq8k8lV"
   },
   "outputs": [],
   "source": [
    "df.sum(numeric_only=True)"
   ]
  },
  {
   "cell_type": "code",
   "execution_count": null,
   "id": "bt3W6O3llFDe",
   "metadata": {
    "id": "bt3W6O3llFDe"
   },
   "outputs": [],
   "source": [
    "df.select_dtypes(include=['int', 'float']).sum()"
   ]
  },
  {
   "cell_type": "code",
   "execution_count": null,
   "id": "Ik1GgIn3lox8",
   "metadata": {
    "id": "Ik1GgIn3lox8"
   },
   "outputs": [],
   "source": [
    "df.sum(axis=1)[:2]"
   ]
  },
  {
   "cell_type": "markdown",
   "id": "b2b2ebd1",
   "metadata": {
    "id": "b2b2ebd1"
   },
   "source": [
    "axisの理解"
   ]
  },
  {
   "cell_type": "code",
   "execution_count": null,
   "id": "2e966e5c",
   "metadata": {
    "id": "2e966e5c",
    "scrolled": true
   },
   "outputs": [],
   "source": [
    "arr = np.arange(12).reshape(3, 4)\n",
    "arr"
   ]
  },
  {
   "cell_type": "code",
   "execution_count": null,
   "id": "dbrZgWexnjyp",
   "metadata": {
    "id": "dbrZgWexnjyp"
   },
   "outputs": [],
   "source": [
    "arr.shape"
   ]
  },
  {
   "cell_type": "code",
   "execution_count": null,
   "id": "fQdmjVhNUdUT",
   "metadata": {
    "id": "fQdmjVhNUdUT"
   },
   "outputs": [],
   "source": [
    "arr.sum(), arr.max()\n",
    "# axisを指定しなければ全要素を対象にする"
   ]
  },
  {
   "cell_type": "code",
   "execution_count": null,
   "id": "xSkstGceUhoY",
   "metadata": {
    "id": "xSkstGceUhoY"
   },
   "outputs": [],
   "source": [
    "arr.sum(axis=0), arr.max(axis=0)"
   ]
  },
  {
   "cell_type": "code",
   "execution_count": null,
   "id": "k_z5XxfAUjv-",
   "metadata": {
    "id": "k_z5XxfAUjv-"
   },
   "outputs": [],
   "source": [
    "arr.sum(axis=1), arr.max(axis=1)"
   ]
  },
  {
   "cell_type": "code",
   "execution_count": null,
   "id": "q3ff81_bm6Vg",
   "metadata": {
    "id": "q3ff81_bm6Vg"
   },
   "outputs": [],
   "source": [
    "arr.sum(axis=0)"
   ]
  },
  {
   "cell_type": "code",
   "execution_count": null,
   "id": "qcUC7odcnD4J",
   "metadata": {
    "id": "qcUC7odcnD4J"
   },
   "outputs": [],
   "source": [
    "arr.sum(axis=1)"
   ]
  },
  {
   "cell_type": "code",
   "execution_count": null,
   "id": "kn1v2OcUpSjf",
   "metadata": {
    "id": "kn1v2OcUpSjf"
   },
   "outputs": [],
   "source": [
    "arr = arr.reshape(2, 3, 2)\n",
    "arr"
   ]
  },
  {
   "cell_type": "code",
   "execution_count": null,
   "id": "F7YvLthYpX3o",
   "metadata": {
    "id": "F7YvLthYpX3o"
   },
   "outputs": [],
   "source": [
    "arr.sum(axis=1)"
   ]
  },
  {
   "cell_type": "code",
   "execution_count": null,
   "id": "qF1pmsEI3PwB",
   "metadata": {
    "id": "qF1pmsEI3PwB"
   },
   "outputs": [],
   "source": [
    "arr.sum(axis=2)"
   ]
  },
  {
   "cell_type": "markdown",
   "id": "0007a8fe",
   "metadata": {
    "id": "0007a8fe"
   },
   "source": [
    "---\n",
    "<a id=4></a>\n",
    "[Topへ](#0)\n",
    "\n",
    "---\n",
    "## 4.IndexとColumnについて"
   ]
  },
  {
   "cell_type": "markdown",
   "id": "cb82e767",
   "metadata": {
    "id": "cb82e767"
   },
   "source": [
    "* indexとcolumnsの取得\n",
    "* indexの設定とリセット\n",
    "* indexラベル、columnラベルの変更\n",
    "---"
   ]
  },
  {
   "cell_type": "markdown",
   "id": "fdacedbc",
   "metadata": {
    "id": "fdacedbc"
   },
   "source": [
    "indexとcolumnsの取得"
   ]
  },
  {
   "cell_type": "code",
   "execution_count": null,
   "id": "d6f378e5",
   "metadata": {
    "id": "d6f378e5",
    "scrolled": true
   },
   "outputs": [],
   "source": [
    "df.index"
   ]
  },
  {
   "cell_type": "code",
   "execution_count": null,
   "id": "5UXXI2HlW3Zh",
   "metadata": {
    "id": "5UXXI2HlW3Zh"
   },
   "outputs": [],
   "source": [
    "df.index.values"
   ]
  },
  {
   "cell_type": "code",
   "execution_count": null,
   "id": "-x0wxJyBXN0B",
   "metadata": {
    "id": "-x0wxJyBXN0B"
   },
   "outputs": [],
   "source": [
    "pd.RangeIndex(1, 20, 4).values\n",
    "# 無理に使う必要はない。ndarrayをindexに指定すればよい"
   ]
  },
  {
   "cell_type": "code",
   "execution_count": null,
   "id": "tamTs0hRX2J4",
   "metadata": {
    "id": "tamTs0hRX2J4"
   },
   "outputs": [],
   "source": [
    "df.columns"
   ]
  },
  {
   "cell_type": "code",
   "execution_count": null,
   "id": "a55dfbf7",
   "metadata": {
    "id": "a55dfbf7",
    "scrolled": true
   },
   "outputs": [],
   "source": [
    "type(df.columns)\n",
    "# いろいろな「型」が存在するが、詳細まで知っていなくてもよい"
   ]
  },
  {
   "cell_type": "markdown",
   "id": "288f110d",
   "metadata": {
    "id": "288f110d"
   },
   "source": [
    "indexの設定とリセット"
   ]
  },
  {
   "cell_type": "code",
   "execution_count": null,
   "id": "OdQM0WfwY_5U",
   "metadata": {
    "id": "OdQM0WfwY_5U"
   },
   "outputs": [],
   "source": [
    "df.head(3)"
   ]
  },
  {
   "cell_type": "code",
   "execution_count": null,
   "id": "vPGlpJ-_ZI0E",
   "metadata": {
    "id": "vPGlpJ-_ZI0E"
   },
   "outputs": [],
   "source": [
    "df.set_index('Date', inplace=True)\n",
    "# カラム名を指定し、インデックスとする"
   ]
  },
  {
   "cell_type": "code",
   "execution_count": null,
   "id": "-qa2sRELZY40",
   "metadata": {
    "id": "-qa2sRELZY40"
   },
   "outputs": [],
   "source": [
    "df.head(3)"
   ]
  },
  {
   "cell_type": "code",
   "execution_count": null,
   "id": "r9Tt25wGbtfs",
   "metadata": {
    "id": "r9Tt25wGbtfs"
   },
   "outputs": [],
   "source": [
    "df.reset_index(inplace=True)\n",
    "df.head(3)"
   ]
  },
  {
   "cell_type": "markdown",
   "id": "3fc836da",
   "metadata": {
    "id": "3fc836da"
   },
   "source": [
    "indexラベル、columnラベルの変更"
   ]
  },
  {
   "cell_type": "code",
   "execution_count": null,
   "id": "21bb7ee6",
   "metadata": {
    "id": "21bb7ee6"
   },
   "outputs": [],
   "source": [
    "cols = df.columns"
   ]
  },
  {
   "cell_type": "code",
   "execution_count": null,
   "id": "nh4VlivdpQJ1",
   "metadata": {
    "id": "nh4VlivdpQJ1"
   },
   "outputs": [],
   "source": [
    "df.rename(index={0:'ZERO'}, columns={'Date':'Time'})   # inplace=Trueは設定せず"
   ]
  },
  {
   "cell_type": "code",
   "execution_count": null,
   "id": "C2068G5xpUSz",
   "metadata": {
    "id": "C2068G5xpUSz"
   },
   "outputs": [],
   "source": [
    "# 直接書き換える\n",
    "df.index = np.arange(100, 200)\n",
    "df.head(3) "
   ]
  },
  {
   "cell_type": "code",
   "execution_count": null,
   "id": "DxhQQvjEpME8",
   "metadata": {
    "id": "DxhQQvjEpME8"
   },
   "outputs": [],
   "source": [
    "# 直接書き換える\n",
    "df.columns = list('ABCDEFGHIJ')\n",
    "df.head(3)"
   ]
  },
  {
   "cell_type": "code",
   "execution_count": null,
   "id": "JxOni1-yqxz5",
   "metadata": {
    "id": "JxOni1-yqxz5"
   },
   "outputs": [],
   "source": [
    "df = df.add_prefix('#')\n",
    "df.head(3)\n",
    "# suffix"
   ]
  },
  {
   "cell_type": "code",
   "execution_count": null,
   "id": "aWK9u0jzr10O",
   "metadata": {
    "id": "aWK9u0jzr10O"
   },
   "outputs": [],
   "source": [
    "# dropで以前のインデックスを削除する\n",
    "df.reset_index(inplace=True, drop=True)\n",
    "df.head(3)"
   ]
  },
  {
   "cell_type": "code",
   "execution_count": null,
   "id": "yKSvwUkcsq2i",
   "metadata": {
    "id": "yKSvwUkcsq2i"
   },
   "outputs": [],
   "source": [
    "df.columns = cols\n",
    "df.head(3)"
   ]
  },
  {
   "cell_type": "markdown",
   "id": "cb604e7b",
   "metadata": {
    "id": "cb604e7b"
   },
   "source": [
    "---\n",
    "<a id=5></a>\n",
    "[Topへ](#0)\n",
    "\n",
    "---\n",
    "## 5.欠損値"
   ]
  },
  {
   "cell_type": "markdown",
   "id": "608d2bdf",
   "metadata": {
    "id": "608d2bdf"
   },
   "source": [
    "* None, null, np.nanを確認\n",
    "* DataFrameの欠損値はNoneもしくはnp.nanで置き換える\n",
    "* df.isnull()の使い方\n",
    "* 欠損値のある行を表示\n",
    "* nullは平均値の計算などに影響するか\n",
    "* 欠損値を視覚化\n",
    "---"
   ]
  },
  {
   "cell_type": "markdown",
   "id": "1a69e05a",
   "metadata": {
    "id": "1a69e05a"
   },
   "source": [
    "None, null, np.nanを確認"
   ]
  },
  {
   "cell_type": "code",
   "execution_count": null,
   "id": "fd1ca400",
   "metadata": {
    "id": "fd1ca400"
   },
   "outputs": [],
   "source": [
    "print(None)"
   ]
  },
  {
   "cell_type": "code",
   "execution_count": null,
   "id": "3FXg6x-ZDV5d",
   "metadata": {
    "id": "3FXg6x-ZDV5d"
   },
   "outputs": [],
   "source": [
    "print(np.nan)"
   ]
  },
  {
   "cell_type": "markdown",
   "id": "063e6357",
   "metadata": {
    "id": "063e6357"
   },
   "source": [
    "DataFrameの欠損値はNoneもしくはnp.nanで置き換える"
   ]
  },
  {
   "cell_type": "code",
   "execution_count": null,
   "id": "62da6db6",
   "metadata": {
    "id": "62da6db6"
   },
   "outputs": [],
   "source": [
    "null_values = [None, np.nan]"
   ]
  },
  {
   "cell_type": "code",
   "execution_count": null,
   "id": "__O36LFRFA_c",
   "metadata": {
    "id": "__O36LFRFA_c"
   },
   "outputs": [],
   "source": [
    "for i in range(30):\n",
    "  np.random.seed(i)   # ひとつの数字ではs, t, uは常に同じ数字になってしまう\n",
    "  s = np.random.randint(0, 100)\n",
    "  t = np.random.randint(0, 10)\n",
    "  u = np.random.randint(0, 2)\n",
    "  df.iloc[s, t] = null_values[u]"
   ]
  },
  {
   "cell_type": "code",
   "execution_count": null,
   "id": "7x5or97EG0s8",
   "metadata": {
    "id": "7x5or97EG0s8"
   },
   "outputs": [],
   "source": [
    "df.sample(5)"
   ]
  },
  {
   "cell_type": "markdown",
   "id": "1259d5ba",
   "metadata": {
    "id": "1259d5ba"
   },
   "source": [
    "df.isnull()の使い方"
   ]
  },
  {
   "cell_type": "code",
   "execution_count": null,
   "id": "70cbcb99",
   "metadata": {
    "id": "70cbcb99",
    "scrolled": true
   },
   "outputs": [],
   "source": [
    "df.isnull()"
   ]
  },
  {
   "cell_type": "code",
   "execution_count": null,
   "id": "22JqD17_IL8S",
   "metadata": {
    "id": "22JqD17_IL8S"
   },
   "outputs": [],
   "source": [
    "df.isnull().sum()"
   ]
  },
  {
   "cell_type": "code",
   "execution_count": null,
   "id": "h0bJWiydIjhs",
   "metadata": {
    "id": "h0bJWiydIjhs"
   },
   "outputs": [],
   "source": [
    "df.isnull().sum().sum()"
   ]
  },
  {
   "cell_type": "code",
   "execution_count": null,
   "id": "rNANinenIyGe",
   "metadata": {
    "id": "rNANinenIyGe"
   },
   "outputs": [],
   "source": [
    "df.info()"
   ]
  },
  {
   "cell_type": "code",
   "execution_count": null,
   "id": "Z8jr-e9XJCmg",
   "metadata": {
    "id": "Z8jr-e9XJCmg"
   },
   "outputs": [],
   "source": [
    "df.isnull().count()\n",
    "# True, Falseそれぞれをひとつの値としてカウントする"
   ]
  },
  {
   "cell_type": "code",
   "execution_count": null,
   "id": "ujoi-5bFJ1ST",
   "metadata": {
    "id": "ujoi-5bFJ1ST"
   },
   "outputs": [],
   "source": [
    "df.isnull().size\n",
    "# rows * columns"
   ]
  },
  {
   "cell_type": "code",
   "execution_count": null,
   "id": "8PQeaNDhJ8VP",
   "metadata": {
    "id": "8PQeaNDhJ8VP"
   },
   "outputs": [],
   "source": [
    "df.count()\n",
    "# nullをカウントしない"
   ]
  },
  {
   "cell_type": "markdown",
   "id": "07acea96",
   "metadata": {
    "id": "07acea96"
   },
   "source": [
    "欠損値のある行を表示"
   ]
  },
  {
   "cell_type": "code",
   "execution_count": null,
   "id": "7643c09a",
   "metadata": {
    "id": "7643c09a",
    "scrolled": true
   },
   "outputs": [],
   "source": [
    "df.isnull().sum()"
   ]
  },
  {
   "cell_type": "code",
   "execution_count": null,
   "id": "jfApb27ONmrj",
   "metadata": {
    "id": "jfApb27ONmrj"
   },
   "outputs": [],
   "source": [
    "df.isnull().sum(axis=1)"
   ]
  },
  {
   "cell_type": "code",
   "execution_count": null,
   "id": "Xaoj7eLvN3IQ",
   "metadata": {
    "id": "Xaoj7eLvN3IQ"
   },
   "outputs": [],
   "source": [
    "0 < df.isnull().sum(axis=1)"
   ]
  },
  {
   "cell_type": "code",
   "execution_count": null,
   "id": "dsvyk8LRODtt",
   "metadata": {
    "id": "dsvyk8LRODtt"
   },
   "outputs": [],
   "source": [
    "# df[np.random.choice([True, False], 100)]\n",
    "# Trueならば抽出され、Falseならば抽出されない"
   ]
  },
  {
   "cell_type": "code",
   "execution_count": null,
   "id": "FyZ-sZMdPTap",
   "metadata": {
    "id": "FyZ-sZMdPTap"
   },
   "outputs": [],
   "source": [
    "# df[CONDITION]\n",
    "df[0 < df.isnull().sum(axis=1)]"
   ]
  },
  {
   "cell_type": "code",
   "execution_count": null,
   "id": "Eyev_tTqQZ-H",
   "metadata": {
    "id": "Eyev_tTqQZ-H"
   },
   "outputs": [],
   "source": [
    "df[0 < df.isnull().sum(axis=1)].style.highlight_null(null_color='#f00')"
   ]
  },
  {
   "cell_type": "markdown",
   "id": "002ab684",
   "metadata": {
    "id": "002ab684"
   },
   "source": [
    "nullは平均値の計算などに影響するか"
   ]
  },
  {
   "cell_type": "code",
   "execution_count": null,
   "id": "9fb55b9d",
   "metadata": {
    "id": "9fb55b9d"
   },
   "outputs": [],
   "source": [
    "df['Score'].mean()"
   ]
  },
  {
   "cell_type": "code",
   "execution_count": null,
   "id": "VfS2hefcRxE5",
   "metadata": {
    "id": "VfS2hefcRxE5"
   },
   "outputs": [],
   "source": [
    "df['Score'].sum()"
   ]
  },
  {
   "cell_type": "code",
   "execution_count": null,
   "id": "bRVWw7TzSGZM",
   "metadata": {
    "id": "bRVWw7TzSGZM"
   },
   "outputs": [],
   "source": [
    "df['Score'].sum() / df['Score'].mean()"
   ]
  },
  {
   "cell_type": "code",
   "execution_count": null,
   "id": "qXF1wju7SRVd",
   "metadata": {
    "id": "qXF1wju7SRVd"
   },
   "outputs": [],
   "source": [
    "df['Score'].count()"
   ]
  },
  {
   "cell_type": "markdown",
   "id": "c956a442",
   "metadata": {
    "id": "c956a442"
   },
   "source": [
    "欠損値の有無を視覚化  \n",
    "※ seabornやグラフについての詳細は別のレクチャーで解説します"
   ]
  },
  {
   "cell_type": "code",
   "execution_count": null,
   "id": "2bfde741",
   "metadata": {
    "id": "2bfde741"
   },
   "outputs": [],
   "source": [
    "plt.figure(figsize=(12, 6))\n",
    "sns.heatmap(df.isnull(), yticklabels=False, cbar=False)\n",
    "plt.show()"
   ]
  },
  {
   "cell_type": "markdown",
   "id": "3d0e4b43",
   "metadata": {
    "id": "3d0e4b43"
   },
   "source": [
    "---\n",
    "<a id=6></a>\n",
    "[Topへ](#0)\n",
    "\n",
    "---\n",
    "## 6.DataFrameを別のファイルとして保存\n",
    "---"
   ]
  },
  {
   "cell_type": "code",
   "execution_count": null,
   "id": "ZHWLuhEjREia",
   "metadata": {
    "id": "ZHWLuhEjREia"
   },
   "outputs": [],
   "source": [
    "# ColaboratoryからDriveへアクセスできるようにする\n",
    "# from google.colab import drive"
   ]
  },
  {
   "cell_type": "code",
   "execution_count": null,
   "id": "PQOhTyh4SSRB",
   "metadata": {
    "id": "PQOhTyh4SSRB"
   },
   "outputs": [],
   "source": [
    "# drive.mount('/drive')\n",
    "# # マウント = アクセスできる状態にすること"
   ]
  },
  {
   "cell_type": "code",
   "execution_count": null,
   "id": "pfFT4mJuSbEA",
   "metadata": {
    "id": "pfFT4mJuSbEA"
   },
   "outputs": [],
   "source": [
    "# df.to_csv('/drive/My Drive/sample1_with_index.csv')\n",
    "df.to_csv('sample1_with_index.csv')"
   ]
  },
  {
   "cell_type": "code",
   "execution_count": null,
   "id": "f9iX4ncPUDj6",
   "metadata": {
    "id": "f9iX4ncPUDj6"
   },
   "outputs": [],
   "source": [
    "# df.to_csv('/drive/My Drive/sample1_without_index.csv', index=False)\n",
    "df.to_csv('sample1_without_index.csv', index=False)"
   ]
  },
  {
   "cell_type": "code",
   "execution_count": null,
   "id": "pfynBGz1UNQw",
   "metadata": {
    "id": "pfynBGz1UNQw"
   },
   "outputs": [],
   "source": [
    "# df.to_pickle('/drive/My Drive/sample1.pkl')\n",
    "df.to_pickle('sample1.pkl')"
   ]
  },
  {
   "cell_type": "markdown",
   "id": "ea75d049",
   "metadata": {
    "id": "ea75d049"
   },
   "source": [
    "---\n",
    "[Topへ](#0)\n",
    "\n",
    "---\n",
    "## 以上\n",
    "---"
   ]
  }
 ],
 "metadata": {
  "colab": {
   "provenance": []
  },
  "kernelspec": {
   "display_name": "Python 3",
   "language": "python",
   "name": "python3"
  },
  "language_info": {
   "codemirror_mode": {
    "name": "ipython",
    "version": 3
   },
   "file_extension": ".py",
   "mimetype": "text/x-python",
   "name": "python",
   "nbconvert_exporter": "python",
   "pygments_lexer": "ipython3",
   "version": "3.10.11"
  }
 },
 "nbformat": 4,
 "nbformat_minor": 5
}
