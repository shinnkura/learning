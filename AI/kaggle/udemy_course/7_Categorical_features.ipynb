{
 "cells": [
  {
   "cell_type": "markdown",
   "id": "97b76cad",
   "metadata": {},
   "source": [
    "<a id=0></a>\n",
    "# 7.Categorical Features\n",
    "カテゴリカル特徴量（変数）の取り扱い"
   ]
  },
  {
   "cell_type": "markdown",
   "id": "e0a39594",
   "metadata": {},
   "source": [
    "---\n",
    "### [1.LabelEncoder()](#1)\n",
    "### [2.get_dummies()](#2)\n",
    "### [3.OneHotEncoder()](#3)\n",
    "### [4.pd.get_dummies()とOneHotEncoder()の違い](#4)\n",
    "### [5.Seriesのstr属性を使う](#5)\n",
    "\n",
    "---"
   ]
  },
  {
   "cell_type": "markdown",
   "id": "be5b9ded",
   "metadata": {},
   "source": [
    "データセットとしてsample1_without_index.csvを使用する"
   ]
  },
  {
   "cell_type": "code",
   "execution_count": null,
   "id": "f14d74a7",
   "metadata": {},
   "outputs": [],
   "source": [
    "import pandas as pd\n",
    "import numpy as np\n",
    "import matplotlib.pyplot as plt\n",
    "import seaborn as sns"
   ]
  },
  {
   "cell_type": "code",
   "execution_count": null,
   "id": "07b49cde",
   "metadata": {
    "scrolled": true
   },
   "outputs": [],
   "source": [
    "# google colaboratoryの場合はドライブをマウントして、適切なパスを指定してください\n",
    "df = pd.read_csv('./sample1_without_index.csv')\n",
    "df.head()"
   ]
  },
  {
   "cell_type": "code",
   "execution_count": null,
   "id": "b99b6f66",
   "metadata": {},
   "outputs": [],
   "source": [
    "df = df[['Color', 'Shape']]"
   ]
  },
  {
   "cell_type": "code",
   "execution_count": null,
   "id": "6814729e",
   "metadata": {},
   "outputs": [],
   "source": [
    "df.head()"
   ]
  },
  {
   "cell_type": "code",
   "execution_count": null,
   "id": "97dd9f23",
   "metadata": {},
   "outputs": [],
   "source": [
    "df.isnull().sum()"
   ]
  },
  {
   "cell_type": "code",
   "execution_count": null,
   "id": "74b2385c",
   "metadata": {},
   "outputs": [],
   "source": [
    "df[df['Color'].isnull()].index"
   ]
  },
  {
   "cell_type": "markdown",
   "id": "5fdbd1f0",
   "metadata": {},
   "source": [
    "---\n",
    "<a id=1></a>\n",
    "[Topへ](#0)\n",
    "\n",
    "---\n",
    "## 1. LabelEncoder()  \n",
    "https://scikit-learn.org/stable/modules/generated/sklearn.preprocessing.LabelEncoder.html  \n",
    "※ ラベルを数値(0, 1, 2, ...)で置換する"
   ]
  },
  {
   "cell_type": "code",
   "execution_count": null,
   "id": "44282cc7",
   "metadata": {},
   "outputs": [],
   "source": [
    "from sklearn.preprocessing import LabelEncoder"
   ]
  },
  {
   "cell_type": "code",
   "execution_count": null,
   "id": "a4a6b309",
   "metadata": {},
   "outputs": [],
   "source": [
    "# インスタンスもしくはオブジェクトと呼ばれる\n",
    "encoder = LabelEncoder()"
   ]
  },
  {
   "cell_type": "code",
   "execution_count": null,
   "id": "c7053427",
   "metadata": {},
   "outputs": [],
   "source": [
    "# フィット、適合・学習させる\n",
    "encoder.fit(df['Color'])"
   ]
  },
  {
   "cell_type": "code",
   "execution_count": null,
   "id": "f577d588",
   "metadata": {},
   "outputs": [],
   "source": [
    "# フィットさせた結果、Colorの持つクラスを記憶する\n",
    "encoder.classes_"
   ]
  },
  {
   "cell_type": "code",
   "execution_count": null,
   "id": "c9818dbf",
   "metadata": {},
   "outputs": [],
   "source": [
    "# transformで変換を行う\n",
    "encoder.transform(df['Color'])"
   ]
  },
  {
   "cell_type": "code",
   "execution_count": null,
   "id": "730f6058",
   "metadata": {},
   "outputs": [],
   "source": [
    "df.head()"
   ]
  },
  {
   "cell_type": "code",
   "execution_count": null,
   "id": "cca421df",
   "metadata": {
    "scrolled": true
   },
   "outputs": [],
   "source": [
    "# 各色とNaNを含むレコードを確認する\n",
    "df_ce = df.copy()\n",
    "df_ce['Color_encoded'] = encoder.transform(df['Color'])\n",
    "df_ce = df_ce[['Color', 'Color_encoded', 'Shape']]\n",
    "df_ce.loc[36:42]"
   ]
  },
  {
   "cell_type": "code",
   "execution_count": null,
   "id": "1149dc07",
   "metadata": {},
   "outputs": [],
   "source": [
    "# 逆変換\n",
    "encoder.inverse_transform(df_ce.loc[36:42, 'Color_encoded'])"
   ]
  },
  {
   "cell_type": "markdown",
   "id": "1eec7232",
   "metadata": {},
   "source": [
    "---\n",
    "<a id=2></a>\n",
    "[Topへ](#0)\n",
    "\n",
    "---\n",
    "## 2. get_dummies()  \n",
    "https://pandas.pydata.org/docs/reference/api/pandas.get_dummies.html  \n",
    "※　カテゴリー変数をダミー変数化（0 or 1）する"
   ]
  },
  {
   "cell_type": "markdown",
   "id": "c570a2cc",
   "metadata": {},
   "source": [
    "* ダミー変数化を実行\n",
    "* drop_first=Trueとは\n",
    "* np.nanはどうなるのか\n",
    "---"
   ]
  },
  {
   "cell_type": "markdown",
   "id": "d40834e8",
   "metadata": {},
   "source": [
    "ダミー変数化を実行"
   ]
  },
  {
   "cell_type": "code",
   "execution_count": null,
   "id": "7102732e",
   "metadata": {},
   "outputs": [],
   "source": [
    "pd.get_dummies(df['Color']).head()"
   ]
  },
  {
   "cell_type": "markdown",
   "id": "e140d98f",
   "metadata": {},
   "source": [
    "drop_first=Trueとは  "
   ]
  },
  {
   "cell_type": "code",
   "execution_count": null,
   "id": "a94ca65c",
   "metadata": {},
   "outputs": [],
   "source": [
    "# blueのカラムがない場合でも0, 0ならばblueと判別できる\n",
    "pd.get_dummies(df['Color'], drop_first=True).head()"
   ]
  },
  {
   "cell_type": "code",
   "execution_count": null,
   "id": "014f8499",
   "metadata": {},
   "outputs": [],
   "source": [
    "df_cd = pd.get_dummies(df, columns=['Color'], drop_first=True)"
   ]
  },
  {
   "cell_type": "code",
   "execution_count": null,
   "id": "f8407b47",
   "metadata": {},
   "outputs": [],
   "source": [
    "df_cd.head()"
   ]
  },
  {
   "cell_type": "code",
   "execution_count": null,
   "id": "3bacab6b",
   "metadata": {},
   "outputs": [],
   "source": [
    "# 複数カラムを同時に変換、さらにデータフレーム形式で返ってくるため便利\n",
    "pd.get_dummies(df, columns=['Color', 'Shape'], drop_first=True)"
   ]
  },
  {
   "cell_type": "markdown",
   "id": "56acc15a",
   "metadata": {},
   "source": [
    "np.nanはどうなるのか"
   ]
  },
  {
   "cell_type": "code",
   "execution_count": null,
   "id": "3054384b",
   "metadata": {},
   "outputs": [],
   "source": [
    "df_cd.isnull().sum()"
   ]
  },
  {
   "cell_type": "code",
   "execution_count": null,
   "id": "1f314d60",
   "metadata": {},
   "outputs": [],
   "source": [
    "# nanとblueの区別がつかない\n",
    "df_cd.loc[36:42]"
   ]
  },
  {
   "cell_type": "code",
   "execution_count": null,
   "id": "0f90bab1",
   "metadata": {},
   "outputs": [],
   "source": [
    "# dummy_naを使用することで解消\n",
    "df_cd = pd.get_dummies(df, columns=['Color'], drop_first=True, dummy_na=True)\n",
    "df_cd.loc[36:42]\n",
    "\n",
    "# nanを含まないように前処理を行うのがよいが、どうしてもnanを含めざる得ない場合はこれを使用する"
   ]
  },
  {
   "cell_type": "markdown",
   "id": "c4431f0f",
   "metadata": {},
   "source": [
    "---\n",
    "<a id=3></a>\n",
    "[Topへ](#0)\n",
    "\n",
    "---\n",
    "## 3. OneHotEncoder()  \n",
    "※　One-hot : ひとつが1で他は0  \n",
    "※　pd.get_dummies()にはない機能を使ってダミー変数化を行う"
   ]
  },
  {
   "cell_type": "markdown",
   "id": "c192160c",
   "metadata": {},
   "source": [
    "https://scikit-learn.org/stable/modules/generated/sklearn.preprocessing.OneHotEncoder.html"
   ]
  },
  {
   "cell_type": "markdown",
   "id": "5c5f1fc7",
   "metadata": {},
   "source": [
    "デフォルトのKeyword Argument : drop=None, handle_unknown='error'"
   ]
  },
  {
   "cell_type": "markdown",
   "id": "5d9a1232",
   "metadata": {},
   "source": [
    "* OneHotEncoder()を使ってみる\n",
    "* 複数の特徴量を変換\n",
    "---"
   ]
  },
  {
   "cell_type": "markdown",
   "id": "4240098f",
   "metadata": {},
   "source": [
    "OneHotEncoder()を使ってみる"
   ]
  },
  {
   "cell_type": "code",
   "execution_count": null,
   "id": "37f5326b",
   "metadata": {},
   "outputs": [],
   "source": [
    "from sklearn.preprocessing import OneHotEncoder\n",
    "encoder = OneHotEncoder()"
   ]
  },
  {
   "cell_type": "code",
   "execution_count": null,
   "id": "b337d9d9",
   "metadata": {},
   "outputs": [],
   "source": [
    "encoder.fit(df[['Color']])"
   ]
  },
  {
   "cell_type": "code",
   "execution_count": null,
   "id": "cfe11136",
   "metadata": {},
   "outputs": [],
   "source": [
    "encoder.categories_"
   ]
  },
  {
   "cell_type": "code",
   "execution_count": null,
   "id": "5bc0ea5e",
   "metadata": {},
   "outputs": [],
   "source": [
    "encoder.transform(df[['Color']])\n",
    "# Sparse : まばらな、疎な\n",
    "# メモリの消費が減るため、sparse=Trueが初期設定となっている"
   ]
  },
  {
   "cell_type": "code",
   "execution_count": null,
   "id": "ada0a615",
   "metadata": {},
   "outputs": [],
   "source": [
    "# アレイの確認方法\n",
    "encoder.transform(df[['Color']]).toarray()[:5]"
   ]
  },
  {
   "cell_type": "markdown",
   "id": "6efb98de",
   "metadata": {},
   "source": [
    "複数の特徴量を変換"
   ]
  },
  {
   "cell_type": "code",
   "execution_count": null,
   "id": "906e2e58",
   "metadata": {},
   "outputs": [],
   "source": [
    "encoder = OneHotEncoder()"
   ]
  },
  {
   "cell_type": "code",
   "execution_count": null,
   "id": "942ab64a",
   "metadata": {},
   "outputs": [],
   "source": [
    "encoder.fit(df)"
   ]
  },
  {
   "cell_type": "code",
   "execution_count": null,
   "id": "08460be7",
   "metadata": {},
   "outputs": [],
   "source": [
    "encoder.categories_"
   ]
  },
  {
   "cell_type": "code",
   "execution_count": null,
   "id": "4e412cb3",
   "metadata": {},
   "outputs": [],
   "source": [
    "encoder.transform(df).toarray()[:5]\n",
    "# DataFrame形式でないのは、ndarrayをモデルにfitさせるのが効率的（無駄がない）身体と思われる。人にとってはDataFrameのほうが見やすくはあるが"
   ]
  },
  {
   "cell_type": "code",
   "execution_count": null,
   "id": "1ef57ffc",
   "metadata": {},
   "outputs": [],
   "source": [
    "encoder.inverse_transform([[0, 1, 0, 0, 0, 1, 0, 0]])"
   ]
  },
  {
   "cell_type": "markdown",
   "id": "819c116d",
   "metadata": {},
   "source": [
    "---\n",
    "<a id=4></a>\n",
    "[Topへ](#0)\n",
    "\n",
    "---\n",
    "## 4. pd.get_dummies()とOneHotEncoder()の違い"
   ]
  },
  {
   "cell_type": "markdown",
   "id": "31709161",
   "metadata": {},
   "source": [
    "* get_dummies()ではトレインセットとテストセットに差が生じる\n",
    "* OneHotEncoder(handle_unknown='error', drop='first')の場合\n",
    "* OneHotEncoder(handle_unknown='ignore')の場合\n",
    "---"
   ]
  },
  {
   "cell_type": "markdown",
   "id": "643cec70",
   "metadata": {},
   "source": [
    "get_dummies()ではトレインセットとテストセットに差が生じる"
   ]
  },
  {
   "cell_type": "code",
   "execution_count": null,
   "id": "f74d5747",
   "metadata": {},
   "outputs": [],
   "source": [
    "np.random.seed(1)\n",
    "s = pd.Series(np.random.choice([0, 1], len(df)), name='target')\n",
    "s"
   ]
  },
  {
   "cell_type": "code",
   "execution_count": null,
   "id": "931a4da1",
   "metadata": {},
   "outputs": [],
   "source": [
    "df_new = pd.concat([df, s], axis=1)\n",
    "df_new.head()"
   ]
  },
  {
   "cell_type": "code",
   "execution_count": null,
   "id": "8442483c",
   "metadata": {},
   "outputs": [],
   "source": [
    "# トレインテストスプリット\n",
    "from sklearn.model_selection import train_test_split"
   ]
  },
  {
   "cell_type": "code",
   "execution_count": null,
   "id": "0cfe58ab",
   "metadata": {},
   "outputs": [],
   "source": [
    "# y : 目的変数、X : 説明変数\n",
    "y = df_new.pop('target')   # pop()では元のdf_newからtargetが切り出される\n",
    "X = df_new"
   ]
  },
  {
   "cell_type": "code",
   "execution_count": null,
   "id": "0941a124",
   "metadata": {},
   "outputs": [],
   "source": [
    "X_train, X_test, y_train, y_test = train_test_split(X, y, test_size=0.05, stratify=y, random_state=17)\n",
    "# stratify : 階層化。yの分離に偏りをなくす。train, testで0, 1の割合を均等にする"
   ]
  },
  {
   "cell_type": "code",
   "execution_count": null,
   "id": "c765d90d",
   "metadata": {},
   "outputs": [],
   "source": [
    "X_test\n",
    "# testにはtrainにあるgreen, squareが存在しない\n",
    "# この場合はどうなるのか？"
   ]
  },
  {
   "cell_type": "code",
   "execution_count": null,
   "id": "745a8e06",
   "metadata": {
    "scrolled": true
   },
   "outputs": [],
   "source": [
    "pd.get_dummies(X_train, drop_first=True, dummy_na=True).head()"
   ]
  },
  {
   "cell_type": "code",
   "execution_count": null,
   "id": "2e2785c0",
   "metadata": {},
   "outputs": [],
   "source": [
    "pd.get_dummies(X_test, drop_first=True, dummy_na=True).head()\n",
    "# 特徴量の数、項目が変化してしまう。テストデータはモデルに当てはめるデータとして使用できない。"
   ]
  },
  {
   "cell_type": "code",
   "execution_count": null,
   "id": "8471954e",
   "metadata": {},
   "outputs": [],
   "source": [
    "encoder = OneHotEncoder(drop='first')"
   ]
  },
  {
   "cell_type": "code",
   "execution_count": null,
   "id": "97e0d44f",
   "metadata": {},
   "outputs": [],
   "source": [
    "encoder.fit_transform(X_train).toarray()[:5]"
   ]
  },
  {
   "cell_type": "code",
   "execution_count": null,
   "id": "c30120d5",
   "metadata": {},
   "outputs": [],
   "source": [
    "encoder.transform(X_test).toarray()\n",
    "# encoderが記憶しているため、カラム数と項目は一致する"
   ]
  },
  {
   "cell_type": "markdown",
   "id": "4ac054df",
   "metadata": {},
   "source": [
    "OneHotEncoder(handle_unknown='error', drop='first')の場合"
   ]
  },
  {
   "cell_type": "code",
   "execution_count": null,
   "id": "7996cc87",
   "metadata": {},
   "outputs": [],
   "source": [
    "# ‘error’ : Raise an error if an unknown category is present during transform.\n",
    "# ‘ignore’ : When an unknown category is encountered during transform, the resulting one-hot encoded columns for this feature will be all zeros. In the inverse transform, an unknown category will be denoted as None."
   ]
  },
  {
   "cell_type": "code",
   "execution_count": null,
   "id": "de1d7897",
   "metadata": {},
   "outputs": [],
   "source": [
    "encoder_error = OneHotEncoder(handle_unknown='error', drop='first')"
   ]
  },
  {
   "cell_type": "code",
   "execution_count": null,
   "id": "cd4d4284",
   "metadata": {},
   "outputs": [],
   "source": [
    "encoder_error.fit_transform(X_train).toarray()[:5]"
   ]
  },
  {
   "cell_type": "code",
   "execution_count": null,
   "id": "a0696e5e",
   "metadata": {},
   "outputs": [],
   "source": [
    "encoder_error.transform(X_test).toarray()"
   ]
  },
  {
   "cell_type": "code",
   "execution_count": null,
   "id": "897d024e",
   "metadata": {},
   "outputs": [],
   "source": [
    "# trainにはない値がtestに存在するという状況を作る\n",
    "X_test_new = X_test.copy()\n",
    "X_test_new.loc[16, 'Color'] = 'purple'\n",
    "X_test_new"
   ]
  },
  {
   "cell_type": "code",
   "execution_count": null,
   "id": "2a64ef67",
   "metadata": {},
   "outputs": [],
   "source": [
    "# encoder_error.transform(X_test_new)\n",
    "# エラーを発生させることで対応する"
   ]
  },
  {
   "cell_type": "markdown",
   "id": "4829a484",
   "metadata": {},
   "source": [
    "OneHotEncoder(handle_unknown='ignore')の場合"
   ]
  },
  {
   "cell_type": "code",
   "execution_count": null,
   "id": "60e4989a",
   "metadata": {},
   "outputs": [],
   "source": [
    "encoder_ignore = OneHotEncoder(handle_unknown='ignore')\n",
    "# drop='first'とは共存できない"
   ]
  },
  {
   "cell_type": "code",
   "execution_count": null,
   "id": "b7ae415d",
   "metadata": {},
   "outputs": [],
   "source": [
    "encoder_ignore.fit(X_train)"
   ]
  },
  {
   "cell_type": "code",
   "execution_count": null,
   "id": "84db2d5e",
   "metadata": {},
   "outputs": [],
   "source": [
    "encoder_ignore.transform(X_test).toarray()"
   ]
  },
  {
   "cell_type": "code",
   "execution_count": null,
   "id": "54a337ca",
   "metadata": {},
   "outputs": [],
   "source": [
    "encoder_ignore.transform(X_test_new).toarray()\n",
    "# 未知の値に対してはすべてを0とすることで区別をする"
   ]
  },
  {
   "cell_type": "markdown",
   "id": "090e793e",
   "metadata": {},
   "source": [
    "#### 状況に応じて使い分ける（例）\n",
    "* 分類される値が少ない、レコード量が多い  \n",
    "    ＝＞　testデータに欠ける値はない　＝＞　get_dummies, OneHotEncoder(drop='first')\n",
    "* 分類される値が少ない、レコード量が少ない  \n",
    "    ＝＞　testデータに欠ける値があるかもしれない　＝＞　OneHotEncoder(handle_unknown='error', drop='first')\n",
    "* 分類される値が多い、レコード量が少ない  \n",
    "    ＝＞　testデータにtrainデータにない値が確実に入る　＝＞ OneHotEncoder, handle_unknown='ignore'"
   ]
  },
  {
   "cell_type": "markdown",
   "id": "7d0fb97a",
   "metadata": {},
   "source": [
    "---\n",
    "<a id=5></a>\n",
    "[Topへ](#0)\n",
    "\n",
    "---\n",
    "## 5.Seriesのstr属性を使う"
   ]
  },
  {
   "cell_type": "markdown",
   "id": "f91f05cf",
   "metadata": {},
   "source": [
    "* Series.strとは\n",
    "* メソッドを確認\n",
    "* 利用頻度の高い置換、抽出、分離\n",
    "---"
   ]
  },
  {
   "cell_type": "markdown",
   "id": "5d292a90",
   "metadata": {},
   "source": [
    "Series.strとは"
   ]
  },
  {
   "cell_type": "code",
   "execution_count": null,
   "id": "166ffb8b",
   "metadata": {},
   "outputs": [],
   "source": [
    "df = pd.DataFrame()\n",
    "df['ID'] = ['A-123', 'B-456', 'A-789', 'B-123']\n",
    "df['Color'] = ['py/white black', 'red green blue', 'py/yellow', 'purple white']\n",
    "df"
   ]
  },
  {
   "cell_type": "code",
   "execution_count": null,
   "id": "8e2b51ca",
   "metadata": {},
   "outputs": [],
   "source": [
    "df['ID'].str\n",
    "# df.str"
   ]
  },
  {
   "cell_type": "code",
   "execution_count": null,
   "id": "2a66d78a",
   "metadata": {},
   "outputs": [],
   "source": [
    "df['ID'].str[:3]"
   ]
  },
  {
   "cell_type": "markdown",
   "id": "98a16179",
   "metadata": {},
   "source": [
    "メソッドを確認"
   ]
  },
  {
   "cell_type": "code",
   "execution_count": null,
   "id": "269b85cb",
   "metadata": {},
   "outputs": [],
   "source": [
    "df['ID'].str.lower()"
   ]
  },
  {
   "cell_type": "code",
   "execution_count": null,
   "id": "eb10e884",
   "metadata": {},
   "outputs": [],
   "source": [
    "df['ID'].str.startswith('B')\n",
    "# endswith"
   ]
  },
  {
   "cell_type": "code",
   "execution_count": null,
   "id": "b643b8eb",
   "metadata": {},
   "outputs": [],
   "source": [
    "df['Color'].str.contains('white')"
   ]
  },
  {
   "cell_type": "code",
   "execution_count": null,
   "id": "f14eca33",
   "metadata": {},
   "outputs": [],
   "source": [
    "# もしくは\n",
    "df['Color'].str.contains('ye|pu')"
   ]
  },
  {
   "cell_type": "markdown",
   "id": "a1e98417",
   "metadata": {},
   "source": [
    "利用頻度の高い置換、抽出、分離"
   ]
  },
  {
   "cell_type": "code",
   "execution_count": null,
   "id": "26a75c15",
   "metadata": {},
   "outputs": [],
   "source": [
    "df['Color'].str.replace('black', 'gold')"
   ]
  },
  {
   "cell_type": "code",
   "execution_count": null,
   "id": "63e2f140",
   "metadata": {},
   "outputs": [],
   "source": [
    "df['ID'].str.split('-')"
   ]
  },
  {
   "cell_type": "code",
   "execution_count": null,
   "id": "b7d3f0b6",
   "metadata": {},
   "outputs": [],
   "source": [
    "# expandという引数がある\n",
    "df['ID'].str.split('-', expand=True)"
   ]
  },
  {
   "cell_type": "code",
   "execution_count": null,
   "id": "b801dbec",
   "metadata": {},
   "outputs": [],
   "source": [
    "df[['ID_a', 'ID_n']] = df['ID'].str.split('-', expand=True)\n",
    "df"
   ]
  },
  {
   "cell_type": "code",
   "execution_count": null,
   "id": "e235bafb",
   "metadata": {},
   "outputs": [],
   "source": [
    "df[['Color_1', 'Color_2', 'Color_3']] = df['Color'].str.split(' ', expand=True)\n",
    "df"
   ]
  },
  {
   "cell_type": "code",
   "execution_count": null,
   "id": "3101b7d5",
   "metadata": {},
   "outputs": [],
   "source": [
    "# 正規表現を使うことも可能\n",
    "df['Color_1'].str.extract('(py/)', expand=True)"
   ]
  },
  {
   "cell_type": "code",
   "execution_count": null,
   "id": "c18809c8",
   "metadata": {},
   "outputs": [],
   "source": [
    "df['py'] = df['Color_1'].str.extract('(py/)', expand=True)\n",
    "df"
   ]
  },
  {
   "cell_type": "code",
   "execution_count": null,
   "id": "56b198e1",
   "metadata": {},
   "outputs": [],
   "source": [
    "df['Color_1'] = df['Color_1'].str.replace('py/', '')\n",
    "df"
   ]
  },
  {
   "cell_type": "markdown",
   "id": "bf2bba3d",
   "metadata": {},
   "source": [
    "---\n",
    "[Topへ](#0)\n",
    "\n",
    "---\n",
    "## 以上\n",
    "    \n",
    "---"
   ]
  }
 ],
 "metadata": {
  "kernelspec": {
   "display_name": "Python 3",
   "language": "python",
   "name": "python3"
  },
  "language_info": {
   "codemirror_mode": {
    "name": "ipython",
    "version": 3
   },
   "file_extension": ".py",
   "mimetype": "text/x-python",
   "name": "python",
   "nbconvert_exporter": "python",
   "pygments_lexer": "ipython3",
   "version": "3.7.10"
  }
 },
 "nbformat": 4,
 "nbformat_minor": 5
}
