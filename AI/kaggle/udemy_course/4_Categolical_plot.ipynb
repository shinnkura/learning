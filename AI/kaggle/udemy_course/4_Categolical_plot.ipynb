{
 "cells": [
  {
   "attachments": {},
   "cell_type": "markdown",
   "id": "23c6d4cc",
   "metadata": {},
   "source": [
    "<a id=0></a>\n",
    "# 4.Categorical Plot"
   ]
  },
  {
   "attachments": {},
   "cell_type": "markdown",
   "id": "cfd115fa",
   "metadata": {},
   "source": [
    "---\n",
    "### [1.SearbornのデータセットからDataFrameを作成 ](#1)\n",
    "### [2.欠損値の処理 ](#2)\n",
    "### [3.欠損した年齢を考えてみる（プロットの例を示す）](#3)\n",
    "### [4.カテゴリカルプロット](#4)\n",
    "---"
   ]
  },
  {
   "cell_type": "code",
   "execution_count": null,
   "id": "5f4b23d4",
   "metadata": {
    "scrolled": false
   },
   "outputs": [],
   "source": [
    "import numpy as np\n",
    "import pandas as pd\n",
    "import matplotlib.pyplot as plt\n",
    "import seaborn as sns"
   ]
  },
  {
   "attachments": {},
   "cell_type": "markdown",
   "id": "cff153af",
   "metadata": {},
   "source": [
    "---\n",
    "<a id=1></a>\n",
    "[Topへ](#0)\n",
    "\n",
    "---\n",
    "## 1. SearbornのデータセットからDataFrameを作成"
   ]
  },
  {
   "attachments": {},
   "cell_type": "markdown",
   "id": "75b9359b",
   "metadata": {},
   "source": [
    "* データセット(Titanic)を読み込む\n",
    "* データセットの理解と整理、Kaggleの紹介\n",
    "* 重複カラムの処理\n",
    "---"
   ]
  },
  {
   "attachments": {},
   "cell_type": "markdown",
   "id": "68f0ca02",
   "metadata": {},
   "source": [
    "データセット(Titanic)を読み込む"
   ]
  },
  {
   "cell_type": "code",
   "execution_count": null,
   "id": "e3c0d5c1",
   "metadata": {},
   "outputs": [],
   "source": [
    "sns.get_dataset_names()\n",
    "# このような関数はないというエラー、もしくは空のリストがリターンされるかもしれません\n",
    "# その場合は続くセルのload_datasetもエラーになると思われます\n",
    "# ダウンロードいただいている\"sns_datasets\"内のcsvファイルを読み込んで学習を先へお進めください"
   ]
  },
  {
   "cell_type": "code",
   "execution_count": null,
   "id": "45b01688",
   "metadata": {},
   "outputs": [],
   "source": [
    "df = sns.load_dataset('titanic')\n",
    "# エラーの場合はダウンロードいただいている\"sns_datasets\"内のcsvファイルを読み込んで学習を先へお進めください"
   ]
  },
  {
   "cell_type": "code",
   "execution_count": null,
   "id": "d366f2cb",
   "metadata": {
    "scrolled": true
   },
   "outputs": [],
   "source": [
    "df.head(3)"
   ]
  },
  {
   "cell_type": "code",
   "execution_count": null,
   "id": "f2b21383",
   "metadata": {},
   "outputs": [],
   "source": [
    "df.shape"
   ]
  },
  {
   "attachments": {},
   "cell_type": "markdown",
   "id": "df5d2ffa",
   "metadata": {},
   "source": [
    "データセットの理解と整理、Kaggleの紹介"
   ]
  },
  {
   "attachments": {},
   "cell_type": "markdown",
   "id": "8f134bb4",
   "metadata": {},
   "source": [
    "<p>\n",
    "    <a href=\"https://www.kaggle.com/competitions/titanic/data\" target=\"_blank\" rel=\"noreferrer noopener\">\n",
    "        Kaggle Dataset Titanic のページへ\n",
    "    </a>\n",
    "</p>\n",
    "\n",
    "    survived : Survival\t0 = No, 1 = Yes  \n",
    "    pclass   : Ticket class\t1 = 1st, 2 = 2nd, 3 = 3rd  \n",
    "    sex\t  : Sex\t  \n",
    "    age      : Age in years  \t\n",
    "    sibsp    : # of siblings / spouses aboard the Titanic  (兄弟姉妹 / 配偶者)  \n",
    "    parch    : # of parents / children aboard the Titanic\t(親 / 子)  \n",
    "    fare     : Passenger fare\t\n",
    "    embarked : Port of Embarkation\tC = Cherbourg, Q = Queenstown, S = Southampton  \n",
    "    who      : man or female or child\n",
    "    class, who, adult_male, deck, embark_town, alive, alone\n",
    "    ※ 一部変更しています"
   ]
  },
  {
   "attachments": {},
   "cell_type": "markdown",
   "id": "999fafd8",
   "metadata": {},
   "source": [
    "重複カラムの処理（'alive', 'class', 'adult_male', 'embark_town', 'alone'）"
   ]
  },
  {
   "cell_type": "code",
   "execution_count": null,
   "id": "48894174",
   "metadata": {},
   "outputs": [],
   "source": [
    "df.info()"
   ]
  },
  {
   "cell_type": "code",
   "execution_count": null,
   "id": "995d9a5f",
   "metadata": {},
   "outputs": [],
   "source": [
    "# survivedとaliveは同じこと？\n",
    "df['survived'].unique(), df['alive'].unique()"
   ]
  },
  {
   "cell_type": "code",
   "execution_count": null,
   "id": "498e1540",
   "metadata": {},
   "outputs": [],
   "source": [
    "df[['survived', 'alive']].value_counts()\n",
    "# 0 には no のみ、1 には yesのみ。"
   ]
  },
  {
   "cell_type": "code",
   "execution_count": null,
   "id": "87debbe9",
   "metadata": {},
   "outputs": [],
   "source": [
    "df[['pclass', 'class']].value_counts()\n",
    "# それぞれ1対1で対応している"
   ]
  },
  {
   "cell_type": "code",
   "execution_count": null,
   "id": "e486566d",
   "metadata": {},
   "outputs": [],
   "source": [
    "df[['embarked', 'embark_town']].value_counts()\n",
    "# それぞれ1対1で対応している"
   ]
  },
  {
   "cell_type": "code",
   "execution_count": null,
   "id": "d7713731",
   "metadata": {},
   "outputs": [],
   "source": [
    "df[['who', 'adult_male']].value_counts()\n",
    "# manであればadult_male。whoで判断可能"
   ]
  },
  {
   "cell_type": "code",
   "execution_count": null,
   "id": "b15b4cee",
   "metadata": {},
   "outputs": [],
   "source": [
    "df[(df['sibsp'] == 0) & (df['parch'] == 0)]['alone'].unique()"
   ]
  },
  {
   "cell_type": "code",
   "execution_count": null,
   "id": "6b3536ca",
   "metadata": {},
   "outputs": [],
   "source": [
    "df[(df['sibsp'] != 0) | (df['parch'] != 0)]['alone'].unique()"
   ]
  },
  {
   "attachments": {},
   "cell_type": "markdown",
   "id": "45fd1ed5",
   "metadata": {},
   "source": [
    "<p style=\"background-color:#ffd\">\n",
    "    'alive', 'class', 'adult_male', 'embark_town', 'alone' のカラムを削除 \n",
    "    </p>"
   ]
  },
  {
   "cell_type": "code",
   "execution_count": null,
   "id": "b7de6c56",
   "metadata": {},
   "outputs": [],
   "source": [
    "df.drop(['alive', 'class', 'adult_male', 'embark_town', 'alone'], axis=1, inplace=True)"
   ]
  },
  {
   "cell_type": "code",
   "execution_count": null,
   "id": "3323086f",
   "metadata": {},
   "outputs": [],
   "source": [
    "df.shape"
   ]
  },
  {
   "cell_type": "code",
   "execution_count": null,
   "id": "e1deae8e",
   "metadata": {},
   "outputs": [],
   "source": [
    "df.info()"
   ]
  },
  {
   "attachments": {},
   "cell_type": "markdown",
   "id": "ff7ea634",
   "metadata": {},
   "source": [
    "---\n",
    "<a id=2></a>\n",
    "[Topへ](#0)\n",
    "\n",
    "---\n",
    "## 2. 欠損値の処理"
   ]
  },
  {
   "attachments": {},
   "cell_type": "markdown",
   "id": "efe28235",
   "metadata": {},
   "source": [
    "* 欠損値の確認\n",
    "* 欠損値の処理('deck')\n",
    "* 欠損値の処理('embarked')：予測を試みる\n",
    "---"
   ]
  },
  {
   "attachments": {},
   "cell_type": "markdown",
   "id": "c81b3ef2",
   "metadata": {},
   "source": [
    "欠損値の確認"
   ]
  },
  {
   "cell_type": "code",
   "execution_count": null,
   "id": "5a65dfa6",
   "metadata": {},
   "outputs": [],
   "source": [
    "df.isnull().sum()"
   ]
  },
  {
   "attachments": {},
   "cell_type": "markdown",
   "id": "04fbf81e",
   "metadata": {},
   "source": [
    "欠損値の処理('deck')"
   ]
  },
  {
   "cell_type": "code",
   "execution_count": null,
   "id": "f097db24",
   "metadata": {},
   "outputs": [],
   "source": [
    "df['deck'].value_counts().sort_index()"
   ]
  },
  {
   "cell_type": "code",
   "execution_count": null,
   "id": "2ea4d06c",
   "metadata": {},
   "outputs": [],
   "source": [
    "df.groupby('deck')['survived'].describe()\n",
    "# クラス別の差は存在するが、プロットのセクションのためnon-nullが77％を占めるこのカラムは削除する"
   ]
  },
  {
   "cell_type": "code",
   "execution_count": null,
   "id": "6b590ad8",
   "metadata": {},
   "outputs": [],
   "source": [
    "df.drop('deck', axis=1, inplace=True)"
   ]
  },
  {
   "cell_type": "code",
   "execution_count": null,
   "id": "87963c9d",
   "metadata": {},
   "outputs": [],
   "source": [
    "df.shape"
   ]
  },
  {
   "attachments": {},
   "cell_type": "markdown",
   "id": "f22168c1",
   "metadata": {},
   "source": [
    "欠損値の処理('embarked')：予測を試みる"
   ]
  },
  {
   "cell_type": "code",
   "execution_count": null,
   "id": "b6a5412c",
   "metadata": {},
   "outputs": [],
   "source": [
    "df[df['embarked'].isnull()]\n",
    "# 年齢以外の項目が一致している"
   ]
  },
  {
   "cell_type": "code",
   "execution_count": null,
   "id": "b730c884",
   "metadata": {},
   "outputs": [],
   "source": [
    "# embarkedとsurvivedの関係\n",
    "df.groupby('embarked')['survived'].describe()\n",
    "# 平均で確認するとCからの乗船客の生存率が高い"
   ]
  },
  {
   "cell_type": "code",
   "execution_count": null,
   "id": "87edb6e6",
   "metadata": {},
   "outputs": [],
   "source": [
    "# 同条件の乗船客がいないかを調べる\n",
    "df[(df['survived'] == 1) & (df['pclass'] == 1) & (df['sex'] == 'female') & (df['fare'] == 80) & (df['sibsp'] == 0) & (df['parch'] == 0)]"
   ]
  },
  {
   "cell_type": "code",
   "execution_count": null,
   "id": "9e1f2103",
   "metadata": {},
   "outputs": [],
   "source": [
    "df[(df['pclass'] == 1) & (df['sex'] == 'female') & (df['fare'] == 80) & (df['sibsp'] == 0) & (df['parch'] == 0)]"
   ]
  },
  {
   "cell_type": "code",
   "execution_count": null,
   "id": "d3641cb8",
   "metadata": {},
   "outputs": [],
   "source": [
    "vc1 = df[(df['pclass'] == 1) & (df['sex'] == 'female') & (df['sibsp'] == 0) & (df['parch'] == 0)]['embarked'].value_counts()\n",
    "vc1"
   ]
  },
  {
   "cell_type": "code",
   "execution_count": null,
   "id": "61f6eb00",
   "metadata": {},
   "outputs": [],
   "source": [
    "vc2 = df['embarked'].value_counts()[[1, 0]]\n",
    "vc2"
   ]
  },
  {
   "cell_type": "code",
   "execution_count": null,
   "id": "2afd06f1",
   "metadata": {},
   "outputs": [],
   "source": [
    "vc1 / vc2\n",
    "# Cからの場合同条件の率が10.7％、Sからは2.2％"
   ]
  },
  {
   "cell_type": "code",
   "execution_count": null,
   "id": "248da5b7",
   "metadata": {},
   "outputs": [],
   "source": [
    "# 乗船地と年齢の関係\n",
    "df[df['sex'] == 'female'].groupby('embarked')['age'].describe()"
   ]
  },
  {
   "cell_type": "code",
   "execution_count": null,
   "id": "497c410c",
   "metadata": {},
   "outputs": [],
   "source": [
    "# ともにCと推定して、値を更新する\n",
    "df.loc[61, 'embarked'] = 'C'\n",
    "df.loc[829, 'embarked'] = 'C'"
   ]
  },
  {
   "cell_type": "code",
   "execution_count": null,
   "id": "5ab4dac1",
   "metadata": {},
   "outputs": [],
   "source": [
    "df.isnull().sum()"
   ]
  },
  {
   "cell_type": "code",
   "execution_count": null,
   "id": "af2b8d95",
   "metadata": {},
   "outputs": [],
   "source": [
    "df.shape"
   ]
  },
  {
   "attachments": {},
   "cell_type": "markdown",
   "id": "63fdca23",
   "metadata": {},
   "source": [
    "---\n",
    "<a id=3></a>\n",
    "[Topへ](#0)\n",
    "\n",
    "---\n",
    "## 3. 欠損した年齢を考えてみる（プロットの例を示す）"
   ]
  },
  {
   "attachments": {},
   "cell_type": "markdown",
   "id": "e0163a8b",
   "metadata": {},
   "source": [
    "* 年齢を確認\n",
    "* 年齢の分布\n",
    "    * **sns.histplot()**\n",
    "    <p>\n",
    "        <a href=\"https://seaborn.pydata.org/generated/seaborn.histplot.html\" target=\"_blank\" rel=\"noreferrer noopener\">\n",
    "            Seaborn.histplot のページへ\n",
    "        </a>\n",
    "    </p>\n",
    "\n",
    "\n",
    "* 'age'と'pclass'の関係\n",
    "* 'age'と'sex'の関係\n",
    "* 相関関係（correlation）\n",
    "    * **sns.heatmap()**\n",
    "    <p>\n",
    "        <a href=\"https://seaborn.pydata.org/generated/seaborn.heatmap.html\" target=\"_blank\" rel=\"noreferrer noopener\">\n",
    "            Seaborn.heatmap のページへ\n",
    "        </a>\n",
    "    </p>\n",
    "\n",
    "\n",
    "* 個別の予測は困難であり、Seabornの学習がメインのため、レコードをすべて削除する\n",
    "* CSVファイルとして保存する\n",
    "\n",
    "---"
   ]
  },
  {
   "attachments": {},
   "cell_type": "markdown",
   "id": "f8efd7f4",
   "metadata": {},
   "source": [
    "年齢を確認"
   ]
  },
  {
   "cell_type": "code",
   "execution_count": null,
   "id": "067187b9",
   "metadata": {},
   "outputs": [],
   "source": [
    "# 177 / 891  約20％が欠損\n",
    "df[df['age'].isnull()].head()"
   ]
  },
  {
   "cell_type": "code",
   "execution_count": null,
   "id": "0e600289",
   "metadata": {},
   "outputs": [],
   "source": [
    "df['who'].unique()"
   ]
  },
  {
   "cell_type": "code",
   "execution_count": null,
   "id": "d2a686e7",
   "metadata": {},
   "outputs": [],
   "source": [
    "df[df['age'].isnull()]['who'].unique()\n",
    "# nullを持つレコードにはchildは含まれない"
   ]
  },
  {
   "cell_type": "code",
   "execution_count": null,
   "id": "a074fb55",
   "metadata": {},
   "outputs": [],
   "source": [
    "df[df['who'] == 'child']['age'].max()\n",
    "# 少なくとも15歳よりは上の年齢"
   ]
  },
  {
   "cell_type": "code",
   "execution_count": null,
   "id": "52cc425d",
   "metadata": {},
   "outputs": [],
   "source": [
    "df_adult = df[15 < df['age']]\n",
    "df_adult.sample(5)"
   ]
  },
  {
   "attachments": {},
   "cell_type": "markdown",
   "id": "b8f3a04d",
   "metadata": {},
   "source": [
    "年齢の分布"
   ]
  },
  {
   "cell_type": "code",
   "execution_count": null,
   "id": "6fd74841",
   "metadata": {},
   "outputs": [],
   "source": [
    "df_adult['age'].max()\n",
    "# 15-80の間の数だと推測できる"
   ]
  },
  {
   "cell_type": "code",
   "execution_count": null,
   "id": "a1f02ab7",
   "metadata": {},
   "outputs": [],
   "source": [
    "# 詳細は後のレクチャーで\n",
    "sns.histplot(data=df_adult, x='age', bins=13, label='passenger')\n",
    "plt.title('adultの年齢分布')\n",
    "plt.legend()\n",
    "\n",
    "plt.show()\n",
    "# 日本語表示ができないため警告文が表示される"
   ]
  },
  {
   "cell_type": "code",
   "execution_count": null,
   "id": "7f48e8a2",
   "metadata": {},
   "outputs": [],
   "source": [
    "df_adult['age'].mean()"
   ]
  },
  {
   "cell_type": "code",
   "execution_count": null,
   "id": "fbaae785",
   "metadata": {},
   "outputs": [],
   "source": [
    "# google colaboratoryの場合\n",
    "# !pip install japanize-matplotlib"
   ]
  },
  {
   "cell_type": "code",
   "execution_count": null,
   "id": "b59e40b4",
   "metadata": {},
   "outputs": [],
   "source": [
    "# google colaboratoryの場合\n",
    "# import japanize_matplotlib\n",
    "# japanize_matplotlib.japanize()\n",
    "\n",
    "# jupyterでもこちらを利用することができるが、以下のset_themeをコース内では用いていきます"
   ]
  },
  {
   "cell_type": "code",
   "execution_count": null,
   "id": "233a28f8",
   "metadata": {},
   "outputs": [],
   "source": [
    "sns.set_theme(font='MS GOTHIC', context='talk', style='darkgrid')\n",
    "# context : paper, notebook, talk, poster\n",
    "# style : dark, darkgrid, white, whitegrid, ticks\n",
    "# 日本語対応は'MS Gothic', 'MS Mincho', 'Meiryo'。他にもあると思われます。"
   ]
  },
  {
   "cell_type": "code",
   "execution_count": null,
   "id": "b2e84025",
   "metadata": {},
   "outputs": [],
   "source": [
    "# 詳細は後のレクチャーで\n",
    "sns.histplot(data=df_adult, x='age', bins=13, label='passenger')\n",
    "plt.title('adultの年齢分布')\n",
    "plt.legend()\n",
    "\n",
    "plt.show()"
   ]
  },
  {
   "attachments": {},
   "cell_type": "markdown",
   "id": "f11eb76f",
   "metadata": {},
   "source": [
    "'age'と'pclass'の関係"
   ]
  },
  {
   "cell_type": "code",
   "execution_count": null,
   "id": "1be5b710",
   "metadata": {},
   "outputs": [],
   "source": [
    "df_adult.head(3)"
   ]
  },
  {
   "cell_type": "code",
   "execution_count": null,
   "id": "cf0280d5",
   "metadata": {},
   "outputs": [],
   "source": [
    "df.groupby('pclass')['fare'].describe()"
   ]
  },
  {
   "cell_type": "code",
   "execution_count": null,
   "id": "359faed3",
   "metadata": {},
   "outputs": [],
   "source": [
    "# 詳細は後のレクチャーで\n",
    "plt.figure(figsize=(12, 5))\n",
    "sns.histplot(data=df_adult, x='age', bins=13, hue='pclass', palette='Set1', multiple='dodge', shrink=0.8, kde=True)\n",
    "plt.title('adultの年齢分布')\n",
    "\n",
    "plt.show()"
   ]
  },
  {
   "cell_type": "code",
   "execution_count": null,
   "id": "1b415fb0",
   "metadata": {},
   "outputs": [],
   "source": [
    "# figsize : インチ単位\n",
    "# dpi : ドットパーインチ\n",
    "# 例）figsize=(10, 5), dpi=100の場合\n",
    "# 10×100＝1000  5×100＝500\n",
    "# 1000×500=50万ピクセル（50万画素）"
   ]
  },
  {
   "cell_type": "code",
   "execution_count": null,
   "id": "3c5f28af",
   "metadata": {},
   "outputs": [],
   "source": [
    "# 詳細は後のレクチャーで\n",
    "fig, axes = plt.subplots(2, 1, figsize=(15, 10), tight_layout=True, sharex=True)\n",
    "sns.histplot(data=df_adult, x='age', bins=13, hue='pclass', multiple='dodge', palette='Set1', shrink=0.9, ax=axes[0])\n",
    "sns.histplot(data=df_adult, x='age', bins=13, hue='pclass', multiple='fill', palette='Set2', shrink=0.9, ax=axes[1])\n",
    "axes[1].set_ylabel('Ratio')\n",
    "axes[0]\n",
    "\n",
    "fig.suptitle(\"adultsの年齢分布\")\n",
    "\n",
    "plt.show()"
   ]
  },
  {
   "attachments": {},
   "cell_type": "markdown",
   "id": "3abaec10",
   "metadata": {},
   "source": [
    "'age'と'sex'の関係"
   ]
  },
  {
   "cell_type": "code",
   "execution_count": null,
   "id": "e9fe55c6",
   "metadata": {},
   "outputs": [],
   "source": [
    "# 詳細は後のレクチャーで\n",
    "plt.figure(figsize=(15,5))\n",
    "sns.histplot(data=df_adult, x='age', bins=13, hue='sex', multiple='dodge', shrink=0.8)\n",
    "plt.show()"
   ]
  },
  {
   "attachments": {},
   "cell_type": "markdown",
   "id": "6d0824a0",
   "metadata": {},
   "source": [
    "相関関係"
   ]
  },
  {
   "cell_type": "code",
   "execution_count": null,
   "id": "9d7b9906",
   "metadata": {},
   "outputs": [],
   "source": [
    "# 相関関係：correlation\n",
    "# 相関係数：correlation coefficient\n",
    "# -1 ～ 1の数字に標準化される\n",
    "df_adult.corr()"
   ]
  },
  {
   "cell_type": "code",
   "execution_count": null,
   "id": "8984c175",
   "metadata": {},
   "outputs": [],
   "source": [
    "# 詳細は後のレクチャーで\n",
    "plt.figure(figsize=(8, 6))\n",
    "sns.heatmap(df_adult.corr(), annot=True, cmap='coolwarm')\n",
    "plt.title('df_adult 相関関係')\n",
    "plt.show()"
   ]
  },
  {
   "attachments": {},
   "cell_type": "markdown",
   "id": "10afe66b",
   "metadata": {},
   "source": [
    "個別の予測は困難であり、Seabornの学習がメインのため、レコードをすべて削除する"
   ]
  },
  {
   "cell_type": "code",
   "execution_count": null,
   "id": "68cbcd06",
   "metadata": {},
   "outputs": [],
   "source": [
    "df.dropna(axis=0, inplace=True)"
   ]
  },
  {
   "cell_type": "code",
   "execution_count": null,
   "id": "fe3c5541",
   "metadata": {},
   "outputs": [],
   "source": [
    "df.shape"
   ]
  },
  {
   "cell_type": "code",
   "execution_count": null,
   "id": "c0ac4116",
   "metadata": {},
   "outputs": [],
   "source": [
    "df.isnull().sum().sum()"
   ]
  },
  {
   "attachments": {},
   "cell_type": "markdown",
   "id": "37b86c84",
   "metadata": {},
   "source": [
    "CSVファイルとして保存する"
   ]
  },
  {
   "cell_type": "code",
   "execution_count": null,
   "id": "fac92b66",
   "metadata": {},
   "outputs": [],
   "source": [
    "df.to_csv('titanic_non_null.csv', index=False)"
   ]
  },
  {
   "attachments": {},
   "cell_type": "markdown",
   "id": "ba627da6",
   "metadata": {},
   "source": [
    "---\n",
    "<a id=4></a>\n",
    "[Topへ](#0)\n",
    "\n",
    "---\n",
    "## 4. カテゴリカルプロット"
   ]
  },
  {
   "attachments": {},
   "cell_type": "markdown",
   "id": "22451491",
   "metadata": {},
   "source": [
    "* キャットプロットとストリッププロット\n",
    " * **sns.catplot()**\n",
    "    <p>\n",
    "        <a href=\"https://seaborn.pydata.org/generated/seaborn.catplot.html\" target=\"_blank\" rel=\"noreferrer noopener\">\n",
    "            Seaborn.catplot のページへ\n",
    "        </a>\n",
    "    </p>\n",
    "    \n",
    "\n",
    "* カウントプロット\n",
    "    * **sns.countplot()**\n",
    "    <p>\n",
    "        <a href=\"https://seaborn.pydata.org/generated/seaborn.countplot.html\" target=\"_blank\" rel=\"noreferrer noopener\">\n",
    "            Seaborn.countplot のページへ\n",
    "        </a>\n",
    "    </p>\n",
    "\n",
    "\n",
    "* バープロット\n",
    " * **sns.barplot()**\n",
    "    <p>\n",
    "        <a href=\"https://seaborn.pydata.org/generated/seaborn.barplot.html\" target=\"_blank\" rel=\"noreferrer noopener\">\n",
    "            Seaborn.barplot のページへ\n",
    "        </a>\n",
    "    </p>\n",
    "\n",
    "\n",
    "* ボックスプロット\n",
    " * **sns.boxplot()**\n",
    "    <p>\n",
    "        <a href=\"https://seaborn.pydata.org/generated/seaborn.boxplot.html\" target=\"_blank\" rel=\"noreferrer noopener\">\n",
    "            Seaborn.boxplot のページへ\n",
    "        </a>\n",
    "    </p>\n",
    "    \n",
    "\n",
    "* バイオリンプロット\n",
    " * **sns.violinplot()**\n",
    "    <p>\n",
    "        <a href=\"https://seaborn.pydata.org/generated/seaborn.violinplot.html\" target=\"_blank\" rel=\"noreferrer noopener\">\n",
    "            Seaborn.violinplot のページへ\n",
    "        </a>\n",
    "    </p>\n",
    "    \n",
    "    \n",
    "* スウォームプロット\n",
    " * **sns.swarmplot()**\n",
    "    <p>\n",
    "        <a href=\"https://seaborn.pydata.org/generated/seaborn.swarmplot.html\" target=\"_blank\" rel=\"noreferrer noopener\">\n",
    "            Seaborn.swarmplot のページへ\n",
    "        </a>\n",
    "    </p>\n",
    "    \n",
    "\n",
    "\n",
    "---"
   ]
  },
  {
   "attachments": {},
   "cell_type": "markdown",
   "id": "e40c82d3",
   "metadata": {},
   "source": [
    "キャットプロットとストリッププロット"
   ]
  },
  {
   "cell_type": "code",
   "execution_count": null,
   "id": "a32a9a48",
   "metadata": {},
   "outputs": [],
   "source": [
    "df.head()"
   ]
  },
  {
   "cell_type": "code",
   "execution_count": null,
   "id": "f7cc0990",
   "metadata": {},
   "outputs": [],
   "source": [
    "df.groupby('embarked')['age'].describe()"
   ]
  },
  {
   "cell_type": "code",
   "execution_count": null,
   "id": "1b527738",
   "metadata": {},
   "outputs": [],
   "source": [
    "sns.catplot(data=df, x='embarked', y='age', height=6, aspect=2)\n",
    "plt.show()\n",
    "#  kind : 'strip'(default), 'swarm', 'box', 'violin', 'boxen', 'point', 'bar'\n",
    "\n",
    "# catplotはカテゴリカルプロットを包括するようなものだと言ってよいと思います。\n",
    "# 特徴は行・列にカテゴリーを加えたグリッド型の表現ができることです"
   ]
  },
  {
   "cell_type": "code",
   "execution_count": null,
   "id": "b18440bd",
   "metadata": {},
   "outputs": [],
   "source": [
    "sns.catplot(data=df, x='embarked', y='age', hue='sex', height=6, aspect=2)\n",
    "plt.show()\n",
    "# hue:色相\n",
    "# グリッド型を使えるものはheight,aspectでグラフのサイズを変更します"
   ]
  },
  {
   "cell_type": "code",
   "execution_count": null,
   "id": "613f331a",
   "metadata": {},
   "outputs": [],
   "source": [
    "sns.catplot(data=df, x='embarked', y='age', hue='sex', dodge=True, height=6, aspect=2)\n",
    "plt.show()\n",
    "# hueで重なるものはdodge=Trueで分離できます"
   ]
  },
  {
   "cell_type": "code",
   "execution_count": null,
   "id": "ad68bd7b",
   "metadata": {},
   "outputs": [],
   "source": [
    "sns.catplot(data=df, x='embarked', y='age', height=4, col='pclass', palette='Greens')\n",
    "plt.show()\n",
    "# カラムを指定しました"
   ]
  },
  {
   "cell_type": "code",
   "execution_count": null,
   "id": "70d79c49",
   "metadata": {},
   "outputs": [],
   "source": [
    "sns.catplot(data=df, x='embarked', y='age', height=4, col='pclass', row='survived', palette='Reds')\n",
    "plt.show()\n",
    "# ローも加えています"
   ]
  },
  {
   "cell_type": "code",
   "execution_count": null,
   "id": "d05a9fa9",
   "metadata": {},
   "outputs": [],
   "source": [
    "# row, colを設定\n",
    "sns.catplot(data=df, x='embarked', y='age', height=4, col='pclass', row='sex', hue='survived', palette='Set2')\n",
    "plt.show()\n",
    "# hueにsurvivedを設定し、合計４つのカテゴリ、ひとつの数値データを扱っています"
   ]
  },
  {
   "cell_type": "code",
   "execution_count": null,
   "id": "99728c49",
   "metadata": {},
   "outputs": [],
   "source": [
    "plt.figure(figsize=(6, 3))\n",
    "sns.stripplot(data=df, x='embarked', y='age', hue='survived', palette='Set2')\n",
    "plt.show()\n",
    "# 単独の場合はstripplotを選択\n",
    "# グラフのサイズ変更はfigsizeで"
   ]
  },
  {
   "attachments": {},
   "cell_type": "markdown",
   "id": "67b4bac4",
   "metadata": {},
   "source": [
    "カウントプロット"
   ]
  },
  {
   "cell_type": "code",
   "execution_count": null,
   "id": "a6081ed9",
   "metadata": {},
   "outputs": [],
   "source": [
    "sns.countplot(data=df, x='survived', hue='sex', palette='gnuplot')\n",
    "plt.show()"
   ]
  },
  {
   "cell_type": "code",
   "execution_count": null,
   "id": "8b5a7777",
   "metadata": {},
   "outputs": [],
   "source": [
    "# xticks、目盛りの変更\n",
    "sns.countplot(data=df, x='survived', hue='embarked', palette='bone')\n",
    "plt.xticks([0, 1], ['No', 'Yes'])\n",
    "plt.show()"
   ]
  },
  {
   "attachments": {},
   "cell_type": "markdown",
   "id": "9b4180b8",
   "metadata": {},
   "source": [
    "バープロット"
   ]
  },
  {
   "cell_type": "code",
   "execution_count": null,
   "id": "bae163c3",
   "metadata": {
    "scrolled": true
   },
   "outputs": [],
   "source": [
    "sns.barplot(data =df, x = 'embarked', y = 'age', palette= 'Set2')\n",
    "# estimator:デフォルトは平均, np.std, np.median, np.var, np.cov(共分散)\n",
    "plt.xticks([0, 1, 2], ['Southampton', 'Cherbourg', 'Queenstown'], rotation=60)\n",
    "plt.show()\n",
    "# d(=d)"
   ]
  },
  {
   "cell_type": "code",
   "execution_count": null,
   "id": "e19e559e",
   "metadata": {},
   "outputs": [],
   "source": [
    "df.groupby('embarked')['age'].mean()"
   ]
  },
  {
   "attachments": {},
   "cell_type": "markdown",
   "id": "70893b90",
   "metadata": {},
   "source": [
    "ボックスプロット"
   ]
  },
  {
   "cell_type": "code",
   "execution_count": null,
   "id": "74a342b2",
   "metadata": {},
   "outputs": [],
   "source": [
    "sns.boxplot(data=df, x='pclass', y='fare', hue='who', palette='Set3')\n",
    "plt.show()"
   ]
  },
  {
   "cell_type": "code",
   "execution_count": null,
   "id": "ae488127",
   "metadata": {
    "scrolled": true
   },
   "outputs": [],
   "source": [
    "# sym=''で外れ値の表示をなくすことができる（symbol）\n",
    "sns.boxplot(data=df, x='pclass', y='fare', hue='who', palette='Set3', sym='', width=0.5)\n",
    "plt.legend(loc='upper center', title='Who')\n",
    "plt.show()"
   ]
  },
  {
   "cell_type": "code",
   "execution_count": null,
   "id": "2e586e27",
   "metadata": {},
   "outputs": [],
   "source": [
    "df.groupby(['pclass', 'who'])['fare'].describe()"
   ]
  },
  {
   "attachments": {},
   "cell_type": "markdown",
   "id": "91220b46",
   "metadata": {},
   "source": [
    "バイオリンプロット"
   ]
  },
  {
   "cell_type": "code",
   "execution_count": null,
   "id": "574a9653",
   "metadata": {
    "scrolled": true
   },
   "outputs": [],
   "source": [
    "# combination of boxplot and kernel density estimate\n",
    "# バイオリンの中には中央値、四分位範囲、最大値もしくは最小値もしくは外れ値との境界値が示されている\n",
    "plt.figure(figsize=(8, 6))\n",
    "sns.violinplot(data=df, x='sex', y='age', hue='survived', palette='spring')\n",
    "plt.show()"
   ]
  },
  {
   "cell_type": "code",
   "execution_count": null,
   "id": "50afec6a",
   "metadata": {},
   "outputs": [],
   "source": [
    "plt.figure(figsize=(8, 6))\n",
    "sns.violinplot(data=df, x='sex', y='age', hue='survived', palette='spring', split=True)\n",
    "plt.show()"
   ]
  },
  {
   "cell_type": "code",
   "execution_count": null,
   "id": "56fe6254",
   "metadata": {},
   "outputs": [],
   "source": [
    "# inner='quartile'\n",
    "plt.figure(figsize=(8, 6))\n",
    "sns.violinplot(data=df, x='sex', y='age', hue='survived', palette='spring', split=True, inner='quartile')\n",
    "plt.show()"
   ]
  },
  {
   "attachments": {},
   "cell_type": "markdown",
   "id": "dd720504",
   "metadata": {},
   "source": [
    "スウォームプロット"
   ]
  },
  {
   "cell_type": "code",
   "execution_count": null,
   "id": "a9fbe372",
   "metadata": {},
   "outputs": [],
   "source": [
    "# swarm：群れ\n",
    "plt.figure(figsize=(10, 6))\n",
    "sns.swarmplot(data=df, x='sex', y='age', hue='survived', palette='prism')\n",
    "plt.show()"
   ]
  },
  {
   "cell_type": "code",
   "execution_count": null,
   "id": "b1b1845c",
   "metadata": {},
   "outputs": [],
   "source": [
    "# dodge=True\n",
    "plt.figure(figsize=(10, 6))\n",
    "sns.swarmplot(data=df, x='sex', y='age', hue='survived', palette='prism', dodge=True, size=4)\n",
    "plt.legend(loc='upper center', title='Survived')\n",
    "plt.show()\n",
    "# 6.7% of the points cannot be placed; you may want to decrease the size of the markers or use stripplot. warnings.warn(msg, UserWarning)に対して, size=4での対応もできるがplt.figure(figsize=(15, 6))としてもよい"
   ]
  },
  {
   "attachments": {},
   "cell_type": "markdown",
   "id": "f0d952ab",
   "metadata": {},
   "source": [
    "---\n",
    " <a id=4></a>\n",
    "[Topへ](#0)\n",
    "\n",
    "---\n",
    "## 以上\n",
    "    \n",
    "---"
   ]
  },
  {
   "cell_type": "code",
   "execution_count": null,
   "id": "af56fa32",
   "metadata": {},
   "outputs": [],
   "source": []
  }
 ],
 "metadata": {
  "kernelspec": {
   "display_name": "Python 3",
   "language": "python",
   "name": "python3"
  },
  "language_info": {
   "codemirror_mode": {
    "name": "ipython",
    "version": 3
   },
   "file_extension": ".py",
   "mimetype": "text/x-python",
   "name": "python",
   "nbconvert_exporter": "python",
   "pygments_lexer": "ipython3",
   "version": "3.10.11"
  }
 },
 "nbformat": 4,
 "nbformat_minor": 5
}
