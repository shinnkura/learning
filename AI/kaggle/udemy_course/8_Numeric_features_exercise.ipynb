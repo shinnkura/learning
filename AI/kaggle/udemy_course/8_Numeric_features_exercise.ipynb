{
 "cells": [
  {
   "cell_type": "markdown",
   "id": "40d9c665",
   "metadata": {},
   "source": [
    "---\n",
    "#  8.Numerical Features Exercise\n",
    "---"
   ]
  },
  {
   "cell_type": "code",
   "execution_count": null,
   "id": "2fe04f33",
   "metadata": {},
   "outputs": [],
   "source": [
    "import numpy as np\n",
    "import pandas as pd\n",
    "import matplotlib.pyplot as plt\n",
    "import seaborn as sns\n",
    "sns.set_theme(context='talk', style='darkgrid', font='MS GOTHIC')"
   ]
  },
  {
   "cell_type": "markdown",
   "id": "7c624520",
   "metadata": {},
   "source": [
    "Exercise_1 : 3つのスケーラー（MaxAbsScalerを除く）をインポートしてください"
   ]
  },
  {
   "cell_type": "code",
   "execution_count": null,
   "id": "3ee14538",
   "metadata": {},
   "outputs": [],
   "source": []
  },
  {
   "cell_type": "markdown",
   "id": "e96f298e",
   "metadata": {},
   "source": [
    "<details>\n",
    "    <summary><font color='red'>解答はここをクリック</font></summary>\n",
    "    <code>from sklearn.preprocessing import StandardScaler</code><br>\n",
    "    <code>from sklearn.preprocessing import MinMaxScaler</code><br>\n",
    "    <code>from sklearn.preprocessing import RobustScaler</code><br>\n",
    "</details>"
   ]
  },
  {
   "cell_type": "markdown",
   "id": "28d6b528",
   "metadata": {},
   "source": [
    "Exercise_2 : それぞれをインスタンス化してください"
   ]
  },
  {
   "cell_type": "code",
   "execution_count": null,
   "id": "75eec315",
   "metadata": {},
   "outputs": [],
   "source": [
    "st_scaler = \n",
    "mm_scaler = \n",
    "ro_scaler = "
   ]
  },
  {
   "cell_type": "markdown",
   "id": "fe7787dc",
   "metadata": {},
   "source": [
    "<details>\n",
    "    <summary><font color='red'>解答はここをクリック</font></summary>\n",
    "    <code>st_scaler = StandardScaler()</code><br>\n",
    "    <code>mm_scaler = MinMaxScaler()</code><br>\n",
    "    <code>ro_scaler = RobustScaler()</code><br>\n",
    "</details>"
   ]
  },
  {
   "cell_type": "code",
   "execution_count": null,
   "id": "db985eb3",
   "metadata": {},
   "outputs": [],
   "source": [
    "# 実行して表示\n",
    "# 外れ値を持つデータの作成\n",
    "np.random.seed(17)\n",
    "x1 = np.random.randn(100) * 10   # 標準偏差10、平均0\n",
    "x2 = np.random.randint(-100, 100, 10)   # 10個の整数\n",
    "X = np.concatenate([x1, x2]) - 10   # 全体を-10ずらす\n",
    "X.min(), X.max()"
   ]
  },
  {
   "cell_type": "markdown",
   "id": "4d1f6bf7",
   "metadata": {},
   "source": [
    "Exercise_3 : Xの分布をヒストプロットで表示してください"
   ]
  },
  {
   "cell_type": "code",
   "execution_count": null,
   "id": "de54a1b2",
   "metadata": {
    "scrolled": true
   },
   "outputs": [],
   "source": [
    "\n",
    "plt.show()"
   ]
  },
  {
   "cell_type": "markdown",
   "id": "1f4ddc3c",
   "metadata": {},
   "source": [
    "<details>\n",
    "    <summary><font color='red'>解答はここをクリック</font></summary>\n",
    "    <code>sns.histplot(X)</code><br>\n",
    "</details>"
   ]
  },
  {
   "cell_type": "markdown",
   "id": "b2c30d92",
   "metadata": {},
   "source": [
    "Exercise_4 : 以下を実行し、ERRORの最終行を参考にして、Xをスケーラーのパラメーターに適した形状に変更してください(X_reshaped)"
   ]
  },
  {
   "cell_type": "code",
   "execution_count": null,
   "id": "b65c6162",
   "metadata": {
    "scrolled": true
   },
   "outputs": [],
   "source": [
    "# 実行して表示\n",
    "X_st = st_scaler.fit_transform(X)"
   ]
  },
  {
   "cell_type": "code",
   "execution_count": null,
   "id": "510af8da",
   "metadata": {},
   "outputs": [],
   "source": [
    "X_reshaped = "
   ]
  },
  {
   "cell_type": "markdown",
   "id": "4c18d35a",
   "metadata": {},
   "source": [
    "<details>\n",
    "    <summary><font color='red'>解答はここをクリック</font></summary>\n",
    "    <code>X_reshaped = X.reshape(-1, 1)</code><br>\n",
    "</details>"
   ]
  },
  {
   "cell_type": "code",
   "execution_count": null,
   "id": "e5bdc0a7",
   "metadata": {},
   "outputs": [],
   "source": [
    "# 実行して表示\n",
    "X_reshaped[:5]"
   ]
  },
  {
   "cell_type": "markdown",
   "id": "8f1ead72",
   "metadata": {},
   "source": [
    "Exercise_5 : st_scalerでX_reshapedのスケーリングを行ってください"
   ]
  },
  {
   "cell_type": "code",
   "execution_count": null,
   "id": "35afa233",
   "metadata": {},
   "outputs": [],
   "source": [
    "X_st = "
   ]
  },
  {
   "cell_type": "markdown",
   "id": "52233823",
   "metadata": {},
   "source": [
    "<details>\n",
    "    <summary><font color='red'>解答はここをクリック</font></summary>\n",
    "    <code>X_st = st_scaler.fit_transform(X_reshaped)</code><br>\n",
    "</details>"
   ]
  },
  {
   "cell_type": "code",
   "execution_count": null,
   "id": "3c66c5f4",
   "metadata": {},
   "outputs": [],
   "source": [
    "# 実行して表示\n",
    "X_st[:5]"
   ]
  },
  {
   "cell_type": "code",
   "execution_count": null,
   "id": "50f65f4a",
   "metadata": {},
   "outputs": [],
   "source": [
    "# 実行して表示\n",
    "X_st.std(), X_st.mean()\n",
    "# ほぼ1、ほぼ0"
   ]
  },
  {
   "cell_type": "markdown",
   "id": "1a1ab977",
   "metadata": {},
   "source": [
    "Exercise_6: X_stを1次元に戻し、スケールされた値の分布をヒストプロットで確認してください"
   ]
  },
  {
   "cell_type": "code",
   "execution_count": null,
   "id": "7d5a66df",
   "metadata": {},
   "outputs": [],
   "source": [
    "# 実行して表示\n",
    "X_st.ndim"
   ]
  },
  {
   "cell_type": "code",
   "execution_count": null,
   "id": "0fbca9e7",
   "metadata": {
    "scrolled": false
   },
   "outputs": [],
   "source": [
    "\n",
    "plt.show()"
   ]
  },
  {
   "cell_type": "markdown",
   "id": "0e1e8260",
   "metadata": {},
   "source": [
    "<details>\n",
    "    <summary><font color='red'>解答はここをクリック</font></summary>\n",
    "    <code>sns.histplot(X_st.flatten())</code>\n",
    "</details>"
   ]
  },
  {
   "cell_type": "markdown",
   "id": "2662d827",
   "metadata": {},
   "source": [
    "Exercise_7: それぞれのスケーラーでXをスケーリングし、ヒストプロットで結果を表示してください"
   ]
  },
  {
   "cell_type": "code",
   "execution_count": null,
   "id": "f1d2f909",
   "metadata": {
    "scrolled": false
   },
   "outputs": [],
   "source": [
    "fig, axes = plt.subplots(1, 4, figsize=(16, 4), tight_layout=True)\n",
    "\n",
    "sns.histplot(x=X, kde=True, ax=axes[0])\n",
    "sns.histplot(x=  , kde=True, ax=axes[1])   # x= 以降を埋める\n",
    "axes[1].set_title('Standerd')\n",
    "sns.histplot(x=  , kde=True, ax=axes[2])   # x= 以降を埋める\n",
    "axes[2].set_title('MinMax')\n",
    "sns.histplot(x=  , kde=True, ax=axes[3])   # x= 以降を埋める\n",
    "axes[3].set_title('Robust')\n",
    "plt.show()\n",
    "\n",
    "# binsの設定によりRobustScalerでスケーリングしたヒストプロットは多少形が異ってしまうことがあります。"
   ]
  },
  {
   "cell_type": "markdown",
   "id": "c8658cdc",
   "metadata": {},
   "source": [
    "<details>\n",
    "    <summary><font color='red'>解答はここをクリック</font></summary>\n",
    "    <code>x=st_scaler.fit_transform(X.reshape(-1, 1)).flatten()</code><br>\n",
    "    <code>x=mm_scaler.fit_transform(X.reshape(-1, 1)).flatten()</code><br>\n",
    "    <code>x=ro_scaler.fit_transform(X.reshape(-1, 1)).flatten()</code>\n",
    "</details>"
   ]
  },
  {
   "attachments": {},
   "cell_type": "markdown",
   "id": "3c474df1",
   "metadata": {},
   "source": [
    "以下のセルを実行してボストン住宅価格データセットに関するデータフレームを作成してください。  \n",
    "※ 以降において動画と異なる部分がございます。あらかじめご了承のほど何卒よろしくお願いいたします。"
   ]
  },
  {
   "cell_type": "code",
   "execution_count": null,
   "id": "f0562792",
   "metadata": {
    "scrolled": false
   },
   "outputs": [],
   "source": [
    "# 実行して表示\n",
    "data_url = \"http://lib.stat.cmu.edu/datasets/boston\"\n",
    "raw_df = pd.read_csv(data_url, sep=\"\\s+\", skiprows=22, header=None)\n",
    "data = np.hstack((raw_df.values[::2, :], raw_df.values[1::2, :3]))\n",
    "\n",
    "feature_names = ['CRIM', 'ZN', 'INDUS', 'CHAS', 'NOX', 'RM', 'AGE', 'DIS', 'RAD', 'TAX', 'PTRATIO', 'B', 'LSTAT', 'target']\n",
    "df = pd.DataFrame(data, columns=feature_names)\n",
    "\n",
    "df.head()"
   ]
  },
  {
   "attachments": {},
   "cell_type": "markdown",
   "id": "8dbe6340",
   "metadata": {},
   "source": [
    "Exercise_8: ふたつのトランスフォーマーをインポートしてください"
   ]
  },
  {
   "cell_type": "code",
   "execution_count": null,
   "id": "3de163a1",
   "metadata": {},
   "outputs": [],
   "source": []
  },
  {
   "cell_type": "markdown",
   "id": "3c574aa5",
   "metadata": {},
   "source": [
    "<details>\n",
    "    <summary><font color='red'>解答はここをクリック</font></summary>\n",
    "    <code>from sklearn.preprocessing import QuantileTransformer</code><br>\n",
    "    <code>from sklearn.preprocessing import PowerTransformer</code>\n",
    "</details>"
   ]
  },
  {
   "attachments": {},
   "cell_type": "markdown",
   "id": "94327d22",
   "metadata": {},
   "source": [
    "Exercise_9 : それぞれのインスタンスを作成して下さい。QuantileTransformerに関しては、'normal'と'uniform'のふたつを作成し、n_quantiles=506としてください。その他はデフォルトの設定でかまいません"
   ]
  },
  {
   "cell_type": "code",
   "execution_count": null,
   "id": "a710f493",
   "metadata": {},
   "outputs": [],
   "source": [
    "qut_n = \n",
    "qut_u = \n",
    "pot = "
   ]
  },
  {
   "cell_type": "markdown",
   "id": "00ea9e88",
   "metadata": {},
   "source": [
    "<details>\n",
    "    <summary><font color='red'>解答はここをクリック</font></summary>\n",
    "    <code>qut_n = QuantileTransformer(output_distribution='normal', n_quantiles=506)</code><br>\n",
    "    <code>qut_u = QuantileTransformer(output_distribution='uniform', n_quantiles=506)</code><br>\n",
    "    <code>pot = PowerTransformer()</code>\n",
    "</details>"
   ]
  },
  {
   "cell_type": "code",
   "execution_count": null,
   "id": "9b7293a6",
   "metadata": {},
   "outputs": [],
   "source": [
    "# 実行\n",
    "# 特徴量を3つに絞って考える\n",
    "df_t = df[['RM', 'AGE', 'LSTAT']]"
   ]
  },
  {
   "cell_type": "code",
   "execution_count": null,
   "id": "49325506",
   "metadata": {
    "scrolled": true
   },
   "outputs": [],
   "source": [
    "# 実行して表示\n",
    "fig, axes = plt.subplots(1, 3, figsize=(14, 4), tight_layout=True)\n",
    "sns.histplot(df['INDUS'], ax=axes[0])\n",
    "sns.histplot(df['AGE'], ax=axes[1])\n",
    "sns.histplot(df['LSTAT'], ax=axes[2])\n",
    "plt.show()"
   ]
  },
  {
   "attachments": {},
   "cell_type": "markdown",
   "id": "9a5af0b4",
   "metadata": {},
   "source": [
    "Exercise_10 : 関数plotsを完成させ、df_tのそれぞれの特徴量の非線形変換の結果をヒストプロットで表示してください"
   ]
  },
  {
   "cell_type": "code",
   "execution_count": null,
   "id": "e042dba1",
   "metadata": {},
   "outputs": [],
   "source": [
    "def plots(feature):\n",
    "    fig, axes = plt.subplots(1, 4, figsize=(14, 4), tight_layout=True)\n",
    "    sns.histplot(x=df[feature] , ax=axes[0])\n",
    "    sns.histplot(x= , ax=axes[1])   # x= 以降を埋める\n",
    "    axes[1].set_title('Quantile Uniform')\n",
    "    sns.histplot(x= , ax=axes[2])   # x= 以降を埋める\n",
    "    axes[2].set_title('Quantile Normal')\n",
    "    sns.histplot(x= ax=axes[3])   # x= 以降を埋める\n",
    "    axes[3].set_title('Power')\n",
    "    plt.show()"
   ]
  },
  {
   "cell_type": "markdown",
   "id": "1a96d5ff",
   "metadata": {},
   "source": [
    "<details>\n",
    "    <summary><font color='red'>解答はここをクリック</font></summary>\n",
    "    <code>x=qut_u.fit_transform(df[[feature]]).flatten()</code><br>\n",
    "    <code>x=qut_n.fit_transform(df[[feature]]).flatten()</code><br>\n",
    "    <code>x=pot.fit_transform(df[[feature]]).flatten()</code>\n",
    "</details>"
   ]
  },
  {
   "cell_type": "code",
   "execution_count": null,
   "id": "fd2a5b6c",
   "metadata": {},
   "outputs": [],
   "source": [
    "# 実行して表示\n",
    "for feature in df_t.columns:\n",
    "    plots(feature)"
   ]
  },
  {
   "attachments": {},
   "cell_type": "markdown",
   "id": "3e77d3b1",
   "metadata": {
    "scrolled": true
   },
   "source": [
    "Exercise_11 : KBinsDiscretizerをインポートし、インスタンスを作成してください。その際にビンの数を3とし、'uniform'、'ordinal'を設定してください。"
   ]
  },
  {
   "cell_type": "code",
   "execution_count": null,
   "id": "31a04cb7",
   "metadata": {},
   "outputs": [],
   "source": [
    "# インポート\n"
   ]
  },
  {
   "cell_type": "markdown",
   "id": "b67d342d",
   "metadata": {},
   "source": [
    "<details>\n",
    "    <summary><font color='red'>解答はここをクリック</font></summary>\n",
    "    <code>from sklearn.preprocessing import KBinsDiscretizer</code>\n",
    "</details>"
   ]
  },
  {
   "cell_type": "code",
   "execution_count": null,
   "id": "06cc2179",
   "metadata": {},
   "outputs": [],
   "source": [
    "discretizer = "
   ]
  },
  {
   "cell_type": "markdown",
   "id": "cec2c71f",
   "metadata": {},
   "source": [
    "<details>\n",
    "    <summary><font color='red'>解答はここをクリック</font></summary>\n",
    "    <code>discretizer = KBinsDiscretizer(strategy='uniform', encode='ordinal')</code>\n",
    "</details>"
   ]
  },
  {
   "cell_type": "code",
   "execution_count": null,
   "id": "207e46b5",
   "metadata": {},
   "outputs": [],
   "source": [
    "# 実行して表示\n",
    "y = df[['target']][:12]   # 12のサンプルに絞って考える。yはデータフレーム\n",
    "y[:5]"
   ]
  },
  {
   "attachments": {},
   "cell_type": "markdown",
   "id": "bf221ee6",
   "metadata": {},
   "source": [
    "Exercise_12 : discretizerを用いて、yを離散化（ビニング）した結果を表示てください"
   ]
  },
  {
   "cell_type": "code",
   "execution_count": null,
   "id": "ee3f64ca",
   "metadata": {},
   "outputs": [],
   "source": []
  },
  {
   "cell_type": "markdown",
   "id": "486514c8",
   "metadata": {},
   "source": [
    "<details>\n",
    "    <summary><font color='red'>解答はここをクリック</font></summary>\n",
    "    <code>discretizer.fit_transform(y)</code>\n",
    "</details>"
   ]
  },
  {
   "attachments": {},
   "cell_type": "markdown",
   "id": "a199d105",
   "metadata": {},
   "source": [
    "Exercise_13 : 上記のdiscretizerのstrategyを'quantile'に変更した新規インスタンス作成し、同様にyを離散化してください。  \n",
    "※　前回の結果との違いを確認してください"
   ]
  },
  {
   "cell_type": "code",
   "execution_count": null,
   "id": "bf34c179",
   "metadata": {},
   "outputs": [],
   "source": [
    "discretizer = "
   ]
  },
  {
   "cell_type": "code",
   "execution_count": null,
   "id": "c1046abe",
   "metadata": {},
   "outputs": [],
   "source": []
  },
  {
   "cell_type": "markdown",
   "id": "95ce8028",
   "metadata": {},
   "source": [
    "<details>\n",
    "    <summary><font color='red'>解答はここをクリック</font></summary>\n",
    "    <code>discretizer = KBinsDiscretizer(n_bins=3, strategy='quantile', encode='ordinal')</code><br>\n",
    "    <code>discretizer.fit_transform(y)</code>\n",
    "</details>"
   ]
  },
  {
   "attachments": {},
   "cell_type": "markdown",
   "id": "8abf28a2",
   "metadata": {},
   "source": [
    "Exercise_14 :  Pandasのcutを用いて、yを数値の25以下のグループ('group_A')、25より大きいグループ('group_B')に分けたラベルのリストを表示して下さい"
   ]
  },
  {
   "cell_type": "code",
   "execution_count": null,
   "id": "8454c89d",
   "metadata": {},
   "outputs": [],
   "source": [
    "# 実行して表示\n",
    "y.min(), y.max()"
   ]
  },
  {
   "cell_type": "code",
   "execution_count": null,
   "id": "08c9989f",
   "metadata": {},
   "outputs": [],
   "source": [
    "# pd.cut()の第一引数には1次元のndarrayかlistを指定しなければならないことに注意\n",
    "# yはデータフレームのため、ndarrayにしてから平坦化を行う\n",
    "groups = "
   ]
  },
  {
   "attachments": {},
   "cell_type": "markdown",
   "id": "d8fdbc00",
   "metadata": {},
   "source": [
    "<details>\n",
    "    <summary><font color='red'>解答はここをクリック</font></summary>\n",
    "    <code>groups = pd.cut(y.values.flatten(), bins=[14, 25, 36.2], labels=['group_A', 'group_B'])</code><br>\n",
    "    <code>※15より小さい値を設定すればよい</code>\n",
    "</details>"
   ]
  },
  {
   "cell_type": "code",
   "execution_count": null,
   "id": "f3ac5a13",
   "metadata": {},
   "outputs": [],
   "source": [
    "# 実行して表示\n",
    "groups"
   ]
  },
  {
   "cell_type": "markdown",
   "id": "d740947c",
   "metadata": {},
   "source": [
    "## 以上"
   ]
  }
 ],
 "metadata": {
  "kernelspec": {
   "display_name": "Python 3",
   "language": "python",
   "name": "python3"
  },
  "language_info": {
   "codemirror_mode": {
    "name": "ipython",
    "version": 3
   },
   "file_extension": ".py",
   "mimetype": "text/x-python",
   "name": "python",
   "nbconvert_exporter": "python",
   "pygments_lexer": "ipython3",
   "version": "3.10.11"
  }
 },
 "nbformat": 4,
 "nbformat_minor": 5
}
