{
 "cells": [
  {
   "cell_type": "markdown",
   "id": "2346558a",
   "metadata": {},
   "source": [
    "<a id=0></a>  \n",
    "# 1. Numpy ndarrayを理解する\n",
    "### ※ Numpy : ”Numerical Python”、数値計算・配列計算を高速で実行できるパッケージ"
   ]
  },
  {
   "cell_type": "markdown",
   "id": "d42a05df",
   "metadata": {},
   "source": [
    "---\n",
    "### [1.Python ListとNumpy ndarray ](#1)\n",
    "### [2.Numpyの関数で連番、等差数列を作成](#2)\n",
    "### [3.Randomモジュールによる乱数Arrayの作成と次元の変換](#3)\n",
    "### [4.Numpy ndarrayの次元、形状、サイズ](#4)\n",
    "### [5.Numpy ndarrayの演算例](#5)\n",
    "---"
   ]
  },
  {
   "cell_type": "markdown",
   "id": "650acfd3",
   "metadata": {},
   "source": [
    "Numpyをnpというエイリアス（別名）でインポートする  "
   ]
  },
  {
   "cell_type": "code",
   "execution_count": null,
   "id": "972ba1da",
   "metadata": {},
   "outputs": [],
   "source": [
    "import numpy as np"
   ]
  },
  {
   "cell_type": "markdown",
   "id": "1279c566",
   "metadata": {},
   "source": [
    "---\n",
    "<a id=1></a>\n",
    "[Topへ](#0)\n",
    "\n",
    "---\n",
    "## 1.Python ListとNumpy ndarray      "
   ]
  },
  {
   "cell_type": "markdown",
   "id": "0e8bcf67",
   "metadata": {},
   "source": [
    "* ListとNumpy ndarrayを作成\n",
    "* 型（タイプ）を確認  \n",
    "* Numpy ndarrayのデータタイプ（Numpy ndarrayではすべての要素のデータタイプが統一される）\n",
    "* Numpy ndarrayの演算例\n",
    "* Numpy ndarrayの最大値、最小値、平均、合計\n",
    "* Numpy ndarrayは要素の形状を一定に\n",
    "* Numpy ndarrayのデータタイプ変換\n",
    "---"
   ]
  },
  {
   "cell_type": "markdown",
   "id": "1471a3cb",
   "metadata": {},
   "source": [
    "List と ndarrayを作成"
   ]
  },
  {
   "cell_type": "code",
   "execution_count": null,
   "id": "160306be",
   "metadata": {},
   "outputs": [],
   "source": [
    "# python list\n",
    "arr1 = [1, 3, 5]\n",
    "arr2 = [2, 4, 6]\n",
    "arr1"
   ]
  },
  {
   "cell_type": "code",
   "execution_count": null,
   "id": "26964914",
   "metadata": {},
   "outputs": [],
   "source": [
    "# Numpy ndarray\n",
    "np_arr1 = np.array(arr1)\n",
    "np_arr2 = np.array(arr2)\n",
    "np_arr1"
   ]
  },
  {
   "cell_type": "markdown",
   "id": "5938050d",
   "metadata": {},
   "source": [
    "型（タイプ）を確認  \n",
    "※ ndarray : n dimentional array（多次元配列）"
   ]
  },
  {
   "cell_type": "code",
   "execution_count": null,
   "id": "69785e4b",
   "metadata": {
    "scrolled": true
   },
   "outputs": [],
   "source": [
    "print(type(arr1))\n",
    "print(type(np_arr1))"
   ]
  },
  {
   "cell_type": "markdown",
   "id": "732627d7",
   "metadata": {},
   "source": [
    "Numpy ndarrayのデータタイプ（Numpy ndarrayではすべての要素のデータタイプが統一される）"
   ]
  },
  {
   "cell_type": "code",
   "execution_count": null,
   "id": "5f213384",
   "metadata": {},
   "outputs": [],
   "source": [
    "np_arr1.dtype"
   ]
  },
  {
   "cell_type": "code",
   "execution_count": null,
   "id": "9889447f",
   "metadata": {},
   "outputs": [],
   "source": [
    "# arr1.dtype"
   ]
  },
  {
   "cell_type": "markdown",
   "id": "85da2428",
   "metadata": {},
   "source": [
    "NumpyArrayの演算例"
   ]
  },
  {
   "cell_type": "code",
   "execution_count": null,
   "id": "e0bf56da",
   "metadata": {},
   "outputs": [],
   "source": [
    "np_arr1 * 2"
   ]
  },
  {
   "cell_type": "code",
   "execution_count": null,
   "id": "a63f6c74",
   "metadata": {},
   "outputs": [],
   "source": [
    "arr1 * 2"
   ]
  },
  {
   "cell_type": "code",
   "execution_count": null,
   "id": "e79e506b",
   "metadata": {},
   "outputs": [],
   "source": [
    "# ndarray同士の計算\n",
    "np_arr1 + np_arr2"
   ]
  },
  {
   "cell_type": "code",
   "execution_count": null,
   "id": "757a13f7",
   "metadata": {},
   "outputs": [],
   "source": [
    "# list同士の計算\n",
    "arr1 + arr2"
   ]
  },
  {
   "cell_type": "code",
   "execution_count": null,
   "id": "f6192e2b",
   "metadata": {},
   "outputs": [],
   "source": [
    "np_arr1 * np_arr2"
   ]
  },
  {
   "cell_type": "code",
   "execution_count": null,
   "id": "53acc28f",
   "metadata": {},
   "outputs": [],
   "source": [
    "# arr1 * arr2\n",
    "# TypeError: can't multiply sequence by non-int of type 'list'"
   ]
  },
  {
   "cell_type": "markdown",
   "id": "e3848cf8",
   "metadata": {},
   "source": [
    "Numpy ndarrayの最大値、最小値、平均、合計、分散、標準偏差（全要素に対する）"
   ]
  },
  {
   "cell_type": "code",
   "execution_count": null,
   "id": "94ceca02",
   "metadata": {},
   "outputs": [],
   "source": [
    "# 最大値\n",
    "np_arr1.max()"
   ]
  },
  {
   "cell_type": "code",
   "execution_count": null,
   "id": "f4a6c908",
   "metadata": {},
   "outputs": [],
   "source": [
    "# 最小値\n",
    "np_arr1.min()"
   ]
  },
  {
   "cell_type": "code",
   "execution_count": null,
   "id": "30fa2682",
   "metadata": {},
   "outputs": [],
   "source": [
    "# 平均値\n",
    "np_arr1.mean()"
   ]
  },
  {
   "cell_type": "code",
   "execution_count": null,
   "id": "6c82b34b",
   "metadata": {},
   "outputs": [],
   "source": [
    "# 合計値\n",
    "np_arr1.sum()"
   ]
  },
  {
   "cell_type": "code",
   "execution_count": null,
   "id": "e318653c",
   "metadata": {},
   "outputs": [],
   "source": [
    "# 分散\n",
    "np_arr1.var()"
   ]
  },
  {
   "cell_type": "code",
   "execution_count": null,
   "id": "4b5c1914",
   "metadata": {},
   "outputs": [],
   "source": [
    "# 標準偏差\n",
    "np_arr1.std()"
   ]
  },
  {
   "cell_type": "markdown",
   "id": "a70bb654",
   "metadata": {},
   "source": [
    "ファンシーインデックス"
   ]
  },
  {
   "cell_type": "code",
   "execution_count": null,
   "id": "28a93237",
   "metadata": {},
   "outputs": [],
   "source": [
    "arr3 = [[0, 100], [200, 300]]\n",
    "np_arr3 = np.array(arr3)"
   ]
  },
  {
   "cell_type": "code",
   "execution_count": null,
   "id": "70dd31d1",
   "metadata": {},
   "outputs": [],
   "source": [
    "arr3[0][1]"
   ]
  },
  {
   "cell_type": "code",
   "execution_count": null,
   "id": "8db51e3c",
   "metadata": {},
   "outputs": [],
   "source": [
    "np_arr3[0][1]"
   ]
  },
  {
   "cell_type": "code",
   "execution_count": null,
   "id": "73d08c2f",
   "metadata": {},
   "outputs": [],
   "source": [
    "np_arr3[0,1]\n",
    "# 通常のlistではエラーになる"
   ]
  },
  {
   "cell_type": "markdown",
   "id": "28c17db2",
   "metadata": {},
   "source": [
    "Numpy ndarrayは各次元の要素の形状を一定に"
   ]
  },
  {
   "cell_type": "code",
   "execution_count": null,
   "id": "e295a1d2",
   "metadata": {},
   "outputs": [],
   "source": [
    "arr4 = [0, [100, 200], [300, 400, 500]]"
   ]
  },
  {
   "cell_type": "code",
   "execution_count": null,
   "id": "599379ba",
   "metadata": {},
   "outputs": [],
   "source": [
    "# np.array(arr4)\n",
    "# 形状が整っていないためエラーとなる"
   ]
  },
  {
   "cell_type": "code",
   "execution_count": null,
   "id": "24098941",
   "metadata": {},
   "outputs": [],
   "source": [
    "arr5 = [[0, [1, 2]], [3, [4, 5]]]\n",
    "# np.array(arr5)\n",
    "# 形状が整っていないためエラーとなる"
   ]
  },
  {
   "cell_type": "code",
   "execution_count": null,
   "id": "134c06d3",
   "metadata": {},
   "outputs": [],
   "source": [
    "np.array(arr5, dtype=object)\n",
    "# dtype=objectではlist, dictionary, stringなどを保持できる\n",
    "# ただし、DataFrameにおいては、stringに対して扱うことがほとんど"
   ]
  },
  {
   "cell_type": "markdown",
   "id": "0ab71d25",
   "metadata": {},
   "source": [
    "Numpy ndarrayのデータタイプ変換"
   ]
  },
  {
   "cell_type": "code",
   "execution_count": null,
   "id": "d287170d",
   "metadata": {},
   "outputs": [],
   "source": [
    "arr6 = [[0, 1, 2.0], [3, 4, 5]]   # 小数を混在させている\n",
    "np_arr6 = np.array(arr6)\n",
    "np_arr6"
   ]
  },
  {
   "cell_type": "code",
   "execution_count": null,
   "id": "e3ade0af",
   "metadata": {},
   "outputs": [],
   "source": [
    "np_arr6.dtype\n",
    "# floatは浮動小数点数"
   ]
  },
  {
   "cell_type": "code",
   "execution_count": null,
   "id": "9121d7ad",
   "metadata": {},
   "outputs": [],
   "source": [
    "np_arr6 = np_arr6.astype(int)"
   ]
  },
  {
   "cell_type": "code",
   "execution_count": null,
   "id": "fc2909fb",
   "metadata": {},
   "outputs": [],
   "source": [
    "np_arr6.dtype"
   ]
  },
  {
   "cell_type": "code",
   "execution_count": null,
   "id": "f3473a76",
   "metadata": {},
   "outputs": [],
   "source": [
    "arr7 =[[0, 1, '2'], [3, 4, 5]]   # 文字列を混在させている\n",
    "np_arr7 = np.array(arr7)\n",
    "np_arr7.dtype"
   ]
  },
  {
   "cell_type": "code",
   "execution_count": null,
   "id": "f2919400",
   "metadata": {},
   "outputs": [],
   "source": [
    "np_arr7.astype(int).dtype"
   ]
  },
  {
   "cell_type": "code",
   "execution_count": null,
   "id": "a3434bae",
   "metadata": {},
   "outputs": [],
   "source": [
    "np_arr7.astype(object).dtype"
   ]
  },
  {
   "cell_type": "code",
   "execution_count": null,
   "id": "e9943729",
   "metadata": {},
   "outputs": [],
   "source": [
    "# np_arr7.astype(str).dtype\n",
    "# dtype('<U11')となる。文字列はdtype=objectとして扱う"
   ]
  },
  {
   "cell_type": "markdown",
   "id": "f3f21f22",
   "metadata": {},
   "source": [
    "---\n",
    "<a id=2></a>\n",
    "[Topへ](#0)\n",
    "\n",
    "---\n",
    "## 2.Numpyの関数で等差数列を作成"
   ]
  },
  {
   "cell_type": "markdown",
   "id": "6cb9efd3",
   "metadata": {},
   "source": [
    "* np.arange(start, stop, step) : 範囲と数値の幅から作成\n",
    "* np.linspace(start, stop, size) : 範囲と生成数から作成\n",
    "---"
   ]
  },
  {
   "cell_type": "markdown",
   "id": "76c20373",
   "metadata": {},
   "source": [
    "np.arange(start, stop, step) : 範囲と数値の幅から作成"
   ]
  },
  {
   "cell_type": "code",
   "execution_count": null,
   "id": "06ecbd70",
   "metadata": {},
   "outputs": [],
   "source": [
    "np.arange(8)   # array range\n",
    "# defaultでstart=0, step=1"
   ]
  },
  {
   "cell_type": "code",
   "execution_count": null,
   "id": "71260344",
   "metadata": {},
   "outputs": [],
   "source": [
    "np.arange(0, 8, 1)\n",
    "# stopは含まれない"
   ]
  },
  {
   "cell_type": "code",
   "execution_count": null,
   "id": "a3866525",
   "metadata": {},
   "outputs": [],
   "source": [
    "np.arange(-5, 5, 2)"
   ]
  },
  {
   "cell_type": "code",
   "execution_count": null,
   "id": "779cc93a",
   "metadata": {},
   "outputs": [],
   "source": [
    "np.arange(0, 6.1, 0.5)"
   ]
  },
  {
   "cell_type": "markdown",
   "id": "6a03f72a",
   "metadata": {},
   "source": [
    "np.linspace(start, stop, size) : 範囲と生成数から作成"
   ]
  },
  {
   "cell_type": "code",
   "execution_count": null,
   "id": "a8486767",
   "metadata": {},
   "outputs": [],
   "source": [
    "np.linspace(0, 8)   # linear space\n",
    "# defaultでsize=50"
   ]
  },
  {
   "cell_type": "code",
   "execution_count": null,
   "id": "06d805a6",
   "metadata": {},
   "outputs": [],
   "source": [
    "np.linspace(0, 5, 10)\n",
    "# stopを含む"
   ]
  },
  {
   "cell_type": "code",
   "execution_count": null,
   "id": "643a3ff4",
   "metadata": {},
   "outputs": [],
   "source": [
    "np.linspace(0, 5, 10, endpoint=False)"
   ]
  },
  {
   "cell_type": "markdown",
   "id": "a96367d0",
   "metadata": {},
   "source": [
    "---\n",
    "<a id=3></a>\n",
    "[Topへ](#0)\n",
    "\n",
    "---\n",
    "## 3.Randomモジュールによる乱数Arrayの作成"
   ]
  },
  {
   "cell_type": "markdown",
   "id": "e5cf2532",
   "metadata": {},
   "source": [
    "* np.random.randint(low, high, size): 整数\n",
    "* 乱数シード\n",
    "* np.random.rand(size) : 0以上1未満 \n",
    "* np.random.randn(size) : 平均0、標準偏差1、正規分布に近づく\n",
    "* np.random.normal(average, satandard_deviation, size) : 平均と標準偏差を指定、正規分布に近づく\n",
    "* np.random.uniform(low, high, size) : 範囲と生成数を指定、連続一様分布に近づく\n",
    "* np.random.choice(array, size) : Listの値をランダムに選択\n",
    "---"
   ]
  },
  {
   "cell_type": "markdown",
   "id": "48445f81",
   "metadata": {},
   "source": [
    "np.random.randint(low, high, size): 整数"
   ]
  },
  {
   "cell_type": "code",
   "execution_count": null,
   "id": "0a93eff2",
   "metadata": {},
   "outputs": [],
   "source": [
    "np.random.randint(10, 20)"
   ]
  },
  {
   "cell_type": "code",
   "execution_count": null,
   "id": "c03e1bff",
   "metadata": {},
   "outputs": [],
   "source": [
    "np.random.randint(10, 30, 5)"
   ]
  },
  {
   "cell_type": "code",
   "execution_count": null,
   "id": "2d3f916e",
   "metadata": {},
   "outputs": [],
   "source": [
    "np.random.randint(10, 30, (3, 4))"
   ]
  },
  {
   "cell_type": "code",
   "execution_count": null,
   "id": "e36c2f5b",
   "metadata": {},
   "outputs": [],
   "source": [
    "np.random.randint(10, 50, (3, 4, 2))"
   ]
  },
  {
   "cell_type": "markdown",
   "id": "54b11ddd",
   "metadata": {},
   "source": [
    "乱数シード"
   ]
  },
  {
   "cell_type": "code",
   "execution_count": null,
   "id": "a4396762",
   "metadata": {},
   "outputs": [],
   "source": [
    "np.random.seed(17)\n",
    "np.random.randint(1, 100)\n",
    "# notebookにおいてはそのセル内でのみseedは機能する"
   ]
  },
  {
   "cell_type": "code",
   "execution_count": null,
   "id": "9bddc24a",
   "metadata": {},
   "outputs": [],
   "source": [
    "np.random.seed()\n",
    "np.random.randint(1, 100)"
   ]
  },
  {
   "cell_type": "markdown",
   "id": "da09e3da",
   "metadata": {},
   "source": [
    "np.random.rand(size) : 0以上1未満"
   ]
  },
  {
   "cell_type": "code",
   "execution_count": null,
   "id": "cc9ad4ce",
   "metadata": {},
   "outputs": [],
   "source": [
    "np.random.rand(5)"
   ]
  },
  {
   "cell_type": "code",
   "execution_count": null,
   "id": "55d705a9",
   "metadata": {},
   "outputs": [],
   "source": [
    "np.random.rand(3, 4)"
   ]
  },
  {
   "cell_type": "markdown",
   "id": "c91ed918",
   "metadata": {},
   "source": [
    "np.random.randn(size) : 平均0、標準偏差1、正規分布に近づく  \n",
    "\n",
    "    ※ 分散    ：「各数値の平均との差」を平方（2乗）した値の平均（平方するのはプラスの値で測るため）  \n",
    "    ※ 標準偏差：平均からのばらつき具合を示す指標。分散の正の平方根  \n",
    "    ※ 正規分布：平均値の度数を中心に、正負の値の度数が同程度に広がる分布      "
   ]
  },
  {
   "cell_type": "code",
   "execution_count": null,
   "id": "87affd40",
   "metadata": {},
   "outputs": [],
   "source": [
    "values = np.array([1, 2, 3, 4, 5])\n",
    "mean = values.mean()\n",
    "\n",
    "sum = 0\n",
    "for value in values:\n",
    "    sum += (value - mean)**2\n",
    "    \n",
    "var = sum / len(values)\n",
    "std = np.round(np.sqrt(var), 4)\n",
    "\n",
    "print(f'分散：{var}, 標準偏差：{std}')"
   ]
  },
  {
   "cell_type": "code",
   "execution_count": null,
   "id": "b592b88a",
   "metadata": {},
   "outputs": [],
   "source": [
    "np.random.randn(1000).mean()\n",
    "# ぴったり0にはならないが、0に近い数字になる"
   ]
  },
  {
   "cell_type": "code",
   "execution_count": null,
   "id": "a4ffa40e",
   "metadata": {},
   "outputs": [],
   "source": [
    "np.random.randn(1000).std()\n",
    "# ぴったり1にはならないが、1に近い数字になる"
   ]
  },
  {
   "cell_type": "code",
   "execution_count": null,
   "id": "cbfb6204",
   "metadata": {},
   "outputs": [],
   "source": [
    "np.random.seed(17)\n",
    "import matplotlib.pyplot as plt\n",
    "plt.hist(np.random.randn(1000), bins=20, linewidth=1, edgecolor='#fff')\n",
    "plt.show()\n",
    "# 平均を中央とするベルカーブ状の分布が正規分布"
   ]
  },
  {
   "cell_type": "markdown",
   "id": "7b0efdd2",
   "metadata": {},
   "source": [
    " np.random.normal(average, satandard_deviation, size) : 平均と標準偏差を指定、正規分布に近づく"
   ]
  },
  {
   "cell_type": "code",
   "execution_count": null,
   "id": "b3416710",
   "metadata": {},
   "outputs": [],
   "source": [
    "np.random.normal(50, 1, 10)"
   ]
  },
  {
   "cell_type": "code",
   "execution_count": null,
   "id": "9bb783f0",
   "metadata": {},
   "outputs": [],
   "source": [
    "np.random.normal(50, 20, (2, 5))"
   ]
  },
  {
   "cell_type": "code",
   "execution_count": null,
   "id": "bab0c47b",
   "metadata": {},
   "outputs": [],
   "source": [
    "plt.hist(np.random.normal(100, 4, 1000), bins=30, linewidth=1, edgecolor='#fff')\n",
    "plt.xlim(60, 140)\n",
    "plt.show()"
   ]
  },
  {
   "cell_type": "code",
   "execution_count": null,
   "id": "d647ad39",
   "metadata": {},
   "outputs": [],
   "source": [
    "plt.hist(np.random.normal(100, 20, 1000), bins=30, linewidth=1, edgecolor='#fff')\n",
    "plt.xlim(60, 140)\n",
    "plt.show()\n",
    "# 分散（標準偏差）が大きくなると分布の幅が広くなる（なだらかな山になる）"
   ]
  },
  {
   "cell_type": "markdown",
   "id": "bc7a7b91",
   "metadata": {},
   "source": [
    "np.random.uniform(low, high, size) : 範囲と生成数を指定、連続一様分布に近づく"
   ]
  },
  {
   "cell_type": "code",
   "execution_count": null,
   "id": "3028fd18",
   "metadata": {
    "scrolled": true
   },
   "outputs": [],
   "source": [
    "np.random.uniform(2, 8, 100).mean()\n",
    "# 2から8の値の一様分布では平均は5に近くなる"
   ]
  },
  {
   "cell_type": "code",
   "execution_count": null,
   "id": "8f33447b",
   "metadata": {},
   "outputs": [],
   "source": [
    "np.random.uniform(2, 20, (3, 4))"
   ]
  },
  {
   "cell_type": "markdown",
   "id": "04669a8c",
   "metadata": {},
   "source": [
    "np.random.choice(array, size) : Listの値をランダムに選択"
   ]
  },
  {
   "cell_type": "code",
   "execution_count": null,
   "id": "f02f5344",
   "metadata": {},
   "outputs": [],
   "source": [
    "l = [16, 87, 233]\n",
    "np.random.choice(l, 5)"
   ]
  },
  {
   "cell_type": "code",
   "execution_count": null,
   "id": "d9c4879b",
   "metadata": {},
   "outputs": [],
   "source": [
    "np.random.choice(l, (2, 3))"
   ]
  },
  {
   "cell_type": "markdown",
   "id": "a1d0ca59",
   "metadata": {},
   "source": [
    "---\n",
    "<a id=4></a>\n",
    "[Topへ](#0)\n",
    "\n",
    "---\n",
    "## 4.Numpy ndarrayの次元、形状、サイズ"
   ]
  },
  {
   "cell_type": "markdown",
   "id": "f4c4c4ba",
   "metadata": {},
   "source": [
    "* 次元\n",
    "* 形状\n",
    "* サイズ（要素数）\n",
    "* 形状の変換 \n",
    "---"
   ]
  },
  {
   "cell_type": "code",
   "execution_count": null,
   "id": "1d2318cb",
   "metadata": {
    "scrolled": true
   },
   "outputs": [],
   "source": [
    "np_arr = np.random.rand(2, 3, 4)   # 0以上1未満の乱数\n",
    "np_arr"
   ]
  },
  {
   "cell_type": "markdown",
   "id": "e785d42b",
   "metadata": {},
   "source": [
    "次元"
   ]
  },
  {
   "cell_type": "code",
   "execution_count": null,
   "id": "7b720562",
   "metadata": {},
   "outputs": [],
   "source": [
    "np_arr.ndim"
   ]
  },
  {
   "cell_type": "code",
   "execution_count": null,
   "id": "f7e2e55a",
   "metadata": {},
   "outputs": [],
   "source": [
    "np.random.rand(2, 3, 4, 5, 6).ndim"
   ]
  },
  {
   "cell_type": "markdown",
   "id": "ed920438",
   "metadata": {},
   "source": [
    "形状"
   ]
  },
  {
   "cell_type": "code",
   "execution_count": null,
   "id": "3ef3f27e",
   "metadata": {},
   "outputs": [],
   "source": [
    "np_arr.shape"
   ]
  },
  {
   "cell_type": "code",
   "execution_count": null,
   "id": "1f842faf",
   "metadata": {},
   "outputs": [],
   "source": [
    "np.array([1, 2, 3]).shape"
   ]
  },
  {
   "cell_type": "code",
   "execution_count": null,
   "id": "02e59357",
   "metadata": {},
   "outputs": [],
   "source": [
    "np.array([[1,2], [3,4], [5,6]]).shape"
   ]
  },
  {
   "cell_type": "markdown",
   "id": "fa9d12b8",
   "metadata": {},
   "source": [
    "サイズ（要素数）"
   ]
  },
  {
   "cell_type": "code",
   "execution_count": null,
   "id": "86673451",
   "metadata": {},
   "outputs": [],
   "source": [
    "np_arr.size"
   ]
  },
  {
   "cell_type": "code",
   "execution_count": null,
   "id": "b7dfca4c",
   "metadata": {},
   "outputs": [],
   "source": [
    "np.array([[1,2], [3,4], [5,6]]).size"
   ]
  },
  {
   "cell_type": "markdown",
   "id": "1a559575",
   "metadata": {},
   "source": [
    "形状の変換"
   ]
  },
  {
   "cell_type": "code",
   "execution_count": null,
   "id": "560f55b7",
   "metadata": {
    "scrolled": true
   },
   "outputs": [],
   "source": [
    "np_arr.shape"
   ]
  },
  {
   "cell_type": "code",
   "execution_count": null,
   "id": "b1057443",
   "metadata": {},
   "outputs": [],
   "source": [
    "np_arr.reshape(4, 6)"
   ]
  },
  {
   "cell_type": "code",
   "execution_count": null,
   "id": "d90b1560",
   "metadata": {},
   "outputs": [],
   "source": [
    "np_arr.reshape(2, 2, 2, 3)\n",
    "# 掛け合わせてsizeと等しくなる数を指定する"
   ]
  },
  {
   "cell_type": "code",
   "execution_count": null,
   "id": "8057cfd6",
   "metadata": {},
   "outputs": [],
   "source": [
    "np_arr.reshape(-1, 1)\n",
    "# -1はその配列のsizeを表す"
   ]
  },
  {
   "cell_type": "code",
   "execution_count": null,
   "id": "a7e9fd74",
   "metadata": {},
   "outputs": [],
   "source": [
    "np_arr.reshape(1, -1)"
   ]
  },
  {
   "cell_type": "code",
   "execution_count": null,
   "id": "fdefee10",
   "metadata": {},
   "outputs": [],
   "source": [
    "np_arr.reshape(-1)"
   ]
  },
  {
   "cell_type": "code",
   "execution_count": null,
   "id": "8994d77a",
   "metadata": {},
   "outputs": [],
   "source": [
    "np_arr.ravel()"
   ]
  },
  {
   "cell_type": "code",
   "execution_count": null,
   "id": "3358166f",
   "metadata": {},
   "outputs": [],
   "source": [
    "np_arr.flatten()"
   ]
  },
  {
   "cell_type": "code",
   "execution_count": null,
   "id": "3979a8ff",
   "metadata": {},
   "outputs": [],
   "source": [
    "np_arr.flatten()[0] = 99\n",
    "# メモリ上に別のcopyを作成するため、元のデータは書き換わらない"
   ]
  },
  {
   "cell_type": "code",
   "execution_count": null,
   "id": "d1e502c1",
   "metadata": {},
   "outputs": [],
   "source": [
    "np_arr[0, 0, 0]"
   ]
  },
  {
   "cell_type": "code",
   "execution_count": null,
   "id": "323194b5",
   "metadata": {},
   "outputs": [],
   "source": [
    "np_arr.ravel()[0] = 99\n",
    "# 元のデータの表示を変えるだけのため、元のデータが書き換わってしまう"
   ]
  },
  {
   "cell_type": "code",
   "execution_count": null,
   "id": "4789b839",
   "metadata": {},
   "outputs": [],
   "source": [
    "np_arr[0, 0, 0]"
   ]
  },
  {
   "cell_type": "markdown",
   "id": "731d265c",
   "metadata": {},
   "source": [
    "---\n",
    "<a id=5></a>\n",
    "[Topへ](#0)\n",
    "\n",
    "---\n",
    "## 5.Numpy ndarrayの演算例"
   ]
  },
  {
   "cell_type": "code",
   "execution_count": null,
   "id": "77cad46c",
   "metadata": {},
   "outputs": [],
   "source": [
    "arr = [[2, 4, 8], [3, 9, 27]]\n",
    "np_arr = np.array(arr)\n",
    "np_arr"
   ]
  },
  {
   "cell_type": "code",
   "execution_count": null,
   "id": "ceab137d",
   "metadata": {},
   "outputs": [],
   "source": [
    "np_arr + 1000\n",
    "# np_arr / 2\n",
    "# np_arr * 2\n",
    "# np_arr % 3\n",
    "# np_arr // 1.5"
   ]
  },
  {
   "cell_type": "code",
   "execution_count": null,
   "id": "5a86efa5",
   "metadata": {},
   "outputs": [],
   "source": [
    "np_arr + np_arr\n",
    "# -, *, /. //, %の演算子も同様"
   ]
  },
  {
   "cell_type": "code",
   "execution_count": null,
   "id": "3cdcca64",
   "metadata": {},
   "outputs": [],
   "source": [
    "# 1次元で列数が等しい場合\n",
    "np_arr + [1000, 2000, 3000]"
   ]
  },
  {
   "cell_type": "code",
   "execution_count": null,
   "id": "cba785e4",
   "metadata": {},
   "outputs": [],
   "source": [
    "# np_arr + [1000, 2000]\n",
    "# 形状が適さないため、broadcastできないというエラーになる"
   ]
  },
  {
   "cell_type": "code",
   "execution_count": null,
   "id": "02e9f4ff",
   "metadata": {},
   "outputs": [],
   "source": [
    "# 列数が等しく、1行の場合\n",
    "np_arr + [[1000, 2000, 3000]]"
   ]
  },
  {
   "cell_type": "code",
   "execution_count": null,
   "id": "a121efe7",
   "metadata": {},
   "outputs": [],
   "source": [
    "# 行数が等しく、値がひとつの場合\n",
    "np_arr + [[1000], [2000]]"
   ]
  },
  {
   "cell_type": "code",
   "execution_count": null,
   "id": "21ca56f6",
   "metadata": {},
   "outputs": [],
   "source": [
    "np_arr.sum()"
   ]
  },
  {
   "cell_type": "code",
   "execution_count": null,
   "id": "2588511e",
   "metadata": {},
   "outputs": [],
   "source": [
    "np_arr"
   ]
  },
  {
   "cell_type": "code",
   "execution_count": null,
   "id": "4f907c47",
   "metadata": {},
   "outputs": [],
   "source": [
    "np_arr.sum(axis=0)\n",
    "# axis=0は縦方向\n",
    "# 正確には(2, 3)の形状ならば、2にあたる配列のインデックス方向"
   ]
  },
  {
   "cell_type": "code",
   "execution_count": null,
   "id": "2ffd9fc7",
   "metadata": {},
   "outputs": [],
   "source": [
    "np_arr.sum(axis=1)\n",
    "# axis=0は横方向\n",
    "# 正確には(2, 3)の形状ならば、3にあたる配列のインデックス方向"
   ]
  },
  {
   "cell_type": "code",
   "execution_count": null,
   "id": "f03ed34d",
   "metadata": {},
   "outputs": [],
   "source": [
    "# 乗数\n",
    "np.power(np_arr, 2)"
   ]
  },
  {
   "cell_type": "code",
   "execution_count": null,
   "id": "c8eca1be",
   "metadata": {},
   "outputs": [],
   "source": [
    "# 平方根\n",
    "np.sqrt(np_arr)"
   ]
  },
  {
   "cell_type": "code",
   "execution_count": null,
   "id": "ca374a71",
   "metadata": {},
   "outputs": [],
   "source": [
    "# 正弦\n",
    "np.sin(np_arr)\n",
    "# cos, tan"
   ]
  },
  {
   "cell_type": "code",
   "execution_count": null,
   "id": "ab8cbf84",
   "metadata": {},
   "outputs": [],
   "source": [
    "np.floor(np.sqrt(np_arr))   # 小数以下切り捨て\n",
    "np.ceil(np.sqrt(np_arr))   # 小数以下切り上げ\n",
    "np.round(np.sqrt(np_arr), 5)   # 四捨五入"
   ]
  },
  {
   "cell_type": "code",
   "execution_count": null,
   "id": "d1226a83",
   "metadata": {},
   "outputs": [],
   "source": [
    "# 絶対値\n",
    "np.abs(np_arr - 10)"
   ]
  },
  {
   "cell_type": "markdown",
   "id": "a2345564",
   "metadata": {},
   "source": [
    "---\n",
    "[Topへ](#0)\n",
    "\n",
    "---\n",
    "## 以上\n",
    "    \n",
    "---"
   ]
  }
 ],
 "metadata": {
  "kernelspec": {
   "display_name": "Python 3",
   "language": "python",
   "name": "python3"
  },
  "language_info": {
   "codemirror_mode": {
    "name": "ipython",
    "version": 3
   },
   "file_extension": ".py",
   "mimetype": "text/x-python",
   "name": "python",
   "nbconvert_exporter": "python",
   "pygments_lexer": "ipython3",
   "version": "3.7.10"
  }
 },
 "nbformat": 4,
 "nbformat_minor": 5
}
