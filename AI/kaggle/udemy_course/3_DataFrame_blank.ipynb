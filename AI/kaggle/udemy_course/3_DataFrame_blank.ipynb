{
 "cells": [
  {
   "cell_type": "markdown",
   "id": "23c6d4cc",
   "metadata": {},
   "source": [
    "<a id=0></a>\n",
    "# 3.DataFrameを操作する"
   ]
  },
  {
   "cell_type": "markdown",
   "id": "cfd115fa",
   "metadata": {},
   "source": [
    "---\n",
    "### [1.CSVファイルからDataFrameを作成 ](#1)\n",
    "### [2.DataFrameからデータを抽出 ](#2)\n",
    "### [3.要素の値を更新（上書き）](#3)\n",
    "### [4.基本統計量やユニーク、最大・最小など](#4)\n",
    "### [5.グループ化、レコードの並べ替え](#5)\n",
    "### [6.重複、欠損値の処理](#6)\n",
    "---"
   ]
  },
  {
   "cell_type": "code",
   "execution_count": 2,
   "id": "5f4b23d4",
   "metadata": {
    "scrolled": false
   },
   "outputs": [],
   "source": [
    "import numpy as np\n",
    "import pandas as pd"
   ]
  },
  {
   "cell_type": "code",
   "execution_count": 2,
   "id": "2ae99e16",
   "metadata": {},
   "outputs": [],
   "source": [
    "# # google colaboratoryの場合\n",
    "# from google.colab import drive\n",
    "# drive.mount('/drive')"
   ]
  },
  {
   "cell_type": "markdown",
   "id": "cff153af",
   "metadata": {},
   "source": [
    "---\n",
    "<a id=1></a>\n",
    "[Topへ](#0)\n",
    "\n",
    "---\n",
    "## 1. CSVファイルからDataFrameを作成"
   ]
  },
  {
   "cell_type": "markdown",
   "id": "75b9359b",
   "metadata": {},
   "source": [
    "* csvファイルからDataFrameを作成、indexを指定\n",
    "* pklファイルからDataFrameを作成、csvの場合との比較\n",
    "* object型として読み込まれた年月日をdatetime型に変換 \n",
    "---"
   ]
  },
  {
   "cell_type": "markdown",
   "id": "68f0ca02",
   "metadata": {},
   "source": [
    "csvファイルからDataFrameを作成、indexを指定"
   ]
  },
  {
   "cell_type": "code",
   "execution_count": null,
   "id": "2e06ffeb",
   "metadata": {},
   "outputs": [],
   "source": []
  },
  {
   "cell_type": "markdown",
   "id": "dc4e3c59",
   "metadata": {},
   "source": [
    "pklファイルからDataFrameを作成、csvの場合との比較"
   ]
  },
  {
   "cell_type": "code",
   "execution_count": null,
   "id": "0c50cae9",
   "metadata": {},
   "outputs": [],
   "source": []
  },
  {
   "cell_type": "markdown",
   "id": "70327af4",
   "metadata": {},
   "source": [
    "object型として読み込まれた年月日をdatetime型に変換"
   ]
  },
  {
   "cell_type": "code",
   "execution_count": null,
   "id": "54d866a1",
   "metadata": {},
   "outputs": [],
   "source": []
  },
  {
   "cell_type": "markdown",
   "id": "0b658499",
   "metadata": {},
   "source": [
    "---\n",
    "<a id=2></a>\n",
    "[Topへ](#0)\n",
    "\n",
    "---\n",
    "## 2. DataFrameからデータを抽出 "
   ]
  },
  {
   "cell_type": "markdown",
   "id": "7722711e",
   "metadata": {},
   "source": [
    "* カラムを指定して抽出\n",
    "* locとilocでレコードとカラムを指定して抽出\n",
    "* 条件文で抽出\n",
    "* 複数の条件の場合の注意点\n",
    "* filterを使う\n",
    "* queryを使う\n",
    "\n",
    "---"
   ]
  },
  {
   "cell_type": "markdown",
   "id": "9d26f114",
   "metadata": {},
   "source": [
    "カラムを指定して抽出"
   ]
  },
  {
   "cell_type": "code",
   "execution_count": null,
   "id": "7a885a7e",
   "metadata": {},
   "outputs": [],
   "source": []
  },
  {
   "cell_type": "markdown",
   "id": "a1d98ccb",
   "metadata": {},
   "source": [
    "locとilocでレコードとカラムを指定して抽出  \n",
    "※ loc : [index_label, column_label], iloc : [row_index, column_index]"
   ]
  },
  {
   "cell_type": "code",
   "execution_count": null,
   "id": "446e63b4",
   "metadata": {},
   "outputs": [],
   "source": []
  },
  {
   "cell_type": "markdown",
   "id": "ebd72578",
   "metadata": {},
   "source": [
    "条件文で抽出"
   ]
  },
  {
   "cell_type": "code",
   "execution_count": null,
   "id": "5392411d",
   "metadata": {},
   "outputs": [],
   "source": []
  },
  {
   "cell_type": "markdown",
   "id": "dd86e5e1",
   "metadata": {},
   "source": [
    "複数の条件の場合の注意点"
   ]
  },
  {
   "cell_type": "code",
   "execution_count": null,
   "id": "640337ad",
   "metadata": {},
   "outputs": [],
   "source": []
  },
  {
   "cell_type": "markdown",
   "id": "def89eb9",
   "metadata": {},
   "source": [
    "filterを使う  \n",
    "※ locなどで対応できない場合に使用するという考えでよい  "
   ]
  },
  {
   "cell_type": "code",
   "execution_count": null,
   "id": "507cce4e",
   "metadata": {},
   "outputs": [],
   "source": []
  },
  {
   "cell_type": "markdown",
   "id": "d928f77f",
   "metadata": {},
   "source": [
    "queryを使う"
   ]
  },
  {
   "cell_type": "code",
   "execution_count": null,
   "id": "996f08eb",
   "metadata": {},
   "outputs": [],
   "source": []
  },
  {
   "cell_type": "markdown",
   "id": "a558e1c7",
   "metadata": {},
   "source": [
    "---\n",
    "<a id=3></a>\n",
    "[Topへ](#0)\n",
    "\n",
    "---\n",
    "## 3. 要素の値を更新（上書き）する"
   ]
  },
  {
   "cell_type": "markdown",
   "id": "8285216f",
   "metadata": {},
   "source": [
    " * 要素の値を更新\n",
    " * locもしくはilocで更新する\n",
    " * 一次元、二次元アレイであることを念頭に更新する\n",
    "---"
   ]
  },
  {
   "cell_type": "markdown",
   "id": "a91987f2",
   "metadata": {},
   "source": [
    "要素の値を更新"
   ]
  },
  {
   "cell_type": "code",
   "execution_count": null,
   "id": "c20af30a",
   "metadata": {},
   "outputs": [],
   "source": []
  },
  {
   "cell_type": "markdown",
   "id": "3a43f8cc",
   "metadata": {},
   "source": [
    " locもしくはilocで更新する"
   ]
  },
  {
   "cell_type": "code",
   "execution_count": null,
   "id": "45efb1fb",
   "metadata": {},
   "outputs": [],
   "source": []
  },
  {
   "cell_type": "markdown",
   "id": "5775cc7a",
   "metadata": {},
   "source": [
    "一次元、二次元アレイであることを念頭に更新する"
   ]
  },
  {
   "cell_type": "code",
   "execution_count": null,
   "id": "ec844a2b",
   "metadata": {},
   "outputs": [],
   "source": []
  },
  {
   "cell_type": "markdown",
   "id": "c72ab6ea",
   "metadata": {},
   "source": [
    "---\n",
    "<a id=4></a>\n",
    "[Topへ](#0)\n",
    "\n",
    "---\n",
    "## 4. 基本統計量やユニーク、最大・最小など"
   ]
  },
  {
   "cell_type": "markdown",
   "id": "48ba8ff0",
   "metadata": {},
   "source": [
    "---\n",
    "* 基本統計量の算出\n",
    "* カラム別のユニークな値\n",
    "* 基本統計量の一括表示\n",
    "* 最大値・最小値を持つレコード\n",
    "---"
   ]
  },
  {
   "cell_type": "markdown",
   "id": "3aefa60f",
   "metadata": {},
   "source": [
    "基本統計量の算出"
   ]
  },
  {
   "cell_type": "code",
   "execution_count": 79,
   "id": "c91c51db",
   "metadata": {},
   "outputs": [
    {
     "name": "stdout",
     "output_type": "stream",
     "text": [
      "count : 100\n",
      "sum : 5014\n",
      "average : 50.14\n",
      "median : 52.0\n",
      "max : 99\n",
      "min : 11\n",
      "=====\n",
      "mode : 0    59\n",
      "1    66\n",
      "dtype: int64\n"
     ]
    }
   ],
   "source": [
    "print(f\"count : {df['Quantity'].count()}\")\n",
    "print(f\"sum : {df['Quantity'].sum()}\")\n",
    "print(f\"average : {df['Quantity'].mean()}\")\n",
    "print(f\"median : {df['Quantity'].median()}\")\n",
    "print(f\"max : {df['Quantity'].max()}\")\n",
    "print(f\"min : {df['Quantity'].min()}\")\n",
    "print('=====')\n",
    "print(f\"mode : {df['Quantity'].mode()}\")   # 最頻値"
   ]
  },
  {
   "cell_type": "code",
   "execution_count": null,
   "id": "783253f2",
   "metadata": {},
   "outputs": [],
   "source": []
  },
  {
   "cell_type": "markdown",
   "id": "a4c9c150",
   "metadata": {},
   "source": [
    "カラム別のユニークな値"
   ]
  },
  {
   "cell_type": "code",
   "execution_count": null,
   "id": "eebeda31",
   "metadata": {},
   "outputs": [],
   "source": []
  },
  {
   "cell_type": "markdown",
   "id": "55174c9c",
   "metadata": {},
   "source": [
    "基本統計量の一括表示"
   ]
  },
  {
   "cell_type": "code",
   "execution_count": null,
   "id": "5234f7aa",
   "metadata": {},
   "outputs": [],
   "source": []
  },
  {
   "cell_type": "markdown",
   "id": "3819d4e9",
   "metadata": {},
   "source": [
    "最大値・最小値を持つレコード"
   ]
  },
  {
   "cell_type": "code",
   "execution_count": null,
   "id": "eef00fc7",
   "metadata": {},
   "outputs": [],
   "source": []
  },
  {
   "cell_type": "markdown",
   "id": "42ffc6c0",
   "metadata": {
    "scrolled": true
   },
   "source": [
    "---\n",
    "<a id=5></a>\n",
    "[Topへ](#0)\n",
    "\n",
    "---\n",
    "## 5. グループ化、レコードの並べ替え"
   ]
  },
  {
   "cell_type": "markdown",
   "id": "92d975cb",
   "metadata": {},
   "source": [
    "* グループ化し、特定のグループを抽出する\n",
    "* 並べ替え\n",
    "* グループ毎の統計量を比較\n",
    "* 複数のカテゴリ（クラス）でのグループ化とMultiIndexの扱い   \n",
    "---"
   ]
  },
  {
   "cell_type": "markdown",
   "id": "db11ed55",
   "metadata": {},
   "source": [
    "グループ化し、特定のグループを抽出する"
   ]
  },
  {
   "cell_type": "code",
   "execution_count": null,
   "id": "2ef0cd53",
   "metadata": {},
   "outputs": [],
   "source": []
  },
  {
   "cell_type": "markdown",
   "id": "6074134e",
   "metadata": {},
   "source": [
    "並べ替え"
   ]
  },
  {
   "cell_type": "code",
   "execution_count": null,
   "id": "6f63434f",
   "metadata": {},
   "outputs": [],
   "source": []
  },
  {
   "cell_type": "markdown",
   "id": "17d769fd",
   "metadata": {},
   "source": [
    "グループ毎の統計量を比較"
   ]
  },
  {
   "cell_type": "code",
   "execution_count": null,
   "id": "0937a5fd",
   "metadata": {},
   "outputs": [],
   "source": []
  },
  {
   "cell_type": "markdown",
   "id": "e58a74a1",
   "metadata": {},
   "source": [
    "複数のカテゴリ（クラス）でのグループ化とMultiIndexの扱い"
   ]
  },
  {
   "cell_type": "code",
   "execution_count": null,
   "id": "7f40e084",
   "metadata": {},
   "outputs": [],
   "source": []
  },
  {
   "cell_type": "markdown",
   "id": "f251c3d1",
   "metadata": {
    "scrolled": true
   },
   "source": [
    "---\n",
    "<a id=6></a>\n",
    "[Topへ](#0)\n",
    "\n",
    "---\n",
    "## 6.重複、 欠損値の処理"
   ]
  },
  {
   "cell_type": "markdown",
   "id": "e3ef4bd1",
   "metadata": {},
   "source": [
    "* 重複レコードの削除\n",
    "* 欠損値の確認\n",
    "* 欠損値レコードを削除\n",
    "* 欠損値を平均値で置換    \n",
    "* scikit learn の SimpleImputerを使う\n",
    "---"
   ]
  },
  {
   "cell_type": "markdown",
   "id": "d6a3b28a",
   "metadata": {},
   "source": [
    "重複レコードの削除"
   ]
  },
  {
   "cell_type": "code",
   "execution_count": null,
   "id": "8963603b",
   "metadata": {},
   "outputs": [],
   "source": [
    "# バージョンの更新によりdf = pd.concat([df, df_dup])が推奨される\n"
   ]
  },
  {
   "cell_type": "markdown",
   "id": "01d3aae0",
   "metadata": {},
   "source": [
    "欠損値の確認"
   ]
  },
  {
   "cell_type": "code",
   "execution_count": null,
   "id": "5937cd1b",
   "metadata": {},
   "outputs": [],
   "source": []
  },
  {
   "cell_type": "markdown",
   "id": "67658598",
   "metadata": {},
   "source": [
    "欠損値レコードを削除"
   ]
  },
  {
   "cell_type": "code",
   "execution_count": null,
   "id": "5c981603",
   "metadata": {},
   "outputs": [],
   "source": []
  },
  {
   "cell_type": "markdown",
   "id": "29cbe3e6",
   "metadata": {},
   "source": [
    "欠損値を平均値で置き換え"
   ]
  },
  {
   "cell_type": "code",
   "execution_count": null,
   "id": "15ab9a58",
   "metadata": {},
   "outputs": [],
   "source": []
  },
  {
   "cell_type": "markdown",
   "id": "0ded69f5",
   "metadata": {},
   "source": [
    "scikit learn の SimpleImputer を使う"
   ]
  },
  {
   "cell_type": "code",
   "execution_count": null,
   "id": "70ecea7e",
   "metadata": {},
   "outputs": [],
   "source": []
  },
  {
   "cell_type": "markdown",
   "id": "f0d952ab",
   "metadata": {},
   "source": [
    "---\n",
    " <a id=4></a>\n",
    "[Topへ](#0)\n",
    "\n",
    "---\n",
    "## 以上\n",
    "    \n",
    "---"
   ]
  }
 ],
 "metadata": {
  "kernelspec": {
   "display_name": "Python 3",
   "language": "python",
   "name": "python3"
  },
  "language_info": {
   "codemirror_mode": {
    "name": "ipython",
    "version": 3
   },
   "file_extension": ".py",
   "mimetype": "text/x-python",
   "name": "python",
   "nbconvert_exporter": "python",
   "pygments_lexer": "ipython3",
   "version": "3.7.10"
  }
 },
 "nbformat": 4,
 "nbformat_minor": 5
}
