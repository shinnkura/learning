{
 "cells": [
  {
   "cell_type": "markdown",
   "id": "23c6d4cc",
   "metadata": {},
   "source": [
    "<a id=0></a>\n",
    "# 5.Distribution & Relational Plot"
   ]
  },
  {
   "cell_type": "markdown",
   "id": "cfd115fa",
   "metadata": {},
   "source": [
    "---\n",
    "### [1.SearbornのデータセットからDataFrameを作成 ](#1)\n",
    "### [2.Distribution Plot ](#2)\n",
    "### [3.Relational Plot](#3)\n",
    "### [4. Pandas Supplement : DatetimeIndex & map](#4)\n",
    "---"
   ]
  },
  {
   "cell_type": "code",
   "execution_count": null,
   "id": "5f4b23d4",
   "metadata": {
    "scrolled": false
   },
   "outputs": [],
   "source": [
    "import numpy as np\n",
    "import pandas as pd\n",
    "import matplotlib.pyplot as plt\n",
    "import seaborn as sns"
   ]
  },
  {
   "cell_type": "markdown",
   "id": "cff153af",
   "metadata": {},
   "source": [
    "---\n",
    "<a id=1></a>\n",
    "[Topへ](#0)\n",
    "\n",
    "---\n",
    "## 1. SearbornのデータセットからDataFrameを作成"
   ]
  },
  {
   "cell_type": "markdown",
   "id": "75b9359b",
   "metadata": {},
   "source": [
    "* データセット(penguins)を読み込む\n",
    "* データセットの整理\n",
    "---"
   ]
  },
  {
   "cell_type": "markdown",
   "id": "68f0ca02",
   "metadata": {},
   "source": [
    "データセット('penguins')を読み込む"
   ]
  },
  {
   "cell_type": "code",
   "execution_count": null,
   "id": "6b6fac15",
   "metadata": {},
   "outputs": [],
   "source": []
  },
  {
   "cell_type": "markdown",
   "id": "dbd6c539",
   "metadata": {},
   "source": [
    "データセットの整理"
   ]
  },
  {
   "cell_type": "markdown",
   "id": "404e5d76",
   "metadata": {},
   "source": [
    "<p>\n",
    "    <a href=\"https://www.kaggle.com/datasets/larsen0966/penguins?sort=votes\" target=\"_blank\" rel=\"noreferrer noopener\">\n",
    "        Kaggle Dataset Penguins のページへ\n",
    "    </a>\n",
    "</p>\n",
    "\n",
    "    bill        : くちばし  \n",
    "    flipper     : 翼\n",
    "    body_mass_g : 体重    "
   ]
  },
  {
   "cell_type": "code",
   "execution_count": null,
   "id": "37f3c0fc",
   "metadata": {},
   "outputs": [],
   "source": []
  },
  {
   "cell_type": "markdown",
   "id": "63fdca23",
   "metadata": {},
   "source": [
    "---\n",
    "<a id=2></a>\n",
    "[Topへ](#0)\n",
    "\n",
    "---\n",
    "## 2. Distribution Plot"
   ]
  },
  {
   "cell_type": "markdown",
   "id": "e0163a8b",
   "metadata": {},
   "source": [
    "* Seabornテーマの設定\n",
    "* ヒストプロット : 度数分布を表す。横軸に階級、縦軸に度数\n",
    "    * **sns.histplot()**\n",
    "    <p>\n",
    "        <a href=\"https://seaborn.pydata.org/generated/seaborn.histplot.html\" target=\"_blank\" rel=\"noreferrer noopener\">\n",
    "            Seaborn.histplot のページへ\n",
    "        </a>\n",
    "    </p>\n",
    "\n",
    "\n",
    "* KDEプロット : カーネル密度推定による分布を表す。横軸に階級\n",
    "    * KDE(カーネル密度推定) : 有限のサンプルから全体の分布を推定\n",
    "    * **sns.kdeplot()**\n",
    "    <p>\n",
    "        <a href=\"https://seaborn.pydata.org/generated/seaborn.kdeplot.html\" target=\"_blank\" rel=\"noreferrer noopener\">\n",
    "            Seaborn.kdeplot のページへ\n",
    "        </a>\n",
    "    </p>\n",
    "---"
   ]
  },
  {
   "cell_type": "markdown",
   "id": "faa6c6dd",
   "metadata": {},
   "source": [
    "Seabornテーマの設定"
   ]
  },
  {
   "cell_type": "code",
   "execution_count": null,
   "id": "c3753e33",
   "metadata": {},
   "outputs": [],
   "source": []
  },
  {
   "cell_type": "markdown",
   "id": "f9dd9932",
   "metadata": {},
   "source": [
    "ヒストプロット"
   ]
  },
  {
   "cell_type": "code",
   "execution_count": null,
   "id": "e65ce848",
   "metadata": {},
   "outputs": [],
   "source": []
  },
  {
   "cell_type": "markdown",
   "id": "5a65bccf",
   "metadata": {},
   "source": [
    "KDEプロット"
   ]
  },
  {
   "cell_type": "code",
   "execution_count": null,
   "id": "2bbd75e2",
   "metadata": {},
   "outputs": [],
   "source": []
  },
  {
   "cell_type": "markdown",
   "id": "dfc6c3dc",
   "metadata": {},
   "source": [
    "---\n",
    "<a id=3></a>\n",
    "[Topへ](#0)\n",
    "\n",
    "---\n",
    "## 3. Relational Plot"
   ]
  },
  {
   "cell_type": "markdown",
   "id": "01106b2d",
   "metadata": {},
   "source": [
    "* ジョイントプロット : 2変数の関係をスキャッタープロットとKEDプロットで表示（デフォルト設定）\n",
    "    * **sns.jointplot()**\n",
    "    <p>\n",
    "        <a href=\"https://seaborn.pydata.org/generated/seaborn.jointplot.html\" target=\"_blank\" rel=\"noreferrer noopener\">\n",
    "            Seaborn.jointplot のページへ\n",
    "        </a>\n",
    "    </p>\n",
    "    \n",
    "\n",
    "* スキャッタープロット : 散布図。2変数の関係を点の分布により表す\n",
    "    * **sns.scatterplot()**\n",
    "    <p>\n",
    "        <a href=\"https://seaborn.pydata.org/generated/seaborn.scatterplot.html\" target=\"_blank\" rel=\"noreferrer noopener\">\n",
    "            Seaborn.scatterplot のページへ\n",
    "        </a>\n",
    "    </p>\n",
    "\n",
    "\n",
    "* RELプロット : スキャッタープロットをさらにクラス分けして行・列で表す\n",
    "    * **sns.relplot()**\n",
    "    <p>\n",
    "        <a href=\"https://seaborn.pydata.org/generated/seaborn.relplot.html\" target=\"_blank\" rel=\"noreferrer noopener\">\n",
    "            Seaborn.relplot のページへ\n",
    "        </a>\n",
    "    </p>\n",
    "\n",
    "\n",
    "* REGプロット : スキャッタープロットと線形回帰直線を表す\n",
    "    * **sns.regplot()**\n",
    "    <p>\n",
    "        <a href=\"https://seaborn.pydata.org/generated/seaborn.regplot.html\" target=\"_blank\" rel=\"noreferrer noopener\">\n",
    "            Seaborn.regplot のページへ\n",
    "        </a>\n",
    "    </p>\n",
    "\n",
    "\n",
    "* LMプロット : REGプロットをさらにクラス分けして行・列で表す\n",
    "    * **sns.lmplot()**\n",
    "    <p>\n",
    "        <a href=\"https://seaborn.pydata.org/generated/seaborn.lmplot.html\" target=\"_blank\" rel=\"noreferrer noopener\">\n",
    "            Seaborn.lmplot のページへ\n",
    "        </a>\n",
    "    </p>\n",
    "\n",
    "\n",
    "* ペアプロット : すべての数値データの組み合わせを行い、グリッドで2変数の関係を表す\n",
    "    * **sns.pairplot()**\n",
    "    <p>\n",
    "        <a href=\"https://seaborn.pydata.org/generated/seaborn.pairplot.html\" target=\"_blank\" rel=\"noreferrer noopener\">\n",
    "            Seaborn.pairplot のページへ\n",
    "        </a>\n",
    "    </p>\n",
    "    \n",
    "    \n",
    "* ラインプロット : 折れ線グラフ。点をつなぎ、主に連続的変化の推移を表す\n",
    "    * **sns.lineplot()**\n",
    "    <p>\n",
    "        <a href=\"https://seaborn.pydata.org/generated/seaborn.lineplot.html\" target=\"_blank\" rel=\"noreferrer noopener\">\n",
    "            Seaborn.lineplot のページへ\n",
    "        </a>\n",
    "    </p>\n",
    "    \n",
    "   \n",
    "\n",
    "---"
   ]
  },
  {
   "cell_type": "markdown",
   "id": "e4819fec",
   "metadata": {},
   "source": [
    "ジョイントプロット"
   ]
  },
  {
   "cell_type": "code",
   "execution_count": null,
   "id": "7dd6310c",
   "metadata": {},
   "outputs": [],
   "source": []
  },
  {
   "cell_type": "markdown",
   "id": "c9c7bf63",
   "metadata": {},
   "source": [
    "スキャッタープロット"
   ]
  },
  {
   "cell_type": "code",
   "execution_count": null,
   "id": "fd268c14",
   "metadata": {},
   "outputs": [],
   "source": []
  },
  {
   "cell_type": "markdown",
   "id": "dcaecf85",
   "metadata": {},
   "source": [
    "RELプロット"
   ]
  },
  {
   "cell_type": "code",
   "execution_count": null,
   "id": "33a59770",
   "metadata": {},
   "outputs": [],
   "source": []
  },
  {
   "cell_type": "markdown",
   "id": "87f21f8d",
   "metadata": {},
   "source": [
    "REGプロット"
   ]
  },
  {
   "cell_type": "code",
   "execution_count": null,
   "id": "a269e486",
   "metadata": {},
   "outputs": [],
   "source": []
  },
  {
   "cell_type": "markdown",
   "id": "e16db690",
   "metadata": {},
   "source": [
    "LMプロット"
   ]
  },
  {
   "cell_type": "code",
   "execution_count": null,
   "id": "ddee6720",
   "metadata": {},
   "outputs": [],
   "source": []
  },
  {
   "cell_type": "markdown",
   "id": "931942b7",
   "metadata": {},
   "source": [
    "ペアプロット"
   ]
  },
  {
   "cell_type": "code",
   "execution_count": null,
   "id": "be68bb2e",
   "metadata": {},
   "outputs": [],
   "source": []
  },
  {
   "cell_type": "markdown",
   "id": "07eba239",
   "metadata": {},
   "source": [
    "ラインプロット"
   ]
  },
  {
   "cell_type": "code",
   "execution_count": null,
   "id": "5834e4c9",
   "metadata": {},
   "outputs": [],
   "source": []
  },
  {
   "cell_type": "markdown",
   "id": "ffa3cabf",
   "metadata": {},
   "source": [
    "---\n",
    "<a id=4></a>\n",
    "[Topへ](#0)\n",
    "\n",
    "---\n",
    "## 4. Pandas Supplement : DatetimeIndex & map"
   ]
  },
  {
   "cell_type": "markdown",
   "id": "ae9218c0",
   "metadata": {},
   "source": [
    "* Series.map()を使いJanを1に、Febを2に\n",
    "* 文字列を結合して新しいカラムを作る\n",
    "* to_datetimeでDatetime型に変更\n",
    "* Datetimeの機能で情報を取得する\n",
    "* ある時点からの差を取得する\n",
    "* DatetimeIndexにしてresamplingを行う\n",
    "* shiftを使って変化量を算出\n",
    "---"
   ]
  },
  {
   "cell_type": "markdown",
   "id": "88ae4cdf",
   "metadata": {},
   "source": [
    "Series.map()を使いJanを1に、Febを2に  \n",
    "\n",
    "※ Seriesの各要素にはmapもしくはapply、DataFrameの行列にはapply、DataFrameの各要素に対してはapplymap  \n",
    "※ for文を使うよりはずっと早い  \n",
    "※ loc, ilocでの書き換えで対応しづらいような場合、簡潔に記述したい場合に使用する  \n",
    "    "
   ]
  },
  {
   "cell_type": "code",
   "execution_count": null,
   "id": "05612c14",
   "metadata": {},
   "outputs": [],
   "source": [
    "month_dict ={'Jan':1, 'Feb':2, 'Mar':3, 'Apr':4, 'May':5, 'Jun':6, 'Jul':7, 'Aug':8, 'Sep':9, 'Oct':10, 'Nov':11, 'Dec':12}"
   ]
  },
  {
   "cell_type": "markdown",
   "id": "78845cc6",
   "metadata": {},
   "source": [
    "文字列を結合して新しいカラムを作る"
   ]
  },
  {
   "cell_type": "code",
   "execution_count": null,
   "id": "a78c4826",
   "metadata": {},
   "outputs": [],
   "source": []
  },
  {
   "cell_type": "markdown",
   "id": "7ac19983",
   "metadata": {},
   "source": [
    "to_datetimeでDatetime型に変更"
   ]
  },
  {
   "cell_type": "code",
   "execution_count": null,
   "id": "99d796fe",
   "metadata": {},
   "outputs": [],
   "source": []
  },
  {
   "cell_type": "markdown",
   "id": "26cc5d8a",
   "metadata": {},
   "source": [
    "Datetimeの機能で情報を取得する"
   ]
  },
  {
   "cell_type": "code",
   "execution_count": null,
   "id": "d4cc587a",
   "metadata": {},
   "outputs": [],
   "source": []
  },
  {
   "cell_type": "markdown",
   "id": "9f38c670",
   "metadata": {},
   "source": [
    "ある時点からの差を取得する"
   ]
  },
  {
   "cell_type": "code",
   "execution_count": null,
   "id": "644d4ca5",
   "metadata": {},
   "outputs": [],
   "source": []
  },
  {
   "cell_type": "markdown",
   "id": "9239962d",
   "metadata": {},
   "source": [
    "DatetimeIndexにしてresamplingを行う"
   ]
  },
  {
   "cell_type": "code",
   "execution_count": null,
   "id": "eddd5f17",
   "metadata": {},
   "outputs": [],
   "source": []
  },
  {
   "cell_type": "markdown",
   "id": "1929a9b9",
   "metadata": {},
   "source": [
    "shiftを使って変化量を算出"
   ]
  },
  {
   "cell_type": "code",
   "execution_count": null,
   "id": "c00acf96",
   "metadata": {},
   "outputs": [],
   "source": []
  },
  {
   "cell_type": "markdown",
   "id": "f0d952ab",
   "metadata": {},
   "source": [
    "---\n",
    " <a id=4></a>\n",
    "[Topへ](#0)\n",
    "\n",
    "---\n",
    "## 以上\n",
    "    \n",
    "---"
   ]
  }
 ],
 "metadata": {
  "kernelspec": {
   "display_name": "Python 3",
   "language": "python",
   "name": "python3"
  },
  "language_info": {
   "codemirror_mode": {
    "name": "ipython",
    "version": 3
   },
   "file_extension": ".py",
   "mimetype": "text/x-python",
   "name": "python",
   "nbconvert_exporter": "python",
   "pygments_lexer": "ipython3",
   "version": "3.7.10"
  }
 },
 "nbformat": 4,
 "nbformat_minor": 5
}
