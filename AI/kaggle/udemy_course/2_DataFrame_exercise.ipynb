{
 "cells": [
  {
   "cell_type": "markdown",
   "id": "40d9c665",
   "metadata": {},
   "source": [
    "---\n",
    "# DataFrame  Exercise\n",
    "---"
   ]
  },
  {
   "cell_type": "code",
   "execution_count": null,
   "id": "2fe04f33",
   "metadata": {},
   "outputs": [],
   "source": [
    "import numpy as np\n",
    "import pandas as pd\n",
    "import matplotlib.pyplot as plt\n",
    "import seaborn as sns"
   ]
  },
  {
   "cell_type": "markdown",
   "id": "28d6b528",
   "metadata": {},
   "source": [
    "Exercise_1 : Pandas の date_range を用いて 2000/7/1 から100日の DatetimeIndexと、2000/7/1 0時からから3時間毎の100個の DatetimeIndexを作成してください（date）"
   ]
  },
  {
   "cell_type": "code",
   "execution_count": null,
   "id": "75eec315",
   "metadata": {},
   "outputs": [],
   "source": [
    "dates = "
   ]
  },
  {
   "cell_type": "markdown",
   "id": "1372d1db",
   "metadata": {},
   "source": [
    "<details>\n",
    "    <summary><font color='red'>解答はここをクリック</font></summary>\n",
    "    <code>dates = pd.date_range('2000/7/1', periods=100, freq='D')</code>\n",
    "</details>"
   ]
  },
  {
   "cell_type": "code",
   "execution_count": null,
   "id": "8c671c2f",
   "metadata": {},
   "outputs": [],
   "source": [
    "# 実行して表示\n",
    "dates[:10]"
   ]
  },
  {
   "cell_type": "code",
   "execution_count": null,
   "id": "1027efa0",
   "metadata": {},
   "outputs": [],
   "source": [
    "times = "
   ]
  },
  {
   "cell_type": "markdown",
   "id": "6f06b90d",
   "metadata": {},
   "source": [
    "<details>\n",
    "    <summary><font color='red'>解答はここをクリック</font></summary>\n",
    "    <code>dates = pd.date_range('2000/7/1', periods=100, freq='3H')</code>\n",
    "</details>"
   ]
  },
  {
   "cell_type": "code",
   "execution_count": null,
   "id": "41ca82e5",
   "metadata": {},
   "outputs": [],
   "source": [
    "# 実行して表示\n",
    "times[:10]"
   ]
  },
  {
   "cell_type": "markdown",
   "id": "4d1f6bf7",
   "metadata": {},
   "source": [
    "Exercise_2 : arr_int と arr_uni の Numpy Array を index方向（縦、1次元方向）、column方向（横、2次元方向）に結合してください（arr_concat_v, arr_concat_h）"
   ]
  },
  {
   "cell_type": "code",
   "execution_count": null,
   "id": "4d45835a",
   "metadata": {},
   "outputs": [],
   "source": [
    "# 実行のみ\n",
    "arr_int = np.random.randint(0, 100, (4, 3))\n",
    "arr_uni = np.random.uniform(40, 60, (4, 3))"
   ]
  },
  {
   "cell_type": "code",
   "execution_count": null,
   "id": "686ffcb5",
   "metadata": {},
   "outputs": [],
   "source": [
    "arr_concat_v = \n",
    "arr_concat_v"
   ]
  },
  {
   "cell_type": "markdown",
   "id": "6dd2ff88",
   "metadata": {},
   "source": [
    "<details>\n",
    "    <summary><font color='red'>解答はここをクリック</font></summary>\n",
    "    <code>arr_concat_v = np.concatenate([arr_int, arr_uni], axis=0)</code>\n",
    "</details>"
   ]
  },
  {
   "cell_type": "code",
   "execution_count": null,
   "id": "1aaddcce",
   "metadata": {},
   "outputs": [],
   "source": [
    "# 実行して表示\n",
    "arr_concat_v.shape\n",
    "# (8, 3)が表示されればOK"
   ]
  },
  {
   "cell_type": "code",
   "execution_count": null,
   "id": "7c452fa7",
   "metadata": {},
   "outputs": [],
   "source": [
    "arr_concat_h = \n",
    "arr_concat_h"
   ]
  },
  {
   "cell_type": "markdown",
   "id": "d540895f",
   "metadata": {},
   "source": [
    "<details>\n",
    "    <summary><font color='red'>解答はここをクリック</font></summary>\n",
    "    <code>arr_concat_h = np.concatenate([arr_int, arr_uni], axis=1)</code>\n",
    "</details>"
   ]
  },
  {
   "cell_type": "code",
   "execution_count": null,
   "id": "fd1c6a96",
   "metadata": {},
   "outputs": [],
   "source": [
    "arr_concat_h.shape\n",
    "# (4, 6)が表示されればOK"
   ]
  },
  {
   "cell_type": "markdown",
   "id": "b2c30d92",
   "metadata": {},
   "source": [
    "Exercise_3 : arr_concat_v から、Seriesを作成してください（sr1）。　ヒント　次元の変更"
   ]
  },
  {
   "cell_type": "code",
   "execution_count": null,
   "id": "cbd423f9",
   "metadata": {},
   "outputs": [],
   "source": [
    "sr1 = "
   ]
  },
  {
   "cell_type": "markdown",
   "id": "511d1834",
   "metadata": {},
   "source": [
    "<details>\n",
    "    <summary><font color='red'>解答はここをクリック</font></summary>\n",
    "    <code>sr1 = pd.Series(arr_concat_v.flatten())</code>\n",
    "</details>"
   ]
  },
  {
   "cell_type": "code",
   "execution_count": null,
   "id": "5fc46f1e",
   "metadata": {},
   "outputs": [],
   "source": [
    "# 実行して表示\n",
    "sr1"
   ]
  },
  {
   "cell_type": "markdown",
   "id": "a778a4ba",
   "metadata": {},
   "source": [
    "Exercise_4 : arr_concat_h から、indexラベルを ['Zero', 'One', 'Two', 'Three']、columnラベルを ['A', 'B', 'C', 'D', 'E', 'F'] としてデータフレームを作成してください（df1)"
   ]
  },
  {
   "cell_type": "code",
   "execution_count": null,
   "id": "683d507a",
   "metadata": {},
   "outputs": [],
   "source": [
    "df1 = "
   ]
  },
  {
   "cell_type": "markdown",
   "id": "8aae82ee",
   "metadata": {},
   "source": [
    "<details>\n",
    "    <summary><font color='red'>解答はここをクリック</font></summary>\n",
    "    <code>df1 = pd.DataFrame(arr_concat_h, index=['Zero', 'One', 'Two', 'Three'], columns= ['A', 'B', 'C', 'D', 'E', 'F'])</code>\n",
    "</details>"
   ]
  },
  {
   "cell_type": "code",
   "execution_count": null,
   "id": "b85002ac",
   "metadata": {},
   "outputs": [],
   "source": [
    "# 実行して表示\n",
    "df1"
   ]
  },
  {
   "cell_type": "markdown",
   "id": "8f1ead72",
   "metadata": {},
   "source": [
    "Exercise_5 : 上記 df の indexラベルを ['P', 'Q', 'R', 'S']、columnラベルを ['col_0', 'col_1', 'col_2', 'col_3', 'col_4', 'col_5'] へ変更してください"
   ]
  },
  {
   "cell_type": "code",
   "execution_count": null,
   "id": "31672c94",
   "metadata": {},
   "outputs": [],
   "source": []
  },
  {
   "cell_type": "markdown",
   "id": "057c6fc5",
   "metadata": {},
   "source": [
    "<details>\n",
    "    <summary><font color='red'>解答はここをクリック</font></summary>\n",
    "    <code>df1.index = ['P', 'Q', 'R', 'S']</code><br>\n",
    "    <code>df1.columns = ['col_0', 'col_1', 'col_2', 'col_3', 'col_4', 'col_5']</code><br>\n",
    "    <code>df1.rename(index={'旧':'新', ...}, columns={'旧':'新', ...})でも可</code>\n",
    "</details>"
   ]
  },
  {
   "cell_type": "code",
   "execution_count": null,
   "id": "4108338f",
   "metadata": {},
   "outputs": [],
   "source": [
    "# 実行して表示\n",
    "df1"
   ]
  },
  {
   "cell_type": "markdown",
   "id": "1a1ab977",
   "metadata": {},
   "source": [
    "Exercise_6: 下記 df2 を df1 と index方向へ結合してください（df）。また、column方向へ結合した場合も確認してください（実行するだけです）。"
   ]
  },
  {
   "cell_type": "code",
   "execution_count": null,
   "id": "0fbca9e7",
   "metadata": {
    "scrolled": false
   },
   "outputs": [],
   "source": [
    "# 実行して表示\n",
    "arr = np.array(np.arange(24)).reshape(4, 6)\n",
    "df2 = pd.DataFrame(arr, index=list('ABCD'), columns=['col_0', 'col_1', 'col_2', 'col_3', 'col_4', 'col_5'])   # column名は同じ\n",
    "df2"
   ]
  },
  {
   "cell_type": "code",
   "execution_count": null,
   "id": "3e3a769b",
   "metadata": {},
   "outputs": [],
   "source": [
    "df = "
   ]
  },
  {
   "cell_type": "markdown",
   "id": "45f90af0",
   "metadata": {},
   "source": [
    "<details>\n",
    "    <summary><font color='red'>解答はここをクリック</font></summary>\n",
    "    <code>df = pd.concat([df1, df2], axis=0)</code>\n",
    "</details>"
   ]
  },
  {
   "cell_type": "code",
   "execution_count": null,
   "id": "477772f1",
   "metadata": {},
   "outputs": [],
   "source": [
    "# 実行して表示\n",
    "df"
   ]
  },
  {
   "cell_type": "code",
   "execution_count": null,
   "id": "ab3007fe",
   "metadata": {},
   "outputs": [],
   "source": [
    "# 実行して表示\n",
    "pd.concat([df1, df2], axis=1)"
   ]
  },
  {
   "cell_type": "markdown",
   "id": "5a7f657f",
   "metadata": {},
   "source": [
    "Exercise_7: exercise_2のarr_intとarr_uniをnp.concatenateとは別のメソッドで縦方向、横方向に結合してください。"
   ]
  },
  {
   "cell_type": "code",
   "execution_count": null,
   "id": "49325506",
   "metadata": {},
   "outputs": [],
   "source": [
    "# 縦方向\n",
    "arr_v = "
   ]
  },
  {
   "cell_type": "markdown",
   "id": "9f4e19ab",
   "metadata": {},
   "source": [
    "<details>\n",
    "    <summary><font color='red'>解答はここをクリック</font></summary>\n",
    "    <code>arr_v = np.vstack([arr_int, arr_uni])</code>\n",
    "</details>"
   ]
  },
  {
   "cell_type": "code",
   "execution_count": null,
   "id": "1f9bd921",
   "metadata": {},
   "outputs": [],
   "source": [
    "# 実行して表示\n",
    "arr_v"
   ]
  },
  {
   "cell_type": "code",
   "execution_count": null,
   "id": "c8e9021c",
   "metadata": {
    "scrolled": true
   },
   "outputs": [],
   "source": [
    "# 横方向\n",
    "arr_h = "
   ]
  },
  {
   "cell_type": "markdown",
   "id": "138e4610",
   "metadata": {},
   "source": [
    "<details>\n",
    "    <summary><font color='red'>解答はここをクリック</font></summary>\n",
    "    <code>arr_h = np.hstack([arr_int, arr_uni])</code>\n",
    "</details>"
   ]
  },
  {
   "cell_type": "code",
   "execution_count": null,
   "id": "b2278036",
   "metadata": {},
   "outputs": [],
   "source": [
    "# 実行して表示\n",
    "arr_h"
   ]
  },
  {
   "cell_type": "markdown",
   "id": "9a5af0b4",
   "metadata": {},
   "source": [
    "Exercise_8 : df の index count, column, non-null count, dtype などのInformation一覧を表示してください"
   ]
  },
  {
   "cell_type": "code",
   "execution_count": null,
   "id": "06cc2179",
   "metadata": {},
   "outputs": [],
   "source": []
  },
  {
   "cell_type": "markdown",
   "id": "cc38cc18",
   "metadata": {},
   "source": [
    "<details>\n",
    "    <summary><font color='red'>解答はここをクリック</font></summary>\n",
    "    <code>df.info()</code>\n",
    "</details>"
   ]
  },
  {
   "cell_type": "markdown",
   "id": "a199d105",
   "metadata": {},
   "source": [
    "Exercise_9: dfの列毎の数値の合計、行毎の数値の合計を表示してください"
   ]
  },
  {
   "cell_type": "code",
   "execution_count": null,
   "id": "ee3f64ca",
   "metadata": {},
   "outputs": [],
   "source": [
    "# 列\n"
   ]
  },
  {
   "cell_type": "markdown",
   "id": "5e307968",
   "metadata": {},
   "source": [
    "<details>\n",
    "    <summary><font color='red'>解答はここをクリック</font></summary>\n",
    "    <code>df.sum()</code>\n",
    "</details>"
   ]
  },
  {
   "cell_type": "code",
   "execution_count": null,
   "id": "82bbe7a7",
   "metadata": {},
   "outputs": [],
   "source": [
    "# 行\n"
   ]
  },
  {
   "cell_type": "markdown",
   "id": "07345bd0",
   "metadata": {},
   "source": [
    "<details>\n",
    "    <summary><font color='red'>解答はここをクリック</font></summary>\n",
    "    <code>df.sum(axis=1)</code>\n",
    "</details>"
   ]
  },
  {
   "cell_type": "markdown",
   "id": "df7c609f",
   "metadata": {},
   "source": [
    "Exercise_10: dfの先頭3行を表示してください。またdfをシャッフルし（df_shuffled）、その末尾の3行を表示してください。"
   ]
  },
  {
   "cell_type": "code",
   "execution_count": 1,
   "id": "b2b48e32",
   "metadata": {},
   "outputs": [],
   "source": [
    "# 先頭3行"
   ]
  },
  {
   "cell_type": "markdown",
   "id": "e428a1f0",
   "metadata": {},
   "source": [
    "<details>\n",
    "    <summary><font color='red'>解答はここをクリック</font></summary>\n",
    "    <code>df.head(3)</code>\n",
    "</details>"
   ]
  },
  {
   "cell_type": "code",
   "execution_count": null,
   "id": "abfcadee",
   "metadata": {},
   "outputs": [],
   "source": [
    "df_shuffled = "
   ]
  },
  {
   "cell_type": "markdown",
   "id": "98ed83d6",
   "metadata": {},
   "source": [
    "<details>\n",
    "    <summary><font color='red'>解答はここをクリック</font></summary>\n",
    "    <code>df_shuffled = df.sample(frac=1)</code>\n",
    "</details>"
   ]
  },
  {
   "cell_type": "code",
   "execution_count": null,
   "id": "89bf9682",
   "metadata": {},
   "outputs": [],
   "source": []
  },
  {
   "cell_type": "markdown",
   "id": "1f4fb9fb",
   "metadata": {},
   "source": [
    "<details>\n",
    "    <summary><font color='red'>解答はここをクリック</font></summary>\n",
    "    <code>df_shuffled.tail(3)</code>\n",
    "</details>"
   ]
  },
  {
   "cell_type": "markdown",
   "id": "8abf28a2",
   "metadata": {},
   "source": [
    "Exercise_11 : df を 現在の index(A, B, ..., S) に対して降順に並べ替え（df.sort_index(inplace=True)）、index をリセットし0,1,2の通し番号に戻してくだださい。さらに新規にできるカラム'index' を 'class' に変更してください。"
   ]
  },
  {
   "cell_type": "code",
   "execution_count": null,
   "id": "dd91cf3d",
   "metadata": {},
   "outputs": [],
   "source": [
    "# 実行して表示\n",
    "df"
   ]
  },
  {
   "cell_type": "code",
   "execution_count": null,
   "id": "dc9bd913",
   "metadata": {},
   "outputs": [],
   "source": [
    "# 並べ替えのみ。（コース内での紹介はありませんでした）\n"
   ]
  },
  {
   "cell_type": "markdown",
   "id": "3b162597",
   "metadata": {},
   "source": [
    "<details>\n",
    "    <summary><font color='red'>解答はここをクリック</font></summary>\n",
    "    <code>df.sort_index(inplace=True)</code>\n",
    "</details>"
   ]
  },
  {
   "cell_type": "code",
   "execution_count": null,
   "id": "4aaf911d",
   "metadata": {
    "scrolled": true
   },
   "outputs": [],
   "source": [
    "# 実行して表示\n",
    "df"
   ]
  },
  {
   "cell_type": "code",
   "execution_count": null,
   "id": "6a022474",
   "metadata": {},
   "outputs": [],
   "source": [
    "# indexをリセット\n"
   ]
  },
  {
   "cell_type": "markdown",
   "id": "ceed3914",
   "metadata": {},
   "source": [
    "<details>\n",
    "    <summary><font color='red'>解答はここをクリック</font></summary>\n",
    "    <code>df.reset_index(inplace=True)</code>\n",
    "</details>"
   ]
  },
  {
   "cell_type": "code",
   "execution_count": null,
   "id": "5de72b45",
   "metadata": {
    "scrolled": false
   },
   "outputs": [],
   "source": [
    "# 実行して表示\n",
    "df"
   ]
  },
  {
   "cell_type": "code",
   "execution_count": null,
   "id": "7c852d4e",
   "metadata": {},
   "outputs": [],
   "source": [
    "# column名を変更\n"
   ]
  },
  {
   "cell_type": "markdown",
   "id": "12c15586",
   "metadata": {},
   "source": [
    "<details>\n",
    "    <summary><font color='red'>解答はここをクリック</font></summary>\n",
    "    <code>df.rename(columns={'index':'class'}, inplace=True)</code>\n",
    "</details>"
   ]
  },
  {
   "cell_type": "code",
   "execution_count": null,
   "id": "08c9989f",
   "metadata": {
    "scrolled": false
   },
   "outputs": [],
   "source": [
    "# 実行して表示\n",
    "df"
   ]
  },
  {
   "cell_type": "markdown",
   "id": "fecd4384",
   "metadata": {},
   "source": [
    "Exercise_12 : dfの各カラム名の末尾に'*'の文字列を付加したデータフレーム（df_star）を作成してください"
   ]
  },
  {
   "cell_type": "code",
   "execution_count": null,
   "id": "4b45b842",
   "metadata": {},
   "outputs": [],
   "source": [
    "df_star = "
   ]
  },
  {
   "cell_type": "markdown",
   "id": "a8410120",
   "metadata": {},
   "source": [
    "<details>\n",
    "    <summary><font color='red'>解答はここをクリック</font></summary>\n",
    "    <code>df_star = df.add_suffix('*')</code>\n",
    "</details>"
   ]
  },
  {
   "cell_type": "code",
   "execution_count": null,
   "id": "2374d1a7",
   "metadata": {},
   "outputs": [],
   "source": [
    "# 実行して表示\n",
    "df_star"
   ]
  },
  {
   "cell_type": "markdown",
   "id": "1633eafb",
   "metadata": {},
   "source": [
    "Exercise_13 : dfのレコード（サンプル）ごとの値をリストとして取り出してください。また、レコードごとの{カラム名：値, .....｝形式のディクショナリ―も作成してください（リスト内のディクショナリー）"
   ]
  },
  {
   "cell_type": "code",
   "execution_count": null,
   "id": "4835e515",
   "metadata": {},
   "outputs": [],
   "source": []
  },
  {
   "cell_type": "markdown",
   "id": "bd5fab72",
   "metadata": {},
   "source": [
    "<details>\n",
    "    <summary><font color='red'>解答はここをクリック</font></summary>\n",
    "    <code>df.values.tolist()</code>\n",
    "</details>"
   ]
  },
  {
   "cell_type": "code",
   "execution_count": null,
   "id": "2a2c1816",
   "metadata": {
    "scrolled": true
   },
   "outputs": [],
   "source": []
  },
  {
   "cell_type": "markdown",
   "id": "1063ea1b",
   "metadata": {},
   "source": [
    "<details>\n",
    "    <summary><font color='red'>解答はここをクリック</font></summary>\n",
    "    <code>df.to_dict(orient='records')</code>\n",
    "</details>"
   ]
  },
  {
   "cell_type": "markdown",
   "id": "57f0424d",
   "metadata": {},
   "source": [
    "Exercise_14 : 以下でいくつかの値を np.nan で置き換えています。DataFrame形式ですべての要素に対して nan であるかどうかをTrue/Falseで表示してください。またカラム毎の nan の合計、全体の nan の合計を表示してください。"
   ]
  },
  {
   "cell_type": "code",
   "execution_count": null,
   "id": "b336af72",
   "metadata": {},
   "outputs": [],
   "source": [
    "# 実行して表示\n",
    "list_null = [[0, 2], [2, 3], [3, 4], [4, 5], [6, 5]]\n",
    "for i in list_null:\n",
    "    df.iloc[i[0], i[1]] = np.nan\n",
    "\n",
    "df"
   ]
  },
  {
   "cell_type": "code",
   "execution_count": null,
   "id": "ab2ff6a4",
   "metadata": {},
   "outputs": [],
   "source": [
    "# すべての要素に対して True or False\n"
   ]
  },
  {
   "cell_type": "markdown",
   "id": "53bcaaff",
   "metadata": {},
   "source": [
    "<details>\n",
    "    <summary><font color='red'>解答はここをクリック</font></summary>\n",
    "    <code>df.isnull()</code>\n",
    "</details>"
   ]
  },
  {
   "cell_type": "code",
   "execution_count": null,
   "id": "3921a5c2",
   "metadata": {},
   "outputs": [],
   "source": [
    "# カラム毎のnanの合計\n"
   ]
  },
  {
   "cell_type": "markdown",
   "id": "36e2f4b4",
   "metadata": {},
   "source": [
    "<details>\n",
    "    <summary><font color='red'>解答はここをクリック</font></summary>\n",
    "    <code>df.isnull().sum()</code>\n",
    "</details>"
   ]
  },
  {
   "cell_type": "code",
   "execution_count": null,
   "id": "bd91e8dc",
   "metadata": {},
   "outputs": [],
   "source": [
    "# 全体のnanの合計\n"
   ]
  },
  {
   "cell_type": "markdown",
   "id": "0af51a8d",
   "metadata": {},
   "source": [
    "<details>\n",
    "    <summary><font color='red'>解答はここをクリック</font></summary>\n",
    "    <code>df.isnull().sum().sum()</code>\n",
    "</details>"
   ]
  },
  {
   "cell_type": "markdown",
   "id": "d119ea89",
   "metadata": {},
   "source": [
    "Exercise_15 : nanではないレコードの数をカラム毎に表示して下さい"
   ]
  },
  {
   "cell_type": "code",
   "execution_count": null,
   "id": "dea9e95c",
   "metadata": {
    "scrolled": true
   },
   "outputs": [],
   "source": [
    "df.count()"
   ]
  },
  {
   "cell_type": "markdown",
   "id": "73f73d91",
   "metadata": {},
   "source": [
    "<details>\n",
    "    <summary><font color='red'>解答はここをクリック</font></summary>\n",
    "    <code>df.count()</code>\n",
    "</details>"
   ]
  },
  {
   "cell_type": "markdown",
   "id": "15c2c0f0",
   "metadata": {},
   "source": [
    "Exercise_14 : nan を含むレコードのみを表示して下さい。　ヒント：「各レコード」に対して nan の合計を求め、それが 1 以上のものだけを抽出"
   ]
  },
  {
   "cell_type": "code",
   "execution_count": null,
   "id": "51d3aac1",
   "metadata": {
    "scrolled": true
   },
   "outputs": [],
   "source": [
    "# レコード毎のnanの合計\n"
   ]
  },
  {
   "cell_type": "markdown",
   "id": "37746cd2",
   "metadata": {},
   "source": [
    "<details>\n",
    "    <summary><font color='red'>解答はここをクリック</font></summary>\n",
    "    <code>df.isnull().sum(axis=1)</code>\n",
    "</details>"
   ]
  },
  {
   "cell_type": "code",
   "execution_count": null,
   "id": "d9c242b5",
   "metadata": {},
   "outputs": [],
   "source": [
    "# 上記の合計 >= 1 の条件で抽出\n",
    "# .style.highlight_null(null_color='red')を使ってください\n"
   ]
  },
  {
   "cell_type": "markdown",
   "id": "f84ed8fb",
   "metadata": {},
   "source": [
    "<details>\n",
    "    <summary><font color='red'>解答はここをクリック</font></summary>\n",
    "    <code>df[df.isnull().sum(axis=1) >= 1].style.highlight_null(null_color='red')</code>\n",
    "</details>"
   ]
  },
  {
   "cell_type": "markdown",
   "id": "415d5a1e",
   "metadata": {},
   "source": [
    "Exercise_16 : dfの数値のみのカラム毎の合計値を、異なる二つの手法で求めてください"
   ]
  },
  {
   "cell_type": "code",
   "execution_count": null,
   "id": "e0611a76",
   "metadata": {
    "scrolled": true
   },
   "outputs": [],
   "source": [
    "# 実行して表示\n",
    "df.sum()"
   ]
  },
  {
   "cell_type": "code",
   "execution_count": null,
   "id": "b7a3eb52",
   "metadata": {},
   "outputs": [],
   "source": [
    "# sumのキーワードアーギュメント（キーワード引数）を指定する方法\n"
   ]
  },
  {
   "cell_type": "markdown",
   "id": "ce921c76",
   "metadata": {},
   "source": [
    "<details>\n",
    "    <summary><font color='red'>解答はここをクリック</font></summary>\n",
    "    <code>df.sum(numeric_only=True)</code>\n",
    "</details>"
   ]
  },
  {
   "cell_type": "code",
   "execution_count": null,
   "id": "2da9e8cf",
   "metadata": {},
   "outputs": [],
   "source": [
    "# dtypeが数値のもののみを選択する方法\n"
   ]
  },
  {
   "cell_type": "markdown",
   "id": "5e54223b",
   "metadata": {},
   "source": [
    "<details>\n",
    "    <summary><font color='red'>解答はここをクリック</font></summary>\n",
    "    <code>df.select_dtypes(include=[int, float]).sum()</code>\n",
    "</details>"
   ]
  },
  {
   "cell_type": "markdown",
   "id": "049bd476",
   "metadata": {},
   "source": [
    "Exercise_17 : nan を視覚的に把握できるように seaborn の heatmap で df.isnull() を表示してください。  "
   ]
  },
  {
   "cell_type": "code",
   "execution_count": null,
   "id": "e94fd7c0",
   "metadata": {},
   "outputs": [],
   "source": [
    "# 実行して表示するだけ\n",
    "sns.heatmap(df.isnull())"
   ]
  },
  {
   "cell_type": "markdown",
   "id": "f47691e6",
   "metadata": {},
   "source": [
    "Exercise_18 : 今回作成した df を df_exercise.csv として現在のワーキングディレクトリに保存してください"
   ]
  },
  {
   "cell_type": "code",
   "execution_count": null,
   "id": "edfdb3da",
   "metadata": {},
   "outputs": [],
   "source": []
  },
  {
   "cell_type": "markdown",
   "id": "6603c5bd",
   "metadata": {},
   "source": [
    "<details>\n",
    "    <summary><font color='red'>解答はここをクリック</font></summary>\n",
    "    <code>df.to_csv('df_exercise.csv')</code>\n",
    "</details>"
   ]
  },
  {
   "cell_type": "markdown",
   "id": "8d0a5442",
   "metadata": {},
   "source": [
    "Exercise_19 : 下記の値を答えてください"
   ]
  },
  {
   "cell_type": "code",
   "execution_count": null,
   "id": "c867268e",
   "metadata": {},
   "outputs": [],
   "source": [
    "# 実行して表示\n",
    "np.random.seed(17)\n",
    "arr = np.arange(12).reshape(2, 2, 3)\n",
    "arr"
   ]
  },
  {
   "cell_type": "code",
   "execution_count": null,
   "id": "0c164835",
   "metadata": {},
   "outputs": [],
   "source": [
    "# 結果を考えてから、実行して確認\n",
    "print(arr.sum(axis=0))"
   ]
  },
  {
   "cell_type": "code",
   "execution_count": null,
   "id": "6f08f976",
   "metadata": {},
   "outputs": [],
   "source": [
    "# 結果を考えてから、実行して確認\n",
    "print(arr.sum(axis=1))"
   ]
  },
  {
   "cell_type": "code",
   "execution_count": null,
   "id": "e069bbcf",
   "metadata": {},
   "outputs": [],
   "source": [
    "# 結果を考えてから、実行して確認\n",
    "print(arr.mean(axis=2))"
   ]
  },
  {
   "cell_type": "markdown",
   "id": "d740947c",
   "metadata": {},
   "source": [
    "## 以上"
   ]
  }
 ],
 "metadata": {
  "kernelspec": {
   "display_name": "Python 3",
   "language": "python",
   "name": "python3"
  },
  "language_info": {
   "codemirror_mode": {
    "name": "ipython",
    "version": 3
   },
   "file_extension": ".py",
   "mimetype": "text/x-python",
   "name": "python",
   "nbconvert_exporter": "python",
   "pygments_lexer": "ipython3",
   "version": "3.7.10"
  }
 },
 "nbformat": 4,
 "nbformat_minor": 5
}
