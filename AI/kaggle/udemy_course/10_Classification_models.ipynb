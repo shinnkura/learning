{
 "cells": [
  {
   "cell_type": "markdown",
   "id": "23c6d4cc",
   "metadata": {},
   "source": [
    "<a id=0></a>\n",
    "# 10.Classification models\n",
    "※　分類の機械学習モデル"
   ]
  },
  {
   "cell_type": "markdown",
   "id": "cfd115fa",
   "metadata": {},
   "source": [
    "---\n",
    "### [1. 探索的データ分析（EDA）、スケーリング](#1)\n",
    "### [2. Random Forest Classifier](#2)\n",
    "### [3. KNeighbors Classifier](#3)\n",
    "### [4. SVC](#4)\n",
    "### [5. Logistic Regression](#5)\n",
    "### [6. モデルの評価](#6)\n",
    "---"
   ]
  },
  {
   "cell_type": "code",
   "execution_count": null,
   "id": "5f4b23d4",
   "metadata": {
    "scrolled": false
   },
   "outputs": [],
   "source": [
    "import numpy as np\n",
    "import pandas as pd\n",
    "import matplotlib.pyplot as plt\n",
    "import seaborn as sns\n",
    "\n",
    "sns.set_theme(context='talk', style='darkgrid', font='MS GOTHIC')"
   ]
  },
  {
   "cell_type": "markdown",
   "id": "0ae71473",
   "metadata": {},
   "source": [
    "---\n",
    "<a id=1></a>\n",
    "[Topへ](#0)\n",
    "\n",
    "---\n",
    "## 1. 探索的データ分析（EDA)、スケーリング"
   ]
  },
  {
   "cell_type": "markdown",
   "id": "a3fda616",
   "metadata": {},
   "source": [
    "* 乳がんデータセット\n",
    "* 相関関係\n",
    "* 分布、外れ値などの確認\n",
    "* スケーリング\n",
    "---"
   ]
  },
  {
   "cell_type": "markdown",
   "id": "2de31734",
   "metadata": {},
   "source": [
    "乳がんデータセット"
   ]
  },
  {
   "cell_type": "code",
   "execution_count": null,
   "id": "930eb93a",
   "metadata": {},
   "outputs": [],
   "source": [
    "from sklearn.datasets import load_breast_cancer"
   ]
  },
  {
   "cell_type": "code",
   "execution_count": null,
   "id": "d757c5bc",
   "metadata": {},
   "outputs": [],
   "source": [
    "breast_cancer = load_breast_cancer()"
   ]
  },
  {
   "cell_type": "code",
   "execution_count": null,
   "id": "464cf134",
   "metadata": {},
   "outputs": [],
   "source": [
    "df_X = pd.DataFrame(breast_cancer['data'], columns=breast_cancer['feature_names'])\n",
    "df_y = pd.DataFrame(breast_cancer['target'], columns=['target'])"
   ]
  },
  {
   "cell_type": "code",
   "execution_count": null,
   "id": "6791ad8e",
   "metadata": {},
   "outputs": [],
   "source": [
    "df = pd.concat([df_X, df_y], axis=1)\n",
    "df.head()"
   ]
  },
  {
   "cell_type": "code",
   "execution_count": null,
   "id": "bef8e2ca",
   "metadata": {},
   "outputs": [],
   "source": [
    "df.shape"
   ]
  },
  {
   "cell_type": "code",
   "execution_count": null,
   "id": "ef276980",
   "metadata": {},
   "outputs": [],
   "source": [
    "df['target'].unique()\n",
    "# 二値分類"
   ]
  },
  {
   "cell_type": "code",
   "execution_count": null,
   "id": "dfe73f11",
   "metadata": {
    "scrolled": false
   },
   "outputs": [],
   "source": [
    "print(breast_cancer['DESCR'])"
   ]
  },
  {
   "cell_type": "code",
   "execution_count": null,
   "id": "299d2180",
   "metadata": {},
   "outputs": [],
   "source": [
    "df.info()"
   ]
  },
  {
   "cell_type": "markdown",
   "id": "1ba05cec",
   "metadata": {},
   "source": [
    "相関関係"
   ]
  },
  {
   "cell_type": "code",
   "execution_count": null,
   "id": "b6766708",
   "metadata": {},
   "outputs": [],
   "source": [
    "plt.figure(figsize=(12, 8))\n",
    "sns.heatmap(df.corr(), square=True, vmin=-1, cmap='coolwarm')\n",
    "plt.show()\n",
    "# 似た構造が9つある"
   ]
  },
  {
   "cell_type": "code",
   "execution_count": null,
   "id": "e7bbdb43",
   "metadata": {},
   "outputs": [],
   "source": [
    "# targetとは負の相関。0が悪性\n",
    "df['target'].value_counts()"
   ]
  },
  {
   "cell_type": "code",
   "execution_count": null,
   "id": "a276c259",
   "metadata": {},
   "outputs": [],
   "source": [
    "# 特徴量名にmeanかtargetを含む、を使って対象のカラムだけを取り出す\n",
    "df.columns.str.contains('mean|target')"
   ]
  },
  {
   "cell_type": "code",
   "execution_count": null,
   "id": "4aaa1e7c",
   "metadata": {},
   "outputs": [],
   "source": [
    "plt.figure(figsize=(12, 8))\n",
    "sns.heatmap(df.loc[:, df.columns.str.contains('mean|target')].corr(), annot=True, annot_kws={'size':14}, square=True, vmin=-1, cmap='coolwarm')\n",
    "plt.show()"
   ]
  },
  {
   "cell_type": "code",
   "execution_count": null,
   "id": "06275979",
   "metadata": {},
   "outputs": [],
   "source": [
    "# 三種類を見比べてみる\n",
    "fig, axes = plt.subplots(1, 3, figsize=(14, 6), tight_layout=True)\n",
    "sns.heatmap(df.loc[:, df.columns.str.contains('mean|target')].corr(), xticklabels=False, yticklabels=False, cbar=False, square=True, vmin=-1, cmap='coolwarm', ax=axes[0])\n",
    "sns.heatmap(df.loc[:, df.columns.str.contains('error|target')].corr(), xticklabels=False, yticklabels=False, cbar=False, square=True, vmin=-1, cmap='coolwarm', ax=axes[1])\n",
    "sns.heatmap(df.loc[:, df.columns.str.contains('worst|target')].corr(), xticklabels=False, yticklabels=False, cbar=False, square=True, vmin=-1, cmap='coolwarm', ax=axes[2])\n",
    "plt.show()"
   ]
  },
  {
   "cell_type": "code",
   "execution_count": null,
   "id": "dc66955f",
   "metadata": {},
   "outputs": [],
   "source": [
    "# 全てが揃っている方が正確な分析ができるかもしれないが、今回はmeanだけを切り出して使用する\n",
    "df = df.loc[:, df.columns.str.contains('mean|target')]\n",
    "df.head()"
   ]
  },
  {
   "cell_type": "markdown",
   "id": "e0a1ca02",
   "metadata": {},
   "source": [
    "分布、外れ値などの確認"
   ]
  },
  {
   "cell_type": "code",
   "execution_count": null,
   "id": "2a248ecb",
   "metadata": {},
   "outputs": [],
   "source": [
    "def plot_data(feature):\n",
    "    fig, axes = plt.subplots(1, 3, figsize=(16, 6), tight_layout=True)\n",
    "    sns.histplot(data=df, y=feature, hue='target', ax=axes[0])   # y=featureとして向きをそろえる\n",
    "    sns.boxplot(data=df, x='target', y=feature, width=0.8, ax=axes[1])\n",
    "    sns.swarmplot(data=df, x='target', y=feature, alpha=0.8, size=3, ax=axes[2])\n",
    "    plt.suptitle(feature)\n",
    "    plt.show()"
   ]
  },
  {
   "cell_type": "code",
   "execution_count": null,
   "id": "f161ebb6",
   "metadata": {
    "scrolled": false
   },
   "outputs": [],
   "source": [
    "for feature in df.columns[:-1]:\n",
    "    plot_data(feature)"
   ]
  },
  {
   "cell_type": "markdown",
   "id": "fdb0759c",
   "metadata": {},
   "source": [
    "スケーリング"
   ]
  },
  {
   "cell_type": "code",
   "execution_count": null,
   "id": "097d5dd5",
   "metadata": {},
   "outputs": [],
   "source": [
    "from sklearn.model_selection import train_test_split"
   ]
  },
  {
   "cell_type": "code",
   "execution_count": null,
   "id": "2d061773",
   "metadata": {},
   "outputs": [],
   "source": [
    "# stratify:階層化、trainとtestの中でのｙのクラスの割合を一定にする\n",
    "X_train, X_test, y_train, y_test = train_test_split(df.iloc[:, :-1], df.iloc[:, -1], test_size=0.3, random_state=17, stratify=df.iloc[:, -1])"
   ]
  },
  {
   "cell_type": "code",
   "execution_count": null,
   "id": "143cac53",
   "metadata": {},
   "outputs": [],
   "source": [
    "from sklearn.preprocessing import StandardScaler\n",
    "scaler = StandardScaler()"
   ]
  },
  {
   "cell_type": "code",
   "execution_count": null,
   "id": "0fa7c7da",
   "metadata": {},
   "outputs": [],
   "source": [
    "scaler.fit(X_train)"
   ]
  },
  {
   "cell_type": "code",
   "execution_count": null,
   "id": "d88c8289",
   "metadata": {},
   "outputs": [],
   "source": [
    "X_train_scaled = scaler.transform(X_train)"
   ]
  },
  {
   "cell_type": "code",
   "execution_count": null,
   "id": "a9b93bca",
   "metadata": {},
   "outputs": [],
   "source": [
    "# testデータに対してもtrainデータで使ったスケーラーを用いる\n",
    "X_test_scaled = scaler.transform(X_test)"
   ]
  },
  {
   "cell_type": "code",
   "execution_count": null,
   "id": "1cdb8ed3",
   "metadata": {},
   "outputs": [],
   "source": [
    "# 1の割合を調べると、ほぼ同じ比率になっている(stratify)\n",
    "y_train.sum()/len(y_train), y_test.sum()/len(y_test)"
   ]
  },
  {
   "cell_type": "markdown",
   "id": "ae869e51",
   "metadata": {},
   "source": [
    "---\n",
    "<a id=2></a>\n",
    "[Topへ](#0)\n",
    "\n",
    "---\n",
    "## 2. RandomForestClassifier"
   ]
  },
  {
   "cell_type": "markdown",
   "id": "3331fd60",
   "metadata": {},
   "source": [
    "* モデルのインポート  \n",
    "    https://scikit-learn.org/stable/modules/generated/sklearn.ensemble.RandomForestClassifier.html\n",
    "* モデルインスタンスの作成\n",
    "* モデルの構築・属性・予測・スコア\n",
    "* 予想された確率\n",
    "* confusion matrix（混同行列）\n",
    "* precision（適合率）、 recall（再現率）、f1_score（F1値）\n",
    "---"
   ]
  },
  {
   "cell_type": "markdown",
   "id": "a472f63b",
   "metadata": {},
   "source": [
    "n_estimators=100, max_depth=None, min_samples_split=2, min_samples_leaf=1, max_features='sqrt', bootstrap=True, random_state=None, max_samples=None"
   ]
  },
  {
   "cell_type": "markdown",
   "id": "d84afab4",
   "metadata": {},
   "source": [
    "モデルのインポート"
   ]
  },
  {
   "cell_type": "code",
   "execution_count": null,
   "id": "1478a142",
   "metadata": {},
   "outputs": [],
   "source": [
    "from sklearn.ensemble import RandomForestClassifier"
   ]
  },
  {
   "cell_type": "markdown",
   "id": "6657a881",
   "metadata": {},
   "source": [
    "モデルインスタンスの作成"
   ]
  },
  {
   "cell_type": "code",
   "execution_count": null,
   "id": "53adaeb6",
   "metadata": {},
   "outputs": [],
   "source": [
    "rf_model = RandomForestClassifier(random_state=17)"
   ]
  },
  {
   "cell_type": "markdown",
   "id": "784953a3",
   "metadata": {},
   "source": [
    "モデルの構築・属性・予測・スコア"
   ]
  },
  {
   "cell_type": "code",
   "execution_count": null,
   "id": "4a007b32",
   "metadata": {},
   "outputs": [],
   "source": [
    "rf_model.fit(X_train_scaled, y_train)"
   ]
  },
  {
   "cell_type": "code",
   "execution_count": null,
   "id": "a02c3101",
   "metadata": {},
   "outputs": [],
   "source": [
    "rf_pred = rf_model.predict(X_test_scaled)"
   ]
  },
  {
   "cell_type": "code",
   "execution_count": null,
   "id": "278b6a6d",
   "metadata": {},
   "outputs": [],
   "source": [
    "rf_pred[:5]"
   ]
  },
  {
   "cell_type": "code",
   "execution_count": null,
   "id": "d40f93be",
   "metadata": {},
   "outputs": [],
   "source": [
    "# 分類モデルのスコアは正解の割合\n",
    "rf_model.score(X_test_scaled, y_test)"
   ]
  },
  {
   "cell_type": "code",
   "execution_count": null,
   "id": "3be37f24",
   "metadata": {},
   "outputs": [],
   "source": [
    "rf_model.score(X_train_scaled, y_train)"
   ]
  },
  {
   "cell_type": "markdown",
   "id": "de2b036c",
   "metadata": {},
   "source": [
    "予想された確率"
   ]
  },
  {
   "cell_type": "code",
   "execution_count": null,
   "id": "aa382adb",
   "metadata": {},
   "outputs": [],
   "source": [
    "# 0である確率、1である確率\n",
    "prob = rf_model.predict_proba(X_test_scaled)\n",
    "prob[:10]"
   ]
  },
  {
   "cell_type": "markdown",
   "id": "2359378e",
   "metadata": {},
   "source": [
    "confusion matrix（混同行列）"
   ]
  },
  {
   "cell_type": "code",
   "execution_count": null,
   "id": "ae789354",
   "metadata": {},
   "outputs": [],
   "source": [
    "from sklearn.metrics import confusion_matrix, classification_report, precision_score, recall_score, f1_score"
   ]
  },
  {
   "cell_type": "code",
   "execution_count": null,
   "id": "c6265874",
   "metadata": {},
   "outputs": [],
   "source": [
    "confusion_matrix(y_test, rf_pred)"
   ]
  },
  {
   "cell_type": "code",
   "execution_count": null,
   "id": "ea26e238",
   "metadata": {},
   "outputs": [],
   "source": [
    "sns.heatmap(confusion_matrix(y_test, rf_pred), annot=True)\n",
    "plt.xlabel('Predicted Label')\n",
    "plt.ylabel('True Label')\n",
    "plt.show()"
   ]
  },
  {
   "cell_type": "code",
   "execution_count": null,
   "id": "d6a68950",
   "metadata": {},
   "outputs": [],
   "source": [
    "162/171"
   ]
  },
  {
   "cell_type": "markdown",
   "id": "5d1c7ce6",
   "metadata": {},
   "source": [
    "precision（適合率）、 recall（再現率）、f1_score（F1値）"
   ]
  },
  {
   "cell_type": "code",
   "execution_count": null,
   "id": "c4fbf2e4",
   "metadata": {
    "scrolled": true
   },
   "outputs": [],
   "source": [
    "print(classification_report(y_test, rf_pred))"
   ]
  },
  {
   "cell_type": "code",
   "execution_count": null,
   "id": "ac1fb5cd",
   "metadata": {},
   "outputs": [],
   "source": [
    "60/65, 102/106, 60/64, 102/107"
   ]
  },
  {
   "cell_type": "code",
   "execution_count": null,
   "id": "48d67de0",
   "metadata": {},
   "outputs": [],
   "source": [
    "# 調和平均　1 / {(1/x + 1/y) / 2}\n",
    "# 2xy/(x + y)\n",
    "# 速度、濃度などのキーワードと共に検索し、具体例を確認してください"
   ]
  },
  {
   "cell_type": "code",
   "execution_count": null,
   "id": "d22991c7",
   "metadata": {},
   "outputs": [],
   "source": [
    "# 適合率、ポジティブの予想がどれだけ合っているか  TP / (TP + FP)\n",
    "pre = precision_score(y_test, rf_pred)   # 'macro', 'weighted', None\n",
    "pre"
   ]
  },
  {
   "cell_type": "code",
   "execution_count": null,
   "id": "cb3b18fb",
   "metadata": {},
   "outputs": [],
   "source": [
    "# 再現率、実際と予想がどれだけ合っているか　TP / (TP + FN)\n",
    "rec = recall_score(y_test, rf_pred)\n",
    "rec"
   ]
  },
  {
   "cell_type": "code",
   "execution_count": null,
   "id": "86823c01",
   "metadata": {},
   "outputs": [],
   "source": [
    "f1_score(y_test, rf_pred)"
   ]
  },
  {
   "cell_type": "code",
   "execution_count": null,
   "id": "229e6908",
   "metadata": {},
   "outputs": [],
   "source": [
    "2 * pre * rec / (pre + rec)"
   ]
  },
  {
   "cell_type": "code",
   "execution_count": null,
   "id": "f3378a61",
   "metadata": {},
   "outputs": [],
   "source": [
    "# スケーリングしていない場合\n",
    "rf_model_new = RandomForestClassifier(random_state=17)\n",
    "rf_model_new.fit(X_train, y_train)\n",
    "rf_pred_new = rf_model_new.predict(X_test)\n",
    "print(classification_report(y_test, rf_pred_new))\n",
    "# あるひとつの特徴量の値で分岐させていくため、特徴量間のスケールの差はほとんど影響しない"
   ]
  },
  {
   "cell_type": "markdown",
   "id": "6cd39348",
   "metadata": {},
   "source": [
    "---\n",
    "<a id=3></a>\n",
    "[Topへ](#0)\n",
    "\n",
    "---\n",
    "## 3. KNeighbors Classifier"
   ]
  },
  {
   "cell_type": "markdown",
   "id": "7a328899",
   "metadata": {},
   "source": [
    "* モデルのインポート  \n",
    "    https://scikit-learn.org/stable/modules/generated/sklearn.neighbors.KNeighborsClassifier.html\n",
    "* モデルインスタンスの作成\n",
    "* モデルの構築・予測・スコア\n",
    "* confusion matrix（混同行列）\n",
    "---"
   ]
  },
  {
   "cell_type": "markdown",
   "id": "44365a30",
   "metadata": {},
   "source": [
    "n_neighbors=5, weights='uniform'"
   ]
  },
  {
   "cell_type": "markdown",
   "id": "3c789781",
   "metadata": {},
   "source": [
    "モデルのインポート"
   ]
  },
  {
   "cell_type": "code",
   "execution_count": null,
   "id": "2eadd17b",
   "metadata": {},
   "outputs": [],
   "source": [
    "from sklearn.neighbors import KNeighborsClassifier"
   ]
  },
  {
   "cell_type": "markdown",
   "id": "82342b9a",
   "metadata": {},
   "source": [
    "モデルインスタンスの作成"
   ]
  },
  {
   "cell_type": "code",
   "execution_count": null,
   "id": "fcf5e260",
   "metadata": {},
   "outputs": [],
   "source": [
    "kn_model = KNeighborsClassifier(n_neighbors=5, weights='uniform')"
   ]
  },
  {
   "cell_type": "markdown",
   "id": "0d49e214",
   "metadata": {},
   "source": [
    "モデルの構築・予測・スコア"
   ]
  },
  {
   "cell_type": "code",
   "execution_count": null,
   "id": "80dc0dcd",
   "metadata": {},
   "outputs": [],
   "source": [
    "kn_model.fit(X_train_scaled, y_train)"
   ]
  },
  {
   "cell_type": "code",
   "execution_count": null,
   "id": "31bd3788",
   "metadata": {},
   "outputs": [],
   "source": [
    "kn_pred = kn_model.predict(X_test_scaled)\n",
    "kn_pred[:10]"
   ]
  },
  {
   "cell_type": "code",
   "execution_count": null,
   "id": "0b18e8af",
   "metadata": {},
   "outputs": [],
   "source": [
    "kn_model.score(X_test_scaled, y_test)"
   ]
  },
  {
   "cell_type": "code",
   "execution_count": null,
   "id": "381f6519",
   "metadata": {},
   "outputs": [],
   "source": [
    "kn_model.score(X_train_scaled, y_train)"
   ]
  },
  {
   "cell_type": "markdown",
   "id": "bc1aca35",
   "metadata": {},
   "source": [
    "confusion matrix（混同行列）"
   ]
  },
  {
   "cell_type": "code",
   "execution_count": null,
   "id": "09c19539",
   "metadata": {},
   "outputs": [],
   "source": [
    "sns.heatmap(confusion_matrix(y_test, kn_pred), annot=True)\n",
    "plt.xlabel('Predicted Label')\n",
    "plt.ylabel('True, Label')\n",
    "plt.show()"
   ]
  },
  {
   "cell_type": "code",
   "execution_count": null,
   "id": "e5574dd5",
   "metadata": {},
   "outputs": [],
   "source": [
    "print(classification_report(y_test, kn_pred))"
   ]
  },
  {
   "cell_type": "code",
   "execution_count": null,
   "id": "74090e1a",
   "metadata": {},
   "outputs": [],
   "source": [
    "# スケーリングしていない場合\n",
    "kn_model_new = KNeighborsClassifier()\n",
    "kn_model_new.fit(X_train, y_train)\n",
    "kn_pred_new = kn_model_new.predict(X_test)\n",
    "print(classification_report(y_test, kn_pred_new))\n",
    "# 座標の距離が重要な材料になるため、スケーリングをしていない場合は影響を受ける"
   ]
  },
  {
   "cell_type": "markdown",
   "id": "a6fddcf0",
   "metadata": {},
   "source": [
    "---\n",
    "<a id=4></a>\n",
    "[Topへ](#0)\n",
    "\n",
    "---\n",
    "## 4. SVC"
   ]
  },
  {
   "cell_type": "markdown",
   "id": "944c7364",
   "metadata": {},
   "source": [
    "* モデルのインポート  \n",
    "    https://scikit-learn.org/stable/modules/generated/sklearn.svm.SVC.html\n",
    "* モデルインスタンスの作成\n",
    "* モデルの構築・予測・スコア\n",
    "* confusion matrix（混同行列）\n",
    "---"
   ]
  },
  {
   "cell_type": "markdown",
   "id": "2db32fcf",
   "metadata": {},
   "source": [
    "C=1.0, gamma='scale', random_state=None"
   ]
  },
  {
   "cell_type": "markdown",
   "id": "2ebf4d03",
   "metadata": {},
   "source": [
    "モデルのインポート"
   ]
  },
  {
   "cell_type": "code",
   "execution_count": null,
   "id": "e1f360b6",
   "metadata": {},
   "outputs": [],
   "source": [
    "from sklearn.svm import SVC"
   ]
  },
  {
   "cell_type": "markdown",
   "id": "30905494",
   "metadata": {},
   "source": [
    "モデルインスタンスの作成"
   ]
  },
  {
   "cell_type": "code",
   "execution_count": null,
   "id": "58e1d94b",
   "metadata": {},
   "outputs": [],
   "source": [
    "svc_model = SVC(random_state=17)\n",
    "# 正則化（過学習などを防ぐため罰則を付けて調整する）を用いることもできる"
   ]
  },
  {
   "cell_type": "markdown",
   "id": "4997c3a8",
   "metadata": {},
   "source": [
    "モデルの構築・予測・スコア"
   ]
  },
  {
   "cell_type": "code",
   "execution_count": null,
   "id": "ec9a2e94",
   "metadata": {},
   "outputs": [],
   "source": [
    "svc_model.fit(X_train_scaled, y_train)"
   ]
  },
  {
   "cell_type": "code",
   "execution_count": null,
   "id": "3f103c7a",
   "metadata": {},
   "outputs": [],
   "source": [
    "svc_pred = svc_model.predict(X_test_scaled)\n",
    "svc_pred[:10]"
   ]
  },
  {
   "cell_type": "code",
   "execution_count": null,
   "id": "3dea3f71",
   "metadata": {},
   "outputs": [],
   "source": [
    "svc_model.score(X_test_scaled, y_test)"
   ]
  },
  {
   "cell_type": "code",
   "execution_count": null,
   "id": "db55eec9",
   "metadata": {},
   "outputs": [],
   "source": [
    "svc_model.score(X_train_scaled, y_train)"
   ]
  },
  {
   "cell_type": "markdown",
   "id": "2ec7a911",
   "metadata": {},
   "source": [
    "confusion matrix（混同行列）"
   ]
  },
  {
   "cell_type": "code",
   "execution_count": null,
   "id": "907c3c27",
   "metadata": {},
   "outputs": [],
   "source": [
    "sns.heatmap(confusion_matrix(y_test, svc_pred), annot=True)\n",
    "plt.xlabel('Predicted Label')\n",
    "plt.ylabel('True Label')\n",
    "plt.show()"
   ]
  },
  {
   "cell_type": "code",
   "execution_count": null,
   "id": "93e4a880",
   "metadata": {},
   "outputs": [],
   "source": [
    "print(classification_report(y_test, svc_pred))"
   ]
  },
  {
   "cell_type": "code",
   "execution_count": null,
   "id": "df46b40e",
   "metadata": {},
   "outputs": [],
   "source": [
    "# スケーリングしていない場合\n",
    "svc_model_new = SVC()\n",
    "svc_model_new.fit(X_train, y_train)\n",
    "svc_pred_new = svc_model_new.predict(X_test)\n",
    "print(classification_report(y_test, svc_pred_new))\n",
    "# このモデルでも空間、領域を使うためスコアが下がっている"
   ]
  },
  {
   "cell_type": "markdown",
   "id": "cff153af",
   "metadata": {},
   "source": [
    "---\n",
    "<a id=5></a>\n",
    "[Topへ](#0)\n",
    "\n",
    "---\n",
    "## 5. Logistic Regression"
   ]
  },
  {
   "cell_type": "markdown",
   "id": "75b9359b",
   "metadata": {},
   "source": [
    "* モデルのインポート  \n",
    "    https://scikit-learn.org/stable/modules/generated/sklearn.linear_model.LogisticRegression.html\n",
    "* モデルインスタンスの作成\n",
    "* モデルの構築・予測・スコア\n",
    "* confusion matrix（混同行列）\n",
    "---"
   ]
  },
  {
   "cell_type": "markdown",
   "id": "1fa40131",
   "metadata": {},
   "source": [
    "C=1.0, random_state=None, max_iter=100"
   ]
  },
  {
   "cell_type": "markdown",
   "id": "26af2d5e",
   "metadata": {},
   "source": [
    "モデルのインポート"
   ]
  },
  {
   "cell_type": "code",
   "execution_count": null,
   "id": "acff95e2",
   "metadata": {},
   "outputs": [],
   "source": [
    "from sklearn.linear_model import LogisticRegression"
   ]
  },
  {
   "cell_type": "markdown",
   "id": "28bca1fb",
   "metadata": {},
   "source": [
    "モデルインスタンスの作成"
   ]
  },
  {
   "cell_type": "code",
   "execution_count": null,
   "id": "f7bfa503",
   "metadata": {},
   "outputs": [],
   "source": [
    "log_model = LogisticRegression(random_state=17)   # max_iter=150"
   ]
  },
  {
   "cell_type": "markdown",
   "id": "f9ee701a",
   "metadata": {},
   "source": [
    "モデルの構築・予測・スコア"
   ]
  },
  {
   "cell_type": "code",
   "execution_count": null,
   "id": "3e1b276f",
   "metadata": {},
   "outputs": [],
   "source": [
    "log_model.fit(X_train_scaled, y_train)"
   ]
  },
  {
   "cell_type": "code",
   "execution_count": null,
   "id": "5592801b",
   "metadata": {},
   "outputs": [],
   "source": [
    "log_pred = log_model.predict(X_test_scaled)\n",
    "log_pred[:10]"
   ]
  },
  {
   "cell_type": "code",
   "execution_count": null,
   "id": "c8fbd212",
   "metadata": {},
   "outputs": [],
   "source": [
    "log_model.score(X_test_scaled, y_test)"
   ]
  },
  {
   "cell_type": "code",
   "execution_count": null,
   "id": "161f5043",
   "metadata": {},
   "outputs": [],
   "source": [
    "log_model.score(X_train_scaled, y_train)"
   ]
  },
  {
   "cell_type": "markdown",
   "id": "52735a97",
   "metadata": {},
   "source": [
    "confusion matrix（混同行列）"
   ]
  },
  {
   "cell_type": "code",
   "execution_count": null,
   "id": "acab659d",
   "metadata": {},
   "outputs": [],
   "source": [
    "sns.heatmap(confusion_matrix(y_test, log_pred), annot=True)\n",
    "plt.xlabel('Predicted Label')\n",
    "plt.ylabel('True Label')\n",
    "plt.show()"
   ]
  },
  {
   "cell_type": "code",
   "execution_count": null,
   "id": "b232eae6",
   "metadata": {},
   "outputs": [],
   "source": [
    "print(classification_report(y_test, log_pred))"
   ]
  },
  {
   "cell_type": "code",
   "execution_count": null,
   "id": "f25ae90f",
   "metadata": {},
   "outputs": [],
   "source": [
    "log_model_new = LogisticRegression(max_iter=150, random_state=17)\n",
    "log_model_new.fit(X_train, y_train)\n",
    "log_pred_new = log_model_new.predict(X_test)\n",
    "print(classification_report(y_test, log_pred_new))\n",
    "# スケーリングはほぼ影響を与えない。スケーリングしない方がわずかに結果がよくなっている"
   ]
  },
  {
   "cell_type": "markdown",
   "id": "41021b9a",
   "metadata": {},
   "source": [
    "---\n",
    "<a id=6></a>\n",
    "[Topへ](#0)\n",
    "\n",
    "---\n",
    "## 6. モデルの評価"
   ]
  },
  {
   "cell_type": "markdown",
   "id": "dabc1334",
   "metadata": {},
   "source": [
    "* precision_recall_curve  \n",
    "    https://scikit-learn.org/stable/modules/generated/sklearn.metrics.precision_recall_curve.html  \n",
    "* f1_score, precision, recall\n",
    "* roc_curve  \n",
    "    https://scikit-learn.org/stable/modules/generated/sklearn.metrics.roc_curve.html  \n",
    "    https://scikit-learn.org/stable/modules/generated/sklearn.metrics.plot_roc_curve.htm  \n",
    "---"
   ]
  },
  {
   "cell_type": "markdown",
   "id": "0b44564b",
   "metadata": {},
   "source": [
    "precision_recall_curve"
   ]
  },
  {
   "cell_type": "code",
   "execution_count": null,
   "id": "772c47ee",
   "metadata": {},
   "outputs": [],
   "source": [
    "# モデルとしてSVCを用いる\n",
    "model = SVC(probability=True, random_state=17)   # SVCで確率を取得したい場合はprobability=Trueを設定する。ここではrandom_stateも設定しています\n",
    "model.fit(X_train, y_train)\n",
    "pred = model.predict(X_test)\n",
    "print(classification_report(y_test, pred))"
   ]
  },
  {
   "cell_type": "code",
   "execution_count": null,
   "id": "779f1315",
   "metadata": {},
   "outputs": [],
   "source": [
    "prob = model.predict_proba(X_test)\n",
    "prob[:10]\n",
    "# 右が1、陽性である確率"
   ]
  },
  {
   "cell_type": "code",
   "execution_count": null,
   "id": "43f8e3c7",
   "metadata": {},
   "outputs": [],
   "source": [
    "# このセルの内容は寄せられた質問に対して検討した際に書き残したものです\n",
    "# 動画内では触れておりません\n",
    "\n",
    "# df_prob = pd.DataFrame(prob)\n",
    "# df_pred = pd.DataFrame(pred)\n",
    "# df_pp = pd.concat([df_prob, df_pred], axis=1)\n",
    "# df_pp.columns=[\"neg\", \"pos\", \"label\"]\n",
    "# df_pp[(df_pp[\"label\"] == 1) & (df_pp[\"pos\"] <= 0.5)]\n",
    "# print(f\"positive 'pos' probability minimum: {df_pp[df_pp['label'] == 1]['pos'].min()}\")   # positive予想の\"pos\"の最低値\n",
    "# print(f\"negative 'pos' probability maximum: {df_pp[df_pp['label'] == 0]['pos'].max()}\")   # negative予想の\"pos\"の最大値\n",
    "\n",
    "# # 結果からこのモデルが持つ閾値は0.415あたりに設定されているよう"
   ]
  },
  {
   "cell_type": "code",
   "execution_count": null,
   "id": "fc2cb3b7",
   "metadata": {},
   "outputs": [],
   "source": [
    "from sklearn.metrics import precision_recall_curve"
   ]
  },
  {
   "cell_type": "code",
   "execution_count": null,
   "id": "a6bf9e7c",
   "metadata": {},
   "outputs": [],
   "source": [
    "# precision_recall_curve(y_test, prob[:, 1])"
   ]
  },
  {
   "cell_type": "code",
   "execution_count": null,
   "id": "5be4a8bf",
   "metadata": {},
   "outputs": [],
   "source": [
    "precision, recall, threshold = precision_recall_curve(y_test, prob[:, 1])\n",
    "# 陽性の確率を元に考えていく"
   ]
  },
  {
   "cell_type": "code",
   "execution_count": null,
   "id": "1d609ef8",
   "metadata": {},
   "outputs": [],
   "source": [
    "plt.figure(figsize=(8, 5))\n",
    "sns.lineplot(x=recall, y=precision)\n",
    "plt.xlabel('Recall')\n",
    "plt.ylabel('Precision')\n",
    "plt.show()"
   ]
  },
  {
   "cell_type": "code",
   "execution_count": null,
   "id": "14bcc6a8",
   "metadata": {},
   "outputs": [],
   "source": [
    "# 適合率、ポジティブの予想がどれだけ合っているか  TP / (TP + FP)\n",
    "# 再現率、実際と予想がどれだけ合っているか　TP / (TP + FN)\n",
    "\n",
    "# 閾値が1に近い => ほぼすべてネガティブに分類される。FP=0、precisionは1になる。TP自体も0個になるとすればRecallは0に近づく。\n",
    "# 閾値が0に近い => ほぼすべてポジティブに分類される。FN=0、recallは1になる。precisionはTP÷全サンプル数の値に近づく（今回は0.63程度）。ただし、閾値の最低は０ではないため上記の値で留まっている"
   ]
  },
  {
   "cell_type": "markdown",
   "id": "7cdd2346",
   "metadata": {},
   "source": [
    "f1_score, precision, recall"
   ]
  },
  {
   "cell_type": "code",
   "execution_count": null,
   "id": "f52170f5",
   "metadata": {},
   "outputs": [],
   "source": [
    "# precision, recallからf1スコアを計算\n",
    "f1_scores = []\n",
    "for p, r in zip(precision, recall):\n",
    "    score = 2 * p * r /(p + r)\n",
    "    f1_scores.append(score)\n",
    "f1_scores[:5]"
   ]
  },
  {
   "cell_type": "code",
   "execution_count": null,
   "id": "b5a61c08",
   "metadata": {},
   "outputs": [],
   "source": [
    "# precision, recall, threshold = precision_recall_curve(y_test, prob[:, 1])で取得した要素数が異なることに注意\n",
    "len(threshold), len(f1_scores)"
   ]
  },
  {
   "cell_type": "code",
   "execution_count": null,
   "id": "2e8bb77b",
   "metadata": {
    "scrolled": true
   },
   "outputs": [],
   "source": [
    "plt.figure(figsize=(9, 6))\n",
    "sns.lineplot(x=threshold, y=f1_scores[:-1], label='f1_score')   # 最終インデックスの手前までにする\n",
    "sns.lineplot(x=threshold, y=precision[:-1], label='precision')\n",
    "sns.lineplot(x=threshold, y=recall[:-1], label='recall')\n",
    "plt.xlabel('threshold')\n",
    "plt.legend()\n",
    "plt.show()"
   ]
  },
  {
   "cell_type": "code",
   "execution_count": null,
   "id": "95868cc4",
   "metadata": {},
   "outputs": [],
   "source": [
    "np.max(f1_scores)"
   ]
  },
  {
   "cell_type": "code",
   "execution_count": null,
   "id": "69f95b0e",
   "metadata": {},
   "outputs": [],
   "source": [
    "# 最大値のインデックスを取得\n",
    "np.argmax(f1_scores)"
   ]
  },
  {
   "cell_type": "code",
   "execution_count": null,
   "id": "9b8d20d3",
   "metadata": {},
   "outputs": [],
   "source": [
    "# f1スコアが最大となる時のprecision, recall, threshold\n",
    "precision[63], recall[63], threshold[63]"
   ]
  },
  {
   "cell_type": "code",
   "execution_count": null,
   "id": "d308583f",
   "metadata": {},
   "outputs": [],
   "source": [
    "# np.whereを用いて改めて0,1の予測アレイを作成\n",
    "pred_new = np.where(prob[:, 1] >= threshold[63], 1, 0)   # threshold=threshold[17]の時にf1スコアが最大になる"
   ]
  },
  {
   "cell_type": "code",
   "execution_count": null,
   "id": "b624f3ce",
   "metadata": {},
   "outputs": [],
   "source": [
    "f1_score(y_test, pred_new)"
   ]
  },
  {
   "cell_type": "markdown",
   "id": "2a70027c",
   "metadata": {},
   "source": [
    "roc_curve"
   ]
  },
  {
   "cell_type": "code",
   "execution_count": null,
   "id": "b8c791c3",
   "metadata": {},
   "outputs": [],
   "source": [
    "from sklearn.metrics import plot_roc_curve, auc, roc_curve\n",
    "# 'plot_roc_curve'のImportErrorが発生した場合は、'plot_roc_curve'を除いてインポートを行ってください"
   ]
  },
  {
   "cell_type": "code",
   "execution_count": null,
   "id": "012d373d",
   "metadata": {
    "scrolled": false
   },
   "outputs": [],
   "source": [
    "# 'plot_roc_curve'のImportErrorが発生した場合は、このセルをコメントアウトして無視して進めてください\n",
    "\n",
    "# plot_roc_curveでfpr, tprの変化をプロットする\n",
    "fig, axes = plt.subplots(figsize=(8, 6), tight_layout=True)\n",
    "plot_roc_curve(model, X_test, y_test, marker='o', markersize=5, ax=axes)\n",
    "axes.set_xlabel('False Positive Rate')\n",
    "axes.set_ylabel('True Positive Rate')\n",
    "sns.lineplot(x=[0, 1], y=[0, 1], color='red', linestyle='--', ax=axes)\n",
    "plt.show()"
   ]
  },
  {
   "cell_type": "code",
   "execution_count": null,
   "id": "250ee8fd",
   "metadata": {},
   "outputs": [],
   "source": [
    "# sklearnのバージョンが1.2以上の場合、plot_roc_curveが使用できません。\n",
    "# このセルのコードはその際に上記のplot_roc_curveを代替するものです\n",
    "\n",
    "# from sklearn.metrics import RocCurveDisplay\n",
    "\n",
    "# fig, axes = plt.subplots(figsize=(8, 6))\n",
    "\n",
    "# display = RocCurveDisplay(fpr=fpr, tpr=tpr, roc_auc=auc(fpr, tpr))\n",
    "# display.plot(marker='o', markersize=5, ax=axes)\n",
    "\n",
    "# axes.set_xlabel('False Positive Rate')\n",
    "# axes.set_ylabel('True Positive Rate')\n",
    "# sns.lineplot(x=[0, 1], y=[0, 1], color='red', linestyle='--', ax=axes)\n",
    "\n",
    "# plt.show()\n"
   ]
  },
  {
   "cell_type": "code",
   "execution_count": null,
   "id": "d7b75075",
   "metadata": {},
   "outputs": [],
   "source": [
    "# fpr = fp / (tn + fp)　真にネガティブであるものの中で、ネガティブと予測されたものの割合\n",
    "# tpr = tp / (tp + fn)　真にポジティブであるものの中で、ポジティブと予測されたものの割合"
   ]
  },
  {
   "cell_type": "code",
   "execution_count": null,
   "id": "989b60ad",
   "metadata": {},
   "outputs": [],
   "source": [
    "# roc_curveを用いてfpr, tpr, thresholdの値を求める\n",
    "fpr, tpr, threshold = roc_curve(y_test, prob[:, 1])"
   ]
  },
  {
   "cell_type": "code",
   "execution_count": null,
   "id": "c9b2502d",
   "metadata": {},
   "outputs": [],
   "source": [
    "# aucの算出\n",
    "auc(fpr, tpr)"
   ]
  },
  {
   "cell_type": "code",
   "execution_count": null,
   "id": "b300c415",
   "metadata": {},
   "outputs": [],
   "source": [
    "# (1, 0)からの距離が最大になるfpr,tprの組を求める\n",
    "np.max((fpr - 1)**2 + tpr**2)"
   ]
  },
  {
   "cell_type": "code",
   "execution_count": null,
   "id": "79046758",
   "metadata": {},
   "outputs": [],
   "source": [
    "# そのインデックスを求める\n",
    "np.argmax((fpr - 1)**2 + tpr**2)"
   ]
  },
  {
   "cell_type": "code",
   "execution_count": null,
   "id": "a1122315",
   "metadata": {},
   "outputs": [],
   "source": [
    "# そのthresholdを求める\n",
    "threshold[16]"
   ]
  },
  {
   "cell_type": "code",
   "execution_count": null,
   "id": "33206957",
   "metadata": {},
   "outputs": [],
   "source": [
    "# ROCカーブ理解のためのプロットを作っていく\n",
    "np.random.seed(17)\n",
    "pos = np.random.randn(1000) + 1.5\n",
    "neg = np.random.randn(1000) - 1.5\n",
    "neg2 = np.random.randn(1000) - 7\n",
    "neg3 = np.random.randn(900) + 1.5"
   ]
  },
  {
   "cell_type": "code",
   "execution_count": null,
   "id": "e5a0ab59",
   "metadata": {
    "scrolled": true
   },
   "outputs": [],
   "source": [
    "# あるモデルによりポジティブである確率を求めた\n",
    "# 中央付近では確率が高くても実際にはネガティブ、低くてもポジティブなものが混在する\n",
    "plt.figure(figsize=(10, 4))\n",
    "sns.histplot(pos, color='#0c0', alpha=0.5, label='positive')\n",
    "sns.histplot(neg, color='#00c', alpha=0.5, label='negative')\n",
    "plt.legend()\n",
    "plt.xticks([-5.2, 5], [0, 1])\n",
    "plt.yticks([], [])\n",
    "plt.xlabel('positive probability')\n",
    "plt.show()\n",
    "# 閾値を中央付近にあると、バーの重なる部分が FP, FN になる"
   ]
  },
  {
   "cell_type": "code",
   "execution_count": null,
   "id": "16673674",
   "metadata": {},
   "outputs": [],
   "source": [
    "# このモデルでは100％の精度で分離することができている\n",
    "plt.figure(figsize=(10, 4))\n",
    "sns.histplot(pos, color='#0c0', alpha=0.5, label='positive')\n",
    "sns.histplot(neg2, color='#00c', alpha=0.5, label='negative')\n",
    "plt.legend()\n",
    "plt.xticks([-10.5, 5], [0, 1])\n",
    "plt.yticks([], [])\n",
    "plt.xlabel('positive probability')\n",
    "plt.show()\n",
    "# ある閾値でははっきりと0：1に分かれる"
   ]
  },
  {
   "cell_type": "code",
   "execution_count": null,
   "id": "cb199bfe",
   "metadata": {
    "scrolled": true
   },
   "outputs": [],
   "source": [
    "## ランダム（無作為）な確率をそれぞれに与える場合、どの確率においてもポジティブ、ネガティブの割合は一定\n",
    "plt.figure(figsize=(10, 4))\n",
    "sns.histplot(pos, color='#0c0', alpha=0.5, label='positive')\n",
    "sns.histplot(neg3, color='#00c', alpha=0.5, label='negative')\n",
    "plt.legend()\n",
    "plt.xticks([-2, 5], [0, 1])\n",
    "plt.yticks([], [])\n",
    "plt.xlabel('positive probability')\n",
    "plt.show()\n",
    "# 閾値を下げていくとTPRが上がり、同じ割合でFPRも上がっていく\n",
    "# 結果として直線になると考えることができる"
   ]
  },
  {
   "cell_type": "markdown",
   "id": "f0d952ab",
   "metadata": {},
   "source": [
    "---\n",
    " <a id=4></a>\n",
    "[Topへ](#0)\n",
    "\n",
    "---\n",
    "## 以上\n",
    "    \n",
    "---"
   ]
  },
  {
   "cell_type": "markdown",
   "id": "c372e254",
   "metadata": {},
   "source": []
  }
 ],
 "metadata": {
  "kernelspec": {
   "display_name": "Python 3",
   "language": "python",
   "name": "python3"
  },
  "language_info": {
   "codemirror_mode": {
    "name": "ipython",
    "version": 3
   },
   "file_extension": ".py",
   "mimetype": "text/x-python",
   "name": "python",
   "nbconvert_exporter": "python",
   "pygments_lexer": "ipython3",
   "version": "3.10.11"
  }
 },
 "nbformat": 4,
 "nbformat_minor": 5
}
