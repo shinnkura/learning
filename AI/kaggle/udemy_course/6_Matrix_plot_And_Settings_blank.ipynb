{
 "cells": [
  {
   "cell_type": "markdown",
   "id": "23c6d4cc",
   "metadata": {},
   "source": [
    "<a id=0></a>\n",
    "# 6.Matrix Plot & Display Settings"
   ]
  },
  {
   "cell_type": "markdown",
   "id": "cfd115fa",
   "metadata": {},
   "source": [
    "---\n",
    "### [1.SearbornのデータセットからDataFrameを作成 ](#1)\n",
    "### [2.Numpyのwhere(), select()を用いたレコード抽出と置換](#2)\n",
    "### [3.Matrix Plot ](#3)\n",
    "### [4.パイチャートと画像の保存](#4)\n",
    "### [5.グラフの表示調整](#5)\n",
    "---"
   ]
  },
  {
   "cell_type": "code",
   "execution_count": null,
   "id": "5f4b23d4",
   "metadata": {
    "scrolled": false
   },
   "outputs": [],
   "source": [
    "import numpy as np\n",
    "import pandas as pd\n",
    "import matplotlib.pyplot as plt\n",
    "import seaborn as sns"
   ]
  },
  {
   "cell_type": "markdown",
   "id": "cff153af",
   "metadata": {},
   "source": [
    "---\n",
    "<a id=1></a>\n",
    "[Topへ](#0)\n",
    "\n",
    "---\n",
    "## 1. SearbornのデータセットからDataFrameを作成"
   ]
  },
  {
   "cell_type": "markdown",
   "id": "75b9359b",
   "metadata": {},
   "source": [
    "* データセット('iris')を読み込む\n",
    "* PandasのCategory型\n",
    "---"
   ]
  },
  {
   "cell_type": "markdown",
   "id": "68f0ca02",
   "metadata": {},
   "source": [
    "データセット('iris')を読み込む"
   ]
  },
  {
   "cell_type": "code",
   "execution_count": null,
   "id": "56fc06f4",
   "metadata": {
    "scrolled": true
   },
   "outputs": [],
   "source": [
    "# sns.get_dataset_names()"
   ]
  },
  {
   "cell_type": "code",
   "execution_count": null,
   "id": "edd3d17a",
   "metadata": {
    "scrolled": true
   },
   "outputs": [],
   "source": []
  },
  {
   "cell_type": "markdown",
   "id": "404e5d76",
   "metadata": {},
   "source": [
    "<p>\n",
    "    <a href=\"https://www.kaggle.com/datasets/uciml/iris\" target=\"_blank\" rel=\"noreferrer noopener\">\n",
    "        Kaggle Dataset Iris のページへ\n",
    "    </a>\n",
    "</p>\n",
    "\n",
    "    sepal     : がく片\n",
    "    petal     : 花弁"
   ]
  },
  {
   "cell_type": "markdown",
   "id": "7f82b52d",
   "metadata": {},
   "source": [
    "PandasのCategory型"
   ]
  },
  {
   "cell_type": "code",
   "execution_count": null,
   "id": "0dfaebbb",
   "metadata": {},
   "outputs": [],
   "source": []
  },
  {
   "cell_type": "markdown",
   "id": "182a8f17",
   "metadata": {},
   "source": [
    "---\n",
    "<a id=2></a>\n",
    "[Topへ](#0)\n",
    "\n",
    "---\n",
    "## 2. Numpyのwhere(), select()を用いたレコード抽出と置換"
   ]
  },
  {
   "cell_type": "markdown",
   "id": "86c3e78e",
   "metadata": {},
   "source": [
    "* np.where(condition, True-value, False-value)\n",
    "* np.select(conditions, values)  \n",
    "---"
   ]
  },
  {
   "cell_type": "markdown",
   "id": "dbd6c539",
   "metadata": {},
   "source": [
    "np.where(condition, True-value, False-value)"
   ]
  },
  {
   "cell_type": "code",
   "execution_count": null,
   "id": "fbb9d0e2",
   "metadata": {},
   "outputs": [],
   "source": []
  },
  {
   "cell_type": "markdown",
   "id": "34d7f953",
   "metadata": {},
   "source": [
    "np.select(conditions, values)"
   ]
  },
  {
   "cell_type": "code",
   "execution_count": null,
   "id": "9691c0fa",
   "metadata": {},
   "outputs": [],
   "source": []
  },
  {
   "cell_type": "code",
   "execution_count": null,
   "id": "674db6d8",
   "metadata": {},
   "outputs": [],
   "source": [
    "# 後のプロットで使うため、ランダムな分類を設定しておく\n",
    "np.random.seed(17)\n",
    "arr = ['red', 'green', 'blue']\n",
    "df['color'] = np.random.choice(arr, len(df))\n",
    "df.head()"
   ]
  },
  {
   "cell_type": "markdown",
   "id": "63fdca23",
   "metadata": {},
   "source": [
    "---\n",
    "<a id=3></a>\n",
    "[Topへ](#0)\n",
    "\n",
    "---\n",
    "## 3. Matrix Plot"
   ]
  },
  {
   "cell_type": "markdown",
   "id": "e0163a8b",
   "metadata": {},
   "source": [
    "* Seabornテーマの設定\n",
    "* ヒートマップ : 相関関係を表示\n",
    "    * **sns.heatmap()**\n",
    "    <p>\n",
    "        <a href=\"https://seaborn.pydata.org/generated/seaborn.heatmap.html\" target=\"_blank\" rel=\"noreferrer noopener\">\n",
    "            Seaborn.heatmap のページへ\n",
    "        </a>\n",
    "    </p>\n",
    "    \n",
    "\n",
    "* クラスターマップ : ヒートマップを類似性の高い組み合わせに並び変えて表示\n",
    "    * **sns.clustermap()**\n",
    "    <p>\n",
    "        <a href=\"https://seaborn.pydata.org/generated/seaborn.clustermap.html\" target=\"_blank\" rel=\"noreferrer noopener\">\n",
    "            Seaborn.clustermap のページへ\n",
    "        </a>\n",
    "    </p>\n",
    "\n",
    "\n",
    "* ペアグリッド : 自由度の高いペアプロット\n",
    "    * **sns.PairGrid()**\n",
    "    <p>\n",
    "        <a href=\"https://seaborn.pydata.org/generated/seaborn.PairGrid.html?highlight=pairgrid#seaborn.PairGrid\" target=\"_blank\" rel=\"noreferrer noopener\">\n",
    "            Seaborn.pairgrid のページへ\n",
    "        </a>\n",
    "    </p>\n",
    "\n",
    "\n",
    "* Facetグリッド : 自由度の高い、行と列にクラス分けができるグリッド\n",
    "    * **sns.FacetGrid()**\n",
    "    <p>\n",
    "        <a href=\"https://seaborn.pydata.org/generated/seaborn.FacetGrid.html?highlight=facetgrid#seaborn.FacetGrid\" target=\"_blank\" rel=\"noreferrer noopener\">\n",
    "            Seaborn.facetgrid のページへ\n",
    "        </a>\n",
    "    </p>\n",
    "\n",
    "---"
   ]
  },
  {
   "cell_type": "markdown",
   "id": "faa6c6dd",
   "metadata": {},
   "source": [
    "Seabornテーマの設定"
   ]
  },
  {
   "cell_type": "code",
   "execution_count": null,
   "id": "585de861",
   "metadata": {},
   "outputs": [],
   "source": []
  },
  {
   "cell_type": "markdown",
   "id": "f9dd9932",
   "metadata": {},
   "source": [
    "ヒートマップ"
   ]
  },
  {
   "cell_type": "code",
   "execution_count": null,
   "id": "90ab7c78",
   "metadata": {},
   "outputs": [],
   "source": []
  },
  {
   "cell_type": "markdown",
   "id": "35e81f63",
   "metadata": {
    "scrolled": true
   },
   "source": [
    "クラスターマップ  \n",
    "※ 属性が似た"
   ]
  },
  {
   "cell_type": "code",
   "execution_count": null,
   "id": "905e4ba1",
   "metadata": {},
   "outputs": [],
   "source": []
  },
  {
   "cell_type": "markdown",
   "id": "672db5e0",
   "metadata": {
    "scrolled": false
   },
   "source": [
    "ペアグリッド  \n",
    "※ グリッド形式で2値の組み合わせ毎の関係を表す"
   ]
  },
  {
   "cell_type": "code",
   "execution_count": null,
   "id": "f7b135f3",
   "metadata": {},
   "outputs": [],
   "source": []
  },
  {
   "cell_type": "markdown",
   "id": "5a65bccf",
   "metadata": {},
   "source": [
    "Facetグリッド  \n",
    "※ row と col にクラスで分類しそれぞれにプロット"
   ]
  },
  {
   "cell_type": "code",
   "execution_count": null,
   "id": "2367861e",
   "metadata": {},
   "outputs": [],
   "source": []
  },
  {
   "cell_type": "markdown",
   "id": "dfc6c3dc",
   "metadata": {},
   "source": [
    "---\n",
    "<a id=4></a>\n",
    "[Topへ](#0)\n",
    "\n",
    "---\n",
    "## 4. パイチャートと画像の保存"
   ]
  },
  {
   "cell_type": "code",
   "execution_count": null,
   "id": "90713141",
   "metadata": {},
   "outputs": [],
   "source": []
  },
  {
   "cell_type": "markdown",
   "id": "0fa54778",
   "metadata": {},
   "source": [
    "画像の保存"
   ]
  },
  {
   "cell_type": "code",
   "execution_count": null,
   "id": "c928cccd",
   "metadata": {},
   "outputs": [],
   "source": []
  },
  {
   "cell_type": "markdown",
   "id": "761e6aed",
   "metadata": {},
   "source": [
    "---\n",
    "<a id=5></a>\n",
    "[Topへ](#0)\n",
    "\n",
    "---\n",
    "## 5. グラフの表示調整"
   ]
  },
  {
   "cell_type": "code",
   "execution_count": null,
   "id": "0eb931ff",
   "metadata": {},
   "outputs": [],
   "source": []
  },
  {
   "cell_type": "markdown",
   "id": "f0d952ab",
   "metadata": {},
   "source": [
    "---\n",
    " <a id=4></a>\n",
    "[Topへ](#0)\n",
    "\n",
    "---\n",
    "## 以上\n",
    "    \n",
    "---"
   ]
  }
 ],
 "metadata": {
  "kernelspec": {
   "display_name": "Python 3",
   "language": "python",
   "name": "python3"
  },
  "language_info": {
   "codemirror_mode": {
    "name": "ipython",
    "version": 3
   },
   "file_extension": ".py",
   "mimetype": "text/x-python",
   "name": "python",
   "nbconvert_exporter": "python",
   "pygments_lexer": "ipython3",
   "version": "3.7.10"
  }
 },
 "nbformat": 4,
 "nbformat_minor": 5
}
