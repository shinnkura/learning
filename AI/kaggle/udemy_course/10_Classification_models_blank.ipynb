{
 "cells": [
  {
   "cell_type": "markdown",
   "id": "23c6d4cc",
   "metadata": {},
   "source": [
    "<a id=0></a>\n",
    "# 10.Classification models\n",
    "※　分類の機械学習モデル"
   ]
  },
  {
   "cell_type": "markdown",
   "id": "cfd115fa",
   "metadata": {},
   "source": [
    "---\n",
    "### [1. 探索的データ分析（EDA）、スケーリング](#1)\n",
    "### [2. Random Forest Classifier](#2)\n",
    "### [3. KNeighbors Classifier](#3)\n",
    "### [4. SVC](#4)\n",
    "### [5. Logistic Regression](#5)\n",
    "### [6. モデルの評価](#6)\n",
    "---"
   ]
  },
  {
   "cell_type": "code",
   "execution_count": 106,
   "id": "5f4b23d4",
   "metadata": {
    "scrolled": false
   },
   "outputs": [],
   "source": [
    "import numpy as np\n",
    "import pandas as pd\n",
    "import matplotlib.pyplot as plt\n",
    "import seaborn as sns\n",
    "\n",
    "sns.set_theme(context='talk', style='darkgrid', font='MS GOTHIC')"
   ]
  },
  {
   "cell_type": "markdown",
   "id": "0ae71473",
   "metadata": {},
   "source": [
    "---\n",
    "<a id=1></a>\n",
    "[Topへ](#0)\n",
    "\n",
    "---\n",
    "## 1. 探索的データ分析（EDA)、スケーリング"
   ]
  },
  {
   "cell_type": "markdown",
   "id": "a3fda616",
   "metadata": {},
   "source": [
    "* 乳がんデータセット\n",
    "* 相関関係\n",
    "* 分布、外れ値などの確認\n",
    "* スケーリング\n",
    "---"
   ]
  },
  {
   "cell_type": "markdown",
   "id": "2de31734",
   "metadata": {},
   "source": [
    "乳がんデータセット"
   ]
  },
  {
   "cell_type": "code",
   "execution_count": null,
   "id": "b3e3eb7c",
   "metadata": {},
   "outputs": [],
   "source": []
  },
  {
   "cell_type": "markdown",
   "id": "1ba05cec",
   "metadata": {},
   "source": [
    "相関関係"
   ]
  },
  {
   "cell_type": "code",
   "execution_count": null,
   "id": "f31ca797",
   "metadata": {},
   "outputs": [],
   "source": []
  },
  {
   "cell_type": "markdown",
   "id": "e0a1ca02",
   "metadata": {},
   "source": [
    "分布、外れ値などの確認"
   ]
  },
  {
   "cell_type": "code",
   "execution_count": null,
   "id": "8378d461",
   "metadata": {},
   "outputs": [],
   "source": []
  },
  {
   "cell_type": "markdown",
   "id": "fdb0759c",
   "metadata": {},
   "source": [
    "スケーリング"
   ]
  },
  {
   "cell_type": "code",
   "execution_count": null,
   "id": "ef1c1d71",
   "metadata": {},
   "outputs": [],
   "source": []
  },
  {
   "cell_type": "markdown",
   "id": "ae869e51",
   "metadata": {},
   "source": [
    "---\n",
    "<a id=2></a>\n",
    "[Topへ](#0)\n",
    "\n",
    "---\n",
    "## 2. RandomForestClassifier"
   ]
  },
  {
   "cell_type": "markdown",
   "id": "3331fd60",
   "metadata": {},
   "source": [
    "* モデルのインポート  \n",
    "    https://scikit-learn.org/stable/modules/generated/sklearn.ensemble.RandomForestClassifier.html\n",
    "* モデルインスタンスの作成\n",
    "* モデルの構築・属性・予測・スコア\n",
    "* 予想された確率\n",
    "* confusion matrix（混同行列）\n",
    "* precision（適合率）、 recall（再現率）、f1_score（F1値）\n",
    "---"
   ]
  },
  {
   "cell_type": "markdown",
   "id": "a472f63b",
   "metadata": {},
   "source": [
    "n_estimators=100, max_depth=None, min_samples_split=2, min_samples_leaf=1, max_features='sqrt', bootstrap=True, random_state=None, max_samples=None"
   ]
  },
  {
   "cell_type": "markdown",
   "id": "d84afab4",
   "metadata": {},
   "source": [
    "モデルのインポート"
   ]
  },
  {
   "cell_type": "code",
   "execution_count": null,
   "id": "8f35657d",
   "metadata": {},
   "outputs": [],
   "source": []
  },
  {
   "cell_type": "markdown",
   "id": "6657a881",
   "metadata": {},
   "source": [
    "モデルインスタンスの作成"
   ]
  },
  {
   "cell_type": "code",
   "execution_count": null,
   "id": "c90f2ded",
   "metadata": {},
   "outputs": [],
   "source": []
  },
  {
   "cell_type": "markdown",
   "id": "784953a3",
   "metadata": {},
   "source": [
    "モデルの構築・属性・予測・スコア"
   ]
  },
  {
   "cell_type": "code",
   "execution_count": null,
   "id": "0442f7f9",
   "metadata": {},
   "outputs": [],
   "source": []
  },
  {
   "cell_type": "markdown",
   "id": "de2b036c",
   "metadata": {},
   "source": [
    "予想された確率"
   ]
  },
  {
   "cell_type": "code",
   "execution_count": null,
   "id": "0ba195df",
   "metadata": {},
   "outputs": [],
   "source": []
  },
  {
   "cell_type": "markdown",
   "id": "2359378e",
   "metadata": {},
   "source": [
    "confusion matrix（混同行列）"
   ]
  },
  {
   "cell_type": "code",
   "execution_count": null,
   "id": "fe0730eb",
   "metadata": {},
   "outputs": [],
   "source": []
  },
  {
   "cell_type": "markdown",
   "id": "5d1c7ce6",
   "metadata": {},
   "source": [
    "precision（適合率）、 recall（再現率）、f1_score（F1値）"
   ]
  },
  {
   "cell_type": "code",
   "execution_count": null,
   "id": "5d1bc0dc",
   "metadata": {},
   "outputs": [],
   "source": []
  },
  {
   "cell_type": "markdown",
   "id": "6cd39348",
   "metadata": {},
   "source": [
    "---\n",
    "<a id=3></a>\n",
    "[Topへ](#0)\n",
    "\n",
    "---\n",
    "## 3. KNeighbors Classifier"
   ]
  },
  {
   "cell_type": "markdown",
   "id": "7a328899",
   "metadata": {},
   "source": [
    "* モデルのインポート  \n",
    "    https://scikit-learn.org/stable/modules/generated/sklearn.neighbors.KNeighborsClassifier.html\n",
    "* モデルインスタンスの作成\n",
    "* モデルの構築・予測・スコア\n",
    "* confusion matrix（混同行列）\n",
    "---"
   ]
  },
  {
   "cell_type": "markdown",
   "id": "44365a30",
   "metadata": {},
   "source": [
    "n_neighbors=5, weights='uniform'"
   ]
  },
  {
   "cell_type": "markdown",
   "id": "3c789781",
   "metadata": {},
   "source": [
    "モデルのインポート"
   ]
  },
  {
   "cell_type": "code",
   "execution_count": null,
   "id": "c69d93e0",
   "metadata": {},
   "outputs": [],
   "source": []
  },
  {
   "cell_type": "markdown",
   "id": "82342b9a",
   "metadata": {},
   "source": [
    "モデルインスタンスの作成"
   ]
  },
  {
   "cell_type": "code",
   "execution_count": null,
   "id": "c2f189e9",
   "metadata": {},
   "outputs": [],
   "source": []
  },
  {
   "cell_type": "markdown",
   "id": "0d49e214",
   "metadata": {},
   "source": [
    "モデルの構築・予測・スコア"
   ]
  },
  {
   "cell_type": "code",
   "execution_count": null,
   "id": "ab2b46f5",
   "metadata": {},
   "outputs": [],
   "source": []
  },
  {
   "cell_type": "markdown",
   "id": "bc1aca35",
   "metadata": {},
   "source": [
    "confusion matrix（混同行列）"
   ]
  },
  {
   "cell_type": "code",
   "execution_count": null,
   "id": "376aa0f1",
   "metadata": {},
   "outputs": [],
   "source": []
  },
  {
   "cell_type": "markdown",
   "id": "a6fddcf0",
   "metadata": {},
   "source": [
    "---\n",
    "<a id=4></a>\n",
    "[Topへ](#0)\n",
    "\n",
    "---\n",
    "## 4. SVC"
   ]
  },
  {
   "cell_type": "markdown",
   "id": "944c7364",
   "metadata": {},
   "source": [
    "* モデルのインポート  \n",
    "    https://scikit-learn.org/stable/modules/generated/sklearn.svm.SVC.html\n",
    "* モデルインスタンスの作成\n",
    "* モデルの構築・予測・スコア\n",
    "* confusion matrix（混同行列）\n",
    "---"
   ]
  },
  {
   "cell_type": "markdown",
   "id": "2db32fcf",
   "metadata": {},
   "source": [
    "C=1.0, gamma='scale', random_state=None"
   ]
  },
  {
   "cell_type": "markdown",
   "id": "2ebf4d03",
   "metadata": {},
   "source": [
    "モデルのインポート"
   ]
  },
  {
   "cell_type": "code",
   "execution_count": null,
   "id": "32a760a3",
   "metadata": {},
   "outputs": [],
   "source": []
  },
  {
   "cell_type": "markdown",
   "id": "30905494",
   "metadata": {},
   "source": [
    "モデルインスタンスの作成"
   ]
  },
  {
   "cell_type": "code",
   "execution_count": null,
   "id": "cc19fd5a",
   "metadata": {},
   "outputs": [],
   "source": []
  },
  {
   "cell_type": "markdown",
   "id": "4997c3a8",
   "metadata": {},
   "source": [
    "モデルの構築・予測・スコア"
   ]
  },
  {
   "cell_type": "code",
   "execution_count": null,
   "id": "a70b0859",
   "metadata": {},
   "outputs": [],
   "source": []
  },
  {
   "cell_type": "markdown",
   "id": "2ec7a911",
   "metadata": {},
   "source": [
    "confusion matrix（混同行列）"
   ]
  },
  {
   "cell_type": "code",
   "execution_count": null,
   "id": "393032dc",
   "metadata": {},
   "outputs": [],
   "source": []
  },
  {
   "cell_type": "markdown",
   "id": "cff153af",
   "metadata": {},
   "source": [
    "---\n",
    "<a id=5></a>\n",
    "[Topへ](#0)\n",
    "\n",
    "---\n",
    "## 5. Logistic Regression"
   ]
  },
  {
   "cell_type": "markdown",
   "id": "75b9359b",
   "metadata": {},
   "source": [
    "* モデルのインポート  \n",
    "    https://scikit-learn.org/stable/modules/generated/sklearn.linear_model.LogisticRegression.html\n",
    "* モデルインスタンスの作成\n",
    "* モデルの構築・予測・スコア\n",
    "* confusion matrix（混同行列）\n",
    "---"
   ]
  },
  {
   "cell_type": "markdown",
   "id": "1fa40131",
   "metadata": {},
   "source": [
    "C=1.0, random_state=None, max_iter=100"
   ]
  },
  {
   "cell_type": "markdown",
   "id": "26af2d5e",
   "metadata": {},
   "source": [
    "モデルのインポート"
   ]
  },
  {
   "cell_type": "markdown",
   "id": "28bca1fb",
   "metadata": {},
   "source": [
    "モデルインスタンスの作成"
   ]
  },
  {
   "cell_type": "markdown",
   "id": "f9ee701a",
   "metadata": {},
   "source": [
    "モデルの構築・予測・スコア"
   ]
  },
  {
   "cell_type": "markdown",
   "id": "52735a97",
   "metadata": {},
   "source": [
    "confusion matrix（混同行列）"
   ]
  },
  {
   "cell_type": "markdown",
   "id": "41021b9a",
   "metadata": {},
   "source": [
    "---\n",
    "<a id=6></a>\n",
    "[Topへ](#0)\n",
    "\n",
    "---\n",
    "## 6. モデルの評価"
   ]
  },
  {
   "cell_type": "markdown",
   "id": "dabc1334",
   "metadata": {},
   "source": [
    "* precision_recall_curve  \n",
    "    https://scikit-learn.org/stable/modules/generated/sklearn.metrics.precision_recall_curve.html  \n",
    "* f1_score, precision, recall\n",
    "* roc_curve  \n",
    "    https://scikit-learn.org/stable/modules/generated/sklearn.metrics.roc_curve.html  \n",
    "    https://scikit-learn.org/stable/modules/generated/sklearn.metrics.plot_roc_curve.htm  \n",
    "---"
   ]
  },
  {
   "cell_type": "markdown",
   "id": "0b44564b",
   "metadata": {},
   "source": [
    "precision_recall_curve"
   ]
  },
  {
   "cell_type": "markdown",
   "id": "7cdd2346",
   "metadata": {},
   "source": [
    "f1_score, precision, recall"
   ]
  },
  {
   "cell_type": "markdown",
   "id": "2a70027c",
   "metadata": {},
   "source": [
    "roc_curve"
   ]
  },
  {
   "cell_type": "code",
   "execution_count": 410,
   "id": "33206957",
   "metadata": {},
   "outputs": [],
   "source": [
    "np.random.seed(17)\n",
    "pos = np.random.randn(1000) + 1.5\n",
    "neg = np.random.randn(1000) - 1.5\n",
    "neg2 = np.random.randn(1000) - 7\n",
    "neg3 = np.random.randn(900) + 1.5"
   ]
  },
  {
   "cell_type": "code",
   "execution_count": 411,
   "id": "e5a0ab59",
   "metadata": {},
   "outputs": [
    {
     "data": {
      "image/png": "[encoded data removed]",
      "text/plain": [
       "<Figure size 720x288 with 1 Axes>"
      ]
     },
     "metadata": {},
     "output_type": "display_data"
    }
   ],
   "source": [
    "# あるモデルによりポジティブである確率を求めた\n",
    "# 中央付近では確率が高くても実際にはネガティブ、低くてもポジティブなものが混在する\n",
    "plt.figure(figsize=(10, 4))\n",
    "sns.histplot(pos, color='#0c0', alpha=0.5, label='positive')\n",
    "sns.histplot(neg, color='#00c', alpha=0.5, label='negative')\n",
    "plt.legend()\n",
    "plt.xticks([-5.2, 5], [0, 1])\n",
    "plt.yticks([], [])\n",
    "plt.xlabel('positive probability')\n",
    "plt.show()\n",
    "# 閾値を中央付近にあると、バーの重なる部分が FP, FN になる"
   ]
  },
  {
   "cell_type": "code",
   "execution_count": 412,
   "id": "16673674",
   "metadata": {},
   "outputs": [
    {
     "data": {
      "image/png": "[encoded data removed]",
      "text/plain": [
       "<Figure size 720x288 with 1 Axes>"
      ]
     },
     "metadata": {},
     "output_type": "display_data"
    }
   ],
   "source": [
    "# このモデルでは100％の精度で分離することができている\n",
    "plt.figure(figsize=(10, 4))\n",
    "sns.histplot(pos, color='#0c0', alpha=0.5, label='positive')\n",
    "sns.histplot(neg2, color='#00c', alpha=0.5, label='negative')\n",
    "plt.legend()\n",
    "plt.xticks([-10.5, 5], [0, 1])\n",
    "plt.yticks([], [])\n",
    "plt.xlabel('positive probability')\n",
    "plt.show()\n",
    "# ある閾値でははっきりと0：1に分かれる"
   ]
  },
  {
   "cell_type": "code",
   "execution_count": 413,
   "id": "cb199bfe",
   "metadata": {
    "scrolled": true
   },
   "outputs": [
    {
     "data": {
      "image/png": "[encoded data removed]",
      "text/plain": [
       "<Figure size 720x288 with 1 Axes>"
      ]
     },
     "metadata": {},
     "output_type": "display_data"
    }
   ],
   "source": [
    "## ランダム（無作為）な確率をそれぞれに与える場合、どの確率においてもポジティブ、ネガティブの割合は一定\n",
    "plt.figure(figsize=(10, 4))\n",
    "sns.histplot(pos, color='#0c0', alpha=0.5, label='positive')\n",
    "sns.histplot(neg3, color='#00c', alpha=0.5, label='negative')\n",
    "plt.legend()\n",
    "plt.xticks([-2, 5], [0, 1])\n",
    "plt.yticks([], [])\n",
    "plt.xlabel('positive probability')\n",
    "plt.show()\n",
    "# 閾値を下げていくとTPRが上がり、同じ割合でFPRも上がっていく\n",
    "# 結果として直線になると考えることができる"
   ]
  },
  {
   "cell_type": "code",
   "execution_count": 377,
   "id": "f80958e3",
   "metadata": {},
   "outputs": [],
   "source": [
    "def calcurate_metrics(np, nn, tp, tn):\n",
    "    fp = np - tp\n",
    "    fn = nn - tn\n",
    "    fpr = fp / (tn + fp)\n",
    "    tpr = tp / (tp + fn)\n",
    "    pre = tp / (tp + fp)\n",
    "    rec = tp / (tp + fn)\n",
    "    f1 = 2 * pre * rec / (pre + rec)\n",
    "    print(f'FPR : {fpr},  TPR : {tpr}')\n",
    "    print(f'PRE : {pre},  REC : {rec}')"
   ]
  },
  {
   "cell_type": "code",
   "execution_count": 176,
   "id": "00137db1",
   "metadata": {},
   "outputs": [
    {
     "name": "stdout",
     "output_type": "stream",
     "text": [
      "FPR : 0.14285714285714285,  TPR : 0.6923076923076923\n",
      "PRE : 0.9,  REC : 0.6923076923076923\n"
     ]
    }
   ],
   "source": [
    "calcurate_metrics(1000, 1000, 900, 600)"
   ]
  },
  {
   "cell_type": "code",
   "execution_count": 183,
   "id": "16df35f3",
   "metadata": {},
   "outputs": [
    {
     "name": "stdout",
     "output_type": "stream",
     "text": [
      "FPR : 0.001998001998001998,  TPR : 0.8888888888888888\n",
      "PRE : 0.8,  REC : 0.8888888888888888\n"
     ]
    }
   ],
   "source": [
    "calcurate_metrics(100, 10000, 80, 9990)"
   ]
  },
  {
   "cell_type": "code",
   "execution_count": 165,
   "id": "616a7168",
   "metadata": {
    "scrolled": false
   },
   "outputs": [
    {
     "data": {
      "text/plain": [
       "(array([0.      , 0.      , 0.      , 0.015625, 0.03125 , 0.03125 ,\n",
       "        0.03125 , 0.03125 , 0.03125 , 0.03125 , 0.03125 , 0.046875,\n",
       "        0.046875, 0.0625  , 0.0625  , 0.078125, 0.09375 , 0.125   ,\n",
       "        0.140625, 0.140625, 0.140625, 0.171875, 0.21875 , 0.265625,\n",
       "        0.28125 , 0.3125  , 0.359375, 0.53125 , 1.      ]),\n",
       " array([0.        , 0.47663551, 0.70093458, 0.74766355, 0.80373832,\n",
       "        0.81308411, 0.8317757 , 0.87850467, 0.91588785, 0.92523364,\n",
       "        0.94392523, 0.94392523, 0.95327103, 0.95327103, 0.96261682,\n",
       "        0.96261682, 0.97196262, 0.97196262, 0.97196262, 0.99065421,\n",
       "        1.        , 1.        , 1.        , 1.        , 1.        ,\n",
       "        1.        , 1.        , 1.        , 1.        ]),\n",
       " array([2.  , 1.  , 0.98, 0.97, 0.96, 0.95, 0.94, 0.83, 0.81, 0.72, 0.69,\n",
       "        0.68, 0.63, 0.52, 0.47, 0.42, 0.37, 0.35, 0.29, 0.27, 0.26, 0.25,\n",
       "        0.11, 0.1 , 0.06, 0.05, 0.02, 0.01, 0.  ]))"
      ]
     },
     "execution_count": 165,
     "metadata": {},
     "output_type": "execute_result"
    }
   ],
   "source": [
    "# fpr = fp / (tn + fp)\n",
    "# tpr = tp / (tp + fn)\n",
    "fpr, tpr, thresholds = roc_curve(y_test, prob[:, 1])\n",
    "fpr, tpr, thresholds"
   ]
  },
  {
   "cell_type": "code",
   "execution_count": null,
   "id": "6f81cdf8",
   "metadata": {},
   "outputs": [],
   "source": []
  },
  {
   "cell_type": "markdown",
   "id": "f0d952ab",
   "metadata": {},
   "source": [
    "---\n",
    " <a id=4></a>\n",
    "[Topへ](#0)\n",
    "\n",
    "---\n",
    "## 以上\n",
    "    \n",
    "---"
   ]
  }
 ],
 "metadata": {
  "kernelspec": {
   "display_name": "Python 3",
   "language": "python",
   "name": "python3"
  },
  "language_info": {
   "codemirror_mode": {
    "name": "ipython",
    "version": 3
   },
   "file_extension": ".py",
   "mimetype": "text/x-python",
   "name": "python",
   "nbconvert_exporter": "python",
   "pygments_lexer": "ipython3",
   "version": "3.7.10"
  }
 },
 "nbformat": 4,
 "nbformat_minor": 5
}
