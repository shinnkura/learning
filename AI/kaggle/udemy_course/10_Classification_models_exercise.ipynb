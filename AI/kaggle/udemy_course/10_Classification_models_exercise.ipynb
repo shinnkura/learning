{
 "cells": [
  {
   "cell_type": "markdown",
   "id": "40d9c665",
   "metadata": {},
   "source": [
    "---\n",
    "# 10. Classification models Exercise\n",
    "---"
   ]
  },
  {
   "cell_type": "code",
   "execution_count": null,
   "id": "2fe04f33",
   "metadata": {},
   "outputs": [],
   "source": [
    "# 実行\n",
    "import numpy as np\n",
    "import pandas as pd\n",
    "import matplotlib.pyplot as plt\n",
    "import seaborn as sns"
   ]
  },
  {
   "cell_type": "code",
   "execution_count": null,
   "id": "ee78be98",
   "metadata": {},
   "outputs": [],
   "source": [
    "# 実行\n",
    "from sklearn.model_selection import train_test_split\n",
    "from sklearn.preprocessing import StandardScaler\n",
    "from sklearn.metrics import classification_report, confusion_matrix, plot_roc_curve, roc_curve, auc, f1_score, precision_score, recall_score, precision_recall_curve"
   ]
  },
  {
   "cell_type": "code",
   "execution_count": null,
   "id": "5a342b56",
   "metadata": {},
   "outputs": [],
   "source": [
    "# 実行\n",
    "from sklearn.ensemble import RandomForestClassifier\n",
    "from sklearn.neighbors import KNeighborsClassifier\n",
    "from sklearn.svm import SVC\n",
    "from sklearn.linear_model import LogisticRegression"
   ]
  },
  {
   "cell_type": "code",
   "execution_count": null,
   "id": "6fe73853",
   "metadata": {},
   "outputs": [],
   "source": [
    "# 実行\n",
    "from sklearn.datasets import load_wine"
   ]
  },
  {
   "cell_type": "code",
   "execution_count": null,
   "id": "e1ef2e8b",
   "metadata": {
    "scrolled": true
   },
   "outputs": [],
   "source": [
    "# 実行\n",
    "wine = load_wine()\n",
    "X, y = load_wine(return_X_y=True)\n",
    "df = pd.DataFrame(np.concatenate([X, y.reshape(-1, 1)], axis=1), columns=wine['feature_names'] + ['target'])\n",
    "df.head()"
   ]
  },
  {
   "cell_type": "code",
   "execution_count": null,
   "id": "c207e0d0",
   "metadata": {},
   "outputs": [],
   "source": [
    "# 実行\n",
    "df['target'].value_counts()\n",
    "# 多クラス（3クラス）分類"
   ]
  },
  {
   "cell_type": "code",
   "execution_count": null,
   "id": "b0bc18f4",
   "metadata": {},
   "outputs": [],
   "source": [
    "# 実行\n",
    "print(wine['DESCR'])"
   ]
  },
  {
   "cell_type": "code",
   "execution_count": null,
   "id": "9661f4db",
   "metadata": {
    "scrolled": true
   },
   "outputs": [],
   "source": [
    "# 実行\n",
    "df.info()"
   ]
  },
  {
   "cell_type": "markdown",
   "id": "ad367112",
   "metadata": {},
   "source": [
    "Exercise_1 : 相関関係をヒートマップで表現してください"
   ]
  },
  {
   "cell_type": "code",
   "execution_count": null,
   "id": "7bf49230",
   "metadata": {
    "scrolled": true
   },
   "outputs": [],
   "source": [
    "plt.figure(figsize=(10, 6))\n",
    "sns.heatmap(, square=True, vmin=-1, cmap='coolwarm')   #\n",
    "plt.show()"
   ]
  },
  {
   "cell_type": "markdown",
   "id": "db343159",
   "metadata": {},
   "source": [
    "<details>\n",
    "    <summary><font color='red'>解答はここをクリック</font></summary>\n",
    "    <code>sns.heatmap(df.corr(), square=True, vmin=-1, cmap='coolwarm')</code>\n",
    "</details>"
   ]
  },
  {
   "cell_type": "markdown",
   "id": "2a3b8606",
   "metadata": {},
   "source": [
    "Exercise_2 : 下記の関数を完成させてください（データ分布の3プロット）"
   ]
  },
  {
   "cell_type": "code",
   "execution_count": null,
   "id": "a032514a",
   "metadata": {},
   "outputs": [],
   "source": [
    "def plot_data(feature):\n",
    "    fig, axes = plt.subplots(1, 3, figsize=(12, 4), tight_layout=True)\n",
    "    sns.histplot(data=df, y=, hue='target', multiple='dodge', ax=axes[0])   #\n",
    "    sns.boxplot(data=df, x='target', y=, ax=axes[1], width=0.8)   #\n",
    "    sns.swarmplot(data=df, x='target', y=, ax=axes[2], alpha=0.8, size=3)   #\n",
    "    plt.suptitle(feature)\n",
    "    plt.show()"
   ]
  },
  {
   "cell_type": "markdown",
   "id": "256f1acf",
   "metadata": {},
   "source": [
    "<details>\n",
    "    <summary><font color='red'>解答はここをクリック</font></summary>\n",
    "    <code>y=feature</code>\n",
    "</details>"
   ]
  },
  {
   "cell_type": "code",
   "execution_count": null,
   "id": "0dffa8be",
   "metadata": {
    "scrolled": true
   },
   "outputs": [],
   "source": [
    "# 実行\n",
    "for feature in df.columns[:-1]:\n",
    "    plot_data(feature)"
   ]
  },
  {
   "cell_type": "markdown",
   "id": "bb1bd867",
   "metadata": {},
   "source": [
    "Exercise_3 : 下記に引数の指定を追加して、Xとyで目的変数のクラスの割合がほぼ等しくなるように分割をしてください（精度が高くなりすぎるので、説明変数は1-5の5つのみを使用します）"
   ]
  },
  {
   "cell_type": "code",
   "execution_count": null,
   "id": "b8927690",
   "metadata": {},
   "outputs": [],
   "source": [
    "X_train, X_test, y_train, y_test = train_test_split(X[:, 1:6], y, test_size=0.3, random_state=17,)"
   ]
  },
  {
   "cell_type": "markdown",
   "id": "96597b0e",
   "metadata": {},
   "source": [
    "<details>\n",
    "    <summary><font color='red'>解答はここをクリック</font></summary>\n",
    "    <code>stratify=y</code>\n",
    "</details>"
   ]
  },
  {
   "cell_type": "markdown",
   "id": "89250e4f",
   "metadata": {},
   "source": [
    "Exercise_4 : 多クラス分類ができるようにsvc_modelのkernelを'linear'にし、また確率（probability）をpredict_proba()で取得できるよう引数を指定してください。また、log_modelへも多クラス分類へ対応できるようにsolverに'newton-cg'を設定して下さい。"
   ]
  },
  {
   "cell_type": "code",
   "execution_count": null,
   "id": "93b0d6e0",
   "metadata": {},
   "outputs": [],
   "source": [
    "rf_model = RandomForestClassifier(random_state=17)\n",
    "kn_model = KNeighborsClassifier()\n",
    "svc_model = SVC(random_state=17, )\n",
    "log_model = LogisticRegression(random_state=17, )\n",
    "\n",
    "models = [rf_model, kn_model, svc_model, log_model]"
   ]
  },
  {
   "cell_type": "markdown",
   "id": "f4bad6cd",
   "metadata": {},
   "source": [
    "<details>\n",
    "    <summary><font color='red'>解答はここをクリック</font></summary>\n",
    "    <code>probability=True, kernel='linear'</code><br>\n",
    "    <code>solver='newton-cg'</code>\n",
    "</details>"
   ]
  },
  {
   "cell_type": "code",
   "execution_count": null,
   "id": "deec2a95",
   "metadata": {},
   "outputs": [],
   "source": [
    "# 実行\n",
    "# 予測などを格納する辞書\n",
    "mets = {rf_model:{}, kn_model:{}, svc_model:{}, log_model:{}}"
   ]
  },
  {
   "cell_type": "markdown",
   "id": "7372fbfa",
   "metadata": {},
   "source": [
    "Exercise_5 : モデルの構築、予測、スコア（f1スコア）、確率の部分を埋めて、下記の関数を完成させてください。"
   ]
  },
  {
   "cell_type": "code",
   "execution_count": null,
   "id": "c17bfe66",
   "metadata": {},
   "outputs": [],
   "source": [
    "def predict_and_metrics(model):\n",
    "    model.fit(X_train, y_train)\n",
    "    pred = model.\n",
    "    score = model.\n",
    "    proba = model.\n",
    "    mets[model]['pred'] = pred\n",
    "    mets[model]['score'] = score\n",
    "    mets[model]['proba'] = proba"
   ]
  },
  {
   "cell_type": "markdown",
   "id": "79f7cbda",
   "metadata": {},
   "source": [
    "<details>\n",
    "    <summary><font color='red'>解答はここをクリック</font></summary>\n",
    "    <code></code>pred = model.predict(X_test)<br>\n",
    "    <code></code>score = model.score(X_test, y_test)<br>\n",
    "    <code></code>proba = model.predict_proba(X_test)<br>\n",
    "</details>"
   ]
  },
  {
   "cell_type": "code",
   "execution_count": null,
   "id": "754ae26d",
   "metadata": {},
   "outputs": [],
   "source": [
    "# 実行\n",
    "# 何も表示はされません\n",
    "for model in models:\n",
    "    predict_and_metrics(model)"
   ]
  },
  {
   "cell_type": "markdown",
   "id": "d3a22531",
   "metadata": {},
   "source": [
    "Exercise_6 : 混同行列を描画する下記の関数を辞書metsを利用して完成させてください。　ヒント　(true_label, prediction_label)"
   ]
  },
  {
   "cell_type": "code",
   "execution_count": null,
   "id": "15839fd7",
   "metadata": {},
   "outputs": [],
   "source": [
    "def conf_matrix(model):\n",
    "    sns.heatmap(, annot=True)   #\n",
    "    plt.xlabel('Predicted Label')\n",
    "    plt.ylabel('True Label')\n",
    "    plt.title(model)\n",
    "\n",
    "    plt.show()"
   ]
  },
  {
   "cell_type": "markdown",
   "id": "4815b9fd",
   "metadata": {},
   "source": [
    "<details>\n",
    "    <summary><font color='red'>解答はここをクリック</font></summary>\n",
    "    <code> sns.heatmap(confusion_matrix(y_test, mets[model]['pred']), annot=True)</code>\n",
    "</details>"
   ]
  },
  {
   "cell_type": "markdown",
   "id": "3b6c2dd9",
   "metadata": {},
   "source": [
    "Exercise_7 : 分類レポートをプリントするための下記の関数を完成させてください"
   ]
  },
  {
   "cell_type": "code",
   "execution_count": null,
   "id": "57651f00",
   "metadata": {},
   "outputs": [],
   "source": [
    "def report(model):\n",
    "    print(model)\n",
    "    print()\n",
    "    print('======================')"
   ]
  },
  {
   "cell_type": "markdown",
   "id": "787adfbb",
   "metadata": {},
   "source": [
    "<details>\n",
    "    <summary><font color='red'>解答はここをクリック</font></summary>\n",
    "    <code>print(classification_report(y_test, mets[model]['pred']))</code>\n",
    "</details>"
   ]
  },
  {
   "cell_type": "code",
   "execution_count": null,
   "id": "7c43333f",
   "metadata": {
    "scrolled": true
   },
   "outputs": [],
   "source": [
    "# 実行\n",
    "for model in models:\n",
    "    conf_matrix(model)"
   ]
  },
  {
   "cell_type": "markdown",
   "id": "a5194229",
   "metadata": {},
   "source": [
    "Exercise_8 : 上記のlog_modelの混合行列を参照して、三つのラベルに対する適合率、再現率をそれぞれ計算してください（17/20のようにして）"
   ]
  },
  {
   "cell_type": "code",
   "execution_count": null,
   "id": "651e7de1",
   "metadata": {},
   "outputs": [],
   "source": [
    "# 適合率\n",
    "# 0.8947368421052632, 0.7916666666666666, 1.0\n"
   ]
  },
  {
   "cell_type": "code",
   "execution_count": null,
   "id": "aec5d264",
   "metadata": {
    "scrolled": true
   },
   "outputs": [],
   "source": [
    "# 再現率\n",
    "# 0.9444444444444444, 0.9047619047619048, 0.7333333333333333\n"
   ]
  },
  {
   "cell_type": "markdown",
   "id": "9c1e7226",
   "metadata": {},
   "source": [
    "<details>\n",
    "    <summary><font color='red'>解答はここをクリック</font></summary>\n",
    "    <code>17/19, 19/24, 11/11</code><br>\n",
    "    <code>17/18, 19/21, 11/15</code>\n",
    "</details>"
   ]
  },
  {
   "cell_type": "markdown",
   "id": "09dd67c9",
   "metadata": {},
   "source": [
    "Exercise_9 : 同様にlog_modelについてprecision_score, recall_score, f1_scoreの関数を使って各ラベル別にそれらの値を算出してください。　　ヒント　引数にaverageを使う"
   ]
  },
  {
   "cell_type": "code",
   "execution_count": null,
   "id": "28af9d66",
   "metadata": {},
   "outputs": [],
   "source": [
    "# 適合率\n"
   ]
  },
  {
   "cell_type": "code",
   "execution_count": null,
   "id": "0a114405",
   "metadata": {},
   "outputs": [],
   "source": [
    "# 再現率\n"
   ]
  },
  {
   "cell_type": "code",
   "execution_count": null,
   "id": "dfa2d1bf",
   "metadata": {},
   "outputs": [],
   "source": [
    "# F1スコア\n"
   ]
  },
  {
   "cell_type": "markdown",
   "id": "53d92e5a",
   "metadata": {},
   "source": [
    "<details>\n",
    "    <summary><font color='red'>解答はここをクリック</font></summary>\n",
    "    <code>precision_score(y_test, mets[log_model]['pred'], average=None)</code><br>\n",
    "    <code>recall_score(y_test, mets[log_model]['pred'], average=None)</code><br>\n",
    "    <code>f1_score(y_test, mets[log_model]['pred'], average=None)</code><br>\n",
    "</details>"
   ]
  },
  {
   "cell_type": "code",
   "execution_count": null,
   "id": "7a07fd22",
   "metadata": {},
   "outputs": [],
   "source": [
    "# 実行\n",
    "# 上のふたつのエクササイズの数値と等しいことを確認してください\n",
    "for model in models:\n",
    "    report(model)"
   ]
  },
  {
   "cell_type": "code",
   "execution_count": null,
   "id": "60dfe61a",
   "metadata": {},
   "outputs": [],
   "source": [
    "# 実行\n",
    "from sklearn.model_selection import StratifiedKFold, GridSearchCV"
   ]
  },
  {
   "cell_type": "markdown",
   "id": "50347b0d",
   "metadata": {},
   "source": [
    "Exercise_10 : StratifiedKFoldを使い、5分割、シャッフル、ランダムステート＝17としてkを作成してください（KFoldと同じ使い方です）"
   ]
  },
  {
   "cell_type": "code",
   "execution_count": null,
   "id": "c6ddd0c6",
   "metadata": {},
   "outputs": [],
   "source": [
    "k = "
   ]
  },
  {
   "cell_type": "markdown",
   "id": "1f5937a7",
   "metadata": {},
   "source": [
    "<details>\n",
    "    <summary><font color='red'>解答はここをクリック</font></summary>\n",
    "    <code>k = StratifiedKFold(n_splits=5, shuffle=True, random_state=17)</code>\n",
    "</details>"
   ]
  },
  {
   "cell_type": "code",
   "execution_count": null,
   "id": "4ca9d424",
   "metadata": {},
   "outputs": [],
   "source": [
    "# 実行\n",
    "set1, set2, set3, set4, set5 = k.split(X, y)"
   ]
  },
  {
   "cell_type": "code",
   "execution_count": null,
   "id": "5958582d",
   "metadata": {},
   "outputs": [],
   "source": [
    "# 実行\n",
    "# set1に割り当てられたインデックスが表示されます。二つ目のアレイが分類ラベルを持つyになります。\n",
    "set1"
   ]
  },
  {
   "cell_type": "code",
   "execution_count": null,
   "id": "14d29f9d",
   "metadata": {},
   "outputs": [],
   "source": [
    "# 以下の5つを実行してください\n",
    "# 0,1,2のラベルがほぼ均等に分割されていることが分かります\n",
    "df.loc[set1[1]]['target'].value_counts()"
   ]
  },
  {
   "cell_type": "code",
   "execution_count": null,
   "id": "42e04d86",
   "metadata": {},
   "outputs": [],
   "source": [
    "df.loc[set2[1]]['target'].value_counts()"
   ]
  },
  {
   "cell_type": "code",
   "execution_count": null,
   "id": "b3fa97ca",
   "metadata": {},
   "outputs": [],
   "source": [
    "df.loc[set3[1]]['target'].value_counts()"
   ]
  },
  {
   "cell_type": "code",
   "execution_count": null,
   "id": "fde3c252",
   "metadata": {},
   "outputs": [],
   "source": [
    "df.loc[set4[1]]['target'].value_counts()"
   ]
  },
  {
   "cell_type": "code",
   "execution_count": null,
   "id": "13e99a63",
   "metadata": {
    "scrolled": false
   },
   "outputs": [],
   "source": [
    "df.loc[set5[1]]['target'].value_counts()"
   ]
  },
  {
   "cell_type": "markdown",
   "id": "db848c76",
   "metadata": {},
   "source": [
    "Exercise_11 : rf_model_newに対してグリッドサーチを実行します。gridに三つの引数（モデル、パラメータ、cv)を設定してください。"
   ]
  },
  {
   "cell_type": "code",
   "execution_count": null,
   "id": "b7cffffd",
   "metadata": {},
   "outputs": [],
   "source": [
    "# 実行\n",
    "rf_model_new = RandomForestClassifier(random_state=17)"
   ]
  },
  {
   "cell_type": "code",
   "execution_count": null,
   "id": "8aaa3d6b",
   "metadata": {},
   "outputs": [],
   "source": [
    "# 実行\n",
    "params = {\n",
    "    'criterion' : ['gini', 'entropy'],\n",
    "    'max_features' : ['sqrt', 0.8, 1]\n",
    "}"
   ]
  },
  {
   "cell_type": "code",
   "execution_count": null,
   "id": "66d5ae38",
   "metadata": {},
   "outputs": [],
   "source": [
    "grid = GridSearchCV(\n",
    "    \n",
    ")"
   ]
  },
  {
   "cell_type": "markdown",
   "id": "58532dfa",
   "metadata": {},
   "source": [
    "<details>\n",
    "    <summary><font color='red'>解答はここをクリック</font></summary>\n",
    "    <code>grid = GridSearchCV(\n",
    "            rf_model_new,\n",
    "            param_grid=params,\n",
    "            cv=k\n",
    "            )</code>\n",
    "</details>"
   ]
  },
  {
   "cell_type": "code",
   "execution_count": null,
   "id": "3211264f",
   "metadata": {},
   "outputs": [],
   "source": [
    "# 実行\n",
    "grid.fit(X, y)"
   ]
  },
  {
   "cell_type": "code",
   "execution_count": null,
   "id": "8213f1de",
   "metadata": {
    "scrolled": true
   },
   "outputs": [],
   "source": [
    "# 実行\n",
    "# ランキングトップの三つを表示\n",
    "pd.DataFrame(grid.cv_results_).loc[:, 'params':].sort_values('rank_test_score', ascending=True)[:3]"
   ]
  },
  {
   "cell_type": "code",
   "execution_count": null,
   "id": "a9c1d1f0",
   "metadata": {},
   "outputs": [],
   "source": [
    "# 実行\n",
    "grid.best_params_"
   ]
  },
  {
   "cell_type": "code",
   "execution_count": null,
   "id": "fe871fc7",
   "metadata": {
    "scrolled": true
   },
   "outputs": [],
   "source": [
    "# すでに作成しているmetsを実行して確認\n",
    "mets"
   ]
  },
  {
   "cell_type": "code",
   "execution_count": null,
   "id": "021abeeb",
   "metadata": {},
   "outputs": [],
   "source": [
    "# 実行して、下記が何を表すかを確認してください\n",
    "y_test==0"
   ]
  },
  {
   "cell_type": "code",
   "execution_count": null,
   "id": "d23b1797",
   "metadata": {},
   "outputs": [],
   "source": [
    "# 実行\n",
    "# 上記を利用して、precision, recall, thresholdを取得できます\n",
    "precision, recall, threshold = precision_recall_curve(y_test==2, mets[rf_model]['proba'][:, 2])"
   ]
  },
  {
   "cell_type": "markdown",
   "id": "4017c74d",
   "metadata": {},
   "source": [
    "Exercise_12 : 上記の性質を利用して、分類ラベル（目的変数のラベル）である、0,1,2のprecision, recall, thresholdを取得してください"
   ]
  },
  {
   "cell_type": "code",
   "execution_count": null,
   "id": "231f246c",
   "metadata": {},
   "outputs": [],
   "source": [
    "p0, r0, t0 = precision_recall_curve(, mets[rf_model]['proba'][:, 0])\n",
    "p1, r1, t1 = precision_recall_curve(, mets[rf_model]['proba'][:, 1])\n",
    "p2, r2, t2 = precision_recall_curve(, mets[rf_model]['proba'][:, 2])"
   ]
  },
  {
   "cell_type": "markdown",
   "id": "3e041d92",
   "metadata": {},
   "source": [
    "<details>\n",
    "    <summary><font color='red'>解答はここをクリック</font></summary>\n",
    "    <code>p0, r0, t0 = precision_recall_curve(y_test==0, mets[rf_model]['proba'][:, 0])</code><br>\n",
    "    <code>p1, r1, t1 = precision_recall_curve(y_test==1, mets[rf_model]['proba'][:, 1])</code><br>\n",
    "    <code>p2, r2, t2 = precision_recall_curve(y_test==2, mets[rf_model]['proba'][:, 2])</code>\n",
    "</details>"
   ]
  },
  {
   "cell_type": "markdown",
   "id": "722b0eb9",
   "metadata": {},
   "source": [
    "Exercise_13 : 上記のp0, r0などを利用してF1スコアを調和平均の式を使って求め、リストにしてください（リスト内包表記で）"
   ]
  },
  {
   "cell_type": "code",
   "execution_count": null,
   "id": "09e8ade9",
   "metadata": {},
   "outputs": [],
   "source": [
    "f0 = [ for pre, rec in ]\n",
    "f1 = [ for pre, rec in ]\n",
    "f2 = [ for pre, rec in ]\n",
    "\n",
    "prft = [[p0, r0, f0, t0], [p1, r1, f1, t1], [p2, r2, f2, t2]]"
   ]
  },
  {
   "cell_type": "markdown",
   "id": "f62dfa22",
   "metadata": {},
   "source": [
    "<details>\n",
    "    <summary><font color='red'>解答はここをクリック</font></summary>\n",
    "    <code>f0 = [2*pre*rec / (pre + rec) for pre, rec in zip(p0, r0)]</code><br>\n",
    "    <code>f1 = [2*pre*rec / (pre + rec) for pre, rec in zip(p1, r1)]</code><br>\n",
    "    <code>f2 = [2*pre*rec / (pre + rec) for pre, rec in zip(p2, r2)]</code>\n",
    "</details>"
   ]
  },
  {
   "cell_type": "markdown",
   "id": "ce5e6ceb",
   "metadata": {},
   "source": [
    "Exercise_14 : precision, recall, f1スコア, thresholdを使った曲線を描きます。下記の関数を完成させてください。ヒント　thresholdのlenは1だけ短い"
   ]
  },
  {
   "cell_type": "code",
   "execution_count": null,
   "id": "f5d8ca35",
   "metadata": {},
   "outputs": [],
   "source": [
    "def f1_pr_curve(p, r, f, t):\n",
    "    plt.figure(figsize=(8, 5))\n",
    "    sns.lineplot(x=t, y=, label='f1 score')\n",
    "    sns.lineplot(x=t, y=, label='recall')\n",
    "    sns.lineplot(x=t, y=, label='precision')\n",
    "    plt.xlabel('threshold')\n",
    "    plt.legend()\n",
    "    plt.show()"
   ]
  },
  {
   "cell_type": "markdown",
   "id": "689890ab",
   "metadata": {},
   "source": [
    "<details>\n",
    "    <summary><font color='red'>解答はここをクリック</font></summary>\n",
    "    <code>sns.lineplot(x=t, y=f[:-1], label='f1 score')</code><br>\n",
    "    <code>sns.lineplot(x=t, y=r[:-1], label='recall')</code><br>\n",
    "    <code>sns.lineplot(x=t, y=p[:-1], label='precision')</code>\n",
    "</details>"
   ]
  },
  {
   "cell_type": "code",
   "execution_count": null,
   "id": "800baf19",
   "metadata": {},
   "outputs": [],
   "source": [
    "# 実行\n",
    "for p, r, f, t in prft:\n",
    "    f1_pr_curve(p, r, f, t)"
   ]
  },
  {
   "cell_type": "code",
   "execution_count": null,
   "id": "98dbc262",
   "metadata": {},
   "outputs": [],
   "source": [
    "# 実行\n",
    "# 各モデルに対して3つ（分類ラベル別）のPR曲線を描画\n",
    "def pr_curve(model):\n",
    "    plt.figure(figsize=(8,5))\n",
    "#     横軸にrecall,縦軸にprecision\n",
    "    sns.lineplot(x=r0, y=p0, label=0)\n",
    "    sns.lineplot(x=r1, y=p1, label=1)\n",
    "    sns.lineplot(x=r2, y=p2, label=2)\n",
    "    plt.xlabel('Recall')\n",
    "    plt.ylabel('Precision')\n",
    "    plt.title(f'{model} / PR-Curve')\n",
    "    plt.legend()\n",
    "    plt.show()"
   ]
  },
  {
   "cell_type": "code",
   "execution_count": null,
   "id": "41817c25",
   "metadata": {
    "scrolled": true
   },
   "outputs": [],
   "source": [
    "# 実行\n",
    "for model in models:\n",
    "    pr_curve(model)"
   ]
  },
  {
   "cell_type": "code",
   "execution_count": null,
   "id": "d36cb3ae",
   "metadata": {
    "scrolled": true
   },
   "outputs": [],
   "source": [
    "# 実行\n",
    "# 新規にモデルを作成\n",
    "# y_train==0とすることで、ラベル0ものがTrue、その他がFalseとなる\n",
    "# その結果、1、0の二値分類（one vs rest）に置き換えることができる\n",
    "model = RandomForestClassifier(random_state=17)\n",
    "model.fit(X_train, y_train==0)"
   ]
  },
  {
   "cell_type": "markdown",
   "id": "eb9a0437",
   "metadata": {},
   "source": [
    "Exercise_15 : X_testのデータに対する予想確率を取得してください"
   ]
  },
  {
   "cell_type": "code",
   "execution_count": null,
   "id": "e46ca76a",
   "metadata": {},
   "outputs": [],
   "source": [
    "prob = "
   ]
  },
  {
   "cell_type": "markdown",
   "id": "a57b597a",
   "metadata": {},
   "source": [
    "<details>\n",
    "    <summary><font color='red'>解答はここをクリック</font></summary>\n",
    "    <code>prob = model.predict_proba(X_test)</code>\n",
    "</details>"
   ]
  },
  {
   "cell_type": "markdown",
   "id": "6017c431",
   "metadata": {},
   "source": [
    "Exercise_16 : 分類ラベルが0であるかないかの二値で考えて、そのROCカーブを描画します。"
   ]
  },
  {
   "cell_type": "code",
   "execution_count": null,
   "id": "d5741fc3",
   "metadata": {},
   "outputs": [],
   "source": [
    "# 実行\n",
    "y_test==0\n",
    "# Trueが１、Falseが0と認識され,1と0のアレイとなります\n",
    "# これを利用してください"
   ]
  },
  {
   "cell_type": "code",
   "execution_count": null,
   "id": "2f75c54e",
   "metadata": {
    "scrolled": false
   },
   "outputs": [],
   "source": [
    "fig, axes = plt.subplots(figsize=(8, 6), tight_layout=True)\n",
    "plot_roc_curve(model, , , ax=axes, marker='o', markersize=5)    # \n",
    "axes.set_xlabel('False Positive Rate')\n",
    "axes.set_ylabel('True Positive Rate')\n",
    "sns.lineplot(x=[0, 1], y=[0, 1], color='red', linestyle='--', ax=axes)\n",
    "plt.show()"
   ]
  },
  {
   "cell_type": "markdown",
   "id": "bed5d1f1",
   "metadata": {},
   "source": [
    "<details>\n",
    "    <summary><font color='red'>解答はここをクリック</font></summary>\n",
    "    <code>plot_roc_curve(model, X_test, y_test==0, ax=axes, marker='o', markersize=5) </code>\n",
    "</details>"
   ]
  },
  {
   "cell_type": "markdown",
   "id": "d601f12d",
   "metadata": {},
   "source": [
    "Exercise_17 : roc_curveを用いてfpr, tpr, threshを取得してください。ただし、y_test==0のTrueは1であり、probの2列目（インデックス1）にその確率は表示されることに注意してください。"
   ]
  },
  {
   "cell_type": "code",
   "execution_count": null,
   "id": "57dbd3df",
   "metadata": {},
   "outputs": [],
   "source": [
    "fpr, tpr, thresh = "
   ]
  },
  {
   "cell_type": "markdown",
   "id": "e152f346",
   "metadata": {},
   "source": [
    "<details>\n",
    "    <summary><font color='red'>解答はここをクリック</font></summary>\n",
    "    <code>fpr, tpr, thresh = roc_curve(y_test==0, prob[:, 1])</code>\n",
    "</details>"
   ]
  },
  {
   "cell_type": "code",
   "execution_count": null,
   "id": "f649b6bb",
   "metadata": {},
   "outputs": [],
   "source": [
    "# 実行\n",
    "# 0.9660493827160495\n",
    "auc(fpr, tpr)"
   ]
  },
  {
   "cell_type": "markdown",
   "id": "d740947c",
   "metadata": {},
   "source": [
    "## 以上"
   ]
  }
 ],
 "metadata": {
  "kernelspec": {
   "display_name": "Python 3",
   "language": "python",
   "name": "python3"
  },
  "language_info": {
   "codemirror_mode": {
    "name": "ipython",
    "version": 3
   },
   "file_extension": ".py",
   "mimetype": "text/x-python",
   "name": "python",
   "nbconvert_exporter": "python",
   "pygments_lexer": "ipython3",
   "version": "3.7.10"
  }
 },
 "nbformat": 4,
 "nbformat_minor": 5
}
