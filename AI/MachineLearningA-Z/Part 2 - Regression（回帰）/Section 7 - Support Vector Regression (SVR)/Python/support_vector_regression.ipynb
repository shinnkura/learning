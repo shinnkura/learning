{
 "cells": [
  {
   "cell_type": "markdown",
   "metadata": {
    "id": "m3PAEPRDRLA3"
   },
   "source": [
    "# サポートベクトル回帰 (SVR)"
   ]
  },
  {
   "cell_type": "markdown",
   "metadata": {
    "id": "0VCUAVIjRdzZ"
   },
   "source": [
    "## ライブラリのインポート"
   ]
  },
  {
   "cell_type": "code",
   "execution_count": 1,
   "metadata": {
    "executionInfo": {
     "elapsed": 384,
     "status": "ok",
     "timestamp": 1646365054558,
     "user": {
      "displayName": "大橋亮太",
      "photoUrl": "https://lh3.googleusercontent.com/a-/AOh14Gj8j5XpwVyO-y4-YaxEuoB3oe5fb7-dQoDkMIp0Y77ZeT6zu0fm8daUIk97KT_y3q8KdPXD6CfRfx3XbOtOYZmexTQA0b2EVIqF1w1Ox6t7rBbr1okqkFC6pACT1L49V_f6Qb88rrGDx7h9Cgop-WRi_Sq_S14zFU-JsJYWtHuYuhDo9pFCaqFxnTDiEttZueMag2ZTe0RFdm3no0tF98bnN34nq41FYERQglQr2FOfLjc0u6LSBkdFLnqPkQ7l1C6JQMUeYsiV1Vy1F0Y8keC8Pzn94LiOLEY0NGdj0s1TuJbz_PsqQ9ae-w2nrkesN4SAZuF0dYCjWTZwRhMUDFZlm4UODspZdC8g7wG2F15eji8BS5GUd_o_yk8ZoBpz8di-a8nQ7ASFShdV_UF-ut-voi5w1OojP5WQBOHi3WxdoJUUXKLxRENkZVyyDz7ypTLRsVbLmc7Or26tSpWTqHUGYv52Pu4yHFYYITYG-fab1Gr6SBmPEnzVzwxWuTsiS1VP4SJTKmKKLqzt3SBYRzE61R248yp4xt3xYLT0c60uURXyEhH05NEFMJV-yupvIqzwM2qtiw7W-QjRgcuVe7EZl7eqm8tugPrbzPrEPYOox2FWlTWOZpPTtM2HuxtNyGuzkc59lov7umnd_yd2-xtAjovfF1tg8LZGcN7a2z4fhpfNS4VI6TR6sZ6Bmnmu4NYl-S81osOVHejRf7FXH7RgNfKz3BgdyC13--AMQ3QyU4H6ojVLWQKmNC8Dk8l1uT9DAQ=s64",
      "userId": "04193769736923210432"
     },
     "user_tz": -540
    },
    "id": "56oRF-QfSDzC"
   },
   "outputs": [],
   "source": [
    "import numpy as np\n",
    "import matplotlib.pyplot as plt\n",
    "import pandas as pd"
   ]
  },
  {
   "cell_type": "markdown",
   "metadata": {
    "id": "fXVXoFWtSF4_"
   },
   "source": [
    "## データセットのインポート"
   ]
  },
  {
   "cell_type": "code",
   "execution_count": 2,
   "metadata": {
    "executionInfo": {
     "elapsed": 384,
     "status": "ok",
     "timestamp": 1646365069078,
     "user": {
      "displayName": "大橋亮太",
      "photoUrl": "https://lh3.googleusercontent.com/a-/AOh14Gj8j5XpwVyO-y4-YaxEuoB3oe5fb7-dQoDkMIp0Y77ZeT6zu0fm8daUIk97KT_y3q8KdPXD6CfRfx3XbOtOYZmexTQA0b2EVIqF1w1Ox6t7rBbr1okqkFC6pACT1L49V_f6Qb88rrGDx7h9Cgop-WRi_Sq_S14zFU-JsJYWtHuYuhDo9pFCaqFxnTDiEttZueMag2ZTe0RFdm3no0tF98bnN34nq41FYERQglQr2FOfLjc0u6LSBkdFLnqPkQ7l1C6JQMUeYsiV1Vy1F0Y8keC8Pzn94LiOLEY0NGdj0s1TuJbz_PsqQ9ae-w2nrkesN4SAZuF0dYCjWTZwRhMUDFZlm4UODspZdC8g7wG2F15eji8BS5GUd_o_yk8ZoBpz8di-a8nQ7ASFShdV_UF-ut-voi5w1OojP5WQBOHi3WxdoJUUXKLxRENkZVyyDz7ypTLRsVbLmc7Or26tSpWTqHUGYv52Pu4yHFYYITYG-fab1Gr6SBmPEnzVzwxWuTsiS1VP4SJTKmKKLqzt3SBYRzE61R248yp4xt3xYLT0c60uURXyEhH05NEFMJV-yupvIqzwM2qtiw7W-QjRgcuVe7EZl7eqm8tugPrbzPrEPYOox2FWlTWOZpPTtM2HuxtNyGuzkc59lov7umnd_yd2-xtAjovfF1tg8LZGcN7a2z4fhpfNS4VI6TR6sZ6Bmnmu4NYl-S81osOVHejRf7FXH7RgNfKz3BgdyC13--AMQ3QyU4H6ojVLWQKmNC8Dk8l1uT9DAQ=s64",
      "userId": "04193769736923210432"
     },
     "user_tz": -540
    },
    "id": "xfoa8OSORfHQ"
   },
   "outputs": [],
   "source": [
    "dataset = pd.read_csv('Position_Salaries.csv')\n",
    "X = dataset.iloc[:, 1:-1].values\n",
    "y = dataset.iloc[:, -1].values"
   ]
  },
  {
   "cell_type": "code",
   "execution_count": 3,
   "metadata": {
    "colab": {
     "base_uri": "https://localhost:8080/"
    },
    "executionInfo": {
     "elapsed": 3,
     "status": "ok",
     "timestamp": 1646365070404,
     "user": {
      "displayName": "大橋亮太",
      "photoUrl": "https://lh3.googleusercontent.com/a-/AOh14Gj8j5XpwVyO-y4-YaxEuoB3oe5fb7-dQoDkMIp0Y77ZeT6zu0fm8daUIk97KT_y3q8KdPXD6CfRfx3XbOtOYZmexTQA0b2EVIqF1w1Ox6t7rBbr1okqkFC6pACT1L49V_f6Qb88rrGDx7h9Cgop-WRi_Sq_S14zFU-JsJYWtHuYuhDo9pFCaqFxnTDiEttZueMag2ZTe0RFdm3no0tF98bnN34nq41FYERQglQr2FOfLjc0u6LSBkdFLnqPkQ7l1C6JQMUeYsiV1Vy1F0Y8keC8Pzn94LiOLEY0NGdj0s1TuJbz_PsqQ9ae-w2nrkesN4SAZuF0dYCjWTZwRhMUDFZlm4UODspZdC8g7wG2F15eji8BS5GUd_o_yk8ZoBpz8di-a8nQ7ASFShdV_UF-ut-voi5w1OojP5WQBOHi3WxdoJUUXKLxRENkZVyyDz7ypTLRsVbLmc7Or26tSpWTqHUGYv52Pu4yHFYYITYG-fab1Gr6SBmPEnzVzwxWuTsiS1VP4SJTKmKKLqzt3SBYRzE61R248yp4xt3xYLT0c60uURXyEhH05NEFMJV-yupvIqzwM2qtiw7W-QjRgcuVe7EZl7eqm8tugPrbzPrEPYOox2FWlTWOZpPTtM2HuxtNyGuzkc59lov7umnd_yd2-xtAjovfF1tg8LZGcN7a2z4fhpfNS4VI6TR6sZ6Bmnmu4NYl-S81osOVHejRf7FXH7RgNfKz3BgdyC13--AMQ3QyU4H6ojVLWQKmNC8Dk8l1uT9DAQ=s64",
      "userId": "04193769736923210432"
     },
     "user_tz": -540
    },
    "id": "fAWJV6gpiTYM",
    "outputId": "3532f4a0-4730-4989-cebd-1312bde806de"
   },
   "outputs": [
    {
     "name": "stdout",
     "output_type": "stream",
     "text": [
      "[[ 1]\n",
      " [ 2]\n",
      " [ 3]\n",
      " [ 4]\n",
      " [ 5]\n",
      " [ 6]\n",
      " [ 7]\n",
      " [ 8]\n",
      " [ 9]\n",
      " [10]]\n"
     ]
    }
   ],
   "source": [
    "print(X)"
   ]
  },
  {
   "cell_type": "code",
   "execution_count": 4,
   "metadata": {
    "colab": {
     "base_uri": "https://localhost:8080/"
    },
    "executionInfo": {
     "elapsed": 3,
     "status": "ok",
     "timestamp": 1646365070405,
     "user": {
      "displayName": "大橋亮太",
      "photoUrl": "https://lh3.googleusercontent.com/a-/AOh14Gj8j5XpwVyO-y4-YaxEuoB3oe5fb7-dQoDkMIp0Y77ZeT6zu0fm8daUIk97KT_y3q8KdPXD6CfRfx3XbOtOYZmexTQA0b2EVIqF1w1Ox6t7rBbr1okqkFC6pACT1L49V_f6Qb88rrGDx7h9Cgop-WRi_Sq_S14zFU-JsJYWtHuYuhDo9pFCaqFxnTDiEttZueMag2ZTe0RFdm3no0tF98bnN34nq41FYERQglQr2FOfLjc0u6LSBkdFLnqPkQ7l1C6JQMUeYsiV1Vy1F0Y8keC8Pzn94LiOLEY0NGdj0s1TuJbz_PsqQ9ae-w2nrkesN4SAZuF0dYCjWTZwRhMUDFZlm4UODspZdC8g7wG2F15eji8BS5GUd_o_yk8ZoBpz8di-a8nQ7ASFShdV_UF-ut-voi5w1OojP5WQBOHi3WxdoJUUXKLxRENkZVyyDz7ypTLRsVbLmc7Or26tSpWTqHUGYv52Pu4yHFYYITYG-fab1Gr6SBmPEnzVzwxWuTsiS1VP4SJTKmKKLqzt3SBYRzE61R248yp4xt3xYLT0c60uURXyEhH05NEFMJV-yupvIqzwM2qtiw7W-QjRgcuVe7EZl7eqm8tugPrbzPrEPYOox2FWlTWOZpPTtM2HuxtNyGuzkc59lov7umnd_yd2-xtAjovfF1tg8LZGcN7a2z4fhpfNS4VI6TR6sZ6Bmnmu4NYl-S81osOVHejRf7FXH7RgNfKz3BgdyC13--AMQ3QyU4H6ojVLWQKmNC8Dk8l1uT9DAQ=s64",
      "userId": "04193769736923210432"
     },
     "user_tz": -540
    },
    "id": "P1CzeAyRiU3c",
    "outputId": "64c8dc08-7473-40e7-ae52-5e54e737af44"
   },
   "outputs": [
    {
     "name": "stdout",
     "output_type": "stream",
     "text": [
      "[  45000   50000   60000   80000  110000  150000  200000  300000  500000\n",
      " 1000000]\n"
     ]
    }
   ],
   "source": [
    "print(y)"
   ]
  },
  {
   "cell_type": "code",
   "execution_count": 6,
   "metadata": {
    "executionInfo": {
     "elapsed": 4,
     "status": "ok",
     "timestamp": 1646365070857,
     "user": {
      "displayName": "大橋亮太",
      "photoUrl": "https://lh3.googleusercontent.com/a-/AOh14Gj8j5XpwVyO-y4-YaxEuoB3oe5fb7-dQoDkMIp0Y77ZeT6zu0fm8daUIk97KT_y3q8KdPXD6CfRfx3XbOtOYZmexTQA0b2EVIqF1w1Ox6t7rBbr1okqkFC6pACT1L49V_f6Qb88rrGDx7h9Cgop-WRi_Sq_S14zFU-JsJYWtHuYuhDo9pFCaqFxnTDiEttZueMag2ZTe0RFdm3no0tF98bnN34nq41FYERQglQr2FOfLjc0u6LSBkdFLnqPkQ7l1C6JQMUeYsiV1Vy1F0Y8keC8Pzn94LiOLEY0NGdj0s1TuJbz_PsqQ9ae-w2nrkesN4SAZuF0dYCjWTZwRhMUDFZlm4UODspZdC8g7wG2F15eji8BS5GUd_o_yk8ZoBpz8di-a8nQ7ASFShdV_UF-ut-voi5w1OojP5WQBOHi3WxdoJUUXKLxRENkZVyyDz7ypTLRsVbLmc7Or26tSpWTqHUGYv52Pu4yHFYYITYG-fab1Gr6SBmPEnzVzwxWuTsiS1VP4SJTKmKKLqzt3SBYRzE61R248yp4xt3xYLT0c60uURXyEhH05NEFMJV-yupvIqzwM2qtiw7W-QjRgcuVe7EZl7eqm8tugPrbzPrEPYOox2FWlTWOZpPTtM2HuxtNyGuzkc59lov7umnd_yd2-xtAjovfF1tg8LZGcN7a2z4fhpfNS4VI6TR6sZ6Bmnmu4NYl-S81osOVHejRf7FXH7RgNfKz3BgdyC13--AMQ3QyU4H6ojVLWQKmNC8Dk8l1uT9DAQ=s64",
      "userId": "04193769736923210432"
     },
     "user_tz": -540
    },
    "id": "_8Ny1GfPiV3m"
   },
   "outputs": [],
   "source": [
    "# この後、標準化をする際に、1D配列ではなく2D配列にする必要がある\n",
    "y = y.reshape(len(y),1)"
   ]
  },
  {
   "cell_type": "code",
   "execution_count": 7,
   "metadata": {
    "colab": {
     "base_uri": "https://localhost:8080/"
    },
    "executionInfo": {
     "elapsed": 5,
     "status": "ok",
     "timestamp": 1646365070858,
     "user": {
      "displayName": "大橋亮太",
      "photoUrl": "https://lh3.googleusercontent.com/a-/AOh14Gj8j5XpwVyO-y4-YaxEuoB3oe5fb7-dQoDkMIp0Y77ZeT6zu0fm8daUIk97KT_y3q8KdPXD6CfRfx3XbOtOYZmexTQA0b2EVIqF1w1Ox6t7rBbr1okqkFC6pACT1L49V_f6Qb88rrGDx7h9Cgop-WRi_Sq_S14zFU-JsJYWtHuYuhDo9pFCaqFxnTDiEttZueMag2ZTe0RFdm3no0tF98bnN34nq41FYERQglQr2FOfLjc0u6LSBkdFLnqPkQ7l1C6JQMUeYsiV1Vy1F0Y8keC8Pzn94LiOLEY0NGdj0s1TuJbz_PsqQ9ae-w2nrkesN4SAZuF0dYCjWTZwRhMUDFZlm4UODspZdC8g7wG2F15eji8BS5GUd_o_yk8ZoBpz8di-a8nQ7ASFShdV_UF-ut-voi5w1OojP5WQBOHi3WxdoJUUXKLxRENkZVyyDz7ypTLRsVbLmc7Or26tSpWTqHUGYv52Pu4yHFYYITYG-fab1Gr6SBmPEnzVzwxWuTsiS1VP4SJTKmKKLqzt3SBYRzE61R248yp4xt3xYLT0c60uURXyEhH05NEFMJV-yupvIqzwM2qtiw7W-QjRgcuVe7EZl7eqm8tugPrbzPrEPYOox2FWlTWOZpPTtM2HuxtNyGuzkc59lov7umnd_yd2-xtAjovfF1tg8LZGcN7a2z4fhpfNS4VI6TR6sZ6Bmnmu4NYl-S81osOVHejRf7FXH7RgNfKz3BgdyC13--AMQ3QyU4H6ojVLWQKmNC8Dk8l1uT9DAQ=s64",
      "userId": "04193769736923210432"
     },
     "user_tz": -540
    },
    "id": "D4aFLlbziaV9",
    "outputId": "3accde04-b9ed-4635-c6a4-0baf35e19976"
   },
   "outputs": [
    {
     "name": "stdout",
     "output_type": "stream",
     "text": [
      "[[  45000]\n",
      " [  50000]\n",
      " [  60000]\n",
      " [  80000]\n",
      " [ 110000]\n",
      " [ 150000]\n",
      " [ 200000]\n",
      " [ 300000]\n",
      " [ 500000]\n",
      " [1000000]]\n"
     ]
    }
   ],
   "source": [
    "print(y)"
   ]
  },
  {
   "cell_type": "markdown",
   "metadata": {
    "id": "YS8FeLHYS-nI"
   },
   "source": [
    "## フィーチャースケーリング"
   ]
  },
  {
   "cell_type": "code",
   "execution_count": 8,
   "metadata": {
    "executionInfo": {
     "elapsed": 915,
     "status": "ok",
     "timestamp": 1646365071769,
     "user": {
      "displayName": "大橋亮太",
      "photoUrl": "https://lh3.googleusercontent.com/a-/AOh14Gj8j5XpwVyO-y4-YaxEuoB3oe5fb7-dQoDkMIp0Y77ZeT6zu0fm8daUIk97KT_y3q8KdPXD6CfRfx3XbOtOYZmexTQA0b2EVIqF1w1Ox6t7rBbr1okqkFC6pACT1L49V_f6Qb88rrGDx7h9Cgop-WRi_Sq_S14zFU-JsJYWtHuYuhDo9pFCaqFxnTDiEttZueMag2ZTe0RFdm3no0tF98bnN34nq41FYERQglQr2FOfLjc0u6LSBkdFLnqPkQ7l1C6JQMUeYsiV1Vy1F0Y8keC8Pzn94LiOLEY0NGdj0s1TuJbz_PsqQ9ae-w2nrkesN4SAZuF0dYCjWTZwRhMUDFZlm4UODspZdC8g7wG2F15eji8BS5GUd_o_yk8ZoBpz8di-a8nQ7ASFShdV_UF-ut-voi5w1OojP5WQBOHi3WxdoJUUXKLxRENkZVyyDz7ypTLRsVbLmc7Or26tSpWTqHUGYv52Pu4yHFYYITYG-fab1Gr6SBmPEnzVzwxWuTsiS1VP4SJTKmKKLqzt3SBYRzE61R248yp4xt3xYLT0c60uURXyEhH05NEFMJV-yupvIqzwM2qtiw7W-QjRgcuVe7EZl7eqm8tugPrbzPrEPYOox2FWlTWOZpPTtM2HuxtNyGuzkc59lov7umnd_yd2-xtAjovfF1tg8LZGcN7a2z4fhpfNS4VI6TR6sZ6Bmnmu4NYl-S81osOVHejRf7FXH7RgNfKz3BgdyC13--AMQ3QyU4H6ojVLWQKmNC8Dk8l1uT9DAQ=s64",
      "userId": "04193769736923210432"
     },
     "user_tz": -540
    },
    "id": "PGeAlD1HTDI1"
   },
   "outputs": [],
   "source": [
    "from sklearn.preprocessing import StandardScaler\n",
    "sc_X = StandardScaler() # 標準化\n",
    "sc_y = StandardScaler()\n",
    "X = sc_X.fit_transform(X) # 標準化の実行\n",
    "y = sc_y.fit_transform(y)"
   ]
  },
  {
   "cell_type": "code",
   "execution_count": 9,
   "metadata": {
    "colab": {
     "base_uri": "https://localhost:8080/"
    },
    "executionInfo": {
     "elapsed": 5,
     "status": "ok",
     "timestamp": 1646365071769,
     "user": {
      "displayName": "大橋亮太",
      "photoUrl": "https://lh3.googleusercontent.com/a-/AOh14Gj8j5XpwVyO-y4-YaxEuoB3oe5fb7-dQoDkMIp0Y77ZeT6zu0fm8daUIk97KT_y3q8KdPXD6CfRfx3XbOtOYZmexTQA0b2EVIqF1w1Ox6t7rBbr1okqkFC6pACT1L49V_f6Qb88rrGDx7h9Cgop-WRi_Sq_S14zFU-JsJYWtHuYuhDo9pFCaqFxnTDiEttZueMag2ZTe0RFdm3no0tF98bnN34nq41FYERQglQr2FOfLjc0u6LSBkdFLnqPkQ7l1C6JQMUeYsiV1Vy1F0Y8keC8Pzn94LiOLEY0NGdj0s1TuJbz_PsqQ9ae-w2nrkesN4SAZuF0dYCjWTZwRhMUDFZlm4UODspZdC8g7wG2F15eji8BS5GUd_o_yk8ZoBpz8di-a8nQ7ASFShdV_UF-ut-voi5w1OojP5WQBOHi3WxdoJUUXKLxRENkZVyyDz7ypTLRsVbLmc7Or26tSpWTqHUGYv52Pu4yHFYYITYG-fab1Gr6SBmPEnzVzwxWuTsiS1VP4SJTKmKKLqzt3SBYRzE61R248yp4xt3xYLT0c60uURXyEhH05NEFMJV-yupvIqzwM2qtiw7W-QjRgcuVe7EZl7eqm8tugPrbzPrEPYOox2FWlTWOZpPTtM2HuxtNyGuzkc59lov7umnd_yd2-xtAjovfF1tg8LZGcN7a2z4fhpfNS4VI6TR6sZ6Bmnmu4NYl-S81osOVHejRf7FXH7RgNfKz3BgdyC13--AMQ3QyU4H6ojVLWQKmNC8Dk8l1uT9DAQ=s64",
      "userId": "04193769736923210432"
     },
     "user_tz": -540
    },
    "id": "nXa8Z9FgjFTQ",
    "outputId": "7a147929-6ee5-4a4b-e960-42da5f36c9c8"
   },
   "outputs": [
    {
     "name": "stdout",
     "output_type": "stream",
     "text": [
      "[[-1.5666989 ]\n",
      " [-1.21854359]\n",
      " [-0.87038828]\n",
      " [-0.52223297]\n",
      " [-0.17407766]\n",
      " [ 0.17407766]\n",
      " [ 0.52223297]\n",
      " [ 0.87038828]\n",
      " [ 1.21854359]\n",
      " [ 1.5666989 ]]\n"
     ]
    }
   ],
   "source": [
    "print(X)"
   ]
  },
  {
   "cell_type": "code",
   "execution_count": 10,
   "metadata": {
    "colab": {
     "base_uri": "https://localhost:8080/"
    },
    "executionInfo": {
     "elapsed": 5,
     "status": "ok",
     "timestamp": 1646365071770,
     "user": {
      "displayName": "大橋亮太",
      "photoUrl": "https://lh3.googleusercontent.com/a-/AOh14Gj8j5XpwVyO-y4-YaxEuoB3oe5fb7-dQoDkMIp0Y77ZeT6zu0fm8daUIk97KT_y3q8KdPXD6CfRfx3XbOtOYZmexTQA0b2EVIqF1w1Ox6t7rBbr1okqkFC6pACT1L49V_f6Qb88rrGDx7h9Cgop-WRi_Sq_S14zFU-JsJYWtHuYuhDo9pFCaqFxnTDiEttZueMag2ZTe0RFdm3no0tF98bnN34nq41FYERQglQr2FOfLjc0u6LSBkdFLnqPkQ7l1C6JQMUeYsiV1Vy1F0Y8keC8Pzn94LiOLEY0NGdj0s1TuJbz_PsqQ9ae-w2nrkesN4SAZuF0dYCjWTZwRhMUDFZlm4UODspZdC8g7wG2F15eji8BS5GUd_o_yk8ZoBpz8di-a8nQ7ASFShdV_UF-ut-voi5w1OojP5WQBOHi3WxdoJUUXKLxRENkZVyyDz7ypTLRsVbLmc7Or26tSpWTqHUGYv52Pu4yHFYYITYG-fab1Gr6SBmPEnzVzwxWuTsiS1VP4SJTKmKKLqzt3SBYRzE61R248yp4xt3xYLT0c60uURXyEhH05NEFMJV-yupvIqzwM2qtiw7W-QjRgcuVe7EZl7eqm8tugPrbzPrEPYOox2FWlTWOZpPTtM2HuxtNyGuzkc59lov7umnd_yd2-xtAjovfF1tg8LZGcN7a2z4fhpfNS4VI6TR6sZ6Bmnmu4NYl-S81osOVHejRf7FXH7RgNfKz3BgdyC13--AMQ3QyU4H6ojVLWQKmNC8Dk8l1uT9DAQ=s64",
      "userId": "04193769736923210432"
     },
     "user_tz": -540
    },
    "id": "i7Oo2kybjGr2",
    "outputId": "916245ce-296b-42b8-906a-196de02c1f36"
   },
   "outputs": [
    {
     "name": "stdout",
     "output_type": "stream",
     "text": [
      "[[-0.72004253]\n",
      " [-0.70243757]\n",
      " [-0.66722767]\n",
      " [-0.59680786]\n",
      " [-0.49117815]\n",
      " [-0.35033854]\n",
      " [-0.17428902]\n",
      " [ 0.17781001]\n",
      " [ 0.88200808]\n",
      " [ 2.64250325]]\n"
     ]
    }
   ],
   "source": [
    "print(y)"
   ]
  },
  {
   "cell_type": "markdown",
   "metadata": {
    "id": "eiU6D2QFRjxY"
   },
   "source": [
    "## 訓練用データセットを使ったモデルの訓練"
   ]
  },
  {
   "cell_type": "code",
   "execution_count": 11,
   "metadata": {
    "colab": {
     "base_uri": "https://localhost:8080/"
    },
    "executionInfo": {
     "elapsed": 432,
     "status": "ok",
     "timestamp": 1646365072199,
     "user": {
      "displayName": "大橋亮太",
      "photoUrl": "https://lh3.googleusercontent.com/a-/AOh14Gj8j5XpwVyO-y4-YaxEuoB3oe5fb7-dQoDkMIp0Y77ZeT6zu0fm8daUIk97KT_y3q8KdPXD6CfRfx3XbOtOYZmexTQA0b2EVIqF1w1Ox6t7rBbr1okqkFC6pACT1L49V_f6Qb88rrGDx7h9Cgop-WRi_Sq_S14zFU-JsJYWtHuYuhDo9pFCaqFxnTDiEttZueMag2ZTe0RFdm3no0tF98bnN34nq41FYERQglQr2FOfLjc0u6LSBkdFLnqPkQ7l1C6JQMUeYsiV1Vy1F0Y8keC8Pzn94LiOLEY0NGdj0s1TuJbz_PsqQ9ae-w2nrkesN4SAZuF0dYCjWTZwRhMUDFZlm4UODspZdC8g7wG2F15eji8BS5GUd_o_yk8ZoBpz8di-a8nQ7ASFShdV_UF-ut-voi5w1OojP5WQBOHi3WxdoJUUXKLxRENkZVyyDz7ypTLRsVbLmc7Or26tSpWTqHUGYv52Pu4yHFYYITYG-fab1Gr6SBmPEnzVzwxWuTsiS1VP4SJTKmKKLqzt3SBYRzE61R248yp4xt3xYLT0c60uURXyEhH05NEFMJV-yupvIqzwM2qtiw7W-QjRgcuVe7EZl7eqm8tugPrbzPrEPYOox2FWlTWOZpPTtM2HuxtNyGuzkc59lov7umnd_yd2-xtAjovfF1tg8LZGcN7a2z4fhpfNS4VI6TR6sZ6Bmnmu4NYl-S81osOVHejRf7FXH7RgNfKz3BgdyC13--AMQ3QyU4H6ojVLWQKmNC8Dk8l1uT9DAQ=s64",
      "userId": "04193769736923210432"
     },
     "user_tz": -540
    },
    "id": "y6R4rt_GRz15",
    "outputId": "cfd722c7-beea-48f4-e090-c463b2eb1585"
   },
   "outputs": [
    {
     "name": "stderr",
     "output_type": "stream",
     "text": [
      "/Users/shinzonakaoka/Library/Python/3.12/lib/python/site-packages/sklearn/utils/validation.py:1408: DataConversionWarning: A column-vector y was passed when a 1d array was expected. Please change the shape of y to (n_samples, ), for example using ravel().\n",
      "  y = column_or_1d(y, warn=True)\n"
     ]
    },
    {
     "data": {
      "text/html": [
       "<style>#sk-container-id-1 {\n",
       "  /* Definition of color scheme common for light and dark mode */\n",
       "  --sklearn-color-text: #000;\n",
       "  --sklearn-color-text-muted: #666;\n",
       "  --sklearn-color-line: gray;\n",
       "  /* Definition of color scheme for unfitted estimators */\n",
       "  --sklearn-color-unfitted-level-0: #fff5e6;\n",
       "  --sklearn-color-unfitted-level-1: #f6e4d2;\n",
       "  --sklearn-color-unfitted-level-2: #ffe0b3;\n",
       "  --sklearn-color-unfitted-level-3: chocolate;\n",
       "  /* Definition of color scheme for fitted estimators */\n",
       "  --sklearn-color-fitted-level-0: #f0f8ff;\n",
       "  --sklearn-color-fitted-level-1: #d4ebff;\n",
       "  --sklearn-color-fitted-level-2: #b3dbfd;\n",
       "  --sklearn-color-fitted-level-3: cornflowerblue;\n",
       "\n",
       "  /* Specific color for light theme */\n",
       "  --sklearn-color-text-on-default-background: var(--sg-text-color, var(--theme-code-foreground, var(--jp-content-font-color1, black)));\n",
       "  --sklearn-color-background: var(--sg-background-color, var(--theme-background, var(--jp-layout-color0, white)));\n",
       "  --sklearn-color-border-box: var(--sg-text-color, var(--theme-code-foreground, var(--jp-content-font-color1, black)));\n",
       "  --sklearn-color-icon: #696969;\n",
       "\n",
       "  @media (prefers-color-scheme: dark) {\n",
       "    /* Redefinition of color scheme for dark theme */\n",
       "    --sklearn-color-text-on-default-background: var(--sg-text-color, var(--theme-code-foreground, var(--jp-content-font-color1, white)));\n",
       "    --sklearn-color-background: var(--sg-background-color, var(--theme-background, var(--jp-layout-color0, #111)));\n",
       "    --sklearn-color-border-box: var(--sg-text-color, var(--theme-code-foreground, var(--jp-content-font-color1, white)));\n",
       "    --sklearn-color-icon: #878787;\n",
       "  }\n",
       "}\n",
       "\n",
       "#sk-container-id-1 {\n",
       "  color: var(--sklearn-color-text);\n",
       "}\n",
       "\n",
       "#sk-container-id-1 pre {\n",
       "  padding: 0;\n",
       "}\n",
       "\n",
       "#sk-container-id-1 input.sk-hidden--visually {\n",
       "  border: 0;\n",
       "  clip: rect(1px 1px 1px 1px);\n",
       "  clip: rect(1px, 1px, 1px, 1px);\n",
       "  height: 1px;\n",
       "  margin: -1px;\n",
       "  overflow: hidden;\n",
       "  padding: 0;\n",
       "  position: absolute;\n",
       "  width: 1px;\n",
       "}\n",
       "\n",
       "#sk-container-id-1 div.sk-dashed-wrapped {\n",
       "  border: 1px dashed var(--sklearn-color-line);\n",
       "  margin: 0 0.4em 0.5em 0.4em;\n",
       "  box-sizing: border-box;\n",
       "  padding-bottom: 0.4em;\n",
       "  background-color: var(--sklearn-color-background);\n",
       "}\n",
       "\n",
       "#sk-container-id-1 div.sk-container {\n",
       "  /* jupyter's `normalize.less` sets `[hidden] { display: none; }`\n",
       "     but bootstrap.min.css set `[hidden] { display: none !important; }`\n",
       "     so we also need the `!important` here to be able to override the\n",
       "     default hidden behavior on the sphinx rendered scikit-learn.org.\n",
       "     See: https://github.com/scikit-learn/scikit-learn/issues/21755 */\n",
       "  display: inline-block !important;\n",
       "  position: relative;\n",
       "}\n",
       "\n",
       "#sk-container-id-1 div.sk-text-repr-fallback {\n",
       "  display: none;\n",
       "}\n",
       "\n",
       "div.sk-parallel-item,\n",
       "div.sk-serial,\n",
       "div.sk-item {\n",
       "  /* draw centered vertical line to link estimators */\n",
       "  background-image: linear-gradient(var(--sklearn-color-text-on-default-background), var(--sklearn-color-text-on-default-background));\n",
       "  background-size: 2px 100%;\n",
       "  background-repeat: no-repeat;\n",
       "  background-position: center center;\n",
       "}\n",
       "\n",
       "/* Parallel-specific style estimator block */\n",
       "\n",
       "#sk-container-id-1 div.sk-parallel-item::after {\n",
       "  content: \"\";\n",
       "  width: 100%;\n",
       "  border-bottom: 2px solid var(--sklearn-color-text-on-default-background);\n",
       "  flex-grow: 1;\n",
       "}\n",
       "\n",
       "#sk-container-id-1 div.sk-parallel {\n",
       "  display: flex;\n",
       "  align-items: stretch;\n",
       "  justify-content: center;\n",
       "  background-color: var(--sklearn-color-background);\n",
       "  position: relative;\n",
       "}\n",
       "\n",
       "#sk-container-id-1 div.sk-parallel-item {\n",
       "  display: flex;\n",
       "  flex-direction: column;\n",
       "}\n",
       "\n",
       "#sk-container-id-1 div.sk-parallel-item:first-child::after {\n",
       "  align-self: flex-end;\n",
       "  width: 50%;\n",
       "}\n",
       "\n",
       "#sk-container-id-1 div.sk-parallel-item:last-child::after {\n",
       "  align-self: flex-start;\n",
       "  width: 50%;\n",
       "}\n",
       "\n",
       "#sk-container-id-1 div.sk-parallel-item:only-child::after {\n",
       "  width: 0;\n",
       "}\n",
       "\n",
       "/* Serial-specific style estimator block */\n",
       "\n",
       "#sk-container-id-1 div.sk-serial {\n",
       "  display: flex;\n",
       "  flex-direction: column;\n",
       "  align-items: center;\n",
       "  background-color: var(--sklearn-color-background);\n",
       "  padding-right: 1em;\n",
       "  padding-left: 1em;\n",
       "}\n",
       "\n",
       "\n",
       "/* Toggleable style: style used for estimator/Pipeline/ColumnTransformer box that is\n",
       "clickable and can be expanded/collapsed.\n",
       "- Pipeline and ColumnTransformer use this feature and define the default style\n",
       "- Estimators will overwrite some part of the style using the `sk-estimator` class\n",
       "*/\n",
       "\n",
       "/* Pipeline and ColumnTransformer style (default) */\n",
       "\n",
       "#sk-container-id-1 div.sk-toggleable {\n",
       "  /* Default theme specific background. It is overwritten whether we have a\n",
       "  specific estimator or a Pipeline/ColumnTransformer */\n",
       "  background-color: var(--sklearn-color-background);\n",
       "}\n",
       "\n",
       "/* Toggleable label */\n",
       "#sk-container-id-1 label.sk-toggleable__label {\n",
       "  cursor: pointer;\n",
       "  display: flex;\n",
       "  width: 100%;\n",
       "  margin-bottom: 0;\n",
       "  padding: 0.5em;\n",
       "  box-sizing: border-box;\n",
       "  text-align: center;\n",
       "  align-items: start;\n",
       "  justify-content: space-between;\n",
       "  gap: 0.5em;\n",
       "}\n",
       "\n",
       "#sk-container-id-1 label.sk-toggleable__label .caption {\n",
       "  font-size: 0.6rem;\n",
       "  font-weight: lighter;\n",
       "  color: var(--sklearn-color-text-muted);\n",
       "}\n",
       "\n",
       "#sk-container-id-1 label.sk-toggleable__label-arrow:before {\n",
       "  /* Arrow on the left of the label */\n",
       "  content: \"▸\";\n",
       "  float: left;\n",
       "  margin-right: 0.25em;\n",
       "  color: var(--sklearn-color-icon);\n",
       "}\n",
       "\n",
       "#sk-container-id-1 label.sk-toggleable__label-arrow:hover:before {\n",
       "  color: var(--sklearn-color-text);\n",
       "}\n",
       "\n",
       "/* Toggleable content - dropdown */\n",
       "\n",
       "#sk-container-id-1 div.sk-toggleable__content {\n",
       "  max-height: 0;\n",
       "  max-width: 0;\n",
       "  overflow: hidden;\n",
       "  text-align: left;\n",
       "  /* unfitted */\n",
       "  background-color: var(--sklearn-color-unfitted-level-0);\n",
       "}\n",
       "\n",
       "#sk-container-id-1 div.sk-toggleable__content.fitted {\n",
       "  /* fitted */\n",
       "  background-color: var(--sklearn-color-fitted-level-0);\n",
       "}\n",
       "\n",
       "#sk-container-id-1 div.sk-toggleable__content pre {\n",
       "  margin: 0.2em;\n",
       "  border-radius: 0.25em;\n",
       "  color: var(--sklearn-color-text);\n",
       "  /* unfitted */\n",
       "  background-color: var(--sklearn-color-unfitted-level-0);\n",
       "}\n",
       "\n",
       "#sk-container-id-1 div.sk-toggleable__content.fitted pre {\n",
       "  /* unfitted */\n",
       "  background-color: var(--sklearn-color-fitted-level-0);\n",
       "}\n",
       "\n",
       "#sk-container-id-1 input.sk-toggleable__control:checked~div.sk-toggleable__content {\n",
       "  /* Expand drop-down */\n",
       "  max-height: 200px;\n",
       "  max-width: 100%;\n",
       "  overflow: auto;\n",
       "}\n",
       "\n",
       "#sk-container-id-1 input.sk-toggleable__control:checked~label.sk-toggleable__label-arrow:before {\n",
       "  content: \"▾\";\n",
       "}\n",
       "\n",
       "/* Pipeline/ColumnTransformer-specific style */\n",
       "\n",
       "#sk-container-id-1 div.sk-label input.sk-toggleable__control:checked~label.sk-toggleable__label {\n",
       "  color: var(--sklearn-color-text);\n",
       "  background-color: var(--sklearn-color-unfitted-level-2);\n",
       "}\n",
       "\n",
       "#sk-container-id-1 div.sk-label.fitted input.sk-toggleable__control:checked~label.sk-toggleable__label {\n",
       "  background-color: var(--sklearn-color-fitted-level-2);\n",
       "}\n",
       "\n",
       "/* Estimator-specific style */\n",
       "\n",
       "/* Colorize estimator box */\n",
       "#sk-container-id-1 div.sk-estimator input.sk-toggleable__control:checked~label.sk-toggleable__label {\n",
       "  /* unfitted */\n",
       "  background-color: var(--sklearn-color-unfitted-level-2);\n",
       "}\n",
       "\n",
       "#sk-container-id-1 div.sk-estimator.fitted input.sk-toggleable__control:checked~label.sk-toggleable__label {\n",
       "  /* fitted */\n",
       "  background-color: var(--sklearn-color-fitted-level-2);\n",
       "}\n",
       "\n",
       "#sk-container-id-1 div.sk-label label.sk-toggleable__label,\n",
       "#sk-container-id-1 div.sk-label label {\n",
       "  /* The background is the default theme color */\n",
       "  color: var(--sklearn-color-text-on-default-background);\n",
       "}\n",
       "\n",
       "/* On hover, darken the color of the background */\n",
       "#sk-container-id-1 div.sk-label:hover label.sk-toggleable__label {\n",
       "  color: var(--sklearn-color-text);\n",
       "  background-color: var(--sklearn-color-unfitted-level-2);\n",
       "}\n",
       "\n",
       "/* Label box, darken color on hover, fitted */\n",
       "#sk-container-id-1 div.sk-label.fitted:hover label.sk-toggleable__label.fitted {\n",
       "  color: var(--sklearn-color-text);\n",
       "  background-color: var(--sklearn-color-fitted-level-2);\n",
       "}\n",
       "\n",
       "/* Estimator label */\n",
       "\n",
       "#sk-container-id-1 div.sk-label label {\n",
       "  font-family: monospace;\n",
       "  font-weight: bold;\n",
       "  display: inline-block;\n",
       "  line-height: 1.2em;\n",
       "}\n",
       "\n",
       "#sk-container-id-1 div.sk-label-container {\n",
       "  text-align: center;\n",
       "}\n",
       "\n",
       "/* Estimator-specific */\n",
       "#sk-container-id-1 div.sk-estimator {\n",
       "  font-family: monospace;\n",
       "  border: 1px dotted var(--sklearn-color-border-box);\n",
       "  border-radius: 0.25em;\n",
       "  box-sizing: border-box;\n",
       "  margin-bottom: 0.5em;\n",
       "  /* unfitted */\n",
       "  background-color: var(--sklearn-color-unfitted-level-0);\n",
       "}\n",
       "\n",
       "#sk-container-id-1 div.sk-estimator.fitted {\n",
       "  /* fitted */\n",
       "  background-color: var(--sklearn-color-fitted-level-0);\n",
       "}\n",
       "\n",
       "/* on hover */\n",
       "#sk-container-id-1 div.sk-estimator:hover {\n",
       "  /* unfitted */\n",
       "  background-color: var(--sklearn-color-unfitted-level-2);\n",
       "}\n",
       "\n",
       "#sk-container-id-1 div.sk-estimator.fitted:hover {\n",
       "  /* fitted */\n",
       "  background-color: var(--sklearn-color-fitted-level-2);\n",
       "}\n",
       "\n",
       "/* Specification for estimator info (e.g. \"i\" and \"?\") */\n",
       "\n",
       "/* Common style for \"i\" and \"?\" */\n",
       "\n",
       ".sk-estimator-doc-link,\n",
       "a:link.sk-estimator-doc-link,\n",
       "a:visited.sk-estimator-doc-link {\n",
       "  float: right;\n",
       "  font-size: smaller;\n",
       "  line-height: 1em;\n",
       "  font-family: monospace;\n",
       "  background-color: var(--sklearn-color-background);\n",
       "  border-radius: 1em;\n",
       "  height: 1em;\n",
       "  width: 1em;\n",
       "  text-decoration: none !important;\n",
       "  margin-left: 0.5em;\n",
       "  text-align: center;\n",
       "  /* unfitted */\n",
       "  border: var(--sklearn-color-unfitted-level-1) 1pt solid;\n",
       "  color: var(--sklearn-color-unfitted-level-1);\n",
       "}\n",
       "\n",
       ".sk-estimator-doc-link.fitted,\n",
       "a:link.sk-estimator-doc-link.fitted,\n",
       "a:visited.sk-estimator-doc-link.fitted {\n",
       "  /* fitted */\n",
       "  border: var(--sklearn-color-fitted-level-1) 1pt solid;\n",
       "  color: var(--sklearn-color-fitted-level-1);\n",
       "}\n",
       "\n",
       "/* On hover */\n",
       "div.sk-estimator:hover .sk-estimator-doc-link:hover,\n",
       ".sk-estimator-doc-link:hover,\n",
       "div.sk-label-container:hover .sk-estimator-doc-link:hover,\n",
       ".sk-estimator-doc-link:hover {\n",
       "  /* unfitted */\n",
       "  background-color: var(--sklearn-color-unfitted-level-3);\n",
       "  color: var(--sklearn-color-background);\n",
       "  text-decoration: none;\n",
       "}\n",
       "\n",
       "div.sk-estimator.fitted:hover .sk-estimator-doc-link.fitted:hover,\n",
       ".sk-estimator-doc-link.fitted:hover,\n",
       "div.sk-label-container:hover .sk-estimator-doc-link.fitted:hover,\n",
       ".sk-estimator-doc-link.fitted:hover {\n",
       "  /* fitted */\n",
       "  background-color: var(--sklearn-color-fitted-level-3);\n",
       "  color: var(--sklearn-color-background);\n",
       "  text-decoration: none;\n",
       "}\n",
       "\n",
       "/* Span, style for the box shown on hovering the info icon */\n",
       ".sk-estimator-doc-link span {\n",
       "  display: none;\n",
       "  z-index: 9999;\n",
       "  position: relative;\n",
       "  font-weight: normal;\n",
       "  right: .2ex;\n",
       "  padding: .5ex;\n",
       "  margin: .5ex;\n",
       "  width: min-content;\n",
       "  min-width: 20ex;\n",
       "  max-width: 50ex;\n",
       "  color: var(--sklearn-color-text);\n",
       "  box-shadow: 2pt 2pt 4pt #999;\n",
       "  /* unfitted */\n",
       "  background: var(--sklearn-color-unfitted-level-0);\n",
       "  border: .5pt solid var(--sklearn-color-unfitted-level-3);\n",
       "}\n",
       "\n",
       ".sk-estimator-doc-link.fitted span {\n",
       "  /* fitted */\n",
       "  background: var(--sklearn-color-fitted-level-0);\n",
       "  border: var(--sklearn-color-fitted-level-3);\n",
       "}\n",
       "\n",
       ".sk-estimator-doc-link:hover span {\n",
       "  display: block;\n",
       "}\n",
       "\n",
       "/* \"?\"-specific style due to the `<a>` HTML tag */\n",
       "\n",
       "#sk-container-id-1 a.estimator_doc_link {\n",
       "  float: right;\n",
       "  font-size: 1rem;\n",
       "  line-height: 1em;\n",
       "  font-family: monospace;\n",
       "  background-color: var(--sklearn-color-background);\n",
       "  border-radius: 1rem;\n",
       "  height: 1rem;\n",
       "  width: 1rem;\n",
       "  text-decoration: none;\n",
       "  /* unfitted */\n",
       "  color: var(--sklearn-color-unfitted-level-1);\n",
       "  border: var(--sklearn-color-unfitted-level-1) 1pt solid;\n",
       "}\n",
       "\n",
       "#sk-container-id-1 a.estimator_doc_link.fitted {\n",
       "  /* fitted */\n",
       "  border: var(--sklearn-color-fitted-level-1) 1pt solid;\n",
       "  color: var(--sklearn-color-fitted-level-1);\n",
       "}\n",
       "\n",
       "/* On hover */\n",
       "#sk-container-id-1 a.estimator_doc_link:hover {\n",
       "  /* unfitted */\n",
       "  background-color: var(--sklearn-color-unfitted-level-3);\n",
       "  color: var(--sklearn-color-background);\n",
       "  text-decoration: none;\n",
       "}\n",
       "\n",
       "#sk-container-id-1 a.estimator_doc_link.fitted:hover {\n",
       "  /* fitted */\n",
       "  background-color: var(--sklearn-color-fitted-level-3);\n",
       "}\n",
       "</style><div id=\"sk-container-id-1\" class=\"sk-top-container\"><div class=\"sk-text-repr-fallback\"><pre>SVR()</pre><b>In a Jupyter environment, please rerun this cell to show the HTML representation or trust the notebook. <br />On GitHub, the HTML representation is unable to render, please try loading this page with nbviewer.org.</b></div><div class=\"sk-container\" hidden><div class=\"sk-item\"><div class=\"sk-estimator fitted sk-toggleable\"><input class=\"sk-toggleable__control sk-hidden--visually\" id=\"sk-estimator-id-1\" type=\"checkbox\" checked><label for=\"sk-estimator-id-1\" class=\"sk-toggleable__label fitted sk-toggleable__label-arrow\"><div><div>SVR</div></div><div><a class=\"sk-estimator-doc-link fitted\" rel=\"noreferrer\" target=\"_blank\" href=\"https://scikit-learn.org/1.6/modules/generated/sklearn.svm.SVR.html\">?<span>Documentation for SVR</span></a><span class=\"sk-estimator-doc-link fitted\">i<span>Fitted</span></span></div></label><div class=\"sk-toggleable__content fitted\"><pre>SVR()</pre></div> </div></div></div></div>"
      ],
      "text/plain": [
       "SVR()"
      ]
     },
     "execution_count": 11,
     "metadata": {},
     "output_type": "execute_result"
    }
   ],
   "source": [
    "from sklearn.svm import SVR\n",
    "regressor = SVR(kernel = 'rbf')\n",
    "regressor.fit(X, y)"
   ]
  },
  {
   "cell_type": "markdown",
   "metadata": {
    "id": "deDnDr8UR5vq"
   },
   "source": [
    "## 結果の予測"
   ]
  },
  {
   "cell_type": "code",
   "execution_count": 14,
   "metadata": {
    "colab": {
     "base_uri": "https://localhost:8080/"
    },
    "executionInfo": {
     "elapsed": 5,
     "status": "ok",
     "timestamp": 1646365129978,
     "user": {
      "displayName": "大橋亮太",
      "photoUrl": "https://lh3.googleusercontent.com/a-/AOh14Gj8j5XpwVyO-y4-YaxEuoB3oe5fb7-dQoDkMIp0Y77ZeT6zu0fm8daUIk97KT_y3q8KdPXD6CfRfx3XbOtOYZmexTQA0b2EVIqF1w1Ox6t7rBbr1okqkFC6pACT1L49V_f6Qb88rrGDx7h9Cgop-WRi_Sq_S14zFU-JsJYWtHuYuhDo9pFCaqFxnTDiEttZueMag2ZTe0RFdm3no0tF98bnN34nq41FYERQglQr2FOfLjc0u6LSBkdFLnqPkQ7l1C6JQMUeYsiV1Vy1F0Y8keC8Pzn94LiOLEY0NGdj0s1TuJbz_PsqQ9ae-w2nrkesN4SAZuF0dYCjWTZwRhMUDFZlm4UODspZdC8g7wG2F15eji8BS5GUd_o_yk8ZoBpz8di-a8nQ7ASFShdV_UF-ut-voi5w1OojP5WQBOHi3WxdoJUUXKLxRENkZVyyDz7ypTLRsVbLmc7Or26tSpWTqHUGYv52Pu4yHFYYITYG-fab1Gr6SBmPEnzVzwxWuTsiS1VP4SJTKmKKLqzt3SBYRzE61R248yp4xt3xYLT0c60uURXyEhH05NEFMJV-yupvIqzwM2qtiw7W-QjRgcuVe7EZl7eqm8tugPrbzPrEPYOox2FWlTWOZpPTtM2HuxtNyGuzkc59lov7umnd_yd2-xtAjovfF1tg8LZGcN7a2z4fhpfNS4VI6TR6sZ6Bmnmu4NYl-S81osOVHejRf7FXH7RgNfKz3BgdyC13--AMQ3QyU4H6ojVLWQKmNC8Dk8l1uT9DAQ=s64",
      "userId": "04193769736923210432"
     },
     "user_tz": -540
    },
    "id": "ib89-Fq8R8v-",
    "outputId": "cf2d1b30-b79c-4c7e-9e1a-19ca5ae61ab7"
   },
   "outputs": [
    {
     "data": {
      "text/plain": [
       "array([[170370.0204065]])"
      ]
     },
     "execution_count": 14,
     "metadata": {},
     "output_type": "execute_result"
    }
   ],
   "source": [
    "# 標準化したデータを逆変換する\n",
    "sc_y.inverse_transform(regressor.predict(sc_X.transform([[6.5]])).reshape(1,-1))"
   ]
  },
  {
   "cell_type": "markdown",
   "metadata": {
    "id": "zzedFlUISSu_"
   },
   "source": [
    "## 結果の可視化"
   ]
  },
  {
   "cell_type": "code",
   "execution_count": 15,
   "metadata": {
    "colab": {
     "base_uri": "https://localhost:8080/",
     "height": 295
    },
    "executionInfo": {
     "elapsed": 426,
     "status": "ok",
     "timestamp": 1646365265209,
     "user": {
      "displayName": "大橋亮太",
      "photoUrl": "https://lh3.googleusercontent.com/a-/AOh14Gj8j5XpwVyO-y4-YaxEuoB3oe5fb7-dQoDkMIp0Y77ZeT6zu0fm8daUIk97KT_y3q8KdPXD6CfRfx3XbOtOYZmexTQA0b2EVIqF1w1Ox6t7rBbr1okqkFC6pACT1L49V_f6Qb88rrGDx7h9Cgop-WRi_Sq_S14zFU-JsJYWtHuYuhDo9pFCaqFxnTDiEttZueMag2ZTe0RFdm3no0tF98bnN34nq41FYERQglQr2FOfLjc0u6LSBkdFLnqPkQ7l1C6JQMUeYsiV1Vy1F0Y8keC8Pzn94LiOLEY0NGdj0s1TuJbz_PsqQ9ae-w2nrkesN4SAZuF0dYCjWTZwRhMUDFZlm4UODspZdC8g7wG2F15eji8BS5GUd_o_yk8ZoBpz8di-a8nQ7ASFShdV_UF-ut-voi5w1OojP5WQBOHi3WxdoJUUXKLxRENkZVyyDz7ypTLRsVbLmc7Or26tSpWTqHUGYv52Pu4yHFYYITYG-fab1Gr6SBmPEnzVzwxWuTsiS1VP4SJTKmKKLqzt3SBYRzE61R248yp4xt3xYLT0c60uURXyEhH05NEFMJV-yupvIqzwM2qtiw7W-QjRgcuVe7EZl7eqm8tugPrbzPrEPYOox2FWlTWOZpPTtM2HuxtNyGuzkc59lov7umnd_yd2-xtAjovfF1tg8LZGcN7a2z4fhpfNS4VI6TR6sZ6Bmnmu4NYl-S81osOVHejRf7FXH7RgNfKz3BgdyC13--AMQ3QyU4H6ojVLWQKmNC8Dk8l1uT9DAQ=s64",
      "userId": "04193769736923210432"
     },
     "user_tz": -540
    },
    "id": "OWPRGsKpSW9U",
    "outputId": "67d1416a-705a-4709-b24d-697ebd805391"
   },
   "outputs": [
    {
     "data": {
      "image/png": "[encoded data removed]",
      "text/plain": [
       "<Figure size 640x480 with 1 Axes>"
      ]
     },
     "metadata": {},
     "output_type": "display_data"
    }
   ],
   "source": [
    "plt.scatter(sc_X.inverse_transform(X), sc_y.inverse_transform(y), color = 'red')\n",
    "plt.plot(sc_X.inverse_transform(X).reshape(-1,1), sc_y.inverse_transform(regressor.predict(X).reshape(-1,1)), color = 'blue')\n",
    "plt.title('Truth or Bluff (SVR)')\n",
    "plt.xlabel('Position level')\n",
    "plt.ylabel('Salary')\n",
    "plt.show()"
   ]
  },
  {
   "cell_type": "markdown",
   "metadata": {
    "id": "UahPVNlJSZ-K"
   },
   "source": [
    "## 結果の可視化（よりなめらかなカーブ）"
   ]
  },
  {
   "cell_type": "code",
   "execution_count": 24,
   "metadata": {
    "colab": {
     "base_uri": "https://localhost:8080/",
     "height": 295
    },
    "executionInfo": {
     "elapsed": 405,
     "status": "ok",
     "timestamp": 1646365251533,
     "user": {
      "displayName": "大橋亮太",
      "photoUrl": "https://lh3.googleusercontent.com/a-/AOh14Gj8j5XpwVyO-y4-YaxEuoB3oe5fb7-dQoDkMIp0Y77ZeT6zu0fm8daUIk97KT_y3q8KdPXD6CfRfx3XbOtOYZmexTQA0b2EVIqF1w1Ox6t7rBbr1okqkFC6pACT1L49V_f6Qb88rrGDx7h9Cgop-WRi_Sq_S14zFU-JsJYWtHuYuhDo9pFCaqFxnTDiEttZueMag2ZTe0RFdm3no0tF98bnN34nq41FYERQglQr2FOfLjc0u6LSBkdFLnqPkQ7l1C6JQMUeYsiV1Vy1F0Y8keC8Pzn94LiOLEY0NGdj0s1TuJbz_PsqQ9ae-w2nrkesN4SAZuF0dYCjWTZwRhMUDFZlm4UODspZdC8g7wG2F15eji8BS5GUd_o_yk8ZoBpz8di-a8nQ7ASFShdV_UF-ut-voi5w1OojP5WQBOHi3WxdoJUUXKLxRENkZVyyDz7ypTLRsVbLmc7Or26tSpWTqHUGYv52Pu4yHFYYITYG-fab1Gr6SBmPEnzVzwxWuTsiS1VP4SJTKmKKLqzt3SBYRzE61R248yp4xt3xYLT0c60uURXyEhH05NEFMJV-yupvIqzwM2qtiw7W-QjRgcuVe7EZl7eqm8tugPrbzPrEPYOox2FWlTWOZpPTtM2HuxtNyGuzkc59lov7umnd_yd2-xtAjovfF1tg8LZGcN7a2z4fhpfNS4VI6TR6sZ6Bmnmu4NYl-S81osOVHejRf7FXH7RgNfKz3BgdyC13--AMQ3QyU4H6ojVLWQKmNC8Dk8l1uT9DAQ=s64",
      "userId": "04193769736923210432"
     },
     "user_tz": -540
    },
    "id": "7fkhPL7RSd2X",
    "outputId": "ae711e0e-d551-4526-8af9-aa0a8df6a12c"
   },
   "outputs": [
    {
     "data": {
      "image/png": "[encoded data removed]",
      "text/plain": [
       "<Figure size 432x288 with 1 Axes>"
      ]
     },
     "metadata": {
      "needs_background": "light"
     },
     "output_type": "display_data"
    }
   ],
   "source": [
    "X_grid = np.arange(min(sc_X.inverse_transform(X)), max(sc_X.inverse_transform(X)), 0.1)\n",
    "X_grid = X_grid.reshape((len(X_grid), 1))\n",
    "plt.scatter(sc_X.inverse_transform(X), sc_y.inverse_transform(y), color = 'red')\n",
    "plt.plot(X_grid.reshape(-1,1), sc_y.inverse_transform(regressor.predict(sc_X.transform(X_grid)).reshape(-1,1)), color = 'blue')\n",
    "plt.title('Truth or Bluff (SVR)')\n",
    "plt.xlabel('Position level')\n",
    "plt.ylabel('Salary')\n",
    "plt.show()"
   ]
  },
  {
   "cell_type": "code",
   "execution_count": null,
   "metadata": {
    "executionInfo": {
     "elapsed": 9,
     "status": "aborted",
     "timestamp": 1646365054997,
     "user": {
      "displayName": "大橋亮太",
      "photoUrl": "https://lh3.googleusercontent.com/a-/AOh14Gj8j5XpwVyO-y4-YaxEuoB3oe5fb7-dQoDkMIp0Y77ZeT6zu0fm8daUIk97KT_y3q8KdPXD6CfRfx3XbOtOYZmexTQA0b2EVIqF1w1Ox6t7rBbr1okqkFC6pACT1L49V_f6Qb88rrGDx7h9Cgop-WRi_Sq_S14zFU-JsJYWtHuYuhDo9pFCaqFxnTDiEttZueMag2ZTe0RFdm3no0tF98bnN34nq41FYERQglQr2FOfLjc0u6LSBkdFLnqPkQ7l1C6JQMUeYsiV1Vy1F0Y8keC8Pzn94LiOLEY0NGdj0s1TuJbz_PsqQ9ae-w2nrkesN4SAZuF0dYCjWTZwRhMUDFZlm4UODspZdC8g7wG2F15eji8BS5GUd_o_yk8ZoBpz8di-a8nQ7ASFShdV_UF-ut-voi5w1OojP5WQBOHi3WxdoJUUXKLxRENkZVyyDz7ypTLRsVbLmc7Or26tSpWTqHUGYv52Pu4yHFYYITYG-fab1Gr6SBmPEnzVzwxWuTsiS1VP4SJTKmKKLqzt3SBYRzE61R248yp4xt3xYLT0c60uURXyEhH05NEFMJV-yupvIqzwM2qtiw7W-QjRgcuVe7EZl7eqm8tugPrbzPrEPYOox2FWlTWOZpPTtM2HuxtNyGuzkc59lov7umnd_yd2-xtAjovfF1tg8LZGcN7a2z4fhpfNS4VI6TR6sZ6Bmnmu4NYl-S81osOVHejRf7FXH7RgNfKz3BgdyC13--AMQ3QyU4H6ojVLWQKmNC8Dk8l1uT9DAQ=s64",
      "userId": "04193769736923210432"
     },
     "user_tz": -540
    },
    "id": "dN_ubBLbAQf2"
   },
   "outputs": [],
   "source": []
  }
 ],
 "metadata": {
  "colab": {
   "collapsed_sections": [],
   "name": "support_vector_regression.ipynb",
   "provenance": []
  },
  "kernelspec": {
   "display_name": "Python 3",
   "name": "python3"
  },
  "language_info": {
   "codemirror_mode": {
    "name": "ipython",
    "version": 3
   },
   "file_extension": ".py",
   "mimetype": "text/x-python",
   "name": "python",
   "nbconvert_exporter": "python",
   "pygments_lexer": "ipython3",
   "version": "3.12.2"
  }
 },
 "nbformat": 4,
 "nbformat_minor": 0
}
