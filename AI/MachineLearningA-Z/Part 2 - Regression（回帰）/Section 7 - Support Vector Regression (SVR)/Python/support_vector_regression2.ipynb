{
 "cells": [
  {
   "cell_type": "markdown",
   "metadata": {
    "id": "m3PAEPRDRLA3"
   },
   "source": [
    "# サポートベクトル回帰(SVR)"
   ]
  },
  {
   "cell_type": "markdown",
   "metadata": {
    "id": "0VCUAVIjRdzZ"
   },
   "source": [
    "## ライブラリのインポート"
   ]
  },
  {
   "cell_type": "code",
   "execution_count": 1,
   "metadata": {
    "executionInfo": {
     "elapsed": 615,
     "status": "ok",
     "timestamp": 1647625277647,
     "user": {
      "displayName": "大橋亮太",
      "photoUrl": "https://lh3.googleusercontent.com/a-/AOh14Gh-lJGJpXaEe7P0nfZiM3FiGRZLnhBN8vc08yQYdGfY5lGtNmUi-8eZOjKBByA_oFCLyXs64lrRv-aqLIn0VccwLV99vhg_LXUnqfsog979EyiGzyP957HjcdIlw_G8_hHKcPXGF9ld6_Cj1nwJbUOgdBJVmeymacNjPBtgZMn_HMW1dORhZ_2FsHOixYtgVX6HPFrs5VhMsnWcpYLdOLjxahMjHZgLh4D51QP4oDEQohzuehklpgiu-cyRX-n0z5hkOPy7ZbqV3bKzR2gMVVXE5Pn5UcWzvJZct1emgRilWLZ7MyHUmSmDr9UyX9TpNWxBEhK-mIMHtSBiNlyA6g0yG8d3CtSpxEfcjRqWsw1hkaqaVauU93JPVVt42uso8DkSSOH1OCwfEJDV13JbFIscLnqyLMZHpccf4OJEUTRNEI11JO9994e45Vt9at54sv624WyuJInoLf8x3B1YOeZWQ24_DLS_Va1IWmtkAsH7nVOtBLT4hih_kOC-74lmzFzdnom8tZ5OkQnvoykSlsZROSZv8FCtnUtiNoYam3H0bH-b98awmrPDhkMGX7IIK3hrrPkrdtj4gOVjmiPJTJkVe9bKO7MjtbUAX8h7AcifEg_-2rqO3ozoptaL9Oa6VHH0clJWz1xUMqrqm-SPXHJjEgqJ0h6sVWbDqpXDbWFpVzNjTHPg8DLSgYpzs0BFHf2tlbJL16guDdoU9sD_yX2JlSHECWv6PMYd8YFE5XkBIpJyriX3vMIYrLpBeCS_o7RkXA=s64",
      "userId": "04193769736923210432"
     },
     "user_tz": -540
    },
    "id": "56oRF-QfSDzC"
   },
   "outputs": [],
   "source": [
    "import numpy as np\n",
    "import matplotlib.pyplot as plt\n",
    "import pandas as pd"
   ]
  },
  {
   "cell_type": "markdown",
   "metadata": {
    "id": "fXVXoFWtSF4_"
   },
   "source": [
    "## データセットのインポート"
   ]
  },
  {
   "cell_type": "code",
   "execution_count": 3,
   "metadata": {
    "executionInfo": {
     "elapsed": 263,
     "status": "ok",
     "timestamp": 1647625309624,
     "user": {
      "displayName": "大橋亮太",
      "photoUrl": "https://lh3.googleusercontent.com/a-/AOh14Gh-lJGJpXaEe7P0nfZiM3FiGRZLnhBN8vc08yQYdGfY5lGtNmUi-8eZOjKBByA_oFCLyXs64lrRv-aqLIn0VccwLV99vhg_LXUnqfsog979EyiGzyP957HjcdIlw_G8_hHKcPXGF9ld6_Cj1nwJbUOgdBJVmeymacNjPBtgZMn_HMW1dORhZ_2FsHOixYtgVX6HPFrs5VhMsnWcpYLdOLjxahMjHZgLh4D51QP4oDEQohzuehklpgiu-cyRX-n0z5hkOPy7ZbqV3bKzR2gMVVXE5Pn5UcWzvJZct1emgRilWLZ7MyHUmSmDr9UyX9TpNWxBEhK-mIMHtSBiNlyA6g0yG8d3CtSpxEfcjRqWsw1hkaqaVauU93JPVVt42uso8DkSSOH1OCwfEJDV13JbFIscLnqyLMZHpccf4OJEUTRNEI11JO9994e45Vt9at54sv624WyuJInoLf8x3B1YOeZWQ24_DLS_Va1IWmtkAsH7nVOtBLT4hih_kOC-74lmzFzdnom8tZ5OkQnvoykSlsZROSZv8FCtnUtiNoYam3H0bH-b98awmrPDhkMGX7IIK3hrrPkrdtj4gOVjmiPJTJkVe9bKO7MjtbUAX8h7AcifEg_-2rqO3ozoptaL9Oa6VHH0clJWz1xUMqrqm-SPXHJjEgqJ0h6sVWbDqpXDbWFpVzNjTHPg8DLSgYpzs0BFHf2tlbJL16guDdoU9sD_yX2JlSHECWv6PMYd8YFE5XkBIpJyriX3vMIYrLpBeCS_o7RkXA=s64",
      "userId": "04193769736923210432"
     },
     "user_tz": -540
    },
    "id": "xfoa8OSORfHQ"
   },
   "outputs": [],
   "source": [
    "dataset = pd.read_csv('svr.csv')\n",
    "X = dataset.iloc[:, 1:-1].values\n",
    "y = dataset.iloc[:, -1].values"
   ]
  },
  {
   "cell_type": "code",
   "execution_count": 4,
   "metadata": {
    "colab": {
     "base_uri": "https://localhost:8080/"
    },
    "executionInfo": {
     "elapsed": 288,
     "status": "ok",
     "timestamp": 1647625315989,
     "user": {
      "displayName": "大橋亮太",
      "photoUrl": "https://lh3.googleusercontent.com/a-/AOh14Gh-lJGJpXaEe7P0nfZiM3FiGRZLnhBN8vc08yQYdGfY5lGtNmUi-8eZOjKBByA_oFCLyXs64lrRv-aqLIn0VccwLV99vhg_LXUnqfsog979EyiGzyP957HjcdIlw_G8_hHKcPXGF9ld6_Cj1nwJbUOgdBJVmeymacNjPBtgZMn_HMW1dORhZ_2FsHOixYtgVX6HPFrs5VhMsnWcpYLdOLjxahMjHZgLh4D51QP4oDEQohzuehklpgiu-cyRX-n0z5hkOPy7ZbqV3bKzR2gMVVXE5Pn5UcWzvJZct1emgRilWLZ7MyHUmSmDr9UyX9TpNWxBEhK-mIMHtSBiNlyA6g0yG8d3CtSpxEfcjRqWsw1hkaqaVauU93JPVVt42uso8DkSSOH1OCwfEJDV13JbFIscLnqyLMZHpccf4OJEUTRNEI11JO9994e45Vt9at54sv624WyuJInoLf8x3B1YOeZWQ24_DLS_Va1IWmtkAsH7nVOtBLT4hih_kOC-74lmzFzdnom8tZ5OkQnvoykSlsZROSZv8FCtnUtiNoYam3H0bH-b98awmrPDhkMGX7IIK3hrrPkrdtj4gOVjmiPJTJkVe9bKO7MjtbUAX8h7AcifEg_-2rqO3ozoptaL9Oa6VHH0clJWz1xUMqrqm-SPXHJjEgqJ0h6sVWbDqpXDbWFpVzNjTHPg8DLSgYpzs0BFHf2tlbJL16guDdoU9sD_yX2JlSHECWv6PMYd8YFE5XkBIpJyriX3vMIYrLpBeCS_o7RkXA=s64",
      "userId": "04193769736923210432"
     },
     "user_tz": -540
    },
    "id": "fAWJV6gpiTYM",
    "outputId": "ceabca4e-f51b-4f01-8697-3b612937d1ca"
   },
   "outputs": [
    {
     "name": "stdout",
     "output_type": "stream",
     "text": [
      "[[1]\n",
      " [1]\n",
      " [1]\n",
      " [1]\n",
      " [2]\n",
      " [2]\n",
      " [2]\n",
      " [3]\n",
      " [3]\n",
      " [4]\n",
      " [4]\n",
      " [4]\n",
      " [5]\n",
      " [5]\n",
      " [5]\n",
      " [5]]\n"
     ]
    }
   ],
   "source": [
    "print(X)"
   ]
  },
  {
   "cell_type": "code",
   "execution_count": 5,
   "metadata": {
    "colab": {
     "base_uri": "https://localhost:8080/"
    },
    "executionInfo": {
     "elapsed": 3,
     "status": "ok",
     "timestamp": 1647625316326,
     "user": {
      "displayName": "大橋亮太",
      "photoUrl": "https://lh3.googleusercontent.com/a-/AOh14Gh-lJGJpXaEe7P0nfZiM3FiGRZLnhBN8vc08yQYdGfY5lGtNmUi-8eZOjKBByA_oFCLyXs64lrRv-aqLIn0VccwLV99vhg_LXUnqfsog979EyiGzyP957HjcdIlw_G8_hHKcPXGF9ld6_Cj1nwJbUOgdBJVmeymacNjPBtgZMn_HMW1dORhZ_2FsHOixYtgVX6HPFrs5VhMsnWcpYLdOLjxahMjHZgLh4D51QP4oDEQohzuehklpgiu-cyRX-n0z5hkOPy7ZbqV3bKzR2gMVVXE5Pn5UcWzvJZct1emgRilWLZ7MyHUmSmDr9UyX9TpNWxBEhK-mIMHtSBiNlyA6g0yG8d3CtSpxEfcjRqWsw1hkaqaVauU93JPVVt42uso8DkSSOH1OCwfEJDV13JbFIscLnqyLMZHpccf4OJEUTRNEI11JO9994e45Vt9at54sv624WyuJInoLf8x3B1YOeZWQ24_DLS_Va1IWmtkAsH7nVOtBLT4hih_kOC-74lmzFzdnom8tZ5OkQnvoykSlsZROSZv8FCtnUtiNoYam3H0bH-b98awmrPDhkMGX7IIK3hrrPkrdtj4gOVjmiPJTJkVe9bKO7MjtbUAX8h7AcifEg_-2rqO3ozoptaL9Oa6VHH0clJWz1xUMqrqm-SPXHJjEgqJ0h6sVWbDqpXDbWFpVzNjTHPg8DLSgYpzs0BFHf2tlbJL16guDdoU9sD_yX2JlSHECWv6PMYd8YFE5XkBIpJyriX3vMIYrLpBeCS_o7RkXA=s64",
      "userId": "04193769736923210432"
     },
     "user_tz": -540
    },
    "id": "P1CzeAyRiU3c",
    "outputId": "3e77a2a3-c619-4cec-b978-9b63e5b20eae"
   },
   "outputs": [
    {
     "name": "stdout",
     "output_type": "stream",
     "text": [
      "[2 3 4 5 3 4 5 4 5 4 5 6 4 5 6 7]\n"
     ]
    }
   ],
   "source": [
    "print(y)"
   ]
  },
  {
   "cell_type": "code",
   "execution_count": 6,
   "metadata": {
    "executionInfo": {
     "elapsed": 5,
     "status": "ok",
     "timestamp": 1647625316595,
     "user": {
      "displayName": "大橋亮太",
      "photoUrl": "https://lh3.googleusercontent.com/a-/AOh14Gh-lJGJpXaEe7P0nfZiM3FiGRZLnhBN8vc08yQYdGfY5lGtNmUi-8eZOjKBByA_oFCLyXs64lrRv-aqLIn0VccwLV99vhg_LXUnqfsog979EyiGzyP957HjcdIlw_G8_hHKcPXGF9ld6_Cj1nwJbUOgdBJVmeymacNjPBtgZMn_HMW1dORhZ_2FsHOixYtgVX6HPFrs5VhMsnWcpYLdOLjxahMjHZgLh4D51QP4oDEQohzuehklpgiu-cyRX-n0z5hkOPy7ZbqV3bKzR2gMVVXE5Pn5UcWzvJZct1emgRilWLZ7MyHUmSmDr9UyX9TpNWxBEhK-mIMHtSBiNlyA6g0yG8d3CtSpxEfcjRqWsw1hkaqaVauU93JPVVt42uso8DkSSOH1OCwfEJDV13JbFIscLnqyLMZHpccf4OJEUTRNEI11JO9994e45Vt9at54sv624WyuJInoLf8x3B1YOeZWQ24_DLS_Va1IWmtkAsH7nVOtBLT4hih_kOC-74lmzFzdnom8tZ5OkQnvoykSlsZROSZv8FCtnUtiNoYam3H0bH-b98awmrPDhkMGX7IIK3hrrPkrdtj4gOVjmiPJTJkVe9bKO7MjtbUAX8h7AcifEg_-2rqO3ozoptaL9Oa6VHH0clJWz1xUMqrqm-SPXHJjEgqJ0h6sVWbDqpXDbWFpVzNjTHPg8DLSgYpzs0BFHf2tlbJL16guDdoU9sD_yX2JlSHECWv6PMYd8YFE5XkBIpJyriX3vMIYrLpBeCS_o7RkXA=s64",
      "userId": "04193769736923210432"
     },
     "user_tz": -540
    },
    "id": "_8Ny1GfPiV3m"
   },
   "outputs": [],
   "source": [
    "y = y.reshape(len(y),1)"
   ]
  },
  {
   "cell_type": "code",
   "execution_count": 7,
   "metadata": {
    "colab": {
     "base_uri": "https://localhost:8080/"
    },
    "executionInfo": {
     "elapsed": 4,
     "status": "ok",
     "timestamp": 1647625316875,
     "user": {
      "displayName": "大橋亮太",
      "photoUrl": "https://lh3.googleusercontent.com/a-/AOh14Gh-lJGJpXaEe7P0nfZiM3FiGRZLnhBN8vc08yQYdGfY5lGtNmUi-8eZOjKBByA_oFCLyXs64lrRv-aqLIn0VccwLV99vhg_LXUnqfsog979EyiGzyP957HjcdIlw_G8_hHKcPXGF9ld6_Cj1nwJbUOgdBJVmeymacNjPBtgZMn_HMW1dORhZ_2FsHOixYtgVX6HPFrs5VhMsnWcpYLdOLjxahMjHZgLh4D51QP4oDEQohzuehklpgiu-cyRX-n0z5hkOPy7ZbqV3bKzR2gMVVXE5Pn5UcWzvJZct1emgRilWLZ7MyHUmSmDr9UyX9TpNWxBEhK-mIMHtSBiNlyA6g0yG8d3CtSpxEfcjRqWsw1hkaqaVauU93JPVVt42uso8DkSSOH1OCwfEJDV13JbFIscLnqyLMZHpccf4OJEUTRNEI11JO9994e45Vt9at54sv624WyuJInoLf8x3B1YOeZWQ24_DLS_Va1IWmtkAsH7nVOtBLT4hih_kOC-74lmzFzdnom8tZ5OkQnvoykSlsZROSZv8FCtnUtiNoYam3H0bH-b98awmrPDhkMGX7IIK3hrrPkrdtj4gOVjmiPJTJkVe9bKO7MjtbUAX8h7AcifEg_-2rqO3ozoptaL9Oa6VHH0clJWz1xUMqrqm-SPXHJjEgqJ0h6sVWbDqpXDbWFpVzNjTHPg8DLSgYpzs0BFHf2tlbJL16guDdoU9sD_yX2JlSHECWv6PMYd8YFE5XkBIpJyriX3vMIYrLpBeCS_o7RkXA=s64",
      "userId": "04193769736923210432"
     },
     "user_tz": -540
    },
    "id": "D4aFLlbziaV9",
    "outputId": "e90e2e60-9446-4623-92ab-e9d8402e1ef6"
   },
   "outputs": [
    {
     "name": "stdout",
     "output_type": "stream",
     "text": [
      "[[2]\n",
      " [3]\n",
      " [4]\n",
      " [5]\n",
      " [3]\n",
      " [4]\n",
      " [5]\n",
      " [4]\n",
      " [5]\n",
      " [4]\n",
      " [5]\n",
      " [6]\n",
      " [4]\n",
      " [5]\n",
      " [6]\n",
      " [7]]\n"
     ]
    }
   ],
   "source": [
    "print(y)"
   ]
  },
  {
   "cell_type": "markdown",
   "metadata": {
    "id": "YS8FeLHYS-nI"
   },
   "source": [
    "## フィーチャースケーリング"
   ]
  },
  {
   "cell_type": "code",
   "execution_count": 8,
   "metadata": {
    "executionInfo": {
     "elapsed": 429,
     "status": "ok",
     "timestamp": 1647625319145,
     "user": {
      "displayName": "大橋亮太",
      "photoUrl": "https://lh3.googleusercontent.com/a-/AOh14Gh-lJGJpXaEe7P0nfZiM3FiGRZLnhBN8vc08yQYdGfY5lGtNmUi-8eZOjKBByA_oFCLyXs64lrRv-aqLIn0VccwLV99vhg_LXUnqfsog979EyiGzyP957HjcdIlw_G8_hHKcPXGF9ld6_Cj1nwJbUOgdBJVmeymacNjPBtgZMn_HMW1dORhZ_2FsHOixYtgVX6HPFrs5VhMsnWcpYLdOLjxahMjHZgLh4D51QP4oDEQohzuehklpgiu-cyRX-n0z5hkOPy7ZbqV3bKzR2gMVVXE5Pn5UcWzvJZct1emgRilWLZ7MyHUmSmDr9UyX9TpNWxBEhK-mIMHtSBiNlyA6g0yG8d3CtSpxEfcjRqWsw1hkaqaVauU93JPVVt42uso8DkSSOH1OCwfEJDV13JbFIscLnqyLMZHpccf4OJEUTRNEI11JO9994e45Vt9at54sv624WyuJInoLf8x3B1YOeZWQ24_DLS_Va1IWmtkAsH7nVOtBLT4hih_kOC-74lmzFzdnom8tZ5OkQnvoykSlsZROSZv8FCtnUtiNoYam3H0bH-b98awmrPDhkMGX7IIK3hrrPkrdtj4gOVjmiPJTJkVe9bKO7MjtbUAX8h7AcifEg_-2rqO3ozoptaL9Oa6VHH0clJWz1xUMqrqm-SPXHJjEgqJ0h6sVWbDqpXDbWFpVzNjTHPg8DLSgYpzs0BFHf2tlbJL16guDdoU9sD_yX2JlSHECWv6PMYd8YFE5XkBIpJyriX3vMIYrLpBeCS_o7RkXA=s64",
      "userId": "04193769736923210432"
     },
     "user_tz": -540
    },
    "id": "PGeAlD1HTDI1"
   },
   "outputs": [],
   "source": [
    "from sklearn.preprocessing import StandardScaler\n",
    "sc_X = StandardScaler()\n",
    "sc_y = StandardScaler()\n",
    "X = sc_X.fit_transform(X)\n",
    "y = sc_y.fit_transform(y)"
   ]
  },
  {
   "cell_type": "code",
   "execution_count": 9,
   "metadata": {
    "colab": {
     "base_uri": "https://localhost:8080/"
    },
    "executionInfo": {
     "elapsed": 5,
     "status": "ok",
     "timestamp": 1647625320037,
     "user": {
      "displayName": "大橋亮太",
      "photoUrl": "https://lh3.googleusercontent.com/a-/AOh14Gh-lJGJpXaEe7P0nfZiM3FiGRZLnhBN8vc08yQYdGfY5lGtNmUi-8eZOjKBByA_oFCLyXs64lrRv-aqLIn0VccwLV99vhg_LXUnqfsog979EyiGzyP957HjcdIlw_G8_hHKcPXGF9ld6_Cj1nwJbUOgdBJVmeymacNjPBtgZMn_HMW1dORhZ_2FsHOixYtgVX6HPFrs5VhMsnWcpYLdOLjxahMjHZgLh4D51QP4oDEQohzuehklpgiu-cyRX-n0z5hkOPy7ZbqV3bKzR2gMVVXE5Pn5UcWzvJZct1emgRilWLZ7MyHUmSmDr9UyX9TpNWxBEhK-mIMHtSBiNlyA6g0yG8d3CtSpxEfcjRqWsw1hkaqaVauU93JPVVt42uso8DkSSOH1OCwfEJDV13JbFIscLnqyLMZHpccf4OJEUTRNEI11JO9994e45Vt9at54sv624WyuJInoLf8x3B1YOeZWQ24_DLS_Va1IWmtkAsH7nVOtBLT4hih_kOC-74lmzFzdnom8tZ5OkQnvoykSlsZROSZv8FCtnUtiNoYam3H0bH-b98awmrPDhkMGX7IIK3hrrPkrdtj4gOVjmiPJTJkVe9bKO7MjtbUAX8h7AcifEg_-2rqO3ozoptaL9Oa6VHH0clJWz1xUMqrqm-SPXHJjEgqJ0h6sVWbDqpXDbWFpVzNjTHPg8DLSgYpzs0BFHf2tlbJL16guDdoU9sD_yX2JlSHECWv6PMYd8YFE5XkBIpJyriX3vMIYrLpBeCS_o7RkXA=s64",
      "userId": "04193769736923210432"
     },
     "user_tz": -540
    },
    "id": "nXa8Z9FgjFTQ",
    "outputId": "d9437ba5-8b78-4477-85f8-dbbbd2f09608"
   },
   "outputs": [
    {
     "name": "stdout",
     "output_type": "stream",
     "text": [
      "[[-1.29777137]\n",
      " [-1.29777137]\n",
      " [-1.29777137]\n",
      " [-1.29777137]\n",
      " [-0.64888568]\n",
      " [-0.64888568]\n",
      " [-0.64888568]\n",
      " [ 0.        ]\n",
      " [ 0.        ]\n",
      " [ 0.64888568]\n",
      " [ 0.64888568]\n",
      " [ 0.64888568]\n",
      " [ 1.29777137]\n",
      " [ 1.29777137]\n",
      " [ 1.29777137]\n",
      " [ 1.29777137]]\n"
     ]
    }
   ],
   "source": [
    "print(X)"
   ]
  },
  {
   "cell_type": "code",
   "execution_count": 10,
   "metadata": {
    "colab": {
     "base_uri": "https://localhost:8080/"
    },
    "executionInfo": {
     "elapsed": 9,
     "status": "ok",
     "timestamp": 1647625320319,
     "user": {
      "displayName": "大橋亮太",
      "photoUrl": "https://lh3.googleusercontent.com/a-/AOh14Gh-lJGJpXaEe7P0nfZiM3FiGRZLnhBN8vc08yQYdGfY5lGtNmUi-8eZOjKBByA_oFCLyXs64lrRv-aqLIn0VccwLV99vhg_LXUnqfsog979EyiGzyP957HjcdIlw_G8_hHKcPXGF9ld6_Cj1nwJbUOgdBJVmeymacNjPBtgZMn_HMW1dORhZ_2FsHOixYtgVX6HPFrs5VhMsnWcpYLdOLjxahMjHZgLh4D51QP4oDEQohzuehklpgiu-cyRX-n0z5hkOPy7ZbqV3bKzR2gMVVXE5Pn5UcWzvJZct1emgRilWLZ7MyHUmSmDr9UyX9TpNWxBEhK-mIMHtSBiNlyA6g0yG8d3CtSpxEfcjRqWsw1hkaqaVauU93JPVVt42uso8DkSSOH1OCwfEJDV13JbFIscLnqyLMZHpccf4OJEUTRNEI11JO9994e45Vt9at54sv624WyuJInoLf8x3B1YOeZWQ24_DLS_Va1IWmtkAsH7nVOtBLT4hih_kOC-74lmzFzdnom8tZ5OkQnvoykSlsZROSZv8FCtnUtiNoYam3H0bH-b98awmrPDhkMGX7IIK3hrrPkrdtj4gOVjmiPJTJkVe9bKO7MjtbUAX8h7AcifEg_-2rqO3ozoptaL9Oa6VHH0clJWz1xUMqrqm-SPXHJjEgqJ0h6sVWbDqpXDbWFpVzNjTHPg8DLSgYpzs0BFHf2tlbJL16guDdoU9sD_yX2JlSHECWv6PMYd8YFE5XkBIpJyriX3vMIYrLpBeCS_o7RkXA=s64",
      "userId": "04193769736923210432"
     },
     "user_tz": -540
    },
    "id": "i7Oo2kybjGr2",
    "outputId": "8dea4e91-8dc2-4b27-9d2c-6cc4bd2f364c"
   },
   "outputs": [
    {
     "name": "stdout",
     "output_type": "stream",
     "text": [
      "[[-2.04124145]\n",
      " [-1.22474487]\n",
      " [-0.40824829]\n",
      " [ 0.40824829]\n",
      " [-1.22474487]\n",
      " [-0.40824829]\n",
      " [ 0.40824829]\n",
      " [-0.40824829]\n",
      " [ 0.40824829]\n",
      " [-0.40824829]\n",
      " [ 0.40824829]\n",
      " [ 1.22474487]\n",
      " [-0.40824829]\n",
      " [ 0.40824829]\n",
      " [ 1.22474487]\n",
      " [ 2.04124145]]\n"
     ]
    }
   ],
   "source": [
    "print(y)"
   ]
  },
  {
   "cell_type": "markdown",
   "metadata": {
    "id": "eiU6D2QFRjxY"
   },
   "source": [
    "## データセットを使ったモデルの訓練"
   ]
  },
  {
   "cell_type": "code",
   "execution_count": 11,
   "metadata": {
    "colab": {
     "base_uri": "https://localhost:8080/"
    },
    "executionInfo": {
     "elapsed": 419,
     "status": "ok",
     "timestamp": 1647625322995,
     "user": {
      "displayName": "大橋亮太",
      "photoUrl": "https://lh3.googleusercontent.com/a-/AOh14Gh-lJGJpXaEe7P0nfZiM3FiGRZLnhBN8vc08yQYdGfY5lGtNmUi-8eZOjKBByA_oFCLyXs64lrRv-aqLIn0VccwLV99vhg_LXUnqfsog979EyiGzyP957HjcdIlw_G8_hHKcPXGF9ld6_Cj1nwJbUOgdBJVmeymacNjPBtgZMn_HMW1dORhZ_2FsHOixYtgVX6HPFrs5VhMsnWcpYLdOLjxahMjHZgLh4D51QP4oDEQohzuehklpgiu-cyRX-n0z5hkOPy7ZbqV3bKzR2gMVVXE5Pn5UcWzvJZct1emgRilWLZ7MyHUmSmDr9UyX9TpNWxBEhK-mIMHtSBiNlyA6g0yG8d3CtSpxEfcjRqWsw1hkaqaVauU93JPVVt42uso8DkSSOH1OCwfEJDV13JbFIscLnqyLMZHpccf4OJEUTRNEI11JO9994e45Vt9at54sv624WyuJInoLf8x3B1YOeZWQ24_DLS_Va1IWmtkAsH7nVOtBLT4hih_kOC-74lmzFzdnom8tZ5OkQnvoykSlsZROSZv8FCtnUtiNoYam3H0bH-b98awmrPDhkMGX7IIK3hrrPkrdtj4gOVjmiPJTJkVe9bKO7MjtbUAX8h7AcifEg_-2rqO3ozoptaL9Oa6VHH0clJWz1xUMqrqm-SPXHJjEgqJ0h6sVWbDqpXDbWFpVzNjTHPg8DLSgYpzs0BFHf2tlbJL16guDdoU9sD_yX2JlSHECWv6PMYd8YFE5XkBIpJyriX3vMIYrLpBeCS_o7RkXA=s64",
      "userId": "04193769736923210432"
     },
     "user_tz": -540
    },
    "id": "y6R4rt_GRz15",
    "outputId": "286d4c73-c183-4611-f819-43d0b56955f0"
   },
   "outputs": [
    {
     "name": "stderr",
     "output_type": "stream",
     "text": [
      "/usr/local/lib/python3.7/dist-packages/sklearn/utils/validation.py:993: DataConversionWarning: A column-vector y was passed when a 1d array was expected. Please change the shape of y to (n_samples, ), for example using ravel().\n",
      "  y = column_or_1d(y, warn=True)\n"
     ]
    },
    {
     "data": {
      "text/plain": [
       "SVR(epsilon=0.5, kernel='linear')"
      ]
     },
     "execution_count": 11,
     "metadata": {},
     "output_type": "execute_result"
    }
   ],
   "source": [
    "from sklearn.svm import SVR\n",
    "regressor = SVR(kernel = 'linear', epsilon=0.5) # イプシロン\n",
    "regressor.fit(X, y)\n",
    "\n",
    "\"\"\"\n",
    "インプシロンとは\n",
    "- 誤差を許容するマージンの幅\n",
    "- 予測値と実際の値の誤差が ε以内であればペナルティを課さない というルール\n",
    "- 通常の回帰では、予測値と実際の値の誤差を最小化することを目的とします。しかし、SVRでは ある程度の誤差（ε以内）は重要ではない とみなし、それ以上の誤差だけを最適化するという考え方を取ります。\n",
    "\"\"\""
   ]
  },
  {
   "cell_type": "markdown",
   "metadata": {
    "id": "zzedFlUISSu_"
   },
   "source": [
    "## 結果の可視化"
   ]
  },
  {
   "cell_type": "code",
   "execution_count": 13,
   "metadata": {
    "colab": {
     "base_uri": "https://localhost:8080/",
     "height": 265
    },
    "executionInfo": {
     "elapsed": 800,
     "status": "ok",
     "timestamp": 1647625381377,
     "user": {
      "displayName": "大橋亮太",
      "photoUrl": "https://lh3.googleusercontent.com/a-/AOh14Gh-lJGJpXaEe7P0nfZiM3FiGRZLnhBN8vc08yQYdGfY5lGtNmUi-8eZOjKBByA_oFCLyXs64lrRv-aqLIn0VccwLV99vhg_LXUnqfsog979EyiGzyP957HjcdIlw_G8_hHKcPXGF9ld6_Cj1nwJbUOgdBJVmeymacNjPBtgZMn_HMW1dORhZ_2FsHOixYtgVX6HPFrs5VhMsnWcpYLdOLjxahMjHZgLh4D51QP4oDEQohzuehklpgiu-cyRX-n0z5hkOPy7ZbqV3bKzR2gMVVXE5Pn5UcWzvJZct1emgRilWLZ7MyHUmSmDr9UyX9TpNWxBEhK-mIMHtSBiNlyA6g0yG8d3CtSpxEfcjRqWsw1hkaqaVauU93JPVVt42uso8DkSSOH1OCwfEJDV13JbFIscLnqyLMZHpccf4OJEUTRNEI11JO9994e45Vt9at54sv624WyuJInoLf8x3B1YOeZWQ24_DLS_Va1IWmtkAsH7nVOtBLT4hih_kOC-74lmzFzdnom8tZ5OkQnvoykSlsZROSZv8FCtnUtiNoYam3H0bH-b98awmrPDhkMGX7IIK3hrrPkrdtj4gOVjmiPJTJkVe9bKO7MjtbUAX8h7AcifEg_-2rqO3ozoptaL9Oa6VHH0clJWz1xUMqrqm-SPXHJjEgqJ0h6sVWbDqpXDbWFpVzNjTHPg8DLSgYpzs0BFHf2tlbJL16guDdoU9sD_yX2JlSHECWv6PMYd8YFE5XkBIpJyriX3vMIYrLpBeCS_o7RkXA=s64",
      "userId": "04193769736923210432"
     },
     "user_tz": -540
    },
    "id": "OWPRGsKpSW9U",
    "outputId": "28576262-fb73-401c-fd23-e44b94ff0cca"
   },
   "outputs": [
    {
     "data": {
      "image/png": "[encoded data removed]",
      "text/plain": [
       "<Figure size 432x288 with 1 Axes>"
      ]
     },
     "metadata": {
      "needs_background": "light"
     },
     "output_type": "display_data"
    }
   ],
   "source": [
    "plt.scatter(sc_X.inverse_transform(X), sc_y.inverse_transform(y), color = 'red')\n",
    "plt.plot(sc_X.inverse_transform(X).reshape(-1,1), sc_y.inverse_transform(regressor.predict(X).reshape(-1,1)), color = 'blue')\n",
    "plt.show()"
   ]
  },
  {
   "cell_type": "code",
   "execution_count": 12,
   "metadata": {
    "executionInfo": {
     "elapsed": 2,
     "status": "ok",
     "timestamp": 1647625327109,
     "user": {
      "displayName": "大橋亮太",
      "photoUrl": "https://lh3.googleusercontent.com/a-/AOh14Gh-lJGJpXaEe7P0nfZiM3FiGRZLnhBN8vc08yQYdGfY5lGtNmUi-8eZOjKBByA_oFCLyXs64lrRv-aqLIn0VccwLV99vhg_LXUnqfsog979EyiGzyP957HjcdIlw_G8_hHKcPXGF9ld6_Cj1nwJbUOgdBJVmeymacNjPBtgZMn_HMW1dORhZ_2FsHOixYtgVX6HPFrs5VhMsnWcpYLdOLjxahMjHZgLh4D51QP4oDEQohzuehklpgiu-cyRX-n0z5hkOPy7ZbqV3bKzR2gMVVXE5Pn5UcWzvJZct1emgRilWLZ7MyHUmSmDr9UyX9TpNWxBEhK-mIMHtSBiNlyA6g0yG8d3CtSpxEfcjRqWsw1hkaqaVauU93JPVVt42uso8DkSSOH1OCwfEJDV13JbFIscLnqyLMZHpccf4OJEUTRNEI11JO9994e45Vt9at54sv624WyuJInoLf8x3B1YOeZWQ24_DLS_Va1IWmtkAsH7nVOtBLT4hih_kOC-74lmzFzdnom8tZ5OkQnvoykSlsZROSZv8FCtnUtiNoYam3H0bH-b98awmrPDhkMGX7IIK3hrrPkrdtj4gOVjmiPJTJkVe9bKO7MjtbUAX8h7AcifEg_-2rqO3ozoptaL9Oa6VHH0clJWz1xUMqrqm-SPXHJjEgqJ0h6sVWbDqpXDbWFpVzNjTHPg8DLSgYpzs0BFHf2tlbJL16guDdoU9sD_yX2JlSHECWv6PMYd8YFE5XkBIpJyriX3vMIYrLpBeCS_o7RkXA=s64",
      "userId": "04193769736923210432"
     },
     "user_tz": -540
    },
    "id": "_TzXAPAERbVv"
   },
   "outputs": [],
   "source": []
  }
 ],
 "metadata": {
  "colab": {
   "collapsed_sections": [],
   "name": "support_vector_regression2.ipynb",
   "provenance": []
  },
  "kernelspec": {
   "display_name": "Python 3",
   "name": "python3"
  },
  "language_info": {
   "codemirror_mode": {
    "name": "ipython",
    "version": 3
   },
   "file_extension": ".py",
   "mimetype": "text/x-python",
   "name": "python",
   "nbconvert_exporter": "python",
   "pygments_lexer": "ipython3",
   "version": "3.12.2"
  }
 },
 "nbformat": 4,
 "nbformat_minor": 0
}
