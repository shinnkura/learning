{
  "cells": [
    {
      "cell_type": "markdown",
      "metadata": {
        "colab_type": "text",
        "id": "view-in-github"
      },
      "source": [
        "<a href=\"https://colab.research.google.com/github/yukinaga/twitter_bot/blob/master/section_4/01_get_data.ipynb\" target=\"_parent\"><img src=\"https://colab.research.google.com/assets/colab-badge.svg\" alt=\"Open In Colab\"/></a>"
      ]
    },
    {
      "cell_type": "markdown",
      "metadata": {
        "id": "79Jf_TvnM5J-"
      },
      "source": [
        "# 対話データの作成\n",
        "訓練用の対話データを読み込み、適切な形に整えて保存します。"
      ]
    },
    {
      "cell_type": "markdown",
      "metadata": {
        "id": "KcHOX9LyZc2g"
      },
      "source": [
        "## Google ドライブとの連携  \n",
        "以下のコードを実行し、認証コードを使用してGoogle ドライブをマウントします。"
      ]
    },
    {
      "cell_type": "code",
      "execution_count": null,
      "metadata": {
        "id": "7h7BA67Ed5wT",
        "vscode": {
          "languageId": "python"
        }
      },
      "outputs": [],
      "source": [
        "from google.colab import drive\n",
        "drive.mount('/content/drive/')"
      ]
    },
    {
      "attachments": {},
      "cell_type": "markdown",
      "metadata": {
        "id": "OU0_B6zzsTJB"
      },
      "source": [
        "## 対話文の取得\n",
        "雑談対話コーパス「projectnextnlp-chat-dialogue-corpus.zip」をダウンロードします。  \n",
        "  \n",
        "> Copyright (c) 2015 Project Next NLP 対話タスク 参加者一同  \n",
        "> https://drive.google.com/file/d/14crv3m0Jx8Cx_lwdLY4pyzbxQAypw6jZ/view?usp=sharing\n",
        "> Released under the MIT license\n",
        "\n",
        "解凍したフォルダをGoogle ドライブにアップします。  \n",
        "フォルダからjsonファイルを読み込み、対話文として成り立っている文章を取り出してリストに格納します。  \n",
        "\n"
      ]
    },
    {
      "cell_type": "code",
      "execution_count": null,
      "metadata": {
        "id": "eoPANR3zmi7m",
        "vscode": {
          "languageId": "python"
        }
      },
      "outputs": [],
      "source": [
        "import glob  # ファイルの取得に使用\n",
        "import json  # jsonファイルの読み込みに使用\n",
        "\n",
        "path = \"/content/drive/My Drive/live_ai_data/projectnextnlp-chat-dialogue-corpus/json\"  # フォルダの場所を指定\n",
        "\n",
        "files = glob.glob(path + \"/*/*.json\")  # ファイルの一覧\n",
        "dialogues = []  # 複数の対話文を格納するリスト\n",
        "file_count= 0  # ファイル数のカウント\n",
        "for file in files:\n",
        "    with open(file, \"r\") as f:\n",
        "        json_dic = json.load(f)\n",
        "        dialogue = []  # 単一の対話\n",
        "        for turn in json_dic[\"turns\"]:\n",
        "            annotations = turn[\"annotations\"]  # 注釈\n",
        "            speaker = turn[\"speaker\"]  # 発言者\n",
        "            utterance = turn[\"utterance\"]  # 発言\n",
        "\n",
        "            if speaker==\"U\":  # 発言者が人間であれば\n",
        "                dialogue.append(utterance) \n",
        "            else:  # 発言者がシステムであれば\n",
        "                is_wrong = False\n",
        "                for annotation in annotations:\n",
        "                    breakdown = annotation[\"breakdown\"]  # 分類\n",
        "                    if breakdown==\"X\":  # 1つでも不適切評価があれば\n",
        "                        is_wrong = True\n",
        "                        break\n",
        "                if is_wrong:\n",
        "                    dialogue.clear()  # 対話をリセット\n",
        "                else:\n",
        "                    dialogue.append(utterance)  # 不適切評価が無ければ対話に追加\n",
        "            \n",
        "            if len(dialogue) >= 2:  # 単一の会話が成立すれば\n",
        "                dialogues.append(dialogue.copy())\n",
        "                dialogue.pop(0)  # 最初の要素を削除\n",
        "\n",
        "    file_count += 1\n",
        "    if file_count%100 == 0:\n",
        "        print(\"files:\", file_count, \"dialogues\", len(dialogues))\n",
        "\n",
        "print(\"files:\", file_count, \"dialogues\", len(dialogues))"
      ]
    },
    {
      "cell_type": "markdown",
      "metadata": {
        "id": "uoEvG4iHeF1D"
      },
      "source": [
        "## 対話の表示\n",
        "リストに格納された対話の、最初の100ペアを表示します。"
      ]
    },
    {
      "cell_type": "code",
      "execution_count": null,
      "metadata": {
        "id": "rjxful50ruBu",
        "vscode": {
          "languageId": "python"
        }
      },
      "outputs": [],
      "source": [
        "for dialogue in dialogues[:100]:\n",
        "    print(dialogue)"
      ]
    },
    {
      "cell_type": "markdown",
      "metadata": {
        "id": "LADy70wOgyXg"
      },
      "source": [
        "## 対話データの保存\n",
        "対話データをcsvファイルとしてGoogle Driveに保存します。"
      ]
    },
    {
      "cell_type": "code",
      "execution_count": null,
      "metadata": {
        "id": "fIyvN2MT4Unl",
        "vscode": {
          "languageId": "python"
        }
      },
      "outputs": [],
      "source": [
        "import csv\n",
        "from sklearn.model_selection import train_test_split\n",
        "\n",
        "dialogues_train, dialogues_test =  train_test_split(dialogues, shuffle=True)\n",
        "path = \"/content/drive/My Drive/live_ai_data/\"  # 保存場所\n",
        "\n",
        "with open(path+\"dialogues_train.csv\", \"w\") as f:\n",
        "    writer = csv.writer(f)\n",
        "    writer.writerows(dialogues_train)\n",
        "\n",
        "with open(path+\"dialogues_test.csv\", \"w\") as f:\n",
        "    writer = csv.writer(f)\n",
        "    writer.writerows(dialogues_test)"
      ]
    }
  ],
  "metadata": {
    "colab": {
      "authorship_tag": "ABX9TyMfiMeTxZOHcjn1ymA9H5k+",
      "collapsed_sections": [],
      "include_colab_link": true,
      "name": "01_get_data.ipynb",
      "provenance": []
    },
    "kernelspec": {
      "display_name": "Python 3",
      "name": "python3"
    }
  },
  "nbformat": 4,
  "nbformat_minor": 0
}
